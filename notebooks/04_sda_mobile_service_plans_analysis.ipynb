{
 "cells": [
  {
   "cell_type": "markdown",
   "id": "911331c4",
   "metadata": {},
   "source": [
    "#### Statistical Data Analysis\n",
    "Dataset: \n",
    "\n",
    "- _revenue_total\n",
    "\n",
    "Author: Luis Sergio Pastrana Lemus  \n",
    "Date: 2025-05-14"
   ]
  },
  {
   "cell_type": "markdown",
   "id": "70ebb733",
   "metadata": {},
   "source": [
    "# Statistical Data Analysis – Purchasing Activity Dataset"
   ]
  },
  {
   "cell_type": "markdown",
   "id": "8aa46ca9",
   "metadata": {},
   "source": [
    "## __1. Libraries__"
   ]
  },
  {
   "cell_type": "code",
   "execution_count": 6,
   "id": "9a1c1750",
   "metadata": {},
   "outputs": [],
   "source": [
    "from IPython.display import display, HTML\n",
    "import os\n",
    "import pandas as pd\n",
    "from pathlib import Path\n",
    "import scipy.stats as st\n",
    "from scipy.stats import ttest_ind\n",
    "import sys\n",
    "\n",
    "\n",
    "# Define project root dynamically, gets the current directory from whick the notebook belongs and moves one level upper\n",
    "project_root = Path.cwd().parent\n",
    "\n",
    "# Add src to sys.path if it is not already\n",
    "if str(project_root) not in sys.path:\n",
    "    sys.path.append(str(project_root))\n",
    "\n",
    "# Import function directly (more controlled than import *)\n",
    "from src import *"
   ]
  },
  {
   "cell_type": "markdown",
   "id": "b2219c83",
   "metadata": {},
   "source": [
    "## __2. Path to Data file__"
   ]
  },
  {
   "cell_type": "code",
   "execution_count": 2,
   "id": "d7fa5a07",
   "metadata": {},
   "outputs": [],
   "source": [
    "# Build route to data file and upload\n",
    "data_file_path = project_root / \"data\" / \"processed\" / \"activity\"\n",
    "df_revenue = load_dataset_from_csv(data_file_path, \"revenue_total.csv\", sep=',', header='infer')\n"
   ]
  },
  {
   "cell_type": "markdown",
   "id": "39cb9aa4",
   "metadata": {},
   "source": [
    "## __3. Statistical Data Analysis__"
   ]
  },
  {
   "cell_type": "markdown",
   "id": "d1f217d4",
   "metadata": {},
   "source": [
    "### 3.1  Inferential Tests\n",
    "\n",
    "Hypotheses: The average revenues from Ultimate and Surf calling plan users are different, The average revenue of users in the NY-NJ area is different from that of users in other regions"
   ]
  },
  {
   "cell_type": "markdown",
   "id": "267aa045",
   "metadata": {},
   "source": [
    "#### 3.1.1  Hypotheses testing: Ultimate and Surf plans revenues are different"
   ]
  },
  {
   "cell_type": "code",
   "execution_count": null,
   "id": "3efc4747",
   "metadata": {},
   "outputs": [],
   "source": [
    "# Hypothesis: Earlier added to the cart products are reordered more frequently than those which are added later to the cart.\n",
    "\n",
    "# 1. Hypotheses H0, H1\n",
    "# H0: Average revenue of the Surf plan and the Ultimate plan are equal (==)\n",
    "# H1: Average revenue of the Surf plan and the Ultimate plan are different (!=)\n",
    "\n",
    "# Prepare data by plans\n",
    "surf_revenue = df_revenue.loc[df_revenue['plan'] == 'surf', 'month_revenue_total']\n",
    "ultimate_revenue = df_revenue.loc[df_revenue['plan'] == 'ultimate', 'month_revenue_total']\n",
    "\n",
    "# 2. Specify Significance or Confidence\n",
    "# alpha = 5%\n",
    "# confidence = 95%\n",
    "\n",
    "alpha = 0.05"
   ]
  },
  {
   "cell_type": "code",
   "execution_count": 4,
   "id": "519cb8b0",
   "metadata": {},
   "outputs": [
    {
     "data": {
      "text/html": [
       "<b>Levene's Test</b> – Statistic: 400.6448, P-value: 0.0000"
      ],
      "text/plain": [
       "<IPython.core.display.HTML object>"
      ]
     },
     "metadata": {},
     "output_type": "display_data"
    },
    {
     "data": {
      "text/html": [
       "<i>Null Hypothesis H₀ is rejected: the variances are different → use equal_var=False</i>"
      ],
      "text/plain": [
       "<IPython.core.display.HTML object>"
      ]
     },
     "metadata": {},
     "output_type": "display_data"
    }
   ],
   "source": [
    "# Levene's test, to ensure that the variances of different samples are equal. \n",
    "# Preventing Tests Like ANOVA and t-Tests from Being Incorrect\n",
    "\n",
    "levene_stat, levene_p = st.levene(surf_revenue, ultimate_revenue)\n",
    "display(HTML(f\"<b>Levene's Test</b> – Statistic: {levene_stat:.4f}, P-value: {levene_p:.4f}\"))\n",
    "\n",
    "# Determining Equality of Variances\n",
    "if levene_p < 0.05:\n",
    "    equal_var = False\n",
    "    display(HTML(\"<i>Null Hypothesis H₀ is rejected: the variances are different → use equal_var=False</i>\"))\n",
    "else:\n",
    "    equal_var = True\n",
    "    display(HTML(\"<i>Null Hypothesis H₀ is not rejected: the variances are equal → use equal_var=True</i>\"))"
   ]
  },
  {
   "cell_type": "code",
   "execution_count": 8,
   "id": "20a6df4b",
   "metadata": {},
   "outputs": [
    {
     "data": {
      "text/html": [
       "T-statistic: <b>-7.361065154667772</b>"
      ],
      "text/plain": [
       "<IPython.core.display.HTML object>"
      ]
     },
     "metadata": {},
     "output_type": "display_data"
    },
    {
     "data": {
      "text/html": [
       "P-value: <b>0.000000000000273</b>"
      ],
      "text/plain": [
       "<IPython.core.display.HTML object>"
      ]
     },
     "metadata": {},
     "output_type": "display_data"
    },
    {
     "data": {
      "text/html": [
       "The <i>'null hypothesis' is rejected</i>, <b>accepting 'alternative hypothesis'</b>, because there is sufficient statistical evidence to affirm that <b>The average revenues across the plans differ significantly.</b>"
      ],
      "text/plain": [
       "<IPython.core.display.HTML object>"
      ]
     },
     "metadata": {},
     "output_type": "display_data"
    }
   ],
   "source": [
    "# 3. Calculate critical and test values, define acceptance and rejection zones\n",
    "\n",
    "t_stat, p_val = ttest_ind(surf_revenue, ultimate_revenue, equal_var=False)\n",
    "\n",
    "display(HTML(f\"T-statistic: <b>{t_stat:.15f}</b>\"))\n",
    "display(HTML(f\"P-value: <b>{p_val:.15f}</b>\"))\n",
    "\n",
    "# 4. Decision and Conclusion\n",
    "\n",
    "if p_val < alpha:\n",
    "    display(HTML(\"The <i>'null hypothesis' is rejected</i>, <b>accepting 'alternative hypothesis'</b>, because there is sufficient statistical evidence to affirm that <b>The average revenues across the plans differ significantly.</b>\"))\n",
    "else:\n",
    "    display(HTML(\"The <i>'null hypothesis' is not rejected</i>, <b>accepting 'null hypothesis'</b>, indicating insufficient evidence to conclude that <b>The average revenues across the plans differ significantly</b>.\"))"
   ]
  },
  {
   "cell_type": "markdown",
   "id": "f0751e5c",
   "metadata": {},
   "source": [
    "#### Hypothesis Test validation"
   ]
  },
  {
   "cell_type": "code",
   "execution_count": 13,
   "id": "bfd422b5",
   "metadata": {},
   "outputs": [
    {
     "data": {
      "text/html": [
       "> <b>Total revenue</b> from Megaline services: \n",
       "\n"
      ],
      "text/plain": [
       "<IPython.core.display.HTML object>"
      ]
     },
     "metadata": {},
     "output_type": "display_data"
    },
    {
     "name": "stdout",
     "output_type": "stream",
     "text": [
      "count    2293.000000\n",
      "mean       64.873676\n",
      "std        47.417238\n",
      "min        20.000000\n",
      "25%        25.340000\n",
      "50%        70.000000\n",
      "75%        70.000000\n",
      "max       596.770000\n",
      "Name: month_revenue_total, dtype: float64\n"
     ]
    }
   ],
   "source": [
    "display(HTML(f\"> <b>Total revenue</b> from Megaline services: \\n\\n\"))\n",
    "print(df_revenue[\"month_revenue_total\"].describe())"
   ]
  },
  {
   "cell_type": "code",
   "execution_count": 19,
   "id": "873330db",
   "metadata": {},
   "outputs": [
    {
     "data": {
      "text/html": [
       "> Revenue, plan <b>(Surf)</b>, for Megaline services: \n",
       "\n"
      ],
      "text/plain": [
       "<IPython.core.display.HTML object>"
      ]
     },
     "metadata": {},
     "output_type": "display_data"
    },
    {
     "name": "stdout",
     "output_type": "stream",
     "text": [
      "count    1573.000000\n",
      "mean       61.437495\n",
      "std        56.374580\n",
      "min        20.000000\n",
      "25%        20.000000\n",
      "50%        40.330000\n",
      "75%        86.400000\n",
      "max       596.770000\n",
      "Name: month_revenue_total, dtype: float64\n"
     ]
    }
   ],
   "source": [
    "display(HTML(f\"> Revenue, plan <b>(Surf)</b>, for Megaline services: \\n\\n\"))\n",
    "print(df_revenue.loc[df_revenue[\"plan\"] == 'surf', 'month_revenue_total'].describe())"
   ]
  },
  {
   "cell_type": "code",
   "execution_count": 21,
   "id": "8afd17f9",
   "metadata": {},
   "outputs": [
    {
     "data": {
      "text/html": [
       "> Revenue, plan <b>(Ultimate)</b>, for Megaline services: \n",
       "\n"
      ],
      "text/plain": [
       "<IPython.core.display.HTML object>"
      ]
     },
     "metadata": {},
     "output_type": "display_data"
    },
    {
     "name": "stdout",
     "output_type": "stream",
     "text": [
      "count    720.000000\n",
      "mean      72.380778\n",
      "std       11.687146\n",
      "min       70.000000\n",
      "25%       70.000000\n",
      "50%       70.000000\n",
      "75%       70.000000\n",
      "max      183.960000\n",
      "Name: month_revenue_total, dtype: float64\n"
     ]
    }
   ],
   "source": [
    "display(HTML(f\"> Revenue, plan <b>(Ultimate)</b>, for Megaline services: \\n\\n\"))\n",
    "print(df_revenue.loc[df_revenue[\"plan\"] == 'ultimate', 'month_revenue_total'].describe())"
   ]
  },
  {
   "cell_type": "markdown",
   "id": "974a44e5",
   "metadata": {},
   "source": [
    "#### 3.1.2  Hypotheses testing: The average revenue of users in the NY-NJ area is different from that of users in other regions."
   ]
  },
  {
   "cell_type": "code",
   "execution_count": 27,
   "id": "afcf93d5",
   "metadata": {},
   "outputs": [],
   "source": [
    "# Hypothesis: Users revenue in the NY-NJ area is different from that of users in other regions.\n",
    "\n",
    "# 1. Hypotheses H0, H1\n",
    "# H0: Average users revenue in NY-NJ area and users revenue in other regions are equal (==)\n",
    "# H1: Average users revenue in NY-NJ area and users revenue in other regionsn are different (!=)\n",
    "\n",
    "# Prepare data by plans\n",
    "ny_nj_revenue = df_revenue[df_revenue['city'] == 'new_york_newark_jersey_city,_ny_nj_pa_msa']['month_revenue_total']\n",
    "other_revenue = df_revenue[df_revenue['city'] != 'new_york_newark_jersey_city,_ny_nj_pa_msa']['month_revenue_total']\n",
    "\n",
    "# 2. Specify Significance or Confidence\n",
    "# alpha = 5%\n",
    "# confidence = 95%\n",
    "\n",
    "alpha = 0.05"
   ]
  },
  {
   "cell_type": "code",
   "execution_count": 28,
   "id": "d43b3330",
   "metadata": {},
   "outputs": [
    {
     "data": {
      "text/html": [
       "<b>Levene's Test</b> – Statistic: 2.3253, P-value: 0.1274"
      ],
      "text/plain": [
       "<IPython.core.display.HTML object>"
      ]
     },
     "metadata": {},
     "output_type": "display_data"
    },
    {
     "data": {
      "text/html": [
       "<i>Null Hypothesis H₀ is not rejected: the variances are equal → use equal_var=True</i>"
      ],
      "text/plain": [
       "<IPython.core.display.HTML object>"
      ]
     },
     "metadata": {},
     "output_type": "display_data"
    }
   ],
   "source": [
    "# Levene's test, to ensure that the variances of different samples are equal. \n",
    "# Preventing Tests Like ANOVA and t-Tests from Being Incorrect\n",
    "\n",
    "levene_stat, levene_p = st.levene(ny_nj_revenue, other_revenue)\n",
    "display(HTML(f\"<b>Levene's Test</b> – Statistic: {levene_stat:.4f}, P-value: {levene_p:.4f}\"))\n",
    "\n",
    "# Determining Equality of Variances\n",
    "if levene_p < 0.05:\n",
    "    equal_var = False\n",
    "    display(HTML(\"<i>Null Hypothesis H₀ is rejected: the variances are different → use equal_var=False</i>\"))\n",
    "else:\n",
    "    equal_var = True\n",
    "    display(HTML(\"<i>Null Hypothesis H₀ is not rejected: the variances are equal → use equal_var=True</i>\"))"
   ]
  },
  {
   "cell_type": "code",
   "execution_count": 29,
   "id": "252a541c",
   "metadata": {},
   "outputs": [
    {
     "data": {
      "text/html": [
       "T-statistic: <b>-1.854928233692821</b>"
      ],
      "text/plain": [
       "<IPython.core.display.HTML object>"
      ]
     },
     "metadata": {},
     "output_type": "display_data"
    },
    {
     "data": {
      "text/html": [
       "P-value: <b>0.063734862815648</b>"
      ],
      "text/plain": [
       "<IPython.core.display.HTML object>"
      ]
     },
     "metadata": {},
     "output_type": "display_data"
    },
    {
     "data": {
      "text/html": [
       "The <i>'null hypothesis' is not rejected</i>, <b>accepting 'null hypothesis'</b>, indicating insufficient evidence to conclude that <b>The average revenues across locations differ significantly</b>."
      ],
      "text/plain": [
       "<IPython.core.display.HTML object>"
      ]
     },
     "metadata": {},
     "output_type": "display_data"
    }
   ],
   "source": [
    "# 3. Calculate critical and test values, define acceptance and rejection zones\n",
    "\n",
    "t_stat, p_val = ttest_ind(ny_nj_revenue, other_revenue, equal_var=True)\n",
    "\n",
    "display(HTML(f\"T-statistic: <b>{t_stat:.15f}</b>\"))\n",
    "display(HTML(f\"P-value: <b>{p_val:.15f}</b>\"))\n",
    "\n",
    "# 4. Decision and Conclusion\n",
    "\n",
    "if p_val < alpha:\n",
    "    display(HTML(\"The <i>'null hypothesis' is rejected</i>, <b>accepting 'alternative hypothesis'</b>, because there is sufficient statistical evidence to affirm that <b>The average revenues across locations differ significantly.</b>\"))\n",
    "else:\n",
    "    display(HTML(\"The <i>'null hypothesis' is not rejected</i>, <b>accepting 'null hypothesis'</b>, indicating insufficient evidence to conclude that <b>The average revenues across locations differ significantly</b>.\"))"
   ]
  },
  {
   "cell_type": "markdown",
   "id": "26c99651",
   "metadata": {},
   "source": [
    "#### Hypothesis Test validation"
   ]
  },
  {
   "cell_type": "code",
   "execution_count": 32,
   "id": "58df4fc6",
   "metadata": {},
   "outputs": [
    {
     "data": {
      "text/html": [
       "> <b>NY - NJ</b> area revenue from Megaline services: \n",
       "\n"
      ],
      "text/plain": [
       "<IPython.core.display.HTML object>"
      ]
     },
     "metadata": {},
     "output_type": "display_data"
    },
    {
     "name": "stdout",
     "output_type": "stream",
     "text": [
      "count    377.000000\n",
      "mean      60.735040\n",
      "std       44.302534\n",
      "min       20.000000\n",
      "25%       20.450000\n",
      "50%       56.400000\n",
      "75%       76.400000\n",
      "max      286.400000\n",
      "Name: month_revenue_total, dtype: float64\n"
     ]
    }
   ],
   "source": [
    "display(HTML(f\"> <b>NY - NJ</b> area revenue from Megaline services: \\n\\n\"))\n",
    "print(df_revenue.loc[df_revenue[\"city\"] == 'new_york_newark_jersey_city,_ny_nj_pa_msa', 'month_revenue_total'].describe())"
   ]
  },
  {
   "cell_type": "code",
   "execution_count": 34,
   "id": "46c5dc82",
   "metadata": {},
   "outputs": [
    {
     "data": {
      "text/html": [
       "> <b>Other</b> area revenue from Megaline services: \n",
       "\n"
      ],
      "text/plain": [
       "<IPython.core.display.HTML object>"
      ]
     },
     "metadata": {},
     "output_type": "display_data"
    },
    {
     "name": "stdout",
     "output_type": "stream",
     "text": [
      "count    1916.000000\n",
      "mean       65.688011\n",
      "std        47.975252\n",
      "min        20.000000\n",
      "25%        26.400000\n",
      "50%        70.000000\n",
      "75%        70.000000\n",
      "max       596.770000\n",
      "Name: month_revenue_total, dtype: float64\n"
     ]
    }
   ],
   "source": [
    "display(HTML(f\"> <b>Other</b> area revenue from Megaline services: \\n\\n\"))\n",
    "print(df_revenue.loc[df_revenue[\"city\"] != 'new_york_newark_jersey_city,_ny_nj_pa_msa', 'month_revenue_total'].describe())"
   ]
  },
  {
   "cell_type": "markdown",
   "id": "b27f1c3f",
   "metadata": {},
   "source": [
    "## 4. Conclusion of Statistical Data Analysis – Order and Product activity\n",
    "\n",
    "After an exhaustive exploratory and statistical analysis of user behavior and the profitability of the Megaline plan, the following conclusions were reached:\n",
    "\n",
    "1. User behavior: Despite the differences in the limits included, Surf and Ultimate users show similar patterns in call, text, and internet usage. Surf users tend to exceed data limits more frequently, which contributes to generating additional revenue.\n",
    "\n",
    "2. Plan comparison: While the Ultimate plan offers more generous allowances, its added value is underutilized. The Surf plan generates more revenue from overages, especially in internet traffic.\n",
    "\n",
    "3. Demographic patterns: The majority of high-usage (and high-income) users are concentrated in the New York and Newark areas and are over 33 years old, suggesting professional or urban usage profiles.\n",
    "\n",
    "4. Statistical hypothesis testing: The test between the mean incomes of the Surf and Ultimate plans confirmed differences at a 95% confidence level. Therefore, there is a difference in usage behavior for Megaline services between Surf and Ultimate plan users, with the Surf plan generating the most revenue for Megaline. Additionally, it was also found that the New York and New Jersey area generates more revenue than the rest of the areas where Megaline provides services.\n",
    "\n",
    "Recommendation: Megaline could consider:\n",
    "\n",
    "Promoting the Surf plan with incentives for intensive internet users.\n",
    "\n",
    "Reevaluating the Ultimate plan's price or the benefits it offers to increase its perceived value.\n",
    "\n",
    "Focusing marketing strategies on urban centers like New York and New Jersey, where engagement and revenue are higher."
   ]
  }
 ],
 "metadata": {
  "kernelspec": {
   "display_name": "Win11_Python-PipVenv-Github-Hmb7GD39",
   "language": "python",
   "name": "python3"
  },
  "language_info": {
   "codemirror_mode": {
    "name": "ipython",
    "version": 3
   },
   "file_extension": ".py",
   "mimetype": "text/x-python",
   "name": "python",
   "nbconvert_exporter": "python",
   "pygments_lexer": "ipython3",
   "version": "3.13.2"
  }
 },
 "nbformat": 4,
 "nbformat_minor": 5
}
