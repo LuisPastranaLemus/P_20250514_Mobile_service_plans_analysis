{
 "cells": [
  {
   "cell_type": "markdown",
   "id": "911331c4",
   "metadata": {},
   "source": [
    "#### Statistical Data Analysis\n",
    "Dataset: \n",
    "\n",
    "- _aisles_clean.csv_\n",
    "- _departments_clean.csv_\n",
    "- _orders_clean.csv_\n",
    "- _order_products_clean.csv_\n",
    "- _products_clean_\n",
    "\n",
    "Author: Luis Sergio Pastrana Lemus  \n",
    "Date: 2025-05-05"
   ]
  },
  {
   "cell_type": "markdown",
   "id": "70ebb733",
   "metadata": {},
   "source": [
    "# Statistical Data Analysis – Purchasing Activity Dataset"
   ]
  },
  {
   "cell_type": "markdown",
   "id": "8aa46ca9",
   "metadata": {},
   "source": [
    "## __1. Libraries__"
   ]
  },
  {
   "cell_type": "code",
   "execution_count": 9,
   "id": "9a1c1750",
   "metadata": {},
   "outputs": [],
   "source": [
    "from IPython.display import display, HTML\n",
    "import os\n",
    "import pandas as pd\n",
    "from pathlib import Path\n",
    "import scipy.stats as st\n",
    "from scipy.stats import ttest_ind\n",
    "import sys\n",
    "\n",
    "\n",
    "# Define project root dynamically, gets the current directory from whick the notebook belongs and moves one level upper\n",
    "project_root = Path.cwd().parent\n",
    "\n",
    "# Add src to sys.path if it is not already\n",
    "if str(project_root) not in sys.path:\n",
    "    sys.path.append(str(project_root))\n",
    "\n",
    "# Import function directly (more controlled than import *)\n",
    "from src import *"
   ]
  },
  {
   "cell_type": "markdown",
   "id": "b2219c83",
   "metadata": {},
   "source": [
    "## __2. Path to Data file__"
   ]
  },
  {
   "cell_type": "code",
   "execution_count": 10,
   "id": "d7fa5a07",
   "metadata": {},
   "outputs": [],
   "source": [
    "# Build route to data file and upload\n",
    "data_file_path = project_root / \"data\" / \"processed\" / \"product_activity\"\n",
    "df_product_reorder_rate_by_position = load_dataset_from_csv(data_file_path, \"product_reorder_rate_by_position.csv\", sep=',', header='infer')\n"
   ]
  },
  {
   "cell_type": "markdown",
   "id": "39cb9aa4",
   "metadata": {},
   "source": [
    "## __3. Statistical Data Analysis__"
   ]
  },
  {
   "cell_type": "markdown",
   "id": "d1f217d4",
   "metadata": {},
   "source": [
    "### 3.1  Inferential Tests\n",
    "\n",
    "Hypothesis: “Do users who add products earlier to their cart reorder them more frequently than users who add them later?”"
   ]
  },
  {
   "cell_type": "markdown",
   "id": "267aa045",
   "metadata": {},
   "source": [
    "#### 3.1.1  Hypothesis testing: User activity varies by city"
   ]
  },
  {
   "cell_type": "code",
   "execution_count": 11,
   "id": "3efc4747",
   "metadata": {},
   "outputs": [],
   "source": [
    "# Hypothesis: Earlier added to the cart products are reordered more frequently than those which are added later to the cart.\n",
    "\n",
    "# 1. Propose Hypotheses H0, H1\n",
    "# H0: Earlier added to the cart products are reordered likewise than those which are added later to the cart, user purchase activity is the same (==)\n",
    "# H1: Earlier added to the cart products are reordered more frequently than those which are added later to the cart, user activity is greater (>)\n",
    "\n",
    "# Prepare data by city for t-test\n",
    "early_cart = df_product_reorder_rate_by_position[df_product_reorder_rate_by_position['add_to_cart_order'] <= 5]['reorder_rate']\n",
    "late_cart = df_product_reorder_rate_by_position[df_product_reorder_rate_by_position['add_to_cart_order'] > 5]['reorder_rate']\n",
    "\n",
    "# 2. Specify Significance or Confidence\n",
    "# alpha = 5%\n",
    "# confidence = 95%\n",
    "\n",
    "alpha = 0.05"
   ]
  },
  {
   "cell_type": "code",
   "execution_count": 12,
   "id": "519cb8b0",
   "metadata": {},
   "outputs": [
    {
     "data": {
      "text/html": [
       "<b>Levene's Test</b> – Statistic: 1.4132, P-value: 0.2391"
      ],
      "text/plain": [
       "<IPython.core.display.HTML object>"
      ]
     },
     "metadata": {},
     "output_type": "display_data"
    },
    {
     "data": {
      "text/html": [
       "<i>Null Hypothesis H₀ is not rejected: the variances are equal → use equal_var=True</i>"
      ],
      "text/plain": [
       "<IPython.core.display.HTML object>"
      ]
     },
     "metadata": {},
     "output_type": "display_data"
    }
   ],
   "source": [
    "# Levene's test, to ensure that the variances of different samples are equal. \n",
    "# Preventing Tests Like ANOVA and t-Tests from Being Incorrect\n",
    "\n",
    "levene_stat, levene_p = st.levene(early_cart, late_cart)\n",
    "display(HTML(f\"<b>Levene's Test</b> – Statistic: {levene_stat:.4f}, P-value: {levene_p:.4f}\"))\n",
    "\n",
    "# Determining Equality of Variances\n",
    "if levene_p < 0.05:\n",
    "    equal_var = False\n",
    "    display(HTML(\"<i>Null Hypothesis H₀ is rejected: the variances are different → use equal_var=False</i>\"))\n",
    "else:\n",
    "    equal_var = True\n",
    "    display(HTML(\"<i>Null Hypothesis H₀ is not rejected: the variances are equal → use equal_var=True</i>\"))"
   ]
  },
  {
   "cell_type": "code",
   "execution_count": 13,
   "id": "20a6df4b",
   "metadata": {},
   "outputs": [
    {
     "data": {
      "text/html": [
       "T-statistic: <b>8.2039</b>"
      ],
      "text/plain": [
       "<IPython.core.display.HTML object>"
      ]
     },
     "metadata": {},
     "output_type": "display_data"
    },
    {
     "data": {
      "text/html": [
       "P-value: <b>0.0000</b>"
      ],
      "text/plain": [
       "<IPython.core.display.HTML object>"
      ]
     },
     "metadata": {},
     "output_type": "display_data"
    },
    {
     "data": {
      "text/html": [
       "The <i>'null hypothesis' is rejected</i>, <b>accepting 'alternative hypothesis'</b>, because there is sufficient statistical evidence to affirm that <b>Early cart additions are more likely to be reordered.</b>"
      ],
      "text/plain": [
       "<IPython.core.display.HTML object>"
      ]
     },
     "metadata": {},
     "output_type": "display_data"
    }
   ],
   "source": [
    "# 3. Calculate critical and test values, define acceptance and rejection zones\n",
    "\n",
    "t_stat, p_val = ttest_ind(early_cart, late_cart, equal_var=True)\n",
    "\n",
    "display(HTML(f\"T-statistic: <b>{t_stat:.4f}</b>\"))\n",
    "display(HTML(f\"P-value: <b>{p_val:.4f}</b>\"))\n",
    "\n",
    "# 4. Decision and Conclusion\n",
    "\n",
    "if p_val < alpha:\n",
    "    display(HTML(\"The <i>'null hypothesis' is rejected</i>, <b>accepting 'alternative hypothesis'</b>, because there is sufficient statistical evidence to affirm that <b>Early cart additions are more likely to be reordered.</b>\"))\n",
    "else:\n",
    "    display(HTML(\"The <i>'null hypothesis' is not rejected</i>, <b>accepting 'null hypothesis'</b>, indicating insufficient evidence to conclude that <b>Early cart additions are reordered likewise those which are added later</b>.\"))"
   ]
  },
  {
   "cell_type": "markdown",
   "id": "b27f1c3f",
   "metadata": {},
   "source": [
    "## 4. Conclusion of Statistical Data Analysis – Order and Product activity\n",
    "\n",
    "The results of the two-sample t-test revealed a statistically significant difference between the reorder rates of products added early to the cart (positions 1–5) and those added later (positions 6+), with a p-value below the 0.05 threshold.\n",
    "\n",
    "This finding leads us to reject the null hypothesis, confirming that:\n",
    "\n",
    "🧠 Products added earlier in the cart are significantly more likely to be reordered than those added later.\n",
    "\n",
    "This reinforces the behavioral insight that early cart placement correlates with habitual purchasing. From a business perspective, this suggests that:\n",
    "\n",
    "Frequently reordered products tend to be mentally “top-of-mind” for users.\n",
    "\n",
    "Optimizing cart experiences and product positioning could positively influence reorder behavior.\n",
    "\n",
    "These products are strong candidates for featured placement, bundle offers, and inventory prioritization."
   ]
  }
 ],
 "metadata": {
  "kernelspec": {
   "display_name": "Win11_Python-Mature-PipVenv-Github-3.10",
   "language": "python",
   "name": "python3"
  },
  "language_info": {
   "codemirror_mode": {
    "name": "ipython",
    "version": 3
   },
   "file_extension": ".py",
   "mimetype": "text/x-python",
   "name": "python",
   "nbconvert_exporter": "python",
   "pygments_lexer": "ipython3",
   "version": "3.10.0"
  }
 },
 "nbformat": 4,
 "nbformat_minor": 5
}
