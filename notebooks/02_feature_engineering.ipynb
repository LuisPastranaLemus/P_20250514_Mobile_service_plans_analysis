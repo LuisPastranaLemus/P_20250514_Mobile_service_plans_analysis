{
 "cells": [
  {
   "cell_type": "markdown",
   "id": "7849e41b",
   "metadata": {},
   "source": [
    "#### Feature Engineering  \n",
    "\n",
    "Dataset: \n",
    "- _calls_clean.csv_\n",
    "- _internet_clean.csv_\n",
    "- _messages_clean.csv_\n",
    "- _plans_clean.csv_\n",
    "- _users_clean.csv_\n",
    "\n",
    "Author: Luis Sergio Pastrana Lemus  \n",
    "Date: 2025-05-14"
   ]
  },
  {
   "cell_type": "markdown",
   "id": "19e2428c",
   "metadata": {},
   "source": [
    "# Feature engineering – Purchasing Activity Dataset"
   ]
  },
  {
   "cell_type": "markdown",
   "id": "415af0e2",
   "metadata": {},
   "source": [
    "## __1. Libraries__"
   ]
  },
  {
   "cell_type": "code",
   "execution_count": 1,
   "id": "eacf5d9a",
   "metadata": {},
   "outputs": [],
   "source": [
    "from IPython.display import display, HTML\n",
    "from functools import partial\n",
    "import numpy as np\n",
    "import os\n",
    "import pandas as pd\n",
    "from pathlib import Path\n",
    "import sys\n",
    "\n",
    "# Define project root dynamically, gets the current directory from whick the notebook belongs and moves one level upper\n",
    "project_root = Path.cwd().parent\n",
    "\n",
    "# Add src to sys.path if it is not already\n",
    "if str(project_root) not in sys.path:\n",
    "    sys.path.append(str(project_root))\n",
    "\n",
    "# Import function directly (more controlled than import *)\n",
    "from src import *"
   ]
  },
  {
   "cell_type": "markdown",
   "id": "3be37b0b",
   "metadata": {},
   "source": [
    "## __2. Path to Data file__"
   ]
  },
  {
   "cell_type": "code",
   "execution_count": 2,
   "id": "7e7a75e0",
   "metadata": {},
   "outputs": [],
   "source": [
    "# Build route to data file and upload\n",
    "data_file_path = project_root / \"data\" / \"processed\" / \"clean\"\n",
    "df_calls = load_dataset_from_csv(data_file_path, \"calls_clean.csv\", sep=',', header='infer')\n",
    "df_internet = load_dataset_from_csv(data_file_path, \"internet_clean.csv\", sep=',', header='infer')\n",
    "df_messages = load_dataset_from_csv(data_file_path, \"messages_clean.csv\", sep=',', header='infer')\n",
    "df_plans = load_dataset_from_csv(data_file_path, \"plans_clean.csv\", sep=',', header='infer')\n",
    "df_users = load_dataset_from_csv(data_file_path, \"users_clean.csv\", sep=',', header='infer')\n"
   ]
  },
  {
   "cell_type": "code",
   "execution_count": 3,
   "id": "db15faef",
   "metadata": {},
   "outputs": [],
   "source": [
    "# Format notebook output\n",
    "format_notebook()"
   ]
  },
  {
   "cell_type": "markdown",
   "id": "1f213604",
   "metadata": {},
   "source": [
    "## 3 __Functions__"
   ]
  },
  {
   "cell_type": "code",
   "execution_count": 4,
   "id": "16edc9f9",
   "metadata": {},
   "outputs": [],
   "source": [
    "# Function for calculating the revenue per user\n",
    "def revenue(row, revenue_type, column):\n",
    "    # Plan parameters\n",
    "    plans = {\n",
    "        'surf': {\n",
    "            'base_fee': 20, 'minutes_limit': 500, 'messages_limit': 50, 'mb_limit': 15360,\n",
    "            'minute_over': 0.03, 'message_over': 0.03, 'mb_over': 0.01\n",
    "        },\n",
    "        'ultimate': {\n",
    "            'base_fee': 70, 'minutes_limit': 3000, 'messages_limit': 1000, 'mb_limit': 30720,\n",
    "            'minute_over': 0.01, 'message_over': 0.01, 'mb_over': 0.007\n",
    "        }\n",
    "    }\n",
    "    \n",
    "    # Basic validations\n",
    "\n",
    "    if revenue_type not in {'total', 'duration', 'messages', 'traffic'}:\n",
    "        display(HTML(f\"> <b>Invalid input</b>: <i>{revenue_type}</i>, correct options: (<b>'total', 'duration', 'messages', 'traffic'</b>)\"))\n",
    "\n",
    "    plan = plans[row['plan']]\n",
    "    if not plan:\n",
    "        display(HTML(f\"> Invalid plan: {row['plan']}, correct options: ('surf', 'ultimate')\"))\n",
    "    \n",
    "    # Calculate overages\n",
    "    if revenue_type == 'duration':\n",
    "        income_duration = max(0, row[column] - plan['minutes_limit']) * plan['minute_over']\n",
    "        return plan['base_fee'] + income_duration\n",
    "    elif revenue_type == 'messages':\n",
    "        income_messages = max(0, row[column] - plan['messages_limit']) * plan['message_over']\n",
    "        return plan['base_fee'] + income_messages\n",
    "    elif revenue_type == 'traffic':\n",
    "        income_traffic = max(0, row[column] - plan['mb_limit']) * plan['mb_over']\n",
    "        return plan['base_fee'] + income_traffic\n",
    "    elif revenue_type == 'total':\n",
    "        income_duration = max(0, row[column[0]] - plan['minutes_limit']) * plan['minute_over']\n",
    "        income_messages = max(0, row[column[1]] - plan['messages_limit']) * plan['message_over']\n",
    "        income_traffic = max(0, row[column[2]] - plan['mb_limit']) * plan['mb_over']\n",
    "        return plan['base_fee'] + income_duration + income_messages + income_traffic\n",
    "    else:\n",
    "        raise ValueError(f\"Invalid income_type: {revenue_type}\")\n",
    "\n"
   ]
  },
  {
   "cell_type": "markdown",
   "id": "c5bc07b2",
   "metadata": {},
   "source": [
    "## 4 __Casting to data types__"
   ]
  },
  {
   "cell_type": "markdown",
   "id": "2724341b",
   "metadata": {},
   "source": [
    "### 3.1 Casting to string data type"
   ]
  },
  {
   "cell_type": "code",
   "execution_count": 5,
   "id": "6df0cd4f",
   "metadata": {},
   "outputs": [
    {
     "data": {
      "text/plain": [
       "string[python]"
      ]
     },
     "execution_count": 5,
     "metadata": {},
     "output_type": "execute_result"
    }
   ],
   "source": [
    "# df_users 'first_name' to string\n",
    "df_users['first_name'] = df_users['first_name'].astype('string')\n",
    "df_users['first_name'].dtypes"
   ]
  },
  {
   "cell_type": "code",
   "execution_count": 6,
   "id": "78bbc0e7",
   "metadata": {},
   "outputs": [
    {
     "data": {
      "text/plain": [
       "string[python]"
      ]
     },
     "execution_count": 6,
     "metadata": {},
     "output_type": "execute_result"
    }
   ],
   "source": [
    "# df_users 'last_name' to string\n",
    "df_users['last_name'] = df_users['last_name'].astype('string')\n",
    "df_users['last_name'].dtypes"
   ]
  },
  {
   "cell_type": "code",
   "execution_count": 7,
   "id": "684700f2",
   "metadata": {},
   "outputs": [
    {
     "data": {
      "text/plain": [
       "string[python]"
      ]
     },
     "execution_count": 7,
     "metadata": {},
     "output_type": "execute_result"
    }
   ],
   "source": [
    "# df_users 'city to string\n",
    "df_users['city'] = df_users['city'].astype('string')\n",
    "df_users['city'].dtypes"
   ]
  },
  {
   "cell_type": "markdown",
   "id": "d0a6d354",
   "metadata": {},
   "source": [
    "### 3.2 Casting to category data type"
   ]
  },
  {
   "cell_type": "code",
   "execution_count": 8,
   "id": "f747ce83",
   "metadata": {},
   "outputs": [
    {
     "data": {
      "text/plain": [
       "CategoricalDtype(categories=['surf', 'ultimate'], ordered=False, categories_dtype=object)"
      ]
     },
     "execution_count": 8,
     "metadata": {},
     "output_type": "execute_result"
    }
   ],
   "source": [
    "# df_plans 'plan_name' to category\n",
    "df_plans['plan_name'] = df_plans['plan_name'].astype('category')\n",
    "df_plans['plan_name'].dtypes\n"
   ]
  },
  {
   "cell_type": "code",
   "execution_count": 9,
   "id": "11cebbdc",
   "metadata": {},
   "outputs": [
    {
     "data": {
      "text/plain": [
       "CategoricalDtype(categories=['surf', 'ultimate'], ordered=False, categories_dtype=object)"
      ]
     },
     "execution_count": 9,
     "metadata": {},
     "output_type": "execute_result"
    }
   ],
   "source": [
    "# df_users 'plan' to category\n",
    "df_users['plan'] = df_users['plan'].astype('category')\n",
    "df_users['plan'].dtypes"
   ]
  },
  {
   "cell_type": "markdown",
   "id": "530de5bc",
   "metadata": {},
   "source": [
    "### 3.3 Casting to datetime data type"
   ]
  },
  {
   "cell_type": "code",
   "execution_count": 10,
   "id": "7f97d129",
   "metadata": {},
   "outputs": [
    {
     "data": {
      "application/vnd.microsoft.datawrangler.viewer.v0+json": {
       "columns": [
        {
         "name": "index",
         "rawType": "object",
         "type": "string"
        },
        {
         "name": "0",
         "rawType": "object",
         "type": "unknown"
        }
       ],
       "ref": "53755469-fc2c-48a2-8994-60d3b6fc504b",
       "rows": [
        [
         "call_id",
         "object"
        ],
        [
         "user_id",
         "int64"
        ],
        [
         "call_date",
         "datetime64[ns, UTC]"
        ],
        [
         "duration",
         "float64"
        ]
       ],
       "shape": {
        "columns": 1,
        "rows": 4
       }
      },
      "text/plain": [
       "call_id                   object\n",
       "user_id                    int64\n",
       "call_date    datetime64[ns, UTC]\n",
       "duration                 float64\n",
       "dtype: object"
      ]
     },
     "execution_count": 10,
     "metadata": {},
     "output_type": "execute_result"
    }
   ],
   "source": [
    "# df_calls 'call_date' to datetime\n",
    "df_calls = normalize_datetime(df_calls, include=['call_date'], frmt='%Y-%m-%d')\n",
    "df_calls.dtypes"
   ]
  },
  {
   "cell_type": "code",
   "execution_count": 11,
   "id": "fd765cfa",
   "metadata": {},
   "outputs": [
    {
     "data": {
      "application/vnd.microsoft.datawrangler.viewer.v0+json": {
       "columns": [
        {
         "name": "index",
         "rawType": "object",
         "type": "string"
        },
        {
         "name": "0",
         "rawType": "object",
         "type": "unknown"
        }
       ],
       "ref": "c6774ea9-c1fb-4627-89b4-692607954731",
       "rows": [
        [
         "session_id",
         "object"
        ],
        [
         "user_id",
         "int64"
        ],
        [
         "session_date",
         "datetime64[ns, UTC]"
        ],
        [
         "mb_used",
         "float64"
        ]
       ],
       "shape": {
        "columns": 1,
        "rows": 4
       }
      },
      "text/plain": [
       "session_id                   object\n",
       "user_id                       int64\n",
       "session_date    datetime64[ns, UTC]\n",
       "mb_used                     float64\n",
       "dtype: object"
      ]
     },
     "execution_count": 11,
     "metadata": {},
     "output_type": "execute_result"
    }
   ],
   "source": [
    "# df_internet 'session_date' to datetime\n",
    "df_internet = normalize_datetime(df_internet, include=['session_date'], frmt='%Y-%m-%d')\n",
    "df_internet.dtypes"
   ]
  },
  {
   "cell_type": "code",
   "execution_count": 12,
   "id": "a6234487",
   "metadata": {},
   "outputs": [
    {
     "data": {
      "application/vnd.microsoft.datawrangler.viewer.v0+json": {
       "columns": [
        {
         "name": "index",
         "rawType": "object",
         "type": "string"
        },
        {
         "name": "0",
         "rawType": "object",
         "type": "unknown"
        }
       ],
       "ref": "5b173db1-581c-42d9-91a0-7d69d21ae01d",
       "rows": [
        [
         "message_id",
         "object"
        ],
        [
         "user_id",
         "int64"
        ],
        [
         "message_date",
         "datetime64[ns, UTC]"
        ]
       ],
       "shape": {
        "columns": 1,
        "rows": 3
       }
      },
      "text/plain": [
       "message_id                   object\n",
       "user_id                       int64\n",
       "message_date    datetime64[ns, UTC]\n",
       "dtype: object"
      ]
     },
     "execution_count": 12,
     "metadata": {},
     "output_type": "execute_result"
    }
   ],
   "source": [
    "# df_messages 'messages_date' to datetime\n",
    "df_messages = normalize_datetime(df_messages, include=['message_date'], frmt='%Y-%m-%d')\n",
    "df_messages.dtypes"
   ]
  },
  {
   "cell_type": "code",
   "execution_count": 13,
   "id": "e2a8fd26",
   "metadata": {},
   "outputs": [],
   "source": [
    "# df_users 'reg_date' to datetime\n",
    "df_users = normalize_datetime(df_users, include=['reg_date'], frmt='%Y-%m-%d')\n"
   ]
  },
  {
   "cell_type": "code",
   "execution_count": 14,
   "id": "d808e897",
   "metadata": {},
   "outputs": [
    {
     "data": {
      "application/vnd.microsoft.datawrangler.viewer.v0+json": {
       "columns": [
        {
         "name": "index",
         "rawType": "object",
         "type": "string"
        },
        {
         "name": "0",
         "rawType": "object",
         "type": "unknown"
        }
       ],
       "ref": "d0aff37a-3be1-4636-869b-da5843948930",
       "rows": [
        [
         "user_id",
         "int64"
        ],
        [
         "first_name",
         "string"
        ],
        [
         "last_name",
         "string"
        ],
        [
         "age",
         "int64"
        ],
        [
         "city",
         "string"
        ],
        [
         "reg_date",
         "datetime64[ns, UTC]"
        ],
        [
         "plan",
         "category"
        ],
        [
         "churn_date",
         "datetime64[ns, UTC]"
        ]
       ],
       "shape": {
        "columns": 1,
        "rows": 8
       }
      },
      "text/plain": [
       "user_id                     int64\n",
       "first_name         string[python]\n",
       "last_name          string[python]\n",
       "age                         int64\n",
       "city               string[python]\n",
       "reg_date      datetime64[ns, UTC]\n",
       "plan                     category\n",
       "churn_date    datetime64[ns, UTC]\n",
       "dtype: object"
      ]
     },
     "execution_count": 14,
     "metadata": {},
     "output_type": "execute_result"
    }
   ],
   "source": [
    "# df_users 'churn_date' to datetime\n",
    "df_users = normalize_datetime(df_users, include=['churn_date'], frmt='%Y-%m-%d')\n",
    "df_users.dtypes"
   ]
  },
  {
   "cell_type": "markdown",
   "id": "166c6add",
   "metadata": {},
   "source": [
    "## 4. Feature Engineering"
   ]
  },
  {
   "cell_type": "markdown",
   "id": "d97e720a",
   "metadata": {},
   "source": [
    "### 4.1 Datasets"
   ]
  },
  {
   "cell_type": "markdown",
   "id": "511db52e",
   "metadata": {},
   "source": [
    "#### 4.1.1 Calls"
   ]
  },
  {
   "cell_type": "code",
   "execution_count": 15,
   "id": "1e4d59ee",
   "metadata": {},
   "outputs": [
    {
     "data": {
      "application/vnd.microsoft.datawrangler.viewer.v0+json": {
       "columns": [
        {
         "name": "index",
         "rawType": "int64",
         "type": "integer"
        },
        {
         "name": "call_id",
         "rawType": "object",
         "type": "string"
        },
        {
         "name": "user_id",
         "rawType": "int64",
         "type": "integer"
        },
        {
         "name": "call_date",
         "rawType": "datetime64[ns, UTC]",
         "type": "unknown"
        },
        {
         "name": "duration",
         "rawType": "float64",
         "type": "float"
        }
       ],
       "ref": "783a0087-1942-4bd1-881e-7ca2efc2ca14",
       "rows": [
        [
         "0",
         "1000_93",
         "1000",
         "2018-12-27 00:00:00+00:00",
         "8.52"
        ],
        [
         "1",
         "1000_145",
         "1000",
         "2018-12-27 00:00:00+00:00",
         "13.66"
        ],
        [
         "2",
         "1000_247",
         "1000",
         "2018-12-27 00:00:00+00:00",
         "14.48"
        ],
        [
         "3",
         "1000_309",
         "1000",
         "2018-12-28 00:00:00+00:00",
         "5.76"
        ],
        [
         "4",
         "1000_380",
         "1000",
         "2018-12-30 00:00:00+00:00",
         "4.22"
        ],
        [
         "5",
         "1000_388",
         "1000",
         "2018-12-31 00:00:00+00:00",
         "2.2"
        ],
        [
         "6",
         "1000_510",
         "1000",
         "2018-12-27 00:00:00+00:00",
         "5.75"
        ],
        [
         "7",
         "1000_521",
         "1000",
         "2018-12-28 00:00:00+00:00",
         "14.18"
        ],
        [
         "8",
         "1000_530",
         "1000",
         "2018-12-28 00:00:00+00:00",
         "5.77"
        ],
        [
         "9",
         "1000_544",
         "1000",
         "2018-12-26 00:00:00+00:00",
         "4.4"
        ],
        [
         "10",
         "1000_693",
         "1000",
         "2018-12-31 00:00:00+00:00",
         "4.31"
        ],
        [
         "11",
         "1000_705",
         "1000",
         "2018-12-31 00:00:00+00:00",
         "12.78"
        ],
        [
         "12",
         "1000_735",
         "1000",
         "2018-12-29 00:00:00+00:00",
         "1.7"
        ],
        [
         "13",
         "1000_778",
         "1000",
         "2018-12-28 00:00:00+00:00",
         "3.29"
        ],
        [
         "14",
         "1000_826",
         "1000",
         "2018-12-26 00:00:00+00:00",
         "9.96"
        ],
        [
         "15",
         "1000_842",
         "1000",
         "2018-12-27 00:00:00+00:00",
         "5.85"
        ],
        [
         "16",
         "1001_0",
         "1001",
         "2018-09-06 00:00:00+00:00",
         "10.06"
        ],
        [
         "17",
         "1001_1",
         "1001",
         "2018-10-12 00:00:00+00:00",
         "1.0"
        ],
        [
         "18",
         "1001_2",
         "1001",
         "2018-10-17 00:00:00+00:00",
         "15.83"
        ],
        [
         "19",
         "1001_4",
         "1001",
         "2018-12-05 00:00:00+00:00",
         "0.0"
        ],
        [
         "20",
         "1001_5",
         "1001",
         "2018-12-13 00:00:00+00:00",
         "6.27"
        ],
        [
         "21",
         "1001_6",
         "1001",
         "2018-12-04 00:00:00+00:00",
         "7.19"
        ],
        [
         "22",
         "1001_8",
         "1001",
         "2018-11-17 00:00:00+00:00",
         "2.45"
        ],
        [
         "23",
         "1001_9",
         "1001",
         "2018-11-19 00:00:00+00:00",
         "2.4"
        ],
        [
         "24",
         "1001_11",
         "1001",
         "2018-11-09 00:00:00+00:00",
         "1.0"
        ],
        [
         "25",
         "1001_13",
         "1001",
         "2018-12-24 00:00:00+00:00",
         "0.0"
        ],
        [
         "26",
         "1001_19",
         "1001",
         "2018-11-15 00:00:00+00:00",
         "30.0"
        ],
        [
         "27",
         "1001_20",
         "1001",
         "2018-09-21 00:00:00+00:00",
         "5.75"
        ],
        [
         "28",
         "1001_23",
         "1001",
         "2018-10-27 00:00:00+00:00",
         "0.98"
        ],
        [
         "29",
         "1001_26",
         "1001",
         "2018-10-28 00:00:00+00:00",
         "5.9"
        ],
        [
         "30",
         "1001_29",
         "1001",
         "2018-09-30 00:00:00+00:00",
         "14.78"
        ],
        [
         "31",
         "1001_30",
         "1001",
         "2018-10-17 00:00:00+00:00",
         "0.0"
        ],
        [
         "32",
         "1001_31",
         "1001",
         "2018-11-03 00:00:00+00:00",
         "0.0"
        ],
        [
         "33",
         "1001_32",
         "1001",
         "2018-11-25 00:00:00+00:00",
         "3.99"
        ],
        [
         "34",
         "1001_35",
         "1001",
         "2018-12-21 00:00:00+00:00",
         "0.0"
        ],
        [
         "35",
         "1001_37",
         "1001",
         "2018-11-17 00:00:00+00:00",
         "15.85"
        ],
        [
         "36",
         "1001_39",
         "1001",
         "2018-12-07 00:00:00+00:00",
         "11.13"
        ],
        [
         "37",
         "1001_40",
         "1001",
         "2018-09-30 00:00:00+00:00",
         "18.6"
        ],
        [
         "38",
         "1001_42",
         "1001",
         "2018-08-28 00:00:00+00:00",
         "13.27"
        ],
        [
         "39",
         "1001_43",
         "1001",
         "2018-12-13 00:00:00+00:00",
         "0.0"
        ],
        [
         "40",
         "1001_44",
         "1001",
         "2018-12-01 00:00:00+00:00",
         "6.13"
        ],
        [
         "41",
         "1001_46",
         "1001",
         "2018-11-03 00:00:00+00:00",
         "0.95"
        ],
        [
         "42",
         "1001_47",
         "1001",
         "2018-11-08 00:00:00+00:00",
         "6.36"
        ],
        [
         "43",
         "1001_51",
         "1001",
         "2018-09-14 00:00:00+00:00",
         "16.03"
        ],
        [
         "44",
         "1001_52",
         "1001",
         "2018-11-23 00:00:00+00:00",
         "0.0"
        ],
        [
         "45",
         "1001_53",
         "1001",
         "2018-10-24 00:00:00+00:00",
         "0.0"
        ],
        [
         "46",
         "1001_54",
         "1001",
         "2018-12-11 00:00:00+00:00",
         "8.21"
        ],
        [
         "47",
         "1001_57",
         "1001",
         "2018-12-16 00:00:00+00:00",
         "21.3"
        ],
        [
         "48",
         "1001_59",
         "1001",
         "2018-12-19 00:00:00+00:00",
         "9.29"
        ],
        [
         "49",
         "1001_60",
         "1001",
         "2018-12-16 00:00:00+00:00",
         "0.0"
        ]
       ],
       "shape": {
        "columns": 4,
        "rows": 137735
       }
      },
      "text/html": [
       "<div>\n",
       "<style scoped>\n",
       "    .dataframe tbody tr th:only-of-type {\n",
       "        vertical-align: middle;\n",
       "    }\n",
       "\n",
       "    .dataframe tbody tr th {\n",
       "        vertical-align: top;\n",
       "    }\n",
       "\n",
       "    .dataframe thead th {\n",
       "        text-align: right;\n",
       "    }\n",
       "</style>\n",
       "<table border=\"1\" class=\"dataframe\">\n",
       "  <thead>\n",
       "    <tr style=\"text-align: right;\">\n",
       "      <th></th>\n",
       "      <th>call_id</th>\n",
       "      <th>user_id</th>\n",
       "      <th>call_date</th>\n",
       "      <th>duration</th>\n",
       "    </tr>\n",
       "  </thead>\n",
       "  <tbody>\n",
       "    <tr>\n",
       "      <th>0</th>\n",
       "      <td>1000_93</td>\n",
       "      <td>1000</td>\n",
       "      <td>2018-12-27 00:00:00+00:00</td>\n",
       "      <td>8.52</td>\n",
       "    </tr>\n",
       "    <tr>\n",
       "      <th>1</th>\n",
       "      <td>1000_145</td>\n",
       "      <td>1000</td>\n",
       "      <td>2018-12-27 00:00:00+00:00</td>\n",
       "      <td>13.66</td>\n",
       "    </tr>\n",
       "    <tr>\n",
       "      <th>2</th>\n",
       "      <td>1000_247</td>\n",
       "      <td>1000</td>\n",
       "      <td>2018-12-27 00:00:00+00:00</td>\n",
       "      <td>14.48</td>\n",
       "    </tr>\n",
       "    <tr>\n",
       "      <th>3</th>\n",
       "      <td>1000_309</td>\n",
       "      <td>1000</td>\n",
       "      <td>2018-12-28 00:00:00+00:00</td>\n",
       "      <td>5.76</td>\n",
       "    </tr>\n",
       "    <tr>\n",
       "      <th>4</th>\n",
       "      <td>1000_380</td>\n",
       "      <td>1000</td>\n",
       "      <td>2018-12-30 00:00:00+00:00</td>\n",
       "      <td>4.22</td>\n",
       "    </tr>\n",
       "    <tr>\n",
       "      <th>...</th>\n",
       "      <td>...</td>\n",
       "      <td>...</td>\n",
       "      <td>...</td>\n",
       "      <td>...</td>\n",
       "    </tr>\n",
       "    <tr>\n",
       "      <th>137730</th>\n",
       "      <td>1499_199</td>\n",
       "      <td>1499</td>\n",
       "      <td>2018-11-21 00:00:00+00:00</td>\n",
       "      <td>8.72</td>\n",
       "    </tr>\n",
       "    <tr>\n",
       "      <th>137731</th>\n",
       "      <td>1499_200</td>\n",
       "      <td>1499</td>\n",
       "      <td>2018-10-20 00:00:00+00:00</td>\n",
       "      <td>10.89</td>\n",
       "    </tr>\n",
       "    <tr>\n",
       "      <th>137732</th>\n",
       "      <td>1499_201</td>\n",
       "      <td>1499</td>\n",
       "      <td>2018-09-21 00:00:00+00:00</td>\n",
       "      <td>8.12</td>\n",
       "    </tr>\n",
       "    <tr>\n",
       "      <th>137733</th>\n",
       "      <td>1499_202</td>\n",
       "      <td>1499</td>\n",
       "      <td>2018-10-10 00:00:00+00:00</td>\n",
       "      <td>0.37</td>\n",
       "    </tr>\n",
       "    <tr>\n",
       "      <th>137734</th>\n",
       "      <td>1499_203</td>\n",
       "      <td>1499</td>\n",
       "      <td>2018-12-29 00:00:00+00:00</td>\n",
       "      <td>13.86</td>\n",
       "    </tr>\n",
       "  </tbody>\n",
       "</table>\n",
       "<p>137735 rows × 4 columns</p>\n",
       "</div>"
      ],
      "text/plain": [
       "         call_id  user_id                 call_date  duration\n",
       "0        1000_93     1000 2018-12-27 00:00:00+00:00      8.52\n",
       "1       1000_145     1000 2018-12-27 00:00:00+00:00     13.66\n",
       "2       1000_247     1000 2018-12-27 00:00:00+00:00     14.48\n",
       "3       1000_309     1000 2018-12-28 00:00:00+00:00      5.76\n",
       "4       1000_380     1000 2018-12-30 00:00:00+00:00      4.22\n",
       "...          ...      ...                       ...       ...\n",
       "137730  1499_199     1499 2018-11-21 00:00:00+00:00      8.72\n",
       "137731  1499_200     1499 2018-10-20 00:00:00+00:00     10.89\n",
       "137732  1499_201     1499 2018-09-21 00:00:00+00:00      8.12\n",
       "137733  1499_202     1499 2018-10-10 00:00:00+00:00      0.37\n",
       "137734  1499_203     1499 2018-12-29 00:00:00+00:00     13.86\n",
       "\n",
       "[137735 rows x 4 columns]"
      ]
     },
     "execution_count": 15,
     "metadata": {},
     "output_type": "execute_result"
    }
   ],
   "source": [
    "df_calls"
   ]
  },
  {
   "cell_type": "code",
   "execution_count": 16,
   "id": "724732b5",
   "metadata": {},
   "outputs": [],
   "source": [
    "# Each individual call is rounded up: even if the call lasted only one second\n",
    "df_calls['duration'] = np.ceil(df_calls['duration'])"
   ]
  },
  {
   "cell_type": "code",
   "execution_count": 17,
   "id": "e6140c8b",
   "metadata": {},
   "outputs": [],
   "source": [
    "# Add Month\n",
    "df_calls['month'] = df_calls['call_date'].dt.month"
   ]
  },
  {
   "cell_type": "code",
   "execution_count": 18,
   "id": "d675d0f9",
   "metadata": {},
   "outputs": [],
   "source": [
    "# Add Day\n",
    "df_calls['day'] = df_calls['call_date'].dt.day"
   ]
  },
  {
   "cell_type": "code",
   "execution_count": 19,
   "id": "245757c9",
   "metadata": {},
   "outputs": [
    {
     "data": {
      "application/vnd.microsoft.datawrangler.viewer.v0+json": {
       "columns": [
        {
         "name": "index",
         "rawType": "int64",
         "type": "integer"
        },
        {
         "name": "call_id",
         "rawType": "object",
         "type": "string"
        },
        {
         "name": "user_id",
         "rawType": "int64",
         "type": "integer"
        },
        {
         "name": "call_date",
         "rawType": "datetime64[ns, UTC]",
         "type": "unknown"
        },
        {
         "name": "duration",
         "rawType": "float64",
         "type": "float"
        },
        {
         "name": "month",
         "rawType": "int32",
         "type": "integer"
        },
        {
         "name": "day",
         "rawType": "int32",
         "type": "integer"
        }
       ],
       "ref": "3c748083-dd2c-456b-b2a6-638fb5be1bad",
       "rows": [
        [
         "0",
         "1000_93",
         "1000",
         "2018-12-27 00:00:00+00:00",
         "9.0",
         "12",
         "27"
        ],
        [
         "1",
         "1000_145",
         "1000",
         "2018-12-27 00:00:00+00:00",
         "14.0",
         "12",
         "27"
        ],
        [
         "2",
         "1000_247",
         "1000",
         "2018-12-27 00:00:00+00:00",
         "15.0",
         "12",
         "27"
        ],
        [
         "3",
         "1000_309",
         "1000",
         "2018-12-28 00:00:00+00:00",
         "6.0",
         "12",
         "28"
        ],
        [
         "4",
         "1000_380",
         "1000",
         "2018-12-30 00:00:00+00:00",
         "5.0",
         "12",
         "30"
        ],
        [
         "5",
         "1000_388",
         "1000",
         "2018-12-31 00:00:00+00:00",
         "3.0",
         "12",
         "31"
        ],
        [
         "6",
         "1000_510",
         "1000",
         "2018-12-27 00:00:00+00:00",
         "6.0",
         "12",
         "27"
        ],
        [
         "7",
         "1000_521",
         "1000",
         "2018-12-28 00:00:00+00:00",
         "15.0",
         "12",
         "28"
        ],
        [
         "8",
         "1000_530",
         "1000",
         "2018-12-28 00:00:00+00:00",
         "6.0",
         "12",
         "28"
        ],
        [
         "9",
         "1000_544",
         "1000",
         "2018-12-26 00:00:00+00:00",
         "5.0",
         "12",
         "26"
        ],
        [
         "10",
         "1000_693",
         "1000",
         "2018-12-31 00:00:00+00:00",
         "5.0",
         "12",
         "31"
        ],
        [
         "11",
         "1000_705",
         "1000",
         "2018-12-31 00:00:00+00:00",
         "13.0",
         "12",
         "31"
        ],
        [
         "12",
         "1000_735",
         "1000",
         "2018-12-29 00:00:00+00:00",
         "2.0",
         "12",
         "29"
        ],
        [
         "13",
         "1000_778",
         "1000",
         "2018-12-28 00:00:00+00:00",
         "4.0",
         "12",
         "28"
        ],
        [
         "14",
         "1000_826",
         "1000",
         "2018-12-26 00:00:00+00:00",
         "10.0",
         "12",
         "26"
        ],
        [
         "15",
         "1000_842",
         "1000",
         "2018-12-27 00:00:00+00:00",
         "6.0",
         "12",
         "27"
        ],
        [
         "16",
         "1001_0",
         "1001",
         "2018-09-06 00:00:00+00:00",
         "11.0",
         "9",
         "6"
        ],
        [
         "17",
         "1001_1",
         "1001",
         "2018-10-12 00:00:00+00:00",
         "1.0",
         "10",
         "12"
        ],
        [
         "18",
         "1001_2",
         "1001",
         "2018-10-17 00:00:00+00:00",
         "16.0",
         "10",
         "17"
        ],
        [
         "19",
         "1001_4",
         "1001",
         "2018-12-05 00:00:00+00:00",
         "0.0",
         "12",
         "5"
        ],
        [
         "20",
         "1001_5",
         "1001",
         "2018-12-13 00:00:00+00:00",
         "7.0",
         "12",
         "13"
        ],
        [
         "21",
         "1001_6",
         "1001",
         "2018-12-04 00:00:00+00:00",
         "8.0",
         "12",
         "4"
        ],
        [
         "22",
         "1001_8",
         "1001",
         "2018-11-17 00:00:00+00:00",
         "3.0",
         "11",
         "17"
        ],
        [
         "23",
         "1001_9",
         "1001",
         "2018-11-19 00:00:00+00:00",
         "3.0",
         "11",
         "19"
        ],
        [
         "24",
         "1001_11",
         "1001",
         "2018-11-09 00:00:00+00:00",
         "1.0",
         "11",
         "9"
        ],
        [
         "25",
         "1001_13",
         "1001",
         "2018-12-24 00:00:00+00:00",
         "0.0",
         "12",
         "24"
        ],
        [
         "26",
         "1001_19",
         "1001",
         "2018-11-15 00:00:00+00:00",
         "30.0",
         "11",
         "15"
        ],
        [
         "27",
         "1001_20",
         "1001",
         "2018-09-21 00:00:00+00:00",
         "6.0",
         "9",
         "21"
        ],
        [
         "28",
         "1001_23",
         "1001",
         "2018-10-27 00:00:00+00:00",
         "1.0",
         "10",
         "27"
        ],
        [
         "29",
         "1001_26",
         "1001",
         "2018-10-28 00:00:00+00:00",
         "6.0",
         "10",
         "28"
        ],
        [
         "30",
         "1001_29",
         "1001",
         "2018-09-30 00:00:00+00:00",
         "15.0",
         "9",
         "30"
        ],
        [
         "31",
         "1001_30",
         "1001",
         "2018-10-17 00:00:00+00:00",
         "0.0",
         "10",
         "17"
        ],
        [
         "32",
         "1001_31",
         "1001",
         "2018-11-03 00:00:00+00:00",
         "0.0",
         "11",
         "3"
        ],
        [
         "33",
         "1001_32",
         "1001",
         "2018-11-25 00:00:00+00:00",
         "4.0",
         "11",
         "25"
        ],
        [
         "34",
         "1001_35",
         "1001",
         "2018-12-21 00:00:00+00:00",
         "0.0",
         "12",
         "21"
        ],
        [
         "35",
         "1001_37",
         "1001",
         "2018-11-17 00:00:00+00:00",
         "16.0",
         "11",
         "17"
        ],
        [
         "36",
         "1001_39",
         "1001",
         "2018-12-07 00:00:00+00:00",
         "12.0",
         "12",
         "7"
        ],
        [
         "37",
         "1001_40",
         "1001",
         "2018-09-30 00:00:00+00:00",
         "19.0",
         "9",
         "30"
        ],
        [
         "38",
         "1001_42",
         "1001",
         "2018-08-28 00:00:00+00:00",
         "14.0",
         "8",
         "28"
        ],
        [
         "39",
         "1001_43",
         "1001",
         "2018-12-13 00:00:00+00:00",
         "0.0",
         "12",
         "13"
        ],
        [
         "40",
         "1001_44",
         "1001",
         "2018-12-01 00:00:00+00:00",
         "7.0",
         "12",
         "1"
        ],
        [
         "41",
         "1001_46",
         "1001",
         "2018-11-03 00:00:00+00:00",
         "1.0",
         "11",
         "3"
        ],
        [
         "42",
         "1001_47",
         "1001",
         "2018-11-08 00:00:00+00:00",
         "7.0",
         "11",
         "8"
        ],
        [
         "43",
         "1001_51",
         "1001",
         "2018-09-14 00:00:00+00:00",
         "17.0",
         "9",
         "14"
        ],
        [
         "44",
         "1001_52",
         "1001",
         "2018-11-23 00:00:00+00:00",
         "0.0",
         "11",
         "23"
        ],
        [
         "45",
         "1001_53",
         "1001",
         "2018-10-24 00:00:00+00:00",
         "0.0",
         "10",
         "24"
        ],
        [
         "46",
         "1001_54",
         "1001",
         "2018-12-11 00:00:00+00:00",
         "9.0",
         "12",
         "11"
        ],
        [
         "47",
         "1001_57",
         "1001",
         "2018-12-16 00:00:00+00:00",
         "22.0",
         "12",
         "16"
        ],
        [
         "48",
         "1001_59",
         "1001",
         "2018-12-19 00:00:00+00:00",
         "10.0",
         "12",
         "19"
        ],
        [
         "49",
         "1001_60",
         "1001",
         "2018-12-16 00:00:00+00:00",
         "0.0",
         "12",
         "16"
        ]
       ],
       "shape": {
        "columns": 6,
        "rows": 137735
       }
      },
      "text/html": [
       "<div>\n",
       "<style scoped>\n",
       "    .dataframe tbody tr th:only-of-type {\n",
       "        vertical-align: middle;\n",
       "    }\n",
       "\n",
       "    .dataframe tbody tr th {\n",
       "        vertical-align: top;\n",
       "    }\n",
       "\n",
       "    .dataframe thead th {\n",
       "        text-align: right;\n",
       "    }\n",
       "</style>\n",
       "<table border=\"1\" class=\"dataframe\">\n",
       "  <thead>\n",
       "    <tr style=\"text-align: right;\">\n",
       "      <th></th>\n",
       "      <th>call_id</th>\n",
       "      <th>user_id</th>\n",
       "      <th>call_date</th>\n",
       "      <th>duration</th>\n",
       "      <th>month</th>\n",
       "      <th>day</th>\n",
       "    </tr>\n",
       "  </thead>\n",
       "  <tbody>\n",
       "    <tr>\n",
       "      <th>0</th>\n",
       "      <td>1000_93</td>\n",
       "      <td>1000</td>\n",
       "      <td>2018-12-27 00:00:00+00:00</td>\n",
       "      <td>9.0</td>\n",
       "      <td>12</td>\n",
       "      <td>27</td>\n",
       "    </tr>\n",
       "    <tr>\n",
       "      <th>1</th>\n",
       "      <td>1000_145</td>\n",
       "      <td>1000</td>\n",
       "      <td>2018-12-27 00:00:00+00:00</td>\n",
       "      <td>14.0</td>\n",
       "      <td>12</td>\n",
       "      <td>27</td>\n",
       "    </tr>\n",
       "    <tr>\n",
       "      <th>2</th>\n",
       "      <td>1000_247</td>\n",
       "      <td>1000</td>\n",
       "      <td>2018-12-27 00:00:00+00:00</td>\n",
       "      <td>15.0</td>\n",
       "      <td>12</td>\n",
       "      <td>27</td>\n",
       "    </tr>\n",
       "    <tr>\n",
       "      <th>3</th>\n",
       "      <td>1000_309</td>\n",
       "      <td>1000</td>\n",
       "      <td>2018-12-28 00:00:00+00:00</td>\n",
       "      <td>6.0</td>\n",
       "      <td>12</td>\n",
       "      <td>28</td>\n",
       "    </tr>\n",
       "    <tr>\n",
       "      <th>4</th>\n",
       "      <td>1000_380</td>\n",
       "      <td>1000</td>\n",
       "      <td>2018-12-30 00:00:00+00:00</td>\n",
       "      <td>5.0</td>\n",
       "      <td>12</td>\n",
       "      <td>30</td>\n",
       "    </tr>\n",
       "    <tr>\n",
       "      <th>...</th>\n",
       "      <td>...</td>\n",
       "      <td>...</td>\n",
       "      <td>...</td>\n",
       "      <td>...</td>\n",
       "      <td>...</td>\n",
       "      <td>...</td>\n",
       "    </tr>\n",
       "    <tr>\n",
       "      <th>137730</th>\n",
       "      <td>1499_199</td>\n",
       "      <td>1499</td>\n",
       "      <td>2018-11-21 00:00:00+00:00</td>\n",
       "      <td>9.0</td>\n",
       "      <td>11</td>\n",
       "      <td>21</td>\n",
       "    </tr>\n",
       "    <tr>\n",
       "      <th>137731</th>\n",
       "      <td>1499_200</td>\n",
       "      <td>1499</td>\n",
       "      <td>2018-10-20 00:00:00+00:00</td>\n",
       "      <td>11.0</td>\n",
       "      <td>10</td>\n",
       "      <td>20</td>\n",
       "    </tr>\n",
       "    <tr>\n",
       "      <th>137732</th>\n",
       "      <td>1499_201</td>\n",
       "      <td>1499</td>\n",
       "      <td>2018-09-21 00:00:00+00:00</td>\n",
       "      <td>9.0</td>\n",
       "      <td>9</td>\n",
       "      <td>21</td>\n",
       "    </tr>\n",
       "    <tr>\n",
       "      <th>137733</th>\n",
       "      <td>1499_202</td>\n",
       "      <td>1499</td>\n",
       "      <td>2018-10-10 00:00:00+00:00</td>\n",
       "      <td>1.0</td>\n",
       "      <td>10</td>\n",
       "      <td>10</td>\n",
       "    </tr>\n",
       "    <tr>\n",
       "      <th>137734</th>\n",
       "      <td>1499_203</td>\n",
       "      <td>1499</td>\n",
       "      <td>2018-12-29 00:00:00+00:00</td>\n",
       "      <td>14.0</td>\n",
       "      <td>12</td>\n",
       "      <td>29</td>\n",
       "    </tr>\n",
       "  </tbody>\n",
       "</table>\n",
       "<p>137735 rows × 6 columns</p>\n",
       "</div>"
      ],
      "text/plain": [
       "         call_id  user_id                 call_date  duration  month  day\n",
       "0        1000_93     1000 2018-12-27 00:00:00+00:00       9.0     12   27\n",
       "1       1000_145     1000 2018-12-27 00:00:00+00:00      14.0     12   27\n",
       "2       1000_247     1000 2018-12-27 00:00:00+00:00      15.0     12   27\n",
       "3       1000_309     1000 2018-12-28 00:00:00+00:00       6.0     12   28\n",
       "4       1000_380     1000 2018-12-30 00:00:00+00:00       5.0     12   30\n",
       "...          ...      ...                       ...       ...    ...  ...\n",
       "137730  1499_199     1499 2018-11-21 00:00:00+00:00       9.0     11   21\n",
       "137731  1499_200     1499 2018-10-20 00:00:00+00:00      11.0     10   20\n",
       "137732  1499_201     1499 2018-09-21 00:00:00+00:00       9.0      9   21\n",
       "137733  1499_202     1499 2018-10-10 00:00:00+00:00       1.0     10   10\n",
       "137734  1499_203     1499 2018-12-29 00:00:00+00:00      14.0     12   29\n",
       "\n",
       "[137735 rows x 6 columns]"
      ]
     },
     "execution_count": 19,
     "metadata": {},
     "output_type": "execute_result"
    }
   ],
   "source": [
    "df_calls"
   ]
  },
  {
   "cell_type": "code",
   "execution_count": 20,
   "id": "e6606df2",
   "metadata": {},
   "outputs": [],
   "source": [
    "project_root = Path.cwd().parent\n",
    "processed_path = project_root / \"data\" / \"processed\" / \"feature\" / \"calls_feature.csv\"\n",
    "\n",
    "df_calls.to_csv(processed_path, index=False)"
   ]
  },
  {
   "cell_type": "markdown",
   "id": "f0faba31",
   "metadata": {},
   "source": [
    "#### 4.1.2 Internet"
   ]
  },
  {
   "cell_type": "code",
   "execution_count": 21,
   "id": "45d2894e",
   "metadata": {},
   "outputs": [
    {
     "data": {
      "application/vnd.microsoft.datawrangler.viewer.v0+json": {
       "columns": [
        {
         "name": "index",
         "rawType": "int64",
         "type": "integer"
        },
        {
         "name": "session_id",
         "rawType": "object",
         "type": "string"
        },
        {
         "name": "user_id",
         "rawType": "int64",
         "type": "integer"
        },
        {
         "name": "session_date",
         "rawType": "datetime64[ns, UTC]",
         "type": "unknown"
        },
        {
         "name": "mb_used",
         "rawType": "float64",
         "type": "float"
        }
       ],
       "ref": "6af15700-30fe-4ff3-92f4-4296e6db10f5",
       "rows": [
        [
         "0",
         "1000_13",
         "1000",
         "2018-12-29 00:00:00+00:00",
         "89.86"
        ],
        [
         "1",
         "1000_204",
         "1000",
         "2018-12-31 00:00:00+00:00",
         "0.0"
        ],
        [
         "2",
         "1000_379",
         "1000",
         "2018-12-28 00:00:00+00:00",
         "660.4"
        ],
        [
         "3",
         "1000_413",
         "1000",
         "2018-12-26 00:00:00+00:00",
         "270.99"
        ],
        [
         "4",
         "1000_442",
         "1000",
         "2018-12-27 00:00:00+00:00",
         "880.22"
        ],
        [
         "5",
         "1001_0",
         "1001",
         "2018-08-24 00:00:00+00:00",
         "284.68"
        ],
        [
         "6",
         "1001_3",
         "1001",
         "2018-12-09 00:00:00+00:00",
         "656.04"
        ],
        [
         "7",
         "1001_4",
         "1001",
         "2018-11-04 00:00:00+00:00",
         "16.97"
        ],
        [
         "8",
         "1001_10",
         "1001",
         "2018-11-27 00:00:00+00:00",
         "135.18"
        ],
        [
         "9",
         "1001_15",
         "1001",
         "2018-12-13 00:00:00+00:00",
         "761.92"
        ],
        [
         "10",
         "1001_16",
         "1001",
         "2018-10-28 00:00:00+00:00",
         "501.53"
        ],
        [
         "11",
         "1001_17",
         "1001",
         "2018-09-05 00:00:00+00:00",
         "727.29"
        ],
        [
         "12",
         "1001_24",
         "1001",
         "2018-09-05 00:00:00+00:00",
         "622.03"
        ],
        [
         "13",
         "1001_25",
         "1001",
         "2018-10-14 00:00:00+00:00",
         "310.43"
        ],
        [
         "14",
         "1001_26",
         "1001",
         "2018-09-17 00:00:00+00:00",
         "0.0"
        ],
        [
         "15",
         "1001_27",
         "1001",
         "2018-12-13 00:00:00+00:00",
         "149.17"
        ],
        [
         "16",
         "1001_28",
         "1001",
         "2018-10-17 00:00:00+00:00",
         "0.0"
        ],
        [
         "17",
         "1001_29",
         "1001",
         "2018-10-09 00:00:00+00:00",
         "1067.99"
        ],
        [
         "18",
         "1001_30",
         "1001",
         "2018-12-27 00:00:00+00:00",
         "157.2"
        ],
        [
         "19",
         "1001_33",
         "1001",
         "2018-09-27 00:00:00+00:00",
         "236.4"
        ],
        [
         "20",
         "1001_34",
         "1001",
         "2018-09-18 00:00:00+00:00",
         "299.66"
        ],
        [
         "21",
         "1001_37",
         "1001",
         "2018-12-26 00:00:00+00:00",
         "694.5"
        ],
        [
         "22",
         "1001_38",
         "1001",
         "2018-11-25 00:00:00+00:00",
         "288.27"
        ],
        [
         "23",
         "1001_40",
         "1001",
         "2018-12-27 00:00:00+00:00",
         "632.84"
        ],
        [
         "24",
         "1001_42",
         "1001",
         "2018-12-03 00:00:00+00:00",
         "474.35"
        ],
        [
         "25",
         "1001_43",
         "1001",
         "2018-11-16 00:00:00+00:00",
         "196.94"
        ],
        [
         "26",
         "1001_44",
         "1001",
         "2018-09-27 00:00:00+00:00",
         "44.91"
        ],
        [
         "27",
         "1001_45",
         "1001",
         "2018-10-23 00:00:00+00:00",
         "483.49"
        ],
        [
         "28",
         "1001_47",
         "1001",
         "2018-12-07 00:00:00+00:00",
         "317.01"
        ],
        [
         "29",
         "1001_48",
         "1001",
         "2018-09-08 00:00:00+00:00",
         "284.97"
        ],
        [
         "30",
         "1001_49",
         "1001",
         "2018-10-18 00:00:00+00:00",
         "534.65"
        ],
        [
         "31",
         "1001_50",
         "1001",
         "2018-11-27 00:00:00+00:00",
         "618.84"
        ],
        [
         "32",
         "1001_52",
         "1001",
         "2018-11-17 00:00:00+00:00",
         "409.19"
        ],
        [
         "33",
         "1001_53",
         "1001",
         "2018-11-10 00:00:00+00:00",
         "418.75"
        ],
        [
         "34",
         "1001_54",
         "1001",
         "2018-09-02 00:00:00+00:00",
         "0.0"
        ],
        [
         "35",
         "1001_61",
         "1001",
         "2018-11-28 00:00:00+00:00",
         "121.3"
        ],
        [
         "36",
         "1001_63",
         "1001",
         "2018-12-03 00:00:00+00:00",
         "144.94"
        ],
        [
         "37",
         "1001_64",
         "1001",
         "2018-12-10 00:00:00+00:00",
         "14.03"
        ],
        [
         "38",
         "1001_65",
         "1001",
         "2018-09-17 00:00:00+00:00",
         "969.54"
        ],
        [
         "39",
         "1001_66",
         "1001",
         "2018-10-17 00:00:00+00:00",
         "976.69"
        ],
        [
         "40",
         "1001_71",
         "1001",
         "2018-09-06 00:00:00+00:00",
         "310.16"
        ],
        [
         "41",
         "1001_73",
         "1001",
         "2018-10-04 00:00:00+00:00",
         "501.87"
        ],
        [
         "42",
         "1001_75",
         "1001",
         "2018-11-11 00:00:00+00:00",
         "438.76"
        ],
        [
         "43",
         "1001_77",
         "1001",
         "2018-10-31 00:00:00+00:00",
         "0.0"
        ],
        [
         "44",
         "1001_80",
         "1001",
         "2018-12-24 00:00:00+00:00",
         "0.0"
        ],
        [
         "45",
         "1001_82",
         "1001",
         "2018-11-28 00:00:00+00:00",
         "255.14"
        ],
        [
         "46",
         "1001_84",
         "1001",
         "2018-10-13 00:00:00+00:00",
         "0.0"
        ],
        [
         "47",
         "1001_85",
         "1001",
         "2018-12-16 00:00:00+00:00",
         "624.34"
        ],
        [
         "48",
         "1001_86",
         "1001",
         "2018-09-17 00:00:00+00:00",
         "71.78"
        ],
        [
         "49",
         "1001_87",
         "1001",
         "2018-09-30 00:00:00+00:00",
         "179.68"
        ]
       ],
       "shape": {
        "columns": 4,
        "rows": 104825
       }
      },
      "text/html": [
       "<div>\n",
       "<style scoped>\n",
       "    .dataframe tbody tr th:only-of-type {\n",
       "        vertical-align: middle;\n",
       "    }\n",
       "\n",
       "    .dataframe tbody tr th {\n",
       "        vertical-align: top;\n",
       "    }\n",
       "\n",
       "    .dataframe thead th {\n",
       "        text-align: right;\n",
       "    }\n",
       "</style>\n",
       "<table border=\"1\" class=\"dataframe\">\n",
       "  <thead>\n",
       "    <tr style=\"text-align: right;\">\n",
       "      <th></th>\n",
       "      <th>session_id</th>\n",
       "      <th>user_id</th>\n",
       "      <th>session_date</th>\n",
       "      <th>mb_used</th>\n",
       "    </tr>\n",
       "  </thead>\n",
       "  <tbody>\n",
       "    <tr>\n",
       "      <th>0</th>\n",
       "      <td>1000_13</td>\n",
       "      <td>1000</td>\n",
       "      <td>2018-12-29 00:00:00+00:00</td>\n",
       "      <td>89.86</td>\n",
       "    </tr>\n",
       "    <tr>\n",
       "      <th>1</th>\n",
       "      <td>1000_204</td>\n",
       "      <td>1000</td>\n",
       "      <td>2018-12-31 00:00:00+00:00</td>\n",
       "      <td>0.00</td>\n",
       "    </tr>\n",
       "    <tr>\n",
       "      <th>2</th>\n",
       "      <td>1000_379</td>\n",
       "      <td>1000</td>\n",
       "      <td>2018-12-28 00:00:00+00:00</td>\n",
       "      <td>660.40</td>\n",
       "    </tr>\n",
       "    <tr>\n",
       "      <th>3</th>\n",
       "      <td>1000_413</td>\n",
       "      <td>1000</td>\n",
       "      <td>2018-12-26 00:00:00+00:00</td>\n",
       "      <td>270.99</td>\n",
       "    </tr>\n",
       "    <tr>\n",
       "      <th>4</th>\n",
       "      <td>1000_442</td>\n",
       "      <td>1000</td>\n",
       "      <td>2018-12-27 00:00:00+00:00</td>\n",
       "      <td>880.22</td>\n",
       "    </tr>\n",
       "    <tr>\n",
       "      <th>...</th>\n",
       "      <td>...</td>\n",
       "      <td>...</td>\n",
       "      <td>...</td>\n",
       "      <td>...</td>\n",
       "    </tr>\n",
       "    <tr>\n",
       "      <th>104820</th>\n",
       "      <td>1499_215</td>\n",
       "      <td>1499</td>\n",
       "      <td>2018-10-20 00:00:00+00:00</td>\n",
       "      <td>218.06</td>\n",
       "    </tr>\n",
       "    <tr>\n",
       "      <th>104821</th>\n",
       "      <td>1499_216</td>\n",
       "      <td>1499</td>\n",
       "      <td>2018-12-30 00:00:00+00:00</td>\n",
       "      <td>304.72</td>\n",
       "    </tr>\n",
       "    <tr>\n",
       "      <th>104822</th>\n",
       "      <td>1499_217</td>\n",
       "      <td>1499</td>\n",
       "      <td>2018-09-22 00:00:00+00:00</td>\n",
       "      <td>292.75</td>\n",
       "    </tr>\n",
       "    <tr>\n",
       "      <th>104823</th>\n",
       "      <td>1499_218</td>\n",
       "      <td>1499</td>\n",
       "      <td>2018-12-07 00:00:00+00:00</td>\n",
       "      <td>0.00</td>\n",
       "    </tr>\n",
       "    <tr>\n",
       "      <th>104824</th>\n",
       "      <td>1499_219</td>\n",
       "      <td>1499</td>\n",
       "      <td>2018-12-24 00:00:00+00:00</td>\n",
       "      <td>758.31</td>\n",
       "    </tr>\n",
       "  </tbody>\n",
       "</table>\n",
       "<p>104825 rows × 4 columns</p>\n",
       "</div>"
      ],
      "text/plain": [
       "       session_id  user_id              session_date  mb_used\n",
       "0         1000_13     1000 2018-12-29 00:00:00+00:00    89.86\n",
       "1        1000_204     1000 2018-12-31 00:00:00+00:00     0.00\n",
       "2        1000_379     1000 2018-12-28 00:00:00+00:00   660.40\n",
       "3        1000_413     1000 2018-12-26 00:00:00+00:00   270.99\n",
       "4        1000_442     1000 2018-12-27 00:00:00+00:00   880.22\n",
       "...           ...      ...                       ...      ...\n",
       "104820   1499_215     1499 2018-10-20 00:00:00+00:00   218.06\n",
       "104821   1499_216     1499 2018-12-30 00:00:00+00:00   304.72\n",
       "104822   1499_217     1499 2018-09-22 00:00:00+00:00   292.75\n",
       "104823   1499_218     1499 2018-12-07 00:00:00+00:00     0.00\n",
       "104824   1499_219     1499 2018-12-24 00:00:00+00:00   758.31\n",
       "\n",
       "[104825 rows x 4 columns]"
      ]
     },
     "execution_count": 21,
     "metadata": {},
     "output_type": "execute_result"
    }
   ],
   "source": [
    "df_internet"
   ]
  },
  {
   "cell_type": "code",
   "execution_count": 22,
   "id": "7c57df99",
   "metadata": {},
   "outputs": [],
   "source": [
    "# Add Month\n",
    "df_internet['month'] = df_internet['session_date'].dt.month"
   ]
  },
  {
   "cell_type": "code",
   "execution_count": 23,
   "id": "51d532a5",
   "metadata": {},
   "outputs": [],
   "source": [
    "# Add Day\n",
    "df_internet['day'] = df_internet['session_date'].dt.day"
   ]
  },
  {
   "cell_type": "code",
   "execution_count": 24,
   "id": "23899cdd",
   "metadata": {},
   "outputs": [
    {
     "data": {
      "application/vnd.microsoft.datawrangler.viewer.v0+json": {
       "columns": [
        {
         "name": "index",
         "rawType": "int64",
         "type": "integer"
        },
        {
         "name": "session_id",
         "rawType": "object",
         "type": "string"
        },
        {
         "name": "user_id",
         "rawType": "int64",
         "type": "integer"
        },
        {
         "name": "session_date",
         "rawType": "datetime64[ns, UTC]",
         "type": "unknown"
        },
        {
         "name": "mb_used",
         "rawType": "float64",
         "type": "float"
        },
        {
         "name": "month",
         "rawType": "int32",
         "type": "integer"
        },
        {
         "name": "day",
         "rawType": "int32",
         "type": "integer"
        }
       ],
       "ref": "c5fd47db-8963-4b66-80ad-5f93e0d80204",
       "rows": [
        [
         "0",
         "1000_13",
         "1000",
         "2018-12-29 00:00:00+00:00",
         "89.86",
         "12",
         "29"
        ],
        [
         "1",
         "1000_204",
         "1000",
         "2018-12-31 00:00:00+00:00",
         "0.0",
         "12",
         "31"
        ],
        [
         "2",
         "1000_379",
         "1000",
         "2018-12-28 00:00:00+00:00",
         "660.4",
         "12",
         "28"
        ],
        [
         "3",
         "1000_413",
         "1000",
         "2018-12-26 00:00:00+00:00",
         "270.99",
         "12",
         "26"
        ],
        [
         "4",
         "1000_442",
         "1000",
         "2018-12-27 00:00:00+00:00",
         "880.22",
         "12",
         "27"
        ],
        [
         "5",
         "1001_0",
         "1001",
         "2018-08-24 00:00:00+00:00",
         "284.68",
         "8",
         "24"
        ],
        [
         "6",
         "1001_3",
         "1001",
         "2018-12-09 00:00:00+00:00",
         "656.04",
         "12",
         "9"
        ],
        [
         "7",
         "1001_4",
         "1001",
         "2018-11-04 00:00:00+00:00",
         "16.97",
         "11",
         "4"
        ],
        [
         "8",
         "1001_10",
         "1001",
         "2018-11-27 00:00:00+00:00",
         "135.18",
         "11",
         "27"
        ],
        [
         "9",
         "1001_15",
         "1001",
         "2018-12-13 00:00:00+00:00",
         "761.92",
         "12",
         "13"
        ],
        [
         "10",
         "1001_16",
         "1001",
         "2018-10-28 00:00:00+00:00",
         "501.53",
         "10",
         "28"
        ],
        [
         "11",
         "1001_17",
         "1001",
         "2018-09-05 00:00:00+00:00",
         "727.29",
         "9",
         "5"
        ],
        [
         "12",
         "1001_24",
         "1001",
         "2018-09-05 00:00:00+00:00",
         "622.03",
         "9",
         "5"
        ],
        [
         "13",
         "1001_25",
         "1001",
         "2018-10-14 00:00:00+00:00",
         "310.43",
         "10",
         "14"
        ],
        [
         "14",
         "1001_26",
         "1001",
         "2018-09-17 00:00:00+00:00",
         "0.0",
         "9",
         "17"
        ],
        [
         "15",
         "1001_27",
         "1001",
         "2018-12-13 00:00:00+00:00",
         "149.17",
         "12",
         "13"
        ],
        [
         "16",
         "1001_28",
         "1001",
         "2018-10-17 00:00:00+00:00",
         "0.0",
         "10",
         "17"
        ],
        [
         "17",
         "1001_29",
         "1001",
         "2018-10-09 00:00:00+00:00",
         "1067.99",
         "10",
         "9"
        ],
        [
         "18",
         "1001_30",
         "1001",
         "2018-12-27 00:00:00+00:00",
         "157.2",
         "12",
         "27"
        ],
        [
         "19",
         "1001_33",
         "1001",
         "2018-09-27 00:00:00+00:00",
         "236.4",
         "9",
         "27"
        ],
        [
         "20",
         "1001_34",
         "1001",
         "2018-09-18 00:00:00+00:00",
         "299.66",
         "9",
         "18"
        ],
        [
         "21",
         "1001_37",
         "1001",
         "2018-12-26 00:00:00+00:00",
         "694.5",
         "12",
         "26"
        ],
        [
         "22",
         "1001_38",
         "1001",
         "2018-11-25 00:00:00+00:00",
         "288.27",
         "11",
         "25"
        ],
        [
         "23",
         "1001_40",
         "1001",
         "2018-12-27 00:00:00+00:00",
         "632.84",
         "12",
         "27"
        ],
        [
         "24",
         "1001_42",
         "1001",
         "2018-12-03 00:00:00+00:00",
         "474.35",
         "12",
         "3"
        ],
        [
         "25",
         "1001_43",
         "1001",
         "2018-11-16 00:00:00+00:00",
         "196.94",
         "11",
         "16"
        ],
        [
         "26",
         "1001_44",
         "1001",
         "2018-09-27 00:00:00+00:00",
         "44.91",
         "9",
         "27"
        ],
        [
         "27",
         "1001_45",
         "1001",
         "2018-10-23 00:00:00+00:00",
         "483.49",
         "10",
         "23"
        ],
        [
         "28",
         "1001_47",
         "1001",
         "2018-12-07 00:00:00+00:00",
         "317.01",
         "12",
         "7"
        ],
        [
         "29",
         "1001_48",
         "1001",
         "2018-09-08 00:00:00+00:00",
         "284.97",
         "9",
         "8"
        ],
        [
         "30",
         "1001_49",
         "1001",
         "2018-10-18 00:00:00+00:00",
         "534.65",
         "10",
         "18"
        ],
        [
         "31",
         "1001_50",
         "1001",
         "2018-11-27 00:00:00+00:00",
         "618.84",
         "11",
         "27"
        ],
        [
         "32",
         "1001_52",
         "1001",
         "2018-11-17 00:00:00+00:00",
         "409.19",
         "11",
         "17"
        ],
        [
         "33",
         "1001_53",
         "1001",
         "2018-11-10 00:00:00+00:00",
         "418.75",
         "11",
         "10"
        ],
        [
         "34",
         "1001_54",
         "1001",
         "2018-09-02 00:00:00+00:00",
         "0.0",
         "9",
         "2"
        ],
        [
         "35",
         "1001_61",
         "1001",
         "2018-11-28 00:00:00+00:00",
         "121.3",
         "11",
         "28"
        ],
        [
         "36",
         "1001_63",
         "1001",
         "2018-12-03 00:00:00+00:00",
         "144.94",
         "12",
         "3"
        ],
        [
         "37",
         "1001_64",
         "1001",
         "2018-12-10 00:00:00+00:00",
         "14.03",
         "12",
         "10"
        ],
        [
         "38",
         "1001_65",
         "1001",
         "2018-09-17 00:00:00+00:00",
         "969.54",
         "9",
         "17"
        ],
        [
         "39",
         "1001_66",
         "1001",
         "2018-10-17 00:00:00+00:00",
         "976.69",
         "10",
         "17"
        ],
        [
         "40",
         "1001_71",
         "1001",
         "2018-09-06 00:00:00+00:00",
         "310.16",
         "9",
         "6"
        ],
        [
         "41",
         "1001_73",
         "1001",
         "2018-10-04 00:00:00+00:00",
         "501.87",
         "10",
         "4"
        ],
        [
         "42",
         "1001_75",
         "1001",
         "2018-11-11 00:00:00+00:00",
         "438.76",
         "11",
         "11"
        ],
        [
         "43",
         "1001_77",
         "1001",
         "2018-10-31 00:00:00+00:00",
         "0.0",
         "10",
         "31"
        ],
        [
         "44",
         "1001_80",
         "1001",
         "2018-12-24 00:00:00+00:00",
         "0.0",
         "12",
         "24"
        ],
        [
         "45",
         "1001_82",
         "1001",
         "2018-11-28 00:00:00+00:00",
         "255.14",
         "11",
         "28"
        ],
        [
         "46",
         "1001_84",
         "1001",
         "2018-10-13 00:00:00+00:00",
         "0.0",
         "10",
         "13"
        ],
        [
         "47",
         "1001_85",
         "1001",
         "2018-12-16 00:00:00+00:00",
         "624.34",
         "12",
         "16"
        ],
        [
         "48",
         "1001_86",
         "1001",
         "2018-09-17 00:00:00+00:00",
         "71.78",
         "9",
         "17"
        ],
        [
         "49",
         "1001_87",
         "1001",
         "2018-09-30 00:00:00+00:00",
         "179.68",
         "9",
         "30"
        ]
       ],
       "shape": {
        "columns": 6,
        "rows": 104825
       }
      },
      "text/html": [
       "<div>\n",
       "<style scoped>\n",
       "    .dataframe tbody tr th:only-of-type {\n",
       "        vertical-align: middle;\n",
       "    }\n",
       "\n",
       "    .dataframe tbody tr th {\n",
       "        vertical-align: top;\n",
       "    }\n",
       "\n",
       "    .dataframe thead th {\n",
       "        text-align: right;\n",
       "    }\n",
       "</style>\n",
       "<table border=\"1\" class=\"dataframe\">\n",
       "  <thead>\n",
       "    <tr style=\"text-align: right;\">\n",
       "      <th></th>\n",
       "      <th>session_id</th>\n",
       "      <th>user_id</th>\n",
       "      <th>session_date</th>\n",
       "      <th>mb_used</th>\n",
       "      <th>month</th>\n",
       "      <th>day</th>\n",
       "    </tr>\n",
       "  </thead>\n",
       "  <tbody>\n",
       "    <tr>\n",
       "      <th>0</th>\n",
       "      <td>1000_13</td>\n",
       "      <td>1000</td>\n",
       "      <td>2018-12-29 00:00:00+00:00</td>\n",
       "      <td>89.86</td>\n",
       "      <td>12</td>\n",
       "      <td>29</td>\n",
       "    </tr>\n",
       "    <tr>\n",
       "      <th>1</th>\n",
       "      <td>1000_204</td>\n",
       "      <td>1000</td>\n",
       "      <td>2018-12-31 00:00:00+00:00</td>\n",
       "      <td>0.00</td>\n",
       "      <td>12</td>\n",
       "      <td>31</td>\n",
       "    </tr>\n",
       "    <tr>\n",
       "      <th>2</th>\n",
       "      <td>1000_379</td>\n",
       "      <td>1000</td>\n",
       "      <td>2018-12-28 00:00:00+00:00</td>\n",
       "      <td>660.40</td>\n",
       "      <td>12</td>\n",
       "      <td>28</td>\n",
       "    </tr>\n",
       "    <tr>\n",
       "      <th>3</th>\n",
       "      <td>1000_413</td>\n",
       "      <td>1000</td>\n",
       "      <td>2018-12-26 00:00:00+00:00</td>\n",
       "      <td>270.99</td>\n",
       "      <td>12</td>\n",
       "      <td>26</td>\n",
       "    </tr>\n",
       "    <tr>\n",
       "      <th>4</th>\n",
       "      <td>1000_442</td>\n",
       "      <td>1000</td>\n",
       "      <td>2018-12-27 00:00:00+00:00</td>\n",
       "      <td>880.22</td>\n",
       "      <td>12</td>\n",
       "      <td>27</td>\n",
       "    </tr>\n",
       "    <tr>\n",
       "      <th>...</th>\n",
       "      <td>...</td>\n",
       "      <td>...</td>\n",
       "      <td>...</td>\n",
       "      <td>...</td>\n",
       "      <td>...</td>\n",
       "      <td>...</td>\n",
       "    </tr>\n",
       "    <tr>\n",
       "      <th>104820</th>\n",
       "      <td>1499_215</td>\n",
       "      <td>1499</td>\n",
       "      <td>2018-10-20 00:00:00+00:00</td>\n",
       "      <td>218.06</td>\n",
       "      <td>10</td>\n",
       "      <td>20</td>\n",
       "    </tr>\n",
       "    <tr>\n",
       "      <th>104821</th>\n",
       "      <td>1499_216</td>\n",
       "      <td>1499</td>\n",
       "      <td>2018-12-30 00:00:00+00:00</td>\n",
       "      <td>304.72</td>\n",
       "      <td>12</td>\n",
       "      <td>30</td>\n",
       "    </tr>\n",
       "    <tr>\n",
       "      <th>104822</th>\n",
       "      <td>1499_217</td>\n",
       "      <td>1499</td>\n",
       "      <td>2018-09-22 00:00:00+00:00</td>\n",
       "      <td>292.75</td>\n",
       "      <td>9</td>\n",
       "      <td>22</td>\n",
       "    </tr>\n",
       "    <tr>\n",
       "      <th>104823</th>\n",
       "      <td>1499_218</td>\n",
       "      <td>1499</td>\n",
       "      <td>2018-12-07 00:00:00+00:00</td>\n",
       "      <td>0.00</td>\n",
       "      <td>12</td>\n",
       "      <td>7</td>\n",
       "    </tr>\n",
       "    <tr>\n",
       "      <th>104824</th>\n",
       "      <td>1499_219</td>\n",
       "      <td>1499</td>\n",
       "      <td>2018-12-24 00:00:00+00:00</td>\n",
       "      <td>758.31</td>\n",
       "      <td>12</td>\n",
       "      <td>24</td>\n",
       "    </tr>\n",
       "  </tbody>\n",
       "</table>\n",
       "<p>104825 rows × 6 columns</p>\n",
       "</div>"
      ],
      "text/plain": [
       "       session_id  user_id              session_date  mb_used  month  day\n",
       "0         1000_13     1000 2018-12-29 00:00:00+00:00    89.86     12   29\n",
       "1        1000_204     1000 2018-12-31 00:00:00+00:00     0.00     12   31\n",
       "2        1000_379     1000 2018-12-28 00:00:00+00:00   660.40     12   28\n",
       "3        1000_413     1000 2018-12-26 00:00:00+00:00   270.99     12   26\n",
       "4        1000_442     1000 2018-12-27 00:00:00+00:00   880.22     12   27\n",
       "...           ...      ...                       ...      ...    ...  ...\n",
       "104820   1499_215     1499 2018-10-20 00:00:00+00:00   218.06     10   20\n",
       "104821   1499_216     1499 2018-12-30 00:00:00+00:00   304.72     12   30\n",
       "104822   1499_217     1499 2018-09-22 00:00:00+00:00   292.75      9   22\n",
       "104823   1499_218     1499 2018-12-07 00:00:00+00:00     0.00     12    7\n",
       "104824   1499_219     1499 2018-12-24 00:00:00+00:00   758.31     12   24\n",
       "\n",
       "[104825 rows x 6 columns]"
      ]
     },
     "execution_count": 24,
     "metadata": {},
     "output_type": "execute_result"
    }
   ],
   "source": [
    "df_internet"
   ]
  },
  {
   "cell_type": "code",
   "execution_count": 25,
   "id": "b3f1de39",
   "metadata": {},
   "outputs": [],
   "source": [
    "project_root = Path.cwd().parent\n",
    "processed_path = project_root / \"data\" / \"processed\" / \"feature\" / \"internet_feature.csv\"\n",
    "\n",
    "df_internet.to_csv(processed_path, index=False)"
   ]
  },
  {
   "cell_type": "markdown",
   "id": "903e4be8",
   "metadata": {},
   "source": [
    "#### 4.1.3 Messages"
   ]
  },
  {
   "cell_type": "code",
   "execution_count": 26,
   "id": "4fe7a4ee",
   "metadata": {},
   "outputs": [
    {
     "data": {
      "application/vnd.microsoft.datawrangler.viewer.v0+json": {
       "columns": [
        {
         "name": "index",
         "rawType": "int64",
         "type": "integer"
        },
        {
         "name": "message_id",
         "rawType": "object",
         "type": "string"
        },
        {
         "name": "user_id",
         "rawType": "int64",
         "type": "integer"
        },
        {
         "name": "message_date",
         "rawType": "datetime64[ns, UTC]",
         "type": "unknown"
        }
       ],
       "ref": "90cf81bb-bfee-4d9d-bd8b-8b21b1a03979",
       "rows": [
        [
         "0",
         "1000_125",
         "1000",
         "2018-12-27 00:00:00+00:00"
        ],
        [
         "1",
         "1000_160",
         "1000",
         "2018-12-31 00:00:00+00:00"
        ],
        [
         "2",
         "1000_223",
         "1000",
         "2018-12-31 00:00:00+00:00"
        ],
        [
         "3",
         "1000_251",
         "1000",
         "2018-12-27 00:00:00+00:00"
        ],
        [
         "4",
         "1000_255",
         "1000",
         "2018-12-26 00:00:00+00:00"
        ],
        [
         "5",
         "1000_346",
         "1000",
         "2018-12-29 00:00:00+00:00"
        ],
        [
         "6",
         "1000_386",
         "1000",
         "2018-12-30 00:00:00+00:00"
        ],
        [
         "7",
         "1000_413",
         "1000",
         "2018-12-31 00:00:00+00:00"
        ],
        [
         "8",
         "1000_502",
         "1000",
         "2018-12-27 00:00:00+00:00"
        ],
        [
         "9",
         "1000_525",
         "1000",
         "2018-12-28 00:00:00+00:00"
        ],
        [
         "10",
         "1000_567",
         "1000",
         "2018-12-25 00:00:00+00:00"
        ],
        [
         "11",
         "1001_1",
         "1001",
         "2018-11-14 00:00:00+00:00"
        ],
        [
         "12",
         "1001_2",
         "1001",
         "2018-08-17 00:00:00+00:00"
        ],
        [
         "13",
         "1001_5",
         "1001",
         "2018-12-05 00:00:00+00:00"
        ],
        [
         "14",
         "1001_7",
         "1001",
         "2018-11-28 00:00:00+00:00"
        ],
        [
         "15",
         "1001_9",
         "1001",
         "2018-10-23 00:00:00+00:00"
        ],
        [
         "16",
         "1001_10",
         "1001",
         "2018-09-01 00:00:00+00:00"
        ],
        [
         "17",
         "1001_11",
         "1001",
         "2018-11-18 00:00:00+00:00"
        ],
        [
         "18",
         "1001_17",
         "1001",
         "2018-12-11 00:00:00+00:00"
        ],
        [
         "19",
         "1001_18",
         "1001",
         "2018-10-01 00:00:00+00:00"
        ],
        [
         "20",
         "1001_19",
         "1001",
         "2018-09-13 00:00:00+00:00"
        ],
        [
         "21",
         "1001_21",
         "1001",
         "2018-12-30 00:00:00+00:00"
        ],
        [
         "22",
         "1001_23",
         "1001",
         "2018-08-23 00:00:00+00:00"
        ],
        [
         "23",
         "1001_25",
         "1001",
         "2018-10-10 00:00:00+00:00"
        ],
        [
         "24",
         "1001_30",
         "1001",
         "2018-12-14 00:00:00+00:00"
        ],
        [
         "25",
         "1001_32",
         "1001",
         "2018-09-11 00:00:00+00:00"
        ],
        [
         "26",
         "1001_34",
         "1001",
         "2018-10-09 00:00:00+00:00"
        ],
        [
         "27",
         "1001_35",
         "1001",
         "2018-09-18 00:00:00+00:00"
        ],
        [
         "28",
         "1001_37",
         "1001",
         "2018-09-06 00:00:00+00:00"
        ],
        [
         "29",
         "1001_39",
         "1001",
         "2018-09-13 00:00:00+00:00"
        ],
        [
         "30",
         "1001_44",
         "1001",
         "2018-08-19 00:00:00+00:00"
        ],
        [
         "31",
         "1001_46",
         "1001",
         "2018-12-17 00:00:00+00:00"
        ],
        [
         "32",
         "1001_47",
         "1001",
         "2018-12-23 00:00:00+00:00"
        ],
        [
         "33",
         "1001_48",
         "1001",
         "2018-11-08 00:00:00+00:00"
        ],
        [
         "34",
         "1001_49",
         "1001",
         "2018-12-25 00:00:00+00:00"
        ],
        [
         "35",
         "1001_50",
         "1001",
         "2018-10-18 00:00:00+00:00"
        ],
        [
         "36",
         "1001_52",
         "1001",
         "2018-09-20 00:00:00+00:00"
        ],
        [
         "37",
         "1001_54",
         "1001",
         "2018-09-01 00:00:00+00:00"
        ],
        [
         "38",
         "1001_58",
         "1001",
         "2018-12-06 00:00:00+00:00"
        ],
        [
         "39",
         "1001_60",
         "1001",
         "2018-08-22 00:00:00+00:00"
        ],
        [
         "40",
         "1001_63",
         "1001",
         "2018-09-19 00:00:00+00:00"
        ],
        [
         "41",
         "1001_65",
         "1001",
         "2018-10-21 00:00:00+00:00"
        ],
        [
         "42",
         "1001_66",
         "1001",
         "2018-12-10 00:00:00+00:00"
        ],
        [
         "43",
         "1001_69",
         "1001",
         "2018-10-19 00:00:00+00:00"
        ],
        [
         "44",
         "1001_70",
         "1001",
         "2018-09-10 00:00:00+00:00"
        ],
        [
         "45",
         "1001_71",
         "1001",
         "2018-09-18 00:00:00+00:00"
        ],
        [
         "46",
         "1001_72",
         "1001",
         "2018-10-19 00:00:00+00:00"
        ],
        [
         "47",
         "1001_73",
         "1001",
         "2018-09-28 00:00:00+00:00"
        ],
        [
         "48",
         "1001_75",
         "1001",
         "2018-11-25 00:00:00+00:00"
        ],
        [
         "49",
         "1001_76",
         "1001",
         "2018-10-30 00:00:00+00:00"
        ]
       ],
       "shape": {
        "columns": 3,
        "rows": 76051
       }
      },
      "text/html": [
       "<div>\n",
       "<style scoped>\n",
       "    .dataframe tbody tr th:only-of-type {\n",
       "        vertical-align: middle;\n",
       "    }\n",
       "\n",
       "    .dataframe tbody tr th {\n",
       "        vertical-align: top;\n",
       "    }\n",
       "\n",
       "    .dataframe thead th {\n",
       "        text-align: right;\n",
       "    }\n",
       "</style>\n",
       "<table border=\"1\" class=\"dataframe\">\n",
       "  <thead>\n",
       "    <tr style=\"text-align: right;\">\n",
       "      <th></th>\n",
       "      <th>message_id</th>\n",
       "      <th>user_id</th>\n",
       "      <th>message_date</th>\n",
       "    </tr>\n",
       "  </thead>\n",
       "  <tbody>\n",
       "    <tr>\n",
       "      <th>0</th>\n",
       "      <td>1000_125</td>\n",
       "      <td>1000</td>\n",
       "      <td>2018-12-27 00:00:00+00:00</td>\n",
       "    </tr>\n",
       "    <tr>\n",
       "      <th>1</th>\n",
       "      <td>1000_160</td>\n",
       "      <td>1000</td>\n",
       "      <td>2018-12-31 00:00:00+00:00</td>\n",
       "    </tr>\n",
       "    <tr>\n",
       "      <th>2</th>\n",
       "      <td>1000_223</td>\n",
       "      <td>1000</td>\n",
       "      <td>2018-12-31 00:00:00+00:00</td>\n",
       "    </tr>\n",
       "    <tr>\n",
       "      <th>3</th>\n",
       "      <td>1000_251</td>\n",
       "      <td>1000</td>\n",
       "      <td>2018-12-27 00:00:00+00:00</td>\n",
       "    </tr>\n",
       "    <tr>\n",
       "      <th>4</th>\n",
       "      <td>1000_255</td>\n",
       "      <td>1000</td>\n",
       "      <td>2018-12-26 00:00:00+00:00</td>\n",
       "    </tr>\n",
       "    <tr>\n",
       "      <th>...</th>\n",
       "      <td>...</td>\n",
       "      <td>...</td>\n",
       "      <td>...</td>\n",
       "    </tr>\n",
       "    <tr>\n",
       "      <th>76046</th>\n",
       "      <td>1497_526</td>\n",
       "      <td>1497</td>\n",
       "      <td>2018-12-24 00:00:00+00:00</td>\n",
       "    </tr>\n",
       "    <tr>\n",
       "      <th>76047</th>\n",
       "      <td>1497_536</td>\n",
       "      <td>1497</td>\n",
       "      <td>2018-12-24 00:00:00+00:00</td>\n",
       "    </tr>\n",
       "    <tr>\n",
       "      <th>76048</th>\n",
       "      <td>1497_547</td>\n",
       "      <td>1497</td>\n",
       "      <td>2018-12-31 00:00:00+00:00</td>\n",
       "    </tr>\n",
       "    <tr>\n",
       "      <th>76049</th>\n",
       "      <td>1497_558</td>\n",
       "      <td>1497</td>\n",
       "      <td>2018-12-24 00:00:00+00:00</td>\n",
       "    </tr>\n",
       "    <tr>\n",
       "      <th>76050</th>\n",
       "      <td>1497_613</td>\n",
       "      <td>1497</td>\n",
       "      <td>2018-12-23 00:00:00+00:00</td>\n",
       "    </tr>\n",
       "  </tbody>\n",
       "</table>\n",
       "<p>76051 rows × 3 columns</p>\n",
       "</div>"
      ],
      "text/plain": [
       "      message_id  user_id              message_date\n",
       "0       1000_125     1000 2018-12-27 00:00:00+00:00\n",
       "1       1000_160     1000 2018-12-31 00:00:00+00:00\n",
       "2       1000_223     1000 2018-12-31 00:00:00+00:00\n",
       "3       1000_251     1000 2018-12-27 00:00:00+00:00\n",
       "4       1000_255     1000 2018-12-26 00:00:00+00:00\n",
       "...          ...      ...                       ...\n",
       "76046   1497_526     1497 2018-12-24 00:00:00+00:00\n",
       "76047   1497_536     1497 2018-12-24 00:00:00+00:00\n",
       "76048   1497_547     1497 2018-12-31 00:00:00+00:00\n",
       "76049   1497_558     1497 2018-12-24 00:00:00+00:00\n",
       "76050   1497_613     1497 2018-12-23 00:00:00+00:00\n",
       "\n",
       "[76051 rows x 3 columns]"
      ]
     },
     "execution_count": 26,
     "metadata": {},
     "output_type": "execute_result"
    }
   ],
   "source": [
    "df_messages"
   ]
  },
  {
   "cell_type": "code",
   "execution_count": 27,
   "id": "f8eda2e2",
   "metadata": {},
   "outputs": [],
   "source": [
    "# Add Month\n",
    "df_messages['month'] = df_messages['message_date'].dt.month"
   ]
  },
  {
   "cell_type": "code",
   "execution_count": 28,
   "id": "b0d66c3f",
   "metadata": {},
   "outputs": [],
   "source": [
    "# Add Day\n",
    "df_messages['day'] = df_messages['message_date'].dt.day"
   ]
  },
  {
   "cell_type": "code",
   "execution_count": 29,
   "id": "f178a4b3",
   "metadata": {},
   "outputs": [],
   "source": [
    "project_root = Path.cwd().parent\n",
    "processed_path = project_root / \"data\" / \"processed\" / \"feature\" / \"messages_feature.csv\"\n",
    "\n",
    "df_messages.to_csv(processed_path, index=False)"
   ]
  },
  {
   "cell_type": "markdown",
   "id": "a5769d48",
   "metadata": {},
   "source": [
    "#### 4.1.4 Users"
   ]
  },
  {
   "cell_type": "code",
   "execution_count": 30,
   "id": "554361c0",
   "metadata": {},
   "outputs": [
    {
     "data": {
      "application/vnd.microsoft.datawrangler.viewer.v0+json": {
       "columns": [
        {
         "name": "index",
         "rawType": "int64",
         "type": "integer"
        },
        {
         "name": "user_id",
         "rawType": "int64",
         "type": "integer"
        },
        {
         "name": "first_name",
         "rawType": "string",
         "type": "string"
        },
        {
         "name": "last_name",
         "rawType": "string",
         "type": "string"
        },
        {
         "name": "age",
         "rawType": "int64",
         "type": "integer"
        },
        {
         "name": "city",
         "rawType": "string",
         "type": "string"
        },
        {
         "name": "reg_date",
         "rawType": "datetime64[ns, UTC]",
         "type": "unknown"
        },
        {
         "name": "plan",
         "rawType": "category",
         "type": "unknown"
        },
        {
         "name": "churn_date",
         "rawType": "datetime64[ns, UTC]",
         "type": "unknown"
        }
       ],
       "ref": "c12dfdff-7051-4ea2-bca8-1910b8bf913e",
       "rows": [
        [
         "0",
         "1000",
         "anamaria",
         "bauer",
         "45",
         "atlanta_sandy_springs_roswell,_ga_msa",
         "2018-12-24 00:00:00+00:00",
         "ultimate",
         null
        ],
        [
         "1",
         "1001",
         "mickey",
         "wilkerson",
         "28",
         "seattle_tacoma_bellevue,_wa_msa",
         "2018-08-13 00:00:00+00:00",
         "surf",
         null
        ],
        [
         "2",
         "1002",
         "carlee",
         "hoffman",
         "36",
         "las_vegas_henderson_paradise,_nv_msa",
         "2018-10-21 00:00:00+00:00",
         "surf",
         null
        ],
        [
         "3",
         "1003",
         "reynaldo",
         "jenkins",
         "52",
         "tulsa,_ok_msa",
         "2018-01-28 00:00:00+00:00",
         "surf",
         null
        ],
        [
         "4",
         "1004",
         "leonila",
         "thompson",
         "40",
         "seattle_tacoma_bellevue,_wa_msa",
         "2018-05-23 00:00:00+00:00",
         "surf",
         null
        ],
        [
         "5",
         "1005",
         "livia",
         "shields",
         "31",
         "dallas_fort_worth_arlington,_tx_msa",
         "2018-11-29 00:00:00+00:00",
         "surf",
         null
        ],
        [
         "6",
         "1006",
         "jesusa",
         "bradford",
         "73",
         "san_francisco_oakland_berkeley,_ca_msa",
         "2018-11-27 00:00:00+00:00",
         "ultimate",
         "2018-12-18 00:00:00+00:00"
        ],
        [
         "7",
         "1007",
         "eusebio",
         "welch",
         "42",
         "grand_rapids_kentwood,_mi_msa",
         "2018-07-11 00:00:00+00:00",
         "surf",
         null
        ],
        [
         "8",
         "1008",
         "emely",
         "hoffman",
         "53",
         "orlando_kissimmee_sanford,_fl_msa",
         "2018-08-03 00:00:00+00:00",
         "ultimate",
         null
        ],
        [
         "9",
         "1009",
         "gerry",
         "little",
         "19",
         "san_jose_sunnyvale_santa_clara,_ca_msa",
         "2018-04-22 00:00:00+00:00",
         "surf",
         null
        ],
        [
         "10",
         "1010",
         "wilber",
         "blair",
         "52",
         "dallas_fort_worth_arlington,_tx_msa",
         "2018-03-09 00:00:00+00:00",
         "surf",
         null
        ],
        [
         "11",
         "1011",
         "halina",
         "henry",
         "73",
         "cleveland_elyria,_oh_msa",
         "2018-01-18 00:00:00+00:00",
         "ultimate",
         null
        ],
        [
         "12",
         "1012",
         "jonelle",
         "mcbride",
         "59",
         "chicago_naperville_elgin,_il_in_wi_msa",
         "2018-06-28 00:00:00+00:00",
         "surf",
         "2018-11-16 00:00:00+00:00"
        ],
        [
         "13",
         "1013",
         "nicolas",
         "snider",
         "50",
         "knoxville,_tn_msa",
         "2018-12-01 00:00:00+00:00",
         "ultimate",
         null
        ],
        [
         "14",
         "1014",
         "edmundo",
         "simon",
         "61",
         "new_york_newark_jersey_city,_ny_nj_pa_msa",
         "2018-11-25 00:00:00+00:00",
         "surf",
         null
        ],
        [
         "15",
         "1015",
         "beata",
         "carpenter",
         "26",
         "pittsburgh,_pa_msa",
         "2018-12-05 00:00:00+00:00",
         "surf",
         null
        ],
        [
         "16",
         "1016",
         "jann",
         "salinas",
         "30",
         "fresno,_ca_msa",
         "2018-10-25 00:00:00+00:00",
         "surf",
         null
        ],
        [
         "17",
         "1017",
         "boris",
         "gates",
         "61",
         "washington_arlington_alexandria,_dc_va_md_wv_msa",
         "2018-08-26 00:00:00+00:00",
         "surf",
         null
        ],
        [
         "18",
         "1018",
         "dennis",
         "grimes",
         "70",
         "indianapolis_carmel_anderson,_in_msa",
         "2018-10-17 00:00:00+00:00",
         "surf",
         null
        ],
        [
         "19",
         "1019",
         "shizue",
         "landry",
         "34",
         "jacksonville,_fl_msa",
         "2018-01-16 00:00:00+00:00",
         "surf",
         null
        ],
        [
         "20",
         "1020",
         "rutha",
         "bell",
         "56",
         "dallas_fort_worth_arlington,_tx_msa",
         "2018-11-08 00:00:00+00:00",
         "surf",
         null
        ],
        [
         "21",
         "1021",
         "ricarda",
         "booker",
         "37",
         "los_angeles_long_beach_anaheim,_ca_msa",
         "2018-12-21 00:00:00+00:00",
         "surf",
         null
        ],
        [
         "22",
         "1022",
         "bo",
         "snow",
         "73",
         "new_york_newark_jersey_city,_ny_nj_pa_msa",
         "2018-04-20 00:00:00+00:00",
         "surf",
         "2018-09-07 00:00:00+00:00"
        ],
        [
         "23",
         "1023",
         "jack",
         "delaney",
         "70",
         "omaha_council_bluffs,_ne_ia_msa",
         "2018-07-06 00:00:00+00:00",
         "surf",
         null
        ],
        [
         "24",
         "1024",
         "yuki",
         "tyson",
         "74",
         "new_york_newark_jersey_city,_ny_nj_pa_msa",
         "2018-08-21 00:00:00+00:00",
         "surf",
         null
        ],
        [
         "25",
         "1025",
         "jess",
         "wilkinson",
         "64",
         "atlanta_sandy_springs_roswell,_ga_msa",
         "2018-10-28 00:00:00+00:00",
         "ultimate",
         null
        ],
        [
         "26",
         "1026",
         "meggan",
         "hamilton",
         "49",
         "houston_the_woodlands_sugar_land,_tx_msa",
         "2018-07-20 00:00:00+00:00",
         "ultimate",
         null
        ],
        [
         "27",
         "1027",
         "georgeanna",
         "cardenas",
         "38",
         "new_york_newark_jersey_city,_ny_nj_pa_msa",
         "2018-06-26 00:00:00+00:00",
         "surf",
         null
        ],
        [
         "28",
         "1028",
         "jefferey",
         "rasmussen",
         "57",
         "philadelphia_camden_wilmington,_pa_nj_de_md_msa",
         "2018-02-21 00:00:00+00:00",
         "ultimate",
         null
        ],
        [
         "29",
         "1029",
         "franklyn",
         "henson",
         "59",
         "tampa_st_petersburg_clearwater,_fl_msa",
         "2018-01-05 00:00:00+00:00",
         "surf",
         null
        ],
        [
         "30",
         "1030",
         "chase",
         "kane",
         "30",
         "chicago_naperville_elgin,_il_in_wi_msa",
         "2018-02-14 00:00:00+00:00",
         "ultimate",
         null
        ],
        [
         "31",
         "1031",
         "lane",
         "martin",
         "52",
         "new_york_newark_jersey_city,_ny_nj_pa_msa",
         "2018-07-15 00:00:00+00:00",
         "ultimate",
         null
        ],
        [
         "32",
         "1032",
         "delila",
         "dalton",
         "59",
         "birmingham_hoover,_al_msa",
         "2018-06-07 00:00:00+00:00",
         "ultimate",
         null
        ],
        [
         "33",
         "1033",
         "latoyia",
         "moran",
         "28",
         "oklahoma_city,_ok_msa",
         "2018-05-30 00:00:00+00:00",
         "ultimate",
         null
        ],
        [
         "34",
         "1034",
         "jc",
         "gentry",
         "22",
         "new_york_newark_jersey_city,_ny_nj_pa_msa",
         "2018-08-13 00:00:00+00:00",
         "surf",
         null
        ],
        [
         "35",
         "1035",
         "jeff",
         "cummings",
         "67",
         "charlotte_concord_gastonia,_nc_sc_msa",
         "2018-12-08 00:00:00+00:00",
         "surf",
         null
        ],
        [
         "36",
         "1036",
         "myron",
         "hodge",
         "70",
         "denver_aurora_lakewood,_co_msa",
         "2018-05-09 00:00:00+00:00",
         "ultimate",
         null
        ],
        [
         "37",
         "1037",
         "reena",
         "velazquez",
         "20",
         "seattle_tacoma_bellevue,_wa_msa",
         "2018-08-11 00:00:00+00:00",
         "ultimate",
         null
        ],
        [
         "38",
         "1038",
         "olympia",
         "velazquez",
         "32",
         "nashville_davidson_murfreesboro_franklin,_tn_msa",
         "2018-06-25 00:00:00+00:00",
         "ultimate",
         null
        ],
        [
         "39",
         "1039",
         "flo",
         "hicks",
         "56",
         "columbus,_oh_msa",
         "2018-05-30 00:00:00+00:00",
         "ultimate",
         null
        ],
        [
         "40",
         "1040",
         "paris",
         "santos",
         "72",
         "philadelphia_camden_wilmington,_pa_nj_de_md_msa",
         "2018-12-23 00:00:00+00:00",
         "surf",
         "2018-12-30 00:00:00+00:00"
        ],
        [
         "41",
         "1041",
         "drucilla",
         "lynn",
         "58",
         "las_vegas_henderson_paradise,_nv_msa",
         "2018-03-17 00:00:00+00:00",
         "ultimate",
         null
        ],
        [
         "42",
         "1042",
         "clementina",
         "mclaughlin",
         "40",
         "philadelphia_camden_wilmington,_pa_nj_de_md_msa",
         "2018-01-15 00:00:00+00:00",
         "surf",
         null
        ],
        [
         "43",
         "1043",
         "carlos",
         "hinton",
         "42",
         "new_york_newark_jersey_city,_ny_nj_pa_msa",
         "2018-06-20 00:00:00+00:00",
         "ultimate",
         null
        ],
        [
         "44",
         "1044",
         "devora",
         "galloway",
         "74",
         "albuquerque,_nm_msa",
         "2018-08-30 00:00:00+00:00",
         "surf",
         null
        ],
        [
         "45",
         "1045",
         "barney",
         "ortega",
         "20",
         "new_york_newark_jersey_city,_ny_nj_pa_msa",
         "2018-10-15 00:00:00+00:00",
         "surf",
         null
        ],
        [
         "46",
         "1046",
         "beata",
         "hooper",
         "67",
         "boston_cambridge_newton,_ma_nh_msa",
         "2018-02-19 00:00:00+00:00",
         "surf",
         null
        ],
        [
         "47",
         "1047",
         "yuk",
         "french",
         "22",
         "indianapolis_carmel_anderson,_in_msa",
         "2018-06-16 00:00:00+00:00",
         "ultimate",
         null
        ],
        [
         "48",
         "1048",
         "linwood",
         "terrell",
         "42",
         "miami_fort_lauderdale_west_palm_beach,_fl_msa",
         "2018-08-24 00:00:00+00:00",
         "surf",
         null
        ],
        [
         "49",
         "1049",
         "loise",
         "avery",
         "25",
         "new_york_newark_jersey_city,_ny_nj_pa_msa",
         "2018-02-21 00:00:00+00:00",
         "surf",
         null
        ]
       ],
       "shape": {
        "columns": 8,
        "rows": 500
       }
      },
      "text/html": [
       "<div>\n",
       "<style scoped>\n",
       "    .dataframe tbody tr th:only-of-type {\n",
       "        vertical-align: middle;\n",
       "    }\n",
       "\n",
       "    .dataframe tbody tr th {\n",
       "        vertical-align: top;\n",
       "    }\n",
       "\n",
       "    .dataframe thead th {\n",
       "        text-align: right;\n",
       "    }\n",
       "</style>\n",
       "<table border=\"1\" class=\"dataframe\">\n",
       "  <thead>\n",
       "    <tr style=\"text-align: right;\">\n",
       "      <th></th>\n",
       "      <th>user_id</th>\n",
       "      <th>first_name</th>\n",
       "      <th>last_name</th>\n",
       "      <th>age</th>\n",
       "      <th>city</th>\n",
       "      <th>reg_date</th>\n",
       "      <th>plan</th>\n",
       "      <th>churn_date</th>\n",
       "    </tr>\n",
       "  </thead>\n",
       "  <tbody>\n",
       "    <tr>\n",
       "      <th>0</th>\n",
       "      <td>1000</td>\n",
       "      <td>anamaria</td>\n",
       "      <td>bauer</td>\n",
       "      <td>45</td>\n",
       "      <td>atlanta_sandy_springs_roswell,_ga_msa</td>\n",
       "      <td>2018-12-24 00:00:00+00:00</td>\n",
       "      <td>ultimate</td>\n",
       "      <td>NaT</td>\n",
       "    </tr>\n",
       "    <tr>\n",
       "      <th>1</th>\n",
       "      <td>1001</td>\n",
       "      <td>mickey</td>\n",
       "      <td>wilkerson</td>\n",
       "      <td>28</td>\n",
       "      <td>seattle_tacoma_bellevue,_wa_msa</td>\n",
       "      <td>2018-08-13 00:00:00+00:00</td>\n",
       "      <td>surf</td>\n",
       "      <td>NaT</td>\n",
       "    </tr>\n",
       "    <tr>\n",
       "      <th>2</th>\n",
       "      <td>1002</td>\n",
       "      <td>carlee</td>\n",
       "      <td>hoffman</td>\n",
       "      <td>36</td>\n",
       "      <td>las_vegas_henderson_paradise,_nv_msa</td>\n",
       "      <td>2018-10-21 00:00:00+00:00</td>\n",
       "      <td>surf</td>\n",
       "      <td>NaT</td>\n",
       "    </tr>\n",
       "    <tr>\n",
       "      <th>3</th>\n",
       "      <td>1003</td>\n",
       "      <td>reynaldo</td>\n",
       "      <td>jenkins</td>\n",
       "      <td>52</td>\n",
       "      <td>tulsa,_ok_msa</td>\n",
       "      <td>2018-01-28 00:00:00+00:00</td>\n",
       "      <td>surf</td>\n",
       "      <td>NaT</td>\n",
       "    </tr>\n",
       "    <tr>\n",
       "      <th>4</th>\n",
       "      <td>1004</td>\n",
       "      <td>leonila</td>\n",
       "      <td>thompson</td>\n",
       "      <td>40</td>\n",
       "      <td>seattle_tacoma_bellevue,_wa_msa</td>\n",
       "      <td>2018-05-23 00:00:00+00:00</td>\n",
       "      <td>surf</td>\n",
       "      <td>NaT</td>\n",
       "    </tr>\n",
       "    <tr>\n",
       "      <th>...</th>\n",
       "      <td>...</td>\n",
       "      <td>...</td>\n",
       "      <td>...</td>\n",
       "      <td>...</td>\n",
       "      <td>...</td>\n",
       "      <td>...</td>\n",
       "      <td>...</td>\n",
       "      <td>...</td>\n",
       "    </tr>\n",
       "    <tr>\n",
       "      <th>495</th>\n",
       "      <td>1495</td>\n",
       "      <td>fidel</td>\n",
       "      <td>sharpe</td>\n",
       "      <td>67</td>\n",
       "      <td>new_york_newark_jersey_city,_ny_nj_pa_msa</td>\n",
       "      <td>2018-09-04 00:00:00+00:00</td>\n",
       "      <td>surf</td>\n",
       "      <td>NaT</td>\n",
       "    </tr>\n",
       "    <tr>\n",
       "      <th>496</th>\n",
       "      <td>1496</td>\n",
       "      <td>ariel</td>\n",
       "      <td>shepherd</td>\n",
       "      <td>49</td>\n",
       "      <td>new_orleans_metairie,_la_msa</td>\n",
       "      <td>2018-02-20 00:00:00+00:00</td>\n",
       "      <td>surf</td>\n",
       "      <td>NaT</td>\n",
       "    </tr>\n",
       "    <tr>\n",
       "      <th>497</th>\n",
       "      <td>1497</td>\n",
       "      <td>donte</td>\n",
       "      <td>barrera</td>\n",
       "      <td>49</td>\n",
       "      <td>los_angeles_long_beach_anaheim,_ca_msa</td>\n",
       "      <td>2018-12-10 00:00:00+00:00</td>\n",
       "      <td>ultimate</td>\n",
       "      <td>NaT</td>\n",
       "    </tr>\n",
       "    <tr>\n",
       "      <th>498</th>\n",
       "      <td>1498</td>\n",
       "      <td>scot</td>\n",
       "      <td>williamson</td>\n",
       "      <td>51</td>\n",
       "      <td>new_york_newark_jersey_city,_ny_nj_pa_msa</td>\n",
       "      <td>2018-02-04 00:00:00+00:00</td>\n",
       "      <td>surf</td>\n",
       "      <td>NaT</td>\n",
       "    </tr>\n",
       "    <tr>\n",
       "      <th>499</th>\n",
       "      <td>1499</td>\n",
       "      <td>shena</td>\n",
       "      <td>dickson</td>\n",
       "      <td>37</td>\n",
       "      <td>orlando_kissimmee_sanford,_fl_msa</td>\n",
       "      <td>2018-05-06 00:00:00+00:00</td>\n",
       "      <td>surf</td>\n",
       "      <td>NaT</td>\n",
       "    </tr>\n",
       "  </tbody>\n",
       "</table>\n",
       "<p>500 rows × 8 columns</p>\n",
       "</div>"
      ],
      "text/plain": [
       "     user_id first_name   last_name  age                                       city                  reg_date      plan churn_date\n",
       "0       1000   anamaria       bauer   45      atlanta_sandy_springs_roswell,_ga_msa 2018-12-24 00:00:00+00:00  ultimate        NaT\n",
       "1       1001     mickey   wilkerson   28            seattle_tacoma_bellevue,_wa_msa 2018-08-13 00:00:00+00:00      surf        NaT\n",
       "2       1002     carlee     hoffman   36       las_vegas_henderson_paradise,_nv_msa 2018-10-21 00:00:00+00:00      surf        NaT\n",
       "3       1003   reynaldo     jenkins   52                              tulsa,_ok_msa 2018-01-28 00:00:00+00:00      surf        NaT\n",
       "4       1004    leonila    thompson   40            seattle_tacoma_bellevue,_wa_msa 2018-05-23 00:00:00+00:00      surf        NaT\n",
       "..       ...        ...         ...  ...                                        ...                       ...       ...        ...\n",
       "495     1495      fidel      sharpe   67  new_york_newark_jersey_city,_ny_nj_pa_msa 2018-09-04 00:00:00+00:00      surf        NaT\n",
       "496     1496      ariel    shepherd   49               new_orleans_metairie,_la_msa 2018-02-20 00:00:00+00:00      surf        NaT\n",
       "497     1497      donte     barrera   49     los_angeles_long_beach_anaheim,_ca_msa 2018-12-10 00:00:00+00:00  ultimate        NaT\n",
       "498     1498       scot  williamson   51  new_york_newark_jersey_city,_ny_nj_pa_msa 2018-02-04 00:00:00+00:00      surf        NaT\n",
       "499     1499      shena     dickson   37          orlando_kissimmee_sanford,_fl_msa 2018-05-06 00:00:00+00:00      surf        NaT\n",
       "\n",
       "[500 rows x 8 columns]"
      ]
     },
     "execution_count": 30,
     "metadata": {},
     "output_type": "execute_result"
    }
   ],
   "source": [
    "df_users"
   ]
  },
  {
   "cell_type": "code",
   "execution_count": 31,
   "id": "7db56311",
   "metadata": {},
   "outputs": [],
   "source": [
    "# Full Name\n",
    "df_users['full_name'] = df_users['first_name'] + \"_\" + df_users['last_name']"
   ]
  },
  {
   "cell_type": "code",
   "execution_count": 32,
   "id": "2eab0817",
   "metadata": {},
   "outputs": [],
   "source": [
    "# Add Month 'reg_date'\n",
    "df_users['reg_month'] = df_users['reg_date'].dt.month"
   ]
  },
  {
   "cell_type": "code",
   "execution_count": 33,
   "id": "b7588a63",
   "metadata": {},
   "outputs": [],
   "source": [
    "# Add Day 'reg_date'\n",
    "df_users['reg_day'] = df_users['reg_date'].dt.day"
   ]
  },
  {
   "cell_type": "code",
   "execution_count": 34,
   "id": "ec9e0a7c",
   "metadata": {},
   "outputs": [],
   "source": [
    "# Add Month 'churn_date'\n",
    "df_users['churn_month'] = df_users['churn_date'].dt.month"
   ]
  },
  {
   "cell_type": "code",
   "execution_count": 35,
   "id": "77216106",
   "metadata": {},
   "outputs": [],
   "source": [
    "# Add Day 'churn_date'\n",
    "df_users['churn_day'] = df_users['churn_date'].dt.day"
   ]
  },
  {
   "cell_type": "code",
   "execution_count": 36,
   "id": "78e7dabc",
   "metadata": {},
   "outputs": [
    {
     "data": {
      "application/vnd.microsoft.datawrangler.viewer.v0+json": {
       "columns": [
        {
         "name": "index",
         "rawType": "int64",
         "type": "integer"
        },
        {
         "name": "user_id",
         "rawType": "int64",
         "type": "integer"
        },
        {
         "name": "first_name",
         "rawType": "string",
         "type": "string"
        },
        {
         "name": "last_name",
         "rawType": "string",
         "type": "string"
        },
        {
         "name": "age",
         "rawType": "int64",
         "type": "integer"
        },
        {
         "name": "city",
         "rawType": "string",
         "type": "string"
        },
        {
         "name": "reg_date",
         "rawType": "datetime64[ns, UTC]",
         "type": "unknown"
        },
        {
         "name": "plan",
         "rawType": "category",
         "type": "unknown"
        },
        {
         "name": "churn_date",
         "rawType": "datetime64[ns, UTC]",
         "type": "unknown"
        },
        {
         "name": "full_name",
         "rawType": "string",
         "type": "string"
        },
        {
         "name": "reg_month",
         "rawType": "int32",
         "type": "integer"
        },
        {
         "name": "reg_day",
         "rawType": "int32",
         "type": "integer"
        },
        {
         "name": "churn_month",
         "rawType": "float64",
         "type": "float"
        },
        {
         "name": "churn_day",
         "rawType": "float64",
         "type": "float"
        }
       ],
       "ref": "c30b9fda-d5dc-42f2-a2c3-72c0cd2c9014",
       "rows": [
        [
         "0",
         "1000",
         "anamaria",
         "bauer",
         "45",
         "atlanta_sandy_springs_roswell,_ga_msa",
         "2018-12-24 00:00:00+00:00",
         "ultimate",
         null,
         "anamaria_bauer",
         "12",
         "24",
         null,
         null
        ],
        [
         "1",
         "1001",
         "mickey",
         "wilkerson",
         "28",
         "seattle_tacoma_bellevue,_wa_msa",
         "2018-08-13 00:00:00+00:00",
         "surf",
         null,
         "mickey_wilkerson",
         "8",
         "13",
         null,
         null
        ],
        [
         "2",
         "1002",
         "carlee",
         "hoffman",
         "36",
         "las_vegas_henderson_paradise,_nv_msa",
         "2018-10-21 00:00:00+00:00",
         "surf",
         null,
         "carlee_hoffman",
         "10",
         "21",
         null,
         null
        ],
        [
         "3",
         "1003",
         "reynaldo",
         "jenkins",
         "52",
         "tulsa,_ok_msa",
         "2018-01-28 00:00:00+00:00",
         "surf",
         null,
         "reynaldo_jenkins",
         "1",
         "28",
         null,
         null
        ],
        [
         "4",
         "1004",
         "leonila",
         "thompson",
         "40",
         "seattle_tacoma_bellevue,_wa_msa",
         "2018-05-23 00:00:00+00:00",
         "surf",
         null,
         "leonila_thompson",
         "5",
         "23",
         null,
         null
        ],
        [
         "5",
         "1005",
         "livia",
         "shields",
         "31",
         "dallas_fort_worth_arlington,_tx_msa",
         "2018-11-29 00:00:00+00:00",
         "surf",
         null,
         "livia_shields",
         "11",
         "29",
         null,
         null
        ],
        [
         "6",
         "1006",
         "jesusa",
         "bradford",
         "73",
         "san_francisco_oakland_berkeley,_ca_msa",
         "2018-11-27 00:00:00+00:00",
         "ultimate",
         "2018-12-18 00:00:00+00:00",
         "jesusa_bradford",
         "11",
         "27",
         "12.0",
         "18.0"
        ],
        [
         "7",
         "1007",
         "eusebio",
         "welch",
         "42",
         "grand_rapids_kentwood,_mi_msa",
         "2018-07-11 00:00:00+00:00",
         "surf",
         null,
         "eusebio_welch",
         "7",
         "11",
         null,
         null
        ],
        [
         "8",
         "1008",
         "emely",
         "hoffman",
         "53",
         "orlando_kissimmee_sanford,_fl_msa",
         "2018-08-03 00:00:00+00:00",
         "ultimate",
         null,
         "emely_hoffman",
         "8",
         "3",
         null,
         null
        ],
        [
         "9",
         "1009",
         "gerry",
         "little",
         "19",
         "san_jose_sunnyvale_santa_clara,_ca_msa",
         "2018-04-22 00:00:00+00:00",
         "surf",
         null,
         "gerry_little",
         "4",
         "22",
         null,
         null
        ],
        [
         "10",
         "1010",
         "wilber",
         "blair",
         "52",
         "dallas_fort_worth_arlington,_tx_msa",
         "2018-03-09 00:00:00+00:00",
         "surf",
         null,
         "wilber_blair",
         "3",
         "9",
         null,
         null
        ],
        [
         "11",
         "1011",
         "halina",
         "henry",
         "73",
         "cleveland_elyria,_oh_msa",
         "2018-01-18 00:00:00+00:00",
         "ultimate",
         null,
         "halina_henry",
         "1",
         "18",
         null,
         null
        ],
        [
         "12",
         "1012",
         "jonelle",
         "mcbride",
         "59",
         "chicago_naperville_elgin,_il_in_wi_msa",
         "2018-06-28 00:00:00+00:00",
         "surf",
         "2018-11-16 00:00:00+00:00",
         "jonelle_mcbride",
         "6",
         "28",
         "11.0",
         "16.0"
        ],
        [
         "13",
         "1013",
         "nicolas",
         "snider",
         "50",
         "knoxville,_tn_msa",
         "2018-12-01 00:00:00+00:00",
         "ultimate",
         null,
         "nicolas_snider",
         "12",
         "1",
         null,
         null
        ],
        [
         "14",
         "1014",
         "edmundo",
         "simon",
         "61",
         "new_york_newark_jersey_city,_ny_nj_pa_msa",
         "2018-11-25 00:00:00+00:00",
         "surf",
         null,
         "edmundo_simon",
         "11",
         "25",
         null,
         null
        ],
        [
         "15",
         "1015",
         "beata",
         "carpenter",
         "26",
         "pittsburgh,_pa_msa",
         "2018-12-05 00:00:00+00:00",
         "surf",
         null,
         "beata_carpenter",
         "12",
         "5",
         null,
         null
        ],
        [
         "16",
         "1016",
         "jann",
         "salinas",
         "30",
         "fresno,_ca_msa",
         "2018-10-25 00:00:00+00:00",
         "surf",
         null,
         "jann_salinas",
         "10",
         "25",
         null,
         null
        ],
        [
         "17",
         "1017",
         "boris",
         "gates",
         "61",
         "washington_arlington_alexandria,_dc_va_md_wv_msa",
         "2018-08-26 00:00:00+00:00",
         "surf",
         null,
         "boris_gates",
         "8",
         "26",
         null,
         null
        ],
        [
         "18",
         "1018",
         "dennis",
         "grimes",
         "70",
         "indianapolis_carmel_anderson,_in_msa",
         "2018-10-17 00:00:00+00:00",
         "surf",
         null,
         "dennis_grimes",
         "10",
         "17",
         null,
         null
        ],
        [
         "19",
         "1019",
         "shizue",
         "landry",
         "34",
         "jacksonville,_fl_msa",
         "2018-01-16 00:00:00+00:00",
         "surf",
         null,
         "shizue_landry",
         "1",
         "16",
         null,
         null
        ],
        [
         "20",
         "1020",
         "rutha",
         "bell",
         "56",
         "dallas_fort_worth_arlington,_tx_msa",
         "2018-11-08 00:00:00+00:00",
         "surf",
         null,
         "rutha_bell",
         "11",
         "8",
         null,
         null
        ],
        [
         "21",
         "1021",
         "ricarda",
         "booker",
         "37",
         "los_angeles_long_beach_anaheim,_ca_msa",
         "2018-12-21 00:00:00+00:00",
         "surf",
         null,
         "ricarda_booker",
         "12",
         "21",
         null,
         null
        ],
        [
         "22",
         "1022",
         "bo",
         "snow",
         "73",
         "new_york_newark_jersey_city,_ny_nj_pa_msa",
         "2018-04-20 00:00:00+00:00",
         "surf",
         "2018-09-07 00:00:00+00:00",
         "bo_snow",
         "4",
         "20",
         "9.0",
         "7.0"
        ],
        [
         "23",
         "1023",
         "jack",
         "delaney",
         "70",
         "omaha_council_bluffs,_ne_ia_msa",
         "2018-07-06 00:00:00+00:00",
         "surf",
         null,
         "jack_delaney",
         "7",
         "6",
         null,
         null
        ],
        [
         "24",
         "1024",
         "yuki",
         "tyson",
         "74",
         "new_york_newark_jersey_city,_ny_nj_pa_msa",
         "2018-08-21 00:00:00+00:00",
         "surf",
         null,
         "yuki_tyson",
         "8",
         "21",
         null,
         null
        ],
        [
         "25",
         "1025",
         "jess",
         "wilkinson",
         "64",
         "atlanta_sandy_springs_roswell,_ga_msa",
         "2018-10-28 00:00:00+00:00",
         "ultimate",
         null,
         "jess_wilkinson",
         "10",
         "28",
         null,
         null
        ],
        [
         "26",
         "1026",
         "meggan",
         "hamilton",
         "49",
         "houston_the_woodlands_sugar_land,_tx_msa",
         "2018-07-20 00:00:00+00:00",
         "ultimate",
         null,
         "meggan_hamilton",
         "7",
         "20",
         null,
         null
        ],
        [
         "27",
         "1027",
         "georgeanna",
         "cardenas",
         "38",
         "new_york_newark_jersey_city,_ny_nj_pa_msa",
         "2018-06-26 00:00:00+00:00",
         "surf",
         null,
         "georgeanna_cardenas",
         "6",
         "26",
         null,
         null
        ],
        [
         "28",
         "1028",
         "jefferey",
         "rasmussen",
         "57",
         "philadelphia_camden_wilmington,_pa_nj_de_md_msa",
         "2018-02-21 00:00:00+00:00",
         "ultimate",
         null,
         "jefferey_rasmussen",
         "2",
         "21",
         null,
         null
        ],
        [
         "29",
         "1029",
         "franklyn",
         "henson",
         "59",
         "tampa_st_petersburg_clearwater,_fl_msa",
         "2018-01-05 00:00:00+00:00",
         "surf",
         null,
         "franklyn_henson",
         "1",
         "5",
         null,
         null
        ],
        [
         "30",
         "1030",
         "chase",
         "kane",
         "30",
         "chicago_naperville_elgin,_il_in_wi_msa",
         "2018-02-14 00:00:00+00:00",
         "ultimate",
         null,
         "chase_kane",
         "2",
         "14",
         null,
         null
        ],
        [
         "31",
         "1031",
         "lane",
         "martin",
         "52",
         "new_york_newark_jersey_city,_ny_nj_pa_msa",
         "2018-07-15 00:00:00+00:00",
         "ultimate",
         null,
         "lane_martin",
         "7",
         "15",
         null,
         null
        ],
        [
         "32",
         "1032",
         "delila",
         "dalton",
         "59",
         "birmingham_hoover,_al_msa",
         "2018-06-07 00:00:00+00:00",
         "ultimate",
         null,
         "delila_dalton",
         "6",
         "7",
         null,
         null
        ],
        [
         "33",
         "1033",
         "latoyia",
         "moran",
         "28",
         "oklahoma_city,_ok_msa",
         "2018-05-30 00:00:00+00:00",
         "ultimate",
         null,
         "latoyia_moran",
         "5",
         "30",
         null,
         null
        ],
        [
         "34",
         "1034",
         "jc",
         "gentry",
         "22",
         "new_york_newark_jersey_city,_ny_nj_pa_msa",
         "2018-08-13 00:00:00+00:00",
         "surf",
         null,
         "jc_gentry",
         "8",
         "13",
         null,
         null
        ],
        [
         "35",
         "1035",
         "jeff",
         "cummings",
         "67",
         "charlotte_concord_gastonia,_nc_sc_msa",
         "2018-12-08 00:00:00+00:00",
         "surf",
         null,
         "jeff_cummings",
         "12",
         "8",
         null,
         null
        ],
        [
         "36",
         "1036",
         "myron",
         "hodge",
         "70",
         "denver_aurora_lakewood,_co_msa",
         "2018-05-09 00:00:00+00:00",
         "ultimate",
         null,
         "myron_hodge",
         "5",
         "9",
         null,
         null
        ],
        [
         "37",
         "1037",
         "reena",
         "velazquez",
         "20",
         "seattle_tacoma_bellevue,_wa_msa",
         "2018-08-11 00:00:00+00:00",
         "ultimate",
         null,
         "reena_velazquez",
         "8",
         "11",
         null,
         null
        ],
        [
         "38",
         "1038",
         "olympia",
         "velazquez",
         "32",
         "nashville_davidson_murfreesboro_franklin,_tn_msa",
         "2018-06-25 00:00:00+00:00",
         "ultimate",
         null,
         "olympia_velazquez",
         "6",
         "25",
         null,
         null
        ],
        [
         "39",
         "1039",
         "flo",
         "hicks",
         "56",
         "columbus,_oh_msa",
         "2018-05-30 00:00:00+00:00",
         "ultimate",
         null,
         "flo_hicks",
         "5",
         "30",
         null,
         null
        ],
        [
         "40",
         "1040",
         "paris",
         "santos",
         "72",
         "philadelphia_camden_wilmington,_pa_nj_de_md_msa",
         "2018-12-23 00:00:00+00:00",
         "surf",
         "2018-12-30 00:00:00+00:00",
         "paris_santos",
         "12",
         "23",
         "12.0",
         "30.0"
        ],
        [
         "41",
         "1041",
         "drucilla",
         "lynn",
         "58",
         "las_vegas_henderson_paradise,_nv_msa",
         "2018-03-17 00:00:00+00:00",
         "ultimate",
         null,
         "drucilla_lynn",
         "3",
         "17",
         null,
         null
        ],
        [
         "42",
         "1042",
         "clementina",
         "mclaughlin",
         "40",
         "philadelphia_camden_wilmington,_pa_nj_de_md_msa",
         "2018-01-15 00:00:00+00:00",
         "surf",
         null,
         "clementina_mclaughlin",
         "1",
         "15",
         null,
         null
        ],
        [
         "43",
         "1043",
         "carlos",
         "hinton",
         "42",
         "new_york_newark_jersey_city,_ny_nj_pa_msa",
         "2018-06-20 00:00:00+00:00",
         "ultimate",
         null,
         "carlos_hinton",
         "6",
         "20",
         null,
         null
        ],
        [
         "44",
         "1044",
         "devora",
         "galloway",
         "74",
         "albuquerque,_nm_msa",
         "2018-08-30 00:00:00+00:00",
         "surf",
         null,
         "devora_galloway",
         "8",
         "30",
         null,
         null
        ],
        [
         "45",
         "1045",
         "barney",
         "ortega",
         "20",
         "new_york_newark_jersey_city,_ny_nj_pa_msa",
         "2018-10-15 00:00:00+00:00",
         "surf",
         null,
         "barney_ortega",
         "10",
         "15",
         null,
         null
        ],
        [
         "46",
         "1046",
         "beata",
         "hooper",
         "67",
         "boston_cambridge_newton,_ma_nh_msa",
         "2018-02-19 00:00:00+00:00",
         "surf",
         null,
         "beata_hooper",
         "2",
         "19",
         null,
         null
        ],
        [
         "47",
         "1047",
         "yuk",
         "french",
         "22",
         "indianapolis_carmel_anderson,_in_msa",
         "2018-06-16 00:00:00+00:00",
         "ultimate",
         null,
         "yuk_french",
         "6",
         "16",
         null,
         null
        ],
        [
         "48",
         "1048",
         "linwood",
         "terrell",
         "42",
         "miami_fort_lauderdale_west_palm_beach,_fl_msa",
         "2018-08-24 00:00:00+00:00",
         "surf",
         null,
         "linwood_terrell",
         "8",
         "24",
         null,
         null
        ],
        [
         "49",
         "1049",
         "loise",
         "avery",
         "25",
         "new_york_newark_jersey_city,_ny_nj_pa_msa",
         "2018-02-21 00:00:00+00:00",
         "surf",
         null,
         "loise_avery",
         "2",
         "21",
         null,
         null
        ]
       ],
       "shape": {
        "columns": 13,
        "rows": 500
       }
      },
      "text/html": [
       "<div>\n",
       "<style scoped>\n",
       "    .dataframe tbody tr th:only-of-type {\n",
       "        vertical-align: middle;\n",
       "    }\n",
       "\n",
       "    .dataframe tbody tr th {\n",
       "        vertical-align: top;\n",
       "    }\n",
       "\n",
       "    .dataframe thead th {\n",
       "        text-align: right;\n",
       "    }\n",
       "</style>\n",
       "<table border=\"1\" class=\"dataframe\">\n",
       "  <thead>\n",
       "    <tr style=\"text-align: right;\">\n",
       "      <th></th>\n",
       "      <th>user_id</th>\n",
       "      <th>first_name</th>\n",
       "      <th>last_name</th>\n",
       "      <th>age</th>\n",
       "      <th>city</th>\n",
       "      <th>reg_date</th>\n",
       "      <th>plan</th>\n",
       "      <th>churn_date</th>\n",
       "      <th>full_name</th>\n",
       "      <th>reg_month</th>\n",
       "      <th>reg_day</th>\n",
       "      <th>churn_month</th>\n",
       "      <th>churn_day</th>\n",
       "    </tr>\n",
       "  </thead>\n",
       "  <tbody>\n",
       "    <tr>\n",
       "      <th>0</th>\n",
       "      <td>1000</td>\n",
       "      <td>anamaria</td>\n",
       "      <td>bauer</td>\n",
       "      <td>45</td>\n",
       "      <td>atlanta_sandy_springs_roswell,_ga_msa</td>\n",
       "      <td>2018-12-24 00:00:00+00:00</td>\n",
       "      <td>ultimate</td>\n",
       "      <td>NaT</td>\n",
       "      <td>anamaria_bauer</td>\n",
       "      <td>12</td>\n",
       "      <td>24</td>\n",
       "      <td>NaN</td>\n",
       "      <td>NaN</td>\n",
       "    </tr>\n",
       "    <tr>\n",
       "      <th>1</th>\n",
       "      <td>1001</td>\n",
       "      <td>mickey</td>\n",
       "      <td>wilkerson</td>\n",
       "      <td>28</td>\n",
       "      <td>seattle_tacoma_bellevue,_wa_msa</td>\n",
       "      <td>2018-08-13 00:00:00+00:00</td>\n",
       "      <td>surf</td>\n",
       "      <td>NaT</td>\n",
       "      <td>mickey_wilkerson</td>\n",
       "      <td>8</td>\n",
       "      <td>13</td>\n",
       "      <td>NaN</td>\n",
       "      <td>NaN</td>\n",
       "    </tr>\n",
       "    <tr>\n",
       "      <th>2</th>\n",
       "      <td>1002</td>\n",
       "      <td>carlee</td>\n",
       "      <td>hoffman</td>\n",
       "      <td>36</td>\n",
       "      <td>las_vegas_henderson_paradise,_nv_msa</td>\n",
       "      <td>2018-10-21 00:00:00+00:00</td>\n",
       "      <td>surf</td>\n",
       "      <td>NaT</td>\n",
       "      <td>carlee_hoffman</td>\n",
       "      <td>10</td>\n",
       "      <td>21</td>\n",
       "      <td>NaN</td>\n",
       "      <td>NaN</td>\n",
       "    </tr>\n",
       "    <tr>\n",
       "      <th>3</th>\n",
       "      <td>1003</td>\n",
       "      <td>reynaldo</td>\n",
       "      <td>jenkins</td>\n",
       "      <td>52</td>\n",
       "      <td>tulsa,_ok_msa</td>\n",
       "      <td>2018-01-28 00:00:00+00:00</td>\n",
       "      <td>surf</td>\n",
       "      <td>NaT</td>\n",
       "      <td>reynaldo_jenkins</td>\n",
       "      <td>1</td>\n",
       "      <td>28</td>\n",
       "      <td>NaN</td>\n",
       "      <td>NaN</td>\n",
       "    </tr>\n",
       "    <tr>\n",
       "      <th>4</th>\n",
       "      <td>1004</td>\n",
       "      <td>leonila</td>\n",
       "      <td>thompson</td>\n",
       "      <td>40</td>\n",
       "      <td>seattle_tacoma_bellevue,_wa_msa</td>\n",
       "      <td>2018-05-23 00:00:00+00:00</td>\n",
       "      <td>surf</td>\n",
       "      <td>NaT</td>\n",
       "      <td>leonila_thompson</td>\n",
       "      <td>5</td>\n",
       "      <td>23</td>\n",
       "      <td>NaN</td>\n",
       "      <td>NaN</td>\n",
       "    </tr>\n",
       "    <tr>\n",
       "      <th>...</th>\n",
       "      <td>...</td>\n",
       "      <td>...</td>\n",
       "      <td>...</td>\n",
       "      <td>...</td>\n",
       "      <td>...</td>\n",
       "      <td>...</td>\n",
       "      <td>...</td>\n",
       "      <td>...</td>\n",
       "      <td>...</td>\n",
       "      <td>...</td>\n",
       "      <td>...</td>\n",
       "      <td>...</td>\n",
       "      <td>...</td>\n",
       "    </tr>\n",
       "    <tr>\n",
       "      <th>495</th>\n",
       "      <td>1495</td>\n",
       "      <td>fidel</td>\n",
       "      <td>sharpe</td>\n",
       "      <td>67</td>\n",
       "      <td>new_york_newark_jersey_city,_ny_nj_pa_msa</td>\n",
       "      <td>2018-09-04 00:00:00+00:00</td>\n",
       "      <td>surf</td>\n",
       "      <td>NaT</td>\n",
       "      <td>fidel_sharpe</td>\n",
       "      <td>9</td>\n",
       "      <td>4</td>\n",
       "      <td>NaN</td>\n",
       "      <td>NaN</td>\n",
       "    </tr>\n",
       "    <tr>\n",
       "      <th>496</th>\n",
       "      <td>1496</td>\n",
       "      <td>ariel</td>\n",
       "      <td>shepherd</td>\n",
       "      <td>49</td>\n",
       "      <td>new_orleans_metairie,_la_msa</td>\n",
       "      <td>2018-02-20 00:00:00+00:00</td>\n",
       "      <td>surf</td>\n",
       "      <td>NaT</td>\n",
       "      <td>ariel_shepherd</td>\n",
       "      <td>2</td>\n",
       "      <td>20</td>\n",
       "      <td>NaN</td>\n",
       "      <td>NaN</td>\n",
       "    </tr>\n",
       "    <tr>\n",
       "      <th>497</th>\n",
       "      <td>1497</td>\n",
       "      <td>donte</td>\n",
       "      <td>barrera</td>\n",
       "      <td>49</td>\n",
       "      <td>los_angeles_long_beach_anaheim,_ca_msa</td>\n",
       "      <td>2018-12-10 00:00:00+00:00</td>\n",
       "      <td>ultimate</td>\n",
       "      <td>NaT</td>\n",
       "      <td>donte_barrera</td>\n",
       "      <td>12</td>\n",
       "      <td>10</td>\n",
       "      <td>NaN</td>\n",
       "      <td>NaN</td>\n",
       "    </tr>\n",
       "    <tr>\n",
       "      <th>498</th>\n",
       "      <td>1498</td>\n",
       "      <td>scot</td>\n",
       "      <td>williamson</td>\n",
       "      <td>51</td>\n",
       "      <td>new_york_newark_jersey_city,_ny_nj_pa_msa</td>\n",
       "      <td>2018-02-04 00:00:00+00:00</td>\n",
       "      <td>surf</td>\n",
       "      <td>NaT</td>\n",
       "      <td>scot_williamson</td>\n",
       "      <td>2</td>\n",
       "      <td>4</td>\n",
       "      <td>NaN</td>\n",
       "      <td>NaN</td>\n",
       "    </tr>\n",
       "    <tr>\n",
       "      <th>499</th>\n",
       "      <td>1499</td>\n",
       "      <td>shena</td>\n",
       "      <td>dickson</td>\n",
       "      <td>37</td>\n",
       "      <td>orlando_kissimmee_sanford,_fl_msa</td>\n",
       "      <td>2018-05-06 00:00:00+00:00</td>\n",
       "      <td>surf</td>\n",
       "      <td>NaT</td>\n",
       "      <td>shena_dickson</td>\n",
       "      <td>5</td>\n",
       "      <td>6</td>\n",
       "      <td>NaN</td>\n",
       "      <td>NaN</td>\n",
       "    </tr>\n",
       "  </tbody>\n",
       "</table>\n",
       "<p>500 rows × 13 columns</p>\n",
       "</div>"
      ],
      "text/plain": [
       "     user_id first_name   last_name  age                                       city                  reg_date      plan churn_date  \\\n",
       "0       1000   anamaria       bauer   45      atlanta_sandy_springs_roswell,_ga_msa 2018-12-24 00:00:00+00:00  ultimate        NaT   \n",
       "1       1001     mickey   wilkerson   28            seattle_tacoma_bellevue,_wa_msa 2018-08-13 00:00:00+00:00      surf        NaT   \n",
       "2       1002     carlee     hoffman   36       las_vegas_henderson_paradise,_nv_msa 2018-10-21 00:00:00+00:00      surf        NaT   \n",
       "3       1003   reynaldo     jenkins   52                              tulsa,_ok_msa 2018-01-28 00:00:00+00:00      surf        NaT   \n",
       "4       1004    leonila    thompson   40            seattle_tacoma_bellevue,_wa_msa 2018-05-23 00:00:00+00:00      surf        NaT   \n",
       "..       ...        ...         ...  ...                                        ...                       ...       ...        ...   \n",
       "495     1495      fidel      sharpe   67  new_york_newark_jersey_city,_ny_nj_pa_msa 2018-09-04 00:00:00+00:00      surf        NaT   \n",
       "496     1496      ariel    shepherd   49               new_orleans_metairie,_la_msa 2018-02-20 00:00:00+00:00      surf        NaT   \n",
       "497     1497      donte     barrera   49     los_angeles_long_beach_anaheim,_ca_msa 2018-12-10 00:00:00+00:00  ultimate        NaT   \n",
       "498     1498       scot  williamson   51  new_york_newark_jersey_city,_ny_nj_pa_msa 2018-02-04 00:00:00+00:00      surf        NaT   \n",
       "499     1499      shena     dickson   37          orlando_kissimmee_sanford,_fl_msa 2018-05-06 00:00:00+00:00      surf        NaT   \n",
       "\n",
       "            full_name  reg_month  reg_day  churn_month  churn_day  \n",
       "0      anamaria_bauer         12       24          NaN        NaN  \n",
       "1    mickey_wilkerson          8       13          NaN        NaN  \n",
       "2      carlee_hoffman         10       21          NaN        NaN  \n",
       "3    reynaldo_jenkins          1       28          NaN        NaN  \n",
       "4    leonila_thompson          5       23          NaN        NaN  \n",
       "..                ...        ...      ...          ...        ...  \n",
       "495      fidel_sharpe          9        4          NaN        NaN  \n",
       "496    ariel_shepherd          2       20          NaN        NaN  \n",
       "497     donte_barrera         12       10          NaN        NaN  \n",
       "498   scot_williamson          2        4          NaN        NaN  \n",
       "499     shena_dickson          5        6          NaN        NaN  \n",
       "\n",
       "[500 rows x 13 columns]"
      ]
     },
     "execution_count": 36,
     "metadata": {},
     "output_type": "execute_result"
    }
   ],
   "source": [
    "df_users"
   ]
  },
  {
   "cell_type": "code",
   "execution_count": 37,
   "id": "71c610be",
   "metadata": {},
   "outputs": [],
   "source": [
    "project_root = Path.cwd().parent\n",
    "processed_path = project_root / \"data\" / \"processed\" / \"feature\" / \"users_feature.csv\"\n",
    "\n",
    "df_users.to_csv(processed_path, index=False)"
   ]
  },
  {
   "cell_type": "markdown",
   "id": "bc2de2ee",
   "metadata": {},
   "source": [
    "### 4.2 Calls activity"
   ]
  },
  {
   "cell_type": "code",
   "execution_count": 38,
   "id": "bbe10151",
   "metadata": {},
   "outputs": [
    {
     "data": {
      "application/vnd.microsoft.datawrangler.viewer.v0+json": {
       "columns": [
        {
         "name": "index",
         "rawType": "int64",
         "type": "integer"
        },
        {
         "name": "call_id",
         "rawType": "object",
         "type": "string"
        },
        {
         "name": "user_id",
         "rawType": "int64",
         "type": "integer"
        },
        {
         "name": "call_date",
         "rawType": "datetime64[ns, UTC]",
         "type": "unknown"
        },
        {
         "name": "duration",
         "rawType": "float64",
         "type": "float"
        },
        {
         "name": "month",
         "rawType": "int32",
         "type": "integer"
        },
        {
         "name": "day",
         "rawType": "int32",
         "type": "integer"
        }
       ],
       "ref": "87287923-a5fe-41ae-8af8-f7795582baba",
       "rows": [
        [
         "0",
         "1000_93",
         "1000",
         "2018-12-27 00:00:00+00:00",
         "9.0",
         "12",
         "27"
        ],
        [
         "1",
         "1000_145",
         "1000",
         "2018-12-27 00:00:00+00:00",
         "14.0",
         "12",
         "27"
        ],
        [
         "2",
         "1000_247",
         "1000",
         "2018-12-27 00:00:00+00:00",
         "15.0",
         "12",
         "27"
        ],
        [
         "3",
         "1000_309",
         "1000",
         "2018-12-28 00:00:00+00:00",
         "6.0",
         "12",
         "28"
        ],
        [
         "4",
         "1000_380",
         "1000",
         "2018-12-30 00:00:00+00:00",
         "5.0",
         "12",
         "30"
        ],
        [
         "5",
         "1000_388",
         "1000",
         "2018-12-31 00:00:00+00:00",
         "3.0",
         "12",
         "31"
        ],
        [
         "6",
         "1000_510",
         "1000",
         "2018-12-27 00:00:00+00:00",
         "6.0",
         "12",
         "27"
        ],
        [
         "7",
         "1000_521",
         "1000",
         "2018-12-28 00:00:00+00:00",
         "15.0",
         "12",
         "28"
        ],
        [
         "8",
         "1000_530",
         "1000",
         "2018-12-28 00:00:00+00:00",
         "6.0",
         "12",
         "28"
        ],
        [
         "9",
         "1000_544",
         "1000",
         "2018-12-26 00:00:00+00:00",
         "5.0",
         "12",
         "26"
        ],
        [
         "10",
         "1000_693",
         "1000",
         "2018-12-31 00:00:00+00:00",
         "5.0",
         "12",
         "31"
        ],
        [
         "11",
         "1000_705",
         "1000",
         "2018-12-31 00:00:00+00:00",
         "13.0",
         "12",
         "31"
        ],
        [
         "12",
         "1000_735",
         "1000",
         "2018-12-29 00:00:00+00:00",
         "2.0",
         "12",
         "29"
        ],
        [
         "13",
         "1000_778",
         "1000",
         "2018-12-28 00:00:00+00:00",
         "4.0",
         "12",
         "28"
        ],
        [
         "14",
         "1000_826",
         "1000",
         "2018-12-26 00:00:00+00:00",
         "10.0",
         "12",
         "26"
        ],
        [
         "15",
         "1000_842",
         "1000",
         "2018-12-27 00:00:00+00:00",
         "6.0",
         "12",
         "27"
        ],
        [
         "16",
         "1001_0",
         "1001",
         "2018-09-06 00:00:00+00:00",
         "11.0",
         "9",
         "6"
        ],
        [
         "17",
         "1001_1",
         "1001",
         "2018-10-12 00:00:00+00:00",
         "1.0",
         "10",
         "12"
        ],
        [
         "18",
         "1001_2",
         "1001",
         "2018-10-17 00:00:00+00:00",
         "16.0",
         "10",
         "17"
        ],
        [
         "19",
         "1001_4",
         "1001",
         "2018-12-05 00:00:00+00:00",
         "0.0",
         "12",
         "5"
        ],
        [
         "20",
         "1001_5",
         "1001",
         "2018-12-13 00:00:00+00:00",
         "7.0",
         "12",
         "13"
        ],
        [
         "21",
         "1001_6",
         "1001",
         "2018-12-04 00:00:00+00:00",
         "8.0",
         "12",
         "4"
        ],
        [
         "22",
         "1001_8",
         "1001",
         "2018-11-17 00:00:00+00:00",
         "3.0",
         "11",
         "17"
        ],
        [
         "23",
         "1001_9",
         "1001",
         "2018-11-19 00:00:00+00:00",
         "3.0",
         "11",
         "19"
        ],
        [
         "24",
         "1001_11",
         "1001",
         "2018-11-09 00:00:00+00:00",
         "1.0",
         "11",
         "9"
        ],
        [
         "25",
         "1001_13",
         "1001",
         "2018-12-24 00:00:00+00:00",
         "0.0",
         "12",
         "24"
        ],
        [
         "26",
         "1001_19",
         "1001",
         "2018-11-15 00:00:00+00:00",
         "30.0",
         "11",
         "15"
        ],
        [
         "27",
         "1001_20",
         "1001",
         "2018-09-21 00:00:00+00:00",
         "6.0",
         "9",
         "21"
        ],
        [
         "28",
         "1001_23",
         "1001",
         "2018-10-27 00:00:00+00:00",
         "1.0",
         "10",
         "27"
        ],
        [
         "29",
         "1001_26",
         "1001",
         "2018-10-28 00:00:00+00:00",
         "6.0",
         "10",
         "28"
        ],
        [
         "30",
         "1001_29",
         "1001",
         "2018-09-30 00:00:00+00:00",
         "15.0",
         "9",
         "30"
        ],
        [
         "31",
         "1001_30",
         "1001",
         "2018-10-17 00:00:00+00:00",
         "0.0",
         "10",
         "17"
        ],
        [
         "32",
         "1001_31",
         "1001",
         "2018-11-03 00:00:00+00:00",
         "0.0",
         "11",
         "3"
        ],
        [
         "33",
         "1001_32",
         "1001",
         "2018-11-25 00:00:00+00:00",
         "4.0",
         "11",
         "25"
        ],
        [
         "34",
         "1001_35",
         "1001",
         "2018-12-21 00:00:00+00:00",
         "0.0",
         "12",
         "21"
        ],
        [
         "35",
         "1001_37",
         "1001",
         "2018-11-17 00:00:00+00:00",
         "16.0",
         "11",
         "17"
        ],
        [
         "36",
         "1001_39",
         "1001",
         "2018-12-07 00:00:00+00:00",
         "12.0",
         "12",
         "7"
        ],
        [
         "37",
         "1001_40",
         "1001",
         "2018-09-30 00:00:00+00:00",
         "19.0",
         "9",
         "30"
        ],
        [
         "38",
         "1001_42",
         "1001",
         "2018-08-28 00:00:00+00:00",
         "14.0",
         "8",
         "28"
        ],
        [
         "39",
         "1001_43",
         "1001",
         "2018-12-13 00:00:00+00:00",
         "0.0",
         "12",
         "13"
        ],
        [
         "40",
         "1001_44",
         "1001",
         "2018-12-01 00:00:00+00:00",
         "7.0",
         "12",
         "1"
        ],
        [
         "41",
         "1001_46",
         "1001",
         "2018-11-03 00:00:00+00:00",
         "1.0",
         "11",
         "3"
        ],
        [
         "42",
         "1001_47",
         "1001",
         "2018-11-08 00:00:00+00:00",
         "7.0",
         "11",
         "8"
        ],
        [
         "43",
         "1001_51",
         "1001",
         "2018-09-14 00:00:00+00:00",
         "17.0",
         "9",
         "14"
        ],
        [
         "44",
         "1001_52",
         "1001",
         "2018-11-23 00:00:00+00:00",
         "0.0",
         "11",
         "23"
        ],
        [
         "45",
         "1001_53",
         "1001",
         "2018-10-24 00:00:00+00:00",
         "0.0",
         "10",
         "24"
        ],
        [
         "46",
         "1001_54",
         "1001",
         "2018-12-11 00:00:00+00:00",
         "9.0",
         "12",
         "11"
        ],
        [
         "47",
         "1001_57",
         "1001",
         "2018-12-16 00:00:00+00:00",
         "22.0",
         "12",
         "16"
        ],
        [
         "48",
         "1001_59",
         "1001",
         "2018-12-19 00:00:00+00:00",
         "10.0",
         "12",
         "19"
        ],
        [
         "49",
         "1001_60",
         "1001",
         "2018-12-16 00:00:00+00:00",
         "0.0",
         "12",
         "16"
        ]
       ],
       "shape": {
        "columns": 6,
        "rows": 137735
       }
      },
      "text/html": [
       "<div>\n",
       "<style scoped>\n",
       "    .dataframe tbody tr th:only-of-type {\n",
       "        vertical-align: middle;\n",
       "    }\n",
       "\n",
       "    .dataframe tbody tr th {\n",
       "        vertical-align: top;\n",
       "    }\n",
       "\n",
       "    .dataframe thead th {\n",
       "        text-align: right;\n",
       "    }\n",
       "</style>\n",
       "<table border=\"1\" class=\"dataframe\">\n",
       "  <thead>\n",
       "    <tr style=\"text-align: right;\">\n",
       "      <th></th>\n",
       "      <th>call_id</th>\n",
       "      <th>user_id</th>\n",
       "      <th>call_date</th>\n",
       "      <th>duration</th>\n",
       "      <th>month</th>\n",
       "      <th>day</th>\n",
       "    </tr>\n",
       "  </thead>\n",
       "  <tbody>\n",
       "    <tr>\n",
       "      <th>0</th>\n",
       "      <td>1000_93</td>\n",
       "      <td>1000</td>\n",
       "      <td>2018-12-27 00:00:00+00:00</td>\n",
       "      <td>9.0</td>\n",
       "      <td>12</td>\n",
       "      <td>27</td>\n",
       "    </tr>\n",
       "    <tr>\n",
       "      <th>1</th>\n",
       "      <td>1000_145</td>\n",
       "      <td>1000</td>\n",
       "      <td>2018-12-27 00:00:00+00:00</td>\n",
       "      <td>14.0</td>\n",
       "      <td>12</td>\n",
       "      <td>27</td>\n",
       "    </tr>\n",
       "    <tr>\n",
       "      <th>2</th>\n",
       "      <td>1000_247</td>\n",
       "      <td>1000</td>\n",
       "      <td>2018-12-27 00:00:00+00:00</td>\n",
       "      <td>15.0</td>\n",
       "      <td>12</td>\n",
       "      <td>27</td>\n",
       "    </tr>\n",
       "    <tr>\n",
       "      <th>3</th>\n",
       "      <td>1000_309</td>\n",
       "      <td>1000</td>\n",
       "      <td>2018-12-28 00:00:00+00:00</td>\n",
       "      <td>6.0</td>\n",
       "      <td>12</td>\n",
       "      <td>28</td>\n",
       "    </tr>\n",
       "    <tr>\n",
       "      <th>4</th>\n",
       "      <td>1000_380</td>\n",
       "      <td>1000</td>\n",
       "      <td>2018-12-30 00:00:00+00:00</td>\n",
       "      <td>5.0</td>\n",
       "      <td>12</td>\n",
       "      <td>30</td>\n",
       "    </tr>\n",
       "    <tr>\n",
       "      <th>...</th>\n",
       "      <td>...</td>\n",
       "      <td>...</td>\n",
       "      <td>...</td>\n",
       "      <td>...</td>\n",
       "      <td>...</td>\n",
       "      <td>...</td>\n",
       "    </tr>\n",
       "    <tr>\n",
       "      <th>137730</th>\n",
       "      <td>1499_199</td>\n",
       "      <td>1499</td>\n",
       "      <td>2018-11-21 00:00:00+00:00</td>\n",
       "      <td>9.0</td>\n",
       "      <td>11</td>\n",
       "      <td>21</td>\n",
       "    </tr>\n",
       "    <tr>\n",
       "      <th>137731</th>\n",
       "      <td>1499_200</td>\n",
       "      <td>1499</td>\n",
       "      <td>2018-10-20 00:00:00+00:00</td>\n",
       "      <td>11.0</td>\n",
       "      <td>10</td>\n",
       "      <td>20</td>\n",
       "    </tr>\n",
       "    <tr>\n",
       "      <th>137732</th>\n",
       "      <td>1499_201</td>\n",
       "      <td>1499</td>\n",
       "      <td>2018-09-21 00:00:00+00:00</td>\n",
       "      <td>9.0</td>\n",
       "      <td>9</td>\n",
       "      <td>21</td>\n",
       "    </tr>\n",
       "    <tr>\n",
       "      <th>137733</th>\n",
       "      <td>1499_202</td>\n",
       "      <td>1499</td>\n",
       "      <td>2018-10-10 00:00:00+00:00</td>\n",
       "      <td>1.0</td>\n",
       "      <td>10</td>\n",
       "      <td>10</td>\n",
       "    </tr>\n",
       "    <tr>\n",
       "      <th>137734</th>\n",
       "      <td>1499_203</td>\n",
       "      <td>1499</td>\n",
       "      <td>2018-12-29 00:00:00+00:00</td>\n",
       "      <td>14.0</td>\n",
       "      <td>12</td>\n",
       "      <td>29</td>\n",
       "    </tr>\n",
       "  </tbody>\n",
       "</table>\n",
       "<p>137735 rows × 6 columns</p>\n",
       "</div>"
      ],
      "text/plain": [
       "         call_id  user_id                 call_date  duration  month  day\n",
       "0        1000_93     1000 2018-12-27 00:00:00+00:00       9.0     12   27\n",
       "1       1000_145     1000 2018-12-27 00:00:00+00:00      14.0     12   27\n",
       "2       1000_247     1000 2018-12-27 00:00:00+00:00      15.0     12   27\n",
       "3       1000_309     1000 2018-12-28 00:00:00+00:00       6.0     12   28\n",
       "4       1000_380     1000 2018-12-30 00:00:00+00:00       5.0     12   30\n",
       "...          ...      ...                       ...       ...    ...  ...\n",
       "137730  1499_199     1499 2018-11-21 00:00:00+00:00       9.0     11   21\n",
       "137731  1499_200     1499 2018-10-20 00:00:00+00:00      11.0     10   20\n",
       "137732  1499_201     1499 2018-09-21 00:00:00+00:00       9.0      9   21\n",
       "137733  1499_202     1499 2018-10-10 00:00:00+00:00       1.0     10   10\n",
       "137734  1499_203     1499 2018-12-29 00:00:00+00:00      14.0     12   29\n",
       "\n",
       "[137735 rows x 6 columns]"
      ]
     },
     "execution_count": 38,
     "metadata": {},
     "output_type": "execute_result"
    }
   ],
   "source": [
    "df_calls"
   ]
  },
  {
   "cell_type": "markdown",
   "id": "fc0b155f",
   "metadata": {},
   "source": [
    "#### 4.2.1 Calls amount and duration per user"
   ]
  },
  {
   "cell_type": "code",
   "execution_count": 39,
   "id": "b6222baa",
   "metadata": {},
   "outputs": [
    {
     "data": {
      "application/vnd.microsoft.datawrangler.viewer.v0+json": {
       "columns": [
        {
         "name": "index",
         "rawType": "int64",
         "type": "integer"
        },
        {
         "name": "user_id",
         "rawType": "int64",
         "type": "integer"
        },
        {
         "name": "total_calls",
         "rawType": "int64",
         "type": "integer"
        }
       ],
       "ref": "a365f38e-e794-468d-9762-f4524ec75efe",
       "rows": [
        [
         "0",
         "1000",
         "16"
        ],
        [
         "1",
         "1001",
         "261"
        ],
        [
         "2",
         "1002",
         "113"
        ],
        [
         "3",
         "1003",
         "149"
        ],
        [
         "4",
         "1004",
         "370"
        ],
        [
         "5",
         "1005",
         "59"
        ],
        [
         "6",
         "1006",
         "11"
        ],
        [
         "7",
         "1007",
         "380"
        ],
        [
         "8",
         "1008",
         "219"
        ],
        [
         "9",
         "1009",
         "856"
        ],
        [
         "10",
         "1010",
         "713"
        ],
        [
         "11",
         "1011",
         "413"
        ],
        [
         "12",
         "1012",
         "26"
        ],
        [
         "13",
         "1013",
         "35"
        ],
        [
         "14",
         "1014",
         "178"
        ],
        [
         "15",
         "1015",
         "16"
        ],
        [
         "16",
         "1016",
         "228"
        ],
        [
         "17",
         "1017",
         "266"
        ],
        [
         "18",
         "1018",
         "182"
        ],
        [
         "19",
         "1019",
         "66"
        ],
        [
         "20",
         "1020",
         "125"
        ],
        [
         "21",
         "1021",
         "52"
        ],
        [
         "22",
         "1022",
         "568"
        ],
        [
         "23",
         "1023",
         "18"
        ],
        [
         "24",
         "1024",
         "80"
        ],
        [
         "25",
         "1026",
         "57"
        ],
        [
         "26",
         "1027",
         "306"
        ],
        [
         "27",
         "1028",
         "73"
        ],
        [
         "28",
         "1029",
         "390"
        ],
        [
         "29",
         "1030",
         "216"
        ],
        [
         "30",
         "1031",
         "408"
        ],
        [
         "31",
         "1032",
         "134"
        ],
        [
         "32",
         "1033",
         "348"
        ],
        [
         "33",
         "1034",
         "2"
        ],
        [
         "34",
         "1035",
         "74"
        ],
        [
         "35",
         "1036",
         "414"
        ],
        [
         "36",
         "1037",
         "67"
        ],
        [
         "37",
         "1038",
         "171"
        ],
        [
         "38",
         "1039",
         "462"
        ],
        [
         "39",
         "1040",
         "43"
        ],
        [
         "40",
         "1041",
         "510"
        ],
        [
         "41",
         "1042",
         "503"
        ],
        [
         "42",
         "1043",
         "182"
        ],
        [
         "43",
         "1044",
         "158"
        ],
        [
         "44",
         "1045",
         "216"
        ],
        [
         "45",
         "1046",
         "518"
        ],
        [
         "46",
         "1047",
         "48"
        ],
        [
         "47",
         "1048",
         "133"
        ],
        [
         "48",
         "1049",
         "396"
        ],
        [
         "49",
         "1050",
         "523"
        ]
       ],
       "shape": {
        "columns": 2,
        "rows": 481
       }
      },
      "text/html": [
       "<div>\n",
       "<style scoped>\n",
       "    .dataframe tbody tr th:only-of-type {\n",
       "        vertical-align: middle;\n",
       "    }\n",
       "\n",
       "    .dataframe tbody tr th {\n",
       "        vertical-align: top;\n",
       "    }\n",
       "\n",
       "    .dataframe thead th {\n",
       "        text-align: right;\n",
       "    }\n",
       "</style>\n",
       "<table border=\"1\" class=\"dataframe\">\n",
       "  <thead>\n",
       "    <tr style=\"text-align: right;\">\n",
       "      <th></th>\n",
       "      <th>user_id</th>\n",
       "      <th>total_calls</th>\n",
       "    </tr>\n",
       "  </thead>\n",
       "  <tbody>\n",
       "    <tr>\n",
       "      <th>0</th>\n",
       "      <td>1000</td>\n",
       "      <td>16</td>\n",
       "    </tr>\n",
       "    <tr>\n",
       "      <th>1</th>\n",
       "      <td>1001</td>\n",
       "      <td>261</td>\n",
       "    </tr>\n",
       "    <tr>\n",
       "      <th>2</th>\n",
       "      <td>1002</td>\n",
       "      <td>113</td>\n",
       "    </tr>\n",
       "    <tr>\n",
       "      <th>3</th>\n",
       "      <td>1003</td>\n",
       "      <td>149</td>\n",
       "    </tr>\n",
       "    <tr>\n",
       "      <th>4</th>\n",
       "      <td>1004</td>\n",
       "      <td>370</td>\n",
       "    </tr>\n",
       "    <tr>\n",
       "      <th>...</th>\n",
       "      <td>...</td>\n",
       "      <td>...</td>\n",
       "    </tr>\n",
       "    <tr>\n",
       "      <th>476</th>\n",
       "      <td>1495</td>\n",
       "      <td>253</td>\n",
       "    </tr>\n",
       "    <tr>\n",
       "      <th>477</th>\n",
       "      <td>1496</td>\n",
       "      <td>195</td>\n",
       "    </tr>\n",
       "    <tr>\n",
       "      <th>478</th>\n",
       "      <td>1497</td>\n",
       "      <td>54</td>\n",
       "    </tr>\n",
       "    <tr>\n",
       "      <th>479</th>\n",
       "      <td>1498</td>\n",
       "      <td>451</td>\n",
       "    </tr>\n",
       "    <tr>\n",
       "      <th>480</th>\n",
       "      <td>1499</td>\n",
       "      <td>204</td>\n",
       "    </tr>\n",
       "  </tbody>\n",
       "</table>\n",
       "<p>481 rows × 2 columns</p>\n",
       "</div>"
      ],
      "text/plain": [
       "     user_id  total_calls\n",
       "0       1000           16\n",
       "1       1001          261\n",
       "2       1002          113\n",
       "3       1003          149\n",
       "4       1004          370\n",
       "..       ...          ...\n",
       "476     1495          253\n",
       "477     1496          195\n",
       "478     1497           54\n",
       "479     1498          451\n",
       "480     1499          204\n",
       "\n",
       "[481 rows x 2 columns]"
      ]
     },
     "execution_count": 39,
     "metadata": {},
     "output_type": "execute_result"
    }
   ],
   "source": [
    "df_calls_user_total = df_calls.groupby('user_id')['call_id'].count().reset_index()\n",
    "df_calls_user_total = df_calls_user_total.rename(columns={'call_id': 'total_calls'})\n",
    "df_calls_user_total"
   ]
  },
  {
   "cell_type": "code",
   "execution_count": 40,
   "id": "9e033ebd",
   "metadata": {},
   "outputs": [
    {
     "data": {
      "application/vnd.microsoft.datawrangler.viewer.v0+json": {
       "columns": [
        {
         "name": "index",
         "rawType": "int64",
         "type": "integer"
        },
        {
         "name": "user_id",
         "rawType": "int64",
         "type": "integer"
        },
        {
         "name": "month",
         "rawType": "int32",
         "type": "integer"
        },
        {
         "name": "total_duration_month",
         "rawType": "float64",
         "type": "float"
        }
       ],
       "ref": "92928030-83f9-4406-981d-35073dd3319a",
       "rows": [
        [
         "0",
         "1000",
         "12",
         "124.0"
        ],
        [
         "1",
         "1001",
         "8",
         "182.0"
        ],
        [
         "2",
         "1001",
         "9",
         "315.0"
        ],
        [
         "3",
         "1001",
         "10",
         "393.0"
        ],
        [
         "4",
         "1001",
         "11",
         "426.0"
        ],
        [
         "5",
         "1001",
         "12",
         "412.0"
        ],
        [
         "6",
         "1002",
         "10",
         "59.0"
        ],
        [
         "7",
         "1002",
         "11",
         "386.0"
        ],
        [
         "8",
         "1002",
         "12",
         "384.0"
        ],
        [
         "9",
         "1003",
         "12",
         "1104.0"
        ],
        [
         "10",
         "1004",
         "5",
         "193.0"
        ],
        [
         "11",
         "1004",
         "6",
         "275.0"
        ],
        [
         "12",
         "1004",
         "7",
         "381.0"
        ],
        [
         "13",
         "1004",
         "8",
         "354.0"
        ],
        [
         "14",
         "1004",
         "9",
         "301.0"
        ],
        [
         "15",
         "1004",
         "10",
         "365.0"
        ],
        [
         "16",
         "1004",
         "11",
         "476.0"
        ],
        [
         "17",
         "1004",
         "12",
         "427.0"
        ],
        [
         "18",
         "1005",
         "12",
         "496.0"
        ],
        [
         "19",
         "1006",
         "11",
         "10.0"
        ],
        [
         "20",
         "1006",
         "12",
         "59.0"
        ],
        [
         "21",
         "1007",
         "8",
         "456.0"
        ],
        [
         "22",
         "1007",
         "9",
         "399.0"
        ],
        [
         "23",
         "1007",
         "10",
         "645.0"
        ],
        [
         "24",
         "1007",
         "11",
         "524.0"
        ],
        [
         "25",
         "1007",
         "12",
         "617.0"
        ],
        [
         "26",
         "1008",
         "10",
         "476.0"
        ],
        [
         "27",
         "1008",
         "11",
         "446.0"
        ],
        [
         "28",
         "1008",
         "12",
         "634.0"
        ],
        [
         "29",
         "1009",
         "5",
         "534.0"
        ],
        [
         "30",
         "1009",
         "6",
         "823.0"
        ],
        [
         "31",
         "1009",
         "7",
         "880.0"
        ],
        [
         "32",
         "1009",
         "8",
         "731.0"
        ],
        [
         "33",
         "1009",
         "9",
         "776.0"
        ],
        [
         "34",
         "1009",
         "10",
         "740.0"
        ],
        [
         "35",
         "1009",
         "11",
         "714.0"
        ],
        [
         "36",
         "1009",
         "12",
         "756.0"
        ],
        [
         "37",
         "1010",
         "3",
         "429.0"
        ],
        [
         "38",
         "1010",
         "4",
         "656.0"
        ],
        [
         "39",
         "1010",
         "5",
         "532.0"
        ],
        [
         "40",
         "1010",
         "6",
         "553.0"
        ],
        [
         "41",
         "1010",
         "7",
         "698.0"
        ],
        [
         "42",
         "1010",
         "8",
         "637.0"
        ],
        [
         "43",
         "1010",
         "9",
         "601.0"
        ],
        [
         "44",
         "1010",
         "10",
         "711.0"
        ],
        [
         "45",
         "1010",
         "11",
         "258.0"
        ],
        [
         "46",
         "1011",
         "6",
         "118.0"
        ],
        [
         "47",
         "1011",
         "7",
         "499.0"
        ],
        [
         "48",
         "1011",
         "8",
         "486.0"
        ],
        [
         "49",
         "1011",
         "9",
         "484.0"
        ]
       ],
       "shape": {
        "columns": 3,
        "rows": 2258
       }
      },
      "text/html": [
       "<div>\n",
       "<style scoped>\n",
       "    .dataframe tbody tr th:only-of-type {\n",
       "        vertical-align: middle;\n",
       "    }\n",
       "\n",
       "    .dataframe tbody tr th {\n",
       "        vertical-align: top;\n",
       "    }\n",
       "\n",
       "    .dataframe thead th {\n",
       "        text-align: right;\n",
       "    }\n",
       "</style>\n",
       "<table border=\"1\" class=\"dataframe\">\n",
       "  <thead>\n",
       "    <tr style=\"text-align: right;\">\n",
       "      <th></th>\n",
       "      <th>user_id</th>\n",
       "      <th>month</th>\n",
       "      <th>total_duration_month</th>\n",
       "    </tr>\n",
       "  </thead>\n",
       "  <tbody>\n",
       "    <tr>\n",
       "      <th>0</th>\n",
       "      <td>1000</td>\n",
       "      <td>12</td>\n",
       "      <td>124.0</td>\n",
       "    </tr>\n",
       "    <tr>\n",
       "      <th>1</th>\n",
       "      <td>1001</td>\n",
       "      <td>8</td>\n",
       "      <td>182.0</td>\n",
       "    </tr>\n",
       "    <tr>\n",
       "      <th>2</th>\n",
       "      <td>1001</td>\n",
       "      <td>9</td>\n",
       "      <td>315.0</td>\n",
       "    </tr>\n",
       "    <tr>\n",
       "      <th>3</th>\n",
       "      <td>1001</td>\n",
       "      <td>10</td>\n",
       "      <td>393.0</td>\n",
       "    </tr>\n",
       "    <tr>\n",
       "      <th>4</th>\n",
       "      <td>1001</td>\n",
       "      <td>11</td>\n",
       "      <td>426.0</td>\n",
       "    </tr>\n",
       "    <tr>\n",
       "      <th>...</th>\n",
       "      <td>...</td>\n",
       "      <td>...</td>\n",
       "      <td>...</td>\n",
       "    </tr>\n",
       "    <tr>\n",
       "      <th>2253</th>\n",
       "      <td>1498</td>\n",
       "      <td>12</td>\n",
       "      <td>339.0</td>\n",
       "    </tr>\n",
       "    <tr>\n",
       "      <th>2254</th>\n",
       "      <td>1499</td>\n",
       "      <td>9</td>\n",
       "      <td>346.0</td>\n",
       "    </tr>\n",
       "    <tr>\n",
       "      <th>2255</th>\n",
       "      <td>1499</td>\n",
       "      <td>10</td>\n",
       "      <td>385.0</td>\n",
       "    </tr>\n",
       "    <tr>\n",
       "      <th>2256</th>\n",
       "      <td>1499</td>\n",
       "      <td>11</td>\n",
       "      <td>308.0</td>\n",
       "    </tr>\n",
       "    <tr>\n",
       "      <th>2257</th>\n",
       "      <td>1499</td>\n",
       "      <td>12</td>\n",
       "      <td>496.0</td>\n",
       "    </tr>\n",
       "  </tbody>\n",
       "</table>\n",
       "<p>2258 rows × 3 columns</p>\n",
       "</div>"
      ],
      "text/plain": [
       "      user_id  month  total_duration_month\n",
       "0        1000     12                 124.0\n",
       "1        1001      8                 182.0\n",
       "2        1001      9                 315.0\n",
       "3        1001     10                 393.0\n",
       "4        1001     11                 426.0\n",
       "...       ...    ...                   ...\n",
       "2253     1498     12                 339.0\n",
       "2254     1499      9                 346.0\n",
       "2255     1499     10                 385.0\n",
       "2256     1499     11                 308.0\n",
       "2257     1499     12                 496.0\n",
       "\n",
       "[2258 rows x 3 columns]"
      ]
     },
     "execution_count": 40,
     "metadata": {},
     "output_type": "execute_result"
    }
   ],
   "source": [
    "df_duration_user_month = df_calls.groupby(['user_id', 'month'])['duration'].sum().reset_index()\n",
    "df_duration_user_month = df_duration_user_month.rename(columns={'duration': 'total_duration_month'})\n",
    "df_duration_user_month"
   ]
  },
  {
   "cell_type": "code",
   "execution_count": 41,
   "id": "93f9113f",
   "metadata": {},
   "outputs": [
    {
     "data": {
      "application/vnd.microsoft.datawrangler.viewer.v0+json": {
       "columns": [
        {
         "name": "index",
         "rawType": "int64",
         "type": "integer"
        },
        {
         "name": "user_id",
         "rawType": "int64",
         "type": "integer"
        },
        {
         "name": "month",
         "rawType": "int32",
         "type": "integer"
        },
        {
         "name": "total_duration_month",
         "rawType": "float64",
         "type": "float"
        },
        {
         "name": "plan",
         "rawType": "category",
         "type": "unknown"
        }
       ],
       "ref": "743d9137-4027-4750-a423-1623d2d8f44f",
       "rows": [
        [
         "0",
         "1000",
         "12",
         "124.0",
         "ultimate"
        ],
        [
         "1",
         "1001",
         "8",
         "182.0",
         "surf"
        ],
        [
         "2",
         "1001",
         "9",
         "315.0",
         "surf"
        ],
        [
         "3",
         "1001",
         "10",
         "393.0",
         "surf"
        ],
        [
         "4",
         "1001",
         "11",
         "426.0",
         "surf"
        ],
        [
         "5",
         "1001",
         "12",
         "412.0",
         "surf"
        ],
        [
         "6",
         "1002",
         "10",
         "59.0",
         "surf"
        ],
        [
         "7",
         "1002",
         "11",
         "386.0",
         "surf"
        ],
        [
         "8",
         "1002",
         "12",
         "384.0",
         "surf"
        ],
        [
         "9",
         "1003",
         "12",
         "1104.0",
         "surf"
        ],
        [
         "10",
         "1004",
         "5",
         "193.0",
         "surf"
        ],
        [
         "11",
         "1004",
         "6",
         "275.0",
         "surf"
        ],
        [
         "12",
         "1004",
         "7",
         "381.0",
         "surf"
        ],
        [
         "13",
         "1004",
         "8",
         "354.0",
         "surf"
        ],
        [
         "14",
         "1004",
         "9",
         "301.0",
         "surf"
        ],
        [
         "15",
         "1004",
         "10",
         "365.0",
         "surf"
        ],
        [
         "16",
         "1004",
         "11",
         "476.0",
         "surf"
        ],
        [
         "17",
         "1004",
         "12",
         "427.0",
         "surf"
        ],
        [
         "18",
         "1005",
         "12",
         "496.0",
         "surf"
        ],
        [
         "19",
         "1006",
         "11",
         "10.0",
         "ultimate"
        ],
        [
         "20",
         "1006",
         "12",
         "59.0",
         "ultimate"
        ],
        [
         "21",
         "1007",
         "8",
         "456.0",
         "surf"
        ],
        [
         "22",
         "1007",
         "9",
         "399.0",
         "surf"
        ],
        [
         "23",
         "1007",
         "10",
         "645.0",
         "surf"
        ],
        [
         "24",
         "1007",
         "11",
         "524.0",
         "surf"
        ],
        [
         "25",
         "1007",
         "12",
         "617.0",
         "surf"
        ],
        [
         "26",
         "1008",
         "10",
         "476.0",
         "ultimate"
        ],
        [
         "27",
         "1008",
         "11",
         "446.0",
         "ultimate"
        ],
        [
         "28",
         "1008",
         "12",
         "634.0",
         "ultimate"
        ],
        [
         "29",
         "1009",
         "5",
         "534.0",
         "surf"
        ],
        [
         "30",
         "1009",
         "6",
         "823.0",
         "surf"
        ],
        [
         "31",
         "1009",
         "7",
         "880.0",
         "surf"
        ],
        [
         "32",
         "1009",
         "8",
         "731.0",
         "surf"
        ],
        [
         "33",
         "1009",
         "9",
         "776.0",
         "surf"
        ],
        [
         "34",
         "1009",
         "10",
         "740.0",
         "surf"
        ],
        [
         "35",
         "1009",
         "11",
         "714.0",
         "surf"
        ],
        [
         "36",
         "1009",
         "12",
         "756.0",
         "surf"
        ],
        [
         "37",
         "1010",
         "3",
         "429.0",
         "surf"
        ],
        [
         "38",
         "1010",
         "4",
         "656.0",
         "surf"
        ],
        [
         "39",
         "1010",
         "5",
         "532.0",
         "surf"
        ],
        [
         "40",
         "1010",
         "6",
         "553.0",
         "surf"
        ],
        [
         "41",
         "1010",
         "7",
         "698.0",
         "surf"
        ],
        [
         "42",
         "1010",
         "8",
         "637.0",
         "surf"
        ],
        [
         "43",
         "1010",
         "9",
         "601.0",
         "surf"
        ],
        [
         "44",
         "1010",
         "10",
         "711.0",
         "surf"
        ],
        [
         "45",
         "1010",
         "11",
         "258.0",
         "surf"
        ],
        [
         "46",
         "1011",
         "6",
         "118.0",
         "ultimate"
        ],
        [
         "47",
         "1011",
         "7",
         "499.0",
         "ultimate"
        ],
        [
         "48",
         "1011",
         "8",
         "486.0",
         "ultimate"
        ],
        [
         "49",
         "1011",
         "9",
         "484.0",
         "ultimate"
        ]
       ],
       "shape": {
        "columns": 4,
        "rows": 2258
       }
      },
      "text/html": [
       "<div>\n",
       "<style scoped>\n",
       "    .dataframe tbody tr th:only-of-type {\n",
       "        vertical-align: middle;\n",
       "    }\n",
       "\n",
       "    .dataframe tbody tr th {\n",
       "        vertical-align: top;\n",
       "    }\n",
       "\n",
       "    .dataframe thead th {\n",
       "        text-align: right;\n",
       "    }\n",
       "</style>\n",
       "<table border=\"1\" class=\"dataframe\">\n",
       "  <thead>\n",
       "    <tr style=\"text-align: right;\">\n",
       "      <th></th>\n",
       "      <th>user_id</th>\n",
       "      <th>month</th>\n",
       "      <th>total_duration_month</th>\n",
       "      <th>plan</th>\n",
       "    </tr>\n",
       "  </thead>\n",
       "  <tbody>\n",
       "    <tr>\n",
       "      <th>0</th>\n",
       "      <td>1000</td>\n",
       "      <td>12</td>\n",
       "      <td>124.0</td>\n",
       "      <td>ultimate</td>\n",
       "    </tr>\n",
       "    <tr>\n",
       "      <th>1</th>\n",
       "      <td>1001</td>\n",
       "      <td>8</td>\n",
       "      <td>182.0</td>\n",
       "      <td>surf</td>\n",
       "    </tr>\n",
       "    <tr>\n",
       "      <th>2</th>\n",
       "      <td>1001</td>\n",
       "      <td>9</td>\n",
       "      <td>315.0</td>\n",
       "      <td>surf</td>\n",
       "    </tr>\n",
       "    <tr>\n",
       "      <th>3</th>\n",
       "      <td>1001</td>\n",
       "      <td>10</td>\n",
       "      <td>393.0</td>\n",
       "      <td>surf</td>\n",
       "    </tr>\n",
       "    <tr>\n",
       "      <th>4</th>\n",
       "      <td>1001</td>\n",
       "      <td>11</td>\n",
       "      <td>426.0</td>\n",
       "      <td>surf</td>\n",
       "    </tr>\n",
       "    <tr>\n",
       "      <th>...</th>\n",
       "      <td>...</td>\n",
       "      <td>...</td>\n",
       "      <td>...</td>\n",
       "      <td>...</td>\n",
       "    </tr>\n",
       "    <tr>\n",
       "      <th>2253</th>\n",
       "      <td>1498</td>\n",
       "      <td>12</td>\n",
       "      <td>339.0</td>\n",
       "      <td>surf</td>\n",
       "    </tr>\n",
       "    <tr>\n",
       "      <th>2254</th>\n",
       "      <td>1499</td>\n",
       "      <td>9</td>\n",
       "      <td>346.0</td>\n",
       "      <td>surf</td>\n",
       "    </tr>\n",
       "    <tr>\n",
       "      <th>2255</th>\n",
       "      <td>1499</td>\n",
       "      <td>10</td>\n",
       "      <td>385.0</td>\n",
       "      <td>surf</td>\n",
       "    </tr>\n",
       "    <tr>\n",
       "      <th>2256</th>\n",
       "      <td>1499</td>\n",
       "      <td>11</td>\n",
       "      <td>308.0</td>\n",
       "      <td>surf</td>\n",
       "    </tr>\n",
       "    <tr>\n",
       "      <th>2257</th>\n",
       "      <td>1499</td>\n",
       "      <td>12</td>\n",
       "      <td>496.0</td>\n",
       "      <td>surf</td>\n",
       "    </tr>\n",
       "  </tbody>\n",
       "</table>\n",
       "<p>2258 rows × 4 columns</p>\n",
       "</div>"
      ],
      "text/plain": [
       "      user_id  month  total_duration_month      plan\n",
       "0        1000     12                 124.0  ultimate\n",
       "1        1001      8                 182.0      surf\n",
       "2        1001      9                 315.0      surf\n",
       "3        1001     10                 393.0      surf\n",
       "4        1001     11                 426.0      surf\n",
       "...       ...    ...                   ...       ...\n",
       "2253     1498     12                 339.0      surf\n",
       "2254     1499      9                 346.0      surf\n",
       "2255     1499     10                 385.0      surf\n",
       "2256     1499     11                 308.0      surf\n",
       "2257     1499     12                 496.0      surf\n",
       "\n",
       "[2258 rows x 4 columns]"
      ]
     },
     "execution_count": 41,
     "metadata": {},
     "output_type": "execute_result"
    }
   ],
   "source": [
    "df_duration_user_month = df_duration_user_month.merge(df_users[['user_id', 'plan']], on='user_id', how='left')\n",
    "df_duration_user_month"
   ]
  },
  {
   "cell_type": "code",
   "execution_count": 42,
   "id": "b8acfe7c",
   "metadata": {},
   "outputs": [
    {
     "data": {
      "application/vnd.microsoft.datawrangler.viewer.v0+json": {
       "columns": [
        {
         "name": "index",
         "rawType": "int64",
         "type": "integer"
        },
        {
         "name": "user_id",
         "rawType": "int64",
         "type": "integer"
        },
        {
         "name": "month",
         "rawType": "int32",
         "type": "integer"
        },
        {
         "name": "total_duration_month",
         "rawType": "float64",
         "type": "float"
        },
        {
         "name": "plan",
         "rawType": "category",
         "type": "unknown"
        },
        {
         "name": "total_duration_revenue_month",
         "rawType": "float64",
         "type": "float"
        }
       ],
       "ref": "82c377a9-c0db-403b-93a2-2135b05cd2db",
       "rows": [
        [
         "0",
         "1000",
         "12",
         "124.0",
         "ultimate",
         "70.0"
        ],
        [
         "1",
         "1001",
         "8",
         "182.0",
         "surf",
         "20.0"
        ],
        [
         "2",
         "1001",
         "9",
         "315.0",
         "surf",
         "20.0"
        ],
        [
         "3",
         "1001",
         "10",
         "393.0",
         "surf",
         "20.0"
        ],
        [
         "4",
         "1001",
         "11",
         "426.0",
         "surf",
         "20.0"
        ],
        [
         "5",
         "1001",
         "12",
         "412.0",
         "surf",
         "20.0"
        ],
        [
         "6",
         "1002",
         "10",
         "59.0",
         "surf",
         "20.0"
        ],
        [
         "7",
         "1002",
         "11",
         "386.0",
         "surf",
         "20.0"
        ],
        [
         "8",
         "1002",
         "12",
         "384.0",
         "surf",
         "20.0"
        ],
        [
         "9",
         "1003",
         "12",
         "1104.0",
         "surf",
         "38.12"
        ],
        [
         "10",
         "1004",
         "5",
         "193.0",
         "surf",
         "20.0"
        ],
        [
         "11",
         "1004",
         "6",
         "275.0",
         "surf",
         "20.0"
        ],
        [
         "12",
         "1004",
         "7",
         "381.0",
         "surf",
         "20.0"
        ],
        [
         "13",
         "1004",
         "8",
         "354.0",
         "surf",
         "20.0"
        ],
        [
         "14",
         "1004",
         "9",
         "301.0",
         "surf",
         "20.0"
        ],
        [
         "15",
         "1004",
         "10",
         "365.0",
         "surf",
         "20.0"
        ],
        [
         "16",
         "1004",
         "11",
         "476.0",
         "surf",
         "20.0"
        ],
        [
         "17",
         "1004",
         "12",
         "427.0",
         "surf",
         "20.0"
        ],
        [
         "18",
         "1005",
         "12",
         "496.0",
         "surf",
         "20.0"
        ],
        [
         "19",
         "1006",
         "11",
         "10.0",
         "ultimate",
         "70.0"
        ],
        [
         "20",
         "1006",
         "12",
         "59.0",
         "ultimate",
         "70.0"
        ],
        [
         "21",
         "1007",
         "8",
         "456.0",
         "surf",
         "20.0"
        ],
        [
         "22",
         "1007",
         "9",
         "399.0",
         "surf",
         "20.0"
        ],
        [
         "23",
         "1007",
         "10",
         "645.0",
         "surf",
         "24.35"
        ],
        [
         "24",
         "1007",
         "11",
         "524.0",
         "surf",
         "20.72"
        ],
        [
         "25",
         "1007",
         "12",
         "617.0",
         "surf",
         "23.51"
        ],
        [
         "26",
         "1008",
         "10",
         "476.0",
         "ultimate",
         "70.0"
        ],
        [
         "27",
         "1008",
         "11",
         "446.0",
         "ultimate",
         "70.0"
        ],
        [
         "28",
         "1008",
         "12",
         "634.0",
         "ultimate",
         "70.0"
        ],
        [
         "29",
         "1009",
         "5",
         "534.0",
         "surf",
         "21.02"
        ],
        [
         "30",
         "1009",
         "6",
         "823.0",
         "surf",
         "29.69"
        ],
        [
         "31",
         "1009",
         "7",
         "880.0",
         "surf",
         "31.4"
        ],
        [
         "32",
         "1009",
         "8",
         "731.0",
         "surf",
         "26.93"
        ],
        [
         "33",
         "1009",
         "9",
         "776.0",
         "surf",
         "28.28"
        ],
        [
         "34",
         "1009",
         "10",
         "740.0",
         "surf",
         "27.2"
        ],
        [
         "35",
         "1009",
         "11",
         "714.0",
         "surf",
         "26.42"
        ],
        [
         "36",
         "1009",
         "12",
         "756.0",
         "surf",
         "27.68"
        ],
        [
         "37",
         "1010",
         "3",
         "429.0",
         "surf",
         "20.0"
        ],
        [
         "38",
         "1010",
         "4",
         "656.0",
         "surf",
         "24.68"
        ],
        [
         "39",
         "1010",
         "5",
         "532.0",
         "surf",
         "20.96"
        ],
        [
         "40",
         "1010",
         "6",
         "553.0",
         "surf",
         "21.59"
        ],
        [
         "41",
         "1010",
         "7",
         "698.0",
         "surf",
         "25.94"
        ],
        [
         "42",
         "1010",
         "8",
         "637.0",
         "surf",
         "24.11"
        ],
        [
         "43",
         "1010",
         "9",
         "601.0",
         "surf",
         "23.03"
        ],
        [
         "44",
         "1010",
         "10",
         "711.0",
         "surf",
         "26.33"
        ],
        [
         "45",
         "1010",
         "11",
         "258.0",
         "surf",
         "20.0"
        ],
        [
         "46",
         "1011",
         "6",
         "118.0",
         "ultimate",
         "70.0"
        ],
        [
         "47",
         "1011",
         "7",
         "499.0",
         "ultimate",
         "70.0"
        ],
        [
         "48",
         "1011",
         "8",
         "486.0",
         "ultimate",
         "70.0"
        ],
        [
         "49",
         "1011",
         "9",
         "484.0",
         "ultimate",
         "70.0"
        ]
       ],
       "shape": {
        "columns": 5,
        "rows": 2258
       }
      },
      "text/html": [
       "<div>\n",
       "<style scoped>\n",
       "    .dataframe tbody tr th:only-of-type {\n",
       "        vertical-align: middle;\n",
       "    }\n",
       "\n",
       "    .dataframe tbody tr th {\n",
       "        vertical-align: top;\n",
       "    }\n",
       "\n",
       "    .dataframe thead th {\n",
       "        text-align: right;\n",
       "    }\n",
       "</style>\n",
       "<table border=\"1\" class=\"dataframe\">\n",
       "  <thead>\n",
       "    <tr style=\"text-align: right;\">\n",
       "      <th></th>\n",
       "      <th>user_id</th>\n",
       "      <th>month</th>\n",
       "      <th>total_duration_month</th>\n",
       "      <th>plan</th>\n",
       "      <th>total_duration_revenue_month</th>\n",
       "    </tr>\n",
       "  </thead>\n",
       "  <tbody>\n",
       "    <tr>\n",
       "      <th>0</th>\n",
       "      <td>1000</td>\n",
       "      <td>12</td>\n",
       "      <td>124.0</td>\n",
       "      <td>ultimate</td>\n",
       "      <td>70.0</td>\n",
       "    </tr>\n",
       "    <tr>\n",
       "      <th>1</th>\n",
       "      <td>1001</td>\n",
       "      <td>8</td>\n",
       "      <td>182.0</td>\n",
       "      <td>surf</td>\n",
       "      <td>20.0</td>\n",
       "    </tr>\n",
       "    <tr>\n",
       "      <th>2</th>\n",
       "      <td>1001</td>\n",
       "      <td>9</td>\n",
       "      <td>315.0</td>\n",
       "      <td>surf</td>\n",
       "      <td>20.0</td>\n",
       "    </tr>\n",
       "    <tr>\n",
       "      <th>3</th>\n",
       "      <td>1001</td>\n",
       "      <td>10</td>\n",
       "      <td>393.0</td>\n",
       "      <td>surf</td>\n",
       "      <td>20.0</td>\n",
       "    </tr>\n",
       "    <tr>\n",
       "      <th>4</th>\n",
       "      <td>1001</td>\n",
       "      <td>11</td>\n",
       "      <td>426.0</td>\n",
       "      <td>surf</td>\n",
       "      <td>20.0</td>\n",
       "    </tr>\n",
       "    <tr>\n",
       "      <th>...</th>\n",
       "      <td>...</td>\n",
       "      <td>...</td>\n",
       "      <td>...</td>\n",
       "      <td>...</td>\n",
       "      <td>...</td>\n",
       "    </tr>\n",
       "    <tr>\n",
       "      <th>2253</th>\n",
       "      <td>1498</td>\n",
       "      <td>12</td>\n",
       "      <td>339.0</td>\n",
       "      <td>surf</td>\n",
       "      <td>20.0</td>\n",
       "    </tr>\n",
       "    <tr>\n",
       "      <th>2254</th>\n",
       "      <td>1499</td>\n",
       "      <td>9</td>\n",
       "      <td>346.0</td>\n",
       "      <td>surf</td>\n",
       "      <td>20.0</td>\n",
       "    </tr>\n",
       "    <tr>\n",
       "      <th>2255</th>\n",
       "      <td>1499</td>\n",
       "      <td>10</td>\n",
       "      <td>385.0</td>\n",
       "      <td>surf</td>\n",
       "      <td>20.0</td>\n",
       "    </tr>\n",
       "    <tr>\n",
       "      <th>2256</th>\n",
       "      <td>1499</td>\n",
       "      <td>11</td>\n",
       "      <td>308.0</td>\n",
       "      <td>surf</td>\n",
       "      <td>20.0</td>\n",
       "    </tr>\n",
       "    <tr>\n",
       "      <th>2257</th>\n",
       "      <td>1499</td>\n",
       "      <td>12</td>\n",
       "      <td>496.0</td>\n",
       "      <td>surf</td>\n",
       "      <td>20.0</td>\n",
       "    </tr>\n",
       "  </tbody>\n",
       "</table>\n",
       "<p>2258 rows × 5 columns</p>\n",
       "</div>"
      ],
      "text/plain": [
       "      user_id  month  total_duration_month      plan  total_duration_revenue_month\n",
       "0        1000     12                 124.0  ultimate                          70.0\n",
       "1        1001      8                 182.0      surf                          20.0\n",
       "2        1001      9                 315.0      surf                          20.0\n",
       "3        1001     10                 393.0      surf                          20.0\n",
       "4        1001     11                 426.0      surf                          20.0\n",
       "...       ...    ...                   ...       ...                           ...\n",
       "2253     1498     12                 339.0      surf                          20.0\n",
       "2254     1499      9                 346.0      surf                          20.0\n",
       "2255     1499     10                 385.0      surf                          20.0\n",
       "2256     1499     11                 308.0      surf                          20.0\n",
       "2257     1499     12                 496.0      surf                          20.0\n",
       "\n",
       "[2258 rows x 5 columns]"
      ]
     },
     "execution_count": 42,
     "metadata": {},
     "output_type": "execute_result"
    }
   ],
   "source": [
    "df_duration_user_month['total_duration_revenue_month'] = np.round(df_duration_user_month.apply(lambda row: revenue(row, 'duration', 'total_duration_month'), axis=1), 3)\n",
    "df_duration_user_month"
   ]
  },
  {
   "cell_type": "code",
   "execution_count": 43,
   "id": "1267a4cf",
   "metadata": {},
   "outputs": [
    {
     "data": {
      "application/vnd.microsoft.datawrangler.viewer.v0+json": {
       "columns": [
        {
         "name": "index",
         "rawType": "int64",
         "type": "integer"
        },
        {
         "name": "user_id",
         "rawType": "int64",
         "type": "integer"
        },
        {
         "name": "total_duration_month",
         "rawType": "float64",
         "type": "float"
        },
        {
         "name": "total_duration_revenue_month",
         "rawType": "float64",
         "type": "float"
        }
       ],
       "ref": "896ec4f2-d647-4b18-956d-3e13686f16c4",
       "rows": [
        [
         "0",
         "1000",
         "124.0",
         "70.0"
        ],
        [
         "1",
         "1001",
         "1728.0",
         "100.0"
        ],
        [
         "2",
         "1002",
         "829.0",
         "60.0"
        ],
        [
         "3",
         "1003",
         "1104.0",
         "38.12"
        ],
        [
         "4",
         "1004",
         "2772.0",
         "160.0"
        ],
        [
         "5",
         "1005",
         "496.0",
         "20.0"
        ],
        [
         "6",
         "1006",
         "69.0",
         "140.0"
        ],
        [
         "7",
         "1007",
         "2641.0",
         "108.58"
        ],
        [
         "8",
         "1008",
         "1556.0",
         "210.0"
        ],
        [
         "9",
         "1009",
         "5954.0",
         "218.62"
        ],
        [
         "10",
         "1010",
         "5075.0",
         "206.64"
        ],
        [
         "11",
         "1011",
         "2907.0",
         "490.0"
        ],
        [
         "12",
         "1012",
         "153.0",
         "40.0"
        ],
        [
         "13",
         "1013",
         "219.0",
         "70.0"
        ],
        [
         "14",
         "1014",
         "1277.0",
         "58.42"
        ],
        [
         "15",
         "1015",
         "96.0",
         "20.0"
        ],
        [
         "16",
         "1016",
         "1659.0",
         "74.58"
        ],
        [
         "17",
         "1017",
         "1681.0",
         "100.0"
        ],
        [
         "18",
         "1018",
         "1296.0",
         "64.08"
        ],
        [
         "19",
         "1019",
         "511.0",
         "40.0"
        ],
        [
         "20",
         "1020",
         "930.0",
         "40.0"
        ],
        [
         "21",
         "1021",
         "401.0",
         "20.0"
        ],
        [
         "22",
         "1022",
         "4065.0",
         "169.0"
        ],
        [
         "23",
         "1023",
         "115.0",
         "40.0"
        ],
        [
         "24",
         "1024",
         "564.0",
         "21.92"
        ],
        [
         "25",
         "1026",
         "357.0",
         "140.0"
        ],
        [
         "26",
         "1027",
         "2143.0",
         "120.0"
        ],
        [
         "27",
         "1028",
         "525.0",
         "700.0"
        ],
        [
         "28",
         "1029",
         "2768.0",
         "121.75"
        ],
        [
         "29",
         "1030",
         "1358.0",
         "210.0"
        ],
        [
         "30",
         "1031",
         "2947.0",
         "420.0"
        ],
        [
         "31",
         "1032",
         "1072.0",
         "140.0"
        ],
        [
         "32",
         "1033",
         "2547.0",
         "280.0"
        ],
        [
         "33",
         "1034",
         "7.0",
         "20.0"
        ],
        [
         "34",
         "1035",
         "627.0",
         "23.81"
        ],
        [
         "35",
         "1036",
         "2815.0",
         "490.0"
        ],
        [
         "36",
         "1037",
         "463.0",
         "70.0"
        ],
        [
         "37",
         "1038",
         "1070.0",
         "210.0"
        ],
        [
         "38",
         "1039",
         "3214.0",
         "490.0"
        ],
        [
         "39",
         "1040",
         "294.0",
         "20.0"
        ],
        [
         "40",
         "1041",
         "3682.0",
         "700.0"
        ],
        [
         "41",
         "1042",
         "3647.0",
         "240.0"
        ],
        [
         "42",
         "1043",
         "1317.0",
         "490.0"
        ],
        [
         "43",
         "1044",
         "1160.0",
         "100.0"
        ],
        [
         "44",
         "1045",
         "1499.0",
         "65.7"
        ],
        [
         "45",
         "1046",
         "3529.0",
         "147.74"
        ],
        [
         "46",
         "1047",
         "369.0",
         "70.0"
        ],
        [
         "47",
         "1048",
         "952.0",
         "100.0"
        ],
        [
         "48",
         "1049",
         "2835.0",
         "180.0"
        ],
        [
         "49",
         "1050",
         "3555.0",
         "700.0"
        ]
       ],
       "shape": {
        "columns": 3,
        "rows": 481
       }
      },
      "text/html": [
       "<div>\n",
       "<style scoped>\n",
       "    .dataframe tbody tr th:only-of-type {\n",
       "        vertical-align: middle;\n",
       "    }\n",
       "\n",
       "    .dataframe tbody tr th {\n",
       "        vertical-align: top;\n",
       "    }\n",
       "\n",
       "    .dataframe thead th {\n",
       "        text-align: right;\n",
       "    }\n",
       "</style>\n",
       "<table border=\"1\" class=\"dataframe\">\n",
       "  <thead>\n",
       "    <tr style=\"text-align: right;\">\n",
       "      <th></th>\n",
       "      <th>user_id</th>\n",
       "      <th>total_duration_month</th>\n",
       "      <th>total_duration_revenue_month</th>\n",
       "    </tr>\n",
       "  </thead>\n",
       "  <tbody>\n",
       "    <tr>\n",
       "      <th>0</th>\n",
       "      <td>1000</td>\n",
       "      <td>124.0</td>\n",
       "      <td>70.00</td>\n",
       "    </tr>\n",
       "    <tr>\n",
       "      <th>1</th>\n",
       "      <td>1001</td>\n",
       "      <td>1728.0</td>\n",
       "      <td>100.00</td>\n",
       "    </tr>\n",
       "    <tr>\n",
       "      <th>2</th>\n",
       "      <td>1002</td>\n",
       "      <td>829.0</td>\n",
       "      <td>60.00</td>\n",
       "    </tr>\n",
       "    <tr>\n",
       "      <th>3</th>\n",
       "      <td>1003</td>\n",
       "      <td>1104.0</td>\n",
       "      <td>38.12</td>\n",
       "    </tr>\n",
       "    <tr>\n",
       "      <th>4</th>\n",
       "      <td>1004</td>\n",
       "      <td>2772.0</td>\n",
       "      <td>160.00</td>\n",
       "    </tr>\n",
       "    <tr>\n",
       "      <th>...</th>\n",
       "      <td>...</td>\n",
       "      <td>...</td>\n",
       "      <td>...</td>\n",
       "    </tr>\n",
       "    <tr>\n",
       "      <th>476</th>\n",
       "      <td>1495</td>\n",
       "      <td>1765.0</td>\n",
       "      <td>83.30</td>\n",
       "    </tr>\n",
       "    <tr>\n",
       "      <th>477</th>\n",
       "      <td>1496</td>\n",
       "      <td>1455.0</td>\n",
       "      <td>100.00</td>\n",
       "    </tr>\n",
       "    <tr>\n",
       "      <th>478</th>\n",
       "      <td>1497</td>\n",
       "      <td>300.0</td>\n",
       "      <td>70.00</td>\n",
       "    </tr>\n",
       "    <tr>\n",
       "      <th>479</th>\n",
       "      <td>1498</td>\n",
       "      <td>3211.0</td>\n",
       "      <td>220.00</td>\n",
       "    </tr>\n",
       "    <tr>\n",
       "      <th>480</th>\n",
       "      <td>1499</td>\n",
       "      <td>1535.0</td>\n",
       "      <td>80.00</td>\n",
       "    </tr>\n",
       "  </tbody>\n",
       "</table>\n",
       "<p>481 rows × 3 columns</p>\n",
       "</div>"
      ],
      "text/plain": [
       "     user_id  total_duration_month  total_duration_revenue_month\n",
       "0       1000                 124.0                         70.00\n",
       "1       1001                1728.0                        100.00\n",
       "2       1002                 829.0                         60.00\n",
       "3       1003                1104.0                         38.12\n",
       "4       1004                2772.0                        160.00\n",
       "..       ...                   ...                           ...\n",
       "476     1495                1765.0                         83.30\n",
       "477     1496                1455.0                        100.00\n",
       "478     1497                 300.0                         70.00\n",
       "479     1498                3211.0                        220.00\n",
       "480     1499                1535.0                         80.00\n",
       "\n",
       "[481 rows x 3 columns]"
      ]
     },
     "execution_count": 43,
     "metadata": {},
     "output_type": "execute_result"
    }
   ],
   "source": [
    "df_duration_user_total = df_duration_user_month.groupby('user_id').agg({'total_duration_month': 'sum', 'total_duration_revenue_month': 'sum'}).reset_index()\n",
    "df_duration_user_total"
   ]
  },
  {
   "cell_type": "code",
   "execution_count": 44,
   "id": "6873649e",
   "metadata": {},
   "outputs": [
    {
     "data": {
      "application/vnd.microsoft.datawrangler.viewer.v0+json": {
       "columns": [
        {
         "name": "index",
         "rawType": "int64",
         "type": "integer"
        },
        {
         "name": "user_id",
         "rawType": "int64",
         "type": "integer"
        },
        {
         "name": "total_calls",
         "rawType": "int64",
         "type": "integer"
        },
        {
         "name": "total_duration",
         "rawType": "float64",
         "type": "float"
        },
        {
         "name": "total_duration_revenue",
         "rawType": "float64",
         "type": "float"
        }
       ],
       "ref": "f2f11bcc-b5da-4ec8-8011-1068bad51417",
       "rows": [
        [
         "0",
         "1000",
         "16",
         "124.0",
         "70.0"
        ],
        [
         "1",
         "1001",
         "261",
         "1728.0",
         "100.0"
        ],
        [
         "2",
         "1002",
         "113",
         "829.0",
         "60.0"
        ],
        [
         "3",
         "1003",
         "149",
         "1104.0",
         "38.12"
        ],
        [
         "4",
         "1004",
         "370",
         "2772.0",
         "160.0"
        ],
        [
         "5",
         "1005",
         "59",
         "496.0",
         "20.0"
        ],
        [
         "6",
         "1006",
         "11",
         "69.0",
         "140.0"
        ],
        [
         "7",
         "1007",
         "380",
         "2641.0",
         "108.58"
        ],
        [
         "8",
         "1008",
         "219",
         "1556.0",
         "210.0"
        ],
        [
         "9",
         "1009",
         "856",
         "5954.0",
         "218.62"
        ],
        [
         "10",
         "1010",
         "713",
         "5075.0",
         "206.64"
        ],
        [
         "11",
         "1011",
         "413",
         "2907.0",
         "490.0"
        ],
        [
         "12",
         "1012",
         "26",
         "153.0",
         "40.0"
        ],
        [
         "13",
         "1013",
         "35",
         "219.0",
         "70.0"
        ],
        [
         "14",
         "1014",
         "178",
         "1277.0",
         "58.42"
        ],
        [
         "15",
         "1015",
         "16",
         "96.0",
         "20.0"
        ],
        [
         "16",
         "1016",
         "228",
         "1659.0",
         "74.58"
        ],
        [
         "17",
         "1017",
         "266",
         "1681.0",
         "100.0"
        ],
        [
         "18",
         "1018",
         "182",
         "1296.0",
         "64.08"
        ],
        [
         "19",
         "1019",
         "66",
         "511.0",
         "40.0"
        ],
        [
         "20",
         "1020",
         "125",
         "930.0",
         "40.0"
        ],
        [
         "21",
         "1021",
         "52",
         "401.0",
         "20.0"
        ],
        [
         "22",
         "1022",
         "568",
         "4065.0",
         "169.0"
        ],
        [
         "23",
         "1023",
         "18",
         "115.0",
         "40.0"
        ],
        [
         "24",
         "1024",
         "80",
         "564.0",
         "21.92"
        ],
        [
         "25",
         "1026",
         "57",
         "357.0",
         "140.0"
        ],
        [
         "26",
         "1027",
         "306",
         "2143.0",
         "120.0"
        ],
        [
         "27",
         "1028",
         "73",
         "525.0",
         "700.0"
        ],
        [
         "28",
         "1029",
         "390",
         "2768.0",
         "121.75"
        ],
        [
         "29",
         "1030",
         "216",
         "1358.0",
         "210.0"
        ],
        [
         "30",
         "1031",
         "408",
         "2947.0",
         "420.0"
        ],
        [
         "31",
         "1032",
         "134",
         "1072.0",
         "140.0"
        ],
        [
         "32",
         "1033",
         "348",
         "2547.0",
         "280.0"
        ],
        [
         "33",
         "1034",
         "2",
         "7.0",
         "20.0"
        ],
        [
         "34",
         "1035",
         "74",
         "627.0",
         "23.81"
        ],
        [
         "35",
         "1036",
         "414",
         "2815.0",
         "490.0"
        ],
        [
         "36",
         "1037",
         "67",
         "463.0",
         "70.0"
        ],
        [
         "37",
         "1038",
         "171",
         "1070.0",
         "210.0"
        ],
        [
         "38",
         "1039",
         "462",
         "3214.0",
         "490.0"
        ],
        [
         "39",
         "1040",
         "43",
         "294.0",
         "20.0"
        ],
        [
         "40",
         "1041",
         "510",
         "3682.0",
         "700.0"
        ],
        [
         "41",
         "1042",
         "503",
         "3647.0",
         "240.0"
        ],
        [
         "42",
         "1043",
         "182",
         "1317.0",
         "490.0"
        ],
        [
         "43",
         "1044",
         "158",
         "1160.0",
         "100.0"
        ],
        [
         "44",
         "1045",
         "216",
         "1499.0",
         "65.7"
        ],
        [
         "45",
         "1046",
         "518",
         "3529.0",
         "147.74"
        ],
        [
         "46",
         "1047",
         "48",
         "369.0",
         "70.0"
        ],
        [
         "47",
         "1048",
         "133",
         "952.0",
         "100.0"
        ],
        [
         "48",
         "1049",
         "396",
         "2835.0",
         "180.0"
        ],
        [
         "49",
         "1050",
         "523",
         "3555.0",
         "700.0"
        ]
       ],
       "shape": {
        "columns": 4,
        "rows": 481
       }
      },
      "text/html": [
       "<div>\n",
       "<style scoped>\n",
       "    .dataframe tbody tr th:only-of-type {\n",
       "        vertical-align: middle;\n",
       "    }\n",
       "\n",
       "    .dataframe tbody tr th {\n",
       "        vertical-align: top;\n",
       "    }\n",
       "\n",
       "    .dataframe thead th {\n",
       "        text-align: right;\n",
       "    }\n",
       "</style>\n",
       "<table border=\"1\" class=\"dataframe\">\n",
       "  <thead>\n",
       "    <tr style=\"text-align: right;\">\n",
       "      <th></th>\n",
       "      <th>user_id</th>\n",
       "      <th>total_calls</th>\n",
       "      <th>total_duration</th>\n",
       "      <th>total_duration_revenue</th>\n",
       "    </tr>\n",
       "  </thead>\n",
       "  <tbody>\n",
       "    <tr>\n",
       "      <th>0</th>\n",
       "      <td>1000</td>\n",
       "      <td>16</td>\n",
       "      <td>124.0</td>\n",
       "      <td>70.00</td>\n",
       "    </tr>\n",
       "    <tr>\n",
       "      <th>1</th>\n",
       "      <td>1001</td>\n",
       "      <td>261</td>\n",
       "      <td>1728.0</td>\n",
       "      <td>100.00</td>\n",
       "    </tr>\n",
       "    <tr>\n",
       "      <th>2</th>\n",
       "      <td>1002</td>\n",
       "      <td>113</td>\n",
       "      <td>829.0</td>\n",
       "      <td>60.00</td>\n",
       "    </tr>\n",
       "    <tr>\n",
       "      <th>3</th>\n",
       "      <td>1003</td>\n",
       "      <td>149</td>\n",
       "      <td>1104.0</td>\n",
       "      <td>38.12</td>\n",
       "    </tr>\n",
       "    <tr>\n",
       "      <th>4</th>\n",
       "      <td>1004</td>\n",
       "      <td>370</td>\n",
       "      <td>2772.0</td>\n",
       "      <td>160.00</td>\n",
       "    </tr>\n",
       "    <tr>\n",
       "      <th>...</th>\n",
       "      <td>...</td>\n",
       "      <td>...</td>\n",
       "      <td>...</td>\n",
       "      <td>...</td>\n",
       "    </tr>\n",
       "    <tr>\n",
       "      <th>476</th>\n",
       "      <td>1495</td>\n",
       "      <td>253</td>\n",
       "      <td>1765.0</td>\n",
       "      <td>83.30</td>\n",
       "    </tr>\n",
       "    <tr>\n",
       "      <th>477</th>\n",
       "      <td>1496</td>\n",
       "      <td>195</td>\n",
       "      <td>1455.0</td>\n",
       "      <td>100.00</td>\n",
       "    </tr>\n",
       "    <tr>\n",
       "      <th>478</th>\n",
       "      <td>1497</td>\n",
       "      <td>54</td>\n",
       "      <td>300.0</td>\n",
       "      <td>70.00</td>\n",
       "    </tr>\n",
       "    <tr>\n",
       "      <th>479</th>\n",
       "      <td>1498</td>\n",
       "      <td>451</td>\n",
       "      <td>3211.0</td>\n",
       "      <td>220.00</td>\n",
       "    </tr>\n",
       "    <tr>\n",
       "      <th>480</th>\n",
       "      <td>1499</td>\n",
       "      <td>204</td>\n",
       "      <td>1535.0</td>\n",
       "      <td>80.00</td>\n",
       "    </tr>\n",
       "  </tbody>\n",
       "</table>\n",
       "<p>481 rows × 4 columns</p>\n",
       "</div>"
      ],
      "text/plain": [
       "     user_id  total_calls  total_duration  total_duration_revenue\n",
       "0       1000           16           124.0                   70.00\n",
       "1       1001          261          1728.0                  100.00\n",
       "2       1002          113           829.0                   60.00\n",
       "3       1003          149          1104.0                   38.12\n",
       "4       1004          370          2772.0                  160.00\n",
       "..       ...          ...             ...                     ...\n",
       "476     1495          253          1765.0                   83.30\n",
       "477     1496          195          1455.0                  100.00\n",
       "478     1497           54           300.0                   70.00\n",
       "479     1498          451          3211.0                  220.00\n",
       "480     1499          204          1535.0                   80.00\n",
       "\n",
       "[481 rows x 4 columns]"
      ]
     },
     "execution_count": 44,
     "metadata": {},
     "output_type": "execute_result"
    }
   ],
   "source": [
    "df_calls_duration_total = pd.merge(df_calls_user_total, df_duration_user_total, how='outer', on='user_id')\n",
    "df_calls_duration_total = df_calls_duration_total.rename(columns={'total_duration_month': 'total_duration', 'total_duration_revenue_month': 'total_duration_revenue'})\n",
    "df_calls_duration_total"
   ]
  },
  {
   "cell_type": "code",
   "execution_count": 45,
   "id": "6babc415",
   "metadata": {},
   "outputs": [
    {
     "data": {
      "application/vnd.microsoft.datawrangler.viewer.v0+json": {
       "columns": [
        {
         "name": "index",
         "rawType": "int64",
         "type": "integer"
        },
        {
         "name": "user_id",
         "rawType": "int64",
         "type": "integer"
        },
        {
         "name": "total_calls",
         "rawType": "int64",
         "type": "integer"
        },
        {
         "name": "total_duration",
         "rawType": "float64",
         "type": "float"
        },
        {
         "name": "total_duration_revenue",
         "rawType": "float64",
         "type": "float"
        },
        {
         "name": "plan",
         "rawType": "category",
         "type": "unknown"
        }
       ],
       "ref": "85a70171-33cf-4b08-a08a-3dc6f08be493",
       "rows": [
        [
         "0",
         "1000",
         "16",
         "124.0",
         "70.0",
         "ultimate"
        ],
        [
         "1",
         "1001",
         "261",
         "1728.0",
         "100.0",
         "surf"
        ],
        [
         "2",
         "1002",
         "113",
         "829.0",
         "60.0",
         "surf"
        ],
        [
         "3",
         "1003",
         "149",
         "1104.0",
         "38.12",
         "surf"
        ],
        [
         "4",
         "1004",
         "370",
         "2772.0",
         "160.0",
         "surf"
        ],
        [
         "5",
         "1005",
         "59",
         "496.0",
         "20.0",
         "surf"
        ],
        [
         "6",
         "1006",
         "11",
         "69.0",
         "140.0",
         "ultimate"
        ],
        [
         "7",
         "1007",
         "380",
         "2641.0",
         "108.58",
         "surf"
        ],
        [
         "8",
         "1008",
         "219",
         "1556.0",
         "210.0",
         "ultimate"
        ],
        [
         "9",
         "1009",
         "856",
         "5954.0",
         "218.62",
         "surf"
        ],
        [
         "10",
         "1010",
         "713",
         "5075.0",
         "206.64",
         "surf"
        ],
        [
         "11",
         "1011",
         "413",
         "2907.0",
         "490.0",
         "ultimate"
        ],
        [
         "12",
         "1012",
         "26",
         "153.0",
         "40.0",
         "surf"
        ],
        [
         "13",
         "1013",
         "35",
         "219.0",
         "70.0",
         "ultimate"
        ],
        [
         "14",
         "1014",
         "178",
         "1277.0",
         "58.42",
         "surf"
        ],
        [
         "15",
         "1015",
         "16",
         "96.0",
         "20.0",
         "surf"
        ],
        [
         "16",
         "1016",
         "228",
         "1659.0",
         "74.58",
         "surf"
        ],
        [
         "17",
         "1017",
         "266",
         "1681.0",
         "100.0",
         "surf"
        ],
        [
         "18",
         "1018",
         "182",
         "1296.0",
         "64.08",
         "surf"
        ],
        [
         "19",
         "1019",
         "66",
         "511.0",
         "40.0",
         "surf"
        ],
        [
         "20",
         "1020",
         "125",
         "930.0",
         "40.0",
         "surf"
        ],
        [
         "21",
         "1021",
         "52",
         "401.0",
         "20.0",
         "surf"
        ],
        [
         "22",
         "1022",
         "568",
         "4065.0",
         "169.0",
         "surf"
        ],
        [
         "23",
         "1023",
         "18",
         "115.0",
         "40.0",
         "surf"
        ],
        [
         "24",
         "1024",
         "80",
         "564.0",
         "21.92",
         "surf"
        ],
        [
         "25",
         "1026",
         "57",
         "357.0",
         "140.0",
         "ultimate"
        ],
        [
         "26",
         "1027",
         "306",
         "2143.0",
         "120.0",
         "surf"
        ],
        [
         "27",
         "1028",
         "73",
         "525.0",
         "700.0",
         "ultimate"
        ],
        [
         "28",
         "1029",
         "390",
         "2768.0",
         "121.75",
         "surf"
        ],
        [
         "29",
         "1030",
         "216",
         "1358.0",
         "210.0",
         "ultimate"
        ],
        [
         "30",
         "1031",
         "408",
         "2947.0",
         "420.0",
         "ultimate"
        ],
        [
         "31",
         "1032",
         "134",
         "1072.0",
         "140.0",
         "ultimate"
        ],
        [
         "32",
         "1033",
         "348",
         "2547.0",
         "280.0",
         "ultimate"
        ],
        [
         "33",
         "1034",
         "2",
         "7.0",
         "20.0",
         "surf"
        ],
        [
         "34",
         "1035",
         "74",
         "627.0",
         "23.81",
         "surf"
        ],
        [
         "35",
         "1036",
         "414",
         "2815.0",
         "490.0",
         "ultimate"
        ],
        [
         "36",
         "1037",
         "67",
         "463.0",
         "70.0",
         "ultimate"
        ],
        [
         "37",
         "1038",
         "171",
         "1070.0",
         "210.0",
         "ultimate"
        ],
        [
         "38",
         "1039",
         "462",
         "3214.0",
         "490.0",
         "ultimate"
        ],
        [
         "39",
         "1040",
         "43",
         "294.0",
         "20.0",
         "surf"
        ],
        [
         "40",
         "1041",
         "510",
         "3682.0",
         "700.0",
         "ultimate"
        ],
        [
         "41",
         "1042",
         "503",
         "3647.0",
         "240.0",
         "surf"
        ],
        [
         "42",
         "1043",
         "182",
         "1317.0",
         "490.0",
         "ultimate"
        ],
        [
         "43",
         "1044",
         "158",
         "1160.0",
         "100.0",
         "surf"
        ],
        [
         "44",
         "1045",
         "216",
         "1499.0",
         "65.7",
         "surf"
        ],
        [
         "45",
         "1046",
         "518",
         "3529.0",
         "147.74",
         "surf"
        ],
        [
         "46",
         "1047",
         "48",
         "369.0",
         "70.0",
         "ultimate"
        ],
        [
         "47",
         "1048",
         "133",
         "952.0",
         "100.0",
         "surf"
        ],
        [
         "48",
         "1049",
         "396",
         "2835.0",
         "180.0",
         "surf"
        ],
        [
         "49",
         "1050",
         "523",
         "3555.0",
         "700.0",
         "ultimate"
        ]
       ],
       "shape": {
        "columns": 5,
        "rows": 481
       }
      },
      "text/html": [
       "<div>\n",
       "<style scoped>\n",
       "    .dataframe tbody tr th:only-of-type {\n",
       "        vertical-align: middle;\n",
       "    }\n",
       "\n",
       "    .dataframe tbody tr th {\n",
       "        vertical-align: top;\n",
       "    }\n",
       "\n",
       "    .dataframe thead th {\n",
       "        text-align: right;\n",
       "    }\n",
       "</style>\n",
       "<table border=\"1\" class=\"dataframe\">\n",
       "  <thead>\n",
       "    <tr style=\"text-align: right;\">\n",
       "      <th></th>\n",
       "      <th>user_id</th>\n",
       "      <th>total_calls</th>\n",
       "      <th>total_duration</th>\n",
       "      <th>total_duration_revenue</th>\n",
       "      <th>plan</th>\n",
       "    </tr>\n",
       "  </thead>\n",
       "  <tbody>\n",
       "    <tr>\n",
       "      <th>0</th>\n",
       "      <td>1000</td>\n",
       "      <td>16</td>\n",
       "      <td>124.0</td>\n",
       "      <td>70.00</td>\n",
       "      <td>ultimate</td>\n",
       "    </tr>\n",
       "    <tr>\n",
       "      <th>1</th>\n",
       "      <td>1001</td>\n",
       "      <td>261</td>\n",
       "      <td>1728.0</td>\n",
       "      <td>100.00</td>\n",
       "      <td>surf</td>\n",
       "    </tr>\n",
       "    <tr>\n",
       "      <th>2</th>\n",
       "      <td>1002</td>\n",
       "      <td>113</td>\n",
       "      <td>829.0</td>\n",
       "      <td>60.00</td>\n",
       "      <td>surf</td>\n",
       "    </tr>\n",
       "    <tr>\n",
       "      <th>3</th>\n",
       "      <td>1003</td>\n",
       "      <td>149</td>\n",
       "      <td>1104.0</td>\n",
       "      <td>38.12</td>\n",
       "      <td>surf</td>\n",
       "    </tr>\n",
       "    <tr>\n",
       "      <th>4</th>\n",
       "      <td>1004</td>\n",
       "      <td>370</td>\n",
       "      <td>2772.0</td>\n",
       "      <td>160.00</td>\n",
       "      <td>surf</td>\n",
       "    </tr>\n",
       "    <tr>\n",
       "      <th>...</th>\n",
       "      <td>...</td>\n",
       "      <td>...</td>\n",
       "      <td>...</td>\n",
       "      <td>...</td>\n",
       "      <td>...</td>\n",
       "    </tr>\n",
       "    <tr>\n",
       "      <th>476</th>\n",
       "      <td>1495</td>\n",
       "      <td>253</td>\n",
       "      <td>1765.0</td>\n",
       "      <td>83.30</td>\n",
       "      <td>surf</td>\n",
       "    </tr>\n",
       "    <tr>\n",
       "      <th>477</th>\n",
       "      <td>1496</td>\n",
       "      <td>195</td>\n",
       "      <td>1455.0</td>\n",
       "      <td>100.00</td>\n",
       "      <td>surf</td>\n",
       "    </tr>\n",
       "    <tr>\n",
       "      <th>478</th>\n",
       "      <td>1497</td>\n",
       "      <td>54</td>\n",
       "      <td>300.0</td>\n",
       "      <td>70.00</td>\n",
       "      <td>ultimate</td>\n",
       "    </tr>\n",
       "    <tr>\n",
       "      <th>479</th>\n",
       "      <td>1498</td>\n",
       "      <td>451</td>\n",
       "      <td>3211.0</td>\n",
       "      <td>220.00</td>\n",
       "      <td>surf</td>\n",
       "    </tr>\n",
       "    <tr>\n",
       "      <th>480</th>\n",
       "      <td>1499</td>\n",
       "      <td>204</td>\n",
       "      <td>1535.0</td>\n",
       "      <td>80.00</td>\n",
       "      <td>surf</td>\n",
       "    </tr>\n",
       "  </tbody>\n",
       "</table>\n",
       "<p>481 rows × 5 columns</p>\n",
       "</div>"
      ],
      "text/plain": [
       "     user_id  total_calls  total_duration  total_duration_revenue      plan\n",
       "0       1000           16           124.0                   70.00  ultimate\n",
       "1       1001          261          1728.0                  100.00      surf\n",
       "2       1002          113           829.0                   60.00      surf\n",
       "3       1003          149          1104.0                   38.12      surf\n",
       "4       1004          370          2772.0                  160.00      surf\n",
       "..       ...          ...             ...                     ...       ...\n",
       "476     1495          253          1765.0                   83.30      surf\n",
       "477     1496          195          1455.0                  100.00      surf\n",
       "478     1497           54           300.0                   70.00  ultimate\n",
       "479     1498          451          3211.0                  220.00      surf\n",
       "480     1499          204          1535.0                   80.00      surf\n",
       "\n",
       "[481 rows x 5 columns]"
      ]
     },
     "execution_count": 45,
     "metadata": {},
     "output_type": "execute_result"
    }
   ],
   "source": [
    "df_calls_duration_total = df_calls_duration_total.merge(df_users[['user_id', 'plan']], on='user_id', how='left')\n",
    "df_calls_duration_total"
   ]
  },
  {
   "cell_type": "code",
   "execution_count": 46,
   "id": "7f6332fe",
   "metadata": {},
   "outputs": [
    {
     "data": {
      "application/vnd.microsoft.datawrangler.viewer.v0+json": {
       "columns": [
        {
         "name": "index",
         "rawType": "int64",
         "type": "integer"
        },
        {
         "name": "user_id",
         "rawType": "int64",
         "type": "integer"
        },
        {
         "name": "total_calls",
         "rawType": "int64",
         "type": "integer"
        },
        {
         "name": "total_duration",
         "rawType": "float64",
         "type": "float"
        },
        {
         "name": "total_duration_revenue",
         "rawType": "float64",
         "type": "float"
        },
        {
         "name": "plan",
         "rawType": "category",
         "type": "unknown"
        },
        {
         "name": "city",
         "rawType": "string",
         "type": "string"
        }
       ],
       "ref": "48b894b2-166c-45e2-9aca-5168ee4d717c",
       "rows": [
        [
         "0",
         "1000",
         "16",
         "124.0",
         "70.0",
         "ultimate",
         "atlanta_sandy_springs_roswell,_ga_msa"
        ],
        [
         "1",
         "1001",
         "261",
         "1728.0",
         "100.0",
         "surf",
         "seattle_tacoma_bellevue,_wa_msa"
        ],
        [
         "2",
         "1002",
         "113",
         "829.0",
         "60.0",
         "surf",
         "las_vegas_henderson_paradise,_nv_msa"
        ],
        [
         "3",
         "1003",
         "149",
         "1104.0",
         "38.12",
         "surf",
         "tulsa,_ok_msa"
        ],
        [
         "4",
         "1004",
         "370",
         "2772.0",
         "160.0",
         "surf",
         "seattle_tacoma_bellevue,_wa_msa"
        ],
        [
         "5",
         "1005",
         "59",
         "496.0",
         "20.0",
         "surf",
         "dallas_fort_worth_arlington,_tx_msa"
        ],
        [
         "6",
         "1006",
         "11",
         "69.0",
         "140.0",
         "ultimate",
         "san_francisco_oakland_berkeley,_ca_msa"
        ],
        [
         "7",
         "1007",
         "380",
         "2641.0",
         "108.58",
         "surf",
         "grand_rapids_kentwood,_mi_msa"
        ],
        [
         "8",
         "1008",
         "219",
         "1556.0",
         "210.0",
         "ultimate",
         "orlando_kissimmee_sanford,_fl_msa"
        ],
        [
         "9",
         "1009",
         "856",
         "5954.0",
         "218.62",
         "surf",
         "san_jose_sunnyvale_santa_clara,_ca_msa"
        ],
        [
         "10",
         "1010",
         "713",
         "5075.0",
         "206.64",
         "surf",
         "dallas_fort_worth_arlington,_tx_msa"
        ],
        [
         "11",
         "1011",
         "413",
         "2907.0",
         "490.0",
         "ultimate",
         "cleveland_elyria,_oh_msa"
        ],
        [
         "12",
         "1012",
         "26",
         "153.0",
         "40.0",
         "surf",
         "chicago_naperville_elgin,_il_in_wi_msa"
        ],
        [
         "13",
         "1013",
         "35",
         "219.0",
         "70.0",
         "ultimate",
         "knoxville,_tn_msa"
        ],
        [
         "14",
         "1014",
         "178",
         "1277.0",
         "58.42",
         "surf",
         "new_york_newark_jersey_city,_ny_nj_pa_msa"
        ],
        [
         "15",
         "1015",
         "16",
         "96.0",
         "20.0",
         "surf",
         "pittsburgh,_pa_msa"
        ],
        [
         "16",
         "1016",
         "228",
         "1659.0",
         "74.58",
         "surf",
         "fresno,_ca_msa"
        ],
        [
         "17",
         "1017",
         "266",
         "1681.0",
         "100.0",
         "surf",
         "washington_arlington_alexandria,_dc_va_md_wv_msa"
        ],
        [
         "18",
         "1018",
         "182",
         "1296.0",
         "64.08",
         "surf",
         "indianapolis_carmel_anderson,_in_msa"
        ],
        [
         "19",
         "1019",
         "66",
         "511.0",
         "40.0",
         "surf",
         "jacksonville,_fl_msa"
        ],
        [
         "20",
         "1020",
         "125",
         "930.0",
         "40.0",
         "surf",
         "dallas_fort_worth_arlington,_tx_msa"
        ],
        [
         "21",
         "1021",
         "52",
         "401.0",
         "20.0",
         "surf",
         "los_angeles_long_beach_anaheim,_ca_msa"
        ],
        [
         "22",
         "1022",
         "568",
         "4065.0",
         "169.0",
         "surf",
         "new_york_newark_jersey_city,_ny_nj_pa_msa"
        ],
        [
         "23",
         "1023",
         "18",
         "115.0",
         "40.0",
         "surf",
         "omaha_council_bluffs,_ne_ia_msa"
        ],
        [
         "24",
         "1024",
         "80",
         "564.0",
         "21.92",
         "surf",
         "new_york_newark_jersey_city,_ny_nj_pa_msa"
        ],
        [
         "25",
         "1026",
         "57",
         "357.0",
         "140.0",
         "ultimate",
         "houston_the_woodlands_sugar_land,_tx_msa"
        ],
        [
         "26",
         "1027",
         "306",
         "2143.0",
         "120.0",
         "surf",
         "new_york_newark_jersey_city,_ny_nj_pa_msa"
        ],
        [
         "27",
         "1028",
         "73",
         "525.0",
         "700.0",
         "ultimate",
         "philadelphia_camden_wilmington,_pa_nj_de_md_msa"
        ],
        [
         "28",
         "1029",
         "390",
         "2768.0",
         "121.75",
         "surf",
         "tampa_st_petersburg_clearwater,_fl_msa"
        ],
        [
         "29",
         "1030",
         "216",
         "1358.0",
         "210.0",
         "ultimate",
         "chicago_naperville_elgin,_il_in_wi_msa"
        ],
        [
         "30",
         "1031",
         "408",
         "2947.0",
         "420.0",
         "ultimate",
         "new_york_newark_jersey_city,_ny_nj_pa_msa"
        ],
        [
         "31",
         "1032",
         "134",
         "1072.0",
         "140.0",
         "ultimate",
         "birmingham_hoover,_al_msa"
        ],
        [
         "32",
         "1033",
         "348",
         "2547.0",
         "280.0",
         "ultimate",
         "oklahoma_city,_ok_msa"
        ],
        [
         "33",
         "1034",
         "2",
         "7.0",
         "20.0",
         "surf",
         "new_york_newark_jersey_city,_ny_nj_pa_msa"
        ],
        [
         "34",
         "1035",
         "74",
         "627.0",
         "23.81",
         "surf",
         "charlotte_concord_gastonia,_nc_sc_msa"
        ],
        [
         "35",
         "1036",
         "414",
         "2815.0",
         "490.0",
         "ultimate",
         "denver_aurora_lakewood,_co_msa"
        ],
        [
         "36",
         "1037",
         "67",
         "463.0",
         "70.0",
         "ultimate",
         "seattle_tacoma_bellevue,_wa_msa"
        ],
        [
         "37",
         "1038",
         "171",
         "1070.0",
         "210.0",
         "ultimate",
         "nashville_davidson_murfreesboro_franklin,_tn_msa"
        ],
        [
         "38",
         "1039",
         "462",
         "3214.0",
         "490.0",
         "ultimate",
         "columbus,_oh_msa"
        ],
        [
         "39",
         "1040",
         "43",
         "294.0",
         "20.0",
         "surf",
         "philadelphia_camden_wilmington,_pa_nj_de_md_msa"
        ],
        [
         "40",
         "1041",
         "510",
         "3682.0",
         "700.0",
         "ultimate",
         "las_vegas_henderson_paradise,_nv_msa"
        ],
        [
         "41",
         "1042",
         "503",
         "3647.0",
         "240.0",
         "surf",
         "philadelphia_camden_wilmington,_pa_nj_de_md_msa"
        ],
        [
         "42",
         "1043",
         "182",
         "1317.0",
         "490.0",
         "ultimate",
         "new_york_newark_jersey_city,_ny_nj_pa_msa"
        ],
        [
         "43",
         "1044",
         "158",
         "1160.0",
         "100.0",
         "surf",
         "albuquerque,_nm_msa"
        ],
        [
         "44",
         "1045",
         "216",
         "1499.0",
         "65.7",
         "surf",
         "new_york_newark_jersey_city,_ny_nj_pa_msa"
        ],
        [
         "45",
         "1046",
         "518",
         "3529.0",
         "147.74",
         "surf",
         "boston_cambridge_newton,_ma_nh_msa"
        ],
        [
         "46",
         "1047",
         "48",
         "369.0",
         "70.0",
         "ultimate",
         "indianapolis_carmel_anderson,_in_msa"
        ],
        [
         "47",
         "1048",
         "133",
         "952.0",
         "100.0",
         "surf",
         "miami_fort_lauderdale_west_palm_beach,_fl_msa"
        ],
        [
         "48",
         "1049",
         "396",
         "2835.0",
         "180.0",
         "surf",
         "new_york_newark_jersey_city,_ny_nj_pa_msa"
        ],
        [
         "49",
         "1050",
         "523",
         "3555.0",
         "700.0",
         "ultimate",
         "miami_fort_lauderdale_west_palm_beach,_fl_msa"
        ]
       ],
       "shape": {
        "columns": 6,
        "rows": 481
       }
      },
      "text/html": [
       "<div>\n",
       "<style scoped>\n",
       "    .dataframe tbody tr th:only-of-type {\n",
       "        vertical-align: middle;\n",
       "    }\n",
       "\n",
       "    .dataframe tbody tr th {\n",
       "        vertical-align: top;\n",
       "    }\n",
       "\n",
       "    .dataframe thead th {\n",
       "        text-align: right;\n",
       "    }\n",
       "</style>\n",
       "<table border=\"1\" class=\"dataframe\">\n",
       "  <thead>\n",
       "    <tr style=\"text-align: right;\">\n",
       "      <th></th>\n",
       "      <th>user_id</th>\n",
       "      <th>total_calls</th>\n",
       "      <th>total_duration</th>\n",
       "      <th>total_duration_revenue</th>\n",
       "      <th>plan</th>\n",
       "      <th>city</th>\n",
       "    </tr>\n",
       "  </thead>\n",
       "  <tbody>\n",
       "    <tr>\n",
       "      <th>0</th>\n",
       "      <td>1000</td>\n",
       "      <td>16</td>\n",
       "      <td>124.0</td>\n",
       "      <td>70.00</td>\n",
       "      <td>ultimate</td>\n",
       "      <td>atlanta_sandy_springs_roswell,_ga_msa</td>\n",
       "    </tr>\n",
       "    <tr>\n",
       "      <th>1</th>\n",
       "      <td>1001</td>\n",
       "      <td>261</td>\n",
       "      <td>1728.0</td>\n",
       "      <td>100.00</td>\n",
       "      <td>surf</td>\n",
       "      <td>seattle_tacoma_bellevue,_wa_msa</td>\n",
       "    </tr>\n",
       "    <tr>\n",
       "      <th>2</th>\n",
       "      <td>1002</td>\n",
       "      <td>113</td>\n",
       "      <td>829.0</td>\n",
       "      <td>60.00</td>\n",
       "      <td>surf</td>\n",
       "      <td>las_vegas_henderson_paradise,_nv_msa</td>\n",
       "    </tr>\n",
       "    <tr>\n",
       "      <th>3</th>\n",
       "      <td>1003</td>\n",
       "      <td>149</td>\n",
       "      <td>1104.0</td>\n",
       "      <td>38.12</td>\n",
       "      <td>surf</td>\n",
       "      <td>tulsa,_ok_msa</td>\n",
       "    </tr>\n",
       "    <tr>\n",
       "      <th>4</th>\n",
       "      <td>1004</td>\n",
       "      <td>370</td>\n",
       "      <td>2772.0</td>\n",
       "      <td>160.00</td>\n",
       "      <td>surf</td>\n",
       "      <td>seattle_tacoma_bellevue,_wa_msa</td>\n",
       "    </tr>\n",
       "    <tr>\n",
       "      <th>...</th>\n",
       "      <td>...</td>\n",
       "      <td>...</td>\n",
       "      <td>...</td>\n",
       "      <td>...</td>\n",
       "      <td>...</td>\n",
       "      <td>...</td>\n",
       "    </tr>\n",
       "    <tr>\n",
       "      <th>476</th>\n",
       "      <td>1495</td>\n",
       "      <td>253</td>\n",
       "      <td>1765.0</td>\n",
       "      <td>83.30</td>\n",
       "      <td>surf</td>\n",
       "      <td>new_york_newark_jersey_city,_ny_nj_pa_msa</td>\n",
       "    </tr>\n",
       "    <tr>\n",
       "      <th>477</th>\n",
       "      <td>1496</td>\n",
       "      <td>195</td>\n",
       "      <td>1455.0</td>\n",
       "      <td>100.00</td>\n",
       "      <td>surf</td>\n",
       "      <td>new_orleans_metairie,_la_msa</td>\n",
       "    </tr>\n",
       "    <tr>\n",
       "      <th>478</th>\n",
       "      <td>1497</td>\n",
       "      <td>54</td>\n",
       "      <td>300.0</td>\n",
       "      <td>70.00</td>\n",
       "      <td>ultimate</td>\n",
       "      <td>los_angeles_long_beach_anaheim,_ca_msa</td>\n",
       "    </tr>\n",
       "    <tr>\n",
       "      <th>479</th>\n",
       "      <td>1498</td>\n",
       "      <td>451</td>\n",
       "      <td>3211.0</td>\n",
       "      <td>220.00</td>\n",
       "      <td>surf</td>\n",
       "      <td>new_york_newark_jersey_city,_ny_nj_pa_msa</td>\n",
       "    </tr>\n",
       "    <tr>\n",
       "      <th>480</th>\n",
       "      <td>1499</td>\n",
       "      <td>204</td>\n",
       "      <td>1535.0</td>\n",
       "      <td>80.00</td>\n",
       "      <td>surf</td>\n",
       "      <td>orlando_kissimmee_sanford,_fl_msa</td>\n",
       "    </tr>\n",
       "  </tbody>\n",
       "</table>\n",
       "<p>481 rows × 6 columns</p>\n",
       "</div>"
      ],
      "text/plain": [
       "     user_id  total_calls  total_duration  total_duration_revenue      plan                                       city\n",
       "0       1000           16           124.0                   70.00  ultimate      atlanta_sandy_springs_roswell,_ga_msa\n",
       "1       1001          261          1728.0                  100.00      surf            seattle_tacoma_bellevue,_wa_msa\n",
       "2       1002          113           829.0                   60.00      surf       las_vegas_henderson_paradise,_nv_msa\n",
       "3       1003          149          1104.0                   38.12      surf                              tulsa,_ok_msa\n",
       "4       1004          370          2772.0                  160.00      surf            seattle_tacoma_bellevue,_wa_msa\n",
       "..       ...          ...             ...                     ...       ...                                        ...\n",
       "476     1495          253          1765.0                   83.30      surf  new_york_newark_jersey_city,_ny_nj_pa_msa\n",
       "477     1496          195          1455.0                  100.00      surf               new_orleans_metairie,_la_msa\n",
       "478     1497           54           300.0                   70.00  ultimate     los_angeles_long_beach_anaheim,_ca_msa\n",
       "479     1498          451          3211.0                  220.00      surf  new_york_newark_jersey_city,_ny_nj_pa_msa\n",
       "480     1499          204          1535.0                   80.00      surf          orlando_kissimmee_sanford,_fl_msa\n",
       "\n",
       "[481 rows x 6 columns]"
      ]
     },
     "execution_count": 46,
     "metadata": {},
     "output_type": "execute_result"
    }
   ],
   "source": [
    "df_calls_duration_total = df_calls_duration_total.merge(df_users[['user_id', 'city']], on='user_id', how='left')\n",
    "df_calls_duration_total"
   ]
  },
  {
   "cell_type": "code",
   "execution_count": 47,
   "id": "c864812c",
   "metadata": {},
   "outputs": [],
   "source": [
    "project_root = Path.cwd().parent\n",
    "processed_path = project_root / \"data\" / \"processed\" / \"total\" / \"calls_duration_total.csv\"\n",
    "\n",
    "df_calls_duration_total.to_csv(processed_path, index=False)"
   ]
  },
  {
   "cell_type": "markdown",
   "id": "6bfd079e",
   "metadata": {},
   "source": [
    "### 4.3 Messages activity"
   ]
  },
  {
   "cell_type": "code",
   "execution_count": 48,
   "id": "f5a28d48",
   "metadata": {},
   "outputs": [
    {
     "data": {
      "application/vnd.microsoft.datawrangler.viewer.v0+json": {
       "columns": [
        {
         "name": "index",
         "rawType": "int64",
         "type": "integer"
        },
        {
         "name": "message_id",
         "rawType": "object",
         "type": "string"
        },
        {
         "name": "user_id",
         "rawType": "int64",
         "type": "integer"
        },
        {
         "name": "message_date",
         "rawType": "datetime64[ns, UTC]",
         "type": "unknown"
        },
        {
         "name": "month",
         "rawType": "int32",
         "type": "integer"
        },
        {
         "name": "day",
         "rawType": "int32",
         "type": "integer"
        }
       ],
       "ref": "42093995-f459-468a-a064-e9e61f2fa031",
       "rows": [
        [
         "0",
         "1000_125",
         "1000",
         "2018-12-27 00:00:00+00:00",
         "12",
         "27"
        ],
        [
         "1",
         "1000_160",
         "1000",
         "2018-12-31 00:00:00+00:00",
         "12",
         "31"
        ],
        [
         "2",
         "1000_223",
         "1000",
         "2018-12-31 00:00:00+00:00",
         "12",
         "31"
        ],
        [
         "3",
         "1000_251",
         "1000",
         "2018-12-27 00:00:00+00:00",
         "12",
         "27"
        ],
        [
         "4",
         "1000_255",
         "1000",
         "2018-12-26 00:00:00+00:00",
         "12",
         "26"
        ],
        [
         "5",
         "1000_346",
         "1000",
         "2018-12-29 00:00:00+00:00",
         "12",
         "29"
        ],
        [
         "6",
         "1000_386",
         "1000",
         "2018-12-30 00:00:00+00:00",
         "12",
         "30"
        ],
        [
         "7",
         "1000_413",
         "1000",
         "2018-12-31 00:00:00+00:00",
         "12",
         "31"
        ],
        [
         "8",
         "1000_502",
         "1000",
         "2018-12-27 00:00:00+00:00",
         "12",
         "27"
        ],
        [
         "9",
         "1000_525",
         "1000",
         "2018-12-28 00:00:00+00:00",
         "12",
         "28"
        ],
        [
         "10",
         "1000_567",
         "1000",
         "2018-12-25 00:00:00+00:00",
         "12",
         "25"
        ],
        [
         "11",
         "1001_1",
         "1001",
         "2018-11-14 00:00:00+00:00",
         "11",
         "14"
        ],
        [
         "12",
         "1001_2",
         "1001",
         "2018-08-17 00:00:00+00:00",
         "8",
         "17"
        ],
        [
         "13",
         "1001_5",
         "1001",
         "2018-12-05 00:00:00+00:00",
         "12",
         "5"
        ],
        [
         "14",
         "1001_7",
         "1001",
         "2018-11-28 00:00:00+00:00",
         "11",
         "28"
        ],
        [
         "15",
         "1001_9",
         "1001",
         "2018-10-23 00:00:00+00:00",
         "10",
         "23"
        ],
        [
         "16",
         "1001_10",
         "1001",
         "2018-09-01 00:00:00+00:00",
         "9",
         "1"
        ],
        [
         "17",
         "1001_11",
         "1001",
         "2018-11-18 00:00:00+00:00",
         "11",
         "18"
        ],
        [
         "18",
         "1001_17",
         "1001",
         "2018-12-11 00:00:00+00:00",
         "12",
         "11"
        ],
        [
         "19",
         "1001_18",
         "1001",
         "2018-10-01 00:00:00+00:00",
         "10",
         "1"
        ],
        [
         "20",
         "1001_19",
         "1001",
         "2018-09-13 00:00:00+00:00",
         "9",
         "13"
        ],
        [
         "21",
         "1001_21",
         "1001",
         "2018-12-30 00:00:00+00:00",
         "12",
         "30"
        ],
        [
         "22",
         "1001_23",
         "1001",
         "2018-08-23 00:00:00+00:00",
         "8",
         "23"
        ],
        [
         "23",
         "1001_25",
         "1001",
         "2018-10-10 00:00:00+00:00",
         "10",
         "10"
        ],
        [
         "24",
         "1001_30",
         "1001",
         "2018-12-14 00:00:00+00:00",
         "12",
         "14"
        ],
        [
         "25",
         "1001_32",
         "1001",
         "2018-09-11 00:00:00+00:00",
         "9",
         "11"
        ],
        [
         "26",
         "1001_34",
         "1001",
         "2018-10-09 00:00:00+00:00",
         "10",
         "9"
        ],
        [
         "27",
         "1001_35",
         "1001",
         "2018-09-18 00:00:00+00:00",
         "9",
         "18"
        ],
        [
         "28",
         "1001_37",
         "1001",
         "2018-09-06 00:00:00+00:00",
         "9",
         "6"
        ],
        [
         "29",
         "1001_39",
         "1001",
         "2018-09-13 00:00:00+00:00",
         "9",
         "13"
        ],
        [
         "30",
         "1001_44",
         "1001",
         "2018-08-19 00:00:00+00:00",
         "8",
         "19"
        ],
        [
         "31",
         "1001_46",
         "1001",
         "2018-12-17 00:00:00+00:00",
         "12",
         "17"
        ],
        [
         "32",
         "1001_47",
         "1001",
         "2018-12-23 00:00:00+00:00",
         "12",
         "23"
        ],
        [
         "33",
         "1001_48",
         "1001",
         "2018-11-08 00:00:00+00:00",
         "11",
         "8"
        ],
        [
         "34",
         "1001_49",
         "1001",
         "2018-12-25 00:00:00+00:00",
         "12",
         "25"
        ],
        [
         "35",
         "1001_50",
         "1001",
         "2018-10-18 00:00:00+00:00",
         "10",
         "18"
        ],
        [
         "36",
         "1001_52",
         "1001",
         "2018-09-20 00:00:00+00:00",
         "9",
         "20"
        ],
        [
         "37",
         "1001_54",
         "1001",
         "2018-09-01 00:00:00+00:00",
         "9",
         "1"
        ],
        [
         "38",
         "1001_58",
         "1001",
         "2018-12-06 00:00:00+00:00",
         "12",
         "6"
        ],
        [
         "39",
         "1001_60",
         "1001",
         "2018-08-22 00:00:00+00:00",
         "8",
         "22"
        ],
        [
         "40",
         "1001_63",
         "1001",
         "2018-09-19 00:00:00+00:00",
         "9",
         "19"
        ],
        [
         "41",
         "1001_65",
         "1001",
         "2018-10-21 00:00:00+00:00",
         "10",
         "21"
        ],
        [
         "42",
         "1001_66",
         "1001",
         "2018-12-10 00:00:00+00:00",
         "12",
         "10"
        ],
        [
         "43",
         "1001_69",
         "1001",
         "2018-10-19 00:00:00+00:00",
         "10",
         "19"
        ],
        [
         "44",
         "1001_70",
         "1001",
         "2018-09-10 00:00:00+00:00",
         "9",
         "10"
        ],
        [
         "45",
         "1001_71",
         "1001",
         "2018-09-18 00:00:00+00:00",
         "9",
         "18"
        ],
        [
         "46",
         "1001_72",
         "1001",
         "2018-10-19 00:00:00+00:00",
         "10",
         "19"
        ],
        [
         "47",
         "1001_73",
         "1001",
         "2018-09-28 00:00:00+00:00",
         "9",
         "28"
        ],
        [
         "48",
         "1001_75",
         "1001",
         "2018-11-25 00:00:00+00:00",
         "11",
         "25"
        ],
        [
         "49",
         "1001_76",
         "1001",
         "2018-10-30 00:00:00+00:00",
         "10",
         "30"
        ]
       ],
       "shape": {
        "columns": 5,
        "rows": 76051
       }
      },
      "text/html": [
       "<div>\n",
       "<style scoped>\n",
       "    .dataframe tbody tr th:only-of-type {\n",
       "        vertical-align: middle;\n",
       "    }\n",
       "\n",
       "    .dataframe tbody tr th {\n",
       "        vertical-align: top;\n",
       "    }\n",
       "\n",
       "    .dataframe thead th {\n",
       "        text-align: right;\n",
       "    }\n",
       "</style>\n",
       "<table border=\"1\" class=\"dataframe\">\n",
       "  <thead>\n",
       "    <tr style=\"text-align: right;\">\n",
       "      <th></th>\n",
       "      <th>message_id</th>\n",
       "      <th>user_id</th>\n",
       "      <th>message_date</th>\n",
       "      <th>month</th>\n",
       "      <th>day</th>\n",
       "    </tr>\n",
       "  </thead>\n",
       "  <tbody>\n",
       "    <tr>\n",
       "      <th>0</th>\n",
       "      <td>1000_125</td>\n",
       "      <td>1000</td>\n",
       "      <td>2018-12-27 00:00:00+00:00</td>\n",
       "      <td>12</td>\n",
       "      <td>27</td>\n",
       "    </tr>\n",
       "    <tr>\n",
       "      <th>1</th>\n",
       "      <td>1000_160</td>\n",
       "      <td>1000</td>\n",
       "      <td>2018-12-31 00:00:00+00:00</td>\n",
       "      <td>12</td>\n",
       "      <td>31</td>\n",
       "    </tr>\n",
       "    <tr>\n",
       "      <th>2</th>\n",
       "      <td>1000_223</td>\n",
       "      <td>1000</td>\n",
       "      <td>2018-12-31 00:00:00+00:00</td>\n",
       "      <td>12</td>\n",
       "      <td>31</td>\n",
       "    </tr>\n",
       "    <tr>\n",
       "      <th>3</th>\n",
       "      <td>1000_251</td>\n",
       "      <td>1000</td>\n",
       "      <td>2018-12-27 00:00:00+00:00</td>\n",
       "      <td>12</td>\n",
       "      <td>27</td>\n",
       "    </tr>\n",
       "    <tr>\n",
       "      <th>4</th>\n",
       "      <td>1000_255</td>\n",
       "      <td>1000</td>\n",
       "      <td>2018-12-26 00:00:00+00:00</td>\n",
       "      <td>12</td>\n",
       "      <td>26</td>\n",
       "    </tr>\n",
       "    <tr>\n",
       "      <th>...</th>\n",
       "      <td>...</td>\n",
       "      <td>...</td>\n",
       "      <td>...</td>\n",
       "      <td>...</td>\n",
       "      <td>...</td>\n",
       "    </tr>\n",
       "    <tr>\n",
       "      <th>76046</th>\n",
       "      <td>1497_526</td>\n",
       "      <td>1497</td>\n",
       "      <td>2018-12-24 00:00:00+00:00</td>\n",
       "      <td>12</td>\n",
       "      <td>24</td>\n",
       "    </tr>\n",
       "    <tr>\n",
       "      <th>76047</th>\n",
       "      <td>1497_536</td>\n",
       "      <td>1497</td>\n",
       "      <td>2018-12-24 00:00:00+00:00</td>\n",
       "      <td>12</td>\n",
       "      <td>24</td>\n",
       "    </tr>\n",
       "    <tr>\n",
       "      <th>76048</th>\n",
       "      <td>1497_547</td>\n",
       "      <td>1497</td>\n",
       "      <td>2018-12-31 00:00:00+00:00</td>\n",
       "      <td>12</td>\n",
       "      <td>31</td>\n",
       "    </tr>\n",
       "    <tr>\n",
       "      <th>76049</th>\n",
       "      <td>1497_558</td>\n",
       "      <td>1497</td>\n",
       "      <td>2018-12-24 00:00:00+00:00</td>\n",
       "      <td>12</td>\n",
       "      <td>24</td>\n",
       "    </tr>\n",
       "    <tr>\n",
       "      <th>76050</th>\n",
       "      <td>1497_613</td>\n",
       "      <td>1497</td>\n",
       "      <td>2018-12-23 00:00:00+00:00</td>\n",
       "      <td>12</td>\n",
       "      <td>23</td>\n",
       "    </tr>\n",
       "  </tbody>\n",
       "</table>\n",
       "<p>76051 rows × 5 columns</p>\n",
       "</div>"
      ],
      "text/plain": [
       "      message_id  user_id              message_date  month  day\n",
       "0       1000_125     1000 2018-12-27 00:00:00+00:00     12   27\n",
       "1       1000_160     1000 2018-12-31 00:00:00+00:00     12   31\n",
       "2       1000_223     1000 2018-12-31 00:00:00+00:00     12   31\n",
       "3       1000_251     1000 2018-12-27 00:00:00+00:00     12   27\n",
       "4       1000_255     1000 2018-12-26 00:00:00+00:00     12   26\n",
       "...          ...      ...                       ...    ...  ...\n",
       "76046   1497_526     1497 2018-12-24 00:00:00+00:00     12   24\n",
       "76047   1497_536     1497 2018-12-24 00:00:00+00:00     12   24\n",
       "76048   1497_547     1497 2018-12-31 00:00:00+00:00     12   31\n",
       "76049   1497_558     1497 2018-12-24 00:00:00+00:00     12   24\n",
       "76050   1497_613     1497 2018-12-23 00:00:00+00:00     12   23\n",
       "\n",
       "[76051 rows x 5 columns]"
      ]
     },
     "execution_count": 48,
     "metadata": {},
     "output_type": "execute_result"
    }
   ],
   "source": [
    "df_messages"
   ]
  },
  {
   "cell_type": "markdown",
   "id": "fca4a01f",
   "metadata": {},
   "source": [
    "#### 4.3.1 Messages amount per user"
   ]
  },
  {
   "cell_type": "code",
   "execution_count": 49,
   "id": "3f556aaf",
   "metadata": {},
   "outputs": [
    {
     "data": {
      "application/vnd.microsoft.datawrangler.viewer.v0+json": {
       "columns": [
        {
         "name": "index",
         "rawType": "int64",
         "type": "integer"
        },
        {
         "name": "user_id",
         "rawType": "int64",
         "type": "integer"
        },
        {
         "name": "month",
         "rawType": "int32",
         "type": "integer"
        },
        {
         "name": "total_messages_month",
         "rawType": "int64",
         "type": "integer"
        }
       ],
       "ref": "8d848319-594e-414b-9991-a6bad5ff37f5",
       "rows": [
        [
         "0",
         "1000",
         "12",
         "11"
        ],
        [
         "1",
         "1001",
         "8",
         "30"
        ],
        [
         "2",
         "1001",
         "9",
         "44"
        ],
        [
         "3",
         "1001",
         "10",
         "53"
        ],
        [
         "4",
         "1001",
         "11",
         "36"
        ],
        [
         "5",
         "1001",
         "12",
         "44"
        ],
        [
         "6",
         "1002",
         "10",
         "15"
        ],
        [
         "7",
         "1002",
         "11",
         "32"
        ],
        [
         "8",
         "1002",
         "12",
         "41"
        ],
        [
         "9",
         "1003",
         "12",
         "50"
        ],
        [
         "10",
         "1004",
         "5",
         "7"
        ],
        [
         "11",
         "1004",
         "6",
         "18"
        ],
        [
         "12",
         "1004",
         "7",
         "26"
        ],
        [
         "13",
         "1004",
         "8",
         "25"
        ],
        [
         "14",
         "1004",
         "9",
         "21"
        ],
        [
         "15",
         "1004",
         "10",
         "24"
        ],
        [
         "16",
         "1004",
         "11",
         "25"
        ],
        [
         "17",
         "1004",
         "12",
         "31"
        ],
        [
         "18",
         "1005",
         "12",
         "11"
        ],
        [
         "19",
         "1006",
         "11",
         "15"
        ],
        [
         "20",
         "1006",
         "12",
         "139"
        ],
        [
         "21",
         "1007",
         "8",
         "51"
        ],
        [
         "22",
         "1007",
         "9",
         "47"
        ],
        [
         "23",
         "1007",
         "10",
         "59"
        ],
        [
         "24",
         "1007",
         "11",
         "48"
        ],
        [
         "25",
         "1007",
         "12",
         "50"
        ],
        [
         "26",
         "1008",
         "10",
         "21"
        ],
        [
         "27",
         "1008",
         "11",
         "37"
        ],
        [
         "28",
         "1008",
         "12",
         "26"
        ],
        [
         "29",
         "1011",
         "6",
         "21"
        ],
        [
         "30",
         "1011",
         "7",
         "53"
        ],
        [
         "31",
         "1011",
         "8",
         "54"
        ],
        [
         "32",
         "1011",
         "9",
         "60"
        ],
        [
         "33",
         "1011",
         "10",
         "64"
        ],
        [
         "34",
         "1011",
         "11",
         "58"
        ],
        [
         "35",
         "1011",
         "12",
         "61"
        ],
        [
         "36",
         "1013",
         "12",
         "16"
        ],
        [
         "37",
         "1014",
         "11",
         "9"
        ],
        [
         "38",
         "1014",
         "12",
         "64"
        ],
        [
         "39",
         "1015",
         "12",
         "68"
        ],
        [
         "40",
         "1016",
         "10",
         "11"
        ],
        [
         "41",
         "1016",
         "11",
         "46"
        ],
        [
         "42",
         "1016",
         "12",
         "38"
        ],
        [
         "43",
         "1017",
         "8",
         "5"
        ],
        [
         "44",
         "1017",
         "9",
         "41"
        ],
        [
         "45",
         "1017",
         "10",
         "35"
        ],
        [
         "46",
         "1017",
         "11",
         "29"
        ],
        [
         "47",
         "1017",
         "12",
         "42"
        ],
        [
         "48",
         "1018",
         "10",
         "3"
        ],
        [
         "49",
         "1018",
         "11",
         "5"
        ]
       ],
       "shape": {
        "columns": 3,
        "rows": 1806
       }
      },
      "text/html": [
       "<div>\n",
       "<style scoped>\n",
       "    .dataframe tbody tr th:only-of-type {\n",
       "        vertical-align: middle;\n",
       "    }\n",
       "\n",
       "    .dataframe tbody tr th {\n",
       "        vertical-align: top;\n",
       "    }\n",
       "\n",
       "    .dataframe thead th {\n",
       "        text-align: right;\n",
       "    }\n",
       "</style>\n",
       "<table border=\"1\" class=\"dataframe\">\n",
       "  <thead>\n",
       "    <tr style=\"text-align: right;\">\n",
       "      <th></th>\n",
       "      <th>user_id</th>\n",
       "      <th>month</th>\n",
       "      <th>total_messages_month</th>\n",
       "    </tr>\n",
       "  </thead>\n",
       "  <tbody>\n",
       "    <tr>\n",
       "      <th>0</th>\n",
       "      <td>1000</td>\n",
       "      <td>12</td>\n",
       "      <td>11</td>\n",
       "    </tr>\n",
       "    <tr>\n",
       "      <th>1</th>\n",
       "      <td>1001</td>\n",
       "      <td>8</td>\n",
       "      <td>30</td>\n",
       "    </tr>\n",
       "    <tr>\n",
       "      <th>2</th>\n",
       "      <td>1001</td>\n",
       "      <td>9</td>\n",
       "      <td>44</td>\n",
       "    </tr>\n",
       "    <tr>\n",
       "      <th>3</th>\n",
       "      <td>1001</td>\n",
       "      <td>10</td>\n",
       "      <td>53</td>\n",
       "    </tr>\n",
       "    <tr>\n",
       "      <th>4</th>\n",
       "      <td>1001</td>\n",
       "      <td>11</td>\n",
       "      <td>36</td>\n",
       "    </tr>\n",
       "    <tr>\n",
       "      <th>...</th>\n",
       "      <td>...</td>\n",
       "      <td>...</td>\n",
       "      <td>...</td>\n",
       "    </tr>\n",
       "    <tr>\n",
       "      <th>1801</th>\n",
       "      <td>1496</td>\n",
       "      <td>9</td>\n",
       "      <td>21</td>\n",
       "    </tr>\n",
       "    <tr>\n",
       "      <th>1802</th>\n",
       "      <td>1496</td>\n",
       "      <td>10</td>\n",
       "      <td>18</td>\n",
       "    </tr>\n",
       "    <tr>\n",
       "      <th>1803</th>\n",
       "      <td>1496</td>\n",
       "      <td>11</td>\n",
       "      <td>13</td>\n",
       "    </tr>\n",
       "    <tr>\n",
       "      <th>1804</th>\n",
       "      <td>1496</td>\n",
       "      <td>12</td>\n",
       "      <td>11</td>\n",
       "    </tr>\n",
       "    <tr>\n",
       "      <th>1805</th>\n",
       "      <td>1497</td>\n",
       "      <td>12</td>\n",
       "      <td>50</td>\n",
       "    </tr>\n",
       "  </tbody>\n",
       "</table>\n",
       "<p>1806 rows × 3 columns</p>\n",
       "</div>"
      ],
      "text/plain": [
       "      user_id  month  total_messages_month\n",
       "0        1000     12                    11\n",
       "1        1001      8                    30\n",
       "2        1001      9                    44\n",
       "3        1001     10                    53\n",
       "4        1001     11                    36\n",
       "...       ...    ...                   ...\n",
       "1801     1496      9                    21\n",
       "1802     1496     10                    18\n",
       "1803     1496     11                    13\n",
       "1804     1496     12                    11\n",
       "1805     1497     12                    50\n",
       "\n",
       "[1806 rows x 3 columns]"
      ]
     },
     "execution_count": 49,
     "metadata": {},
     "output_type": "execute_result"
    }
   ],
   "source": [
    "df_messages_user_month = df_messages.groupby(['user_id', 'month'])['message_id'].count().reset_index()\n",
    "df_messages_user_month = df_messages_user_month.rename(columns={'message_id': 'total_messages_month'})\n",
    "df_messages_user_month"
   ]
  },
  {
   "cell_type": "code",
   "execution_count": 50,
   "id": "fcd320af",
   "metadata": {},
   "outputs": [
    {
     "data": {
      "application/vnd.microsoft.datawrangler.viewer.v0+json": {
       "columns": [
        {
         "name": "index",
         "rawType": "int64",
         "type": "integer"
        },
        {
         "name": "user_id",
         "rawType": "int64",
         "type": "integer"
        },
        {
         "name": "month",
         "rawType": "int32",
         "type": "integer"
        },
        {
         "name": "total_messages_month",
         "rawType": "int64",
         "type": "integer"
        },
        {
         "name": "plan",
         "rawType": "category",
         "type": "unknown"
        }
       ],
       "ref": "12cf6e27-cdb0-45a9-a3b5-beda9d84b904",
       "rows": [
        [
         "0",
         "1000",
         "12",
         "11",
         "ultimate"
        ],
        [
         "1",
         "1001",
         "8",
         "30",
         "surf"
        ],
        [
         "2",
         "1001",
         "9",
         "44",
         "surf"
        ],
        [
         "3",
         "1001",
         "10",
         "53",
         "surf"
        ],
        [
         "4",
         "1001",
         "11",
         "36",
         "surf"
        ],
        [
         "5",
         "1001",
         "12",
         "44",
         "surf"
        ],
        [
         "6",
         "1002",
         "10",
         "15",
         "surf"
        ],
        [
         "7",
         "1002",
         "11",
         "32",
         "surf"
        ],
        [
         "8",
         "1002",
         "12",
         "41",
         "surf"
        ],
        [
         "9",
         "1003",
         "12",
         "50",
         "surf"
        ],
        [
         "10",
         "1004",
         "5",
         "7",
         "surf"
        ],
        [
         "11",
         "1004",
         "6",
         "18",
         "surf"
        ],
        [
         "12",
         "1004",
         "7",
         "26",
         "surf"
        ],
        [
         "13",
         "1004",
         "8",
         "25",
         "surf"
        ],
        [
         "14",
         "1004",
         "9",
         "21",
         "surf"
        ],
        [
         "15",
         "1004",
         "10",
         "24",
         "surf"
        ],
        [
         "16",
         "1004",
         "11",
         "25",
         "surf"
        ],
        [
         "17",
         "1004",
         "12",
         "31",
         "surf"
        ],
        [
         "18",
         "1005",
         "12",
         "11",
         "surf"
        ],
        [
         "19",
         "1006",
         "11",
         "15",
         "ultimate"
        ],
        [
         "20",
         "1006",
         "12",
         "139",
         "ultimate"
        ],
        [
         "21",
         "1007",
         "8",
         "51",
         "surf"
        ],
        [
         "22",
         "1007",
         "9",
         "47",
         "surf"
        ],
        [
         "23",
         "1007",
         "10",
         "59",
         "surf"
        ],
        [
         "24",
         "1007",
         "11",
         "48",
         "surf"
        ],
        [
         "25",
         "1007",
         "12",
         "50",
         "surf"
        ],
        [
         "26",
         "1008",
         "10",
         "21",
         "ultimate"
        ],
        [
         "27",
         "1008",
         "11",
         "37",
         "ultimate"
        ],
        [
         "28",
         "1008",
         "12",
         "26",
         "ultimate"
        ],
        [
         "29",
         "1011",
         "6",
         "21",
         "ultimate"
        ],
        [
         "30",
         "1011",
         "7",
         "53",
         "ultimate"
        ],
        [
         "31",
         "1011",
         "8",
         "54",
         "ultimate"
        ],
        [
         "32",
         "1011",
         "9",
         "60",
         "ultimate"
        ],
        [
         "33",
         "1011",
         "10",
         "64",
         "ultimate"
        ],
        [
         "34",
         "1011",
         "11",
         "58",
         "ultimate"
        ],
        [
         "35",
         "1011",
         "12",
         "61",
         "ultimate"
        ],
        [
         "36",
         "1013",
         "12",
         "16",
         "ultimate"
        ],
        [
         "37",
         "1014",
         "11",
         "9",
         "surf"
        ],
        [
         "38",
         "1014",
         "12",
         "64",
         "surf"
        ],
        [
         "39",
         "1015",
         "12",
         "68",
         "surf"
        ],
        [
         "40",
         "1016",
         "10",
         "11",
         "surf"
        ],
        [
         "41",
         "1016",
         "11",
         "46",
         "surf"
        ],
        [
         "42",
         "1016",
         "12",
         "38",
         "surf"
        ],
        [
         "43",
         "1017",
         "8",
         "5",
         "surf"
        ],
        [
         "44",
         "1017",
         "9",
         "41",
         "surf"
        ],
        [
         "45",
         "1017",
         "10",
         "35",
         "surf"
        ],
        [
         "46",
         "1017",
         "11",
         "29",
         "surf"
        ],
        [
         "47",
         "1017",
         "12",
         "42",
         "surf"
        ],
        [
         "48",
         "1018",
         "10",
         "3",
         "surf"
        ],
        [
         "49",
         "1018",
         "11",
         "5",
         "surf"
        ]
       ],
       "shape": {
        "columns": 4,
        "rows": 1806
       }
      },
      "text/html": [
       "<div>\n",
       "<style scoped>\n",
       "    .dataframe tbody tr th:only-of-type {\n",
       "        vertical-align: middle;\n",
       "    }\n",
       "\n",
       "    .dataframe tbody tr th {\n",
       "        vertical-align: top;\n",
       "    }\n",
       "\n",
       "    .dataframe thead th {\n",
       "        text-align: right;\n",
       "    }\n",
       "</style>\n",
       "<table border=\"1\" class=\"dataframe\">\n",
       "  <thead>\n",
       "    <tr style=\"text-align: right;\">\n",
       "      <th></th>\n",
       "      <th>user_id</th>\n",
       "      <th>month</th>\n",
       "      <th>total_messages_month</th>\n",
       "      <th>plan</th>\n",
       "    </tr>\n",
       "  </thead>\n",
       "  <tbody>\n",
       "    <tr>\n",
       "      <th>0</th>\n",
       "      <td>1000</td>\n",
       "      <td>12</td>\n",
       "      <td>11</td>\n",
       "      <td>ultimate</td>\n",
       "    </tr>\n",
       "    <tr>\n",
       "      <th>1</th>\n",
       "      <td>1001</td>\n",
       "      <td>8</td>\n",
       "      <td>30</td>\n",
       "      <td>surf</td>\n",
       "    </tr>\n",
       "    <tr>\n",
       "      <th>2</th>\n",
       "      <td>1001</td>\n",
       "      <td>9</td>\n",
       "      <td>44</td>\n",
       "      <td>surf</td>\n",
       "    </tr>\n",
       "    <tr>\n",
       "      <th>3</th>\n",
       "      <td>1001</td>\n",
       "      <td>10</td>\n",
       "      <td>53</td>\n",
       "      <td>surf</td>\n",
       "    </tr>\n",
       "    <tr>\n",
       "      <th>4</th>\n",
       "      <td>1001</td>\n",
       "      <td>11</td>\n",
       "      <td>36</td>\n",
       "      <td>surf</td>\n",
       "    </tr>\n",
       "    <tr>\n",
       "      <th>...</th>\n",
       "      <td>...</td>\n",
       "      <td>...</td>\n",
       "      <td>...</td>\n",
       "      <td>...</td>\n",
       "    </tr>\n",
       "    <tr>\n",
       "      <th>1801</th>\n",
       "      <td>1496</td>\n",
       "      <td>9</td>\n",
       "      <td>21</td>\n",
       "      <td>surf</td>\n",
       "    </tr>\n",
       "    <tr>\n",
       "      <th>1802</th>\n",
       "      <td>1496</td>\n",
       "      <td>10</td>\n",
       "      <td>18</td>\n",
       "      <td>surf</td>\n",
       "    </tr>\n",
       "    <tr>\n",
       "      <th>1803</th>\n",
       "      <td>1496</td>\n",
       "      <td>11</td>\n",
       "      <td>13</td>\n",
       "      <td>surf</td>\n",
       "    </tr>\n",
       "    <tr>\n",
       "      <th>1804</th>\n",
       "      <td>1496</td>\n",
       "      <td>12</td>\n",
       "      <td>11</td>\n",
       "      <td>surf</td>\n",
       "    </tr>\n",
       "    <tr>\n",
       "      <th>1805</th>\n",
       "      <td>1497</td>\n",
       "      <td>12</td>\n",
       "      <td>50</td>\n",
       "      <td>ultimate</td>\n",
       "    </tr>\n",
       "  </tbody>\n",
       "</table>\n",
       "<p>1806 rows × 4 columns</p>\n",
       "</div>"
      ],
      "text/plain": [
       "      user_id  month  total_messages_month      plan\n",
       "0        1000     12                    11  ultimate\n",
       "1        1001      8                    30      surf\n",
       "2        1001      9                    44      surf\n",
       "3        1001     10                    53      surf\n",
       "4        1001     11                    36      surf\n",
       "...       ...    ...                   ...       ...\n",
       "1801     1496      9                    21      surf\n",
       "1802     1496     10                    18      surf\n",
       "1803     1496     11                    13      surf\n",
       "1804     1496     12                    11      surf\n",
       "1805     1497     12                    50  ultimate\n",
       "\n",
       "[1806 rows x 4 columns]"
      ]
     },
     "execution_count": 50,
     "metadata": {},
     "output_type": "execute_result"
    }
   ],
   "source": [
    "df_messages_user_month = df_messages_user_month.merge(df_users[['user_id', 'plan']], on='user_id', how='left')\n",
    "df_messages_user_month"
   ]
  },
  {
   "cell_type": "code",
   "execution_count": 51,
   "id": "048df540",
   "metadata": {},
   "outputs": [
    {
     "data": {
      "application/vnd.microsoft.datawrangler.viewer.v0+json": {
       "columns": [
        {
         "name": "index",
         "rawType": "int64",
         "type": "integer"
        },
        {
         "name": "user_id",
         "rawType": "int64",
         "type": "integer"
        },
        {
         "name": "month",
         "rawType": "int32",
         "type": "integer"
        },
        {
         "name": "total_messages_month",
         "rawType": "int64",
         "type": "integer"
        },
        {
         "name": "plan",
         "rawType": "category",
         "type": "unknown"
        },
        {
         "name": "total_messages_revenue_month",
         "rawType": "float64",
         "type": "float"
        }
       ],
       "ref": "d7908d29-a83a-4780-8b4d-50fda6e33848",
       "rows": [
        [
         "0",
         "1000",
         "12",
         "11",
         "ultimate",
         "70.0"
        ],
        [
         "1",
         "1001",
         "8",
         "30",
         "surf",
         "20.0"
        ],
        [
         "2",
         "1001",
         "9",
         "44",
         "surf",
         "20.0"
        ],
        [
         "3",
         "1001",
         "10",
         "53",
         "surf",
         "20.09"
        ],
        [
         "4",
         "1001",
         "11",
         "36",
         "surf",
         "20.0"
        ],
        [
         "5",
         "1001",
         "12",
         "44",
         "surf",
         "20.0"
        ],
        [
         "6",
         "1002",
         "10",
         "15",
         "surf",
         "20.0"
        ],
        [
         "7",
         "1002",
         "11",
         "32",
         "surf",
         "20.0"
        ],
        [
         "8",
         "1002",
         "12",
         "41",
         "surf",
         "20.0"
        ],
        [
         "9",
         "1003",
         "12",
         "50",
         "surf",
         "20.0"
        ],
        [
         "10",
         "1004",
         "5",
         "7",
         "surf",
         "20.0"
        ],
        [
         "11",
         "1004",
         "6",
         "18",
         "surf",
         "20.0"
        ],
        [
         "12",
         "1004",
         "7",
         "26",
         "surf",
         "20.0"
        ],
        [
         "13",
         "1004",
         "8",
         "25",
         "surf",
         "20.0"
        ],
        [
         "14",
         "1004",
         "9",
         "21",
         "surf",
         "20.0"
        ],
        [
         "15",
         "1004",
         "10",
         "24",
         "surf",
         "20.0"
        ],
        [
         "16",
         "1004",
         "11",
         "25",
         "surf",
         "20.0"
        ],
        [
         "17",
         "1004",
         "12",
         "31",
         "surf",
         "20.0"
        ],
        [
         "18",
         "1005",
         "12",
         "11",
         "surf",
         "20.0"
        ],
        [
         "19",
         "1006",
         "11",
         "15",
         "ultimate",
         "70.0"
        ],
        [
         "20",
         "1006",
         "12",
         "139",
         "ultimate",
         "70.0"
        ],
        [
         "21",
         "1007",
         "8",
         "51",
         "surf",
         "20.03"
        ],
        [
         "22",
         "1007",
         "9",
         "47",
         "surf",
         "20.0"
        ],
        [
         "23",
         "1007",
         "10",
         "59",
         "surf",
         "20.27"
        ],
        [
         "24",
         "1007",
         "11",
         "48",
         "surf",
         "20.0"
        ],
        [
         "25",
         "1007",
         "12",
         "50",
         "surf",
         "20.0"
        ],
        [
         "26",
         "1008",
         "10",
         "21",
         "ultimate",
         "70.0"
        ],
        [
         "27",
         "1008",
         "11",
         "37",
         "ultimate",
         "70.0"
        ],
        [
         "28",
         "1008",
         "12",
         "26",
         "ultimate",
         "70.0"
        ],
        [
         "29",
         "1011",
         "6",
         "21",
         "ultimate",
         "70.0"
        ],
        [
         "30",
         "1011",
         "7",
         "53",
         "ultimate",
         "70.0"
        ],
        [
         "31",
         "1011",
         "8",
         "54",
         "ultimate",
         "70.0"
        ],
        [
         "32",
         "1011",
         "9",
         "60",
         "ultimate",
         "70.0"
        ],
        [
         "33",
         "1011",
         "10",
         "64",
         "ultimate",
         "70.0"
        ],
        [
         "34",
         "1011",
         "11",
         "58",
         "ultimate",
         "70.0"
        ],
        [
         "35",
         "1011",
         "12",
         "61",
         "ultimate",
         "70.0"
        ],
        [
         "36",
         "1013",
         "12",
         "16",
         "ultimate",
         "70.0"
        ],
        [
         "37",
         "1014",
         "11",
         "9",
         "surf",
         "20.0"
        ],
        [
         "38",
         "1014",
         "12",
         "64",
         "surf",
         "20.42"
        ],
        [
         "39",
         "1015",
         "12",
         "68",
         "surf",
         "20.54"
        ],
        [
         "40",
         "1016",
         "10",
         "11",
         "surf",
         "20.0"
        ],
        [
         "41",
         "1016",
         "11",
         "46",
         "surf",
         "20.0"
        ],
        [
         "42",
         "1016",
         "12",
         "38",
         "surf",
         "20.0"
        ],
        [
         "43",
         "1017",
         "8",
         "5",
         "surf",
         "20.0"
        ],
        [
         "44",
         "1017",
         "9",
         "41",
         "surf",
         "20.0"
        ],
        [
         "45",
         "1017",
         "10",
         "35",
         "surf",
         "20.0"
        ],
        [
         "46",
         "1017",
         "11",
         "29",
         "surf",
         "20.0"
        ],
        [
         "47",
         "1017",
         "12",
         "42",
         "surf",
         "20.0"
        ],
        [
         "48",
         "1018",
         "10",
         "3",
         "surf",
         "20.0"
        ],
        [
         "49",
         "1018",
         "11",
         "5",
         "surf",
         "20.0"
        ]
       ],
       "shape": {
        "columns": 5,
        "rows": 1806
       }
      },
      "text/html": [
       "<div>\n",
       "<style scoped>\n",
       "    .dataframe tbody tr th:only-of-type {\n",
       "        vertical-align: middle;\n",
       "    }\n",
       "\n",
       "    .dataframe tbody tr th {\n",
       "        vertical-align: top;\n",
       "    }\n",
       "\n",
       "    .dataframe thead th {\n",
       "        text-align: right;\n",
       "    }\n",
       "</style>\n",
       "<table border=\"1\" class=\"dataframe\">\n",
       "  <thead>\n",
       "    <tr style=\"text-align: right;\">\n",
       "      <th></th>\n",
       "      <th>user_id</th>\n",
       "      <th>month</th>\n",
       "      <th>total_messages_month</th>\n",
       "      <th>plan</th>\n",
       "      <th>total_messages_revenue_month</th>\n",
       "    </tr>\n",
       "  </thead>\n",
       "  <tbody>\n",
       "    <tr>\n",
       "      <th>0</th>\n",
       "      <td>1000</td>\n",
       "      <td>12</td>\n",
       "      <td>11</td>\n",
       "      <td>ultimate</td>\n",
       "      <td>70.00</td>\n",
       "    </tr>\n",
       "    <tr>\n",
       "      <th>1</th>\n",
       "      <td>1001</td>\n",
       "      <td>8</td>\n",
       "      <td>30</td>\n",
       "      <td>surf</td>\n",
       "      <td>20.00</td>\n",
       "    </tr>\n",
       "    <tr>\n",
       "      <th>2</th>\n",
       "      <td>1001</td>\n",
       "      <td>9</td>\n",
       "      <td>44</td>\n",
       "      <td>surf</td>\n",
       "      <td>20.00</td>\n",
       "    </tr>\n",
       "    <tr>\n",
       "      <th>3</th>\n",
       "      <td>1001</td>\n",
       "      <td>10</td>\n",
       "      <td>53</td>\n",
       "      <td>surf</td>\n",
       "      <td>20.09</td>\n",
       "    </tr>\n",
       "    <tr>\n",
       "      <th>4</th>\n",
       "      <td>1001</td>\n",
       "      <td>11</td>\n",
       "      <td>36</td>\n",
       "      <td>surf</td>\n",
       "      <td>20.00</td>\n",
       "    </tr>\n",
       "    <tr>\n",
       "      <th>...</th>\n",
       "      <td>...</td>\n",
       "      <td>...</td>\n",
       "      <td>...</td>\n",
       "      <td>...</td>\n",
       "      <td>...</td>\n",
       "    </tr>\n",
       "    <tr>\n",
       "      <th>1801</th>\n",
       "      <td>1496</td>\n",
       "      <td>9</td>\n",
       "      <td>21</td>\n",
       "      <td>surf</td>\n",
       "      <td>20.00</td>\n",
       "    </tr>\n",
       "    <tr>\n",
       "      <th>1802</th>\n",
       "      <td>1496</td>\n",
       "      <td>10</td>\n",
       "      <td>18</td>\n",
       "      <td>surf</td>\n",
       "      <td>20.00</td>\n",
       "    </tr>\n",
       "    <tr>\n",
       "      <th>1803</th>\n",
       "      <td>1496</td>\n",
       "      <td>11</td>\n",
       "      <td>13</td>\n",
       "      <td>surf</td>\n",
       "      <td>20.00</td>\n",
       "    </tr>\n",
       "    <tr>\n",
       "      <th>1804</th>\n",
       "      <td>1496</td>\n",
       "      <td>12</td>\n",
       "      <td>11</td>\n",
       "      <td>surf</td>\n",
       "      <td>20.00</td>\n",
       "    </tr>\n",
       "    <tr>\n",
       "      <th>1805</th>\n",
       "      <td>1497</td>\n",
       "      <td>12</td>\n",
       "      <td>50</td>\n",
       "      <td>ultimate</td>\n",
       "      <td>70.00</td>\n",
       "    </tr>\n",
       "  </tbody>\n",
       "</table>\n",
       "<p>1806 rows × 5 columns</p>\n",
       "</div>"
      ],
      "text/plain": [
       "      user_id  month  total_messages_month      plan  total_messages_revenue_month\n",
       "0        1000     12                    11  ultimate                         70.00\n",
       "1        1001      8                    30      surf                         20.00\n",
       "2        1001      9                    44      surf                         20.00\n",
       "3        1001     10                    53      surf                         20.09\n",
       "4        1001     11                    36      surf                         20.00\n",
       "...       ...    ...                   ...       ...                           ...\n",
       "1801     1496      9                    21      surf                         20.00\n",
       "1802     1496     10                    18      surf                         20.00\n",
       "1803     1496     11                    13      surf                         20.00\n",
       "1804     1496     12                    11      surf                         20.00\n",
       "1805     1497     12                    50  ultimate                         70.00\n",
       "\n",
       "[1806 rows x 5 columns]"
      ]
     },
     "execution_count": 51,
     "metadata": {},
     "output_type": "execute_result"
    }
   ],
   "source": [
    "df_messages_user_month['total_messages_revenue_month'] = np.round(df_messages_user_month.apply(lambda row: revenue(row, 'messages', 'total_messages_month'), axis=1), 3)\n",
    "df_messages_user_month"
   ]
  },
  {
   "cell_type": "code",
   "execution_count": 52,
   "id": "b8691e36",
   "metadata": {},
   "outputs": [
    {
     "data": {
      "application/vnd.microsoft.datawrangler.viewer.v0+json": {
       "columns": [
        {
         "name": "index",
         "rawType": "int64",
         "type": "integer"
        },
        {
         "name": "user_id",
         "rawType": "int64",
         "type": "integer"
        },
        {
         "name": "total_messages",
         "rawType": "int64",
         "type": "integer"
        },
        {
         "name": "total_messages_revenue",
         "rawType": "float64",
         "type": "float"
        }
       ],
       "ref": "5d837b7a-feb7-417d-a191-ff06fd2d7d7b",
       "rows": [
        [
         "0",
         "1000",
         "11",
         "70.0"
        ],
        [
         "1",
         "1001",
         "207",
         "100.09"
        ],
        [
         "2",
         "1002",
         "88",
         "60.0"
        ],
        [
         "3",
         "1003",
         "50",
         "20.0"
        ],
        [
         "4",
         "1004",
         "177",
         "160.0"
        ],
        [
         "5",
         "1005",
         "11",
         "20.0"
        ],
        [
         "6",
         "1006",
         "154",
         "140.0"
        ],
        [
         "7",
         "1007",
         "255",
         "100.3"
        ],
        [
         "8",
         "1008",
         "84",
         "210.0"
        ],
        [
         "9",
         "1011",
         "371",
         "490.0"
        ],
        [
         "10",
         "1013",
         "16",
         "70.0"
        ],
        [
         "11",
         "1014",
         "73",
         "40.42"
        ],
        [
         "12",
         "1015",
         "68",
         "20.54"
        ],
        [
         "13",
         "1016",
         "95",
         "60.0"
        ],
        [
         "14",
         "1017",
         "152",
         "100.0"
        ],
        [
         "15",
         "1018",
         "16",
         "60.0"
        ],
        [
         "16",
         "1019",
         "152",
         "42.34"
        ],
        [
         "17",
         "1020",
         "4",
         "40.0"
        ],
        [
         "18",
         "1023",
         "11",
         "40.0"
        ],
        [
         "19",
         "1026",
         "22",
         "140.0"
        ],
        [
         "20",
         "1027",
         "78",
         "120.0"
        ],
        [
         "21",
         "1028",
         "756",
         "770.0"
        ],
        [
         "22",
         "1029",
         "50",
         "100.0"
        ],
        [
         "23",
         "1030",
         "30",
         "210.0"
        ],
        [
         "24",
         "1031",
         "14",
         "420.0"
        ],
        [
         "25",
         "1032",
         "42",
         "140.0"
        ],
        [
         "26",
         "1033",
         "108",
         "280.0"
        ],
        [
         "27",
         "1034",
         "4",
         "20.0"
        ],
        [
         "28",
         "1035",
         "66",
         "20.48"
        ],
        [
         "29",
         "1036",
         "438",
         "490.0"
        ],
        [
         "30",
         "1037",
         "44",
         "70.0"
        ],
        [
         "31",
         "1038",
         "255",
         "210.0"
        ],
        [
         "32",
         "1039",
         "147",
         "490.0"
        ],
        [
         "33",
         "1043",
         "599",
         "490.0"
        ],
        [
         "34",
         "1044",
         "160",
         "80.0"
        ],
        [
         "35",
         "1045",
         "130",
         "60.0"
        ],
        [
         "36",
         "1046",
         "238",
         "140.03"
        ],
        [
         "37",
         "1047",
         "7",
         "70.0"
        ],
        [
         "38",
         "1051",
         "60",
         "20.3"
        ],
        [
         "39",
         "1052",
         "318",
         "46.54"
        ],
        [
         "40",
         "1053",
         "75",
         "100.0"
        ],
        [
         "41",
         "1054",
         "246",
         "180.0"
        ],
        [
         "42",
         "1055",
         "608",
         "166.3"
        ],
        [
         "43",
         "1056",
         "186",
         "120.0"
        ],
        [
         "44",
         "1057",
         "400",
         "280.0"
        ],
        [
         "45",
         "1058",
         "55",
         "40.0"
        ],
        [
         "46",
         "1059",
         "533",
         "630.0"
        ],
        [
         "47",
         "1060",
         "330",
         "102.75999999999999"
        ],
        [
         "48",
         "1061",
         "522",
         "630.0"
        ],
        [
         "49",
         "1062",
         "80",
         "630.0"
        ]
       ],
       "shape": {
        "columns": 3,
        "rows": 402
       }
      },
      "text/html": [
       "<div>\n",
       "<style scoped>\n",
       "    .dataframe tbody tr th:only-of-type {\n",
       "        vertical-align: middle;\n",
       "    }\n",
       "\n",
       "    .dataframe tbody tr th {\n",
       "        vertical-align: top;\n",
       "    }\n",
       "\n",
       "    .dataframe thead th {\n",
       "        text-align: right;\n",
       "    }\n",
       "</style>\n",
       "<table border=\"1\" class=\"dataframe\">\n",
       "  <thead>\n",
       "    <tr style=\"text-align: right;\">\n",
       "      <th></th>\n",
       "      <th>user_id</th>\n",
       "      <th>total_messages</th>\n",
       "      <th>total_messages_revenue</th>\n",
       "    </tr>\n",
       "  </thead>\n",
       "  <tbody>\n",
       "    <tr>\n",
       "      <th>0</th>\n",
       "      <td>1000</td>\n",
       "      <td>11</td>\n",
       "      <td>70.00</td>\n",
       "    </tr>\n",
       "    <tr>\n",
       "      <th>1</th>\n",
       "      <td>1001</td>\n",
       "      <td>207</td>\n",
       "      <td>100.09</td>\n",
       "    </tr>\n",
       "    <tr>\n",
       "      <th>2</th>\n",
       "      <td>1002</td>\n",
       "      <td>88</td>\n",
       "      <td>60.00</td>\n",
       "    </tr>\n",
       "    <tr>\n",
       "      <th>3</th>\n",
       "      <td>1003</td>\n",
       "      <td>50</td>\n",
       "      <td>20.00</td>\n",
       "    </tr>\n",
       "    <tr>\n",
       "      <th>4</th>\n",
       "      <td>1004</td>\n",
       "      <td>177</td>\n",
       "      <td>160.00</td>\n",
       "    </tr>\n",
       "    <tr>\n",
       "      <th>...</th>\n",
       "      <td>...</td>\n",
       "      <td>...</td>\n",
       "      <td>...</td>\n",
       "    </tr>\n",
       "    <tr>\n",
       "      <th>397</th>\n",
       "      <td>1491</td>\n",
       "      <td>409</td>\n",
       "      <td>180.57</td>\n",
       "    </tr>\n",
       "    <tr>\n",
       "      <th>398</th>\n",
       "      <td>1492</td>\n",
       "      <td>108</td>\n",
       "      <td>80.00</td>\n",
       "    </tr>\n",
       "    <tr>\n",
       "      <th>399</th>\n",
       "      <td>1494</td>\n",
       "      <td>174</td>\n",
       "      <td>120.00</td>\n",
       "    </tr>\n",
       "    <tr>\n",
       "      <th>400</th>\n",
       "      <td>1496</td>\n",
       "      <td>65</td>\n",
       "      <td>100.00</td>\n",
       "    </tr>\n",
       "    <tr>\n",
       "      <th>401</th>\n",
       "      <td>1497</td>\n",
       "      <td>50</td>\n",
       "      <td>70.00</td>\n",
       "    </tr>\n",
       "  </tbody>\n",
       "</table>\n",
       "<p>402 rows × 3 columns</p>\n",
       "</div>"
      ],
      "text/plain": [
       "     user_id  total_messages  total_messages_revenue\n",
       "0       1000              11                   70.00\n",
       "1       1001             207                  100.09\n",
       "2       1002              88                   60.00\n",
       "3       1003              50                   20.00\n",
       "4       1004             177                  160.00\n",
       "..       ...             ...                     ...\n",
       "397     1491             409                  180.57\n",
       "398     1492             108                   80.00\n",
       "399     1494             174                  120.00\n",
       "400     1496              65                  100.00\n",
       "401     1497              50                   70.00\n",
       "\n",
       "[402 rows x 3 columns]"
      ]
     },
     "execution_count": 52,
     "metadata": {},
     "output_type": "execute_result"
    }
   ],
   "source": [
    "df_messages_user_total = df_messages_user_month.groupby('user_id').agg({'total_messages_month': 'sum', 'total_messages_revenue_month': 'sum'}).reset_index()\n",
    "df_messages_user_total = df_messages_user_total.rename(columns={'total_messages_month': 'total_messages', 'total_messages_revenue_month': 'total_messages_revenue'} )\n",
    "df_messages_user_total"
   ]
  },
  {
   "cell_type": "code",
   "execution_count": 53,
   "id": "98f6fd30",
   "metadata": {},
   "outputs": [
    {
     "data": {
      "application/vnd.microsoft.datawrangler.viewer.v0+json": {
       "columns": [
        {
         "name": "index",
         "rawType": "int64",
         "type": "integer"
        },
        {
         "name": "user_id",
         "rawType": "int64",
         "type": "integer"
        },
        {
         "name": "total_messages",
         "rawType": "int64",
         "type": "integer"
        },
        {
         "name": "total_messages_revenue",
         "rawType": "float64",
         "type": "float"
        },
        {
         "name": "plan",
         "rawType": "category",
         "type": "unknown"
        }
       ],
       "ref": "1a0056ca-66cb-463e-bfe4-b490b46258ad",
       "rows": [
        [
         "0",
         "1000",
         "11",
         "70.0",
         "ultimate"
        ],
        [
         "1",
         "1001",
         "207",
         "100.09",
         "surf"
        ],
        [
         "2",
         "1002",
         "88",
         "60.0",
         "surf"
        ],
        [
         "3",
         "1003",
         "50",
         "20.0",
         "surf"
        ],
        [
         "4",
         "1004",
         "177",
         "160.0",
         "surf"
        ],
        [
         "5",
         "1005",
         "11",
         "20.0",
         "surf"
        ],
        [
         "6",
         "1006",
         "154",
         "140.0",
         "ultimate"
        ],
        [
         "7",
         "1007",
         "255",
         "100.3",
         "surf"
        ],
        [
         "8",
         "1008",
         "84",
         "210.0",
         "ultimate"
        ],
        [
         "9",
         "1011",
         "371",
         "490.0",
         "ultimate"
        ],
        [
         "10",
         "1013",
         "16",
         "70.0",
         "ultimate"
        ],
        [
         "11",
         "1014",
         "73",
         "40.42",
         "surf"
        ],
        [
         "12",
         "1015",
         "68",
         "20.54",
         "surf"
        ],
        [
         "13",
         "1016",
         "95",
         "60.0",
         "surf"
        ],
        [
         "14",
         "1017",
         "152",
         "100.0",
         "surf"
        ],
        [
         "15",
         "1018",
         "16",
         "60.0",
         "surf"
        ],
        [
         "16",
         "1019",
         "152",
         "42.34",
         "surf"
        ],
        [
         "17",
         "1020",
         "4",
         "40.0",
         "surf"
        ],
        [
         "18",
         "1023",
         "11",
         "40.0",
         "surf"
        ],
        [
         "19",
         "1026",
         "22",
         "140.0",
         "ultimate"
        ],
        [
         "20",
         "1027",
         "78",
         "120.0",
         "surf"
        ],
        [
         "21",
         "1028",
         "756",
         "770.0",
         "ultimate"
        ],
        [
         "22",
         "1029",
         "50",
         "100.0",
         "surf"
        ],
        [
         "23",
         "1030",
         "30",
         "210.0",
         "ultimate"
        ],
        [
         "24",
         "1031",
         "14",
         "420.0",
         "ultimate"
        ],
        [
         "25",
         "1032",
         "42",
         "140.0",
         "ultimate"
        ],
        [
         "26",
         "1033",
         "108",
         "280.0",
         "ultimate"
        ],
        [
         "27",
         "1034",
         "4",
         "20.0",
         "surf"
        ],
        [
         "28",
         "1035",
         "66",
         "20.48",
         "surf"
        ],
        [
         "29",
         "1036",
         "438",
         "490.0",
         "ultimate"
        ],
        [
         "30",
         "1037",
         "44",
         "70.0",
         "ultimate"
        ],
        [
         "31",
         "1038",
         "255",
         "210.0",
         "ultimate"
        ],
        [
         "32",
         "1039",
         "147",
         "490.0",
         "ultimate"
        ],
        [
         "33",
         "1043",
         "599",
         "490.0",
         "ultimate"
        ],
        [
         "34",
         "1044",
         "160",
         "80.0",
         "surf"
        ],
        [
         "35",
         "1045",
         "130",
         "60.0",
         "surf"
        ],
        [
         "36",
         "1046",
         "238",
         "140.03",
         "surf"
        ],
        [
         "37",
         "1047",
         "7",
         "70.0",
         "ultimate"
        ],
        [
         "38",
         "1051",
         "60",
         "20.3",
         "surf"
        ],
        [
         "39",
         "1052",
         "318",
         "46.54",
         "surf"
        ],
        [
         "40",
         "1053",
         "75",
         "100.0",
         "surf"
        ],
        [
         "41",
         "1054",
         "246",
         "180.0",
         "surf"
        ],
        [
         "42",
         "1055",
         "608",
         "166.3",
         "surf"
        ],
        [
         "43",
         "1056",
         "186",
         "120.0",
         "surf"
        ],
        [
         "44",
         "1057",
         "400",
         "280.0",
         "ultimate"
        ],
        [
         "45",
         "1058",
         "55",
         "40.0",
         "surf"
        ],
        [
         "46",
         "1059",
         "533",
         "630.0",
         "ultimate"
        ],
        [
         "47",
         "1060",
         "330",
         "102.75999999999999",
         "surf"
        ],
        [
         "48",
         "1061",
         "522",
         "630.0",
         "ultimate"
        ],
        [
         "49",
         "1062",
         "80",
         "630.0",
         "ultimate"
        ]
       ],
       "shape": {
        "columns": 4,
        "rows": 402
       }
      },
      "text/html": [
       "<div>\n",
       "<style scoped>\n",
       "    .dataframe tbody tr th:only-of-type {\n",
       "        vertical-align: middle;\n",
       "    }\n",
       "\n",
       "    .dataframe tbody tr th {\n",
       "        vertical-align: top;\n",
       "    }\n",
       "\n",
       "    .dataframe thead th {\n",
       "        text-align: right;\n",
       "    }\n",
       "</style>\n",
       "<table border=\"1\" class=\"dataframe\">\n",
       "  <thead>\n",
       "    <tr style=\"text-align: right;\">\n",
       "      <th></th>\n",
       "      <th>user_id</th>\n",
       "      <th>total_messages</th>\n",
       "      <th>total_messages_revenue</th>\n",
       "      <th>plan</th>\n",
       "    </tr>\n",
       "  </thead>\n",
       "  <tbody>\n",
       "    <tr>\n",
       "      <th>0</th>\n",
       "      <td>1000</td>\n",
       "      <td>11</td>\n",
       "      <td>70.00</td>\n",
       "      <td>ultimate</td>\n",
       "    </tr>\n",
       "    <tr>\n",
       "      <th>1</th>\n",
       "      <td>1001</td>\n",
       "      <td>207</td>\n",
       "      <td>100.09</td>\n",
       "      <td>surf</td>\n",
       "    </tr>\n",
       "    <tr>\n",
       "      <th>2</th>\n",
       "      <td>1002</td>\n",
       "      <td>88</td>\n",
       "      <td>60.00</td>\n",
       "      <td>surf</td>\n",
       "    </tr>\n",
       "    <tr>\n",
       "      <th>3</th>\n",
       "      <td>1003</td>\n",
       "      <td>50</td>\n",
       "      <td>20.00</td>\n",
       "      <td>surf</td>\n",
       "    </tr>\n",
       "    <tr>\n",
       "      <th>4</th>\n",
       "      <td>1004</td>\n",
       "      <td>177</td>\n",
       "      <td>160.00</td>\n",
       "      <td>surf</td>\n",
       "    </tr>\n",
       "    <tr>\n",
       "      <th>...</th>\n",
       "      <td>...</td>\n",
       "      <td>...</td>\n",
       "      <td>...</td>\n",
       "      <td>...</td>\n",
       "    </tr>\n",
       "    <tr>\n",
       "      <th>397</th>\n",
       "      <td>1491</td>\n",
       "      <td>409</td>\n",
       "      <td>180.57</td>\n",
       "      <td>surf</td>\n",
       "    </tr>\n",
       "    <tr>\n",
       "      <th>398</th>\n",
       "      <td>1492</td>\n",
       "      <td>108</td>\n",
       "      <td>80.00</td>\n",
       "      <td>surf</td>\n",
       "    </tr>\n",
       "    <tr>\n",
       "      <th>399</th>\n",
       "      <td>1494</td>\n",
       "      <td>174</td>\n",
       "      <td>120.00</td>\n",
       "      <td>surf</td>\n",
       "    </tr>\n",
       "    <tr>\n",
       "      <th>400</th>\n",
       "      <td>1496</td>\n",
       "      <td>65</td>\n",
       "      <td>100.00</td>\n",
       "      <td>surf</td>\n",
       "    </tr>\n",
       "    <tr>\n",
       "      <th>401</th>\n",
       "      <td>1497</td>\n",
       "      <td>50</td>\n",
       "      <td>70.00</td>\n",
       "      <td>ultimate</td>\n",
       "    </tr>\n",
       "  </tbody>\n",
       "</table>\n",
       "<p>402 rows × 4 columns</p>\n",
       "</div>"
      ],
      "text/plain": [
       "     user_id  total_messages  total_messages_revenue      plan\n",
       "0       1000              11                   70.00  ultimate\n",
       "1       1001             207                  100.09      surf\n",
       "2       1002              88                   60.00      surf\n",
       "3       1003              50                   20.00      surf\n",
       "4       1004             177                  160.00      surf\n",
       "..       ...             ...                     ...       ...\n",
       "397     1491             409                  180.57      surf\n",
       "398     1492             108                   80.00      surf\n",
       "399     1494             174                  120.00      surf\n",
       "400     1496              65                  100.00      surf\n",
       "401     1497              50                   70.00  ultimate\n",
       "\n",
       "[402 rows x 4 columns]"
      ]
     },
     "execution_count": 53,
     "metadata": {},
     "output_type": "execute_result"
    }
   ],
   "source": [
    "df_messages_user_total = df_messages_user_total.merge(df_users[['user_id', 'plan']], on='user_id', how='left')\n",
    "df_messages_user_total"
   ]
  },
  {
   "cell_type": "code",
   "execution_count": 54,
   "id": "bca7bc05",
   "metadata": {},
   "outputs": [
    {
     "data": {
      "application/vnd.microsoft.datawrangler.viewer.v0+json": {
       "columns": [
        {
         "name": "index",
         "rawType": "int64",
         "type": "integer"
        },
        {
         "name": "user_id",
         "rawType": "int64",
         "type": "integer"
        },
        {
         "name": "total_messages",
         "rawType": "int64",
         "type": "integer"
        },
        {
         "name": "total_messages_revenue",
         "rawType": "float64",
         "type": "float"
        },
        {
         "name": "plan",
         "rawType": "category",
         "type": "unknown"
        },
        {
         "name": "city",
         "rawType": "string",
         "type": "string"
        }
       ],
       "ref": "ab36d91d-a242-4568-8cab-ecd14199ed92",
       "rows": [
        [
         "0",
         "1000",
         "11",
         "70.0",
         "ultimate",
         "atlanta_sandy_springs_roswell,_ga_msa"
        ],
        [
         "1",
         "1001",
         "207",
         "100.09",
         "surf",
         "seattle_tacoma_bellevue,_wa_msa"
        ],
        [
         "2",
         "1002",
         "88",
         "60.0",
         "surf",
         "las_vegas_henderson_paradise,_nv_msa"
        ],
        [
         "3",
         "1003",
         "50",
         "20.0",
         "surf",
         "tulsa,_ok_msa"
        ],
        [
         "4",
         "1004",
         "177",
         "160.0",
         "surf",
         "seattle_tacoma_bellevue,_wa_msa"
        ],
        [
         "5",
         "1005",
         "11",
         "20.0",
         "surf",
         "dallas_fort_worth_arlington,_tx_msa"
        ],
        [
         "6",
         "1006",
         "154",
         "140.0",
         "ultimate",
         "san_francisco_oakland_berkeley,_ca_msa"
        ],
        [
         "7",
         "1007",
         "255",
         "100.3",
         "surf",
         "grand_rapids_kentwood,_mi_msa"
        ],
        [
         "8",
         "1008",
         "84",
         "210.0",
         "ultimate",
         "orlando_kissimmee_sanford,_fl_msa"
        ],
        [
         "9",
         "1011",
         "371",
         "490.0",
         "ultimate",
         "cleveland_elyria,_oh_msa"
        ],
        [
         "10",
         "1013",
         "16",
         "70.0",
         "ultimate",
         "knoxville,_tn_msa"
        ],
        [
         "11",
         "1014",
         "73",
         "40.42",
         "surf",
         "new_york_newark_jersey_city,_ny_nj_pa_msa"
        ],
        [
         "12",
         "1015",
         "68",
         "20.54",
         "surf",
         "pittsburgh,_pa_msa"
        ],
        [
         "13",
         "1016",
         "95",
         "60.0",
         "surf",
         "fresno,_ca_msa"
        ],
        [
         "14",
         "1017",
         "152",
         "100.0",
         "surf",
         "washington_arlington_alexandria,_dc_va_md_wv_msa"
        ],
        [
         "15",
         "1018",
         "16",
         "60.0",
         "surf",
         "indianapolis_carmel_anderson,_in_msa"
        ],
        [
         "16",
         "1019",
         "152",
         "42.34",
         "surf",
         "jacksonville,_fl_msa"
        ],
        [
         "17",
         "1020",
         "4",
         "40.0",
         "surf",
         "dallas_fort_worth_arlington,_tx_msa"
        ],
        [
         "18",
         "1023",
         "11",
         "40.0",
         "surf",
         "omaha_council_bluffs,_ne_ia_msa"
        ],
        [
         "19",
         "1026",
         "22",
         "140.0",
         "ultimate",
         "houston_the_woodlands_sugar_land,_tx_msa"
        ],
        [
         "20",
         "1027",
         "78",
         "120.0",
         "surf",
         "new_york_newark_jersey_city,_ny_nj_pa_msa"
        ],
        [
         "21",
         "1028",
         "756",
         "770.0",
         "ultimate",
         "philadelphia_camden_wilmington,_pa_nj_de_md_msa"
        ],
        [
         "22",
         "1029",
         "50",
         "100.0",
         "surf",
         "tampa_st_petersburg_clearwater,_fl_msa"
        ],
        [
         "23",
         "1030",
         "30",
         "210.0",
         "ultimate",
         "chicago_naperville_elgin,_il_in_wi_msa"
        ],
        [
         "24",
         "1031",
         "14",
         "420.0",
         "ultimate",
         "new_york_newark_jersey_city,_ny_nj_pa_msa"
        ],
        [
         "25",
         "1032",
         "42",
         "140.0",
         "ultimate",
         "birmingham_hoover,_al_msa"
        ],
        [
         "26",
         "1033",
         "108",
         "280.0",
         "ultimate",
         "oklahoma_city,_ok_msa"
        ],
        [
         "27",
         "1034",
         "4",
         "20.0",
         "surf",
         "new_york_newark_jersey_city,_ny_nj_pa_msa"
        ],
        [
         "28",
         "1035",
         "66",
         "20.48",
         "surf",
         "charlotte_concord_gastonia,_nc_sc_msa"
        ],
        [
         "29",
         "1036",
         "438",
         "490.0",
         "ultimate",
         "denver_aurora_lakewood,_co_msa"
        ],
        [
         "30",
         "1037",
         "44",
         "70.0",
         "ultimate",
         "seattle_tacoma_bellevue,_wa_msa"
        ],
        [
         "31",
         "1038",
         "255",
         "210.0",
         "ultimate",
         "nashville_davidson_murfreesboro_franklin,_tn_msa"
        ],
        [
         "32",
         "1039",
         "147",
         "490.0",
         "ultimate",
         "columbus,_oh_msa"
        ],
        [
         "33",
         "1043",
         "599",
         "490.0",
         "ultimate",
         "new_york_newark_jersey_city,_ny_nj_pa_msa"
        ],
        [
         "34",
         "1044",
         "160",
         "80.0",
         "surf",
         "albuquerque,_nm_msa"
        ],
        [
         "35",
         "1045",
         "130",
         "60.0",
         "surf",
         "new_york_newark_jersey_city,_ny_nj_pa_msa"
        ],
        [
         "36",
         "1046",
         "238",
         "140.03",
         "surf",
         "boston_cambridge_newton,_ma_nh_msa"
        ],
        [
         "37",
         "1047",
         "7",
         "70.0",
         "ultimate",
         "indianapolis_carmel_anderson,_in_msa"
        ],
        [
         "38",
         "1051",
         "60",
         "20.3",
         "surf",
         "san_diego_chula_vista_carlsbad,_ca_msa"
        ],
        [
         "39",
         "1052",
         "318",
         "46.54",
         "surf",
         "houston_the_woodlands_sugar_land,_tx_msa"
        ],
        [
         "40",
         "1053",
         "75",
         "100.0",
         "surf",
         "new_york_newark_jersey_city,_ny_nj_pa_msa"
        ],
        [
         "41",
         "1054",
         "246",
         "180.0",
         "surf",
         "phoenix_mesa_chandler,_az_msa"
        ],
        [
         "42",
         "1055",
         "608",
         "166.3",
         "surf",
         "portland_vancouver_hillsboro,_or_wa_msa"
        ],
        [
         "43",
         "1056",
         "186",
         "120.0",
         "surf",
         "cincinnati,_oh_ky_in_msa"
        ],
        [
         "44",
         "1057",
         "400",
         "280.0",
         "ultimate",
         "atlanta_sandy_springs_roswell,_ga_msa"
        ],
        [
         "45",
         "1058",
         "55",
         "40.0",
         "surf",
         "los_angeles_long_beach_anaheim,_ca_msa"
        ],
        [
         "46",
         "1059",
         "533",
         "630.0",
         "ultimate",
         "chicago_naperville_elgin,_il_in_wi_msa"
        ],
        [
         "47",
         "1060",
         "330",
         "102.75999999999999",
         "surf",
         "atlanta_sandy_springs_roswell,_ga_msa"
        ],
        [
         "48",
         "1061",
         "522",
         "630.0",
         "ultimate",
         "columbia,_sc_msa"
        ],
        [
         "49",
         "1062",
         "80",
         "630.0",
         "ultimate",
         "san_antonio_new_braunfels,_tx_msa"
        ]
       ],
       "shape": {
        "columns": 5,
        "rows": 402
       }
      },
      "text/html": [
       "<div>\n",
       "<style scoped>\n",
       "    .dataframe tbody tr th:only-of-type {\n",
       "        vertical-align: middle;\n",
       "    }\n",
       "\n",
       "    .dataframe tbody tr th {\n",
       "        vertical-align: top;\n",
       "    }\n",
       "\n",
       "    .dataframe thead th {\n",
       "        text-align: right;\n",
       "    }\n",
       "</style>\n",
       "<table border=\"1\" class=\"dataframe\">\n",
       "  <thead>\n",
       "    <tr style=\"text-align: right;\">\n",
       "      <th></th>\n",
       "      <th>user_id</th>\n",
       "      <th>total_messages</th>\n",
       "      <th>total_messages_revenue</th>\n",
       "      <th>plan</th>\n",
       "      <th>city</th>\n",
       "    </tr>\n",
       "  </thead>\n",
       "  <tbody>\n",
       "    <tr>\n",
       "      <th>0</th>\n",
       "      <td>1000</td>\n",
       "      <td>11</td>\n",
       "      <td>70.00</td>\n",
       "      <td>ultimate</td>\n",
       "      <td>atlanta_sandy_springs_roswell,_ga_msa</td>\n",
       "    </tr>\n",
       "    <tr>\n",
       "      <th>1</th>\n",
       "      <td>1001</td>\n",
       "      <td>207</td>\n",
       "      <td>100.09</td>\n",
       "      <td>surf</td>\n",
       "      <td>seattle_tacoma_bellevue,_wa_msa</td>\n",
       "    </tr>\n",
       "    <tr>\n",
       "      <th>2</th>\n",
       "      <td>1002</td>\n",
       "      <td>88</td>\n",
       "      <td>60.00</td>\n",
       "      <td>surf</td>\n",
       "      <td>las_vegas_henderson_paradise,_nv_msa</td>\n",
       "    </tr>\n",
       "    <tr>\n",
       "      <th>3</th>\n",
       "      <td>1003</td>\n",
       "      <td>50</td>\n",
       "      <td>20.00</td>\n",
       "      <td>surf</td>\n",
       "      <td>tulsa,_ok_msa</td>\n",
       "    </tr>\n",
       "    <tr>\n",
       "      <th>4</th>\n",
       "      <td>1004</td>\n",
       "      <td>177</td>\n",
       "      <td>160.00</td>\n",
       "      <td>surf</td>\n",
       "      <td>seattle_tacoma_bellevue,_wa_msa</td>\n",
       "    </tr>\n",
       "    <tr>\n",
       "      <th>...</th>\n",
       "      <td>...</td>\n",
       "      <td>...</td>\n",
       "      <td>...</td>\n",
       "      <td>...</td>\n",
       "      <td>...</td>\n",
       "    </tr>\n",
       "    <tr>\n",
       "      <th>397</th>\n",
       "      <td>1491</td>\n",
       "      <td>409</td>\n",
       "      <td>180.57</td>\n",
       "      <td>surf</td>\n",
       "      <td>grand_rapids_kentwood,_mi_msa</td>\n",
       "    </tr>\n",
       "    <tr>\n",
       "      <th>398</th>\n",
       "      <td>1492</td>\n",
       "      <td>108</td>\n",
       "      <td>80.00</td>\n",
       "      <td>surf</td>\n",
       "      <td>portland_vancouver_hillsboro,_or_wa_msa</td>\n",
       "    </tr>\n",
       "    <tr>\n",
       "      <th>399</th>\n",
       "      <td>1494</td>\n",
       "      <td>174</td>\n",
       "      <td>120.00</td>\n",
       "      <td>surf</td>\n",
       "      <td>new_york_newark_jersey_city,_ny_nj_pa_msa</td>\n",
       "    </tr>\n",
       "    <tr>\n",
       "      <th>400</th>\n",
       "      <td>1496</td>\n",
       "      <td>65</td>\n",
       "      <td>100.00</td>\n",
       "      <td>surf</td>\n",
       "      <td>new_orleans_metairie,_la_msa</td>\n",
       "    </tr>\n",
       "    <tr>\n",
       "      <th>401</th>\n",
       "      <td>1497</td>\n",
       "      <td>50</td>\n",
       "      <td>70.00</td>\n",
       "      <td>ultimate</td>\n",
       "      <td>los_angeles_long_beach_anaheim,_ca_msa</td>\n",
       "    </tr>\n",
       "  </tbody>\n",
       "</table>\n",
       "<p>402 rows × 5 columns</p>\n",
       "</div>"
      ],
      "text/plain": [
       "     user_id  total_messages  total_messages_revenue      plan                                       city\n",
       "0       1000              11                   70.00  ultimate      atlanta_sandy_springs_roswell,_ga_msa\n",
       "1       1001             207                  100.09      surf            seattle_tacoma_bellevue,_wa_msa\n",
       "2       1002              88                   60.00      surf       las_vegas_henderson_paradise,_nv_msa\n",
       "3       1003              50                   20.00      surf                              tulsa,_ok_msa\n",
       "4       1004             177                  160.00      surf            seattle_tacoma_bellevue,_wa_msa\n",
       "..       ...             ...                     ...       ...                                        ...\n",
       "397     1491             409                  180.57      surf              grand_rapids_kentwood,_mi_msa\n",
       "398     1492             108                   80.00      surf    portland_vancouver_hillsboro,_or_wa_msa\n",
       "399     1494             174                  120.00      surf  new_york_newark_jersey_city,_ny_nj_pa_msa\n",
       "400     1496              65                  100.00      surf               new_orleans_metairie,_la_msa\n",
       "401     1497              50                   70.00  ultimate     los_angeles_long_beach_anaheim,_ca_msa\n",
       "\n",
       "[402 rows x 5 columns]"
      ]
     },
     "execution_count": 54,
     "metadata": {},
     "output_type": "execute_result"
    }
   ],
   "source": [
    "df_messages_user_total = df_messages_user_total.merge(df_users[['user_id', 'city']], on='user_id', how='left')\n",
    "df_messages_user_total"
   ]
  },
  {
   "cell_type": "code",
   "execution_count": 55,
   "id": "df974ce3",
   "metadata": {},
   "outputs": [],
   "source": [
    "project_root = Path.cwd().parent\n",
    "processed_path = project_root / \"data\" / \"processed\" / \"total\" / \"messages_total.csv\"\n",
    "\n",
    "df_messages_user_total.to_csv(processed_path, index=False)"
   ]
  },
  {
   "cell_type": "markdown",
   "id": "f622154f",
   "metadata": {},
   "source": [
    "### 4.4 Internet activity"
   ]
  },
  {
   "cell_type": "code",
   "execution_count": 56,
   "id": "9cd5d522",
   "metadata": {},
   "outputs": [
    {
     "data": {
      "application/vnd.microsoft.datawrangler.viewer.v0+json": {
       "columns": [
        {
         "name": "index",
         "rawType": "int64",
         "type": "integer"
        },
        {
         "name": "session_id",
         "rawType": "object",
         "type": "string"
        },
        {
         "name": "user_id",
         "rawType": "int64",
         "type": "integer"
        },
        {
         "name": "session_date",
         "rawType": "datetime64[ns, UTC]",
         "type": "unknown"
        },
        {
         "name": "mb_used",
         "rawType": "float64",
         "type": "float"
        },
        {
         "name": "month",
         "rawType": "int32",
         "type": "integer"
        },
        {
         "name": "day",
         "rawType": "int32",
         "type": "integer"
        }
       ],
       "ref": "88a8a394-a66a-4c98-bc70-ceb3f0c2c5b2",
       "rows": [
        [
         "0",
         "1000_13",
         "1000",
         "2018-12-29 00:00:00+00:00",
         "89.86",
         "12",
         "29"
        ],
        [
         "1",
         "1000_204",
         "1000",
         "2018-12-31 00:00:00+00:00",
         "0.0",
         "12",
         "31"
        ],
        [
         "2",
         "1000_379",
         "1000",
         "2018-12-28 00:00:00+00:00",
         "660.4",
         "12",
         "28"
        ],
        [
         "3",
         "1000_413",
         "1000",
         "2018-12-26 00:00:00+00:00",
         "270.99",
         "12",
         "26"
        ],
        [
         "4",
         "1000_442",
         "1000",
         "2018-12-27 00:00:00+00:00",
         "880.22",
         "12",
         "27"
        ],
        [
         "5",
         "1001_0",
         "1001",
         "2018-08-24 00:00:00+00:00",
         "284.68",
         "8",
         "24"
        ],
        [
         "6",
         "1001_3",
         "1001",
         "2018-12-09 00:00:00+00:00",
         "656.04",
         "12",
         "9"
        ],
        [
         "7",
         "1001_4",
         "1001",
         "2018-11-04 00:00:00+00:00",
         "16.97",
         "11",
         "4"
        ],
        [
         "8",
         "1001_10",
         "1001",
         "2018-11-27 00:00:00+00:00",
         "135.18",
         "11",
         "27"
        ],
        [
         "9",
         "1001_15",
         "1001",
         "2018-12-13 00:00:00+00:00",
         "761.92",
         "12",
         "13"
        ],
        [
         "10",
         "1001_16",
         "1001",
         "2018-10-28 00:00:00+00:00",
         "501.53",
         "10",
         "28"
        ],
        [
         "11",
         "1001_17",
         "1001",
         "2018-09-05 00:00:00+00:00",
         "727.29",
         "9",
         "5"
        ],
        [
         "12",
         "1001_24",
         "1001",
         "2018-09-05 00:00:00+00:00",
         "622.03",
         "9",
         "5"
        ],
        [
         "13",
         "1001_25",
         "1001",
         "2018-10-14 00:00:00+00:00",
         "310.43",
         "10",
         "14"
        ],
        [
         "14",
         "1001_26",
         "1001",
         "2018-09-17 00:00:00+00:00",
         "0.0",
         "9",
         "17"
        ],
        [
         "15",
         "1001_27",
         "1001",
         "2018-12-13 00:00:00+00:00",
         "149.17",
         "12",
         "13"
        ],
        [
         "16",
         "1001_28",
         "1001",
         "2018-10-17 00:00:00+00:00",
         "0.0",
         "10",
         "17"
        ],
        [
         "17",
         "1001_29",
         "1001",
         "2018-10-09 00:00:00+00:00",
         "1067.99",
         "10",
         "9"
        ],
        [
         "18",
         "1001_30",
         "1001",
         "2018-12-27 00:00:00+00:00",
         "157.2",
         "12",
         "27"
        ],
        [
         "19",
         "1001_33",
         "1001",
         "2018-09-27 00:00:00+00:00",
         "236.4",
         "9",
         "27"
        ],
        [
         "20",
         "1001_34",
         "1001",
         "2018-09-18 00:00:00+00:00",
         "299.66",
         "9",
         "18"
        ],
        [
         "21",
         "1001_37",
         "1001",
         "2018-12-26 00:00:00+00:00",
         "694.5",
         "12",
         "26"
        ],
        [
         "22",
         "1001_38",
         "1001",
         "2018-11-25 00:00:00+00:00",
         "288.27",
         "11",
         "25"
        ],
        [
         "23",
         "1001_40",
         "1001",
         "2018-12-27 00:00:00+00:00",
         "632.84",
         "12",
         "27"
        ],
        [
         "24",
         "1001_42",
         "1001",
         "2018-12-03 00:00:00+00:00",
         "474.35",
         "12",
         "3"
        ],
        [
         "25",
         "1001_43",
         "1001",
         "2018-11-16 00:00:00+00:00",
         "196.94",
         "11",
         "16"
        ],
        [
         "26",
         "1001_44",
         "1001",
         "2018-09-27 00:00:00+00:00",
         "44.91",
         "9",
         "27"
        ],
        [
         "27",
         "1001_45",
         "1001",
         "2018-10-23 00:00:00+00:00",
         "483.49",
         "10",
         "23"
        ],
        [
         "28",
         "1001_47",
         "1001",
         "2018-12-07 00:00:00+00:00",
         "317.01",
         "12",
         "7"
        ],
        [
         "29",
         "1001_48",
         "1001",
         "2018-09-08 00:00:00+00:00",
         "284.97",
         "9",
         "8"
        ],
        [
         "30",
         "1001_49",
         "1001",
         "2018-10-18 00:00:00+00:00",
         "534.65",
         "10",
         "18"
        ],
        [
         "31",
         "1001_50",
         "1001",
         "2018-11-27 00:00:00+00:00",
         "618.84",
         "11",
         "27"
        ],
        [
         "32",
         "1001_52",
         "1001",
         "2018-11-17 00:00:00+00:00",
         "409.19",
         "11",
         "17"
        ],
        [
         "33",
         "1001_53",
         "1001",
         "2018-11-10 00:00:00+00:00",
         "418.75",
         "11",
         "10"
        ],
        [
         "34",
         "1001_54",
         "1001",
         "2018-09-02 00:00:00+00:00",
         "0.0",
         "9",
         "2"
        ],
        [
         "35",
         "1001_61",
         "1001",
         "2018-11-28 00:00:00+00:00",
         "121.3",
         "11",
         "28"
        ],
        [
         "36",
         "1001_63",
         "1001",
         "2018-12-03 00:00:00+00:00",
         "144.94",
         "12",
         "3"
        ],
        [
         "37",
         "1001_64",
         "1001",
         "2018-12-10 00:00:00+00:00",
         "14.03",
         "12",
         "10"
        ],
        [
         "38",
         "1001_65",
         "1001",
         "2018-09-17 00:00:00+00:00",
         "969.54",
         "9",
         "17"
        ],
        [
         "39",
         "1001_66",
         "1001",
         "2018-10-17 00:00:00+00:00",
         "976.69",
         "10",
         "17"
        ],
        [
         "40",
         "1001_71",
         "1001",
         "2018-09-06 00:00:00+00:00",
         "310.16",
         "9",
         "6"
        ],
        [
         "41",
         "1001_73",
         "1001",
         "2018-10-04 00:00:00+00:00",
         "501.87",
         "10",
         "4"
        ],
        [
         "42",
         "1001_75",
         "1001",
         "2018-11-11 00:00:00+00:00",
         "438.76",
         "11",
         "11"
        ],
        [
         "43",
         "1001_77",
         "1001",
         "2018-10-31 00:00:00+00:00",
         "0.0",
         "10",
         "31"
        ],
        [
         "44",
         "1001_80",
         "1001",
         "2018-12-24 00:00:00+00:00",
         "0.0",
         "12",
         "24"
        ],
        [
         "45",
         "1001_82",
         "1001",
         "2018-11-28 00:00:00+00:00",
         "255.14",
         "11",
         "28"
        ],
        [
         "46",
         "1001_84",
         "1001",
         "2018-10-13 00:00:00+00:00",
         "0.0",
         "10",
         "13"
        ],
        [
         "47",
         "1001_85",
         "1001",
         "2018-12-16 00:00:00+00:00",
         "624.34",
         "12",
         "16"
        ],
        [
         "48",
         "1001_86",
         "1001",
         "2018-09-17 00:00:00+00:00",
         "71.78",
         "9",
         "17"
        ],
        [
         "49",
         "1001_87",
         "1001",
         "2018-09-30 00:00:00+00:00",
         "179.68",
         "9",
         "30"
        ]
       ],
       "shape": {
        "columns": 6,
        "rows": 104825
       }
      },
      "text/html": [
       "<div>\n",
       "<style scoped>\n",
       "    .dataframe tbody tr th:only-of-type {\n",
       "        vertical-align: middle;\n",
       "    }\n",
       "\n",
       "    .dataframe tbody tr th {\n",
       "        vertical-align: top;\n",
       "    }\n",
       "\n",
       "    .dataframe thead th {\n",
       "        text-align: right;\n",
       "    }\n",
       "</style>\n",
       "<table border=\"1\" class=\"dataframe\">\n",
       "  <thead>\n",
       "    <tr style=\"text-align: right;\">\n",
       "      <th></th>\n",
       "      <th>session_id</th>\n",
       "      <th>user_id</th>\n",
       "      <th>session_date</th>\n",
       "      <th>mb_used</th>\n",
       "      <th>month</th>\n",
       "      <th>day</th>\n",
       "    </tr>\n",
       "  </thead>\n",
       "  <tbody>\n",
       "    <tr>\n",
       "      <th>0</th>\n",
       "      <td>1000_13</td>\n",
       "      <td>1000</td>\n",
       "      <td>2018-12-29 00:00:00+00:00</td>\n",
       "      <td>89.86</td>\n",
       "      <td>12</td>\n",
       "      <td>29</td>\n",
       "    </tr>\n",
       "    <tr>\n",
       "      <th>1</th>\n",
       "      <td>1000_204</td>\n",
       "      <td>1000</td>\n",
       "      <td>2018-12-31 00:00:00+00:00</td>\n",
       "      <td>0.00</td>\n",
       "      <td>12</td>\n",
       "      <td>31</td>\n",
       "    </tr>\n",
       "    <tr>\n",
       "      <th>2</th>\n",
       "      <td>1000_379</td>\n",
       "      <td>1000</td>\n",
       "      <td>2018-12-28 00:00:00+00:00</td>\n",
       "      <td>660.40</td>\n",
       "      <td>12</td>\n",
       "      <td>28</td>\n",
       "    </tr>\n",
       "    <tr>\n",
       "      <th>3</th>\n",
       "      <td>1000_413</td>\n",
       "      <td>1000</td>\n",
       "      <td>2018-12-26 00:00:00+00:00</td>\n",
       "      <td>270.99</td>\n",
       "      <td>12</td>\n",
       "      <td>26</td>\n",
       "    </tr>\n",
       "    <tr>\n",
       "      <th>4</th>\n",
       "      <td>1000_442</td>\n",
       "      <td>1000</td>\n",
       "      <td>2018-12-27 00:00:00+00:00</td>\n",
       "      <td>880.22</td>\n",
       "      <td>12</td>\n",
       "      <td>27</td>\n",
       "    </tr>\n",
       "    <tr>\n",
       "      <th>...</th>\n",
       "      <td>...</td>\n",
       "      <td>...</td>\n",
       "      <td>...</td>\n",
       "      <td>...</td>\n",
       "      <td>...</td>\n",
       "      <td>...</td>\n",
       "    </tr>\n",
       "    <tr>\n",
       "      <th>104820</th>\n",
       "      <td>1499_215</td>\n",
       "      <td>1499</td>\n",
       "      <td>2018-10-20 00:00:00+00:00</td>\n",
       "      <td>218.06</td>\n",
       "      <td>10</td>\n",
       "      <td>20</td>\n",
       "    </tr>\n",
       "    <tr>\n",
       "      <th>104821</th>\n",
       "      <td>1499_216</td>\n",
       "      <td>1499</td>\n",
       "      <td>2018-12-30 00:00:00+00:00</td>\n",
       "      <td>304.72</td>\n",
       "      <td>12</td>\n",
       "      <td>30</td>\n",
       "    </tr>\n",
       "    <tr>\n",
       "      <th>104822</th>\n",
       "      <td>1499_217</td>\n",
       "      <td>1499</td>\n",
       "      <td>2018-09-22 00:00:00+00:00</td>\n",
       "      <td>292.75</td>\n",
       "      <td>9</td>\n",
       "      <td>22</td>\n",
       "    </tr>\n",
       "    <tr>\n",
       "      <th>104823</th>\n",
       "      <td>1499_218</td>\n",
       "      <td>1499</td>\n",
       "      <td>2018-12-07 00:00:00+00:00</td>\n",
       "      <td>0.00</td>\n",
       "      <td>12</td>\n",
       "      <td>7</td>\n",
       "    </tr>\n",
       "    <tr>\n",
       "      <th>104824</th>\n",
       "      <td>1499_219</td>\n",
       "      <td>1499</td>\n",
       "      <td>2018-12-24 00:00:00+00:00</td>\n",
       "      <td>758.31</td>\n",
       "      <td>12</td>\n",
       "      <td>24</td>\n",
       "    </tr>\n",
       "  </tbody>\n",
       "</table>\n",
       "<p>104825 rows × 6 columns</p>\n",
       "</div>"
      ],
      "text/plain": [
       "       session_id  user_id              session_date  mb_used  month  day\n",
       "0         1000_13     1000 2018-12-29 00:00:00+00:00    89.86     12   29\n",
       "1        1000_204     1000 2018-12-31 00:00:00+00:00     0.00     12   31\n",
       "2        1000_379     1000 2018-12-28 00:00:00+00:00   660.40     12   28\n",
       "3        1000_413     1000 2018-12-26 00:00:00+00:00   270.99     12   26\n",
       "4        1000_442     1000 2018-12-27 00:00:00+00:00   880.22     12   27\n",
       "...           ...      ...                       ...      ...    ...  ...\n",
       "104820   1499_215     1499 2018-10-20 00:00:00+00:00   218.06     10   20\n",
       "104821   1499_216     1499 2018-12-30 00:00:00+00:00   304.72     12   30\n",
       "104822   1499_217     1499 2018-09-22 00:00:00+00:00   292.75      9   22\n",
       "104823   1499_218     1499 2018-12-07 00:00:00+00:00     0.00     12    7\n",
       "104824   1499_219     1499 2018-12-24 00:00:00+00:00   758.31     12   24\n",
       "\n",
       "[104825 rows x 6 columns]"
      ]
     },
     "execution_count": 56,
     "metadata": {},
     "output_type": "execute_result"
    }
   ],
   "source": [
    "df_internet"
   ]
  },
  {
   "cell_type": "markdown",
   "id": "b86ad1d9",
   "metadata": {},
   "source": [
    "#### 4.4.1 Internet sessions and traffic per user"
   ]
  },
  {
   "cell_type": "code",
   "execution_count": 57,
   "id": "f994a3f5",
   "metadata": {},
   "outputs": [
    {
     "data": {
      "application/vnd.microsoft.datawrangler.viewer.v0+json": {
       "columns": [
        {
         "name": "index",
         "rawType": "int64",
         "type": "integer"
        },
        {
         "name": "user_id",
         "rawType": "int64",
         "type": "integer"
        },
        {
         "name": "total_sessions",
         "rawType": "int64",
         "type": "integer"
        }
       ],
       "ref": "d3b39396-e85e-4e66-a4dd-8d0eb69e41a6",
       "rows": [
        [
         "0",
         "1000",
         "5"
        ],
        [
         "1",
         "1001",
         "245"
        ],
        [
         "2",
         "1002",
         "124"
        ],
        [
         "3",
         "1003",
         "52"
        ],
        [
         "4",
         "1004",
         "460"
        ],
        [
         "5",
         "1005",
         "60"
        ],
        [
         "6",
         "1006",
         "70"
        ],
        [
         "7",
         "1007",
         "273"
        ],
        [
         "8",
         "1008",
         "176"
        ],
        [
         "9",
         "1009",
         "386"
        ],
        [
         "10",
         "1010",
         "409"
        ],
        [
         "11",
         "1011",
         "410"
        ],
        [
         "12",
         "1012",
         "58"
        ],
        [
         "13",
         "1013",
         "67"
        ],
        [
         "14",
         "1014",
         "20"
        ],
        [
         "15",
         "1015",
         "39"
        ],
        [
         "16",
         "1016",
         "114"
        ],
        [
         "17",
         "1017",
         "281"
        ],
        [
         "18",
         "1018",
         "126"
        ],
        [
         "19",
         "1019",
         "96"
        ],
        [
         "20",
         "1020",
         "102"
        ],
        [
         "21",
         "1021",
         "16"
        ],
        [
         "22",
         "1022",
         "463"
        ],
        [
         "23",
         "1023",
         "47"
        ],
        [
         "24",
         "1024",
         "33"
        ],
        [
         "25",
         "1026",
         "40"
        ],
        [
         "26",
         "1027",
         "280"
        ],
        [
         "27",
         "1028",
         "752"
        ],
        [
         "28",
         "1029",
         "197"
        ],
        [
         "29",
         "1030",
         "144"
        ],
        [
         "30",
         "1031",
         "294"
        ],
        [
         "31",
         "1032",
         "100"
        ],
        [
         "32",
         "1033",
         "240"
        ],
        [
         "33",
         "1034",
         "2"
        ],
        [
         "34",
         "1035",
         "46"
        ],
        [
         "35",
         "1036",
         "241"
        ],
        [
         "36",
         "1037",
         "44"
        ],
        [
         "37",
         "1038",
         "213"
        ],
        [
         "38",
         "1039",
         "397"
        ],
        [
         "39",
         "1040",
         "38"
        ],
        [
         "40",
         "1041",
         "632"
        ],
        [
         "41",
         "1042",
         "191"
        ],
        [
         "42",
         "1043",
         "397"
        ],
        [
         "43",
         "1044",
         "161"
        ],
        [
         "44",
         "1045",
         "174"
        ],
        [
         "45",
         "1046",
         "447"
        ],
        [
         "46",
         "1047",
         "52"
        ],
        [
         "47",
         "1048",
         "136"
        ],
        [
         "48",
         "1049",
         "233"
        ],
        [
         "49",
         "1050",
         "490"
        ]
       ],
       "shape": {
        "columns": 2,
        "rows": 489
       }
      },
      "text/html": [
       "<div>\n",
       "<style scoped>\n",
       "    .dataframe tbody tr th:only-of-type {\n",
       "        vertical-align: middle;\n",
       "    }\n",
       "\n",
       "    .dataframe tbody tr th {\n",
       "        vertical-align: top;\n",
       "    }\n",
       "\n",
       "    .dataframe thead th {\n",
       "        text-align: right;\n",
       "    }\n",
       "</style>\n",
       "<table border=\"1\" class=\"dataframe\">\n",
       "  <thead>\n",
       "    <tr style=\"text-align: right;\">\n",
       "      <th></th>\n",
       "      <th>user_id</th>\n",
       "      <th>total_sessions</th>\n",
       "    </tr>\n",
       "  </thead>\n",
       "  <tbody>\n",
       "    <tr>\n",
       "      <th>0</th>\n",
       "      <td>1000</td>\n",
       "      <td>5</td>\n",
       "    </tr>\n",
       "    <tr>\n",
       "      <th>1</th>\n",
       "      <td>1001</td>\n",
       "      <td>245</td>\n",
       "    </tr>\n",
       "    <tr>\n",
       "      <th>2</th>\n",
       "      <td>1002</td>\n",
       "      <td>124</td>\n",
       "    </tr>\n",
       "    <tr>\n",
       "      <th>3</th>\n",
       "      <td>1003</td>\n",
       "      <td>52</td>\n",
       "    </tr>\n",
       "    <tr>\n",
       "      <th>4</th>\n",
       "      <td>1004</td>\n",
       "      <td>460</td>\n",
       "    </tr>\n",
       "    <tr>\n",
       "      <th>...</th>\n",
       "      <td>...</td>\n",
       "      <td>...</td>\n",
       "    </tr>\n",
       "    <tr>\n",
       "      <th>484</th>\n",
       "      <td>1495</td>\n",
       "      <td>290</td>\n",
       "    </tr>\n",
       "    <tr>\n",
       "      <th>485</th>\n",
       "      <td>1496</td>\n",
       "      <td>225</td>\n",
       "    </tr>\n",
       "    <tr>\n",
       "      <th>486</th>\n",
       "      <td>1497</td>\n",
       "      <td>31</td>\n",
       "    </tr>\n",
       "    <tr>\n",
       "      <th>487</th>\n",
       "      <td>1498</td>\n",
       "      <td>657</td>\n",
       "    </tr>\n",
       "    <tr>\n",
       "      <th>488</th>\n",
       "      <td>1499</td>\n",
       "      <td>220</td>\n",
       "    </tr>\n",
       "  </tbody>\n",
       "</table>\n",
       "<p>489 rows × 2 columns</p>\n",
       "</div>"
      ],
      "text/plain": [
       "     user_id  total_sessions\n",
       "0       1000               5\n",
       "1       1001             245\n",
       "2       1002             124\n",
       "3       1003              52\n",
       "4       1004             460\n",
       "..       ...             ...\n",
       "484     1495             290\n",
       "485     1496             225\n",
       "486     1497              31\n",
       "487     1498             657\n",
       "488     1499             220\n",
       "\n",
       "[489 rows x 2 columns]"
      ]
     },
     "execution_count": 57,
     "metadata": {},
     "output_type": "execute_result"
    }
   ],
   "source": [
    "df_sessions_user_total = df_internet.groupby('user_id')['session_id'].count().reset_index()\n",
    "df_sessions_user_total = df_sessions_user_total.rename(columns={'session_id': 'total_sessions'})\n",
    "df_sessions_user_total"
   ]
  },
  {
   "cell_type": "code",
   "execution_count": 58,
   "id": "a1f09e55",
   "metadata": {},
   "outputs": [
    {
     "data": {
      "application/vnd.microsoft.datawrangler.viewer.v0+json": {
       "columns": [
        {
         "name": "index",
         "rawType": "int64",
         "type": "integer"
        },
        {
         "name": "user_id",
         "rawType": "int64",
         "type": "integer"
        },
        {
         "name": "month",
         "rawType": "int32",
         "type": "integer"
        },
        {
         "name": "total_traffic_month",
         "rawType": "float64",
         "type": "float"
        }
       ],
       "ref": "0944531b-3f85-4615-b0f6-a7d6b91bc908",
       "rows": [
        [
         "0",
         "1000",
         "12",
         "2000.0"
        ],
        [
         "1",
         "1001",
         "8",
         "7000.0"
        ],
        [
         "2",
         "1001",
         "9",
         "14000.0"
        ],
        [
         "3",
         "1001",
         "10",
         "23000.0"
        ],
        [
         "4",
         "1001",
         "11",
         "19000.0"
        ],
        [
         "5",
         "1001",
         "12",
         "20000.0"
        ],
        [
         "6",
         "1002",
         "10",
         "7000.0"
        ],
        [
         "7",
         "1002",
         "11",
         "20000.0"
        ],
        [
         "8",
         "1002",
         "12",
         "15000.0"
        ],
        [
         "9",
         "1003",
         "12",
         "28000.0"
        ],
        [
         "10",
         "1004",
         "5",
         "7000.0"
        ],
        [
         "11",
         "1004",
         "6",
         "21000.0"
        ],
        [
         "12",
         "1004",
         "7",
         "25000.0"
        ],
        [
         "13",
         "1004",
         "8",
         "28000.0"
        ],
        [
         "14",
         "1004",
         "9",
         "19000.0"
        ],
        [
         "15",
         "1004",
         "10",
         "15000.0"
        ],
        [
         "16",
         "1004",
         "11",
         "22000.0"
        ],
        [
         "17",
         "1004",
         "12",
         "22000.0"
        ],
        [
         "18",
         "1005",
         "12",
         "18000.0"
        ],
        [
         "19",
         "1006",
         "11",
         "3000.0"
        ],
        [
         "20",
         "1006",
         "12",
         "33000.0"
        ],
        [
         "21",
         "1007",
         "8",
         "25000.0"
        ],
        [
         "22",
         "1007",
         "9",
         "29000.0"
        ],
        [
         "23",
         "1007",
         "10",
         "38000.0"
        ],
        [
         "24",
         "1007",
         "11",
         "25000.0"
        ],
        [
         "25",
         "1007",
         "12",
         "30000.0"
        ],
        [
         "26",
         "1008",
         "10",
         "18000.0"
        ],
        [
         "27",
         "1008",
         "11",
         "24000.0"
        ],
        [
         "28",
         "1008",
         "12",
         "15000.0"
        ],
        [
         "29",
         "1009",
         "5",
         "21000.0"
        ],
        [
         "30",
         "1009",
         "6",
         "19000.0"
        ],
        [
         "31",
         "1009",
         "7",
         "31000.0"
        ],
        [
         "32",
         "1009",
         "8",
         "25000.0"
        ],
        [
         "33",
         "1009",
         "9",
         "21000.0"
        ],
        [
         "34",
         "1009",
         "10",
         "23000.0"
        ],
        [
         "35",
         "1009",
         "11",
         "26000.0"
        ],
        [
         "36",
         "1009",
         "12",
         "24000.0"
        ],
        [
         "37",
         "1010",
         "3",
         "11000.0"
        ],
        [
         "38",
         "1010",
         "4",
         "20000.0"
        ],
        [
         "39",
         "1010",
         "5",
         "16000.0"
        ],
        [
         "40",
         "1010",
         "6",
         "17000.0"
        ],
        [
         "41",
         "1010",
         "7",
         "13000.0"
        ],
        [
         "42",
         "1010",
         "8",
         "20000.0"
        ],
        [
         "43",
         "1010",
         "9",
         "17000.0"
        ],
        [
         "44",
         "1010",
         "10",
         "17000.0"
        ],
        [
         "45",
         "1010",
         "11",
         "8000.0"
        ],
        [
         "46",
         "1011",
         "6",
         "7000.0"
        ],
        [
         "47",
         "1011",
         "7",
         "22000.0"
        ],
        [
         "48",
         "1011",
         "8",
         "22000.0"
        ],
        [
         "49",
         "1011",
         "9",
         "17000.0"
        ]
       ],
       "shape": {
        "columns": 3,
        "rows": 2277
       }
      },
      "text/html": [
       "<div>\n",
       "<style scoped>\n",
       "    .dataframe tbody tr th:only-of-type {\n",
       "        vertical-align: middle;\n",
       "    }\n",
       "\n",
       "    .dataframe tbody tr th {\n",
       "        vertical-align: top;\n",
       "    }\n",
       "\n",
       "    .dataframe thead th {\n",
       "        text-align: right;\n",
       "    }\n",
       "</style>\n",
       "<table border=\"1\" class=\"dataframe\">\n",
       "  <thead>\n",
       "    <tr style=\"text-align: right;\">\n",
       "      <th></th>\n",
       "      <th>user_id</th>\n",
       "      <th>month</th>\n",
       "      <th>total_traffic_month</th>\n",
       "    </tr>\n",
       "  </thead>\n",
       "  <tbody>\n",
       "    <tr>\n",
       "      <th>0</th>\n",
       "      <td>1000</td>\n",
       "      <td>12</td>\n",
       "      <td>2000.0</td>\n",
       "    </tr>\n",
       "    <tr>\n",
       "      <th>1</th>\n",
       "      <td>1001</td>\n",
       "      <td>8</td>\n",
       "      <td>7000.0</td>\n",
       "    </tr>\n",
       "    <tr>\n",
       "      <th>2</th>\n",
       "      <td>1001</td>\n",
       "      <td>9</td>\n",
       "      <td>14000.0</td>\n",
       "    </tr>\n",
       "    <tr>\n",
       "      <th>3</th>\n",
       "      <td>1001</td>\n",
       "      <td>10</td>\n",
       "      <td>23000.0</td>\n",
       "    </tr>\n",
       "    <tr>\n",
       "      <th>4</th>\n",
       "      <td>1001</td>\n",
       "      <td>11</td>\n",
       "      <td>19000.0</td>\n",
       "    </tr>\n",
       "    <tr>\n",
       "      <th>...</th>\n",
       "      <td>...</td>\n",
       "      <td>...</td>\n",
       "      <td>...</td>\n",
       "    </tr>\n",
       "    <tr>\n",
       "      <th>2272</th>\n",
       "      <td>1498</td>\n",
       "      <td>12</td>\n",
       "      <td>24000.0</td>\n",
       "    </tr>\n",
       "    <tr>\n",
       "      <th>2273</th>\n",
       "      <td>1499</td>\n",
       "      <td>9</td>\n",
       "      <td>13000.0</td>\n",
       "    </tr>\n",
       "    <tr>\n",
       "      <th>2274</th>\n",
       "      <td>1499</td>\n",
       "      <td>10</td>\n",
       "      <td>20000.0</td>\n",
       "    </tr>\n",
       "    <tr>\n",
       "      <th>2275</th>\n",
       "      <td>1499</td>\n",
       "      <td>11</td>\n",
       "      <td>17000.0</td>\n",
       "    </tr>\n",
       "    <tr>\n",
       "      <th>2276</th>\n",
       "      <td>1499</td>\n",
       "      <td>12</td>\n",
       "      <td>23000.0</td>\n",
       "    </tr>\n",
       "  </tbody>\n",
       "</table>\n",
       "<p>2277 rows × 3 columns</p>\n",
       "</div>"
      ],
      "text/plain": [
       "      user_id  month  total_traffic_month\n",
       "0        1000     12               2000.0\n",
       "1        1001      8               7000.0\n",
       "2        1001      9              14000.0\n",
       "3        1001     10              23000.0\n",
       "4        1001     11              19000.0\n",
       "...       ...    ...                  ...\n",
       "2272     1498     12              24000.0\n",
       "2273     1499      9              13000.0\n",
       "2274     1499     10              20000.0\n",
       "2275     1499     11              17000.0\n",
       "2276     1499     12              23000.0\n",
       "\n",
       "[2277 rows x 3 columns]"
      ]
     },
     "execution_count": 58,
     "metadata": {},
     "output_type": "execute_result"
    }
   ],
   "source": [
    "# Individual web sessions are not rounded up. Instead, the monthly total is rounded up\n",
    "df_traffic_user_month = df_internet.groupby(['user_id', 'month'])['mb_used'].sum().reset_index()\n",
    "df_traffic_user_month = df_traffic_user_month.rename(columns={'mb_used': 'total_traffic_month'})\n",
    "df_traffic_user_month['total_traffic_month'] = np.ceil(df_traffic_user_month['total_traffic_month'] / 1000) * 1000\n",
    "df_traffic_user_month"
   ]
  },
  {
   "cell_type": "code",
   "execution_count": 59,
   "id": "15b3236d",
   "metadata": {},
   "outputs": [
    {
     "data": {
      "application/vnd.microsoft.datawrangler.viewer.v0+json": {
       "columns": [
        {
         "name": "index",
         "rawType": "int64",
         "type": "integer"
        },
        {
         "name": "user_id",
         "rawType": "int64",
         "type": "integer"
        },
        {
         "name": "month",
         "rawType": "int32",
         "type": "integer"
        },
        {
         "name": "total_traffic_month",
         "rawType": "float64",
         "type": "float"
        },
        {
         "name": "plan",
         "rawType": "category",
         "type": "unknown"
        }
       ],
       "ref": "c259e9e8-37cd-4ad1-9e74-9ec319b6294b",
       "rows": [
        [
         "0",
         "1000",
         "12",
         "2000.0",
         "ultimate"
        ],
        [
         "1",
         "1001",
         "8",
         "7000.0",
         "surf"
        ],
        [
         "2",
         "1001",
         "9",
         "14000.0",
         "surf"
        ],
        [
         "3",
         "1001",
         "10",
         "23000.0",
         "surf"
        ],
        [
         "4",
         "1001",
         "11",
         "19000.0",
         "surf"
        ],
        [
         "5",
         "1001",
         "12",
         "20000.0",
         "surf"
        ],
        [
         "6",
         "1002",
         "10",
         "7000.0",
         "surf"
        ],
        [
         "7",
         "1002",
         "11",
         "20000.0",
         "surf"
        ],
        [
         "8",
         "1002",
         "12",
         "15000.0",
         "surf"
        ],
        [
         "9",
         "1003",
         "12",
         "28000.0",
         "surf"
        ],
        [
         "10",
         "1004",
         "5",
         "7000.0",
         "surf"
        ],
        [
         "11",
         "1004",
         "6",
         "21000.0",
         "surf"
        ],
        [
         "12",
         "1004",
         "7",
         "25000.0",
         "surf"
        ],
        [
         "13",
         "1004",
         "8",
         "28000.0",
         "surf"
        ],
        [
         "14",
         "1004",
         "9",
         "19000.0",
         "surf"
        ],
        [
         "15",
         "1004",
         "10",
         "15000.0",
         "surf"
        ],
        [
         "16",
         "1004",
         "11",
         "22000.0",
         "surf"
        ],
        [
         "17",
         "1004",
         "12",
         "22000.0",
         "surf"
        ],
        [
         "18",
         "1005",
         "12",
         "18000.0",
         "surf"
        ],
        [
         "19",
         "1006",
         "11",
         "3000.0",
         "ultimate"
        ],
        [
         "20",
         "1006",
         "12",
         "33000.0",
         "ultimate"
        ],
        [
         "21",
         "1007",
         "8",
         "25000.0",
         "surf"
        ],
        [
         "22",
         "1007",
         "9",
         "29000.0",
         "surf"
        ],
        [
         "23",
         "1007",
         "10",
         "38000.0",
         "surf"
        ],
        [
         "24",
         "1007",
         "11",
         "25000.0",
         "surf"
        ],
        [
         "25",
         "1007",
         "12",
         "30000.0",
         "surf"
        ],
        [
         "26",
         "1008",
         "10",
         "18000.0",
         "ultimate"
        ],
        [
         "27",
         "1008",
         "11",
         "24000.0",
         "ultimate"
        ],
        [
         "28",
         "1008",
         "12",
         "15000.0",
         "ultimate"
        ],
        [
         "29",
         "1009",
         "5",
         "21000.0",
         "surf"
        ],
        [
         "30",
         "1009",
         "6",
         "19000.0",
         "surf"
        ],
        [
         "31",
         "1009",
         "7",
         "31000.0",
         "surf"
        ],
        [
         "32",
         "1009",
         "8",
         "25000.0",
         "surf"
        ],
        [
         "33",
         "1009",
         "9",
         "21000.0",
         "surf"
        ],
        [
         "34",
         "1009",
         "10",
         "23000.0",
         "surf"
        ],
        [
         "35",
         "1009",
         "11",
         "26000.0",
         "surf"
        ],
        [
         "36",
         "1009",
         "12",
         "24000.0",
         "surf"
        ],
        [
         "37",
         "1010",
         "3",
         "11000.0",
         "surf"
        ],
        [
         "38",
         "1010",
         "4",
         "20000.0",
         "surf"
        ],
        [
         "39",
         "1010",
         "5",
         "16000.0",
         "surf"
        ],
        [
         "40",
         "1010",
         "6",
         "17000.0",
         "surf"
        ],
        [
         "41",
         "1010",
         "7",
         "13000.0",
         "surf"
        ],
        [
         "42",
         "1010",
         "8",
         "20000.0",
         "surf"
        ],
        [
         "43",
         "1010",
         "9",
         "17000.0",
         "surf"
        ],
        [
         "44",
         "1010",
         "10",
         "17000.0",
         "surf"
        ],
        [
         "45",
         "1010",
         "11",
         "8000.0",
         "surf"
        ],
        [
         "46",
         "1011",
         "6",
         "7000.0",
         "ultimate"
        ],
        [
         "47",
         "1011",
         "7",
         "22000.0",
         "ultimate"
        ],
        [
         "48",
         "1011",
         "8",
         "22000.0",
         "ultimate"
        ],
        [
         "49",
         "1011",
         "9",
         "17000.0",
         "ultimate"
        ]
       ],
       "shape": {
        "columns": 4,
        "rows": 2277
       }
      },
      "text/html": [
       "<div>\n",
       "<style scoped>\n",
       "    .dataframe tbody tr th:only-of-type {\n",
       "        vertical-align: middle;\n",
       "    }\n",
       "\n",
       "    .dataframe tbody tr th {\n",
       "        vertical-align: top;\n",
       "    }\n",
       "\n",
       "    .dataframe thead th {\n",
       "        text-align: right;\n",
       "    }\n",
       "</style>\n",
       "<table border=\"1\" class=\"dataframe\">\n",
       "  <thead>\n",
       "    <tr style=\"text-align: right;\">\n",
       "      <th></th>\n",
       "      <th>user_id</th>\n",
       "      <th>month</th>\n",
       "      <th>total_traffic_month</th>\n",
       "      <th>plan</th>\n",
       "    </tr>\n",
       "  </thead>\n",
       "  <tbody>\n",
       "    <tr>\n",
       "      <th>0</th>\n",
       "      <td>1000</td>\n",
       "      <td>12</td>\n",
       "      <td>2000.0</td>\n",
       "      <td>ultimate</td>\n",
       "    </tr>\n",
       "    <tr>\n",
       "      <th>1</th>\n",
       "      <td>1001</td>\n",
       "      <td>8</td>\n",
       "      <td>7000.0</td>\n",
       "      <td>surf</td>\n",
       "    </tr>\n",
       "    <tr>\n",
       "      <th>2</th>\n",
       "      <td>1001</td>\n",
       "      <td>9</td>\n",
       "      <td>14000.0</td>\n",
       "      <td>surf</td>\n",
       "    </tr>\n",
       "    <tr>\n",
       "      <th>3</th>\n",
       "      <td>1001</td>\n",
       "      <td>10</td>\n",
       "      <td>23000.0</td>\n",
       "      <td>surf</td>\n",
       "    </tr>\n",
       "    <tr>\n",
       "      <th>4</th>\n",
       "      <td>1001</td>\n",
       "      <td>11</td>\n",
       "      <td>19000.0</td>\n",
       "      <td>surf</td>\n",
       "    </tr>\n",
       "    <tr>\n",
       "      <th>...</th>\n",
       "      <td>...</td>\n",
       "      <td>...</td>\n",
       "      <td>...</td>\n",
       "      <td>...</td>\n",
       "    </tr>\n",
       "    <tr>\n",
       "      <th>2272</th>\n",
       "      <td>1498</td>\n",
       "      <td>12</td>\n",
       "      <td>24000.0</td>\n",
       "      <td>surf</td>\n",
       "    </tr>\n",
       "    <tr>\n",
       "      <th>2273</th>\n",
       "      <td>1499</td>\n",
       "      <td>9</td>\n",
       "      <td>13000.0</td>\n",
       "      <td>surf</td>\n",
       "    </tr>\n",
       "    <tr>\n",
       "      <th>2274</th>\n",
       "      <td>1499</td>\n",
       "      <td>10</td>\n",
       "      <td>20000.0</td>\n",
       "      <td>surf</td>\n",
       "    </tr>\n",
       "    <tr>\n",
       "      <th>2275</th>\n",
       "      <td>1499</td>\n",
       "      <td>11</td>\n",
       "      <td>17000.0</td>\n",
       "      <td>surf</td>\n",
       "    </tr>\n",
       "    <tr>\n",
       "      <th>2276</th>\n",
       "      <td>1499</td>\n",
       "      <td>12</td>\n",
       "      <td>23000.0</td>\n",
       "      <td>surf</td>\n",
       "    </tr>\n",
       "  </tbody>\n",
       "</table>\n",
       "<p>2277 rows × 4 columns</p>\n",
       "</div>"
      ],
      "text/plain": [
       "      user_id  month  total_traffic_month      plan\n",
       "0        1000     12               2000.0  ultimate\n",
       "1        1001      8               7000.0      surf\n",
       "2        1001      9              14000.0      surf\n",
       "3        1001     10              23000.0      surf\n",
       "4        1001     11              19000.0      surf\n",
       "...       ...    ...                  ...       ...\n",
       "2272     1498     12              24000.0      surf\n",
       "2273     1499      9              13000.0      surf\n",
       "2274     1499     10              20000.0      surf\n",
       "2275     1499     11              17000.0      surf\n",
       "2276     1499     12              23000.0      surf\n",
       "\n",
       "[2277 rows x 4 columns]"
      ]
     },
     "execution_count": 59,
     "metadata": {},
     "output_type": "execute_result"
    }
   ],
   "source": [
    "df_traffic_user_month = df_traffic_user_month.merge(df_users[['user_id', 'plan']], on='user_id', how='left')\n",
    "df_traffic_user_month"
   ]
  },
  {
   "cell_type": "code",
   "execution_count": 60,
   "id": "3615ae3b",
   "metadata": {},
   "outputs": [
    {
     "data": {
      "application/vnd.microsoft.datawrangler.viewer.v0+json": {
       "columns": [
        {
         "name": "index",
         "rawType": "int64",
         "type": "integer"
        },
        {
         "name": "user_id",
         "rawType": "int64",
         "type": "integer"
        },
        {
         "name": "month",
         "rawType": "int32",
         "type": "integer"
        },
        {
         "name": "total_traffic_month",
         "rawType": "float64",
         "type": "float"
        },
        {
         "name": "plan",
         "rawType": "category",
         "type": "unknown"
        },
        {
         "name": "total_traffic_revenue_month",
         "rawType": "float64",
         "type": "float"
        }
       ],
       "ref": "daadc4c9-26d0-43b7-911d-6cd63e330598",
       "rows": [
        [
         "0",
         "1000",
         "12",
         "2000.0",
         "ultimate",
         "70.0"
        ],
        [
         "1",
         "1001",
         "8",
         "7000.0",
         "surf",
         "20.0"
        ],
        [
         "2",
         "1001",
         "9",
         "14000.0",
         "surf",
         "20.0"
        ],
        [
         "3",
         "1001",
         "10",
         "23000.0",
         "surf",
         "96.4"
        ],
        [
         "4",
         "1001",
         "11",
         "19000.0",
         "surf",
         "56.4"
        ],
        [
         "5",
         "1001",
         "12",
         "20000.0",
         "surf",
         "66.4"
        ],
        [
         "6",
         "1002",
         "10",
         "7000.0",
         "surf",
         "20.0"
        ],
        [
         "7",
         "1002",
         "11",
         "20000.0",
         "surf",
         "66.4"
        ],
        [
         "8",
         "1002",
         "12",
         "15000.0",
         "surf",
         "20.0"
        ],
        [
         "9",
         "1003",
         "12",
         "28000.0",
         "surf",
         "146.4"
        ],
        [
         "10",
         "1004",
         "5",
         "7000.0",
         "surf",
         "20.0"
        ],
        [
         "11",
         "1004",
         "6",
         "21000.0",
         "surf",
         "76.4"
        ],
        [
         "12",
         "1004",
         "7",
         "25000.0",
         "surf",
         "116.4"
        ],
        [
         "13",
         "1004",
         "8",
         "28000.0",
         "surf",
         "146.4"
        ],
        [
         "14",
         "1004",
         "9",
         "19000.0",
         "surf",
         "56.4"
        ],
        [
         "15",
         "1004",
         "10",
         "15000.0",
         "surf",
         "20.0"
        ],
        [
         "16",
         "1004",
         "11",
         "22000.0",
         "surf",
         "86.4"
        ],
        [
         "17",
         "1004",
         "12",
         "22000.0",
         "surf",
         "86.4"
        ],
        [
         "18",
         "1005",
         "12",
         "18000.0",
         "surf",
         "46.4"
        ],
        [
         "19",
         "1006",
         "11",
         "3000.0",
         "ultimate",
         "70.0"
        ],
        [
         "20",
         "1006",
         "12",
         "33000.0",
         "ultimate",
         "85.96"
        ],
        [
         "21",
         "1007",
         "8",
         "25000.0",
         "surf",
         "116.4"
        ],
        [
         "22",
         "1007",
         "9",
         "29000.0",
         "surf",
         "156.4"
        ],
        [
         "23",
         "1007",
         "10",
         "38000.0",
         "surf",
         "246.4"
        ],
        [
         "24",
         "1007",
         "11",
         "25000.0",
         "surf",
         "116.4"
        ],
        [
         "25",
         "1007",
         "12",
         "30000.0",
         "surf",
         "166.4"
        ],
        [
         "26",
         "1008",
         "10",
         "18000.0",
         "ultimate",
         "70.0"
        ],
        [
         "27",
         "1008",
         "11",
         "24000.0",
         "ultimate",
         "70.0"
        ],
        [
         "28",
         "1008",
         "12",
         "15000.0",
         "ultimate",
         "70.0"
        ],
        [
         "29",
         "1009",
         "5",
         "21000.0",
         "surf",
         "76.4"
        ],
        [
         "30",
         "1009",
         "6",
         "19000.0",
         "surf",
         "56.4"
        ],
        [
         "31",
         "1009",
         "7",
         "31000.0",
         "surf",
         "176.4"
        ],
        [
         "32",
         "1009",
         "8",
         "25000.0",
         "surf",
         "116.4"
        ],
        [
         "33",
         "1009",
         "9",
         "21000.0",
         "surf",
         "76.4"
        ],
        [
         "34",
         "1009",
         "10",
         "23000.0",
         "surf",
         "96.4"
        ],
        [
         "35",
         "1009",
         "11",
         "26000.0",
         "surf",
         "126.4"
        ],
        [
         "36",
         "1009",
         "12",
         "24000.0",
         "surf",
         "106.4"
        ],
        [
         "37",
         "1010",
         "3",
         "11000.0",
         "surf",
         "20.0"
        ],
        [
         "38",
         "1010",
         "4",
         "20000.0",
         "surf",
         "66.4"
        ],
        [
         "39",
         "1010",
         "5",
         "16000.0",
         "surf",
         "26.4"
        ],
        [
         "40",
         "1010",
         "6",
         "17000.0",
         "surf",
         "36.4"
        ],
        [
         "41",
         "1010",
         "7",
         "13000.0",
         "surf",
         "20.0"
        ],
        [
         "42",
         "1010",
         "8",
         "20000.0",
         "surf",
         "66.4"
        ],
        [
         "43",
         "1010",
         "9",
         "17000.0",
         "surf",
         "36.4"
        ],
        [
         "44",
         "1010",
         "10",
         "17000.0",
         "surf",
         "36.4"
        ],
        [
         "45",
         "1010",
         "11",
         "8000.0",
         "surf",
         "20.0"
        ],
        [
         "46",
         "1011",
         "6",
         "7000.0",
         "ultimate",
         "70.0"
        ],
        [
         "47",
         "1011",
         "7",
         "22000.0",
         "ultimate",
         "70.0"
        ],
        [
         "48",
         "1011",
         "8",
         "22000.0",
         "ultimate",
         "70.0"
        ],
        [
         "49",
         "1011",
         "9",
         "17000.0",
         "ultimate",
         "70.0"
        ]
       ],
       "shape": {
        "columns": 5,
        "rows": 2277
       }
      },
      "text/html": [
       "<div>\n",
       "<style scoped>\n",
       "    .dataframe tbody tr th:only-of-type {\n",
       "        vertical-align: middle;\n",
       "    }\n",
       "\n",
       "    .dataframe tbody tr th {\n",
       "        vertical-align: top;\n",
       "    }\n",
       "\n",
       "    .dataframe thead th {\n",
       "        text-align: right;\n",
       "    }\n",
       "</style>\n",
       "<table border=\"1\" class=\"dataframe\">\n",
       "  <thead>\n",
       "    <tr style=\"text-align: right;\">\n",
       "      <th></th>\n",
       "      <th>user_id</th>\n",
       "      <th>month</th>\n",
       "      <th>total_traffic_month</th>\n",
       "      <th>plan</th>\n",
       "      <th>total_traffic_revenue_month</th>\n",
       "    </tr>\n",
       "  </thead>\n",
       "  <tbody>\n",
       "    <tr>\n",
       "      <th>0</th>\n",
       "      <td>1000</td>\n",
       "      <td>12</td>\n",
       "      <td>2000.0</td>\n",
       "      <td>ultimate</td>\n",
       "      <td>70.0</td>\n",
       "    </tr>\n",
       "    <tr>\n",
       "      <th>1</th>\n",
       "      <td>1001</td>\n",
       "      <td>8</td>\n",
       "      <td>7000.0</td>\n",
       "      <td>surf</td>\n",
       "      <td>20.0</td>\n",
       "    </tr>\n",
       "    <tr>\n",
       "      <th>2</th>\n",
       "      <td>1001</td>\n",
       "      <td>9</td>\n",
       "      <td>14000.0</td>\n",
       "      <td>surf</td>\n",
       "      <td>20.0</td>\n",
       "    </tr>\n",
       "    <tr>\n",
       "      <th>3</th>\n",
       "      <td>1001</td>\n",
       "      <td>10</td>\n",
       "      <td>23000.0</td>\n",
       "      <td>surf</td>\n",
       "      <td>96.4</td>\n",
       "    </tr>\n",
       "    <tr>\n",
       "      <th>4</th>\n",
       "      <td>1001</td>\n",
       "      <td>11</td>\n",
       "      <td>19000.0</td>\n",
       "      <td>surf</td>\n",
       "      <td>56.4</td>\n",
       "    </tr>\n",
       "    <tr>\n",
       "      <th>...</th>\n",
       "      <td>...</td>\n",
       "      <td>...</td>\n",
       "      <td>...</td>\n",
       "      <td>...</td>\n",
       "      <td>...</td>\n",
       "    </tr>\n",
       "    <tr>\n",
       "      <th>2272</th>\n",
       "      <td>1498</td>\n",
       "      <td>12</td>\n",
       "      <td>24000.0</td>\n",
       "      <td>surf</td>\n",
       "      <td>106.4</td>\n",
       "    </tr>\n",
       "    <tr>\n",
       "      <th>2273</th>\n",
       "      <td>1499</td>\n",
       "      <td>9</td>\n",
       "      <td>13000.0</td>\n",
       "      <td>surf</td>\n",
       "      <td>20.0</td>\n",
       "    </tr>\n",
       "    <tr>\n",
       "      <th>2274</th>\n",
       "      <td>1499</td>\n",
       "      <td>10</td>\n",
       "      <td>20000.0</td>\n",
       "      <td>surf</td>\n",
       "      <td>66.4</td>\n",
       "    </tr>\n",
       "    <tr>\n",
       "      <th>2275</th>\n",
       "      <td>1499</td>\n",
       "      <td>11</td>\n",
       "      <td>17000.0</td>\n",
       "      <td>surf</td>\n",
       "      <td>36.4</td>\n",
       "    </tr>\n",
       "    <tr>\n",
       "      <th>2276</th>\n",
       "      <td>1499</td>\n",
       "      <td>12</td>\n",
       "      <td>23000.0</td>\n",
       "      <td>surf</td>\n",
       "      <td>96.4</td>\n",
       "    </tr>\n",
       "  </tbody>\n",
       "</table>\n",
       "<p>2277 rows × 5 columns</p>\n",
       "</div>"
      ],
      "text/plain": [
       "      user_id  month  total_traffic_month      plan  total_traffic_revenue_month\n",
       "0        1000     12               2000.0  ultimate                         70.0\n",
       "1        1001      8               7000.0      surf                         20.0\n",
       "2        1001      9              14000.0      surf                         20.0\n",
       "3        1001     10              23000.0      surf                         96.4\n",
       "4        1001     11              19000.0      surf                         56.4\n",
       "...       ...    ...                  ...       ...                          ...\n",
       "2272     1498     12              24000.0      surf                        106.4\n",
       "2273     1499      9              13000.0      surf                         20.0\n",
       "2274     1499     10              20000.0      surf                         66.4\n",
       "2275     1499     11              17000.0      surf                         36.4\n",
       "2276     1499     12              23000.0      surf                         96.4\n",
       "\n",
       "[2277 rows x 5 columns]"
      ]
     },
     "execution_count": 60,
     "metadata": {},
     "output_type": "execute_result"
    }
   ],
   "source": [
    "df_traffic_user_month['total_traffic_revenue_month'] = np.round(df_traffic_user_month.apply(lambda row: revenue(row, 'traffic', 'total_traffic_month'), axis=1), 3)\n",
    "df_traffic_user_month"
   ]
  },
  {
   "cell_type": "code",
   "execution_count": 61,
   "id": "6b475ca9",
   "metadata": {},
   "outputs": [
    {
     "data": {
      "application/vnd.microsoft.datawrangler.viewer.v0+json": {
       "columns": [
        {
         "name": "index",
         "rawType": "int64",
         "type": "integer"
        },
        {
         "name": "user_id",
         "rawType": "int64",
         "type": "integer"
        },
        {
         "name": "total_traffic",
         "rawType": "float64",
         "type": "float"
        },
        {
         "name": "total_traffic_revenue",
         "rawType": "float64",
         "type": "float"
        }
       ],
       "ref": "11a0ecd3-5060-4cb8-8ee3-b64cf67191e8",
       "rows": [
        [
         "0",
         "1000",
         "2000.0",
         "70.0"
        ],
        [
         "1",
         "1001",
         "83000.0",
         "259.2"
        ],
        [
         "2",
         "1002",
         "42000.0",
         "106.4"
        ],
        [
         "3",
         "1003",
         "28000.0",
         "146.4"
        ],
        [
         "4",
         "1004",
         "159000.0",
         "608.4"
        ],
        [
         "5",
         "1005",
         "18000.0",
         "46.4"
        ],
        [
         "6",
         "1006",
         "36000.0",
         "155.96"
        ],
        [
         "7",
         "1007",
         "147000.0",
         "802.0"
        ],
        [
         "8",
         "1008",
         "57000.0",
         "210.0"
        ],
        [
         "9",
         "1009",
         "190000.0",
         "831.2"
        ],
        [
         "10",
         "1010",
         "139000.0",
         "328.4"
        ],
        [
         "11",
         "1011",
         "136000.0",
         "490.0"
        ],
        [
         "12",
         "1012",
         "26000.0",
         "40.0"
        ],
        [
         "13",
         "1013",
         "21000.0",
         "70.0"
        ],
        [
         "14",
         "1014",
         "10000.0",
         "40.0"
        ],
        [
         "15",
         "1015",
         "18000.0",
         "46.4"
        ],
        [
         "16",
         "1016",
         "61000.0",
         "322.8"
        ],
        [
         "17",
         "1017",
         "99000.0",
         "445.6"
        ],
        [
         "18",
         "1018",
         "43000.0",
         "92.8"
        ],
        [
         "19",
         "1019",
         "33000.0",
         "176.4"
        ],
        [
         "20",
         "1020",
         "33000.0",
         "86.4"
        ],
        [
         "21",
         "1021",
         "7000.0",
         "20.0"
        ],
        [
         "22",
         "1022",
         "137000.0",
         "462.0"
        ],
        [
         "23",
         "1023",
         "20000.0",
         "40.0"
        ],
        [
         "24",
         "1024",
         "11000.0",
         "20.0"
        ],
        [
         "25",
         "1026",
         "14000.0",
         "140.0"
        ],
        [
         "26",
         "1027",
         "95000.0",
         "209.2"
        ],
        [
         "27",
         "1028",
         "394000.0",
         "1312.64"
        ],
        [
         "28",
         "1029",
         "70000.0",
         "192.8"
        ],
        [
         "29",
         "1030",
         "45000.0",
         "210.0"
        ],
        [
         "30",
         "1031",
         "96000.0",
         "420.0"
        ],
        [
         "31",
         "1032",
         "30000.0",
         "140.0"
        ],
        [
         "32",
         "1033",
         "85000.0",
         "280.0"
        ],
        [
         "33",
         "1034",
         "1000.0",
         "20.0"
        ],
        [
         "34",
         "1035",
         "16000.0",
         "26.4"
        ],
        [
         "35",
         "1036",
         "82000.0",
         "490.0"
        ],
        [
         "36",
         "1037",
         "15000.0",
         "70.0"
        ],
        [
         "37",
         "1038",
         "107000.0",
         "367.92"
        ],
        [
         "38",
         "1039",
         "132000.0",
         "490.0"
        ],
        [
         "39",
         "1040",
         "17000.0",
         "36.4"
        ],
        [
         "40",
         "1041",
         "197000.0",
         "700.0"
        ],
        [
         "41",
         "1042",
         "97000.0",
         "240.0"
        ],
        [
         "42",
         "1043",
         "207000.0",
         "597.8"
        ],
        [
         "43",
         "1044",
         "85000.0",
         "315.6"
        ],
        [
         "44",
         "1045",
         "53000.0",
         "182.8"
        ],
        [
         "45",
         "1046",
         "151000.0",
         "632.0"
        ],
        [
         "46",
         "1047",
         "18000.0",
         "70.0"
        ],
        [
         "47",
         "1048",
         "46000.0",
         "100.0"
        ],
        [
         "48",
         "1049",
         "79000.0",
         "180.0"
        ],
        [
         "49",
         "1050",
         "161000.0",
         "700.0"
        ]
       ],
       "shape": {
        "columns": 3,
        "rows": 489
       }
      },
      "text/html": [
       "<div>\n",
       "<style scoped>\n",
       "    .dataframe tbody tr th:only-of-type {\n",
       "        vertical-align: middle;\n",
       "    }\n",
       "\n",
       "    .dataframe tbody tr th {\n",
       "        vertical-align: top;\n",
       "    }\n",
       "\n",
       "    .dataframe thead th {\n",
       "        text-align: right;\n",
       "    }\n",
       "</style>\n",
       "<table border=\"1\" class=\"dataframe\">\n",
       "  <thead>\n",
       "    <tr style=\"text-align: right;\">\n",
       "      <th></th>\n",
       "      <th>user_id</th>\n",
       "      <th>total_traffic</th>\n",
       "      <th>total_traffic_revenue</th>\n",
       "    </tr>\n",
       "  </thead>\n",
       "  <tbody>\n",
       "    <tr>\n",
       "      <th>0</th>\n",
       "      <td>1000</td>\n",
       "      <td>2000.0</td>\n",
       "      <td>70.0</td>\n",
       "    </tr>\n",
       "    <tr>\n",
       "      <th>1</th>\n",
       "      <td>1001</td>\n",
       "      <td>83000.0</td>\n",
       "      <td>259.2</td>\n",
       "    </tr>\n",
       "    <tr>\n",
       "      <th>2</th>\n",
       "      <td>1002</td>\n",
       "      <td>42000.0</td>\n",
       "      <td>106.4</td>\n",
       "    </tr>\n",
       "    <tr>\n",
       "      <th>3</th>\n",
       "      <td>1003</td>\n",
       "      <td>28000.0</td>\n",
       "      <td>146.4</td>\n",
       "    </tr>\n",
       "    <tr>\n",
       "      <th>4</th>\n",
       "      <td>1004</td>\n",
       "      <td>159000.0</td>\n",
       "      <td>608.4</td>\n",
       "    </tr>\n",
       "    <tr>\n",
       "      <th>...</th>\n",
       "      <td>...</td>\n",
       "      <td>...</td>\n",
       "      <td>...</td>\n",
       "    </tr>\n",
       "    <tr>\n",
       "      <th>484</th>\n",
       "      <td>1495</td>\n",
       "      <td>100000.0</td>\n",
       "      <td>465.6</td>\n",
       "    </tr>\n",
       "    <tr>\n",
       "      <th>485</th>\n",
       "      <td>1496</td>\n",
       "      <td>67000.0</td>\n",
       "      <td>132.8</td>\n",
       "    </tr>\n",
       "    <tr>\n",
       "      <th>486</th>\n",
       "      <td>1497</td>\n",
       "      <td>12000.0</td>\n",
       "      <td>70.0</td>\n",
       "    </tr>\n",
       "    <tr>\n",
       "      <th>487</th>\n",
       "      <td>1498</td>\n",
       "      <td>232000.0</td>\n",
       "      <td>854.0</td>\n",
       "    </tr>\n",
       "    <tr>\n",
       "      <th>488</th>\n",
       "      <td>1499</td>\n",
       "      <td>73000.0</td>\n",
       "      <td>219.2</td>\n",
       "    </tr>\n",
       "  </tbody>\n",
       "</table>\n",
       "<p>489 rows × 3 columns</p>\n",
       "</div>"
      ],
      "text/plain": [
       "     user_id  total_traffic  total_traffic_revenue\n",
       "0       1000         2000.0                   70.0\n",
       "1       1001        83000.0                  259.2\n",
       "2       1002        42000.0                  106.4\n",
       "3       1003        28000.0                  146.4\n",
       "4       1004       159000.0                  608.4\n",
       "..       ...            ...                    ...\n",
       "484     1495       100000.0                  465.6\n",
       "485     1496        67000.0                  132.8\n",
       "486     1497        12000.0                   70.0\n",
       "487     1498       232000.0                  854.0\n",
       "488     1499        73000.0                  219.2\n",
       "\n",
       "[489 rows x 3 columns]"
      ]
     },
     "execution_count": 61,
     "metadata": {},
     "output_type": "execute_result"
    }
   ],
   "source": [
    "df_traffic_user_total = np.round(df_traffic_user_month.groupby('user_id').agg({'total_traffic_month': 'sum', 'total_traffic_revenue_month': 'sum'}).reset_index(), 3)\n",
    "df_traffic_user_total = df_traffic_user_total.rename(columns={'total_traffic_month': 'total_traffic', 'total_traffic_revenue_month': 'total_traffic_revenue'})\n",
    "df_traffic_user_total"
   ]
  },
  {
   "cell_type": "code",
   "execution_count": 62,
   "id": "866f9bed",
   "metadata": {},
   "outputs": [
    {
     "data": {
      "application/vnd.microsoft.datawrangler.viewer.v0+json": {
       "columns": [
        {
         "name": "index",
         "rawType": "int64",
         "type": "integer"
        },
        {
         "name": "user_id",
         "rawType": "int64",
         "type": "integer"
        },
        {
         "name": "total_sessions",
         "rawType": "int64",
         "type": "integer"
        },
        {
         "name": "total_traffic",
         "rawType": "float64",
         "type": "float"
        },
        {
         "name": "total_traffic_revenue",
         "rawType": "float64",
         "type": "float"
        }
       ],
       "ref": "23100b6d-90f6-4533-8401-2d8919b3cb1c",
       "rows": [
        [
         "0",
         "1000",
         "5",
         "2000.0",
         "70.0"
        ],
        [
         "1",
         "1001",
         "245",
         "83000.0",
         "259.2"
        ],
        [
         "2",
         "1002",
         "124",
         "42000.0",
         "106.4"
        ],
        [
         "3",
         "1003",
         "52",
         "28000.0",
         "146.4"
        ],
        [
         "4",
         "1004",
         "460",
         "159000.0",
         "608.4"
        ],
        [
         "5",
         "1005",
         "60",
         "18000.0",
         "46.4"
        ],
        [
         "6",
         "1006",
         "70",
         "36000.0",
         "155.96"
        ],
        [
         "7",
         "1007",
         "273",
         "147000.0",
         "802.0"
        ],
        [
         "8",
         "1008",
         "176",
         "57000.0",
         "210.0"
        ],
        [
         "9",
         "1009",
         "386",
         "190000.0",
         "831.2"
        ],
        [
         "10",
         "1010",
         "409",
         "139000.0",
         "328.4"
        ],
        [
         "11",
         "1011",
         "410",
         "136000.0",
         "490.0"
        ],
        [
         "12",
         "1012",
         "58",
         "26000.0",
         "40.0"
        ],
        [
         "13",
         "1013",
         "67",
         "21000.0",
         "70.0"
        ],
        [
         "14",
         "1014",
         "20",
         "10000.0",
         "40.0"
        ],
        [
         "15",
         "1015",
         "39",
         "18000.0",
         "46.4"
        ],
        [
         "16",
         "1016",
         "114",
         "61000.0",
         "322.8"
        ],
        [
         "17",
         "1017",
         "281",
         "99000.0",
         "445.6"
        ],
        [
         "18",
         "1018",
         "126",
         "43000.0",
         "92.8"
        ],
        [
         "19",
         "1019",
         "96",
         "33000.0",
         "176.4"
        ],
        [
         "20",
         "1020",
         "102",
         "33000.0",
         "86.4"
        ],
        [
         "21",
         "1021",
         "16",
         "7000.0",
         "20.0"
        ],
        [
         "22",
         "1022",
         "463",
         "137000.0",
         "462.0"
        ],
        [
         "23",
         "1023",
         "47",
         "20000.0",
         "40.0"
        ],
        [
         "24",
         "1024",
         "33",
         "11000.0",
         "20.0"
        ],
        [
         "25",
         "1026",
         "40",
         "14000.0",
         "140.0"
        ],
        [
         "26",
         "1027",
         "280",
         "95000.0",
         "209.2"
        ],
        [
         "27",
         "1028",
         "752",
         "394000.0",
         "1312.64"
        ],
        [
         "28",
         "1029",
         "197",
         "70000.0",
         "192.8"
        ],
        [
         "29",
         "1030",
         "144",
         "45000.0",
         "210.0"
        ],
        [
         "30",
         "1031",
         "294",
         "96000.0",
         "420.0"
        ],
        [
         "31",
         "1032",
         "100",
         "30000.0",
         "140.0"
        ],
        [
         "32",
         "1033",
         "240",
         "85000.0",
         "280.0"
        ],
        [
         "33",
         "1034",
         "2",
         "1000.0",
         "20.0"
        ],
        [
         "34",
         "1035",
         "46",
         "16000.0",
         "26.4"
        ],
        [
         "35",
         "1036",
         "241",
         "82000.0",
         "490.0"
        ],
        [
         "36",
         "1037",
         "44",
         "15000.0",
         "70.0"
        ],
        [
         "37",
         "1038",
         "213",
         "107000.0",
         "367.92"
        ],
        [
         "38",
         "1039",
         "397",
         "132000.0",
         "490.0"
        ],
        [
         "39",
         "1040",
         "38",
         "17000.0",
         "36.4"
        ],
        [
         "40",
         "1041",
         "632",
         "197000.0",
         "700.0"
        ],
        [
         "41",
         "1042",
         "191",
         "97000.0",
         "240.0"
        ],
        [
         "42",
         "1043",
         "397",
         "207000.0",
         "597.8"
        ],
        [
         "43",
         "1044",
         "161",
         "85000.0",
         "315.6"
        ],
        [
         "44",
         "1045",
         "174",
         "53000.0",
         "182.8"
        ],
        [
         "45",
         "1046",
         "447",
         "151000.0",
         "632.0"
        ],
        [
         "46",
         "1047",
         "52",
         "18000.0",
         "70.0"
        ],
        [
         "47",
         "1048",
         "136",
         "46000.0",
         "100.0"
        ],
        [
         "48",
         "1049",
         "233",
         "79000.0",
         "180.0"
        ],
        [
         "49",
         "1050",
         "490",
         "161000.0",
         "700.0"
        ]
       ],
       "shape": {
        "columns": 4,
        "rows": 489
       }
      },
      "text/html": [
       "<div>\n",
       "<style scoped>\n",
       "    .dataframe tbody tr th:only-of-type {\n",
       "        vertical-align: middle;\n",
       "    }\n",
       "\n",
       "    .dataframe tbody tr th {\n",
       "        vertical-align: top;\n",
       "    }\n",
       "\n",
       "    .dataframe thead th {\n",
       "        text-align: right;\n",
       "    }\n",
       "</style>\n",
       "<table border=\"1\" class=\"dataframe\">\n",
       "  <thead>\n",
       "    <tr style=\"text-align: right;\">\n",
       "      <th></th>\n",
       "      <th>user_id</th>\n",
       "      <th>total_sessions</th>\n",
       "      <th>total_traffic</th>\n",
       "      <th>total_traffic_revenue</th>\n",
       "    </tr>\n",
       "  </thead>\n",
       "  <tbody>\n",
       "    <tr>\n",
       "      <th>0</th>\n",
       "      <td>1000</td>\n",
       "      <td>5</td>\n",
       "      <td>2000.0</td>\n",
       "      <td>70.0</td>\n",
       "    </tr>\n",
       "    <tr>\n",
       "      <th>1</th>\n",
       "      <td>1001</td>\n",
       "      <td>245</td>\n",
       "      <td>83000.0</td>\n",
       "      <td>259.2</td>\n",
       "    </tr>\n",
       "    <tr>\n",
       "      <th>2</th>\n",
       "      <td>1002</td>\n",
       "      <td>124</td>\n",
       "      <td>42000.0</td>\n",
       "      <td>106.4</td>\n",
       "    </tr>\n",
       "    <tr>\n",
       "      <th>3</th>\n",
       "      <td>1003</td>\n",
       "      <td>52</td>\n",
       "      <td>28000.0</td>\n",
       "      <td>146.4</td>\n",
       "    </tr>\n",
       "    <tr>\n",
       "      <th>4</th>\n",
       "      <td>1004</td>\n",
       "      <td>460</td>\n",
       "      <td>159000.0</td>\n",
       "      <td>608.4</td>\n",
       "    </tr>\n",
       "    <tr>\n",
       "      <th>...</th>\n",
       "      <td>...</td>\n",
       "      <td>...</td>\n",
       "      <td>...</td>\n",
       "      <td>...</td>\n",
       "    </tr>\n",
       "    <tr>\n",
       "      <th>484</th>\n",
       "      <td>1495</td>\n",
       "      <td>290</td>\n",
       "      <td>100000.0</td>\n",
       "      <td>465.6</td>\n",
       "    </tr>\n",
       "    <tr>\n",
       "      <th>485</th>\n",
       "      <td>1496</td>\n",
       "      <td>225</td>\n",
       "      <td>67000.0</td>\n",
       "      <td>132.8</td>\n",
       "    </tr>\n",
       "    <tr>\n",
       "      <th>486</th>\n",
       "      <td>1497</td>\n",
       "      <td>31</td>\n",
       "      <td>12000.0</td>\n",
       "      <td>70.0</td>\n",
       "    </tr>\n",
       "    <tr>\n",
       "      <th>487</th>\n",
       "      <td>1498</td>\n",
       "      <td>657</td>\n",
       "      <td>232000.0</td>\n",
       "      <td>854.0</td>\n",
       "    </tr>\n",
       "    <tr>\n",
       "      <th>488</th>\n",
       "      <td>1499</td>\n",
       "      <td>220</td>\n",
       "      <td>73000.0</td>\n",
       "      <td>219.2</td>\n",
       "    </tr>\n",
       "  </tbody>\n",
       "</table>\n",
       "<p>489 rows × 4 columns</p>\n",
       "</div>"
      ],
      "text/plain": [
       "     user_id  total_sessions  total_traffic  total_traffic_revenue\n",
       "0       1000               5         2000.0                   70.0\n",
       "1       1001             245        83000.0                  259.2\n",
       "2       1002             124        42000.0                  106.4\n",
       "3       1003              52        28000.0                  146.4\n",
       "4       1004             460       159000.0                  608.4\n",
       "..       ...             ...            ...                    ...\n",
       "484     1495             290       100000.0                  465.6\n",
       "485     1496             225        67000.0                  132.8\n",
       "486     1497              31        12000.0                   70.0\n",
       "487     1498             657       232000.0                  854.0\n",
       "488     1499             220        73000.0                  219.2\n",
       "\n",
       "[489 rows x 4 columns]"
      ]
     },
     "execution_count": 62,
     "metadata": {},
     "output_type": "execute_result"
    }
   ],
   "source": [
    "df_sessions_traffic_total = pd.merge(df_sessions_user_total, df_traffic_user_total, how='outer', on='user_id')\n",
    "df_sessions_traffic_total"
   ]
  },
  {
   "cell_type": "code",
   "execution_count": 63,
   "id": "381672b9",
   "metadata": {},
   "outputs": [
    {
     "data": {
      "application/vnd.microsoft.datawrangler.viewer.v0+json": {
       "columns": [
        {
         "name": "index",
         "rawType": "int64",
         "type": "integer"
        },
        {
         "name": "user_id",
         "rawType": "int64",
         "type": "integer"
        },
        {
         "name": "total_sessions",
         "rawType": "int64",
         "type": "integer"
        },
        {
         "name": "total_traffic",
         "rawType": "float64",
         "type": "float"
        },
        {
         "name": "total_traffic_revenue",
         "rawType": "float64",
         "type": "float"
        },
        {
         "name": "plan",
         "rawType": "category",
         "type": "unknown"
        }
       ],
       "ref": "04c318fd-f98f-499c-b35a-2c28d6556cd7",
       "rows": [
        [
         "0",
         "1000",
         "5",
         "2000.0",
         "70.0",
         "ultimate"
        ],
        [
         "1",
         "1001",
         "245",
         "83000.0",
         "259.2",
         "surf"
        ],
        [
         "2",
         "1002",
         "124",
         "42000.0",
         "106.4",
         "surf"
        ],
        [
         "3",
         "1003",
         "52",
         "28000.0",
         "146.4",
         "surf"
        ],
        [
         "4",
         "1004",
         "460",
         "159000.0",
         "608.4",
         "surf"
        ],
        [
         "5",
         "1005",
         "60",
         "18000.0",
         "46.4",
         "surf"
        ],
        [
         "6",
         "1006",
         "70",
         "36000.0",
         "155.96",
         "ultimate"
        ],
        [
         "7",
         "1007",
         "273",
         "147000.0",
         "802.0",
         "surf"
        ],
        [
         "8",
         "1008",
         "176",
         "57000.0",
         "210.0",
         "ultimate"
        ],
        [
         "9",
         "1009",
         "386",
         "190000.0",
         "831.2",
         "surf"
        ],
        [
         "10",
         "1010",
         "409",
         "139000.0",
         "328.4",
         "surf"
        ],
        [
         "11",
         "1011",
         "410",
         "136000.0",
         "490.0",
         "ultimate"
        ],
        [
         "12",
         "1012",
         "58",
         "26000.0",
         "40.0",
         "surf"
        ],
        [
         "13",
         "1013",
         "67",
         "21000.0",
         "70.0",
         "ultimate"
        ],
        [
         "14",
         "1014",
         "20",
         "10000.0",
         "40.0",
         "surf"
        ],
        [
         "15",
         "1015",
         "39",
         "18000.0",
         "46.4",
         "surf"
        ],
        [
         "16",
         "1016",
         "114",
         "61000.0",
         "322.8",
         "surf"
        ],
        [
         "17",
         "1017",
         "281",
         "99000.0",
         "445.6",
         "surf"
        ],
        [
         "18",
         "1018",
         "126",
         "43000.0",
         "92.8",
         "surf"
        ],
        [
         "19",
         "1019",
         "96",
         "33000.0",
         "176.4",
         "surf"
        ],
        [
         "20",
         "1020",
         "102",
         "33000.0",
         "86.4",
         "surf"
        ],
        [
         "21",
         "1021",
         "16",
         "7000.0",
         "20.0",
         "surf"
        ],
        [
         "22",
         "1022",
         "463",
         "137000.0",
         "462.0",
         "surf"
        ],
        [
         "23",
         "1023",
         "47",
         "20000.0",
         "40.0",
         "surf"
        ],
        [
         "24",
         "1024",
         "33",
         "11000.0",
         "20.0",
         "surf"
        ],
        [
         "25",
         "1026",
         "40",
         "14000.0",
         "140.0",
         "ultimate"
        ],
        [
         "26",
         "1027",
         "280",
         "95000.0",
         "209.2",
         "surf"
        ],
        [
         "27",
         "1028",
         "752",
         "394000.0",
         "1312.64",
         "ultimate"
        ],
        [
         "28",
         "1029",
         "197",
         "70000.0",
         "192.8",
         "surf"
        ],
        [
         "29",
         "1030",
         "144",
         "45000.0",
         "210.0",
         "ultimate"
        ],
        [
         "30",
         "1031",
         "294",
         "96000.0",
         "420.0",
         "ultimate"
        ],
        [
         "31",
         "1032",
         "100",
         "30000.0",
         "140.0",
         "ultimate"
        ],
        [
         "32",
         "1033",
         "240",
         "85000.0",
         "280.0",
         "ultimate"
        ],
        [
         "33",
         "1034",
         "2",
         "1000.0",
         "20.0",
         "surf"
        ],
        [
         "34",
         "1035",
         "46",
         "16000.0",
         "26.4",
         "surf"
        ],
        [
         "35",
         "1036",
         "241",
         "82000.0",
         "490.0",
         "ultimate"
        ],
        [
         "36",
         "1037",
         "44",
         "15000.0",
         "70.0",
         "ultimate"
        ],
        [
         "37",
         "1038",
         "213",
         "107000.0",
         "367.92",
         "ultimate"
        ],
        [
         "38",
         "1039",
         "397",
         "132000.0",
         "490.0",
         "ultimate"
        ],
        [
         "39",
         "1040",
         "38",
         "17000.0",
         "36.4",
         "surf"
        ],
        [
         "40",
         "1041",
         "632",
         "197000.0",
         "700.0",
         "ultimate"
        ],
        [
         "41",
         "1042",
         "191",
         "97000.0",
         "240.0",
         "surf"
        ],
        [
         "42",
         "1043",
         "397",
         "207000.0",
         "597.8",
         "ultimate"
        ],
        [
         "43",
         "1044",
         "161",
         "85000.0",
         "315.6",
         "surf"
        ],
        [
         "44",
         "1045",
         "174",
         "53000.0",
         "182.8",
         "surf"
        ],
        [
         "45",
         "1046",
         "447",
         "151000.0",
         "632.0",
         "surf"
        ],
        [
         "46",
         "1047",
         "52",
         "18000.0",
         "70.0",
         "ultimate"
        ],
        [
         "47",
         "1048",
         "136",
         "46000.0",
         "100.0",
         "surf"
        ],
        [
         "48",
         "1049",
         "233",
         "79000.0",
         "180.0",
         "surf"
        ],
        [
         "49",
         "1050",
         "490",
         "161000.0",
         "700.0",
         "ultimate"
        ]
       ],
       "shape": {
        "columns": 5,
        "rows": 489
       }
      },
      "text/html": [
       "<div>\n",
       "<style scoped>\n",
       "    .dataframe tbody tr th:only-of-type {\n",
       "        vertical-align: middle;\n",
       "    }\n",
       "\n",
       "    .dataframe tbody tr th {\n",
       "        vertical-align: top;\n",
       "    }\n",
       "\n",
       "    .dataframe thead th {\n",
       "        text-align: right;\n",
       "    }\n",
       "</style>\n",
       "<table border=\"1\" class=\"dataframe\">\n",
       "  <thead>\n",
       "    <tr style=\"text-align: right;\">\n",
       "      <th></th>\n",
       "      <th>user_id</th>\n",
       "      <th>total_sessions</th>\n",
       "      <th>total_traffic</th>\n",
       "      <th>total_traffic_revenue</th>\n",
       "      <th>plan</th>\n",
       "    </tr>\n",
       "  </thead>\n",
       "  <tbody>\n",
       "    <tr>\n",
       "      <th>0</th>\n",
       "      <td>1000</td>\n",
       "      <td>5</td>\n",
       "      <td>2000.0</td>\n",
       "      <td>70.0</td>\n",
       "      <td>ultimate</td>\n",
       "    </tr>\n",
       "    <tr>\n",
       "      <th>1</th>\n",
       "      <td>1001</td>\n",
       "      <td>245</td>\n",
       "      <td>83000.0</td>\n",
       "      <td>259.2</td>\n",
       "      <td>surf</td>\n",
       "    </tr>\n",
       "    <tr>\n",
       "      <th>2</th>\n",
       "      <td>1002</td>\n",
       "      <td>124</td>\n",
       "      <td>42000.0</td>\n",
       "      <td>106.4</td>\n",
       "      <td>surf</td>\n",
       "    </tr>\n",
       "    <tr>\n",
       "      <th>3</th>\n",
       "      <td>1003</td>\n",
       "      <td>52</td>\n",
       "      <td>28000.0</td>\n",
       "      <td>146.4</td>\n",
       "      <td>surf</td>\n",
       "    </tr>\n",
       "    <tr>\n",
       "      <th>4</th>\n",
       "      <td>1004</td>\n",
       "      <td>460</td>\n",
       "      <td>159000.0</td>\n",
       "      <td>608.4</td>\n",
       "      <td>surf</td>\n",
       "    </tr>\n",
       "    <tr>\n",
       "      <th>...</th>\n",
       "      <td>...</td>\n",
       "      <td>...</td>\n",
       "      <td>...</td>\n",
       "      <td>...</td>\n",
       "      <td>...</td>\n",
       "    </tr>\n",
       "    <tr>\n",
       "      <th>484</th>\n",
       "      <td>1495</td>\n",
       "      <td>290</td>\n",
       "      <td>100000.0</td>\n",
       "      <td>465.6</td>\n",
       "      <td>surf</td>\n",
       "    </tr>\n",
       "    <tr>\n",
       "      <th>485</th>\n",
       "      <td>1496</td>\n",
       "      <td>225</td>\n",
       "      <td>67000.0</td>\n",
       "      <td>132.8</td>\n",
       "      <td>surf</td>\n",
       "    </tr>\n",
       "    <tr>\n",
       "      <th>486</th>\n",
       "      <td>1497</td>\n",
       "      <td>31</td>\n",
       "      <td>12000.0</td>\n",
       "      <td>70.0</td>\n",
       "      <td>ultimate</td>\n",
       "    </tr>\n",
       "    <tr>\n",
       "      <th>487</th>\n",
       "      <td>1498</td>\n",
       "      <td>657</td>\n",
       "      <td>232000.0</td>\n",
       "      <td>854.0</td>\n",
       "      <td>surf</td>\n",
       "    </tr>\n",
       "    <tr>\n",
       "      <th>488</th>\n",
       "      <td>1499</td>\n",
       "      <td>220</td>\n",
       "      <td>73000.0</td>\n",
       "      <td>219.2</td>\n",
       "      <td>surf</td>\n",
       "    </tr>\n",
       "  </tbody>\n",
       "</table>\n",
       "<p>489 rows × 5 columns</p>\n",
       "</div>"
      ],
      "text/plain": [
       "     user_id  total_sessions  total_traffic  total_traffic_revenue      plan\n",
       "0       1000               5         2000.0                   70.0  ultimate\n",
       "1       1001             245        83000.0                  259.2      surf\n",
       "2       1002             124        42000.0                  106.4      surf\n",
       "3       1003              52        28000.0                  146.4      surf\n",
       "4       1004             460       159000.0                  608.4      surf\n",
       "..       ...             ...            ...                    ...       ...\n",
       "484     1495             290       100000.0                  465.6      surf\n",
       "485     1496             225        67000.0                  132.8      surf\n",
       "486     1497              31        12000.0                   70.0  ultimate\n",
       "487     1498             657       232000.0                  854.0      surf\n",
       "488     1499             220        73000.0                  219.2      surf\n",
       "\n",
       "[489 rows x 5 columns]"
      ]
     },
     "execution_count": 63,
     "metadata": {},
     "output_type": "execute_result"
    }
   ],
   "source": [
    "df_sessions_traffic_total = df_sessions_traffic_total.merge(df_users[['user_id', 'plan']], on='user_id', how='left')\n",
    "df_sessions_traffic_total"
   ]
  },
  {
   "cell_type": "code",
   "execution_count": 64,
   "id": "6a43429f",
   "metadata": {},
   "outputs": [
    {
     "data": {
      "application/vnd.microsoft.datawrangler.viewer.v0+json": {
       "columns": [
        {
         "name": "index",
         "rawType": "int64",
         "type": "integer"
        },
        {
         "name": "user_id",
         "rawType": "int64",
         "type": "integer"
        },
        {
         "name": "total_sessions",
         "rawType": "int64",
         "type": "integer"
        },
        {
         "name": "total_traffic",
         "rawType": "float64",
         "type": "float"
        },
        {
         "name": "total_traffic_revenue",
         "rawType": "float64",
         "type": "float"
        },
        {
         "name": "plan",
         "rawType": "category",
         "type": "unknown"
        },
        {
         "name": "city",
         "rawType": "string",
         "type": "string"
        }
       ],
       "ref": "6a7ab093-8b01-4bd6-8add-789bb9bb079b",
       "rows": [
        [
         "0",
         "1000",
         "5",
         "2000.0",
         "70.0",
         "ultimate",
         "atlanta_sandy_springs_roswell,_ga_msa"
        ],
        [
         "1",
         "1001",
         "245",
         "83000.0",
         "259.2",
         "surf",
         "seattle_tacoma_bellevue,_wa_msa"
        ],
        [
         "2",
         "1002",
         "124",
         "42000.0",
         "106.4",
         "surf",
         "las_vegas_henderson_paradise,_nv_msa"
        ],
        [
         "3",
         "1003",
         "52",
         "28000.0",
         "146.4",
         "surf",
         "tulsa,_ok_msa"
        ],
        [
         "4",
         "1004",
         "460",
         "159000.0",
         "608.4",
         "surf",
         "seattle_tacoma_bellevue,_wa_msa"
        ],
        [
         "5",
         "1005",
         "60",
         "18000.0",
         "46.4",
         "surf",
         "dallas_fort_worth_arlington,_tx_msa"
        ],
        [
         "6",
         "1006",
         "70",
         "36000.0",
         "155.96",
         "ultimate",
         "san_francisco_oakland_berkeley,_ca_msa"
        ],
        [
         "7",
         "1007",
         "273",
         "147000.0",
         "802.0",
         "surf",
         "grand_rapids_kentwood,_mi_msa"
        ],
        [
         "8",
         "1008",
         "176",
         "57000.0",
         "210.0",
         "ultimate",
         "orlando_kissimmee_sanford,_fl_msa"
        ],
        [
         "9",
         "1009",
         "386",
         "190000.0",
         "831.2",
         "surf",
         "san_jose_sunnyvale_santa_clara,_ca_msa"
        ],
        [
         "10",
         "1010",
         "409",
         "139000.0",
         "328.4",
         "surf",
         "dallas_fort_worth_arlington,_tx_msa"
        ],
        [
         "11",
         "1011",
         "410",
         "136000.0",
         "490.0",
         "ultimate",
         "cleveland_elyria,_oh_msa"
        ],
        [
         "12",
         "1012",
         "58",
         "26000.0",
         "40.0",
         "surf",
         "chicago_naperville_elgin,_il_in_wi_msa"
        ],
        [
         "13",
         "1013",
         "67",
         "21000.0",
         "70.0",
         "ultimate",
         "knoxville,_tn_msa"
        ],
        [
         "14",
         "1014",
         "20",
         "10000.0",
         "40.0",
         "surf",
         "new_york_newark_jersey_city,_ny_nj_pa_msa"
        ],
        [
         "15",
         "1015",
         "39",
         "18000.0",
         "46.4",
         "surf",
         "pittsburgh,_pa_msa"
        ],
        [
         "16",
         "1016",
         "114",
         "61000.0",
         "322.8",
         "surf",
         "fresno,_ca_msa"
        ],
        [
         "17",
         "1017",
         "281",
         "99000.0",
         "445.6",
         "surf",
         "washington_arlington_alexandria,_dc_va_md_wv_msa"
        ],
        [
         "18",
         "1018",
         "126",
         "43000.0",
         "92.8",
         "surf",
         "indianapolis_carmel_anderson,_in_msa"
        ],
        [
         "19",
         "1019",
         "96",
         "33000.0",
         "176.4",
         "surf",
         "jacksonville,_fl_msa"
        ],
        [
         "20",
         "1020",
         "102",
         "33000.0",
         "86.4",
         "surf",
         "dallas_fort_worth_arlington,_tx_msa"
        ],
        [
         "21",
         "1021",
         "16",
         "7000.0",
         "20.0",
         "surf",
         "los_angeles_long_beach_anaheim,_ca_msa"
        ],
        [
         "22",
         "1022",
         "463",
         "137000.0",
         "462.0",
         "surf",
         "new_york_newark_jersey_city,_ny_nj_pa_msa"
        ],
        [
         "23",
         "1023",
         "47",
         "20000.0",
         "40.0",
         "surf",
         "omaha_council_bluffs,_ne_ia_msa"
        ],
        [
         "24",
         "1024",
         "33",
         "11000.0",
         "20.0",
         "surf",
         "new_york_newark_jersey_city,_ny_nj_pa_msa"
        ],
        [
         "25",
         "1026",
         "40",
         "14000.0",
         "140.0",
         "ultimate",
         "houston_the_woodlands_sugar_land,_tx_msa"
        ],
        [
         "26",
         "1027",
         "280",
         "95000.0",
         "209.2",
         "surf",
         "new_york_newark_jersey_city,_ny_nj_pa_msa"
        ],
        [
         "27",
         "1028",
         "752",
         "394000.0",
         "1312.64",
         "ultimate",
         "philadelphia_camden_wilmington,_pa_nj_de_md_msa"
        ],
        [
         "28",
         "1029",
         "197",
         "70000.0",
         "192.8",
         "surf",
         "tampa_st_petersburg_clearwater,_fl_msa"
        ],
        [
         "29",
         "1030",
         "144",
         "45000.0",
         "210.0",
         "ultimate",
         "chicago_naperville_elgin,_il_in_wi_msa"
        ],
        [
         "30",
         "1031",
         "294",
         "96000.0",
         "420.0",
         "ultimate",
         "new_york_newark_jersey_city,_ny_nj_pa_msa"
        ],
        [
         "31",
         "1032",
         "100",
         "30000.0",
         "140.0",
         "ultimate",
         "birmingham_hoover,_al_msa"
        ],
        [
         "32",
         "1033",
         "240",
         "85000.0",
         "280.0",
         "ultimate",
         "oklahoma_city,_ok_msa"
        ],
        [
         "33",
         "1034",
         "2",
         "1000.0",
         "20.0",
         "surf",
         "new_york_newark_jersey_city,_ny_nj_pa_msa"
        ],
        [
         "34",
         "1035",
         "46",
         "16000.0",
         "26.4",
         "surf",
         "charlotte_concord_gastonia,_nc_sc_msa"
        ],
        [
         "35",
         "1036",
         "241",
         "82000.0",
         "490.0",
         "ultimate",
         "denver_aurora_lakewood,_co_msa"
        ],
        [
         "36",
         "1037",
         "44",
         "15000.0",
         "70.0",
         "ultimate",
         "seattle_tacoma_bellevue,_wa_msa"
        ],
        [
         "37",
         "1038",
         "213",
         "107000.0",
         "367.92",
         "ultimate",
         "nashville_davidson_murfreesboro_franklin,_tn_msa"
        ],
        [
         "38",
         "1039",
         "397",
         "132000.0",
         "490.0",
         "ultimate",
         "columbus,_oh_msa"
        ],
        [
         "39",
         "1040",
         "38",
         "17000.0",
         "36.4",
         "surf",
         "philadelphia_camden_wilmington,_pa_nj_de_md_msa"
        ],
        [
         "40",
         "1041",
         "632",
         "197000.0",
         "700.0",
         "ultimate",
         "las_vegas_henderson_paradise,_nv_msa"
        ],
        [
         "41",
         "1042",
         "191",
         "97000.0",
         "240.0",
         "surf",
         "philadelphia_camden_wilmington,_pa_nj_de_md_msa"
        ],
        [
         "42",
         "1043",
         "397",
         "207000.0",
         "597.8",
         "ultimate",
         "new_york_newark_jersey_city,_ny_nj_pa_msa"
        ],
        [
         "43",
         "1044",
         "161",
         "85000.0",
         "315.6",
         "surf",
         "albuquerque,_nm_msa"
        ],
        [
         "44",
         "1045",
         "174",
         "53000.0",
         "182.8",
         "surf",
         "new_york_newark_jersey_city,_ny_nj_pa_msa"
        ],
        [
         "45",
         "1046",
         "447",
         "151000.0",
         "632.0",
         "surf",
         "boston_cambridge_newton,_ma_nh_msa"
        ],
        [
         "46",
         "1047",
         "52",
         "18000.0",
         "70.0",
         "ultimate",
         "indianapolis_carmel_anderson,_in_msa"
        ],
        [
         "47",
         "1048",
         "136",
         "46000.0",
         "100.0",
         "surf",
         "miami_fort_lauderdale_west_palm_beach,_fl_msa"
        ],
        [
         "48",
         "1049",
         "233",
         "79000.0",
         "180.0",
         "surf",
         "new_york_newark_jersey_city,_ny_nj_pa_msa"
        ],
        [
         "49",
         "1050",
         "490",
         "161000.0",
         "700.0",
         "ultimate",
         "miami_fort_lauderdale_west_palm_beach,_fl_msa"
        ]
       ],
       "shape": {
        "columns": 6,
        "rows": 489
       }
      },
      "text/html": [
       "<div>\n",
       "<style scoped>\n",
       "    .dataframe tbody tr th:only-of-type {\n",
       "        vertical-align: middle;\n",
       "    }\n",
       "\n",
       "    .dataframe tbody tr th {\n",
       "        vertical-align: top;\n",
       "    }\n",
       "\n",
       "    .dataframe thead th {\n",
       "        text-align: right;\n",
       "    }\n",
       "</style>\n",
       "<table border=\"1\" class=\"dataframe\">\n",
       "  <thead>\n",
       "    <tr style=\"text-align: right;\">\n",
       "      <th></th>\n",
       "      <th>user_id</th>\n",
       "      <th>total_sessions</th>\n",
       "      <th>total_traffic</th>\n",
       "      <th>total_traffic_revenue</th>\n",
       "      <th>plan</th>\n",
       "      <th>city</th>\n",
       "    </tr>\n",
       "  </thead>\n",
       "  <tbody>\n",
       "    <tr>\n",
       "      <th>0</th>\n",
       "      <td>1000</td>\n",
       "      <td>5</td>\n",
       "      <td>2000.0</td>\n",
       "      <td>70.0</td>\n",
       "      <td>ultimate</td>\n",
       "      <td>atlanta_sandy_springs_roswell,_ga_msa</td>\n",
       "    </tr>\n",
       "    <tr>\n",
       "      <th>1</th>\n",
       "      <td>1001</td>\n",
       "      <td>245</td>\n",
       "      <td>83000.0</td>\n",
       "      <td>259.2</td>\n",
       "      <td>surf</td>\n",
       "      <td>seattle_tacoma_bellevue,_wa_msa</td>\n",
       "    </tr>\n",
       "    <tr>\n",
       "      <th>2</th>\n",
       "      <td>1002</td>\n",
       "      <td>124</td>\n",
       "      <td>42000.0</td>\n",
       "      <td>106.4</td>\n",
       "      <td>surf</td>\n",
       "      <td>las_vegas_henderson_paradise,_nv_msa</td>\n",
       "    </tr>\n",
       "    <tr>\n",
       "      <th>3</th>\n",
       "      <td>1003</td>\n",
       "      <td>52</td>\n",
       "      <td>28000.0</td>\n",
       "      <td>146.4</td>\n",
       "      <td>surf</td>\n",
       "      <td>tulsa,_ok_msa</td>\n",
       "    </tr>\n",
       "    <tr>\n",
       "      <th>4</th>\n",
       "      <td>1004</td>\n",
       "      <td>460</td>\n",
       "      <td>159000.0</td>\n",
       "      <td>608.4</td>\n",
       "      <td>surf</td>\n",
       "      <td>seattle_tacoma_bellevue,_wa_msa</td>\n",
       "    </tr>\n",
       "    <tr>\n",
       "      <th>...</th>\n",
       "      <td>...</td>\n",
       "      <td>...</td>\n",
       "      <td>...</td>\n",
       "      <td>...</td>\n",
       "      <td>...</td>\n",
       "      <td>...</td>\n",
       "    </tr>\n",
       "    <tr>\n",
       "      <th>484</th>\n",
       "      <td>1495</td>\n",
       "      <td>290</td>\n",
       "      <td>100000.0</td>\n",
       "      <td>465.6</td>\n",
       "      <td>surf</td>\n",
       "      <td>new_york_newark_jersey_city,_ny_nj_pa_msa</td>\n",
       "    </tr>\n",
       "    <tr>\n",
       "      <th>485</th>\n",
       "      <td>1496</td>\n",
       "      <td>225</td>\n",
       "      <td>67000.0</td>\n",
       "      <td>132.8</td>\n",
       "      <td>surf</td>\n",
       "      <td>new_orleans_metairie,_la_msa</td>\n",
       "    </tr>\n",
       "    <tr>\n",
       "      <th>486</th>\n",
       "      <td>1497</td>\n",
       "      <td>31</td>\n",
       "      <td>12000.0</td>\n",
       "      <td>70.0</td>\n",
       "      <td>ultimate</td>\n",
       "      <td>los_angeles_long_beach_anaheim,_ca_msa</td>\n",
       "    </tr>\n",
       "    <tr>\n",
       "      <th>487</th>\n",
       "      <td>1498</td>\n",
       "      <td>657</td>\n",
       "      <td>232000.0</td>\n",
       "      <td>854.0</td>\n",
       "      <td>surf</td>\n",
       "      <td>new_york_newark_jersey_city,_ny_nj_pa_msa</td>\n",
       "    </tr>\n",
       "    <tr>\n",
       "      <th>488</th>\n",
       "      <td>1499</td>\n",
       "      <td>220</td>\n",
       "      <td>73000.0</td>\n",
       "      <td>219.2</td>\n",
       "      <td>surf</td>\n",
       "      <td>orlando_kissimmee_sanford,_fl_msa</td>\n",
       "    </tr>\n",
       "  </tbody>\n",
       "</table>\n",
       "<p>489 rows × 6 columns</p>\n",
       "</div>"
      ],
      "text/plain": [
       "     user_id  total_sessions  total_traffic  total_traffic_revenue      plan                                       city\n",
       "0       1000               5         2000.0                   70.0  ultimate      atlanta_sandy_springs_roswell,_ga_msa\n",
       "1       1001             245        83000.0                  259.2      surf            seattle_tacoma_bellevue,_wa_msa\n",
       "2       1002             124        42000.0                  106.4      surf       las_vegas_henderson_paradise,_nv_msa\n",
       "3       1003              52        28000.0                  146.4      surf                              tulsa,_ok_msa\n",
       "4       1004             460       159000.0                  608.4      surf            seattle_tacoma_bellevue,_wa_msa\n",
       "..       ...             ...            ...                    ...       ...                                        ...\n",
       "484     1495             290       100000.0                  465.6      surf  new_york_newark_jersey_city,_ny_nj_pa_msa\n",
       "485     1496             225        67000.0                  132.8      surf               new_orleans_metairie,_la_msa\n",
       "486     1497              31        12000.0                   70.0  ultimate     los_angeles_long_beach_anaheim,_ca_msa\n",
       "487     1498             657       232000.0                  854.0      surf  new_york_newark_jersey_city,_ny_nj_pa_msa\n",
       "488     1499             220        73000.0                  219.2      surf          orlando_kissimmee_sanford,_fl_msa\n",
       "\n",
       "[489 rows x 6 columns]"
      ]
     },
     "execution_count": 64,
     "metadata": {},
     "output_type": "execute_result"
    }
   ],
   "source": [
    "df_sessions_traffic_total = df_sessions_traffic_total.merge(df_users[['user_id', 'city']], on='user_id', how='left')\n",
    "df_sessions_traffic_total"
   ]
  },
  {
   "cell_type": "code",
   "execution_count": 65,
   "id": "257d656b",
   "metadata": {},
   "outputs": [],
   "source": [
    "project_root = Path.cwd().parent\n",
    "processed_path = project_root / \"data\" / \"processed\" / \"total\" / \"internet_total.csv\"\n",
    "\n",
    "df_sessions_traffic_total.to_csv(processed_path, index=False)"
   ]
  },
  {
   "cell_type": "markdown",
   "id": "15b8b7d3",
   "metadata": {},
   "source": [
    "### 4.5 Revenue"
   ]
  },
  {
   "cell_type": "markdown",
   "id": "88053a9e",
   "metadata": {},
   "source": [
    "#### 4.5.1 Total revenue per user"
   ]
  },
  {
   "cell_type": "code",
   "execution_count": 66,
   "id": "39ef7adf",
   "metadata": {},
   "outputs": [
    {
     "data": {
      "application/vnd.microsoft.datawrangler.viewer.v0+json": {
       "columns": [
        {
         "name": "index",
         "rawType": "int64",
         "type": "integer"
        },
        {
         "name": "user_id",
         "rawType": "int64",
         "type": "integer"
        },
        {
         "name": "full_name",
         "rawType": "string",
         "type": "string"
        },
        {
         "name": "age",
         "rawType": "int64",
         "type": "integer"
        },
        {
         "name": "city",
         "rawType": "string",
         "type": "string"
        },
        {
         "name": "reg_day",
         "rawType": "int32",
         "type": "integer"
        },
        {
         "name": "reg_month",
         "rawType": "int32",
         "type": "integer"
        },
        {
         "name": "churn_day",
         "rawType": "float64",
         "type": "float"
        },
        {
         "name": "churn_month",
         "rawType": "float64",
         "type": "float"
        },
        {
         "name": "plan",
         "rawType": "category",
         "type": "unknown"
        }
       ],
       "ref": "81ace71f-7b45-4f4b-9086-e0039133cd28",
       "rows": [
        [
         "0",
         "1000",
         "anamaria_bauer",
         "45",
         "atlanta_sandy_springs_roswell,_ga_msa",
         "24",
         "12",
         null,
         null,
         "ultimate"
        ],
        [
         "1",
         "1001",
         "mickey_wilkerson",
         "28",
         "seattle_tacoma_bellevue,_wa_msa",
         "13",
         "8",
         null,
         null,
         "surf"
        ],
        [
         "2",
         "1002",
         "carlee_hoffman",
         "36",
         "las_vegas_henderson_paradise,_nv_msa",
         "21",
         "10",
         null,
         null,
         "surf"
        ],
        [
         "3",
         "1003",
         "reynaldo_jenkins",
         "52",
         "tulsa,_ok_msa",
         "28",
         "1",
         null,
         null,
         "surf"
        ],
        [
         "4",
         "1004",
         "leonila_thompson",
         "40",
         "seattle_tacoma_bellevue,_wa_msa",
         "23",
         "5",
         null,
         null,
         "surf"
        ],
        [
         "5",
         "1005",
         "livia_shields",
         "31",
         "dallas_fort_worth_arlington,_tx_msa",
         "29",
         "11",
         null,
         null,
         "surf"
        ],
        [
         "6",
         "1006",
         "jesusa_bradford",
         "73",
         "san_francisco_oakland_berkeley,_ca_msa",
         "27",
         "11",
         "18.0",
         "12.0",
         "ultimate"
        ],
        [
         "7",
         "1007",
         "eusebio_welch",
         "42",
         "grand_rapids_kentwood,_mi_msa",
         "11",
         "7",
         null,
         null,
         "surf"
        ],
        [
         "8",
         "1008",
         "emely_hoffman",
         "53",
         "orlando_kissimmee_sanford,_fl_msa",
         "3",
         "8",
         null,
         null,
         "ultimate"
        ],
        [
         "9",
         "1009",
         "gerry_little",
         "19",
         "san_jose_sunnyvale_santa_clara,_ca_msa",
         "22",
         "4",
         null,
         null,
         "surf"
        ],
        [
         "10",
         "1010",
         "wilber_blair",
         "52",
         "dallas_fort_worth_arlington,_tx_msa",
         "9",
         "3",
         null,
         null,
         "surf"
        ],
        [
         "11",
         "1011",
         "halina_henry",
         "73",
         "cleveland_elyria,_oh_msa",
         "18",
         "1",
         null,
         null,
         "ultimate"
        ],
        [
         "12",
         "1012",
         "jonelle_mcbride",
         "59",
         "chicago_naperville_elgin,_il_in_wi_msa",
         "28",
         "6",
         "16.0",
         "11.0",
         "surf"
        ],
        [
         "13",
         "1013",
         "nicolas_snider",
         "50",
         "knoxville,_tn_msa",
         "1",
         "12",
         null,
         null,
         "ultimate"
        ],
        [
         "14",
         "1014",
         "edmundo_simon",
         "61",
         "new_york_newark_jersey_city,_ny_nj_pa_msa",
         "25",
         "11",
         null,
         null,
         "surf"
        ],
        [
         "15",
         "1015",
         "beata_carpenter",
         "26",
         "pittsburgh,_pa_msa",
         "5",
         "12",
         null,
         null,
         "surf"
        ],
        [
         "16",
         "1016",
         "jann_salinas",
         "30",
         "fresno,_ca_msa",
         "25",
         "10",
         null,
         null,
         "surf"
        ],
        [
         "17",
         "1017",
         "boris_gates",
         "61",
         "washington_arlington_alexandria,_dc_va_md_wv_msa",
         "26",
         "8",
         null,
         null,
         "surf"
        ],
        [
         "18",
         "1018",
         "dennis_grimes",
         "70",
         "indianapolis_carmel_anderson,_in_msa",
         "17",
         "10",
         null,
         null,
         "surf"
        ],
        [
         "19",
         "1019",
         "shizue_landry",
         "34",
         "jacksonville,_fl_msa",
         "16",
         "1",
         null,
         null,
         "surf"
        ],
        [
         "20",
         "1020",
         "rutha_bell",
         "56",
         "dallas_fort_worth_arlington,_tx_msa",
         "8",
         "11",
         null,
         null,
         "surf"
        ],
        [
         "21",
         "1021",
         "ricarda_booker",
         "37",
         "los_angeles_long_beach_anaheim,_ca_msa",
         "21",
         "12",
         null,
         null,
         "surf"
        ],
        [
         "22",
         "1022",
         "bo_snow",
         "73",
         "new_york_newark_jersey_city,_ny_nj_pa_msa",
         "20",
         "4",
         "7.0",
         "9.0",
         "surf"
        ],
        [
         "23",
         "1023",
         "jack_delaney",
         "70",
         "omaha_council_bluffs,_ne_ia_msa",
         "6",
         "7",
         null,
         null,
         "surf"
        ],
        [
         "24",
         "1024",
         "yuki_tyson",
         "74",
         "new_york_newark_jersey_city,_ny_nj_pa_msa",
         "21",
         "8",
         null,
         null,
         "surf"
        ],
        [
         "25",
         "1025",
         "jess_wilkinson",
         "64",
         "atlanta_sandy_springs_roswell,_ga_msa",
         "28",
         "10",
         null,
         null,
         "ultimate"
        ],
        [
         "26",
         "1026",
         "meggan_hamilton",
         "49",
         "houston_the_woodlands_sugar_land,_tx_msa",
         "20",
         "7",
         null,
         null,
         "ultimate"
        ],
        [
         "27",
         "1027",
         "georgeanna_cardenas",
         "38",
         "new_york_newark_jersey_city,_ny_nj_pa_msa",
         "26",
         "6",
         null,
         null,
         "surf"
        ],
        [
         "28",
         "1028",
         "jefferey_rasmussen",
         "57",
         "philadelphia_camden_wilmington,_pa_nj_de_md_msa",
         "21",
         "2",
         null,
         null,
         "ultimate"
        ],
        [
         "29",
         "1029",
         "franklyn_henson",
         "59",
         "tampa_st_petersburg_clearwater,_fl_msa",
         "5",
         "1",
         null,
         null,
         "surf"
        ],
        [
         "30",
         "1030",
         "chase_kane",
         "30",
         "chicago_naperville_elgin,_il_in_wi_msa",
         "14",
         "2",
         null,
         null,
         "ultimate"
        ],
        [
         "31",
         "1031",
         "lane_martin",
         "52",
         "new_york_newark_jersey_city,_ny_nj_pa_msa",
         "15",
         "7",
         null,
         null,
         "ultimate"
        ],
        [
         "32",
         "1032",
         "delila_dalton",
         "59",
         "birmingham_hoover,_al_msa",
         "7",
         "6",
         null,
         null,
         "ultimate"
        ],
        [
         "33",
         "1033",
         "latoyia_moran",
         "28",
         "oklahoma_city,_ok_msa",
         "30",
         "5",
         null,
         null,
         "ultimate"
        ],
        [
         "34",
         "1034",
         "jc_gentry",
         "22",
         "new_york_newark_jersey_city,_ny_nj_pa_msa",
         "13",
         "8",
         null,
         null,
         "surf"
        ],
        [
         "35",
         "1035",
         "jeff_cummings",
         "67",
         "charlotte_concord_gastonia,_nc_sc_msa",
         "8",
         "12",
         null,
         null,
         "surf"
        ],
        [
         "36",
         "1036",
         "myron_hodge",
         "70",
         "denver_aurora_lakewood,_co_msa",
         "9",
         "5",
         null,
         null,
         "ultimate"
        ],
        [
         "37",
         "1037",
         "reena_velazquez",
         "20",
         "seattle_tacoma_bellevue,_wa_msa",
         "11",
         "8",
         null,
         null,
         "ultimate"
        ],
        [
         "38",
         "1038",
         "olympia_velazquez",
         "32",
         "nashville_davidson_murfreesboro_franklin,_tn_msa",
         "25",
         "6",
         null,
         null,
         "ultimate"
        ],
        [
         "39",
         "1039",
         "flo_hicks",
         "56",
         "columbus,_oh_msa",
         "30",
         "5",
         null,
         null,
         "ultimate"
        ],
        [
         "40",
         "1040",
         "paris_santos",
         "72",
         "philadelphia_camden_wilmington,_pa_nj_de_md_msa",
         "23",
         "12",
         "30.0",
         "12.0",
         "surf"
        ],
        [
         "41",
         "1041",
         "drucilla_lynn",
         "58",
         "las_vegas_henderson_paradise,_nv_msa",
         "17",
         "3",
         null,
         null,
         "ultimate"
        ],
        [
         "42",
         "1042",
         "clementina_mclaughlin",
         "40",
         "philadelphia_camden_wilmington,_pa_nj_de_md_msa",
         "15",
         "1",
         null,
         null,
         "surf"
        ],
        [
         "43",
         "1043",
         "carlos_hinton",
         "42",
         "new_york_newark_jersey_city,_ny_nj_pa_msa",
         "20",
         "6",
         null,
         null,
         "ultimate"
        ],
        [
         "44",
         "1044",
         "devora_galloway",
         "74",
         "albuquerque,_nm_msa",
         "30",
         "8",
         null,
         null,
         "surf"
        ],
        [
         "45",
         "1045",
         "barney_ortega",
         "20",
         "new_york_newark_jersey_city,_ny_nj_pa_msa",
         "15",
         "10",
         null,
         null,
         "surf"
        ],
        [
         "46",
         "1046",
         "beata_hooper",
         "67",
         "boston_cambridge_newton,_ma_nh_msa",
         "19",
         "2",
         null,
         null,
         "surf"
        ],
        [
         "47",
         "1047",
         "yuk_french",
         "22",
         "indianapolis_carmel_anderson,_in_msa",
         "16",
         "6",
         null,
         null,
         "ultimate"
        ],
        [
         "48",
         "1048",
         "linwood_terrell",
         "42",
         "miami_fort_lauderdale_west_palm_beach,_fl_msa",
         "24",
         "8",
         null,
         null,
         "surf"
        ],
        [
         "49",
         "1049",
         "loise_avery",
         "25",
         "new_york_newark_jersey_city,_ny_nj_pa_msa",
         "21",
         "2",
         null,
         null,
         "surf"
        ]
       ],
       "shape": {
        "columns": 9,
        "rows": 500
       }
      },
      "text/html": [
       "<div>\n",
       "<style scoped>\n",
       "    .dataframe tbody tr th:only-of-type {\n",
       "        vertical-align: middle;\n",
       "    }\n",
       "\n",
       "    .dataframe tbody tr th {\n",
       "        vertical-align: top;\n",
       "    }\n",
       "\n",
       "    .dataframe thead th {\n",
       "        text-align: right;\n",
       "    }\n",
       "</style>\n",
       "<table border=\"1\" class=\"dataframe\">\n",
       "  <thead>\n",
       "    <tr style=\"text-align: right;\">\n",
       "      <th></th>\n",
       "      <th>user_id</th>\n",
       "      <th>full_name</th>\n",
       "      <th>age</th>\n",
       "      <th>city</th>\n",
       "      <th>reg_day</th>\n",
       "      <th>reg_month</th>\n",
       "      <th>churn_day</th>\n",
       "      <th>churn_month</th>\n",
       "      <th>plan</th>\n",
       "    </tr>\n",
       "  </thead>\n",
       "  <tbody>\n",
       "    <tr>\n",
       "      <th>0</th>\n",
       "      <td>1000</td>\n",
       "      <td>anamaria_bauer</td>\n",
       "      <td>45</td>\n",
       "      <td>atlanta_sandy_springs_roswell,_ga_msa</td>\n",
       "      <td>24</td>\n",
       "      <td>12</td>\n",
       "      <td>NaN</td>\n",
       "      <td>NaN</td>\n",
       "      <td>ultimate</td>\n",
       "    </tr>\n",
       "    <tr>\n",
       "      <th>1</th>\n",
       "      <td>1001</td>\n",
       "      <td>mickey_wilkerson</td>\n",
       "      <td>28</td>\n",
       "      <td>seattle_tacoma_bellevue,_wa_msa</td>\n",
       "      <td>13</td>\n",
       "      <td>8</td>\n",
       "      <td>NaN</td>\n",
       "      <td>NaN</td>\n",
       "      <td>surf</td>\n",
       "    </tr>\n",
       "    <tr>\n",
       "      <th>2</th>\n",
       "      <td>1002</td>\n",
       "      <td>carlee_hoffman</td>\n",
       "      <td>36</td>\n",
       "      <td>las_vegas_henderson_paradise,_nv_msa</td>\n",
       "      <td>21</td>\n",
       "      <td>10</td>\n",
       "      <td>NaN</td>\n",
       "      <td>NaN</td>\n",
       "      <td>surf</td>\n",
       "    </tr>\n",
       "    <tr>\n",
       "      <th>3</th>\n",
       "      <td>1003</td>\n",
       "      <td>reynaldo_jenkins</td>\n",
       "      <td>52</td>\n",
       "      <td>tulsa,_ok_msa</td>\n",
       "      <td>28</td>\n",
       "      <td>1</td>\n",
       "      <td>NaN</td>\n",
       "      <td>NaN</td>\n",
       "      <td>surf</td>\n",
       "    </tr>\n",
       "    <tr>\n",
       "      <th>4</th>\n",
       "      <td>1004</td>\n",
       "      <td>leonila_thompson</td>\n",
       "      <td>40</td>\n",
       "      <td>seattle_tacoma_bellevue,_wa_msa</td>\n",
       "      <td>23</td>\n",
       "      <td>5</td>\n",
       "      <td>NaN</td>\n",
       "      <td>NaN</td>\n",
       "      <td>surf</td>\n",
       "    </tr>\n",
       "    <tr>\n",
       "      <th>...</th>\n",
       "      <td>...</td>\n",
       "      <td>...</td>\n",
       "      <td>...</td>\n",
       "      <td>...</td>\n",
       "      <td>...</td>\n",
       "      <td>...</td>\n",
       "      <td>...</td>\n",
       "      <td>...</td>\n",
       "      <td>...</td>\n",
       "    </tr>\n",
       "    <tr>\n",
       "      <th>495</th>\n",
       "      <td>1495</td>\n",
       "      <td>fidel_sharpe</td>\n",
       "      <td>67</td>\n",
       "      <td>new_york_newark_jersey_city,_ny_nj_pa_msa</td>\n",
       "      <td>4</td>\n",
       "      <td>9</td>\n",
       "      <td>NaN</td>\n",
       "      <td>NaN</td>\n",
       "      <td>surf</td>\n",
       "    </tr>\n",
       "    <tr>\n",
       "      <th>496</th>\n",
       "      <td>1496</td>\n",
       "      <td>ariel_shepherd</td>\n",
       "      <td>49</td>\n",
       "      <td>new_orleans_metairie,_la_msa</td>\n",
       "      <td>20</td>\n",
       "      <td>2</td>\n",
       "      <td>NaN</td>\n",
       "      <td>NaN</td>\n",
       "      <td>surf</td>\n",
       "    </tr>\n",
       "    <tr>\n",
       "      <th>497</th>\n",
       "      <td>1497</td>\n",
       "      <td>donte_barrera</td>\n",
       "      <td>49</td>\n",
       "      <td>los_angeles_long_beach_anaheim,_ca_msa</td>\n",
       "      <td>10</td>\n",
       "      <td>12</td>\n",
       "      <td>NaN</td>\n",
       "      <td>NaN</td>\n",
       "      <td>ultimate</td>\n",
       "    </tr>\n",
       "    <tr>\n",
       "      <th>498</th>\n",
       "      <td>1498</td>\n",
       "      <td>scot_williamson</td>\n",
       "      <td>51</td>\n",
       "      <td>new_york_newark_jersey_city,_ny_nj_pa_msa</td>\n",
       "      <td>4</td>\n",
       "      <td>2</td>\n",
       "      <td>NaN</td>\n",
       "      <td>NaN</td>\n",
       "      <td>surf</td>\n",
       "    </tr>\n",
       "    <tr>\n",
       "      <th>499</th>\n",
       "      <td>1499</td>\n",
       "      <td>shena_dickson</td>\n",
       "      <td>37</td>\n",
       "      <td>orlando_kissimmee_sanford,_fl_msa</td>\n",
       "      <td>6</td>\n",
       "      <td>5</td>\n",
       "      <td>NaN</td>\n",
       "      <td>NaN</td>\n",
       "      <td>surf</td>\n",
       "    </tr>\n",
       "  </tbody>\n",
       "</table>\n",
       "<p>500 rows × 9 columns</p>\n",
       "</div>"
      ],
      "text/plain": [
       "     user_id         full_name  age                                       city  reg_day  reg_month  churn_day  churn_month      plan\n",
       "0       1000    anamaria_bauer   45      atlanta_sandy_springs_roswell,_ga_msa       24         12        NaN          NaN  ultimate\n",
       "1       1001  mickey_wilkerson   28            seattle_tacoma_bellevue,_wa_msa       13          8        NaN          NaN      surf\n",
       "2       1002    carlee_hoffman   36       las_vegas_henderson_paradise,_nv_msa       21         10        NaN          NaN      surf\n",
       "3       1003  reynaldo_jenkins   52                              tulsa,_ok_msa       28          1        NaN          NaN      surf\n",
       "4       1004  leonila_thompson   40            seattle_tacoma_bellevue,_wa_msa       23          5        NaN          NaN      surf\n",
       "..       ...               ...  ...                                        ...      ...        ...        ...          ...       ...\n",
       "495     1495      fidel_sharpe   67  new_york_newark_jersey_city,_ny_nj_pa_msa        4          9        NaN          NaN      surf\n",
       "496     1496    ariel_shepherd   49               new_orleans_metairie,_la_msa       20          2        NaN          NaN      surf\n",
       "497     1497     donte_barrera   49     los_angeles_long_beach_anaheim,_ca_msa       10         12        NaN          NaN  ultimate\n",
       "498     1498   scot_williamson   51  new_york_newark_jersey_city,_ny_nj_pa_msa        4          2        NaN          NaN      surf\n",
       "499     1499     shena_dickson   37          orlando_kissimmee_sanford,_fl_msa        6          5        NaN          NaN      surf\n",
       "\n",
       "[500 rows x 9 columns]"
      ]
     },
     "execution_count": 66,
     "metadata": {},
     "output_type": "execute_result"
    }
   ],
   "source": [
    "df_revenue_total = df_users.loc[:, ['user_id', 'full_name', 'age', 'city', 'reg_day', 'reg_month', 'churn_day', 'churn_month', 'plan']]\n",
    "df_revenue_total"
   ]
  },
  {
   "cell_type": "code",
   "execution_count": 67,
   "id": "5c7cb31f",
   "metadata": {},
   "outputs": [
    {
     "data": {
      "application/vnd.microsoft.datawrangler.viewer.v0+json": {
       "columns": [
        {
         "name": "index",
         "rawType": "int64",
         "type": "integer"
        },
        {
         "name": "user_id",
         "rawType": "int64",
         "type": "integer"
        },
        {
         "name": "full_name",
         "rawType": "string",
         "type": "string"
        },
        {
         "name": "age",
         "rawType": "int64",
         "type": "integer"
        },
        {
         "name": "city",
         "rawType": "string",
         "type": "string"
        },
        {
         "name": "reg_day",
         "rawType": "int32",
         "type": "integer"
        },
        {
         "name": "reg_month",
         "rawType": "int32",
         "type": "integer"
        },
        {
         "name": "churn_day",
         "rawType": "float64",
         "type": "float"
        },
        {
         "name": "churn_month",
         "rawType": "float64",
         "type": "float"
        },
        {
         "name": "plan",
         "rawType": "category",
         "type": "unknown"
        },
        {
         "name": "total_calls_duration",
         "rawType": "float64",
         "type": "float"
        },
        {
         "name": "total_calls_duration_revenue",
         "rawType": "float64",
         "type": "float"
        }
       ],
       "ref": "d7fb80b9-308a-402c-ad6c-fa72bdd6a585",
       "rows": [
        [
         "0",
         "1000",
         "anamaria_bauer",
         "45",
         "atlanta_sandy_springs_roswell,_ga_msa",
         "24",
         "12",
         null,
         null,
         "ultimate",
         "124.0",
         "70.0"
        ],
        [
         "1",
         "1001",
         "mickey_wilkerson",
         "28",
         "seattle_tacoma_bellevue,_wa_msa",
         "13",
         "8",
         null,
         null,
         "surf",
         "1728.0",
         "100.0"
        ],
        [
         "2",
         "1002",
         "carlee_hoffman",
         "36",
         "las_vegas_henderson_paradise,_nv_msa",
         "21",
         "10",
         null,
         null,
         "surf",
         "829.0",
         "60.0"
        ],
        [
         "3",
         "1003",
         "reynaldo_jenkins",
         "52",
         "tulsa,_ok_msa",
         "28",
         "1",
         null,
         null,
         "surf",
         "1104.0",
         "38.12"
        ],
        [
         "4",
         "1004",
         "leonila_thompson",
         "40",
         "seattle_tacoma_bellevue,_wa_msa",
         "23",
         "5",
         null,
         null,
         "surf",
         "2772.0",
         "160.0"
        ],
        [
         "5",
         "1005",
         "livia_shields",
         "31",
         "dallas_fort_worth_arlington,_tx_msa",
         "29",
         "11",
         null,
         null,
         "surf",
         "496.0",
         "20.0"
        ],
        [
         "6",
         "1006",
         "jesusa_bradford",
         "73",
         "san_francisco_oakland_berkeley,_ca_msa",
         "27",
         "11",
         "18.0",
         "12.0",
         "ultimate",
         "69.0",
         "140.0"
        ],
        [
         "7",
         "1007",
         "eusebio_welch",
         "42",
         "grand_rapids_kentwood,_mi_msa",
         "11",
         "7",
         null,
         null,
         "surf",
         "2641.0",
         "108.58"
        ],
        [
         "8",
         "1008",
         "emely_hoffman",
         "53",
         "orlando_kissimmee_sanford,_fl_msa",
         "3",
         "8",
         null,
         null,
         "ultimate",
         "1556.0",
         "210.0"
        ],
        [
         "9",
         "1009",
         "gerry_little",
         "19",
         "san_jose_sunnyvale_santa_clara,_ca_msa",
         "22",
         "4",
         null,
         null,
         "surf",
         "5954.0",
         "218.62"
        ],
        [
         "10",
         "1010",
         "wilber_blair",
         "52",
         "dallas_fort_worth_arlington,_tx_msa",
         "9",
         "3",
         null,
         null,
         "surf",
         "5075.0",
         "206.64"
        ],
        [
         "11",
         "1011",
         "halina_henry",
         "73",
         "cleveland_elyria,_oh_msa",
         "18",
         "1",
         null,
         null,
         "ultimate",
         "2907.0",
         "490.0"
        ],
        [
         "12",
         "1012",
         "jonelle_mcbride",
         "59",
         "chicago_naperville_elgin,_il_in_wi_msa",
         "28",
         "6",
         "16.0",
         "11.0",
         "surf",
         "153.0",
         "40.0"
        ],
        [
         "13",
         "1013",
         "nicolas_snider",
         "50",
         "knoxville,_tn_msa",
         "1",
         "12",
         null,
         null,
         "ultimate",
         "219.0",
         "70.0"
        ],
        [
         "14",
         "1014",
         "edmundo_simon",
         "61",
         "new_york_newark_jersey_city,_ny_nj_pa_msa",
         "25",
         "11",
         null,
         null,
         "surf",
         "1277.0",
         "58.42"
        ],
        [
         "15",
         "1015",
         "beata_carpenter",
         "26",
         "pittsburgh,_pa_msa",
         "5",
         "12",
         null,
         null,
         "surf",
         "96.0",
         "20.0"
        ],
        [
         "16",
         "1016",
         "jann_salinas",
         "30",
         "fresno,_ca_msa",
         "25",
         "10",
         null,
         null,
         "surf",
         "1659.0",
         "74.58"
        ],
        [
         "17",
         "1017",
         "boris_gates",
         "61",
         "washington_arlington_alexandria,_dc_va_md_wv_msa",
         "26",
         "8",
         null,
         null,
         "surf",
         "1681.0",
         "100.0"
        ],
        [
         "18",
         "1018",
         "dennis_grimes",
         "70",
         "indianapolis_carmel_anderson,_in_msa",
         "17",
         "10",
         null,
         null,
         "surf",
         "1296.0",
         "64.08"
        ],
        [
         "19",
         "1019",
         "shizue_landry",
         "34",
         "jacksonville,_fl_msa",
         "16",
         "1",
         null,
         null,
         "surf",
         "511.0",
         "40.0"
        ],
        [
         "20",
         "1020",
         "rutha_bell",
         "56",
         "dallas_fort_worth_arlington,_tx_msa",
         "8",
         "11",
         null,
         null,
         "surf",
         "930.0",
         "40.0"
        ],
        [
         "21",
         "1021",
         "ricarda_booker",
         "37",
         "los_angeles_long_beach_anaheim,_ca_msa",
         "21",
         "12",
         null,
         null,
         "surf",
         "401.0",
         "20.0"
        ],
        [
         "22",
         "1022",
         "bo_snow",
         "73",
         "new_york_newark_jersey_city,_ny_nj_pa_msa",
         "20",
         "4",
         "7.0",
         "9.0",
         "surf",
         "4065.0",
         "169.0"
        ],
        [
         "23",
         "1023",
         "jack_delaney",
         "70",
         "omaha_council_bluffs,_ne_ia_msa",
         "6",
         "7",
         null,
         null,
         "surf",
         "115.0",
         "40.0"
        ],
        [
         "24",
         "1024",
         "yuki_tyson",
         "74",
         "new_york_newark_jersey_city,_ny_nj_pa_msa",
         "21",
         "8",
         null,
         null,
         "surf",
         "564.0",
         "21.92"
        ],
        [
         "25",
         "1025",
         "jess_wilkinson",
         "64",
         "atlanta_sandy_springs_roswell,_ga_msa",
         "28",
         "10",
         null,
         null,
         "ultimate",
         null,
         null
        ],
        [
         "26",
         "1026",
         "meggan_hamilton",
         "49",
         "houston_the_woodlands_sugar_land,_tx_msa",
         "20",
         "7",
         null,
         null,
         "ultimate",
         "357.0",
         "140.0"
        ],
        [
         "27",
         "1027",
         "georgeanna_cardenas",
         "38",
         "new_york_newark_jersey_city,_ny_nj_pa_msa",
         "26",
         "6",
         null,
         null,
         "surf",
         "2143.0",
         "120.0"
        ],
        [
         "28",
         "1028",
         "jefferey_rasmussen",
         "57",
         "philadelphia_camden_wilmington,_pa_nj_de_md_msa",
         "21",
         "2",
         null,
         null,
         "ultimate",
         "525.0",
         "700.0"
        ],
        [
         "29",
         "1029",
         "franklyn_henson",
         "59",
         "tampa_st_petersburg_clearwater,_fl_msa",
         "5",
         "1",
         null,
         null,
         "surf",
         "2768.0",
         "121.75"
        ],
        [
         "30",
         "1030",
         "chase_kane",
         "30",
         "chicago_naperville_elgin,_il_in_wi_msa",
         "14",
         "2",
         null,
         null,
         "ultimate",
         "1358.0",
         "210.0"
        ],
        [
         "31",
         "1031",
         "lane_martin",
         "52",
         "new_york_newark_jersey_city,_ny_nj_pa_msa",
         "15",
         "7",
         null,
         null,
         "ultimate",
         "2947.0",
         "420.0"
        ],
        [
         "32",
         "1032",
         "delila_dalton",
         "59",
         "birmingham_hoover,_al_msa",
         "7",
         "6",
         null,
         null,
         "ultimate",
         "1072.0",
         "140.0"
        ],
        [
         "33",
         "1033",
         "latoyia_moran",
         "28",
         "oklahoma_city,_ok_msa",
         "30",
         "5",
         null,
         null,
         "ultimate",
         "2547.0",
         "280.0"
        ],
        [
         "34",
         "1034",
         "jc_gentry",
         "22",
         "new_york_newark_jersey_city,_ny_nj_pa_msa",
         "13",
         "8",
         null,
         null,
         "surf",
         "7.0",
         "20.0"
        ],
        [
         "35",
         "1035",
         "jeff_cummings",
         "67",
         "charlotte_concord_gastonia,_nc_sc_msa",
         "8",
         "12",
         null,
         null,
         "surf",
         "627.0",
         "23.81"
        ],
        [
         "36",
         "1036",
         "myron_hodge",
         "70",
         "denver_aurora_lakewood,_co_msa",
         "9",
         "5",
         null,
         null,
         "ultimate",
         "2815.0",
         "490.0"
        ],
        [
         "37",
         "1037",
         "reena_velazquez",
         "20",
         "seattle_tacoma_bellevue,_wa_msa",
         "11",
         "8",
         null,
         null,
         "ultimate",
         "463.0",
         "70.0"
        ],
        [
         "38",
         "1038",
         "olympia_velazquez",
         "32",
         "nashville_davidson_murfreesboro_franklin,_tn_msa",
         "25",
         "6",
         null,
         null,
         "ultimate",
         "1070.0",
         "210.0"
        ],
        [
         "39",
         "1039",
         "flo_hicks",
         "56",
         "columbus,_oh_msa",
         "30",
         "5",
         null,
         null,
         "ultimate",
         "3214.0",
         "490.0"
        ],
        [
         "40",
         "1040",
         "paris_santos",
         "72",
         "philadelphia_camden_wilmington,_pa_nj_de_md_msa",
         "23",
         "12",
         "30.0",
         "12.0",
         "surf",
         "294.0",
         "20.0"
        ],
        [
         "41",
         "1041",
         "drucilla_lynn",
         "58",
         "las_vegas_henderson_paradise,_nv_msa",
         "17",
         "3",
         null,
         null,
         "ultimate",
         "3682.0",
         "700.0"
        ],
        [
         "42",
         "1042",
         "clementina_mclaughlin",
         "40",
         "philadelphia_camden_wilmington,_pa_nj_de_md_msa",
         "15",
         "1",
         null,
         null,
         "surf",
         "3647.0",
         "240.0"
        ],
        [
         "43",
         "1043",
         "carlos_hinton",
         "42",
         "new_york_newark_jersey_city,_ny_nj_pa_msa",
         "20",
         "6",
         null,
         null,
         "ultimate",
         "1317.0",
         "490.0"
        ],
        [
         "44",
         "1044",
         "devora_galloway",
         "74",
         "albuquerque,_nm_msa",
         "30",
         "8",
         null,
         null,
         "surf",
         "1160.0",
         "100.0"
        ],
        [
         "45",
         "1045",
         "barney_ortega",
         "20",
         "new_york_newark_jersey_city,_ny_nj_pa_msa",
         "15",
         "10",
         null,
         null,
         "surf",
         "1499.0",
         "65.7"
        ],
        [
         "46",
         "1046",
         "beata_hooper",
         "67",
         "boston_cambridge_newton,_ma_nh_msa",
         "19",
         "2",
         null,
         null,
         "surf",
         "3529.0",
         "147.74"
        ],
        [
         "47",
         "1047",
         "yuk_french",
         "22",
         "indianapolis_carmel_anderson,_in_msa",
         "16",
         "6",
         null,
         null,
         "ultimate",
         "369.0",
         "70.0"
        ],
        [
         "48",
         "1048",
         "linwood_terrell",
         "42",
         "miami_fort_lauderdale_west_palm_beach,_fl_msa",
         "24",
         "8",
         null,
         null,
         "surf",
         "952.0",
         "100.0"
        ],
        [
         "49",
         "1049",
         "loise_avery",
         "25",
         "new_york_newark_jersey_city,_ny_nj_pa_msa",
         "21",
         "2",
         null,
         null,
         "surf",
         "2835.0",
         "180.0"
        ]
       ],
       "shape": {
        "columns": 11,
        "rows": 500
       }
      },
      "text/html": [
       "<div>\n",
       "<style scoped>\n",
       "    .dataframe tbody tr th:only-of-type {\n",
       "        vertical-align: middle;\n",
       "    }\n",
       "\n",
       "    .dataframe tbody tr th {\n",
       "        vertical-align: top;\n",
       "    }\n",
       "\n",
       "    .dataframe thead th {\n",
       "        text-align: right;\n",
       "    }\n",
       "</style>\n",
       "<table border=\"1\" class=\"dataframe\">\n",
       "  <thead>\n",
       "    <tr style=\"text-align: right;\">\n",
       "      <th></th>\n",
       "      <th>user_id</th>\n",
       "      <th>full_name</th>\n",
       "      <th>age</th>\n",
       "      <th>city</th>\n",
       "      <th>reg_day</th>\n",
       "      <th>reg_month</th>\n",
       "      <th>churn_day</th>\n",
       "      <th>churn_month</th>\n",
       "      <th>plan</th>\n",
       "      <th>total_calls_duration</th>\n",
       "      <th>total_calls_duration_revenue</th>\n",
       "    </tr>\n",
       "  </thead>\n",
       "  <tbody>\n",
       "    <tr>\n",
       "      <th>0</th>\n",
       "      <td>1000</td>\n",
       "      <td>anamaria_bauer</td>\n",
       "      <td>45</td>\n",
       "      <td>atlanta_sandy_springs_roswell,_ga_msa</td>\n",
       "      <td>24</td>\n",
       "      <td>12</td>\n",
       "      <td>NaN</td>\n",
       "      <td>NaN</td>\n",
       "      <td>ultimate</td>\n",
       "      <td>124.0</td>\n",
       "      <td>70.00</td>\n",
       "    </tr>\n",
       "    <tr>\n",
       "      <th>1</th>\n",
       "      <td>1001</td>\n",
       "      <td>mickey_wilkerson</td>\n",
       "      <td>28</td>\n",
       "      <td>seattle_tacoma_bellevue,_wa_msa</td>\n",
       "      <td>13</td>\n",
       "      <td>8</td>\n",
       "      <td>NaN</td>\n",
       "      <td>NaN</td>\n",
       "      <td>surf</td>\n",
       "      <td>1728.0</td>\n",
       "      <td>100.00</td>\n",
       "    </tr>\n",
       "    <tr>\n",
       "      <th>2</th>\n",
       "      <td>1002</td>\n",
       "      <td>carlee_hoffman</td>\n",
       "      <td>36</td>\n",
       "      <td>las_vegas_henderson_paradise,_nv_msa</td>\n",
       "      <td>21</td>\n",
       "      <td>10</td>\n",
       "      <td>NaN</td>\n",
       "      <td>NaN</td>\n",
       "      <td>surf</td>\n",
       "      <td>829.0</td>\n",
       "      <td>60.00</td>\n",
       "    </tr>\n",
       "    <tr>\n",
       "      <th>3</th>\n",
       "      <td>1003</td>\n",
       "      <td>reynaldo_jenkins</td>\n",
       "      <td>52</td>\n",
       "      <td>tulsa,_ok_msa</td>\n",
       "      <td>28</td>\n",
       "      <td>1</td>\n",
       "      <td>NaN</td>\n",
       "      <td>NaN</td>\n",
       "      <td>surf</td>\n",
       "      <td>1104.0</td>\n",
       "      <td>38.12</td>\n",
       "    </tr>\n",
       "    <tr>\n",
       "      <th>4</th>\n",
       "      <td>1004</td>\n",
       "      <td>leonila_thompson</td>\n",
       "      <td>40</td>\n",
       "      <td>seattle_tacoma_bellevue,_wa_msa</td>\n",
       "      <td>23</td>\n",
       "      <td>5</td>\n",
       "      <td>NaN</td>\n",
       "      <td>NaN</td>\n",
       "      <td>surf</td>\n",
       "      <td>2772.0</td>\n",
       "      <td>160.00</td>\n",
       "    </tr>\n",
       "    <tr>\n",
       "      <th>...</th>\n",
       "      <td>...</td>\n",
       "      <td>...</td>\n",
       "      <td>...</td>\n",
       "      <td>...</td>\n",
       "      <td>...</td>\n",
       "      <td>...</td>\n",
       "      <td>...</td>\n",
       "      <td>...</td>\n",
       "      <td>...</td>\n",
       "      <td>...</td>\n",
       "      <td>...</td>\n",
       "    </tr>\n",
       "    <tr>\n",
       "      <th>495</th>\n",
       "      <td>1495</td>\n",
       "      <td>fidel_sharpe</td>\n",
       "      <td>67</td>\n",
       "      <td>new_york_newark_jersey_city,_ny_nj_pa_msa</td>\n",
       "      <td>4</td>\n",
       "      <td>9</td>\n",
       "      <td>NaN</td>\n",
       "      <td>NaN</td>\n",
       "      <td>surf</td>\n",
       "      <td>1765.0</td>\n",
       "      <td>83.30</td>\n",
       "    </tr>\n",
       "    <tr>\n",
       "      <th>496</th>\n",
       "      <td>1496</td>\n",
       "      <td>ariel_shepherd</td>\n",
       "      <td>49</td>\n",
       "      <td>new_orleans_metairie,_la_msa</td>\n",
       "      <td>20</td>\n",
       "      <td>2</td>\n",
       "      <td>NaN</td>\n",
       "      <td>NaN</td>\n",
       "      <td>surf</td>\n",
       "      <td>1455.0</td>\n",
       "      <td>100.00</td>\n",
       "    </tr>\n",
       "    <tr>\n",
       "      <th>497</th>\n",
       "      <td>1497</td>\n",
       "      <td>donte_barrera</td>\n",
       "      <td>49</td>\n",
       "      <td>los_angeles_long_beach_anaheim,_ca_msa</td>\n",
       "      <td>10</td>\n",
       "      <td>12</td>\n",
       "      <td>NaN</td>\n",
       "      <td>NaN</td>\n",
       "      <td>ultimate</td>\n",
       "      <td>300.0</td>\n",
       "      <td>70.00</td>\n",
       "    </tr>\n",
       "    <tr>\n",
       "      <th>498</th>\n",
       "      <td>1498</td>\n",
       "      <td>scot_williamson</td>\n",
       "      <td>51</td>\n",
       "      <td>new_york_newark_jersey_city,_ny_nj_pa_msa</td>\n",
       "      <td>4</td>\n",
       "      <td>2</td>\n",
       "      <td>NaN</td>\n",
       "      <td>NaN</td>\n",
       "      <td>surf</td>\n",
       "      <td>3211.0</td>\n",
       "      <td>220.00</td>\n",
       "    </tr>\n",
       "    <tr>\n",
       "      <th>499</th>\n",
       "      <td>1499</td>\n",
       "      <td>shena_dickson</td>\n",
       "      <td>37</td>\n",
       "      <td>orlando_kissimmee_sanford,_fl_msa</td>\n",
       "      <td>6</td>\n",
       "      <td>5</td>\n",
       "      <td>NaN</td>\n",
       "      <td>NaN</td>\n",
       "      <td>surf</td>\n",
       "      <td>1535.0</td>\n",
       "      <td>80.00</td>\n",
       "    </tr>\n",
       "  </tbody>\n",
       "</table>\n",
       "<p>500 rows × 11 columns</p>\n",
       "</div>"
      ],
      "text/plain": [
       "     user_id         full_name  age                                       city  reg_day  reg_month  churn_day  churn_month      plan  \\\n",
       "0       1000    anamaria_bauer   45      atlanta_sandy_springs_roswell,_ga_msa       24         12        NaN          NaN  ultimate   \n",
       "1       1001  mickey_wilkerson   28            seattle_tacoma_bellevue,_wa_msa       13          8        NaN          NaN      surf   \n",
       "2       1002    carlee_hoffman   36       las_vegas_henderson_paradise,_nv_msa       21         10        NaN          NaN      surf   \n",
       "3       1003  reynaldo_jenkins   52                              tulsa,_ok_msa       28          1        NaN          NaN      surf   \n",
       "4       1004  leonila_thompson   40            seattle_tacoma_bellevue,_wa_msa       23          5        NaN          NaN      surf   \n",
       "..       ...               ...  ...                                        ...      ...        ...        ...          ...       ...   \n",
       "495     1495      fidel_sharpe   67  new_york_newark_jersey_city,_ny_nj_pa_msa        4          9        NaN          NaN      surf   \n",
       "496     1496    ariel_shepherd   49               new_orleans_metairie,_la_msa       20          2        NaN          NaN      surf   \n",
       "497     1497     donte_barrera   49     los_angeles_long_beach_anaheim,_ca_msa       10         12        NaN          NaN  ultimate   \n",
       "498     1498   scot_williamson   51  new_york_newark_jersey_city,_ny_nj_pa_msa        4          2        NaN          NaN      surf   \n",
       "499     1499     shena_dickson   37          orlando_kissimmee_sanford,_fl_msa        6          5        NaN          NaN      surf   \n",
       "\n",
       "     total_calls_duration  total_calls_duration_revenue  \n",
       "0                   124.0                         70.00  \n",
       "1                  1728.0                        100.00  \n",
       "2                   829.0                         60.00  \n",
       "3                  1104.0                         38.12  \n",
       "4                  2772.0                        160.00  \n",
       "..                    ...                           ...  \n",
       "495                1765.0                         83.30  \n",
       "496                1455.0                        100.00  \n",
       "497                 300.0                         70.00  \n",
       "498                3211.0                        220.00  \n",
       "499                1535.0                         80.00  \n",
       "\n",
       "[500 rows x 11 columns]"
      ]
     },
     "execution_count": 67,
     "metadata": {},
     "output_type": "execute_result"
    }
   ],
   "source": [
    "df_revenue_total = df_revenue_total.merge(df_calls_duration_total[['user_id', 'total_duration', 'total_duration_revenue']], on='user_id', how='left')\n",
    "df_revenue_total = df_revenue_total.rename(columns={'total_duration': 'total_calls_duration', 'total_duration_revenue': 'total_calls_duration_revenue'})\n",
    "df_revenue_total"
   ]
  },
  {
   "cell_type": "code",
   "execution_count": 68,
   "id": "3867e7bd",
   "metadata": {},
   "outputs": [
    {
     "data": {
      "application/vnd.microsoft.datawrangler.viewer.v0+json": {
       "columns": [
        {
         "name": "index",
         "rawType": "int64",
         "type": "integer"
        },
        {
         "name": "user_id",
         "rawType": "int64",
         "type": "integer"
        },
        {
         "name": "full_name",
         "rawType": "string",
         "type": "string"
        },
        {
         "name": "age",
         "rawType": "int64",
         "type": "integer"
        },
        {
         "name": "city",
         "rawType": "string",
         "type": "string"
        },
        {
         "name": "reg_day",
         "rawType": "int32",
         "type": "integer"
        },
        {
         "name": "reg_month",
         "rawType": "int32",
         "type": "integer"
        },
        {
         "name": "churn_day",
         "rawType": "float64",
         "type": "float"
        },
        {
         "name": "churn_month",
         "rawType": "float64",
         "type": "float"
        },
        {
         "name": "plan",
         "rawType": "category",
         "type": "unknown"
        },
        {
         "name": "total_calls_duration",
         "rawType": "float64",
         "type": "float"
        },
        {
         "name": "total_calls_duration_revenue",
         "rawType": "float64",
         "type": "float"
        },
        {
         "name": "total_messages_amount",
         "rawType": "float64",
         "type": "float"
        },
        {
         "name": "total_messages_amount_revenue",
         "rawType": "float64",
         "type": "float"
        }
       ],
       "ref": "1c7274d2-8418-431f-b918-81a74b223dff",
       "rows": [
        [
         "0",
         "1000",
         "anamaria_bauer",
         "45",
         "atlanta_sandy_springs_roswell,_ga_msa",
         "24",
         "12",
         null,
         null,
         "ultimate",
         "124.0",
         "70.0",
         "11.0",
         "70.0"
        ],
        [
         "1",
         "1001",
         "mickey_wilkerson",
         "28",
         "seattle_tacoma_bellevue,_wa_msa",
         "13",
         "8",
         null,
         null,
         "surf",
         "1728.0",
         "100.0",
         "207.0",
         "100.09"
        ],
        [
         "2",
         "1002",
         "carlee_hoffman",
         "36",
         "las_vegas_henderson_paradise,_nv_msa",
         "21",
         "10",
         null,
         null,
         "surf",
         "829.0",
         "60.0",
         "88.0",
         "60.0"
        ],
        [
         "3",
         "1003",
         "reynaldo_jenkins",
         "52",
         "tulsa,_ok_msa",
         "28",
         "1",
         null,
         null,
         "surf",
         "1104.0",
         "38.12",
         "50.0",
         "20.0"
        ],
        [
         "4",
         "1004",
         "leonila_thompson",
         "40",
         "seattle_tacoma_bellevue,_wa_msa",
         "23",
         "5",
         null,
         null,
         "surf",
         "2772.0",
         "160.0",
         "177.0",
         "160.0"
        ],
        [
         "5",
         "1005",
         "livia_shields",
         "31",
         "dallas_fort_worth_arlington,_tx_msa",
         "29",
         "11",
         null,
         null,
         "surf",
         "496.0",
         "20.0",
         "11.0",
         "20.0"
        ],
        [
         "6",
         "1006",
         "jesusa_bradford",
         "73",
         "san_francisco_oakland_berkeley,_ca_msa",
         "27",
         "11",
         "18.0",
         "12.0",
         "ultimate",
         "69.0",
         "140.0",
         "154.0",
         "140.0"
        ],
        [
         "7",
         "1007",
         "eusebio_welch",
         "42",
         "grand_rapids_kentwood,_mi_msa",
         "11",
         "7",
         null,
         null,
         "surf",
         "2641.0",
         "108.58",
         "255.0",
         "100.3"
        ],
        [
         "8",
         "1008",
         "emely_hoffman",
         "53",
         "orlando_kissimmee_sanford,_fl_msa",
         "3",
         "8",
         null,
         null,
         "ultimate",
         "1556.0",
         "210.0",
         "84.0",
         "210.0"
        ],
        [
         "9",
         "1009",
         "gerry_little",
         "19",
         "san_jose_sunnyvale_santa_clara,_ca_msa",
         "22",
         "4",
         null,
         null,
         "surf",
         "5954.0",
         "218.62",
         null,
         null
        ],
        [
         "10",
         "1010",
         "wilber_blair",
         "52",
         "dallas_fort_worth_arlington,_tx_msa",
         "9",
         "3",
         null,
         null,
         "surf",
         "5075.0",
         "206.64",
         null,
         null
        ],
        [
         "11",
         "1011",
         "halina_henry",
         "73",
         "cleveland_elyria,_oh_msa",
         "18",
         "1",
         null,
         null,
         "ultimate",
         "2907.0",
         "490.0",
         "371.0",
         "490.0"
        ],
        [
         "12",
         "1012",
         "jonelle_mcbride",
         "59",
         "chicago_naperville_elgin,_il_in_wi_msa",
         "28",
         "6",
         "16.0",
         "11.0",
         "surf",
         "153.0",
         "40.0",
         null,
         null
        ],
        [
         "13",
         "1013",
         "nicolas_snider",
         "50",
         "knoxville,_tn_msa",
         "1",
         "12",
         null,
         null,
         "ultimate",
         "219.0",
         "70.0",
         "16.0",
         "70.0"
        ],
        [
         "14",
         "1014",
         "edmundo_simon",
         "61",
         "new_york_newark_jersey_city,_ny_nj_pa_msa",
         "25",
         "11",
         null,
         null,
         "surf",
         "1277.0",
         "58.42",
         "73.0",
         "40.42"
        ],
        [
         "15",
         "1015",
         "beata_carpenter",
         "26",
         "pittsburgh,_pa_msa",
         "5",
         "12",
         null,
         null,
         "surf",
         "96.0",
         "20.0",
         "68.0",
         "20.54"
        ],
        [
         "16",
         "1016",
         "jann_salinas",
         "30",
         "fresno,_ca_msa",
         "25",
         "10",
         null,
         null,
         "surf",
         "1659.0",
         "74.58",
         "95.0",
         "60.0"
        ],
        [
         "17",
         "1017",
         "boris_gates",
         "61",
         "washington_arlington_alexandria,_dc_va_md_wv_msa",
         "26",
         "8",
         null,
         null,
         "surf",
         "1681.0",
         "100.0",
         "152.0",
         "100.0"
        ],
        [
         "18",
         "1018",
         "dennis_grimes",
         "70",
         "indianapolis_carmel_anderson,_in_msa",
         "17",
         "10",
         null,
         null,
         "surf",
         "1296.0",
         "64.08",
         "16.0",
         "60.0"
        ],
        [
         "19",
         "1019",
         "shizue_landry",
         "34",
         "jacksonville,_fl_msa",
         "16",
         "1",
         null,
         null,
         "surf",
         "511.0",
         "40.0",
         "152.0",
         "42.34"
        ],
        [
         "20",
         "1020",
         "rutha_bell",
         "56",
         "dallas_fort_worth_arlington,_tx_msa",
         "8",
         "11",
         null,
         null,
         "surf",
         "930.0",
         "40.0",
         "4.0",
         "40.0"
        ],
        [
         "21",
         "1021",
         "ricarda_booker",
         "37",
         "los_angeles_long_beach_anaheim,_ca_msa",
         "21",
         "12",
         null,
         null,
         "surf",
         "401.0",
         "20.0",
         null,
         null
        ],
        [
         "22",
         "1022",
         "bo_snow",
         "73",
         "new_york_newark_jersey_city,_ny_nj_pa_msa",
         "20",
         "4",
         "7.0",
         "9.0",
         "surf",
         "4065.0",
         "169.0",
         null,
         null
        ],
        [
         "23",
         "1023",
         "jack_delaney",
         "70",
         "omaha_council_bluffs,_ne_ia_msa",
         "6",
         "7",
         null,
         null,
         "surf",
         "115.0",
         "40.0",
         "11.0",
         "40.0"
        ],
        [
         "24",
         "1024",
         "yuki_tyson",
         "74",
         "new_york_newark_jersey_city,_ny_nj_pa_msa",
         "21",
         "8",
         null,
         null,
         "surf",
         "564.0",
         "21.92",
         null,
         null
        ],
        [
         "25",
         "1025",
         "jess_wilkinson",
         "64",
         "atlanta_sandy_springs_roswell,_ga_msa",
         "28",
         "10",
         null,
         null,
         "ultimate",
         null,
         null,
         null,
         null
        ],
        [
         "26",
         "1026",
         "meggan_hamilton",
         "49",
         "houston_the_woodlands_sugar_land,_tx_msa",
         "20",
         "7",
         null,
         null,
         "ultimate",
         "357.0",
         "140.0",
         "22.0",
         "140.0"
        ],
        [
         "27",
         "1027",
         "georgeanna_cardenas",
         "38",
         "new_york_newark_jersey_city,_ny_nj_pa_msa",
         "26",
         "6",
         null,
         null,
         "surf",
         "2143.0",
         "120.0",
         "78.0",
         "120.0"
        ],
        [
         "28",
         "1028",
         "jefferey_rasmussen",
         "57",
         "philadelphia_camden_wilmington,_pa_nj_de_md_msa",
         "21",
         "2",
         null,
         null,
         "ultimate",
         "525.0",
         "700.0",
         "756.0",
         "770.0"
        ],
        [
         "29",
         "1029",
         "franklyn_henson",
         "59",
         "tampa_st_petersburg_clearwater,_fl_msa",
         "5",
         "1",
         null,
         null,
         "surf",
         "2768.0",
         "121.75",
         "50.0",
         "100.0"
        ],
        [
         "30",
         "1030",
         "chase_kane",
         "30",
         "chicago_naperville_elgin,_il_in_wi_msa",
         "14",
         "2",
         null,
         null,
         "ultimate",
         "1358.0",
         "210.0",
         "30.0",
         "210.0"
        ],
        [
         "31",
         "1031",
         "lane_martin",
         "52",
         "new_york_newark_jersey_city,_ny_nj_pa_msa",
         "15",
         "7",
         null,
         null,
         "ultimate",
         "2947.0",
         "420.0",
         "14.0",
         "420.0"
        ],
        [
         "32",
         "1032",
         "delila_dalton",
         "59",
         "birmingham_hoover,_al_msa",
         "7",
         "6",
         null,
         null,
         "ultimate",
         "1072.0",
         "140.0",
         "42.0",
         "140.0"
        ],
        [
         "33",
         "1033",
         "latoyia_moran",
         "28",
         "oklahoma_city,_ok_msa",
         "30",
         "5",
         null,
         null,
         "ultimate",
         "2547.0",
         "280.0",
         "108.0",
         "280.0"
        ],
        [
         "34",
         "1034",
         "jc_gentry",
         "22",
         "new_york_newark_jersey_city,_ny_nj_pa_msa",
         "13",
         "8",
         null,
         null,
         "surf",
         "7.0",
         "20.0",
         "4.0",
         "20.0"
        ],
        [
         "35",
         "1035",
         "jeff_cummings",
         "67",
         "charlotte_concord_gastonia,_nc_sc_msa",
         "8",
         "12",
         null,
         null,
         "surf",
         "627.0",
         "23.81",
         "66.0",
         "20.48"
        ],
        [
         "36",
         "1036",
         "myron_hodge",
         "70",
         "denver_aurora_lakewood,_co_msa",
         "9",
         "5",
         null,
         null,
         "ultimate",
         "2815.0",
         "490.0",
         "438.0",
         "490.0"
        ],
        [
         "37",
         "1037",
         "reena_velazquez",
         "20",
         "seattle_tacoma_bellevue,_wa_msa",
         "11",
         "8",
         null,
         null,
         "ultimate",
         "463.0",
         "70.0",
         "44.0",
         "70.0"
        ],
        [
         "38",
         "1038",
         "olympia_velazquez",
         "32",
         "nashville_davidson_murfreesboro_franklin,_tn_msa",
         "25",
         "6",
         null,
         null,
         "ultimate",
         "1070.0",
         "210.0",
         "255.0",
         "210.0"
        ],
        [
         "39",
         "1039",
         "flo_hicks",
         "56",
         "columbus,_oh_msa",
         "30",
         "5",
         null,
         null,
         "ultimate",
         "3214.0",
         "490.0",
         "147.0",
         "490.0"
        ],
        [
         "40",
         "1040",
         "paris_santos",
         "72",
         "philadelphia_camden_wilmington,_pa_nj_de_md_msa",
         "23",
         "12",
         "30.0",
         "12.0",
         "surf",
         "294.0",
         "20.0",
         null,
         null
        ],
        [
         "41",
         "1041",
         "drucilla_lynn",
         "58",
         "las_vegas_henderson_paradise,_nv_msa",
         "17",
         "3",
         null,
         null,
         "ultimate",
         "3682.0",
         "700.0",
         null,
         null
        ],
        [
         "42",
         "1042",
         "clementina_mclaughlin",
         "40",
         "philadelphia_camden_wilmington,_pa_nj_de_md_msa",
         "15",
         "1",
         null,
         null,
         "surf",
         "3647.0",
         "240.0",
         null,
         null
        ],
        [
         "43",
         "1043",
         "carlos_hinton",
         "42",
         "new_york_newark_jersey_city,_ny_nj_pa_msa",
         "20",
         "6",
         null,
         null,
         "ultimate",
         "1317.0",
         "490.0",
         "599.0",
         "490.0"
        ],
        [
         "44",
         "1044",
         "devora_galloway",
         "74",
         "albuquerque,_nm_msa",
         "30",
         "8",
         null,
         null,
         "surf",
         "1160.0",
         "100.0",
         "160.0",
         "80.0"
        ],
        [
         "45",
         "1045",
         "barney_ortega",
         "20",
         "new_york_newark_jersey_city,_ny_nj_pa_msa",
         "15",
         "10",
         null,
         null,
         "surf",
         "1499.0",
         "65.7",
         "130.0",
         "60.0"
        ],
        [
         "46",
         "1046",
         "beata_hooper",
         "67",
         "boston_cambridge_newton,_ma_nh_msa",
         "19",
         "2",
         null,
         null,
         "surf",
         "3529.0",
         "147.74",
         "238.0",
         "140.03"
        ],
        [
         "47",
         "1047",
         "yuk_french",
         "22",
         "indianapolis_carmel_anderson,_in_msa",
         "16",
         "6",
         null,
         null,
         "ultimate",
         "369.0",
         "70.0",
         "7.0",
         "70.0"
        ],
        [
         "48",
         "1048",
         "linwood_terrell",
         "42",
         "miami_fort_lauderdale_west_palm_beach,_fl_msa",
         "24",
         "8",
         null,
         null,
         "surf",
         "952.0",
         "100.0",
         null,
         null
        ],
        [
         "49",
         "1049",
         "loise_avery",
         "25",
         "new_york_newark_jersey_city,_ny_nj_pa_msa",
         "21",
         "2",
         null,
         null,
         "surf",
         "2835.0",
         "180.0",
         null,
         null
        ]
       ],
       "shape": {
        "columns": 13,
        "rows": 500
       }
      },
      "text/html": [
       "<div>\n",
       "<style scoped>\n",
       "    .dataframe tbody tr th:only-of-type {\n",
       "        vertical-align: middle;\n",
       "    }\n",
       "\n",
       "    .dataframe tbody tr th {\n",
       "        vertical-align: top;\n",
       "    }\n",
       "\n",
       "    .dataframe thead th {\n",
       "        text-align: right;\n",
       "    }\n",
       "</style>\n",
       "<table border=\"1\" class=\"dataframe\">\n",
       "  <thead>\n",
       "    <tr style=\"text-align: right;\">\n",
       "      <th></th>\n",
       "      <th>user_id</th>\n",
       "      <th>full_name</th>\n",
       "      <th>age</th>\n",
       "      <th>city</th>\n",
       "      <th>reg_day</th>\n",
       "      <th>reg_month</th>\n",
       "      <th>churn_day</th>\n",
       "      <th>churn_month</th>\n",
       "      <th>plan</th>\n",
       "      <th>total_calls_duration</th>\n",
       "      <th>total_calls_duration_revenue</th>\n",
       "      <th>total_messages_amount</th>\n",
       "      <th>total_messages_amount_revenue</th>\n",
       "    </tr>\n",
       "  </thead>\n",
       "  <tbody>\n",
       "    <tr>\n",
       "      <th>0</th>\n",
       "      <td>1000</td>\n",
       "      <td>anamaria_bauer</td>\n",
       "      <td>45</td>\n",
       "      <td>atlanta_sandy_springs_roswell,_ga_msa</td>\n",
       "      <td>24</td>\n",
       "      <td>12</td>\n",
       "      <td>NaN</td>\n",
       "      <td>NaN</td>\n",
       "      <td>ultimate</td>\n",
       "      <td>124.0</td>\n",
       "      <td>70.00</td>\n",
       "      <td>11.0</td>\n",
       "      <td>70.00</td>\n",
       "    </tr>\n",
       "    <tr>\n",
       "      <th>1</th>\n",
       "      <td>1001</td>\n",
       "      <td>mickey_wilkerson</td>\n",
       "      <td>28</td>\n",
       "      <td>seattle_tacoma_bellevue,_wa_msa</td>\n",
       "      <td>13</td>\n",
       "      <td>8</td>\n",
       "      <td>NaN</td>\n",
       "      <td>NaN</td>\n",
       "      <td>surf</td>\n",
       "      <td>1728.0</td>\n",
       "      <td>100.00</td>\n",
       "      <td>207.0</td>\n",
       "      <td>100.09</td>\n",
       "    </tr>\n",
       "    <tr>\n",
       "      <th>2</th>\n",
       "      <td>1002</td>\n",
       "      <td>carlee_hoffman</td>\n",
       "      <td>36</td>\n",
       "      <td>las_vegas_henderson_paradise,_nv_msa</td>\n",
       "      <td>21</td>\n",
       "      <td>10</td>\n",
       "      <td>NaN</td>\n",
       "      <td>NaN</td>\n",
       "      <td>surf</td>\n",
       "      <td>829.0</td>\n",
       "      <td>60.00</td>\n",
       "      <td>88.0</td>\n",
       "      <td>60.00</td>\n",
       "    </tr>\n",
       "    <tr>\n",
       "      <th>3</th>\n",
       "      <td>1003</td>\n",
       "      <td>reynaldo_jenkins</td>\n",
       "      <td>52</td>\n",
       "      <td>tulsa,_ok_msa</td>\n",
       "      <td>28</td>\n",
       "      <td>1</td>\n",
       "      <td>NaN</td>\n",
       "      <td>NaN</td>\n",
       "      <td>surf</td>\n",
       "      <td>1104.0</td>\n",
       "      <td>38.12</td>\n",
       "      <td>50.0</td>\n",
       "      <td>20.00</td>\n",
       "    </tr>\n",
       "    <tr>\n",
       "      <th>4</th>\n",
       "      <td>1004</td>\n",
       "      <td>leonila_thompson</td>\n",
       "      <td>40</td>\n",
       "      <td>seattle_tacoma_bellevue,_wa_msa</td>\n",
       "      <td>23</td>\n",
       "      <td>5</td>\n",
       "      <td>NaN</td>\n",
       "      <td>NaN</td>\n",
       "      <td>surf</td>\n",
       "      <td>2772.0</td>\n",
       "      <td>160.00</td>\n",
       "      <td>177.0</td>\n",
       "      <td>160.00</td>\n",
       "    </tr>\n",
       "    <tr>\n",
       "      <th>...</th>\n",
       "      <td>...</td>\n",
       "      <td>...</td>\n",
       "      <td>...</td>\n",
       "      <td>...</td>\n",
       "      <td>...</td>\n",
       "      <td>...</td>\n",
       "      <td>...</td>\n",
       "      <td>...</td>\n",
       "      <td>...</td>\n",
       "      <td>...</td>\n",
       "      <td>...</td>\n",
       "      <td>...</td>\n",
       "      <td>...</td>\n",
       "    </tr>\n",
       "    <tr>\n",
       "      <th>495</th>\n",
       "      <td>1495</td>\n",
       "      <td>fidel_sharpe</td>\n",
       "      <td>67</td>\n",
       "      <td>new_york_newark_jersey_city,_ny_nj_pa_msa</td>\n",
       "      <td>4</td>\n",
       "      <td>9</td>\n",
       "      <td>NaN</td>\n",
       "      <td>NaN</td>\n",
       "      <td>surf</td>\n",
       "      <td>1765.0</td>\n",
       "      <td>83.30</td>\n",
       "      <td>NaN</td>\n",
       "      <td>NaN</td>\n",
       "    </tr>\n",
       "    <tr>\n",
       "      <th>496</th>\n",
       "      <td>1496</td>\n",
       "      <td>ariel_shepherd</td>\n",
       "      <td>49</td>\n",
       "      <td>new_orleans_metairie,_la_msa</td>\n",
       "      <td>20</td>\n",
       "      <td>2</td>\n",
       "      <td>NaN</td>\n",
       "      <td>NaN</td>\n",
       "      <td>surf</td>\n",
       "      <td>1455.0</td>\n",
       "      <td>100.00</td>\n",
       "      <td>65.0</td>\n",
       "      <td>100.00</td>\n",
       "    </tr>\n",
       "    <tr>\n",
       "      <th>497</th>\n",
       "      <td>1497</td>\n",
       "      <td>donte_barrera</td>\n",
       "      <td>49</td>\n",
       "      <td>los_angeles_long_beach_anaheim,_ca_msa</td>\n",
       "      <td>10</td>\n",
       "      <td>12</td>\n",
       "      <td>NaN</td>\n",
       "      <td>NaN</td>\n",
       "      <td>ultimate</td>\n",
       "      <td>300.0</td>\n",
       "      <td>70.00</td>\n",
       "      <td>50.0</td>\n",
       "      <td>70.00</td>\n",
       "    </tr>\n",
       "    <tr>\n",
       "      <th>498</th>\n",
       "      <td>1498</td>\n",
       "      <td>scot_williamson</td>\n",
       "      <td>51</td>\n",
       "      <td>new_york_newark_jersey_city,_ny_nj_pa_msa</td>\n",
       "      <td>4</td>\n",
       "      <td>2</td>\n",
       "      <td>NaN</td>\n",
       "      <td>NaN</td>\n",
       "      <td>surf</td>\n",
       "      <td>3211.0</td>\n",
       "      <td>220.00</td>\n",
       "      <td>NaN</td>\n",
       "      <td>NaN</td>\n",
       "    </tr>\n",
       "    <tr>\n",
       "      <th>499</th>\n",
       "      <td>1499</td>\n",
       "      <td>shena_dickson</td>\n",
       "      <td>37</td>\n",
       "      <td>orlando_kissimmee_sanford,_fl_msa</td>\n",
       "      <td>6</td>\n",
       "      <td>5</td>\n",
       "      <td>NaN</td>\n",
       "      <td>NaN</td>\n",
       "      <td>surf</td>\n",
       "      <td>1535.0</td>\n",
       "      <td>80.00</td>\n",
       "      <td>NaN</td>\n",
       "      <td>NaN</td>\n",
       "    </tr>\n",
       "  </tbody>\n",
       "</table>\n",
       "<p>500 rows × 13 columns</p>\n",
       "</div>"
      ],
      "text/plain": [
       "     user_id         full_name  age                                       city  reg_day  reg_month  churn_day  churn_month      plan  \\\n",
       "0       1000    anamaria_bauer   45      atlanta_sandy_springs_roswell,_ga_msa       24         12        NaN          NaN  ultimate   \n",
       "1       1001  mickey_wilkerson   28            seattle_tacoma_bellevue,_wa_msa       13          8        NaN          NaN      surf   \n",
       "2       1002    carlee_hoffman   36       las_vegas_henderson_paradise,_nv_msa       21         10        NaN          NaN      surf   \n",
       "3       1003  reynaldo_jenkins   52                              tulsa,_ok_msa       28          1        NaN          NaN      surf   \n",
       "4       1004  leonila_thompson   40            seattle_tacoma_bellevue,_wa_msa       23          5        NaN          NaN      surf   \n",
       "..       ...               ...  ...                                        ...      ...        ...        ...          ...       ...   \n",
       "495     1495      fidel_sharpe   67  new_york_newark_jersey_city,_ny_nj_pa_msa        4          9        NaN          NaN      surf   \n",
       "496     1496    ariel_shepherd   49               new_orleans_metairie,_la_msa       20          2        NaN          NaN      surf   \n",
       "497     1497     donte_barrera   49     los_angeles_long_beach_anaheim,_ca_msa       10         12        NaN          NaN  ultimate   \n",
       "498     1498   scot_williamson   51  new_york_newark_jersey_city,_ny_nj_pa_msa        4          2        NaN          NaN      surf   \n",
       "499     1499     shena_dickson   37          orlando_kissimmee_sanford,_fl_msa        6          5        NaN          NaN      surf   \n",
       "\n",
       "     total_calls_duration  total_calls_duration_revenue  total_messages_amount  total_messages_amount_revenue  \n",
       "0                   124.0                         70.00                   11.0                          70.00  \n",
       "1                  1728.0                        100.00                  207.0                         100.09  \n",
       "2                   829.0                         60.00                   88.0                          60.00  \n",
       "3                  1104.0                         38.12                   50.0                          20.00  \n",
       "4                  2772.0                        160.00                  177.0                         160.00  \n",
       "..                    ...                           ...                    ...                            ...  \n",
       "495                1765.0                         83.30                    NaN                            NaN  \n",
       "496                1455.0                        100.00                   65.0                         100.00  \n",
       "497                 300.0                         70.00                   50.0                          70.00  \n",
       "498                3211.0                        220.00                    NaN                            NaN  \n",
       "499                1535.0                         80.00                    NaN                            NaN  \n",
       "\n",
       "[500 rows x 13 columns]"
      ]
     },
     "execution_count": 68,
     "metadata": {},
     "output_type": "execute_result"
    }
   ],
   "source": [
    "df_revenue_total = df_revenue_total.merge(df_messages_user_total[['user_id', 'total_messages', 'total_messages_revenue']], on='user_id', how='left')\n",
    "df_revenue_total = df_revenue_total.rename(columns={'total_messages': 'total_messages_amount', 'total_messages_revenue': 'total_messages_amount_revenue'})\n",
    "df_revenue_total"
   ]
  },
  {
   "cell_type": "code",
   "execution_count": 69,
   "id": "c485b760",
   "metadata": {},
   "outputs": [
    {
     "data": {
      "application/vnd.microsoft.datawrangler.viewer.v0+json": {
       "columns": [
        {
         "name": "index",
         "rawType": "int64",
         "type": "integer"
        },
        {
         "name": "user_id",
         "rawType": "int64",
         "type": "integer"
        },
        {
         "name": "total_sessions",
         "rawType": "int64",
         "type": "integer"
        },
        {
         "name": "total_traffic",
         "rawType": "float64",
         "type": "float"
        },
        {
         "name": "total_traffic_revenue",
         "rawType": "float64",
         "type": "float"
        },
        {
         "name": "plan",
         "rawType": "category",
         "type": "unknown"
        },
        {
         "name": "city",
         "rawType": "string",
         "type": "string"
        }
       ],
       "ref": "29c96d8f-fb9b-4269-8355-2813a7e34c5c",
       "rows": [
        [
         "0",
         "1000",
         "5",
         "2000.0",
         "70.0",
         "ultimate",
         "atlanta_sandy_springs_roswell,_ga_msa"
        ],
        [
         "1",
         "1001",
         "245",
         "83000.0",
         "259.2",
         "surf",
         "seattle_tacoma_bellevue,_wa_msa"
        ],
        [
         "2",
         "1002",
         "124",
         "42000.0",
         "106.4",
         "surf",
         "las_vegas_henderson_paradise,_nv_msa"
        ],
        [
         "3",
         "1003",
         "52",
         "28000.0",
         "146.4",
         "surf",
         "tulsa,_ok_msa"
        ],
        [
         "4",
         "1004",
         "460",
         "159000.0",
         "608.4",
         "surf",
         "seattle_tacoma_bellevue,_wa_msa"
        ],
        [
         "5",
         "1005",
         "60",
         "18000.0",
         "46.4",
         "surf",
         "dallas_fort_worth_arlington,_tx_msa"
        ],
        [
         "6",
         "1006",
         "70",
         "36000.0",
         "155.96",
         "ultimate",
         "san_francisco_oakland_berkeley,_ca_msa"
        ],
        [
         "7",
         "1007",
         "273",
         "147000.0",
         "802.0",
         "surf",
         "grand_rapids_kentwood,_mi_msa"
        ],
        [
         "8",
         "1008",
         "176",
         "57000.0",
         "210.0",
         "ultimate",
         "orlando_kissimmee_sanford,_fl_msa"
        ],
        [
         "9",
         "1009",
         "386",
         "190000.0",
         "831.2",
         "surf",
         "san_jose_sunnyvale_santa_clara,_ca_msa"
        ],
        [
         "10",
         "1010",
         "409",
         "139000.0",
         "328.4",
         "surf",
         "dallas_fort_worth_arlington,_tx_msa"
        ],
        [
         "11",
         "1011",
         "410",
         "136000.0",
         "490.0",
         "ultimate",
         "cleveland_elyria,_oh_msa"
        ],
        [
         "12",
         "1012",
         "58",
         "26000.0",
         "40.0",
         "surf",
         "chicago_naperville_elgin,_il_in_wi_msa"
        ],
        [
         "13",
         "1013",
         "67",
         "21000.0",
         "70.0",
         "ultimate",
         "knoxville,_tn_msa"
        ],
        [
         "14",
         "1014",
         "20",
         "10000.0",
         "40.0",
         "surf",
         "new_york_newark_jersey_city,_ny_nj_pa_msa"
        ],
        [
         "15",
         "1015",
         "39",
         "18000.0",
         "46.4",
         "surf",
         "pittsburgh,_pa_msa"
        ],
        [
         "16",
         "1016",
         "114",
         "61000.0",
         "322.8",
         "surf",
         "fresno,_ca_msa"
        ],
        [
         "17",
         "1017",
         "281",
         "99000.0",
         "445.6",
         "surf",
         "washington_arlington_alexandria,_dc_va_md_wv_msa"
        ],
        [
         "18",
         "1018",
         "126",
         "43000.0",
         "92.8",
         "surf",
         "indianapolis_carmel_anderson,_in_msa"
        ],
        [
         "19",
         "1019",
         "96",
         "33000.0",
         "176.4",
         "surf",
         "jacksonville,_fl_msa"
        ],
        [
         "20",
         "1020",
         "102",
         "33000.0",
         "86.4",
         "surf",
         "dallas_fort_worth_arlington,_tx_msa"
        ],
        [
         "21",
         "1021",
         "16",
         "7000.0",
         "20.0",
         "surf",
         "los_angeles_long_beach_anaheim,_ca_msa"
        ],
        [
         "22",
         "1022",
         "463",
         "137000.0",
         "462.0",
         "surf",
         "new_york_newark_jersey_city,_ny_nj_pa_msa"
        ],
        [
         "23",
         "1023",
         "47",
         "20000.0",
         "40.0",
         "surf",
         "omaha_council_bluffs,_ne_ia_msa"
        ],
        [
         "24",
         "1024",
         "33",
         "11000.0",
         "20.0",
         "surf",
         "new_york_newark_jersey_city,_ny_nj_pa_msa"
        ],
        [
         "25",
         "1026",
         "40",
         "14000.0",
         "140.0",
         "ultimate",
         "houston_the_woodlands_sugar_land,_tx_msa"
        ],
        [
         "26",
         "1027",
         "280",
         "95000.0",
         "209.2",
         "surf",
         "new_york_newark_jersey_city,_ny_nj_pa_msa"
        ],
        [
         "27",
         "1028",
         "752",
         "394000.0",
         "1312.64",
         "ultimate",
         "philadelphia_camden_wilmington,_pa_nj_de_md_msa"
        ],
        [
         "28",
         "1029",
         "197",
         "70000.0",
         "192.8",
         "surf",
         "tampa_st_petersburg_clearwater,_fl_msa"
        ],
        [
         "29",
         "1030",
         "144",
         "45000.0",
         "210.0",
         "ultimate",
         "chicago_naperville_elgin,_il_in_wi_msa"
        ],
        [
         "30",
         "1031",
         "294",
         "96000.0",
         "420.0",
         "ultimate",
         "new_york_newark_jersey_city,_ny_nj_pa_msa"
        ],
        [
         "31",
         "1032",
         "100",
         "30000.0",
         "140.0",
         "ultimate",
         "birmingham_hoover,_al_msa"
        ],
        [
         "32",
         "1033",
         "240",
         "85000.0",
         "280.0",
         "ultimate",
         "oklahoma_city,_ok_msa"
        ],
        [
         "33",
         "1034",
         "2",
         "1000.0",
         "20.0",
         "surf",
         "new_york_newark_jersey_city,_ny_nj_pa_msa"
        ],
        [
         "34",
         "1035",
         "46",
         "16000.0",
         "26.4",
         "surf",
         "charlotte_concord_gastonia,_nc_sc_msa"
        ],
        [
         "35",
         "1036",
         "241",
         "82000.0",
         "490.0",
         "ultimate",
         "denver_aurora_lakewood,_co_msa"
        ],
        [
         "36",
         "1037",
         "44",
         "15000.0",
         "70.0",
         "ultimate",
         "seattle_tacoma_bellevue,_wa_msa"
        ],
        [
         "37",
         "1038",
         "213",
         "107000.0",
         "367.92",
         "ultimate",
         "nashville_davidson_murfreesboro_franklin,_tn_msa"
        ],
        [
         "38",
         "1039",
         "397",
         "132000.0",
         "490.0",
         "ultimate",
         "columbus,_oh_msa"
        ],
        [
         "39",
         "1040",
         "38",
         "17000.0",
         "36.4",
         "surf",
         "philadelphia_camden_wilmington,_pa_nj_de_md_msa"
        ],
        [
         "40",
         "1041",
         "632",
         "197000.0",
         "700.0",
         "ultimate",
         "las_vegas_henderson_paradise,_nv_msa"
        ],
        [
         "41",
         "1042",
         "191",
         "97000.0",
         "240.0",
         "surf",
         "philadelphia_camden_wilmington,_pa_nj_de_md_msa"
        ],
        [
         "42",
         "1043",
         "397",
         "207000.0",
         "597.8",
         "ultimate",
         "new_york_newark_jersey_city,_ny_nj_pa_msa"
        ],
        [
         "43",
         "1044",
         "161",
         "85000.0",
         "315.6",
         "surf",
         "albuquerque,_nm_msa"
        ],
        [
         "44",
         "1045",
         "174",
         "53000.0",
         "182.8",
         "surf",
         "new_york_newark_jersey_city,_ny_nj_pa_msa"
        ],
        [
         "45",
         "1046",
         "447",
         "151000.0",
         "632.0",
         "surf",
         "boston_cambridge_newton,_ma_nh_msa"
        ],
        [
         "46",
         "1047",
         "52",
         "18000.0",
         "70.0",
         "ultimate",
         "indianapolis_carmel_anderson,_in_msa"
        ],
        [
         "47",
         "1048",
         "136",
         "46000.0",
         "100.0",
         "surf",
         "miami_fort_lauderdale_west_palm_beach,_fl_msa"
        ],
        [
         "48",
         "1049",
         "233",
         "79000.0",
         "180.0",
         "surf",
         "new_york_newark_jersey_city,_ny_nj_pa_msa"
        ],
        [
         "49",
         "1050",
         "490",
         "161000.0",
         "700.0",
         "ultimate",
         "miami_fort_lauderdale_west_palm_beach,_fl_msa"
        ]
       ],
       "shape": {
        "columns": 6,
        "rows": 489
       }
      },
      "text/html": [
       "<div>\n",
       "<style scoped>\n",
       "    .dataframe tbody tr th:only-of-type {\n",
       "        vertical-align: middle;\n",
       "    }\n",
       "\n",
       "    .dataframe tbody tr th {\n",
       "        vertical-align: top;\n",
       "    }\n",
       "\n",
       "    .dataframe thead th {\n",
       "        text-align: right;\n",
       "    }\n",
       "</style>\n",
       "<table border=\"1\" class=\"dataframe\">\n",
       "  <thead>\n",
       "    <tr style=\"text-align: right;\">\n",
       "      <th></th>\n",
       "      <th>user_id</th>\n",
       "      <th>total_sessions</th>\n",
       "      <th>total_traffic</th>\n",
       "      <th>total_traffic_revenue</th>\n",
       "      <th>plan</th>\n",
       "      <th>city</th>\n",
       "    </tr>\n",
       "  </thead>\n",
       "  <tbody>\n",
       "    <tr>\n",
       "      <th>0</th>\n",
       "      <td>1000</td>\n",
       "      <td>5</td>\n",
       "      <td>2000.0</td>\n",
       "      <td>70.0</td>\n",
       "      <td>ultimate</td>\n",
       "      <td>atlanta_sandy_springs_roswell,_ga_msa</td>\n",
       "    </tr>\n",
       "    <tr>\n",
       "      <th>1</th>\n",
       "      <td>1001</td>\n",
       "      <td>245</td>\n",
       "      <td>83000.0</td>\n",
       "      <td>259.2</td>\n",
       "      <td>surf</td>\n",
       "      <td>seattle_tacoma_bellevue,_wa_msa</td>\n",
       "    </tr>\n",
       "    <tr>\n",
       "      <th>2</th>\n",
       "      <td>1002</td>\n",
       "      <td>124</td>\n",
       "      <td>42000.0</td>\n",
       "      <td>106.4</td>\n",
       "      <td>surf</td>\n",
       "      <td>las_vegas_henderson_paradise,_nv_msa</td>\n",
       "    </tr>\n",
       "    <tr>\n",
       "      <th>3</th>\n",
       "      <td>1003</td>\n",
       "      <td>52</td>\n",
       "      <td>28000.0</td>\n",
       "      <td>146.4</td>\n",
       "      <td>surf</td>\n",
       "      <td>tulsa,_ok_msa</td>\n",
       "    </tr>\n",
       "    <tr>\n",
       "      <th>4</th>\n",
       "      <td>1004</td>\n",
       "      <td>460</td>\n",
       "      <td>159000.0</td>\n",
       "      <td>608.4</td>\n",
       "      <td>surf</td>\n",
       "      <td>seattle_tacoma_bellevue,_wa_msa</td>\n",
       "    </tr>\n",
       "    <tr>\n",
       "      <th>...</th>\n",
       "      <td>...</td>\n",
       "      <td>...</td>\n",
       "      <td>...</td>\n",
       "      <td>...</td>\n",
       "      <td>...</td>\n",
       "      <td>...</td>\n",
       "    </tr>\n",
       "    <tr>\n",
       "      <th>484</th>\n",
       "      <td>1495</td>\n",
       "      <td>290</td>\n",
       "      <td>100000.0</td>\n",
       "      <td>465.6</td>\n",
       "      <td>surf</td>\n",
       "      <td>new_york_newark_jersey_city,_ny_nj_pa_msa</td>\n",
       "    </tr>\n",
       "    <tr>\n",
       "      <th>485</th>\n",
       "      <td>1496</td>\n",
       "      <td>225</td>\n",
       "      <td>67000.0</td>\n",
       "      <td>132.8</td>\n",
       "      <td>surf</td>\n",
       "      <td>new_orleans_metairie,_la_msa</td>\n",
       "    </tr>\n",
       "    <tr>\n",
       "      <th>486</th>\n",
       "      <td>1497</td>\n",
       "      <td>31</td>\n",
       "      <td>12000.0</td>\n",
       "      <td>70.0</td>\n",
       "      <td>ultimate</td>\n",
       "      <td>los_angeles_long_beach_anaheim,_ca_msa</td>\n",
       "    </tr>\n",
       "    <tr>\n",
       "      <th>487</th>\n",
       "      <td>1498</td>\n",
       "      <td>657</td>\n",
       "      <td>232000.0</td>\n",
       "      <td>854.0</td>\n",
       "      <td>surf</td>\n",
       "      <td>new_york_newark_jersey_city,_ny_nj_pa_msa</td>\n",
       "    </tr>\n",
       "    <tr>\n",
       "      <th>488</th>\n",
       "      <td>1499</td>\n",
       "      <td>220</td>\n",
       "      <td>73000.0</td>\n",
       "      <td>219.2</td>\n",
       "      <td>surf</td>\n",
       "      <td>orlando_kissimmee_sanford,_fl_msa</td>\n",
       "    </tr>\n",
       "  </tbody>\n",
       "</table>\n",
       "<p>489 rows × 6 columns</p>\n",
       "</div>"
      ],
      "text/plain": [
       "     user_id  total_sessions  total_traffic  total_traffic_revenue      plan                                       city\n",
       "0       1000               5         2000.0                   70.0  ultimate      atlanta_sandy_springs_roswell,_ga_msa\n",
       "1       1001             245        83000.0                  259.2      surf            seattle_tacoma_bellevue,_wa_msa\n",
       "2       1002             124        42000.0                  106.4      surf       las_vegas_henderson_paradise,_nv_msa\n",
       "3       1003              52        28000.0                  146.4      surf                              tulsa,_ok_msa\n",
       "4       1004             460       159000.0                  608.4      surf            seattle_tacoma_bellevue,_wa_msa\n",
       "..       ...             ...            ...                    ...       ...                                        ...\n",
       "484     1495             290       100000.0                  465.6      surf  new_york_newark_jersey_city,_ny_nj_pa_msa\n",
       "485     1496             225        67000.0                  132.8      surf               new_orleans_metairie,_la_msa\n",
       "486     1497              31        12000.0                   70.0  ultimate     los_angeles_long_beach_anaheim,_ca_msa\n",
       "487     1498             657       232000.0                  854.0      surf  new_york_newark_jersey_city,_ny_nj_pa_msa\n",
       "488     1499             220        73000.0                  219.2      surf          orlando_kissimmee_sanford,_fl_msa\n",
       "\n",
       "[489 rows x 6 columns]"
      ]
     },
     "execution_count": 69,
     "metadata": {},
     "output_type": "execute_result"
    }
   ],
   "source": [
    "df_sessions_traffic_total"
   ]
  },
  {
   "cell_type": "code",
   "execution_count": 70,
   "id": "45aea194",
   "metadata": {},
   "outputs": [
    {
     "data": {
      "application/vnd.microsoft.datawrangler.viewer.v0+json": {
       "columns": [
        {
         "name": "index",
         "rawType": "int64",
         "type": "integer"
        },
        {
         "name": "user_id",
         "rawType": "int64",
         "type": "integer"
        },
        {
         "name": "full_name",
         "rawType": "string",
         "type": "string"
        },
        {
         "name": "age",
         "rawType": "int64",
         "type": "integer"
        },
        {
         "name": "city",
         "rawType": "string",
         "type": "string"
        },
        {
         "name": "reg_day",
         "rawType": "int32",
         "type": "integer"
        },
        {
         "name": "reg_month",
         "rawType": "int32",
         "type": "integer"
        },
        {
         "name": "churn_day",
         "rawType": "float64",
         "type": "float"
        },
        {
         "name": "churn_month",
         "rawType": "float64",
         "type": "float"
        },
        {
         "name": "plan",
         "rawType": "category",
         "type": "unknown"
        },
        {
         "name": "total_calls_duration",
         "rawType": "float64",
         "type": "float"
        },
        {
         "name": "total_calls_duration_revenue",
         "rawType": "float64",
         "type": "float"
        },
        {
         "name": "total_messages_amount",
         "rawType": "float64",
         "type": "float"
        },
        {
         "name": "total_messages_amount_revenue",
         "rawType": "float64",
         "type": "float"
        },
        {
         "name": "total_traffic_usage",
         "rawType": "float64",
         "type": "float"
        },
        {
         "name": "total_traffic_usage_revenue",
         "rawType": "float64",
         "type": "float"
        }
       ],
       "ref": "2941aac4-7976-4add-9898-a71982ca4dcc",
       "rows": [
        [
         "0",
         "1000",
         "anamaria_bauer",
         "45",
         "atlanta_sandy_springs_roswell,_ga_msa",
         "24",
         "12",
         null,
         null,
         "ultimate",
         "124.0",
         "70.0",
         "11.0",
         "70.0",
         "2000.0",
         "70.0"
        ],
        [
         "1",
         "1001",
         "mickey_wilkerson",
         "28",
         "seattle_tacoma_bellevue,_wa_msa",
         "13",
         "8",
         null,
         null,
         "surf",
         "1728.0",
         "100.0",
         "207.0",
         "100.09",
         "83000.0",
         "259.2"
        ],
        [
         "2",
         "1002",
         "carlee_hoffman",
         "36",
         "las_vegas_henderson_paradise,_nv_msa",
         "21",
         "10",
         null,
         null,
         "surf",
         "829.0",
         "60.0",
         "88.0",
         "60.0",
         "42000.0",
         "106.4"
        ],
        [
         "3",
         "1003",
         "reynaldo_jenkins",
         "52",
         "tulsa,_ok_msa",
         "28",
         "1",
         null,
         null,
         "surf",
         "1104.0",
         "38.12",
         "50.0",
         "20.0",
         "28000.0",
         "146.4"
        ],
        [
         "4",
         "1004",
         "leonila_thompson",
         "40",
         "seattle_tacoma_bellevue,_wa_msa",
         "23",
         "5",
         null,
         null,
         "surf",
         "2772.0",
         "160.0",
         "177.0",
         "160.0",
         "159000.0",
         "608.4"
        ],
        [
         "5",
         "1005",
         "livia_shields",
         "31",
         "dallas_fort_worth_arlington,_tx_msa",
         "29",
         "11",
         null,
         null,
         "surf",
         "496.0",
         "20.0",
         "11.0",
         "20.0",
         "18000.0",
         "46.4"
        ],
        [
         "6",
         "1006",
         "jesusa_bradford",
         "73",
         "san_francisco_oakland_berkeley,_ca_msa",
         "27",
         "11",
         "18.0",
         "12.0",
         "ultimate",
         "69.0",
         "140.0",
         "154.0",
         "140.0",
         "36000.0",
         "155.96"
        ],
        [
         "7",
         "1007",
         "eusebio_welch",
         "42",
         "grand_rapids_kentwood,_mi_msa",
         "11",
         "7",
         null,
         null,
         "surf",
         "2641.0",
         "108.58",
         "255.0",
         "100.3",
         "147000.0",
         "802.0"
        ],
        [
         "8",
         "1008",
         "emely_hoffman",
         "53",
         "orlando_kissimmee_sanford,_fl_msa",
         "3",
         "8",
         null,
         null,
         "ultimate",
         "1556.0",
         "210.0",
         "84.0",
         "210.0",
         "57000.0",
         "210.0"
        ],
        [
         "9",
         "1009",
         "gerry_little",
         "19",
         "san_jose_sunnyvale_santa_clara,_ca_msa",
         "22",
         "4",
         null,
         null,
         "surf",
         "5954.0",
         "218.62",
         null,
         null,
         "190000.0",
         "831.2"
        ],
        [
         "10",
         "1010",
         "wilber_blair",
         "52",
         "dallas_fort_worth_arlington,_tx_msa",
         "9",
         "3",
         null,
         null,
         "surf",
         "5075.0",
         "206.64",
         null,
         null,
         "139000.0",
         "328.4"
        ],
        [
         "11",
         "1011",
         "halina_henry",
         "73",
         "cleveland_elyria,_oh_msa",
         "18",
         "1",
         null,
         null,
         "ultimate",
         "2907.0",
         "490.0",
         "371.0",
         "490.0",
         "136000.0",
         "490.0"
        ],
        [
         "12",
         "1012",
         "jonelle_mcbride",
         "59",
         "chicago_naperville_elgin,_il_in_wi_msa",
         "28",
         "6",
         "16.0",
         "11.0",
         "surf",
         "153.0",
         "40.0",
         null,
         null,
         "26000.0",
         "40.0"
        ],
        [
         "13",
         "1013",
         "nicolas_snider",
         "50",
         "knoxville,_tn_msa",
         "1",
         "12",
         null,
         null,
         "ultimate",
         "219.0",
         "70.0",
         "16.0",
         "70.0",
         "21000.0",
         "70.0"
        ],
        [
         "14",
         "1014",
         "edmundo_simon",
         "61",
         "new_york_newark_jersey_city,_ny_nj_pa_msa",
         "25",
         "11",
         null,
         null,
         "surf",
         "1277.0",
         "58.42",
         "73.0",
         "40.42",
         "10000.0",
         "40.0"
        ],
        [
         "15",
         "1015",
         "beata_carpenter",
         "26",
         "pittsburgh,_pa_msa",
         "5",
         "12",
         null,
         null,
         "surf",
         "96.0",
         "20.0",
         "68.0",
         "20.54",
         "18000.0",
         "46.4"
        ],
        [
         "16",
         "1016",
         "jann_salinas",
         "30",
         "fresno,_ca_msa",
         "25",
         "10",
         null,
         null,
         "surf",
         "1659.0",
         "74.58",
         "95.0",
         "60.0",
         "61000.0",
         "322.8"
        ],
        [
         "17",
         "1017",
         "boris_gates",
         "61",
         "washington_arlington_alexandria,_dc_va_md_wv_msa",
         "26",
         "8",
         null,
         null,
         "surf",
         "1681.0",
         "100.0",
         "152.0",
         "100.0",
         "99000.0",
         "445.6"
        ],
        [
         "18",
         "1018",
         "dennis_grimes",
         "70",
         "indianapolis_carmel_anderson,_in_msa",
         "17",
         "10",
         null,
         null,
         "surf",
         "1296.0",
         "64.08",
         "16.0",
         "60.0",
         "43000.0",
         "92.8"
        ],
        [
         "19",
         "1019",
         "shizue_landry",
         "34",
         "jacksonville,_fl_msa",
         "16",
         "1",
         null,
         null,
         "surf",
         "511.0",
         "40.0",
         "152.0",
         "42.34",
         "33000.0",
         "176.4"
        ],
        [
         "20",
         "1020",
         "rutha_bell",
         "56",
         "dallas_fort_worth_arlington,_tx_msa",
         "8",
         "11",
         null,
         null,
         "surf",
         "930.0",
         "40.0",
         "4.0",
         "40.0",
         "33000.0",
         "86.4"
        ],
        [
         "21",
         "1021",
         "ricarda_booker",
         "37",
         "los_angeles_long_beach_anaheim,_ca_msa",
         "21",
         "12",
         null,
         null,
         "surf",
         "401.0",
         "20.0",
         null,
         null,
         "7000.0",
         "20.0"
        ],
        [
         "22",
         "1022",
         "bo_snow",
         "73",
         "new_york_newark_jersey_city,_ny_nj_pa_msa",
         "20",
         "4",
         "7.0",
         "9.0",
         "surf",
         "4065.0",
         "169.0",
         null,
         null,
         "137000.0",
         "462.0"
        ],
        [
         "23",
         "1023",
         "jack_delaney",
         "70",
         "omaha_council_bluffs,_ne_ia_msa",
         "6",
         "7",
         null,
         null,
         "surf",
         "115.0",
         "40.0",
         "11.0",
         "40.0",
         "20000.0",
         "40.0"
        ],
        [
         "24",
         "1024",
         "yuki_tyson",
         "74",
         "new_york_newark_jersey_city,_ny_nj_pa_msa",
         "21",
         "8",
         null,
         null,
         "surf",
         "564.0",
         "21.92",
         null,
         null,
         "11000.0",
         "20.0"
        ],
        [
         "25",
         "1025",
         "jess_wilkinson",
         "64",
         "atlanta_sandy_springs_roswell,_ga_msa",
         "28",
         "10",
         null,
         null,
         "ultimate",
         null,
         null,
         null,
         null,
         null,
         null
        ],
        [
         "26",
         "1026",
         "meggan_hamilton",
         "49",
         "houston_the_woodlands_sugar_land,_tx_msa",
         "20",
         "7",
         null,
         null,
         "ultimate",
         "357.0",
         "140.0",
         "22.0",
         "140.0",
         "14000.0",
         "140.0"
        ],
        [
         "27",
         "1027",
         "georgeanna_cardenas",
         "38",
         "new_york_newark_jersey_city,_ny_nj_pa_msa",
         "26",
         "6",
         null,
         null,
         "surf",
         "2143.0",
         "120.0",
         "78.0",
         "120.0",
         "95000.0",
         "209.2"
        ],
        [
         "28",
         "1028",
         "jefferey_rasmussen",
         "57",
         "philadelphia_camden_wilmington,_pa_nj_de_md_msa",
         "21",
         "2",
         null,
         null,
         "ultimate",
         "525.0",
         "700.0",
         "756.0",
         "770.0",
         "394000.0",
         "1312.64"
        ],
        [
         "29",
         "1029",
         "franklyn_henson",
         "59",
         "tampa_st_petersburg_clearwater,_fl_msa",
         "5",
         "1",
         null,
         null,
         "surf",
         "2768.0",
         "121.75",
         "50.0",
         "100.0",
         "70000.0",
         "192.8"
        ],
        [
         "30",
         "1030",
         "chase_kane",
         "30",
         "chicago_naperville_elgin,_il_in_wi_msa",
         "14",
         "2",
         null,
         null,
         "ultimate",
         "1358.0",
         "210.0",
         "30.0",
         "210.0",
         "45000.0",
         "210.0"
        ],
        [
         "31",
         "1031",
         "lane_martin",
         "52",
         "new_york_newark_jersey_city,_ny_nj_pa_msa",
         "15",
         "7",
         null,
         null,
         "ultimate",
         "2947.0",
         "420.0",
         "14.0",
         "420.0",
         "96000.0",
         "420.0"
        ],
        [
         "32",
         "1032",
         "delila_dalton",
         "59",
         "birmingham_hoover,_al_msa",
         "7",
         "6",
         null,
         null,
         "ultimate",
         "1072.0",
         "140.0",
         "42.0",
         "140.0",
         "30000.0",
         "140.0"
        ],
        [
         "33",
         "1033",
         "latoyia_moran",
         "28",
         "oklahoma_city,_ok_msa",
         "30",
         "5",
         null,
         null,
         "ultimate",
         "2547.0",
         "280.0",
         "108.0",
         "280.0",
         "85000.0",
         "280.0"
        ],
        [
         "34",
         "1034",
         "jc_gentry",
         "22",
         "new_york_newark_jersey_city,_ny_nj_pa_msa",
         "13",
         "8",
         null,
         null,
         "surf",
         "7.0",
         "20.0",
         "4.0",
         "20.0",
         "1000.0",
         "20.0"
        ],
        [
         "35",
         "1035",
         "jeff_cummings",
         "67",
         "charlotte_concord_gastonia,_nc_sc_msa",
         "8",
         "12",
         null,
         null,
         "surf",
         "627.0",
         "23.81",
         "66.0",
         "20.48",
         "16000.0",
         "26.4"
        ],
        [
         "36",
         "1036",
         "myron_hodge",
         "70",
         "denver_aurora_lakewood,_co_msa",
         "9",
         "5",
         null,
         null,
         "ultimate",
         "2815.0",
         "490.0",
         "438.0",
         "490.0",
         "82000.0",
         "490.0"
        ],
        [
         "37",
         "1037",
         "reena_velazquez",
         "20",
         "seattle_tacoma_bellevue,_wa_msa",
         "11",
         "8",
         null,
         null,
         "ultimate",
         "463.0",
         "70.0",
         "44.0",
         "70.0",
         "15000.0",
         "70.0"
        ],
        [
         "38",
         "1038",
         "olympia_velazquez",
         "32",
         "nashville_davidson_murfreesboro_franklin,_tn_msa",
         "25",
         "6",
         null,
         null,
         "ultimate",
         "1070.0",
         "210.0",
         "255.0",
         "210.0",
         "107000.0",
         "367.92"
        ],
        [
         "39",
         "1039",
         "flo_hicks",
         "56",
         "columbus,_oh_msa",
         "30",
         "5",
         null,
         null,
         "ultimate",
         "3214.0",
         "490.0",
         "147.0",
         "490.0",
         "132000.0",
         "490.0"
        ],
        [
         "40",
         "1040",
         "paris_santos",
         "72",
         "philadelphia_camden_wilmington,_pa_nj_de_md_msa",
         "23",
         "12",
         "30.0",
         "12.0",
         "surf",
         "294.0",
         "20.0",
         null,
         null,
         "17000.0",
         "36.4"
        ],
        [
         "41",
         "1041",
         "drucilla_lynn",
         "58",
         "las_vegas_henderson_paradise,_nv_msa",
         "17",
         "3",
         null,
         null,
         "ultimate",
         "3682.0",
         "700.0",
         null,
         null,
         "197000.0",
         "700.0"
        ],
        [
         "42",
         "1042",
         "clementina_mclaughlin",
         "40",
         "philadelphia_camden_wilmington,_pa_nj_de_md_msa",
         "15",
         "1",
         null,
         null,
         "surf",
         "3647.0",
         "240.0",
         null,
         null,
         "97000.0",
         "240.0"
        ],
        [
         "43",
         "1043",
         "carlos_hinton",
         "42",
         "new_york_newark_jersey_city,_ny_nj_pa_msa",
         "20",
         "6",
         null,
         null,
         "ultimate",
         "1317.0",
         "490.0",
         "599.0",
         "490.0",
         "207000.0",
         "597.8"
        ],
        [
         "44",
         "1044",
         "devora_galloway",
         "74",
         "albuquerque,_nm_msa",
         "30",
         "8",
         null,
         null,
         "surf",
         "1160.0",
         "100.0",
         "160.0",
         "80.0",
         "85000.0",
         "315.6"
        ],
        [
         "45",
         "1045",
         "barney_ortega",
         "20",
         "new_york_newark_jersey_city,_ny_nj_pa_msa",
         "15",
         "10",
         null,
         null,
         "surf",
         "1499.0",
         "65.7",
         "130.0",
         "60.0",
         "53000.0",
         "182.8"
        ],
        [
         "46",
         "1046",
         "beata_hooper",
         "67",
         "boston_cambridge_newton,_ma_nh_msa",
         "19",
         "2",
         null,
         null,
         "surf",
         "3529.0",
         "147.74",
         "238.0",
         "140.03",
         "151000.0",
         "632.0"
        ],
        [
         "47",
         "1047",
         "yuk_french",
         "22",
         "indianapolis_carmel_anderson,_in_msa",
         "16",
         "6",
         null,
         null,
         "ultimate",
         "369.0",
         "70.0",
         "7.0",
         "70.0",
         "18000.0",
         "70.0"
        ],
        [
         "48",
         "1048",
         "linwood_terrell",
         "42",
         "miami_fort_lauderdale_west_palm_beach,_fl_msa",
         "24",
         "8",
         null,
         null,
         "surf",
         "952.0",
         "100.0",
         null,
         null,
         "46000.0",
         "100.0"
        ],
        [
         "49",
         "1049",
         "loise_avery",
         "25",
         "new_york_newark_jersey_city,_ny_nj_pa_msa",
         "21",
         "2",
         null,
         null,
         "surf",
         "2835.0",
         "180.0",
         null,
         null,
         "79000.0",
         "180.0"
        ]
       ],
       "shape": {
        "columns": 15,
        "rows": 500
       }
      },
      "text/html": [
       "<div>\n",
       "<style scoped>\n",
       "    .dataframe tbody tr th:only-of-type {\n",
       "        vertical-align: middle;\n",
       "    }\n",
       "\n",
       "    .dataframe tbody tr th {\n",
       "        vertical-align: top;\n",
       "    }\n",
       "\n",
       "    .dataframe thead th {\n",
       "        text-align: right;\n",
       "    }\n",
       "</style>\n",
       "<table border=\"1\" class=\"dataframe\">\n",
       "  <thead>\n",
       "    <tr style=\"text-align: right;\">\n",
       "      <th></th>\n",
       "      <th>user_id</th>\n",
       "      <th>full_name</th>\n",
       "      <th>age</th>\n",
       "      <th>city</th>\n",
       "      <th>reg_day</th>\n",
       "      <th>reg_month</th>\n",
       "      <th>churn_day</th>\n",
       "      <th>churn_month</th>\n",
       "      <th>plan</th>\n",
       "      <th>total_calls_duration</th>\n",
       "      <th>total_calls_duration_revenue</th>\n",
       "      <th>total_messages_amount</th>\n",
       "      <th>total_messages_amount_revenue</th>\n",
       "      <th>total_traffic_usage</th>\n",
       "      <th>total_traffic_usage_revenue</th>\n",
       "    </tr>\n",
       "  </thead>\n",
       "  <tbody>\n",
       "    <tr>\n",
       "      <th>0</th>\n",
       "      <td>1000</td>\n",
       "      <td>anamaria_bauer</td>\n",
       "      <td>45</td>\n",
       "      <td>atlanta_sandy_springs_roswell,_ga_msa</td>\n",
       "      <td>24</td>\n",
       "      <td>12</td>\n",
       "      <td>NaN</td>\n",
       "      <td>NaN</td>\n",
       "      <td>ultimate</td>\n",
       "      <td>124.0</td>\n",
       "      <td>70.00</td>\n",
       "      <td>11.0</td>\n",
       "      <td>70.00</td>\n",
       "      <td>2000.0</td>\n",
       "      <td>70.0</td>\n",
       "    </tr>\n",
       "    <tr>\n",
       "      <th>1</th>\n",
       "      <td>1001</td>\n",
       "      <td>mickey_wilkerson</td>\n",
       "      <td>28</td>\n",
       "      <td>seattle_tacoma_bellevue,_wa_msa</td>\n",
       "      <td>13</td>\n",
       "      <td>8</td>\n",
       "      <td>NaN</td>\n",
       "      <td>NaN</td>\n",
       "      <td>surf</td>\n",
       "      <td>1728.0</td>\n",
       "      <td>100.00</td>\n",
       "      <td>207.0</td>\n",
       "      <td>100.09</td>\n",
       "      <td>83000.0</td>\n",
       "      <td>259.2</td>\n",
       "    </tr>\n",
       "    <tr>\n",
       "      <th>2</th>\n",
       "      <td>1002</td>\n",
       "      <td>carlee_hoffman</td>\n",
       "      <td>36</td>\n",
       "      <td>las_vegas_henderson_paradise,_nv_msa</td>\n",
       "      <td>21</td>\n",
       "      <td>10</td>\n",
       "      <td>NaN</td>\n",
       "      <td>NaN</td>\n",
       "      <td>surf</td>\n",
       "      <td>829.0</td>\n",
       "      <td>60.00</td>\n",
       "      <td>88.0</td>\n",
       "      <td>60.00</td>\n",
       "      <td>42000.0</td>\n",
       "      <td>106.4</td>\n",
       "    </tr>\n",
       "    <tr>\n",
       "      <th>3</th>\n",
       "      <td>1003</td>\n",
       "      <td>reynaldo_jenkins</td>\n",
       "      <td>52</td>\n",
       "      <td>tulsa,_ok_msa</td>\n",
       "      <td>28</td>\n",
       "      <td>1</td>\n",
       "      <td>NaN</td>\n",
       "      <td>NaN</td>\n",
       "      <td>surf</td>\n",
       "      <td>1104.0</td>\n",
       "      <td>38.12</td>\n",
       "      <td>50.0</td>\n",
       "      <td>20.00</td>\n",
       "      <td>28000.0</td>\n",
       "      <td>146.4</td>\n",
       "    </tr>\n",
       "    <tr>\n",
       "      <th>4</th>\n",
       "      <td>1004</td>\n",
       "      <td>leonila_thompson</td>\n",
       "      <td>40</td>\n",
       "      <td>seattle_tacoma_bellevue,_wa_msa</td>\n",
       "      <td>23</td>\n",
       "      <td>5</td>\n",
       "      <td>NaN</td>\n",
       "      <td>NaN</td>\n",
       "      <td>surf</td>\n",
       "      <td>2772.0</td>\n",
       "      <td>160.00</td>\n",
       "      <td>177.0</td>\n",
       "      <td>160.00</td>\n",
       "      <td>159000.0</td>\n",
       "      <td>608.4</td>\n",
       "    </tr>\n",
       "    <tr>\n",
       "      <th>...</th>\n",
       "      <td>...</td>\n",
       "      <td>...</td>\n",
       "      <td>...</td>\n",
       "      <td>...</td>\n",
       "      <td>...</td>\n",
       "      <td>...</td>\n",
       "      <td>...</td>\n",
       "      <td>...</td>\n",
       "      <td>...</td>\n",
       "      <td>...</td>\n",
       "      <td>...</td>\n",
       "      <td>...</td>\n",
       "      <td>...</td>\n",
       "      <td>...</td>\n",
       "      <td>...</td>\n",
       "    </tr>\n",
       "    <tr>\n",
       "      <th>495</th>\n",
       "      <td>1495</td>\n",
       "      <td>fidel_sharpe</td>\n",
       "      <td>67</td>\n",
       "      <td>new_york_newark_jersey_city,_ny_nj_pa_msa</td>\n",
       "      <td>4</td>\n",
       "      <td>9</td>\n",
       "      <td>NaN</td>\n",
       "      <td>NaN</td>\n",
       "      <td>surf</td>\n",
       "      <td>1765.0</td>\n",
       "      <td>83.30</td>\n",
       "      <td>NaN</td>\n",
       "      <td>NaN</td>\n",
       "      <td>100000.0</td>\n",
       "      <td>465.6</td>\n",
       "    </tr>\n",
       "    <tr>\n",
       "      <th>496</th>\n",
       "      <td>1496</td>\n",
       "      <td>ariel_shepherd</td>\n",
       "      <td>49</td>\n",
       "      <td>new_orleans_metairie,_la_msa</td>\n",
       "      <td>20</td>\n",
       "      <td>2</td>\n",
       "      <td>NaN</td>\n",
       "      <td>NaN</td>\n",
       "      <td>surf</td>\n",
       "      <td>1455.0</td>\n",
       "      <td>100.00</td>\n",
       "      <td>65.0</td>\n",
       "      <td>100.00</td>\n",
       "      <td>67000.0</td>\n",
       "      <td>132.8</td>\n",
       "    </tr>\n",
       "    <tr>\n",
       "      <th>497</th>\n",
       "      <td>1497</td>\n",
       "      <td>donte_barrera</td>\n",
       "      <td>49</td>\n",
       "      <td>los_angeles_long_beach_anaheim,_ca_msa</td>\n",
       "      <td>10</td>\n",
       "      <td>12</td>\n",
       "      <td>NaN</td>\n",
       "      <td>NaN</td>\n",
       "      <td>ultimate</td>\n",
       "      <td>300.0</td>\n",
       "      <td>70.00</td>\n",
       "      <td>50.0</td>\n",
       "      <td>70.00</td>\n",
       "      <td>12000.0</td>\n",
       "      <td>70.0</td>\n",
       "    </tr>\n",
       "    <tr>\n",
       "      <th>498</th>\n",
       "      <td>1498</td>\n",
       "      <td>scot_williamson</td>\n",
       "      <td>51</td>\n",
       "      <td>new_york_newark_jersey_city,_ny_nj_pa_msa</td>\n",
       "      <td>4</td>\n",
       "      <td>2</td>\n",
       "      <td>NaN</td>\n",
       "      <td>NaN</td>\n",
       "      <td>surf</td>\n",
       "      <td>3211.0</td>\n",
       "      <td>220.00</td>\n",
       "      <td>NaN</td>\n",
       "      <td>NaN</td>\n",
       "      <td>232000.0</td>\n",
       "      <td>854.0</td>\n",
       "    </tr>\n",
       "    <tr>\n",
       "      <th>499</th>\n",
       "      <td>1499</td>\n",
       "      <td>shena_dickson</td>\n",
       "      <td>37</td>\n",
       "      <td>orlando_kissimmee_sanford,_fl_msa</td>\n",
       "      <td>6</td>\n",
       "      <td>5</td>\n",
       "      <td>NaN</td>\n",
       "      <td>NaN</td>\n",
       "      <td>surf</td>\n",
       "      <td>1535.0</td>\n",
       "      <td>80.00</td>\n",
       "      <td>NaN</td>\n",
       "      <td>NaN</td>\n",
       "      <td>73000.0</td>\n",
       "      <td>219.2</td>\n",
       "    </tr>\n",
       "  </tbody>\n",
       "</table>\n",
       "<p>500 rows × 15 columns</p>\n",
       "</div>"
      ],
      "text/plain": [
       "     user_id         full_name  age                                       city  reg_day  reg_month  churn_day  churn_month      plan  \\\n",
       "0       1000    anamaria_bauer   45      atlanta_sandy_springs_roswell,_ga_msa       24         12        NaN          NaN  ultimate   \n",
       "1       1001  mickey_wilkerson   28            seattle_tacoma_bellevue,_wa_msa       13          8        NaN          NaN      surf   \n",
       "2       1002    carlee_hoffman   36       las_vegas_henderson_paradise,_nv_msa       21         10        NaN          NaN      surf   \n",
       "3       1003  reynaldo_jenkins   52                              tulsa,_ok_msa       28          1        NaN          NaN      surf   \n",
       "4       1004  leonila_thompson   40            seattle_tacoma_bellevue,_wa_msa       23          5        NaN          NaN      surf   \n",
       "..       ...               ...  ...                                        ...      ...        ...        ...          ...       ...   \n",
       "495     1495      fidel_sharpe   67  new_york_newark_jersey_city,_ny_nj_pa_msa        4          9        NaN          NaN      surf   \n",
       "496     1496    ariel_shepherd   49               new_orleans_metairie,_la_msa       20          2        NaN          NaN      surf   \n",
       "497     1497     donte_barrera   49     los_angeles_long_beach_anaheim,_ca_msa       10         12        NaN          NaN  ultimate   \n",
       "498     1498   scot_williamson   51  new_york_newark_jersey_city,_ny_nj_pa_msa        4          2        NaN          NaN      surf   \n",
       "499     1499     shena_dickson   37          orlando_kissimmee_sanford,_fl_msa        6          5        NaN          NaN      surf   \n",
       "\n",
       "     total_calls_duration  total_calls_duration_revenue  total_messages_amount  total_messages_amount_revenue  total_traffic_usage  \\\n",
       "0                   124.0                         70.00                   11.0                          70.00               2000.0   \n",
       "1                  1728.0                        100.00                  207.0                         100.09              83000.0   \n",
       "2                   829.0                         60.00                   88.0                          60.00              42000.0   \n",
       "3                  1104.0                         38.12                   50.0                          20.00              28000.0   \n",
       "4                  2772.0                        160.00                  177.0                         160.00             159000.0   \n",
       "..                    ...                           ...                    ...                            ...                  ...   \n",
       "495                1765.0                         83.30                    NaN                            NaN             100000.0   \n",
       "496                1455.0                        100.00                   65.0                         100.00              67000.0   \n",
       "497                 300.0                         70.00                   50.0                          70.00              12000.0   \n",
       "498                3211.0                        220.00                    NaN                            NaN             232000.0   \n",
       "499                1535.0                         80.00                    NaN                            NaN              73000.0   \n",
       "\n",
       "     total_traffic_usage_revenue  \n",
       "0                           70.0  \n",
       "1                          259.2  \n",
       "2                          106.4  \n",
       "3                          146.4  \n",
       "4                          608.4  \n",
       "..                           ...  \n",
       "495                        465.6  \n",
       "496                        132.8  \n",
       "497                         70.0  \n",
       "498                        854.0  \n",
       "499                        219.2  \n",
       "\n",
       "[500 rows x 15 columns]"
      ]
     },
     "execution_count": 70,
     "metadata": {},
     "output_type": "execute_result"
    }
   ],
   "source": [
    "df_revenue_total = df_revenue_total.merge(df_sessions_traffic_total[['user_id', 'total_traffic', 'total_traffic_revenue']], on='user_id', how='left')\n",
    "df_revenue_total = df_revenue_total.rename(columns={'total_traffic': 'total_traffic_usage', 'total_traffic_revenue': 'total_traffic_usage_revenue'})\n",
    "df_revenue_total"
   ]
  },
  {
   "cell_type": "code",
   "execution_count": 71,
   "id": "70c9d751",
   "metadata": {},
   "outputs": [],
   "source": [
    "project_root = Path.cwd().parent\n",
    "processed_path = project_root / \"data\" / \"processed\" / \"total\" / \"revenue_total.csv\"\n",
    "\n",
    "df_revenue_total.to_csv(processed_path, index=False)"
   ]
  },
  {
   "cell_type": "markdown",
   "id": "e7e5aaca",
   "metadata": {},
   "source": [
    "#### 4.5.2 Periodic activity per user"
   ]
  },
  {
   "cell_type": "code",
   "execution_count": 72,
   "id": "6fe4e280",
   "metadata": {},
   "outputs": [
    {
     "data": {
      "application/vnd.microsoft.datawrangler.viewer.v0+json": {
       "columns": [
        {
         "name": "index",
         "rawType": "int64",
         "type": "integer"
        },
        {
         "name": "user_id",
         "rawType": "int64",
         "type": "integer"
        },
        {
         "name": "month",
         "rawType": "int32",
         "type": "integer"
        },
        {
         "name": "day",
         "rawType": "int32",
         "type": "integer"
        },
        {
         "name": "calls_duration",
         "rawType": "float64",
         "type": "float"
        }
       ],
       "ref": "5c57e8a7-4827-41a4-a91f-adbb18c614e3",
       "rows": [
        [
         "0",
         "1000",
         "12",
         "26",
         "15.0"
        ],
        [
         "1",
         "1000",
         "12",
         "27",
         "50.0"
        ],
        [
         "2",
         "1000",
         "12",
         "28",
         "31.0"
        ],
        [
         "3",
         "1000",
         "12",
         "29",
         "2.0"
        ],
        [
         "4",
         "1000",
         "12",
         "30",
         "5.0"
        ],
        [
         "5",
         "1000",
         "12",
         "31",
         "21.0"
        ],
        [
         "6",
         "1001",
         "8",
         "14",
         "15.0"
        ],
        [
         "7",
         "1001",
         "8",
         "16",
         "25.0"
        ],
        [
         "8",
         "1001",
         "8",
         "17",
         "9.0"
        ],
        [
         "9",
         "1001",
         "8",
         "18",
         "2.0"
        ],
        [
         "10",
         "1001",
         "8",
         "19",
         "11.0"
        ],
        [
         "11",
         "1001",
         "8",
         "20",
         "8.0"
        ],
        [
         "12",
         "1001",
         "8",
         "21",
         "0.0"
        ],
        [
         "13",
         "1001",
         "8",
         "23",
         "10.0"
        ],
        [
         "14",
         "1001",
         "8",
         "24",
         "9.0"
        ],
        [
         "15",
         "1001",
         "8",
         "25",
         "36.0"
        ],
        [
         "16",
         "1001",
         "8",
         "27",
         "11.0"
        ],
        [
         "17",
         "1001",
         "8",
         "28",
         "21.0"
        ],
        [
         "18",
         "1001",
         "8",
         "29",
         "1.0"
        ],
        [
         "19",
         "1001",
         "8",
         "31",
         "24.0"
        ],
        [
         "20",
         "1001",
         "9",
         "1",
         "8.0"
        ],
        [
         "21",
         "1001",
         "9",
         "2",
         "11.0"
        ],
        [
         "22",
         "1001",
         "9",
         "3",
         "31.0"
        ],
        [
         "23",
         "1001",
         "9",
         "4",
         "0.0"
        ],
        [
         "24",
         "1001",
         "9",
         "5",
         "10.0"
        ],
        [
         "25",
         "1001",
         "9",
         "6",
         "11.0"
        ],
        [
         "26",
         "1001",
         "9",
         "7",
         "10.0"
        ],
        [
         "27",
         "1001",
         "9",
         "8",
         "8.0"
        ],
        [
         "28",
         "1001",
         "9",
         "9",
         "11.0"
        ],
        [
         "29",
         "1001",
         "9",
         "10",
         "0.0"
        ],
        [
         "30",
         "1001",
         "9",
         "11",
         "4.0"
        ],
        [
         "31",
         "1001",
         "9",
         "12",
         "10.0"
        ],
        [
         "32",
         "1001",
         "9",
         "13",
         "9.0"
        ],
        [
         "33",
         "1001",
         "9",
         "14",
         "23.0"
        ],
        [
         "34",
         "1001",
         "9",
         "15",
         "17.0"
        ],
        [
         "35",
         "1001",
         "9",
         "16",
         "5.0"
        ],
        [
         "36",
         "1001",
         "9",
         "17",
         "20.0"
        ],
        [
         "37",
         "1001",
         "9",
         "18",
         "9.0"
        ],
        [
         "38",
         "1001",
         "9",
         "20",
         "0.0"
        ],
        [
         "39",
         "1001",
         "9",
         "21",
         "22.0"
        ],
        [
         "40",
         "1001",
         "9",
         "22",
         "0.0"
        ],
        [
         "41",
         "1001",
         "9",
         "23",
         "7.0"
        ],
        [
         "42",
         "1001",
         "9",
         "24",
         "22.0"
        ],
        [
         "43",
         "1001",
         "9",
         "27",
         "2.0"
        ],
        [
         "44",
         "1001",
         "9",
         "28",
         "21.0"
        ],
        [
         "45",
         "1001",
         "9",
         "30",
         "44.0"
        ],
        [
         "46",
         "1001",
         "10",
         "2",
         "0.0"
        ],
        [
         "47",
         "1001",
         "10",
         "3",
         "13.0"
        ],
        [
         "48",
         "1001",
         "10",
         "4",
         "5.0"
        ],
        [
         "49",
         "1001",
         "10",
         "5",
         "10.0"
        ]
       ],
       "shape": {
        "columns": 4,
        "rows": 51959
       }
      },
      "text/html": [
       "<div>\n",
       "<style scoped>\n",
       "    .dataframe tbody tr th:only-of-type {\n",
       "        vertical-align: middle;\n",
       "    }\n",
       "\n",
       "    .dataframe tbody tr th {\n",
       "        vertical-align: top;\n",
       "    }\n",
       "\n",
       "    .dataframe thead th {\n",
       "        text-align: right;\n",
       "    }\n",
       "</style>\n",
       "<table border=\"1\" class=\"dataframe\">\n",
       "  <thead>\n",
       "    <tr style=\"text-align: right;\">\n",
       "      <th></th>\n",
       "      <th>user_id</th>\n",
       "      <th>month</th>\n",
       "      <th>day</th>\n",
       "      <th>calls_duration</th>\n",
       "    </tr>\n",
       "  </thead>\n",
       "  <tbody>\n",
       "    <tr>\n",
       "      <th>0</th>\n",
       "      <td>1000</td>\n",
       "      <td>12</td>\n",
       "      <td>26</td>\n",
       "      <td>15.0</td>\n",
       "    </tr>\n",
       "    <tr>\n",
       "      <th>1</th>\n",
       "      <td>1000</td>\n",
       "      <td>12</td>\n",
       "      <td>27</td>\n",
       "      <td>50.0</td>\n",
       "    </tr>\n",
       "    <tr>\n",
       "      <th>2</th>\n",
       "      <td>1000</td>\n",
       "      <td>12</td>\n",
       "      <td>28</td>\n",
       "      <td>31.0</td>\n",
       "    </tr>\n",
       "    <tr>\n",
       "      <th>3</th>\n",
       "      <td>1000</td>\n",
       "      <td>12</td>\n",
       "      <td>29</td>\n",
       "      <td>2.0</td>\n",
       "    </tr>\n",
       "    <tr>\n",
       "      <th>4</th>\n",
       "      <td>1000</td>\n",
       "      <td>12</td>\n",
       "      <td>30</td>\n",
       "      <td>5.0</td>\n",
       "    </tr>\n",
       "    <tr>\n",
       "      <th>...</th>\n",
       "      <td>...</td>\n",
       "      <td>...</td>\n",
       "      <td>...</td>\n",
       "      <td>...</td>\n",
       "    </tr>\n",
       "    <tr>\n",
       "      <th>51954</th>\n",
       "      <td>1499</td>\n",
       "      <td>12</td>\n",
       "      <td>27</td>\n",
       "      <td>9.0</td>\n",
       "    </tr>\n",
       "    <tr>\n",
       "      <th>51955</th>\n",
       "      <td>1499</td>\n",
       "      <td>12</td>\n",
       "      <td>28</td>\n",
       "      <td>9.0</td>\n",
       "    </tr>\n",
       "    <tr>\n",
       "      <th>51956</th>\n",
       "      <td>1499</td>\n",
       "      <td>12</td>\n",
       "      <td>29</td>\n",
       "      <td>22.0</td>\n",
       "    </tr>\n",
       "    <tr>\n",
       "      <th>51957</th>\n",
       "      <td>1499</td>\n",
       "      <td>12</td>\n",
       "      <td>30</td>\n",
       "      <td>5.0</td>\n",
       "    </tr>\n",
       "    <tr>\n",
       "      <th>51958</th>\n",
       "      <td>1499</td>\n",
       "      <td>12</td>\n",
       "      <td>31</td>\n",
       "      <td>36.0</td>\n",
       "    </tr>\n",
       "  </tbody>\n",
       "</table>\n",
       "<p>51959 rows × 4 columns</p>\n",
       "</div>"
      ],
      "text/plain": [
       "       user_id  month  day  calls_duration\n",
       "0         1000     12   26            15.0\n",
       "1         1000     12   27            50.0\n",
       "2         1000     12   28            31.0\n",
       "3         1000     12   29             2.0\n",
       "4         1000     12   30             5.0\n",
       "...        ...    ...  ...             ...\n",
       "51954     1499     12   27             9.0\n",
       "51955     1499     12   28             9.0\n",
       "51956     1499     12   29            22.0\n",
       "51957     1499     12   30             5.0\n",
       "51958     1499     12   31            36.0\n",
       "\n",
       "[51959 rows x 4 columns]"
      ]
     },
     "execution_count": 72,
     "metadata": {},
     "output_type": "execute_result"
    }
   ],
   "source": [
    "df_calls_duration_periodic_day = df_calls.groupby(['user_id', 'month', 'day'])['duration'].sum().reset_index()\n",
    "df_calls_duration_periodic_day = df_calls_duration_periodic_day.rename(columns={'duration': 'calls_duration'})\n",
    "df_calls_duration_periodic_day"
   ]
  },
  {
   "cell_type": "code",
   "execution_count": 73,
   "id": "827e62cc",
   "metadata": {},
   "outputs": [
    {
     "data": {
      "application/vnd.microsoft.datawrangler.viewer.v0+json": {
       "columns": [
        {
         "name": "('month', 'day')",
         "rawType": "object",
         "type": "unknown"
        },
        {
         "name": "calls_duration",
         "rawType": "float64",
         "type": "float"
        }
       ],
       "ref": "2583213f-320d-4818-97fc-c7debddcc055",
       "rows": [
        [
         "(np.int32(1), np.int32(15))",
         "32.0"
        ],
        [
         "(np.int32(1), np.int32(16))",
         "73.0"
        ],
        [
         "(np.int32(1), np.int32(17))",
         "29.0"
        ],
        [
         "(np.int32(1), np.int32(18))",
         "53.0"
        ],
        [
         "(np.int32(1), np.int32(19))",
         "76.0"
        ],
        [
         "(np.int32(1), np.int32(20))",
         "95.0"
        ],
        [
         "(np.int32(1), np.int32(21))",
         "56.0"
        ],
        [
         "(np.int32(1), np.int32(22))",
         "137.0"
        ],
        [
         "(np.int32(1), np.int32(23))",
         "122.0"
        ],
        [
         "(np.int32(1), np.int32(24))",
         "19.0"
        ],
        [
         "(np.int32(1), np.int32(25))",
         "74.0"
        ],
        [
         "(np.int32(1), np.int32(26))",
         "58.0"
        ],
        [
         "(np.int32(1), np.int32(27))",
         "69.0"
        ],
        [
         "(np.int32(1), np.int32(28))",
         "101.0"
        ],
        [
         "(np.int32(1), np.int32(29))",
         "80.0"
        ],
        [
         "(np.int32(1), np.int32(30))",
         "68.0"
        ],
        [
         "(np.int32(1), np.int32(31))",
         "38.0"
        ],
        [
         "(np.int32(2), np.int32(1))",
         "181.0"
        ],
        [
         "(np.int32(2), np.int32(2))",
         "131.0"
        ],
        [
         "(np.int32(2), np.int32(3))",
         "147.0"
        ],
        [
         "(np.int32(2), np.int32(4))",
         "95.0"
        ],
        [
         "(np.int32(2), np.int32(5))",
         "146.0"
        ],
        [
         "(np.int32(2), np.int32(6))",
         "103.0"
        ],
        [
         "(np.int32(2), np.int32(7))",
         "228.0"
        ],
        [
         "(np.int32(2), np.int32(8))",
         "218.0"
        ],
        [
         "(np.int32(2), np.int32(9))",
         "183.0"
        ],
        [
         "(np.int32(2), np.int32(10))",
         "129.0"
        ],
        [
         "(np.int32(2), np.int32(11))",
         "185.0"
        ],
        [
         "(np.int32(2), np.int32(12))",
         "196.0"
        ],
        [
         "(np.int32(2), np.int32(13))",
         "276.0"
        ],
        [
         "(np.int32(2), np.int32(14))",
         "163.0"
        ],
        [
         "(np.int32(2), np.int32(15))",
         "238.0"
        ],
        [
         "(np.int32(2), np.int32(16))",
         "264.0"
        ],
        [
         "(np.int32(2), np.int32(17))",
         "239.0"
        ],
        [
         "(np.int32(2), np.int32(18))",
         "190.0"
        ],
        [
         "(np.int32(2), np.int32(19))",
         "181.0"
        ],
        [
         "(np.int32(2), np.int32(20))",
         "189.0"
        ],
        [
         "(np.int32(2), np.int32(21))",
         "175.0"
        ],
        [
         "(np.int32(2), np.int32(22))",
         "240.0"
        ],
        [
         "(np.int32(2), np.int32(23))",
         "309.0"
        ],
        [
         "(np.int32(2), np.int32(24))",
         "192.0"
        ],
        [
         "(np.int32(2), np.int32(25))",
         "195.0"
        ],
        [
         "(np.int32(2), np.int32(26))",
         "286.0"
        ],
        [
         "(np.int32(2), np.int32(27))",
         "293.0"
        ],
        [
         "(np.int32(2), np.int32(28))",
         "123.0"
        ],
        [
         "(np.int32(3), np.int32(1))",
         "215.0"
        ],
        [
         "(np.int32(3), np.int32(2))",
         "198.0"
        ],
        [
         "(np.int32(3), np.int32(3))",
         "224.0"
        ],
        [
         "(np.int32(3), np.int32(4))",
         "252.0"
        ],
        [
         "(np.int32(3), np.int32(5))",
         "165.0"
        ]
       ],
       "shape": {
        "columns": 1,
        "rows": 351
       }
      },
      "text/plain": [
       "month  day\n",
       "1      15       32.0\n",
       "       16       73.0\n",
       "       17       29.0\n",
       "       18       53.0\n",
       "       19       76.0\n",
       "               ...  \n",
       "12     27     7906.0\n",
       "       28     7970.0\n",
       "       29     7770.0\n",
       "       30     7641.0\n",
       "       31     7734.0\n",
       "Name: calls_duration, Length: 351, dtype: float64"
      ]
     },
     "execution_count": 73,
     "metadata": {},
     "output_type": "execute_result"
    }
   ],
   "source": [
    "ds_calls_duration_periodic_day = df_calls_duration_periodic_day.groupby(['month', 'day'])['calls_duration'].sum()\n",
    "ds_calls_duration_periodic_day"
   ]
  },
  {
   "cell_type": "code",
   "execution_count": 74,
   "id": "fd299e56",
   "metadata": {},
   "outputs": [],
   "source": [
    "project_root = Path.cwd().parent\n",
    "processed_path = project_root / \"data\" / \"processed\" / \"periodic\" / \"calls_duration_periodic_day.csv\"\n",
    "\n",
    "ds_calls_duration_periodic_day.to_csv(processed_path, index=True)"
   ]
  },
  {
   "cell_type": "code",
   "execution_count": 75,
   "id": "56565a33",
   "metadata": {},
   "outputs": [
    {
     "data": {
      "application/vnd.microsoft.datawrangler.viewer.v0+json": {
       "columns": [
        {
         "name": "index",
         "rawType": "int64",
         "type": "integer"
        },
        {
         "name": "user_id",
         "rawType": "int64",
         "type": "integer"
        },
        {
         "name": "month",
         "rawType": "int32",
         "type": "integer"
        },
        {
         "name": "day",
         "rawType": "int32",
         "type": "integer"
        },
        {
         "name": "message_count",
         "rawType": "int64",
         "type": "integer"
        }
       ],
       "ref": "9b08d772-9ba9-46ed-bd82-1cdf6bce099d",
       "rows": [
        [
         "0",
         "1000",
         "12",
         "25",
         "1"
        ],
        [
         "1",
         "1000",
         "12",
         "26",
         "1"
        ],
        [
         "2",
         "1000",
         "12",
         "27",
         "3"
        ],
        [
         "3",
         "1000",
         "12",
         "28",
         "1"
        ],
        [
         "4",
         "1000",
         "12",
         "29",
         "1"
        ],
        [
         "5",
         "1000",
         "12",
         "30",
         "1"
        ],
        [
         "6",
         "1000",
         "12",
         "31",
         "3"
        ],
        [
         "7",
         "1001",
         "8",
         "14",
         "1"
        ],
        [
         "8",
         "1001",
         "8",
         "15",
         "4"
        ],
        [
         "9",
         "1001",
         "8",
         "16",
         "2"
        ],
        [
         "10",
         "1001",
         "8",
         "17",
         "2"
        ],
        [
         "11",
         "1001",
         "8",
         "19",
         "1"
        ],
        [
         "12",
         "1001",
         "8",
         "20",
         "2"
        ],
        [
         "13",
         "1001",
         "8",
         "21",
         "1"
        ],
        [
         "14",
         "1001",
         "8",
         "22",
         "2"
        ],
        [
         "15",
         "1001",
         "8",
         "23",
         "2"
        ],
        [
         "16",
         "1001",
         "8",
         "24",
         "1"
        ],
        [
         "17",
         "1001",
         "8",
         "26",
         "2"
        ],
        [
         "18",
         "1001",
         "8",
         "29",
         "4"
        ],
        [
         "19",
         "1001",
         "8",
         "30",
         "2"
        ],
        [
         "20",
         "1001",
         "8",
         "31",
         "4"
        ],
        [
         "21",
         "1001",
         "9",
         "1",
         "4"
        ],
        [
         "22",
         "1001",
         "9",
         "2",
         "3"
        ],
        [
         "23",
         "1001",
         "9",
         "3",
         "1"
        ],
        [
         "24",
         "1001",
         "9",
         "4",
         "2"
        ],
        [
         "25",
         "1001",
         "9",
         "6",
         "3"
        ],
        [
         "26",
         "1001",
         "9",
         "9",
         "1"
        ],
        [
         "27",
         "1001",
         "9",
         "10",
         "2"
        ],
        [
         "28",
         "1001",
         "9",
         "11",
         "1"
        ],
        [
         "29",
         "1001",
         "9",
         "13",
         "5"
        ],
        [
         "30",
         "1001",
         "9",
         "15",
         "1"
        ],
        [
         "31",
         "1001",
         "9",
         "17",
         "1"
        ],
        [
         "32",
         "1001",
         "9",
         "18",
         "3"
        ],
        [
         "33",
         "1001",
         "9",
         "19",
         "4"
        ],
        [
         "34",
         "1001",
         "9",
         "20",
         "2"
        ],
        [
         "35",
         "1001",
         "9",
         "21",
         "2"
        ],
        [
         "36",
         "1001",
         "9",
         "22",
         "1"
        ],
        [
         "37",
         "1001",
         "9",
         "23",
         "1"
        ],
        [
         "38",
         "1001",
         "9",
         "24",
         "2"
        ],
        [
         "39",
         "1001",
         "9",
         "25",
         "1"
        ],
        [
         "40",
         "1001",
         "9",
         "26",
         "1"
        ],
        [
         "41",
         "1001",
         "9",
         "27",
         "1"
        ],
        [
         "42",
         "1001",
         "9",
         "28",
         "1"
        ],
        [
         "43",
         "1001",
         "9",
         "29",
         "1"
        ],
        [
         "44",
         "1001",
         "10",
         "1",
         "1"
        ],
        [
         "45",
         "1001",
         "10",
         "2",
         "2"
        ],
        [
         "46",
         "1001",
         "10",
         "6",
         "1"
        ],
        [
         "47",
         "1001",
         "10",
         "8",
         "1"
        ],
        [
         "48",
         "1001",
         "10",
         "9",
         "3"
        ],
        [
         "49",
         "1001",
         "10",
         "10",
         "1"
        ]
       ],
       "shape": {
        "columns": 4,
        "rows": 33243
       }
      },
      "text/html": [
       "<div>\n",
       "<style scoped>\n",
       "    .dataframe tbody tr th:only-of-type {\n",
       "        vertical-align: middle;\n",
       "    }\n",
       "\n",
       "    .dataframe tbody tr th {\n",
       "        vertical-align: top;\n",
       "    }\n",
       "\n",
       "    .dataframe thead th {\n",
       "        text-align: right;\n",
       "    }\n",
       "</style>\n",
       "<table border=\"1\" class=\"dataframe\">\n",
       "  <thead>\n",
       "    <tr style=\"text-align: right;\">\n",
       "      <th></th>\n",
       "      <th>user_id</th>\n",
       "      <th>month</th>\n",
       "      <th>day</th>\n",
       "      <th>message_count</th>\n",
       "    </tr>\n",
       "  </thead>\n",
       "  <tbody>\n",
       "    <tr>\n",
       "      <th>0</th>\n",
       "      <td>1000</td>\n",
       "      <td>12</td>\n",
       "      <td>25</td>\n",
       "      <td>1</td>\n",
       "    </tr>\n",
       "    <tr>\n",
       "      <th>1</th>\n",
       "      <td>1000</td>\n",
       "      <td>12</td>\n",
       "      <td>26</td>\n",
       "      <td>1</td>\n",
       "    </tr>\n",
       "    <tr>\n",
       "      <th>2</th>\n",
       "      <td>1000</td>\n",
       "      <td>12</td>\n",
       "      <td>27</td>\n",
       "      <td>3</td>\n",
       "    </tr>\n",
       "    <tr>\n",
       "      <th>3</th>\n",
       "      <td>1000</td>\n",
       "      <td>12</td>\n",
       "      <td>28</td>\n",
       "      <td>1</td>\n",
       "    </tr>\n",
       "    <tr>\n",
       "      <th>4</th>\n",
       "      <td>1000</td>\n",
       "      <td>12</td>\n",
       "      <td>29</td>\n",
       "      <td>1</td>\n",
       "    </tr>\n",
       "    <tr>\n",
       "      <th>...</th>\n",
       "      <td>...</td>\n",
       "      <td>...</td>\n",
       "      <td>...</td>\n",
       "      <td>...</td>\n",
       "    </tr>\n",
       "    <tr>\n",
       "      <th>33238</th>\n",
       "      <td>1497</td>\n",
       "      <td>12</td>\n",
       "      <td>27</td>\n",
       "      <td>4</td>\n",
       "    </tr>\n",
       "    <tr>\n",
       "      <th>33239</th>\n",
       "      <td>1497</td>\n",
       "      <td>12</td>\n",
       "      <td>28</td>\n",
       "      <td>2</td>\n",
       "    </tr>\n",
       "    <tr>\n",
       "      <th>33240</th>\n",
       "      <td>1497</td>\n",
       "      <td>12</td>\n",
       "      <td>29</td>\n",
       "      <td>5</td>\n",
       "    </tr>\n",
       "    <tr>\n",
       "      <th>33241</th>\n",
       "      <td>1497</td>\n",
       "      <td>12</td>\n",
       "      <td>30</td>\n",
       "      <td>1</td>\n",
       "    </tr>\n",
       "    <tr>\n",
       "      <th>33242</th>\n",
       "      <td>1497</td>\n",
       "      <td>12</td>\n",
       "      <td>31</td>\n",
       "      <td>2</td>\n",
       "    </tr>\n",
       "  </tbody>\n",
       "</table>\n",
       "<p>33243 rows × 4 columns</p>\n",
       "</div>"
      ],
      "text/plain": [
       "       user_id  month  day  message_count\n",
       "0         1000     12   25              1\n",
       "1         1000     12   26              1\n",
       "2         1000     12   27              3\n",
       "3         1000     12   28              1\n",
       "4         1000     12   29              1\n",
       "...        ...    ...  ...            ...\n",
       "33238     1497     12   27              4\n",
       "33239     1497     12   28              2\n",
       "33240     1497     12   29              5\n",
       "33241     1497     12   30              1\n",
       "33242     1497     12   31              2\n",
       "\n",
       "[33243 rows x 4 columns]"
      ]
     },
     "execution_count": 75,
     "metadata": {},
     "output_type": "execute_result"
    }
   ],
   "source": [
    "df_messages_periodic_day = df_messages.groupby(['user_id', 'month', 'day'])['message_id'].count().reset_index()\n",
    "df_messages_periodic_day = df_messages_periodic_day.rename(columns={'message_id': 'message_count'})\n",
    "df_messages_periodic_day"
   ]
  },
  {
   "cell_type": "code",
   "execution_count": 76,
   "id": "182f7f6d",
   "metadata": {},
   "outputs": [
    {
     "data": {
      "application/vnd.microsoft.datawrangler.viewer.v0+json": {
       "columns": [
        {
         "name": "('month', 'day')",
         "rawType": "object",
         "type": "unknown"
        },
        {
         "name": "message_count",
         "rawType": "int64",
         "type": "integer"
        }
       ],
       "ref": "627bfce0-48f6-4c35-901f-610668bf5c50",
       "rows": [
        [
         "(np.int32(1), np.int32(15))",
         "2"
        ],
        [
         "(np.int32(1), np.int32(16))",
         "4"
        ],
        [
         "(np.int32(1), np.int32(17))",
         "6"
        ],
        [
         "(np.int32(1), np.int32(18))",
         "5"
        ],
        [
         "(np.int32(1), np.int32(19))",
         "1"
        ],
        [
         "(np.int32(1), np.int32(20))",
         "7"
        ],
        [
         "(np.int32(1), np.int32(21))",
         "3"
        ],
        [
         "(np.int32(1), np.int32(22))",
         "8"
        ],
        [
         "(np.int32(1), np.int32(23))",
         "8"
        ],
        [
         "(np.int32(1), np.int32(24))",
         "2"
        ],
        [
         "(np.int32(1), np.int32(25))",
         "6"
        ],
        [
         "(np.int32(1), np.int32(26))",
         "8"
        ],
        [
         "(np.int32(1), np.int32(27))",
         "4"
        ],
        [
         "(np.int32(1), np.int32(28))",
         "3"
        ],
        [
         "(np.int32(1), np.int32(29))",
         "4"
        ],
        [
         "(np.int32(1), np.int32(30))",
         "6"
        ],
        [
         "(np.int32(1), np.int32(31))",
         "6"
        ],
        [
         "(np.int32(2), np.int32(1))",
         "5"
        ],
        [
         "(np.int32(2), np.int32(2))",
         "4"
        ],
        [
         "(np.int32(2), np.int32(3))",
         "6"
        ],
        [
         "(np.int32(2), np.int32(4))",
         "6"
        ],
        [
         "(np.int32(2), np.int32(5))",
         "13"
        ],
        [
         "(np.int32(2), np.int32(6))",
         "13"
        ],
        [
         "(np.int32(2), np.int32(7))",
         "11"
        ],
        [
         "(np.int32(2), np.int32(8))",
         "7"
        ],
        [
         "(np.int32(2), np.int32(9))",
         "9"
        ],
        [
         "(np.int32(2), np.int32(10))",
         "8"
        ],
        [
         "(np.int32(2), np.int32(11))",
         "4"
        ],
        [
         "(np.int32(2), np.int32(12))",
         "8"
        ],
        [
         "(np.int32(2), np.int32(13))",
         "7"
        ],
        [
         "(np.int32(2), np.int32(14))",
         "9"
        ],
        [
         "(np.int32(2), np.int32(15))",
         "12"
        ],
        [
         "(np.int32(2), np.int32(16))",
         "6"
        ],
        [
         "(np.int32(2), np.int32(17))",
         "11"
        ],
        [
         "(np.int32(2), np.int32(18))",
         "2"
        ],
        [
         "(np.int32(2), np.int32(19))",
         "8"
        ],
        [
         "(np.int32(2), np.int32(20))",
         "7"
        ],
        [
         "(np.int32(2), np.int32(21))",
         "12"
        ],
        [
         "(np.int32(2), np.int32(22))",
         "13"
        ],
        [
         "(np.int32(2), np.int32(23))",
         "14"
        ],
        [
         "(np.int32(2), np.int32(24))",
         "14"
        ],
        [
         "(np.int32(2), np.int32(25))",
         "16"
        ],
        [
         "(np.int32(2), np.int32(26))",
         "12"
        ],
        [
         "(np.int32(2), np.int32(27))",
         "11"
        ],
        [
         "(np.int32(2), np.int32(28))",
         "11"
        ],
        [
         "(np.int32(3), np.int32(1))",
         "7"
        ],
        [
         "(np.int32(3), np.int32(2))",
         "11"
        ],
        [
         "(np.int32(3), np.int32(3))",
         "16"
        ],
        [
         "(np.int32(3), np.int32(4))",
         "13"
        ],
        [
         "(np.int32(3), np.int32(5))",
         "15"
        ]
       ],
       "shape": {
        "columns": 1,
        "rows": 351
       }
      },
      "text/plain": [
       "month  day\n",
       "1      15       2\n",
       "       16       4\n",
       "       17       6\n",
       "       18       5\n",
       "       19       1\n",
       "             ... \n",
       "12     27     701\n",
       "       28     702\n",
       "       29     680\n",
       "       30     683\n",
       "       31     699\n",
       "Name: message_count, Length: 351, dtype: int64"
      ]
     },
     "execution_count": 76,
     "metadata": {},
     "output_type": "execute_result"
    }
   ],
   "source": [
    "ds_messages_periodic_day = df_messages_periodic_day.groupby(['month', 'day'])['message_count'].sum()\n",
    "ds_messages_periodic_day"
   ]
  },
  {
   "cell_type": "code",
   "execution_count": 77,
   "id": "e09a45f9",
   "metadata": {},
   "outputs": [],
   "source": [
    "project_root = Path.cwd().parent\n",
    "processed_path = project_root / \"data\" / \"processed\" / \"periodic\" / \"messages_periodic_day.csv\"\n",
    "\n",
    "ds_messages_periodic_day.to_csv(processed_path, index=True)"
   ]
  },
  {
   "cell_type": "code",
   "execution_count": 78,
   "id": "e28cfcff",
   "metadata": {},
   "outputs": [
    {
     "data": {
      "application/vnd.microsoft.datawrangler.viewer.v0+json": {
       "columns": [
        {
         "name": "index",
         "rawType": "int64",
         "type": "integer"
        },
        {
         "name": "user_id",
         "rawType": "int64",
         "type": "integer"
        },
        {
         "name": "month",
         "rawType": "int32",
         "type": "integer"
        },
        {
         "name": "day",
         "rawType": "int32",
         "type": "integer"
        },
        {
         "name": "mb_used",
         "rawType": "float64",
         "type": "float"
        }
       ],
       "ref": "7b888a62-5046-41a4-81ef-dded5d61d30f",
       "rows": [
        [
         "0",
         "1000",
         "12",
         "26",
         "270.99"
        ],
        [
         "1",
         "1000",
         "12",
         "27",
         "880.22"
        ],
        [
         "2",
         "1000",
         "12",
         "28",
         "660.4"
        ],
        [
         "3",
         "1000",
         "12",
         "29",
         "89.86"
        ],
        [
         "4",
         "1000",
         "12",
         "31",
         "0.0"
        ],
        [
         "5",
         "1001",
         "8",
         "15",
         "210.82"
        ],
        [
         "6",
         "1001",
         "8",
         "16",
         "616.97"
        ],
        [
         "7",
         "1001",
         "8",
         "17",
         "547.6800000000001"
        ],
        [
         "8",
         "1001",
         "8",
         "18",
         "729.29"
        ],
        [
         "9",
         "1001",
         "8",
         "19",
         "131.69"
        ],
        [
         "10",
         "1001",
         "8",
         "20",
         "173.63"
        ],
        [
         "11",
         "1001",
         "8",
         "21",
         "0.0"
        ],
        [
         "12",
         "1001",
         "8",
         "22",
         "215.67"
        ],
        [
         "13",
         "1001",
         "8",
         "23",
         "649.55"
        ],
        [
         "14",
         "1001",
         "8",
         "24",
         "284.68"
        ],
        [
         "15",
         "1001",
         "8",
         "25",
         "1001.33"
        ],
        [
         "16",
         "1001",
         "8",
         "27",
         "106.97"
        ],
        [
         "17",
         "1001",
         "8",
         "28",
         "200.58"
        ],
        [
         "18",
         "1001",
         "8",
         "29",
         "546.77"
        ],
        [
         "19",
         "1001",
         "8",
         "30",
         "0.0"
        ],
        [
         "20",
         "1001",
         "8",
         "31",
         "1503.52"
        ],
        [
         "21",
         "1001",
         "9",
         "1",
         "686.71"
        ],
        [
         "22",
         "1001",
         "9",
         "2",
         "0.0"
        ],
        [
         "23",
         "1001",
         "9",
         "4",
         "42.34"
        ],
        [
         "24",
         "1001",
         "9",
         "5",
         "1349.32"
        ],
        [
         "25",
         "1001",
         "9",
         "6",
         "550.29"
        ],
        [
         "26",
         "1001",
         "9",
         "7",
         "706.59"
        ],
        [
         "27",
         "1001",
         "9",
         "8",
         "421.6"
        ],
        [
         "28",
         "1001",
         "9",
         "9",
         "1109.65"
        ],
        [
         "29",
         "1001",
         "9",
         "11",
         "181.42"
        ],
        [
         "30",
         "1001",
         "9",
         "12",
         "80.0"
        ],
        [
         "31",
         "1001",
         "9",
         "13",
         "0.0"
        ],
        [
         "32",
         "1001",
         "9",
         "16",
         "0.0"
        ],
        [
         "33",
         "1001",
         "9",
         "17",
         "1041.32"
        ],
        [
         "34",
         "1001",
         "9",
         "18",
         "636.77"
        ],
        [
         "35",
         "1001",
         "9",
         "19",
         "1174.73"
        ],
        [
         "36",
         "1001",
         "9",
         "20",
         "260.15"
        ],
        [
         "37",
         "1001",
         "9",
         "21",
         "281.98"
        ],
        [
         "38",
         "1001",
         "9",
         "22",
         "172.1"
        ],
        [
         "39",
         "1001",
         "9",
         "23",
         "1247.21"
        ],
        [
         "40",
         "1001",
         "9",
         "24",
         "910.24"
        ],
        [
         "41",
         "1001",
         "9",
         "25",
         "94.95"
        ],
        [
         "42",
         "1001",
         "9",
         "27",
         "1491.88"
        ],
        [
         "43",
         "1001",
         "9",
         "28",
         "490.3"
        ],
        [
         "44",
         "1001",
         "9",
         "29",
         "29.58"
        ],
        [
         "45",
         "1001",
         "9",
         "30",
         "355.69"
        ],
        [
         "46",
         "1001",
         "10",
         "1",
         "643.67"
        ],
        [
         "47",
         "1001",
         "10",
         "2",
         "866.75"
        ],
        [
         "48",
         "1001",
         "10",
         "3",
         "652.06"
        ],
        [
         "49",
         "1001",
         "10",
         "4",
         "1770.42"
        ]
       ],
       "shape": {
        "columns": 4,
        "rows": 49033
       }
      },
      "text/html": [
       "<div>\n",
       "<style scoped>\n",
       "    .dataframe tbody tr th:only-of-type {\n",
       "        vertical-align: middle;\n",
       "    }\n",
       "\n",
       "    .dataframe tbody tr th {\n",
       "        vertical-align: top;\n",
       "    }\n",
       "\n",
       "    .dataframe thead th {\n",
       "        text-align: right;\n",
       "    }\n",
       "</style>\n",
       "<table border=\"1\" class=\"dataframe\">\n",
       "  <thead>\n",
       "    <tr style=\"text-align: right;\">\n",
       "      <th></th>\n",
       "      <th>user_id</th>\n",
       "      <th>month</th>\n",
       "      <th>day</th>\n",
       "      <th>mb_used</th>\n",
       "    </tr>\n",
       "  </thead>\n",
       "  <tbody>\n",
       "    <tr>\n",
       "      <th>0</th>\n",
       "      <td>1000</td>\n",
       "      <td>12</td>\n",
       "      <td>26</td>\n",
       "      <td>270.99</td>\n",
       "    </tr>\n",
       "    <tr>\n",
       "      <th>1</th>\n",
       "      <td>1000</td>\n",
       "      <td>12</td>\n",
       "      <td>27</td>\n",
       "      <td>880.22</td>\n",
       "    </tr>\n",
       "    <tr>\n",
       "      <th>2</th>\n",
       "      <td>1000</td>\n",
       "      <td>12</td>\n",
       "      <td>28</td>\n",
       "      <td>660.40</td>\n",
       "    </tr>\n",
       "    <tr>\n",
       "      <th>3</th>\n",
       "      <td>1000</td>\n",
       "      <td>12</td>\n",
       "      <td>29</td>\n",
       "      <td>89.86</td>\n",
       "    </tr>\n",
       "    <tr>\n",
       "      <th>4</th>\n",
       "      <td>1000</td>\n",
       "      <td>12</td>\n",
       "      <td>31</td>\n",
       "      <td>0.00</td>\n",
       "    </tr>\n",
       "    <tr>\n",
       "      <th>...</th>\n",
       "      <td>...</td>\n",
       "      <td>...</td>\n",
       "      <td>...</td>\n",
       "      <td>...</td>\n",
       "    </tr>\n",
       "    <tr>\n",
       "      <th>49028</th>\n",
       "      <td>1499</td>\n",
       "      <td>12</td>\n",
       "      <td>25</td>\n",
       "      <td>924.14</td>\n",
       "    </tr>\n",
       "    <tr>\n",
       "      <th>49029</th>\n",
       "      <td>1499</td>\n",
       "      <td>12</td>\n",
       "      <td>26</td>\n",
       "      <td>823.03</td>\n",
       "    </tr>\n",
       "    <tr>\n",
       "      <th>49030</th>\n",
       "      <td>1499</td>\n",
       "      <td>12</td>\n",
       "      <td>29</td>\n",
       "      <td>2385.78</td>\n",
       "    </tr>\n",
       "    <tr>\n",
       "      <th>49031</th>\n",
       "      <td>1499</td>\n",
       "      <td>12</td>\n",
       "      <td>30</td>\n",
       "      <td>304.72</td>\n",
       "    </tr>\n",
       "    <tr>\n",
       "      <th>49032</th>\n",
       "      <td>1499</td>\n",
       "      <td>12</td>\n",
       "      <td>31</td>\n",
       "      <td>192.03</td>\n",
       "    </tr>\n",
       "  </tbody>\n",
       "</table>\n",
       "<p>49033 rows × 4 columns</p>\n",
       "</div>"
      ],
      "text/plain": [
       "       user_id  month  day  mb_used\n",
       "0         1000     12   26   270.99\n",
       "1         1000     12   27   880.22\n",
       "2         1000     12   28   660.40\n",
       "3         1000     12   29    89.86\n",
       "4         1000     12   31     0.00\n",
       "...        ...    ...  ...      ...\n",
       "49028     1499     12   25   924.14\n",
       "49029     1499     12   26   823.03\n",
       "49030     1499     12   29  2385.78\n",
       "49031     1499     12   30   304.72\n",
       "49032     1499     12   31   192.03\n",
       "\n",
       "[49033 rows x 4 columns]"
      ]
     },
     "execution_count": 78,
     "metadata": {},
     "output_type": "execute_result"
    }
   ],
   "source": [
    "df_internet_periodic_day = df_internet.groupby(['user_id', 'month', 'day'])['mb_used'].sum().reset_index()\n",
    "df_messages_periodic_day = df_messages_periodic_day.rename(columns={'mb_used': 'traffic_usage'})\n",
    "df_internet_periodic_day"
   ]
  },
  {
   "cell_type": "code",
   "execution_count": 82,
   "id": "a954898e",
   "metadata": {},
   "outputs": [
    {
     "data": {
      "application/vnd.microsoft.datawrangler.viewer.v0+json": {
       "columns": [
        {
         "name": "('month', 'day')",
         "rawType": "object",
         "type": "unknown"
        },
        {
         "name": "mb_used",
         "rawType": "float64",
         "type": "float"
        }
       ],
       "ref": "73e83491-dc75-4cae-bb96-bb8aa54fc41c",
       "rows": [
        [
         "(np.int32(1), np.int32(15))",
         "1193.9"
        ],
        [
         "(np.int32(1), np.int32(16))",
         "1776.09"
        ],
        [
         "(np.int32(1), np.int32(17))",
         "1202.33"
        ],
        [
         "(np.int32(1), np.int32(18))",
         "931.02"
        ],
        [
         "(np.int32(1), np.int32(19))",
         "2684.85"
        ],
        [
         "(np.int32(1), np.int32(20))",
         "474.39"
        ],
        [
         "(np.int32(1), np.int32(21))",
         "1550.84"
        ],
        [
         "(np.int32(1), np.int32(22))",
         "1513.04"
        ],
        [
         "(np.int32(1), np.int32(23))",
         "2002.4"
        ],
        [
         "(np.int32(1), np.int32(24))",
         "4100.12"
        ],
        [
         "(np.int32(1), np.int32(25))",
         "3586.52"
        ],
        [
         "(np.int32(1), np.int32(26))",
         "2818.98"
        ],
        [
         "(np.int32(1), np.int32(27))",
         "3225.77"
        ],
        [
         "(np.int32(1), np.int32(28))",
         "541.67"
        ],
        [
         "(np.int32(1), np.int32(29))",
         "2425.94"
        ],
        [
         "(np.int32(1), np.int32(30))",
         "2858.32"
        ],
        [
         "(np.int32(1), np.int32(31))",
         "4535.91"
        ],
        [
         "(np.int32(2), np.int32(1))",
         "5160.66"
        ],
        [
         "(np.int32(2), np.int32(2))",
         "2995.71"
        ],
        [
         "(np.int32(2), np.int32(3))",
         "5780.01"
        ],
        [
         "(np.int32(2), np.int32(4))",
         "6515.93"
        ],
        [
         "(np.int32(2), np.int32(5))",
         "9823.81"
        ],
        [
         "(np.int32(2), np.int32(6))",
         "5882.47"
        ],
        [
         "(np.int32(2), np.int32(7))",
         "11297.9"
        ],
        [
         "(np.int32(2), np.int32(8))",
         "5277.91"
        ],
        [
         "(np.int32(2), np.int32(9))",
         "6113.4"
        ],
        [
         "(np.int32(2), np.int32(10))",
         "7220.82"
        ],
        [
         "(np.int32(2), np.int32(11))",
         "10111.23"
        ],
        [
         "(np.int32(2), np.int32(12))",
         "4146.72"
        ],
        [
         "(np.int32(2), np.int32(13))",
         "7349.78"
        ],
        [
         "(np.int32(2), np.int32(14))",
         "7889.47"
        ],
        [
         "(np.int32(2), np.int32(15))",
         "7998.13"
        ],
        [
         "(np.int32(2), np.int32(16))",
         "5925.85"
        ],
        [
         "(np.int32(2), np.int32(17))",
         "8150.54"
        ],
        [
         "(np.int32(2), np.int32(18))",
         "6423.06"
        ],
        [
         "(np.int32(2), np.int32(19))",
         "6686.65"
        ],
        [
         "(np.int32(2), np.int32(20))",
         "7391.29"
        ],
        [
         "(np.int32(2), np.int32(21))",
         "4934.78"
        ],
        [
         "(np.int32(2), np.int32(22))",
         "10178.17"
        ],
        [
         "(np.int32(2), np.int32(23))",
         "12459.01"
        ],
        [
         "(np.int32(2), np.int32(24))",
         "14341.61"
        ],
        [
         "(np.int32(2), np.int32(25))",
         "9388.12"
        ],
        [
         "(np.int32(2), np.int32(26))",
         "12799.3"
        ],
        [
         "(np.int32(2), np.int32(27))",
         "12056.77"
        ],
        [
         "(np.int32(2), np.int32(28))",
         "15212.15"
        ],
        [
         "(np.int32(3), np.int32(1))",
         "6995.51"
        ],
        [
         "(np.int32(3), np.int32(2))",
         "11239.02"
        ],
        [
         "(np.int32(3), np.int32(3))",
         "11912.97"
        ],
        [
         "(np.int32(3), np.int32(4))",
         "13192.81"
        ],
        [
         "(np.int32(3), np.int32(5))",
         "10346.81"
        ]
       ],
       "shape": {
        "columns": 1,
        "rows": 351
       }
      },
      "text/plain": [
       "month  day\n",
       "1      15       1193.90\n",
       "       16       1776.09\n",
       "       17       1202.33\n",
       "       18        931.02\n",
       "       19       2684.85\n",
       "                ...    \n",
       "12     27     291749.27\n",
       "       28     291703.03\n",
       "       29     288687.21\n",
       "       30     324013.99\n",
       "       31     304138.13\n",
       "Name: mb_used, Length: 351, dtype: float64"
      ]
     },
     "execution_count": 82,
     "metadata": {},
     "output_type": "execute_result"
    }
   ],
   "source": [
    "ds_internet_periodic_day = np.round(df_internet_periodic_day.groupby(['month', 'day'])['mb_used'].sum(), 3)\n",
    "ds_internet_periodic_day"
   ]
  },
  {
   "cell_type": "code",
   "execution_count": 83,
   "id": "46d23e44",
   "metadata": {},
   "outputs": [],
   "source": [
    "project_root = Path.cwd().parent\n",
    "processed_path = project_root / \"data\" / \"processed\" / \"periodic\" / \"internet_periodic_day.csv\"\n",
    "\n",
    "ds_internet_periodic_day.to_csv(processed_path, index=True)"
   ]
  },
  {
   "cell_type": "markdown",
   "id": "30290218",
   "metadata": {},
   "source": [
    "#### 4.5.3 Periodic revenue per user"
   ]
  },
  {
   "cell_type": "code",
   "execution_count": null,
   "id": "24e27d5b",
   "metadata": {},
   "outputs": [],
   "source": [
    "df_revenue_periodic = df_users.loc[:, ['user_id', 'full_name', 'age', 'city', 'reg_day', 'reg_month', 'churn_day', 'churn_month', 'plan']]\n",
    "df_revenue_periodic"
   ]
  },
  {
   "cell_type": "code",
   "execution_count": null,
   "id": "f08a223f",
   "metadata": {},
   "outputs": [],
   "source": [
    "df_revenue_periodic = df_revenue_periodic.merge(df_calls_duration_periodic[['user_id', 'month', 'day', 'duration']], on='user_id', how='outer')\n",
    "df_revenue_periodic = df_revenue_periodic.rename(columns={'duration': 'calls_duration'})\n",
    "df_revenue_periodic"
   ]
  },
  {
   "cell_type": "code",
   "execution_count": null,
   "id": "3ef459a1",
   "metadata": {},
   "outputs": [],
   "source": [
    "df_revenue_periodic = df_revenue_periodic.merge(df_messages_periodic[['user_id', 'month', 'day', 'message_count']], on=['user_id', 'month', 'day'], how='outer')\n",
    "df_revenue_periodic = df_revenue_periodic.rename(columns={'message_count': 'messages_amount'})\n",
    "df_revenue_periodic"
   ]
  },
  {
   "cell_type": "code",
   "execution_count": null,
   "id": "7e9981ce",
   "metadata": {},
   "outputs": [],
   "source": [
    "dict_user_to_name = df_revenue_periodic.dropna(subset=['full_name']).drop_duplicates('user_id').set_index('user_id')['full_name'].to_dict()\n",
    "df_revenue_periodic['full_name'] = df_revenue_periodic['full_name'].fillna(df_revenue_periodic['user_id'].map(dict_user_to_name))\n"
   ]
  },
  {
   "cell_type": "code",
   "execution_count": null,
   "id": "bdb94636",
   "metadata": {},
   "outputs": [],
   "source": [
    "dict_user_to_age = df_revenue_periodic.dropna(subset=['age']).drop_duplicates('user_id').set_index('user_id')['age'].to_dict()\n",
    "df_revenue_periodic['age'] = df_revenue_periodic['age'].fillna(df_revenue_periodic['user_id'].map(dict_user_to_age))\n"
   ]
  },
  {
   "cell_type": "code",
   "execution_count": null,
   "id": "390086bd",
   "metadata": {},
   "outputs": [],
   "source": [
    "dict_user_to_city = df_revenue_periodic.dropna(subset=['city']).drop_duplicates('user_id').set_index('user_id')['city'].to_dict()\n",
    "df_revenue_periodic['city'] = df_revenue_periodic['city'].fillna(df_revenue_periodic['user_id'].map(dict_user_to_city))\n"
   ]
  },
  {
   "cell_type": "code",
   "execution_count": null,
   "id": "636c6ac1",
   "metadata": {},
   "outputs": [],
   "source": [
    "dict_user_to_regday = df_revenue_periodic.dropna(subset=['reg_day']).drop_duplicates('user_id').set_index('user_id')['reg_day'].to_dict()\n",
    "df_revenue_periodic['reg_day'] = df_revenue_periodic['reg_day'].fillna(df_revenue_periodic['user_id'].map(dict_user_to_regday))\n"
   ]
  },
  {
   "cell_type": "code",
   "execution_count": null,
   "id": "a6776787",
   "metadata": {},
   "outputs": [],
   "source": [
    "dict_user_to_regmonth = df_revenue_periodic.dropna(subset=['reg_month']).drop_duplicates('user_id').set_index('user_id')['reg_month'].to_dict()\n",
    "df_revenue_periodic['reg_month'] = df_revenue_periodic['reg_month'].fillna(df_revenue_periodic['user_id'].map(dict_user_to_regmonth))\n"
   ]
  },
  {
   "cell_type": "code",
   "execution_count": null,
   "id": "b2bf7562",
   "metadata": {},
   "outputs": [],
   "source": [
    "dict_user_to_churnday = df_revenue_periodic.dropna(subset=['churn_day']).drop_duplicates('user_id').set_index('user_id')['churn_day'].to_dict()\n",
    "df_revenue_periodic['churn_day'] = df_revenue_periodic['churn_day'].fillna(df_revenue_periodic['user_id'].map(dict_user_to_churnday))\n"
   ]
  },
  {
   "cell_type": "code",
   "execution_count": null,
   "id": "a503516d",
   "metadata": {},
   "outputs": [],
   "source": [
    "dict_user_to_churnmonth = df_revenue_periodic.dropna(subset=['churn_month']).drop_duplicates('user_id').set_index('user_id')['churn_month'].to_dict()\n",
    "df_revenue_periodic['churn_month'] = df_revenue_periodic['churn_month'].fillna(df_revenue_periodic['user_id'].map(dict_user_to_churnmonth))\n"
   ]
  },
  {
   "cell_type": "code",
   "execution_count": null,
   "id": "e6ff493e",
   "metadata": {},
   "outputs": [],
   "source": [
    "dict_user_to_plan = df_revenue_periodic.dropna(subset=['plan']).drop_duplicates('user_id').set_index('user_id')['plan'].to_dict()\n",
    "df_revenue_periodic['plan'] = df_revenue_periodic['plan'].fillna(df_revenue_periodic['user_id'].map(dict_user_to_plan))\n",
    "df_revenue_periodic"
   ]
  },
  {
   "cell_type": "code",
   "execution_count": null,
   "id": "8ee04808",
   "metadata": {},
   "outputs": [],
   "source": [
    "df_revenue_periodic = df_revenue_periodic.merge(df_internet_periodic[['user_id', 'month', 'day', 'mb_used']], on=['user_id', 'month', 'day'], how='outer')\n",
    "df_revenue_periodic = df_revenue_periodic.rename(columns={'mb_used': 'traffic_usage'})\n",
    "df_revenue_periodic"
   ]
  },
  {
   "cell_type": "code",
   "execution_count": null,
   "id": "93fe358f",
   "metadata": {},
   "outputs": [],
   "source": [
    "dict_user_to_name = df_revenue_periodic.dropna(subset=['full_name']).drop_duplicates('user_id').set_index('user_id')['full_name'].to_dict()\n",
    "df_revenue_periodic['full_name'] = df_revenue_periodic['full_name'].fillna(df_revenue_periodic['user_id'].map(dict_user_to_name))\n"
   ]
  },
  {
   "cell_type": "code",
   "execution_count": null,
   "id": "59ea117d",
   "metadata": {},
   "outputs": [],
   "source": [
    "dict_user_to_age = df_revenue_periodic.dropna(subset=['age']).drop_duplicates('user_id').set_index('user_id')['age'].to_dict()\n",
    "df_revenue_periodic['age'] = df_revenue_periodic['age'].fillna(df_revenue_periodic['user_id'].map(dict_user_to_age))\n"
   ]
  },
  {
   "cell_type": "code",
   "execution_count": null,
   "id": "5f7ff66e",
   "metadata": {},
   "outputs": [],
   "source": [
    "dict_user_to_city = df_revenue_periodic.dropna(subset=['city']).drop_duplicates('user_id').set_index('user_id')['city'].to_dict()\n",
    "df_revenue_periodic['city'] = df_revenue_periodic['city'].fillna(df_revenue_periodic['user_id'].map(dict_user_to_city))\n"
   ]
  },
  {
   "cell_type": "code",
   "execution_count": null,
   "id": "38198233",
   "metadata": {},
   "outputs": [],
   "source": [
    "dict_user_to_regday = df_revenue_periodic.dropna(subset=['reg_day']).drop_duplicates('user_id').set_index('user_id')['reg_day'].to_dict()\n",
    "df_revenue_periodic['reg_day'] = df_revenue_periodic['reg_day'].fillna(df_revenue_periodic['user_id'].map(dict_user_to_regday))\n"
   ]
  },
  {
   "cell_type": "code",
   "execution_count": null,
   "id": "addc1f9c",
   "metadata": {},
   "outputs": [],
   "source": [
    "dict_user_to_regmonth = df_revenue_periodic.dropna(subset=['reg_month']).drop_duplicates('user_id').set_index('user_id')['reg_month'].to_dict()\n",
    "df_revenue_periodic['reg_month'] = df_revenue_periodic['reg_month'].fillna(df_revenue_periodic['user_id'].map(dict_user_to_regmonth))\n"
   ]
  },
  {
   "cell_type": "code",
   "execution_count": null,
   "id": "a38cc93e",
   "metadata": {},
   "outputs": [],
   "source": [
    "dict_user_to_churnday = df_revenue_periodic.dropna(subset=['churn_day']).drop_duplicates('user_id').set_index('user_id')['churn_day'].to_dict()\n",
    "df_revenue_periodic['churn_day'] = df_revenue_periodic['churn_day'].fillna(df_revenue_periodic['user_id'].map(dict_user_to_churnday))\n"
   ]
  },
  {
   "cell_type": "code",
   "execution_count": null,
   "id": "979ec4a9",
   "metadata": {},
   "outputs": [],
   "source": [
    "dict_user_to_churnmonth = df_revenue_periodic.dropna(subset=['churn_month']).drop_duplicates('user_id').set_index('user_id')['churn_month'].to_dict()\n",
    "df_revenue_periodic['churn_month'] = df_revenue_periodic['churn_month'].fillna(df_revenue_periodic['user_id'].map(dict_user_to_churnmonth))\n"
   ]
  },
  {
   "cell_type": "code",
   "execution_count": null,
   "id": "176a41b5",
   "metadata": {},
   "outputs": [],
   "source": [
    "dict_user_to_plan = df_revenue_periodic.dropna(subset=['plan']).drop_duplicates('user_id').set_index('user_id')['plan'].to_dict()\n",
    "df_revenue_periodic['plan'] = df_revenue_periodic['plan'].fillna(df_revenue_periodic['user_id'].map(dict_user_to_plan))\n",
    "df_revenue_periodic"
   ]
  },
  {
   "cell_type": "code",
   "execution_count": null,
   "id": "117cf37e",
   "metadata": {},
   "outputs": [],
   "source": [
    "df_revenue_periodic[['calls_duration', 'messages_amount', 'traffic_usage']] = df_revenue_periodic[['calls_duration', 'messages_amount', 'traffic_usage']].fillna(0)\n",
    "df_revenue_periodic"
   ]
  },
  {
   "cell_type": "code",
   "execution_count": null,
   "id": "7fa2c8c1",
   "metadata": {},
   "outputs": [],
   "source": [
    "#\n",
    "print(df_revenue_periodic[['plan', 'calls_duration', 'messages_amount', 'traffic_usage']].isna().sum())\n",
    "print(df_revenue_periodic[['plan', 'calls_duration', 'messages_amount', 'traffic_usage']].dtypes)\n",
    "print(df_revenue_periodic[['plan', 'calls_duration', 'messages_amount', 'traffic_usage']].head(10))\n"
   ]
  },
  {
   "cell_type": "code",
   "execution_count": null,
   "id": "d06049c9",
   "metadata": {},
   "outputs": [],
   "source": [
    "calls_revenue_fn = partial(revenue, revenue_type='duration')\n",
    "traffic_revenue_fn = partial(revenue, revenue_type='traffic')\n",
    "messages_revenue_fn = partial(revenue, revenue_type='messages')\n",
    "total_revenue_fn = partial(revenue, revenue_type='total')\n"
   ]
  },
  {
   "cell_type": "code",
   "execution_count": null,
   "id": "365322f8",
   "metadata": {},
   "outputs": [],
   "source": [
    "df_revenue_periodic['calls_revenue'] = df_revenue_periodic.apply(calls_revenue_fn, axis=1)\n",
    "df_revenue_periodic['messages_revenue'] = df_revenue_periodic.apply(messages_revenue_fn, axis=1)\n",
    "df_revenue_periodic['traffic_revenue'] = df_revenue_periodic.apply(traffic_revenue_fn, axis=1)\n",
    "df_revenue_periodic['total_revenue'] = df_revenue_periodic.apply(total_revenue_fn, axis=1)\n"
   ]
  },
  {
   "cell_type": "code",
   "execution_count": null,
   "id": "889f9a34",
   "metadata": {},
   "outputs": [],
   "source": [
    "df_revenue_monthly = (\n",
    "    df_revenue_periodic.groupby('month', observed=False)[\n",
    "        ['calls_revenue', 'messages_revenue', 'traffic_revenue', 'total_revenue']\n",
    "    ]\n",
    "    .sum()\n",
    "    .reset_index()\n",
    ")\n",
    "\n",
    "df_revenue_monthly"
   ]
  },
  {
   "cell_type": "code",
   "execution_count": null,
   "id": "030ddbf3",
   "metadata": {},
   "outputs": [],
   "source": [
    "project_root = Path.cwd().parent\n",
    "processed_path = project_root / \"data\" / \"processed\" / \"periodic\" / \"revenue_monthly.csv\"\n",
    "\n",
    "df_revenue_monthly.to_csv(processed_path, index=False)"
   ]
  }
 ],
 "metadata": {
  "kernelspec": {
   "display_name": "Win11_Python-PipVenv-Github-Hmb7GD39",
   "language": "python",
   "name": "python3"
  },
  "language_info": {
   "codemirror_mode": {
    "name": "ipython",
    "version": 3
   },
   "file_extension": ".py",
   "mimetype": "text/x-python",
   "name": "python",
   "nbconvert_exporter": "python",
   "pygments_lexer": "ipython3",
   "version": "3.13.2"
  }
 },
 "nbformat": 4,
 "nbformat_minor": 5
}
