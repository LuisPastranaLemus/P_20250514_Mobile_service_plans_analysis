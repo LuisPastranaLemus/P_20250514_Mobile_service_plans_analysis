{
 "cells": [
  {
   "cell_type": "markdown",
   "id": "7849e41b",
   "metadata": {},
   "source": [
    "#### Feature Engineering  \n",
    "\n",
    "Dataset: \n",
    "- _calls_clean.csv_\n",
    "- _internet_clean.csv_\n",
    "- _messages_clean.csv_\n",
    "- _plans_clean.csv_\n",
    "- _users_clean.csv_\n",
    "\n",
    "Author: Luis Sergio Pastrana Lemus  \n",
    "Date: 2025-05-14"
   ]
  },
  {
   "cell_type": "markdown",
   "id": "19e2428c",
   "metadata": {},
   "source": [
    "# Feature engineering – Purchasing Activity Dataset"
   ]
  },
  {
   "cell_type": "markdown",
   "id": "415af0e2",
   "metadata": {},
   "source": [
    "## __1. Libraries__"
   ]
  },
  {
   "cell_type": "code",
   "execution_count": 1,
   "id": "eacf5d9a",
   "metadata": {},
   "outputs": [],
   "source": [
    "from IPython.display import display, HTML\n",
    "from functools import partial\n",
    "import numpy as np\n",
    "import os\n",
    "import pandas as pd\n",
    "from pathlib import Path\n",
    "import sys\n",
    "\n",
    "# Define project root dynamically, gets the current directory from whick the notebook belongs and moves one level upper\n",
    "project_root = Path.cwd().parent\n",
    "\n",
    "# Add src to sys.path if it is not already\n",
    "if str(project_root) not in sys.path:\n",
    "    sys.path.append(str(project_root))\n",
    "\n",
    "# Import function directly (more controlled than import *)\n",
    "from src import *"
   ]
  },
  {
   "cell_type": "markdown",
   "id": "3be37b0b",
   "metadata": {},
   "source": [
    "## __2. Path to Data file__"
   ]
  },
  {
   "cell_type": "code",
   "execution_count": 2,
   "id": "7e7a75e0",
   "metadata": {},
   "outputs": [],
   "source": [
    "# Build route to data file and upload\n",
    "data_file_path = project_root / \"data\" / \"processed\" / \"clean\"\n",
    "df_calls = load_dataset_from_csv(data_file_path, \"calls_clean.csv\", sep=',', header='infer')\n",
    "df_internet = load_dataset_from_csv(data_file_path, \"internet_clean.csv\", sep=',', header='infer')\n",
    "df_messages = load_dataset_from_csv(data_file_path, \"messages_clean.csv\", sep=',', header='infer')\n",
    "df_plans = load_dataset_from_csv(data_file_path, \"plans_clean.csv\", sep=',', header='infer')\n",
    "df_users = load_dataset_from_csv(data_file_path, \"users_clean.csv\", sep=',', header='infer')\n"
   ]
  },
  {
   "cell_type": "code",
   "execution_count": 3,
   "id": "db15faef",
   "metadata": {},
   "outputs": [],
   "source": [
    "# Format notebook output\n",
    "format_notebook()"
   ]
  },
  {
   "cell_type": "markdown",
   "id": "1f213604",
   "metadata": {},
   "source": [
    "## 3 __Functions__"
   ]
  },
  {
   "cell_type": "code",
   "execution_count": 4,
   "id": "16edc9f9",
   "metadata": {},
   "outputs": [],
   "source": [
    "# Function for calculating the revenue per user\n",
    "def revenue(row, revenue_type, column):\n",
    "    # Plan parameters\n",
    "    plans = {\n",
    "        'surf': {\n",
    "            'base_fee': 20, 'minutes_limit': 500, 'messages_limit': 50, 'mb_limit': 15360,\n",
    "            'minute_over': 0.03, 'message_over': 0.03, 'mb_over': 0.01\n",
    "        },\n",
    "        'ultimate': {\n",
    "            'base_fee': 70, 'minutes_limit': 3000, 'messages_limit': 1000, 'mb_limit': 30720,\n",
    "            'minute_over': 0.01, 'message_over': 0.01, 'mb_over': 0.007\n",
    "        }\n",
    "    }\n",
    "\n",
    "    # Basic validations\n",
    "    valid_types = {'total', 'duration', 'messages', 'traffic'}\n",
    "    if revenue_type not in valid_types:\n",
    "        display(HTML(f\"<b>Invalid</b> revenue_type: '<i>{revenue_type}</i>'. Must be one of <b>{valid_types}</b>\"))\n",
    "\n",
    "    plan = plans.get(row['plan'])\n",
    "    if not plan:\n",
    "        display(HTML(f\"> <b>Invalid</b> plan: <i>{row['plan']}</i>, correct options: <b<('surf', 'ultimate')</b>\"))\n",
    "\n",
    "    # Calculate overages\n",
    "    if revenue_type == 'duration':\n",
    "        return max(0, row[column] - plan['minutes_limit']) * plan['minute_over']\n",
    "\n",
    "    elif revenue_type == 'messages':\n",
    "        return max(0, row[column] - plan['messages_limit']) * plan['message_over']\n",
    "\n",
    "    elif revenue_type == 'traffic':\n",
    "        return max(0, row[column] - plan['mb_limit']) * plan['mb_over']\n",
    "\n",
    "    elif revenue_type == 'total':\n",
    "        duration_excess = max(0, row[column[0]] - plan['minutes_limit']) * plan['minute_over']\n",
    "        messages_excess = max(0, row[column[1]] - plan['messages_limit']) * plan['message_over']\n",
    "        traffic_excess = max(0, row[column[2]] - plan['mb_limit']) * plan['mb_over']\n",
    "        return plan['base_fee'] + duration_excess + messages_excess + traffic_excess\n"
   ]
  },
  {
   "cell_type": "markdown",
   "id": "c5bc07b2",
   "metadata": {},
   "source": [
    "## 4 __Casting to data types__"
   ]
  },
  {
   "cell_type": "markdown",
   "id": "2724341b",
   "metadata": {},
   "source": [
    "### 3.1 Casting to string data type"
   ]
  },
  {
   "cell_type": "code",
   "execution_count": 5,
   "id": "6df0cd4f",
   "metadata": {},
   "outputs": [
    {
     "data": {
      "text/plain": [
       "string[python]"
      ]
     },
     "execution_count": 5,
     "metadata": {},
     "output_type": "execute_result"
    }
   ],
   "source": [
    "# df_users 'first_name' to string\n",
    "df_users['first_name'] = df_users['first_name'].astype('string')\n",
    "df_users['first_name'].dtypes"
   ]
  },
  {
   "cell_type": "code",
   "execution_count": 6,
   "id": "78bbc0e7",
   "metadata": {},
   "outputs": [
    {
     "data": {
      "text/plain": [
       "string[python]"
      ]
     },
     "execution_count": 6,
     "metadata": {},
     "output_type": "execute_result"
    }
   ],
   "source": [
    "# df_users 'last_name' to string\n",
    "df_users['last_name'] = df_users['last_name'].astype('string')\n",
    "df_users['last_name'].dtypes"
   ]
  },
  {
   "cell_type": "code",
   "execution_count": 7,
   "id": "684700f2",
   "metadata": {},
   "outputs": [
    {
     "data": {
      "text/plain": [
       "string[python]"
      ]
     },
     "execution_count": 7,
     "metadata": {},
     "output_type": "execute_result"
    }
   ],
   "source": [
    "# df_users 'city to string\n",
    "df_users['city'] = df_users['city'].astype('string')\n",
    "df_users['city'].dtypes"
   ]
  },
  {
   "cell_type": "markdown",
   "id": "d0a6d354",
   "metadata": {},
   "source": [
    "### 3.2 Casting to category data type"
   ]
  },
  {
   "cell_type": "code",
   "execution_count": 8,
   "id": "f747ce83",
   "metadata": {},
   "outputs": [
    {
     "data": {
      "text/plain": [
       "CategoricalDtype(categories=['surf', 'ultimate'], ordered=False, categories_dtype=object)"
      ]
     },
     "execution_count": 8,
     "metadata": {},
     "output_type": "execute_result"
    }
   ],
   "source": [
    "# df_plans 'plan_name' to category\n",
    "df_plans['plan_name'] = df_plans['plan_name'].astype('category')\n",
    "df_plans['plan_name'].dtypes\n"
   ]
  },
  {
   "cell_type": "code",
   "execution_count": 9,
   "id": "11cebbdc",
   "metadata": {},
   "outputs": [
    {
     "data": {
      "text/plain": [
       "CategoricalDtype(categories=['surf', 'ultimate'], ordered=False, categories_dtype=object)"
      ]
     },
     "execution_count": 9,
     "metadata": {},
     "output_type": "execute_result"
    }
   ],
   "source": [
    "# df_users 'plan' to category\n",
    "df_users['plan'] = df_users['plan'].astype('category')\n",
    "df_users['plan'].dtypes"
   ]
  },
  {
   "cell_type": "markdown",
   "id": "530de5bc",
   "metadata": {},
   "source": [
    "### 3.3 Casting to datetime data type"
   ]
  },
  {
   "cell_type": "code",
   "execution_count": 10,
   "id": "7f97d129",
   "metadata": {},
   "outputs": [
    {
     "data": {
      "application/vnd.microsoft.datawrangler.viewer.v0+json": {
       "columns": [
        {
         "name": "index",
         "rawType": "object",
         "type": "string"
        },
        {
         "name": "0",
         "rawType": "object",
         "type": "unknown"
        }
       ],
       "ref": "7272c0b1-2518-4533-8753-bf133571dc4e",
       "rows": [
        [
         "call_id",
         "object"
        ],
        [
         "user_id",
         "int64"
        ],
        [
         "call_date",
         "datetime64[ns, UTC]"
        ],
        [
         "duration",
         "float64"
        ]
       ],
       "shape": {
        "columns": 1,
        "rows": 4
       }
      },
      "text/plain": [
       "call_id                   object\n",
       "user_id                    int64\n",
       "call_date    datetime64[ns, UTC]\n",
       "duration                 float64\n",
       "dtype: object"
      ]
     },
     "execution_count": 10,
     "metadata": {},
     "output_type": "execute_result"
    }
   ],
   "source": [
    "# df_calls 'call_date' to datetime\n",
    "df_calls = normalize_datetime(df_calls, include=['call_date'], frmt='%Y-%m-%d')\n",
    "df_calls.dtypes"
   ]
  },
  {
   "cell_type": "code",
   "execution_count": 11,
   "id": "fd765cfa",
   "metadata": {},
   "outputs": [
    {
     "data": {
      "application/vnd.microsoft.datawrangler.viewer.v0+json": {
       "columns": [
        {
         "name": "index",
         "rawType": "object",
         "type": "string"
        },
        {
         "name": "0",
         "rawType": "object",
         "type": "unknown"
        }
       ],
       "ref": "f8a0ea6c-ce13-4073-af3d-52870423c516",
       "rows": [
        [
         "session_id",
         "object"
        ],
        [
         "user_id",
         "int64"
        ],
        [
         "session_date",
         "datetime64[ns, UTC]"
        ],
        [
         "mb_used",
         "float64"
        ]
       ],
       "shape": {
        "columns": 1,
        "rows": 4
       }
      },
      "text/plain": [
       "session_id                   object\n",
       "user_id                       int64\n",
       "session_date    datetime64[ns, UTC]\n",
       "mb_used                     float64\n",
       "dtype: object"
      ]
     },
     "execution_count": 11,
     "metadata": {},
     "output_type": "execute_result"
    }
   ],
   "source": [
    "# df_internet 'session_date' to datetime\n",
    "df_internet = normalize_datetime(df_internet, include=['session_date'], frmt='%Y-%m-%d')\n",
    "df_internet.dtypes"
   ]
  },
  {
   "cell_type": "code",
   "execution_count": 12,
   "id": "a6234487",
   "metadata": {},
   "outputs": [
    {
     "data": {
      "application/vnd.microsoft.datawrangler.viewer.v0+json": {
       "columns": [
        {
         "name": "index",
         "rawType": "object",
         "type": "string"
        },
        {
         "name": "0",
         "rawType": "object",
         "type": "unknown"
        }
       ],
       "ref": "dc398af3-cbf4-405b-8dd1-1aeb00e8b0bd",
       "rows": [
        [
         "message_id",
         "object"
        ],
        [
         "user_id",
         "int64"
        ],
        [
         "message_date",
         "datetime64[ns, UTC]"
        ]
       ],
       "shape": {
        "columns": 1,
        "rows": 3
       }
      },
      "text/plain": [
       "message_id                   object\n",
       "user_id                       int64\n",
       "message_date    datetime64[ns, UTC]\n",
       "dtype: object"
      ]
     },
     "execution_count": 12,
     "metadata": {},
     "output_type": "execute_result"
    }
   ],
   "source": [
    "# df_messages 'messages_date' to datetime\n",
    "df_messages = normalize_datetime(df_messages, include=['message_date'], frmt='%Y-%m-%d')\n",
    "df_messages.dtypes"
   ]
  },
  {
   "cell_type": "code",
   "execution_count": 13,
   "id": "e2a8fd26",
   "metadata": {},
   "outputs": [],
   "source": [
    "# df_users 'reg_date' to datetime\n",
    "df_users = normalize_datetime(df_users, include=['reg_date'], frmt='%Y-%m-%d')\n"
   ]
  },
  {
   "cell_type": "code",
   "execution_count": 14,
   "id": "d808e897",
   "metadata": {},
   "outputs": [
    {
     "data": {
      "application/vnd.microsoft.datawrangler.viewer.v0+json": {
       "columns": [
        {
         "name": "index",
         "rawType": "object",
         "type": "string"
        },
        {
         "name": "0",
         "rawType": "object",
         "type": "unknown"
        }
       ],
       "ref": "4af10b86-1e65-4d9e-bfaa-ed239723aec0",
       "rows": [
        [
         "user_id",
         "int64"
        ],
        [
         "first_name",
         "string"
        ],
        [
         "last_name",
         "string"
        ],
        [
         "age",
         "int64"
        ],
        [
         "city",
         "string"
        ],
        [
         "reg_date",
         "datetime64[ns, UTC]"
        ],
        [
         "plan",
         "category"
        ],
        [
         "churn_date",
         "datetime64[ns, UTC]"
        ]
       ],
       "shape": {
        "columns": 1,
        "rows": 8
       }
      },
      "text/plain": [
       "user_id                     int64\n",
       "first_name         string[python]\n",
       "last_name          string[python]\n",
       "age                         int64\n",
       "city               string[python]\n",
       "reg_date      datetime64[ns, UTC]\n",
       "plan                     category\n",
       "churn_date    datetime64[ns, UTC]\n",
       "dtype: object"
      ]
     },
     "execution_count": 14,
     "metadata": {},
     "output_type": "execute_result"
    }
   ],
   "source": [
    "# df_users 'churn_date' to datetime\n",
    "df_users = normalize_datetime(df_users, include=['churn_date'], frmt='%Y-%m-%d')\n",
    "df_users.dtypes"
   ]
  },
  {
   "cell_type": "markdown",
   "id": "166c6add",
   "metadata": {},
   "source": [
    "## 4. Feature Engineering"
   ]
  },
  {
   "cell_type": "markdown",
   "id": "d97e720a",
   "metadata": {},
   "source": [
    "### 4.1 Datasets"
   ]
  },
  {
   "cell_type": "markdown",
   "id": "511db52e",
   "metadata": {},
   "source": [
    "#### 4.1.1 Calls"
   ]
  },
  {
   "cell_type": "code",
   "execution_count": 15,
   "id": "1e4d59ee",
   "metadata": {},
   "outputs": [
    {
     "data": {
      "application/vnd.microsoft.datawrangler.viewer.v0+json": {
       "columns": [
        {
         "name": "index",
         "rawType": "int64",
         "type": "integer"
        },
        {
         "name": "call_id",
         "rawType": "object",
         "type": "string"
        },
        {
         "name": "user_id",
         "rawType": "int64",
         "type": "integer"
        },
        {
         "name": "call_date",
         "rawType": "datetime64[ns, UTC]",
         "type": "unknown"
        },
        {
         "name": "duration",
         "rawType": "float64",
         "type": "float"
        }
       ],
       "ref": "d361beee-6013-4166-a9ef-0d30466eeeca",
       "rows": [
        [
         "0",
         "1000_93",
         "1000",
         "2018-12-27 00:00:00+00:00",
         "8.52"
        ],
        [
         "1",
         "1000_145",
         "1000",
         "2018-12-27 00:00:00+00:00",
         "13.66"
        ],
        [
         "2",
         "1000_247",
         "1000",
         "2018-12-27 00:00:00+00:00",
         "14.48"
        ],
        [
         "3",
         "1000_309",
         "1000",
         "2018-12-28 00:00:00+00:00",
         "5.76"
        ],
        [
         "4",
         "1000_380",
         "1000",
         "2018-12-30 00:00:00+00:00",
         "4.22"
        ],
        [
         "5",
         "1000_388",
         "1000",
         "2018-12-31 00:00:00+00:00",
         "2.2"
        ],
        [
         "6",
         "1000_510",
         "1000",
         "2018-12-27 00:00:00+00:00",
         "5.75"
        ],
        [
         "7",
         "1000_521",
         "1000",
         "2018-12-28 00:00:00+00:00",
         "14.18"
        ],
        [
         "8",
         "1000_530",
         "1000",
         "2018-12-28 00:00:00+00:00",
         "5.77"
        ],
        [
         "9",
         "1000_544",
         "1000",
         "2018-12-26 00:00:00+00:00",
         "4.4"
        ],
        [
         "10",
         "1000_693",
         "1000",
         "2018-12-31 00:00:00+00:00",
         "4.31"
        ],
        [
         "11",
         "1000_705",
         "1000",
         "2018-12-31 00:00:00+00:00",
         "12.78"
        ],
        [
         "12",
         "1000_735",
         "1000",
         "2018-12-29 00:00:00+00:00",
         "1.7"
        ],
        [
         "13",
         "1000_778",
         "1000",
         "2018-12-28 00:00:00+00:00",
         "3.29"
        ],
        [
         "14",
         "1000_826",
         "1000",
         "2018-12-26 00:00:00+00:00",
         "9.96"
        ],
        [
         "15",
         "1000_842",
         "1000",
         "2018-12-27 00:00:00+00:00",
         "5.85"
        ],
        [
         "16",
         "1001_0",
         "1001",
         "2018-09-06 00:00:00+00:00",
         "10.06"
        ],
        [
         "17",
         "1001_1",
         "1001",
         "2018-10-12 00:00:00+00:00",
         "1.0"
        ],
        [
         "18",
         "1001_2",
         "1001",
         "2018-10-17 00:00:00+00:00",
         "15.83"
        ],
        [
         "19",
         "1001_4",
         "1001",
         "2018-12-05 00:00:00+00:00",
         "0.0"
        ],
        [
         "20",
         "1001_5",
         "1001",
         "2018-12-13 00:00:00+00:00",
         "6.27"
        ],
        [
         "21",
         "1001_6",
         "1001",
         "2018-12-04 00:00:00+00:00",
         "7.19"
        ],
        [
         "22",
         "1001_8",
         "1001",
         "2018-11-17 00:00:00+00:00",
         "2.45"
        ],
        [
         "23",
         "1001_9",
         "1001",
         "2018-11-19 00:00:00+00:00",
         "2.4"
        ],
        [
         "24",
         "1001_11",
         "1001",
         "2018-11-09 00:00:00+00:00",
         "1.0"
        ],
        [
         "25",
         "1001_13",
         "1001",
         "2018-12-24 00:00:00+00:00",
         "0.0"
        ],
        [
         "26",
         "1001_19",
         "1001",
         "2018-11-15 00:00:00+00:00",
         "30.0"
        ],
        [
         "27",
         "1001_20",
         "1001",
         "2018-09-21 00:00:00+00:00",
         "5.75"
        ],
        [
         "28",
         "1001_23",
         "1001",
         "2018-10-27 00:00:00+00:00",
         "0.98"
        ],
        [
         "29",
         "1001_26",
         "1001",
         "2018-10-28 00:00:00+00:00",
         "5.9"
        ],
        [
         "30",
         "1001_29",
         "1001",
         "2018-09-30 00:00:00+00:00",
         "14.78"
        ],
        [
         "31",
         "1001_30",
         "1001",
         "2018-10-17 00:00:00+00:00",
         "0.0"
        ],
        [
         "32",
         "1001_31",
         "1001",
         "2018-11-03 00:00:00+00:00",
         "0.0"
        ],
        [
         "33",
         "1001_32",
         "1001",
         "2018-11-25 00:00:00+00:00",
         "3.99"
        ],
        [
         "34",
         "1001_35",
         "1001",
         "2018-12-21 00:00:00+00:00",
         "0.0"
        ],
        [
         "35",
         "1001_37",
         "1001",
         "2018-11-17 00:00:00+00:00",
         "15.85"
        ],
        [
         "36",
         "1001_39",
         "1001",
         "2018-12-07 00:00:00+00:00",
         "11.13"
        ],
        [
         "37",
         "1001_40",
         "1001",
         "2018-09-30 00:00:00+00:00",
         "18.6"
        ],
        [
         "38",
         "1001_42",
         "1001",
         "2018-08-28 00:00:00+00:00",
         "13.27"
        ],
        [
         "39",
         "1001_43",
         "1001",
         "2018-12-13 00:00:00+00:00",
         "0.0"
        ],
        [
         "40",
         "1001_44",
         "1001",
         "2018-12-01 00:00:00+00:00",
         "6.13"
        ],
        [
         "41",
         "1001_46",
         "1001",
         "2018-11-03 00:00:00+00:00",
         "0.95"
        ],
        [
         "42",
         "1001_47",
         "1001",
         "2018-11-08 00:00:00+00:00",
         "6.36"
        ],
        [
         "43",
         "1001_51",
         "1001",
         "2018-09-14 00:00:00+00:00",
         "16.03"
        ],
        [
         "44",
         "1001_52",
         "1001",
         "2018-11-23 00:00:00+00:00",
         "0.0"
        ],
        [
         "45",
         "1001_53",
         "1001",
         "2018-10-24 00:00:00+00:00",
         "0.0"
        ],
        [
         "46",
         "1001_54",
         "1001",
         "2018-12-11 00:00:00+00:00",
         "8.21"
        ],
        [
         "47",
         "1001_57",
         "1001",
         "2018-12-16 00:00:00+00:00",
         "21.3"
        ],
        [
         "48",
         "1001_59",
         "1001",
         "2018-12-19 00:00:00+00:00",
         "9.29"
        ],
        [
         "49",
         "1001_60",
         "1001",
         "2018-12-16 00:00:00+00:00",
         "0.0"
        ]
       ],
       "shape": {
        "columns": 4,
        "rows": 137735
       }
      },
      "text/html": [
       "<div>\n",
       "<style scoped>\n",
       "    .dataframe tbody tr th:only-of-type {\n",
       "        vertical-align: middle;\n",
       "    }\n",
       "\n",
       "    .dataframe tbody tr th {\n",
       "        vertical-align: top;\n",
       "    }\n",
       "\n",
       "    .dataframe thead th {\n",
       "        text-align: right;\n",
       "    }\n",
       "</style>\n",
       "<table border=\"1\" class=\"dataframe\">\n",
       "  <thead>\n",
       "    <tr style=\"text-align: right;\">\n",
       "      <th></th>\n",
       "      <th>call_id</th>\n",
       "      <th>user_id</th>\n",
       "      <th>call_date</th>\n",
       "      <th>duration</th>\n",
       "    </tr>\n",
       "  </thead>\n",
       "  <tbody>\n",
       "    <tr>\n",
       "      <th>0</th>\n",
       "      <td>1000_93</td>\n",
       "      <td>1000</td>\n",
       "      <td>2018-12-27 00:00:00+00:00</td>\n",
       "      <td>8.52</td>\n",
       "    </tr>\n",
       "    <tr>\n",
       "      <th>1</th>\n",
       "      <td>1000_145</td>\n",
       "      <td>1000</td>\n",
       "      <td>2018-12-27 00:00:00+00:00</td>\n",
       "      <td>13.66</td>\n",
       "    </tr>\n",
       "    <tr>\n",
       "      <th>2</th>\n",
       "      <td>1000_247</td>\n",
       "      <td>1000</td>\n",
       "      <td>2018-12-27 00:00:00+00:00</td>\n",
       "      <td>14.48</td>\n",
       "    </tr>\n",
       "    <tr>\n",
       "      <th>3</th>\n",
       "      <td>1000_309</td>\n",
       "      <td>1000</td>\n",
       "      <td>2018-12-28 00:00:00+00:00</td>\n",
       "      <td>5.76</td>\n",
       "    </tr>\n",
       "    <tr>\n",
       "      <th>4</th>\n",
       "      <td>1000_380</td>\n",
       "      <td>1000</td>\n",
       "      <td>2018-12-30 00:00:00+00:00</td>\n",
       "      <td>4.22</td>\n",
       "    </tr>\n",
       "    <tr>\n",
       "      <th>...</th>\n",
       "      <td>...</td>\n",
       "      <td>...</td>\n",
       "      <td>...</td>\n",
       "      <td>...</td>\n",
       "    </tr>\n",
       "    <tr>\n",
       "      <th>137730</th>\n",
       "      <td>1499_199</td>\n",
       "      <td>1499</td>\n",
       "      <td>2018-11-21 00:00:00+00:00</td>\n",
       "      <td>8.72</td>\n",
       "    </tr>\n",
       "    <tr>\n",
       "      <th>137731</th>\n",
       "      <td>1499_200</td>\n",
       "      <td>1499</td>\n",
       "      <td>2018-10-20 00:00:00+00:00</td>\n",
       "      <td>10.89</td>\n",
       "    </tr>\n",
       "    <tr>\n",
       "      <th>137732</th>\n",
       "      <td>1499_201</td>\n",
       "      <td>1499</td>\n",
       "      <td>2018-09-21 00:00:00+00:00</td>\n",
       "      <td>8.12</td>\n",
       "    </tr>\n",
       "    <tr>\n",
       "      <th>137733</th>\n",
       "      <td>1499_202</td>\n",
       "      <td>1499</td>\n",
       "      <td>2018-10-10 00:00:00+00:00</td>\n",
       "      <td>0.37</td>\n",
       "    </tr>\n",
       "    <tr>\n",
       "      <th>137734</th>\n",
       "      <td>1499_203</td>\n",
       "      <td>1499</td>\n",
       "      <td>2018-12-29 00:00:00+00:00</td>\n",
       "      <td>13.86</td>\n",
       "    </tr>\n",
       "  </tbody>\n",
       "</table>\n",
       "<p>137735 rows × 4 columns</p>\n",
       "</div>"
      ],
      "text/plain": [
       "         call_id  user_id                 call_date  duration\n",
       "0        1000_93     1000 2018-12-27 00:00:00+00:00      8.52\n",
       "1       1000_145     1000 2018-12-27 00:00:00+00:00     13.66\n",
       "2       1000_247     1000 2018-12-27 00:00:00+00:00     14.48\n",
       "3       1000_309     1000 2018-12-28 00:00:00+00:00      5.76\n",
       "4       1000_380     1000 2018-12-30 00:00:00+00:00      4.22\n",
       "...          ...      ...                       ...       ...\n",
       "137730  1499_199     1499 2018-11-21 00:00:00+00:00      8.72\n",
       "137731  1499_200     1499 2018-10-20 00:00:00+00:00     10.89\n",
       "137732  1499_201     1499 2018-09-21 00:00:00+00:00      8.12\n",
       "137733  1499_202     1499 2018-10-10 00:00:00+00:00      0.37\n",
       "137734  1499_203     1499 2018-12-29 00:00:00+00:00     13.86\n",
       "\n",
       "[137735 rows x 4 columns]"
      ]
     },
     "execution_count": 15,
     "metadata": {},
     "output_type": "execute_result"
    }
   ],
   "source": [
    "df_calls"
   ]
  },
  {
   "cell_type": "code",
   "execution_count": 16,
   "id": "724732b5",
   "metadata": {},
   "outputs": [],
   "source": [
    "# Each individual call is rounded up: even if the call lasted only one second\n",
    "df_calls['duration'] = np.ceil(df_calls['duration'])"
   ]
  },
  {
   "cell_type": "code",
   "execution_count": 17,
   "id": "e6140c8b",
   "metadata": {},
   "outputs": [],
   "source": [
    "# Add Month\n",
    "df_calls['month'] = df_calls['call_date'].dt.month"
   ]
  },
  {
   "cell_type": "code",
   "execution_count": 18,
   "id": "d675d0f9",
   "metadata": {},
   "outputs": [],
   "source": [
    "# Add Day\n",
    "df_calls['day'] = df_calls['call_date'].dt.day"
   ]
  },
  {
   "cell_type": "code",
   "execution_count": 19,
   "id": "245757c9",
   "metadata": {},
   "outputs": [
    {
     "data": {
      "application/vnd.microsoft.datawrangler.viewer.v0+json": {
       "columns": [
        {
         "name": "index",
         "rawType": "int64",
         "type": "integer"
        },
        {
         "name": "call_id",
         "rawType": "object",
         "type": "string"
        },
        {
         "name": "user_id",
         "rawType": "int64",
         "type": "integer"
        },
        {
         "name": "call_date",
         "rawType": "datetime64[ns, UTC]",
         "type": "unknown"
        },
        {
         "name": "duration",
         "rawType": "float64",
         "type": "float"
        },
        {
         "name": "month",
         "rawType": "int32",
         "type": "integer"
        },
        {
         "name": "day",
         "rawType": "int32",
         "type": "integer"
        }
       ],
       "ref": "b2261075-7b61-4257-ba39-4f9f79188ce7",
       "rows": [
        [
         "0",
         "1000_93",
         "1000",
         "2018-12-27 00:00:00+00:00",
         "9.0",
         "12",
         "27"
        ],
        [
         "1",
         "1000_145",
         "1000",
         "2018-12-27 00:00:00+00:00",
         "14.0",
         "12",
         "27"
        ],
        [
         "2",
         "1000_247",
         "1000",
         "2018-12-27 00:00:00+00:00",
         "15.0",
         "12",
         "27"
        ],
        [
         "3",
         "1000_309",
         "1000",
         "2018-12-28 00:00:00+00:00",
         "6.0",
         "12",
         "28"
        ],
        [
         "4",
         "1000_380",
         "1000",
         "2018-12-30 00:00:00+00:00",
         "5.0",
         "12",
         "30"
        ],
        [
         "5",
         "1000_388",
         "1000",
         "2018-12-31 00:00:00+00:00",
         "3.0",
         "12",
         "31"
        ],
        [
         "6",
         "1000_510",
         "1000",
         "2018-12-27 00:00:00+00:00",
         "6.0",
         "12",
         "27"
        ],
        [
         "7",
         "1000_521",
         "1000",
         "2018-12-28 00:00:00+00:00",
         "15.0",
         "12",
         "28"
        ],
        [
         "8",
         "1000_530",
         "1000",
         "2018-12-28 00:00:00+00:00",
         "6.0",
         "12",
         "28"
        ],
        [
         "9",
         "1000_544",
         "1000",
         "2018-12-26 00:00:00+00:00",
         "5.0",
         "12",
         "26"
        ],
        [
         "10",
         "1000_693",
         "1000",
         "2018-12-31 00:00:00+00:00",
         "5.0",
         "12",
         "31"
        ],
        [
         "11",
         "1000_705",
         "1000",
         "2018-12-31 00:00:00+00:00",
         "13.0",
         "12",
         "31"
        ],
        [
         "12",
         "1000_735",
         "1000",
         "2018-12-29 00:00:00+00:00",
         "2.0",
         "12",
         "29"
        ],
        [
         "13",
         "1000_778",
         "1000",
         "2018-12-28 00:00:00+00:00",
         "4.0",
         "12",
         "28"
        ],
        [
         "14",
         "1000_826",
         "1000",
         "2018-12-26 00:00:00+00:00",
         "10.0",
         "12",
         "26"
        ],
        [
         "15",
         "1000_842",
         "1000",
         "2018-12-27 00:00:00+00:00",
         "6.0",
         "12",
         "27"
        ],
        [
         "16",
         "1001_0",
         "1001",
         "2018-09-06 00:00:00+00:00",
         "11.0",
         "9",
         "6"
        ],
        [
         "17",
         "1001_1",
         "1001",
         "2018-10-12 00:00:00+00:00",
         "1.0",
         "10",
         "12"
        ],
        [
         "18",
         "1001_2",
         "1001",
         "2018-10-17 00:00:00+00:00",
         "16.0",
         "10",
         "17"
        ],
        [
         "19",
         "1001_4",
         "1001",
         "2018-12-05 00:00:00+00:00",
         "0.0",
         "12",
         "5"
        ],
        [
         "20",
         "1001_5",
         "1001",
         "2018-12-13 00:00:00+00:00",
         "7.0",
         "12",
         "13"
        ],
        [
         "21",
         "1001_6",
         "1001",
         "2018-12-04 00:00:00+00:00",
         "8.0",
         "12",
         "4"
        ],
        [
         "22",
         "1001_8",
         "1001",
         "2018-11-17 00:00:00+00:00",
         "3.0",
         "11",
         "17"
        ],
        [
         "23",
         "1001_9",
         "1001",
         "2018-11-19 00:00:00+00:00",
         "3.0",
         "11",
         "19"
        ],
        [
         "24",
         "1001_11",
         "1001",
         "2018-11-09 00:00:00+00:00",
         "1.0",
         "11",
         "9"
        ],
        [
         "25",
         "1001_13",
         "1001",
         "2018-12-24 00:00:00+00:00",
         "0.0",
         "12",
         "24"
        ],
        [
         "26",
         "1001_19",
         "1001",
         "2018-11-15 00:00:00+00:00",
         "30.0",
         "11",
         "15"
        ],
        [
         "27",
         "1001_20",
         "1001",
         "2018-09-21 00:00:00+00:00",
         "6.0",
         "9",
         "21"
        ],
        [
         "28",
         "1001_23",
         "1001",
         "2018-10-27 00:00:00+00:00",
         "1.0",
         "10",
         "27"
        ],
        [
         "29",
         "1001_26",
         "1001",
         "2018-10-28 00:00:00+00:00",
         "6.0",
         "10",
         "28"
        ],
        [
         "30",
         "1001_29",
         "1001",
         "2018-09-30 00:00:00+00:00",
         "15.0",
         "9",
         "30"
        ],
        [
         "31",
         "1001_30",
         "1001",
         "2018-10-17 00:00:00+00:00",
         "0.0",
         "10",
         "17"
        ],
        [
         "32",
         "1001_31",
         "1001",
         "2018-11-03 00:00:00+00:00",
         "0.0",
         "11",
         "3"
        ],
        [
         "33",
         "1001_32",
         "1001",
         "2018-11-25 00:00:00+00:00",
         "4.0",
         "11",
         "25"
        ],
        [
         "34",
         "1001_35",
         "1001",
         "2018-12-21 00:00:00+00:00",
         "0.0",
         "12",
         "21"
        ],
        [
         "35",
         "1001_37",
         "1001",
         "2018-11-17 00:00:00+00:00",
         "16.0",
         "11",
         "17"
        ],
        [
         "36",
         "1001_39",
         "1001",
         "2018-12-07 00:00:00+00:00",
         "12.0",
         "12",
         "7"
        ],
        [
         "37",
         "1001_40",
         "1001",
         "2018-09-30 00:00:00+00:00",
         "19.0",
         "9",
         "30"
        ],
        [
         "38",
         "1001_42",
         "1001",
         "2018-08-28 00:00:00+00:00",
         "14.0",
         "8",
         "28"
        ],
        [
         "39",
         "1001_43",
         "1001",
         "2018-12-13 00:00:00+00:00",
         "0.0",
         "12",
         "13"
        ],
        [
         "40",
         "1001_44",
         "1001",
         "2018-12-01 00:00:00+00:00",
         "7.0",
         "12",
         "1"
        ],
        [
         "41",
         "1001_46",
         "1001",
         "2018-11-03 00:00:00+00:00",
         "1.0",
         "11",
         "3"
        ],
        [
         "42",
         "1001_47",
         "1001",
         "2018-11-08 00:00:00+00:00",
         "7.0",
         "11",
         "8"
        ],
        [
         "43",
         "1001_51",
         "1001",
         "2018-09-14 00:00:00+00:00",
         "17.0",
         "9",
         "14"
        ],
        [
         "44",
         "1001_52",
         "1001",
         "2018-11-23 00:00:00+00:00",
         "0.0",
         "11",
         "23"
        ],
        [
         "45",
         "1001_53",
         "1001",
         "2018-10-24 00:00:00+00:00",
         "0.0",
         "10",
         "24"
        ],
        [
         "46",
         "1001_54",
         "1001",
         "2018-12-11 00:00:00+00:00",
         "9.0",
         "12",
         "11"
        ],
        [
         "47",
         "1001_57",
         "1001",
         "2018-12-16 00:00:00+00:00",
         "22.0",
         "12",
         "16"
        ],
        [
         "48",
         "1001_59",
         "1001",
         "2018-12-19 00:00:00+00:00",
         "10.0",
         "12",
         "19"
        ],
        [
         "49",
         "1001_60",
         "1001",
         "2018-12-16 00:00:00+00:00",
         "0.0",
         "12",
         "16"
        ]
       ],
       "shape": {
        "columns": 6,
        "rows": 137735
       }
      },
      "text/html": [
       "<div>\n",
       "<style scoped>\n",
       "    .dataframe tbody tr th:only-of-type {\n",
       "        vertical-align: middle;\n",
       "    }\n",
       "\n",
       "    .dataframe tbody tr th {\n",
       "        vertical-align: top;\n",
       "    }\n",
       "\n",
       "    .dataframe thead th {\n",
       "        text-align: right;\n",
       "    }\n",
       "</style>\n",
       "<table border=\"1\" class=\"dataframe\">\n",
       "  <thead>\n",
       "    <tr style=\"text-align: right;\">\n",
       "      <th></th>\n",
       "      <th>call_id</th>\n",
       "      <th>user_id</th>\n",
       "      <th>call_date</th>\n",
       "      <th>duration</th>\n",
       "      <th>month</th>\n",
       "      <th>day</th>\n",
       "    </tr>\n",
       "  </thead>\n",
       "  <tbody>\n",
       "    <tr>\n",
       "      <th>0</th>\n",
       "      <td>1000_93</td>\n",
       "      <td>1000</td>\n",
       "      <td>2018-12-27 00:00:00+00:00</td>\n",
       "      <td>9.0</td>\n",
       "      <td>12</td>\n",
       "      <td>27</td>\n",
       "    </tr>\n",
       "    <tr>\n",
       "      <th>1</th>\n",
       "      <td>1000_145</td>\n",
       "      <td>1000</td>\n",
       "      <td>2018-12-27 00:00:00+00:00</td>\n",
       "      <td>14.0</td>\n",
       "      <td>12</td>\n",
       "      <td>27</td>\n",
       "    </tr>\n",
       "    <tr>\n",
       "      <th>2</th>\n",
       "      <td>1000_247</td>\n",
       "      <td>1000</td>\n",
       "      <td>2018-12-27 00:00:00+00:00</td>\n",
       "      <td>15.0</td>\n",
       "      <td>12</td>\n",
       "      <td>27</td>\n",
       "    </tr>\n",
       "    <tr>\n",
       "      <th>3</th>\n",
       "      <td>1000_309</td>\n",
       "      <td>1000</td>\n",
       "      <td>2018-12-28 00:00:00+00:00</td>\n",
       "      <td>6.0</td>\n",
       "      <td>12</td>\n",
       "      <td>28</td>\n",
       "    </tr>\n",
       "    <tr>\n",
       "      <th>4</th>\n",
       "      <td>1000_380</td>\n",
       "      <td>1000</td>\n",
       "      <td>2018-12-30 00:00:00+00:00</td>\n",
       "      <td>5.0</td>\n",
       "      <td>12</td>\n",
       "      <td>30</td>\n",
       "    </tr>\n",
       "    <tr>\n",
       "      <th>...</th>\n",
       "      <td>...</td>\n",
       "      <td>...</td>\n",
       "      <td>...</td>\n",
       "      <td>...</td>\n",
       "      <td>...</td>\n",
       "      <td>...</td>\n",
       "    </tr>\n",
       "    <tr>\n",
       "      <th>137730</th>\n",
       "      <td>1499_199</td>\n",
       "      <td>1499</td>\n",
       "      <td>2018-11-21 00:00:00+00:00</td>\n",
       "      <td>9.0</td>\n",
       "      <td>11</td>\n",
       "      <td>21</td>\n",
       "    </tr>\n",
       "    <tr>\n",
       "      <th>137731</th>\n",
       "      <td>1499_200</td>\n",
       "      <td>1499</td>\n",
       "      <td>2018-10-20 00:00:00+00:00</td>\n",
       "      <td>11.0</td>\n",
       "      <td>10</td>\n",
       "      <td>20</td>\n",
       "    </tr>\n",
       "    <tr>\n",
       "      <th>137732</th>\n",
       "      <td>1499_201</td>\n",
       "      <td>1499</td>\n",
       "      <td>2018-09-21 00:00:00+00:00</td>\n",
       "      <td>9.0</td>\n",
       "      <td>9</td>\n",
       "      <td>21</td>\n",
       "    </tr>\n",
       "    <tr>\n",
       "      <th>137733</th>\n",
       "      <td>1499_202</td>\n",
       "      <td>1499</td>\n",
       "      <td>2018-10-10 00:00:00+00:00</td>\n",
       "      <td>1.0</td>\n",
       "      <td>10</td>\n",
       "      <td>10</td>\n",
       "    </tr>\n",
       "    <tr>\n",
       "      <th>137734</th>\n",
       "      <td>1499_203</td>\n",
       "      <td>1499</td>\n",
       "      <td>2018-12-29 00:00:00+00:00</td>\n",
       "      <td>14.0</td>\n",
       "      <td>12</td>\n",
       "      <td>29</td>\n",
       "    </tr>\n",
       "  </tbody>\n",
       "</table>\n",
       "<p>137735 rows × 6 columns</p>\n",
       "</div>"
      ],
      "text/plain": [
       "         call_id  user_id                 call_date  duration  month  day\n",
       "0        1000_93     1000 2018-12-27 00:00:00+00:00       9.0     12   27\n",
       "1       1000_145     1000 2018-12-27 00:00:00+00:00      14.0     12   27\n",
       "2       1000_247     1000 2018-12-27 00:00:00+00:00      15.0     12   27\n",
       "3       1000_309     1000 2018-12-28 00:00:00+00:00       6.0     12   28\n",
       "4       1000_380     1000 2018-12-30 00:00:00+00:00       5.0     12   30\n",
       "...          ...      ...                       ...       ...    ...  ...\n",
       "137730  1499_199     1499 2018-11-21 00:00:00+00:00       9.0     11   21\n",
       "137731  1499_200     1499 2018-10-20 00:00:00+00:00      11.0     10   20\n",
       "137732  1499_201     1499 2018-09-21 00:00:00+00:00       9.0      9   21\n",
       "137733  1499_202     1499 2018-10-10 00:00:00+00:00       1.0     10   10\n",
       "137734  1499_203     1499 2018-12-29 00:00:00+00:00      14.0     12   29\n",
       "\n",
       "[137735 rows x 6 columns]"
      ]
     },
     "execution_count": 19,
     "metadata": {},
     "output_type": "execute_result"
    }
   ],
   "source": [
    "df_calls"
   ]
  },
  {
   "cell_type": "code",
   "execution_count": 20,
   "id": "e6606df2",
   "metadata": {},
   "outputs": [],
   "source": [
    "project_root = Path.cwd().parent\n",
    "processed_path = project_root / \"data\" / \"processed\" / \"feature\" / \"calls_feature.csv\"\n",
    "\n",
    "df_calls.to_csv(processed_path, index=False)"
   ]
  },
  {
   "cell_type": "markdown",
   "id": "f0faba31",
   "metadata": {},
   "source": [
    "#### 4.1.2 Internet"
   ]
  },
  {
   "cell_type": "code",
   "execution_count": 21,
   "id": "45d2894e",
   "metadata": {},
   "outputs": [
    {
     "data": {
      "application/vnd.microsoft.datawrangler.viewer.v0+json": {
       "columns": [
        {
         "name": "index",
         "rawType": "int64",
         "type": "integer"
        },
        {
         "name": "session_id",
         "rawType": "object",
         "type": "string"
        },
        {
         "name": "user_id",
         "rawType": "int64",
         "type": "integer"
        },
        {
         "name": "session_date",
         "rawType": "datetime64[ns, UTC]",
         "type": "unknown"
        },
        {
         "name": "mb_used",
         "rawType": "float64",
         "type": "float"
        }
       ],
       "ref": "8b022658-f1c2-4dbd-94be-0ce0e7c5048d",
       "rows": [
        [
         "0",
         "1000_13",
         "1000",
         "2018-12-29 00:00:00+00:00",
         "89.86"
        ],
        [
         "1",
         "1000_204",
         "1000",
         "2018-12-31 00:00:00+00:00",
         "0.0"
        ],
        [
         "2",
         "1000_379",
         "1000",
         "2018-12-28 00:00:00+00:00",
         "660.4"
        ],
        [
         "3",
         "1000_413",
         "1000",
         "2018-12-26 00:00:00+00:00",
         "270.99"
        ],
        [
         "4",
         "1000_442",
         "1000",
         "2018-12-27 00:00:00+00:00",
         "880.22"
        ],
        [
         "5",
         "1001_0",
         "1001",
         "2018-08-24 00:00:00+00:00",
         "284.68"
        ],
        [
         "6",
         "1001_3",
         "1001",
         "2018-12-09 00:00:00+00:00",
         "656.04"
        ],
        [
         "7",
         "1001_4",
         "1001",
         "2018-11-04 00:00:00+00:00",
         "16.97"
        ],
        [
         "8",
         "1001_10",
         "1001",
         "2018-11-27 00:00:00+00:00",
         "135.18"
        ],
        [
         "9",
         "1001_15",
         "1001",
         "2018-12-13 00:00:00+00:00",
         "761.92"
        ],
        [
         "10",
         "1001_16",
         "1001",
         "2018-10-28 00:00:00+00:00",
         "501.53"
        ],
        [
         "11",
         "1001_17",
         "1001",
         "2018-09-05 00:00:00+00:00",
         "727.29"
        ],
        [
         "12",
         "1001_24",
         "1001",
         "2018-09-05 00:00:00+00:00",
         "622.03"
        ],
        [
         "13",
         "1001_25",
         "1001",
         "2018-10-14 00:00:00+00:00",
         "310.43"
        ],
        [
         "14",
         "1001_26",
         "1001",
         "2018-09-17 00:00:00+00:00",
         "0.0"
        ],
        [
         "15",
         "1001_27",
         "1001",
         "2018-12-13 00:00:00+00:00",
         "149.17"
        ],
        [
         "16",
         "1001_28",
         "1001",
         "2018-10-17 00:00:00+00:00",
         "0.0"
        ],
        [
         "17",
         "1001_29",
         "1001",
         "2018-10-09 00:00:00+00:00",
         "1067.99"
        ],
        [
         "18",
         "1001_30",
         "1001",
         "2018-12-27 00:00:00+00:00",
         "157.2"
        ],
        [
         "19",
         "1001_33",
         "1001",
         "2018-09-27 00:00:00+00:00",
         "236.4"
        ],
        [
         "20",
         "1001_34",
         "1001",
         "2018-09-18 00:00:00+00:00",
         "299.66"
        ],
        [
         "21",
         "1001_37",
         "1001",
         "2018-12-26 00:00:00+00:00",
         "694.5"
        ],
        [
         "22",
         "1001_38",
         "1001",
         "2018-11-25 00:00:00+00:00",
         "288.27"
        ],
        [
         "23",
         "1001_40",
         "1001",
         "2018-12-27 00:00:00+00:00",
         "632.84"
        ],
        [
         "24",
         "1001_42",
         "1001",
         "2018-12-03 00:00:00+00:00",
         "474.35"
        ],
        [
         "25",
         "1001_43",
         "1001",
         "2018-11-16 00:00:00+00:00",
         "196.94"
        ],
        [
         "26",
         "1001_44",
         "1001",
         "2018-09-27 00:00:00+00:00",
         "44.91"
        ],
        [
         "27",
         "1001_45",
         "1001",
         "2018-10-23 00:00:00+00:00",
         "483.49"
        ],
        [
         "28",
         "1001_47",
         "1001",
         "2018-12-07 00:00:00+00:00",
         "317.01"
        ],
        [
         "29",
         "1001_48",
         "1001",
         "2018-09-08 00:00:00+00:00",
         "284.97"
        ],
        [
         "30",
         "1001_49",
         "1001",
         "2018-10-18 00:00:00+00:00",
         "534.65"
        ],
        [
         "31",
         "1001_50",
         "1001",
         "2018-11-27 00:00:00+00:00",
         "618.84"
        ],
        [
         "32",
         "1001_52",
         "1001",
         "2018-11-17 00:00:00+00:00",
         "409.19"
        ],
        [
         "33",
         "1001_53",
         "1001",
         "2018-11-10 00:00:00+00:00",
         "418.75"
        ],
        [
         "34",
         "1001_54",
         "1001",
         "2018-09-02 00:00:00+00:00",
         "0.0"
        ],
        [
         "35",
         "1001_61",
         "1001",
         "2018-11-28 00:00:00+00:00",
         "121.3"
        ],
        [
         "36",
         "1001_63",
         "1001",
         "2018-12-03 00:00:00+00:00",
         "144.94"
        ],
        [
         "37",
         "1001_64",
         "1001",
         "2018-12-10 00:00:00+00:00",
         "14.03"
        ],
        [
         "38",
         "1001_65",
         "1001",
         "2018-09-17 00:00:00+00:00",
         "969.54"
        ],
        [
         "39",
         "1001_66",
         "1001",
         "2018-10-17 00:00:00+00:00",
         "976.69"
        ],
        [
         "40",
         "1001_71",
         "1001",
         "2018-09-06 00:00:00+00:00",
         "310.16"
        ],
        [
         "41",
         "1001_73",
         "1001",
         "2018-10-04 00:00:00+00:00",
         "501.87"
        ],
        [
         "42",
         "1001_75",
         "1001",
         "2018-11-11 00:00:00+00:00",
         "438.76"
        ],
        [
         "43",
         "1001_77",
         "1001",
         "2018-10-31 00:00:00+00:00",
         "0.0"
        ],
        [
         "44",
         "1001_80",
         "1001",
         "2018-12-24 00:00:00+00:00",
         "0.0"
        ],
        [
         "45",
         "1001_82",
         "1001",
         "2018-11-28 00:00:00+00:00",
         "255.14"
        ],
        [
         "46",
         "1001_84",
         "1001",
         "2018-10-13 00:00:00+00:00",
         "0.0"
        ],
        [
         "47",
         "1001_85",
         "1001",
         "2018-12-16 00:00:00+00:00",
         "624.34"
        ],
        [
         "48",
         "1001_86",
         "1001",
         "2018-09-17 00:00:00+00:00",
         "71.78"
        ],
        [
         "49",
         "1001_87",
         "1001",
         "2018-09-30 00:00:00+00:00",
         "179.68"
        ]
       ],
       "shape": {
        "columns": 4,
        "rows": 104825
       }
      },
      "text/html": [
       "<div>\n",
       "<style scoped>\n",
       "    .dataframe tbody tr th:only-of-type {\n",
       "        vertical-align: middle;\n",
       "    }\n",
       "\n",
       "    .dataframe tbody tr th {\n",
       "        vertical-align: top;\n",
       "    }\n",
       "\n",
       "    .dataframe thead th {\n",
       "        text-align: right;\n",
       "    }\n",
       "</style>\n",
       "<table border=\"1\" class=\"dataframe\">\n",
       "  <thead>\n",
       "    <tr style=\"text-align: right;\">\n",
       "      <th></th>\n",
       "      <th>session_id</th>\n",
       "      <th>user_id</th>\n",
       "      <th>session_date</th>\n",
       "      <th>mb_used</th>\n",
       "    </tr>\n",
       "  </thead>\n",
       "  <tbody>\n",
       "    <tr>\n",
       "      <th>0</th>\n",
       "      <td>1000_13</td>\n",
       "      <td>1000</td>\n",
       "      <td>2018-12-29 00:00:00+00:00</td>\n",
       "      <td>89.86</td>\n",
       "    </tr>\n",
       "    <tr>\n",
       "      <th>1</th>\n",
       "      <td>1000_204</td>\n",
       "      <td>1000</td>\n",
       "      <td>2018-12-31 00:00:00+00:00</td>\n",
       "      <td>0.00</td>\n",
       "    </tr>\n",
       "    <tr>\n",
       "      <th>2</th>\n",
       "      <td>1000_379</td>\n",
       "      <td>1000</td>\n",
       "      <td>2018-12-28 00:00:00+00:00</td>\n",
       "      <td>660.40</td>\n",
       "    </tr>\n",
       "    <tr>\n",
       "      <th>3</th>\n",
       "      <td>1000_413</td>\n",
       "      <td>1000</td>\n",
       "      <td>2018-12-26 00:00:00+00:00</td>\n",
       "      <td>270.99</td>\n",
       "    </tr>\n",
       "    <tr>\n",
       "      <th>4</th>\n",
       "      <td>1000_442</td>\n",
       "      <td>1000</td>\n",
       "      <td>2018-12-27 00:00:00+00:00</td>\n",
       "      <td>880.22</td>\n",
       "    </tr>\n",
       "    <tr>\n",
       "      <th>...</th>\n",
       "      <td>...</td>\n",
       "      <td>...</td>\n",
       "      <td>...</td>\n",
       "      <td>...</td>\n",
       "    </tr>\n",
       "    <tr>\n",
       "      <th>104820</th>\n",
       "      <td>1499_215</td>\n",
       "      <td>1499</td>\n",
       "      <td>2018-10-20 00:00:00+00:00</td>\n",
       "      <td>218.06</td>\n",
       "    </tr>\n",
       "    <tr>\n",
       "      <th>104821</th>\n",
       "      <td>1499_216</td>\n",
       "      <td>1499</td>\n",
       "      <td>2018-12-30 00:00:00+00:00</td>\n",
       "      <td>304.72</td>\n",
       "    </tr>\n",
       "    <tr>\n",
       "      <th>104822</th>\n",
       "      <td>1499_217</td>\n",
       "      <td>1499</td>\n",
       "      <td>2018-09-22 00:00:00+00:00</td>\n",
       "      <td>292.75</td>\n",
       "    </tr>\n",
       "    <tr>\n",
       "      <th>104823</th>\n",
       "      <td>1499_218</td>\n",
       "      <td>1499</td>\n",
       "      <td>2018-12-07 00:00:00+00:00</td>\n",
       "      <td>0.00</td>\n",
       "    </tr>\n",
       "    <tr>\n",
       "      <th>104824</th>\n",
       "      <td>1499_219</td>\n",
       "      <td>1499</td>\n",
       "      <td>2018-12-24 00:00:00+00:00</td>\n",
       "      <td>758.31</td>\n",
       "    </tr>\n",
       "  </tbody>\n",
       "</table>\n",
       "<p>104825 rows × 4 columns</p>\n",
       "</div>"
      ],
      "text/plain": [
       "       session_id  user_id              session_date  mb_used\n",
       "0         1000_13     1000 2018-12-29 00:00:00+00:00    89.86\n",
       "1        1000_204     1000 2018-12-31 00:00:00+00:00     0.00\n",
       "2        1000_379     1000 2018-12-28 00:00:00+00:00   660.40\n",
       "3        1000_413     1000 2018-12-26 00:00:00+00:00   270.99\n",
       "4        1000_442     1000 2018-12-27 00:00:00+00:00   880.22\n",
       "...           ...      ...                       ...      ...\n",
       "104820   1499_215     1499 2018-10-20 00:00:00+00:00   218.06\n",
       "104821   1499_216     1499 2018-12-30 00:00:00+00:00   304.72\n",
       "104822   1499_217     1499 2018-09-22 00:00:00+00:00   292.75\n",
       "104823   1499_218     1499 2018-12-07 00:00:00+00:00     0.00\n",
       "104824   1499_219     1499 2018-12-24 00:00:00+00:00   758.31\n",
       "\n",
       "[104825 rows x 4 columns]"
      ]
     },
     "execution_count": 21,
     "metadata": {},
     "output_type": "execute_result"
    }
   ],
   "source": [
    "df_internet"
   ]
  },
  {
   "cell_type": "code",
   "execution_count": 22,
   "id": "7c57df99",
   "metadata": {},
   "outputs": [],
   "source": [
    "# Add Month\n",
    "df_internet['month'] = df_internet['session_date'].dt.month"
   ]
  },
  {
   "cell_type": "code",
   "execution_count": 23,
   "id": "51d532a5",
   "metadata": {},
   "outputs": [],
   "source": [
    "# Add Day\n",
    "df_internet['day'] = df_internet['session_date'].dt.day"
   ]
  },
  {
   "cell_type": "code",
   "execution_count": 24,
   "id": "23899cdd",
   "metadata": {},
   "outputs": [
    {
     "data": {
      "application/vnd.microsoft.datawrangler.viewer.v0+json": {
       "columns": [
        {
         "name": "index",
         "rawType": "int64",
         "type": "integer"
        },
        {
         "name": "session_id",
         "rawType": "object",
         "type": "string"
        },
        {
         "name": "user_id",
         "rawType": "int64",
         "type": "integer"
        },
        {
         "name": "session_date",
         "rawType": "datetime64[ns, UTC]",
         "type": "unknown"
        },
        {
         "name": "mb_used",
         "rawType": "float64",
         "type": "float"
        },
        {
         "name": "month",
         "rawType": "int32",
         "type": "integer"
        },
        {
         "name": "day",
         "rawType": "int32",
         "type": "integer"
        }
       ],
       "ref": "fcca4249-d020-4d61-ad88-e29eea317183",
       "rows": [
        [
         "0",
         "1000_13",
         "1000",
         "2018-12-29 00:00:00+00:00",
         "89.86",
         "12",
         "29"
        ],
        [
         "1",
         "1000_204",
         "1000",
         "2018-12-31 00:00:00+00:00",
         "0.0",
         "12",
         "31"
        ],
        [
         "2",
         "1000_379",
         "1000",
         "2018-12-28 00:00:00+00:00",
         "660.4",
         "12",
         "28"
        ],
        [
         "3",
         "1000_413",
         "1000",
         "2018-12-26 00:00:00+00:00",
         "270.99",
         "12",
         "26"
        ],
        [
         "4",
         "1000_442",
         "1000",
         "2018-12-27 00:00:00+00:00",
         "880.22",
         "12",
         "27"
        ],
        [
         "5",
         "1001_0",
         "1001",
         "2018-08-24 00:00:00+00:00",
         "284.68",
         "8",
         "24"
        ],
        [
         "6",
         "1001_3",
         "1001",
         "2018-12-09 00:00:00+00:00",
         "656.04",
         "12",
         "9"
        ],
        [
         "7",
         "1001_4",
         "1001",
         "2018-11-04 00:00:00+00:00",
         "16.97",
         "11",
         "4"
        ],
        [
         "8",
         "1001_10",
         "1001",
         "2018-11-27 00:00:00+00:00",
         "135.18",
         "11",
         "27"
        ],
        [
         "9",
         "1001_15",
         "1001",
         "2018-12-13 00:00:00+00:00",
         "761.92",
         "12",
         "13"
        ],
        [
         "10",
         "1001_16",
         "1001",
         "2018-10-28 00:00:00+00:00",
         "501.53",
         "10",
         "28"
        ],
        [
         "11",
         "1001_17",
         "1001",
         "2018-09-05 00:00:00+00:00",
         "727.29",
         "9",
         "5"
        ],
        [
         "12",
         "1001_24",
         "1001",
         "2018-09-05 00:00:00+00:00",
         "622.03",
         "9",
         "5"
        ],
        [
         "13",
         "1001_25",
         "1001",
         "2018-10-14 00:00:00+00:00",
         "310.43",
         "10",
         "14"
        ],
        [
         "14",
         "1001_26",
         "1001",
         "2018-09-17 00:00:00+00:00",
         "0.0",
         "9",
         "17"
        ],
        [
         "15",
         "1001_27",
         "1001",
         "2018-12-13 00:00:00+00:00",
         "149.17",
         "12",
         "13"
        ],
        [
         "16",
         "1001_28",
         "1001",
         "2018-10-17 00:00:00+00:00",
         "0.0",
         "10",
         "17"
        ],
        [
         "17",
         "1001_29",
         "1001",
         "2018-10-09 00:00:00+00:00",
         "1067.99",
         "10",
         "9"
        ],
        [
         "18",
         "1001_30",
         "1001",
         "2018-12-27 00:00:00+00:00",
         "157.2",
         "12",
         "27"
        ],
        [
         "19",
         "1001_33",
         "1001",
         "2018-09-27 00:00:00+00:00",
         "236.4",
         "9",
         "27"
        ],
        [
         "20",
         "1001_34",
         "1001",
         "2018-09-18 00:00:00+00:00",
         "299.66",
         "9",
         "18"
        ],
        [
         "21",
         "1001_37",
         "1001",
         "2018-12-26 00:00:00+00:00",
         "694.5",
         "12",
         "26"
        ],
        [
         "22",
         "1001_38",
         "1001",
         "2018-11-25 00:00:00+00:00",
         "288.27",
         "11",
         "25"
        ],
        [
         "23",
         "1001_40",
         "1001",
         "2018-12-27 00:00:00+00:00",
         "632.84",
         "12",
         "27"
        ],
        [
         "24",
         "1001_42",
         "1001",
         "2018-12-03 00:00:00+00:00",
         "474.35",
         "12",
         "3"
        ],
        [
         "25",
         "1001_43",
         "1001",
         "2018-11-16 00:00:00+00:00",
         "196.94",
         "11",
         "16"
        ],
        [
         "26",
         "1001_44",
         "1001",
         "2018-09-27 00:00:00+00:00",
         "44.91",
         "9",
         "27"
        ],
        [
         "27",
         "1001_45",
         "1001",
         "2018-10-23 00:00:00+00:00",
         "483.49",
         "10",
         "23"
        ],
        [
         "28",
         "1001_47",
         "1001",
         "2018-12-07 00:00:00+00:00",
         "317.01",
         "12",
         "7"
        ],
        [
         "29",
         "1001_48",
         "1001",
         "2018-09-08 00:00:00+00:00",
         "284.97",
         "9",
         "8"
        ],
        [
         "30",
         "1001_49",
         "1001",
         "2018-10-18 00:00:00+00:00",
         "534.65",
         "10",
         "18"
        ],
        [
         "31",
         "1001_50",
         "1001",
         "2018-11-27 00:00:00+00:00",
         "618.84",
         "11",
         "27"
        ],
        [
         "32",
         "1001_52",
         "1001",
         "2018-11-17 00:00:00+00:00",
         "409.19",
         "11",
         "17"
        ],
        [
         "33",
         "1001_53",
         "1001",
         "2018-11-10 00:00:00+00:00",
         "418.75",
         "11",
         "10"
        ],
        [
         "34",
         "1001_54",
         "1001",
         "2018-09-02 00:00:00+00:00",
         "0.0",
         "9",
         "2"
        ],
        [
         "35",
         "1001_61",
         "1001",
         "2018-11-28 00:00:00+00:00",
         "121.3",
         "11",
         "28"
        ],
        [
         "36",
         "1001_63",
         "1001",
         "2018-12-03 00:00:00+00:00",
         "144.94",
         "12",
         "3"
        ],
        [
         "37",
         "1001_64",
         "1001",
         "2018-12-10 00:00:00+00:00",
         "14.03",
         "12",
         "10"
        ],
        [
         "38",
         "1001_65",
         "1001",
         "2018-09-17 00:00:00+00:00",
         "969.54",
         "9",
         "17"
        ],
        [
         "39",
         "1001_66",
         "1001",
         "2018-10-17 00:00:00+00:00",
         "976.69",
         "10",
         "17"
        ],
        [
         "40",
         "1001_71",
         "1001",
         "2018-09-06 00:00:00+00:00",
         "310.16",
         "9",
         "6"
        ],
        [
         "41",
         "1001_73",
         "1001",
         "2018-10-04 00:00:00+00:00",
         "501.87",
         "10",
         "4"
        ],
        [
         "42",
         "1001_75",
         "1001",
         "2018-11-11 00:00:00+00:00",
         "438.76",
         "11",
         "11"
        ],
        [
         "43",
         "1001_77",
         "1001",
         "2018-10-31 00:00:00+00:00",
         "0.0",
         "10",
         "31"
        ],
        [
         "44",
         "1001_80",
         "1001",
         "2018-12-24 00:00:00+00:00",
         "0.0",
         "12",
         "24"
        ],
        [
         "45",
         "1001_82",
         "1001",
         "2018-11-28 00:00:00+00:00",
         "255.14",
         "11",
         "28"
        ],
        [
         "46",
         "1001_84",
         "1001",
         "2018-10-13 00:00:00+00:00",
         "0.0",
         "10",
         "13"
        ],
        [
         "47",
         "1001_85",
         "1001",
         "2018-12-16 00:00:00+00:00",
         "624.34",
         "12",
         "16"
        ],
        [
         "48",
         "1001_86",
         "1001",
         "2018-09-17 00:00:00+00:00",
         "71.78",
         "9",
         "17"
        ],
        [
         "49",
         "1001_87",
         "1001",
         "2018-09-30 00:00:00+00:00",
         "179.68",
         "9",
         "30"
        ]
       ],
       "shape": {
        "columns": 6,
        "rows": 104825
       }
      },
      "text/html": [
       "<div>\n",
       "<style scoped>\n",
       "    .dataframe tbody tr th:only-of-type {\n",
       "        vertical-align: middle;\n",
       "    }\n",
       "\n",
       "    .dataframe tbody tr th {\n",
       "        vertical-align: top;\n",
       "    }\n",
       "\n",
       "    .dataframe thead th {\n",
       "        text-align: right;\n",
       "    }\n",
       "</style>\n",
       "<table border=\"1\" class=\"dataframe\">\n",
       "  <thead>\n",
       "    <tr style=\"text-align: right;\">\n",
       "      <th></th>\n",
       "      <th>session_id</th>\n",
       "      <th>user_id</th>\n",
       "      <th>session_date</th>\n",
       "      <th>mb_used</th>\n",
       "      <th>month</th>\n",
       "      <th>day</th>\n",
       "    </tr>\n",
       "  </thead>\n",
       "  <tbody>\n",
       "    <tr>\n",
       "      <th>0</th>\n",
       "      <td>1000_13</td>\n",
       "      <td>1000</td>\n",
       "      <td>2018-12-29 00:00:00+00:00</td>\n",
       "      <td>89.86</td>\n",
       "      <td>12</td>\n",
       "      <td>29</td>\n",
       "    </tr>\n",
       "    <tr>\n",
       "      <th>1</th>\n",
       "      <td>1000_204</td>\n",
       "      <td>1000</td>\n",
       "      <td>2018-12-31 00:00:00+00:00</td>\n",
       "      <td>0.00</td>\n",
       "      <td>12</td>\n",
       "      <td>31</td>\n",
       "    </tr>\n",
       "    <tr>\n",
       "      <th>2</th>\n",
       "      <td>1000_379</td>\n",
       "      <td>1000</td>\n",
       "      <td>2018-12-28 00:00:00+00:00</td>\n",
       "      <td>660.40</td>\n",
       "      <td>12</td>\n",
       "      <td>28</td>\n",
       "    </tr>\n",
       "    <tr>\n",
       "      <th>3</th>\n",
       "      <td>1000_413</td>\n",
       "      <td>1000</td>\n",
       "      <td>2018-12-26 00:00:00+00:00</td>\n",
       "      <td>270.99</td>\n",
       "      <td>12</td>\n",
       "      <td>26</td>\n",
       "    </tr>\n",
       "    <tr>\n",
       "      <th>4</th>\n",
       "      <td>1000_442</td>\n",
       "      <td>1000</td>\n",
       "      <td>2018-12-27 00:00:00+00:00</td>\n",
       "      <td>880.22</td>\n",
       "      <td>12</td>\n",
       "      <td>27</td>\n",
       "    </tr>\n",
       "    <tr>\n",
       "      <th>...</th>\n",
       "      <td>...</td>\n",
       "      <td>...</td>\n",
       "      <td>...</td>\n",
       "      <td>...</td>\n",
       "      <td>...</td>\n",
       "      <td>...</td>\n",
       "    </tr>\n",
       "    <tr>\n",
       "      <th>104820</th>\n",
       "      <td>1499_215</td>\n",
       "      <td>1499</td>\n",
       "      <td>2018-10-20 00:00:00+00:00</td>\n",
       "      <td>218.06</td>\n",
       "      <td>10</td>\n",
       "      <td>20</td>\n",
       "    </tr>\n",
       "    <tr>\n",
       "      <th>104821</th>\n",
       "      <td>1499_216</td>\n",
       "      <td>1499</td>\n",
       "      <td>2018-12-30 00:00:00+00:00</td>\n",
       "      <td>304.72</td>\n",
       "      <td>12</td>\n",
       "      <td>30</td>\n",
       "    </tr>\n",
       "    <tr>\n",
       "      <th>104822</th>\n",
       "      <td>1499_217</td>\n",
       "      <td>1499</td>\n",
       "      <td>2018-09-22 00:00:00+00:00</td>\n",
       "      <td>292.75</td>\n",
       "      <td>9</td>\n",
       "      <td>22</td>\n",
       "    </tr>\n",
       "    <tr>\n",
       "      <th>104823</th>\n",
       "      <td>1499_218</td>\n",
       "      <td>1499</td>\n",
       "      <td>2018-12-07 00:00:00+00:00</td>\n",
       "      <td>0.00</td>\n",
       "      <td>12</td>\n",
       "      <td>7</td>\n",
       "    </tr>\n",
       "    <tr>\n",
       "      <th>104824</th>\n",
       "      <td>1499_219</td>\n",
       "      <td>1499</td>\n",
       "      <td>2018-12-24 00:00:00+00:00</td>\n",
       "      <td>758.31</td>\n",
       "      <td>12</td>\n",
       "      <td>24</td>\n",
       "    </tr>\n",
       "  </tbody>\n",
       "</table>\n",
       "<p>104825 rows × 6 columns</p>\n",
       "</div>"
      ],
      "text/plain": [
       "       session_id  user_id              session_date  mb_used  month  day\n",
       "0         1000_13     1000 2018-12-29 00:00:00+00:00    89.86     12   29\n",
       "1        1000_204     1000 2018-12-31 00:00:00+00:00     0.00     12   31\n",
       "2        1000_379     1000 2018-12-28 00:00:00+00:00   660.40     12   28\n",
       "3        1000_413     1000 2018-12-26 00:00:00+00:00   270.99     12   26\n",
       "4        1000_442     1000 2018-12-27 00:00:00+00:00   880.22     12   27\n",
       "...           ...      ...                       ...      ...    ...  ...\n",
       "104820   1499_215     1499 2018-10-20 00:00:00+00:00   218.06     10   20\n",
       "104821   1499_216     1499 2018-12-30 00:00:00+00:00   304.72     12   30\n",
       "104822   1499_217     1499 2018-09-22 00:00:00+00:00   292.75      9   22\n",
       "104823   1499_218     1499 2018-12-07 00:00:00+00:00     0.00     12    7\n",
       "104824   1499_219     1499 2018-12-24 00:00:00+00:00   758.31     12   24\n",
       "\n",
       "[104825 rows x 6 columns]"
      ]
     },
     "execution_count": 24,
     "metadata": {},
     "output_type": "execute_result"
    }
   ],
   "source": [
    "df_internet"
   ]
  },
  {
   "cell_type": "code",
   "execution_count": 25,
   "id": "b3f1de39",
   "metadata": {},
   "outputs": [],
   "source": [
    "project_root = Path.cwd().parent\n",
    "processed_path = project_root / \"data\" / \"processed\" / \"feature\" / \"internet_feature.csv\"\n",
    "\n",
    "df_internet.to_csv(processed_path, index=False)"
   ]
  },
  {
   "cell_type": "markdown",
   "id": "903e4be8",
   "metadata": {},
   "source": [
    "#### 4.1.3 Messages"
   ]
  },
  {
   "cell_type": "code",
   "execution_count": 26,
   "id": "4fe7a4ee",
   "metadata": {},
   "outputs": [
    {
     "data": {
      "application/vnd.microsoft.datawrangler.viewer.v0+json": {
       "columns": [
        {
         "name": "index",
         "rawType": "int64",
         "type": "integer"
        },
        {
         "name": "message_id",
         "rawType": "object",
         "type": "string"
        },
        {
         "name": "user_id",
         "rawType": "int64",
         "type": "integer"
        },
        {
         "name": "message_date",
         "rawType": "datetime64[ns, UTC]",
         "type": "unknown"
        }
       ],
       "ref": "245a2912-4596-4ba9-bb34-3742c89206ac",
       "rows": [
        [
         "0",
         "1000_125",
         "1000",
         "2018-12-27 00:00:00+00:00"
        ],
        [
         "1",
         "1000_160",
         "1000",
         "2018-12-31 00:00:00+00:00"
        ],
        [
         "2",
         "1000_223",
         "1000",
         "2018-12-31 00:00:00+00:00"
        ],
        [
         "3",
         "1000_251",
         "1000",
         "2018-12-27 00:00:00+00:00"
        ],
        [
         "4",
         "1000_255",
         "1000",
         "2018-12-26 00:00:00+00:00"
        ],
        [
         "5",
         "1000_346",
         "1000",
         "2018-12-29 00:00:00+00:00"
        ],
        [
         "6",
         "1000_386",
         "1000",
         "2018-12-30 00:00:00+00:00"
        ],
        [
         "7",
         "1000_413",
         "1000",
         "2018-12-31 00:00:00+00:00"
        ],
        [
         "8",
         "1000_502",
         "1000",
         "2018-12-27 00:00:00+00:00"
        ],
        [
         "9",
         "1000_525",
         "1000",
         "2018-12-28 00:00:00+00:00"
        ],
        [
         "10",
         "1000_567",
         "1000",
         "2018-12-25 00:00:00+00:00"
        ],
        [
         "11",
         "1001_1",
         "1001",
         "2018-11-14 00:00:00+00:00"
        ],
        [
         "12",
         "1001_2",
         "1001",
         "2018-08-17 00:00:00+00:00"
        ],
        [
         "13",
         "1001_5",
         "1001",
         "2018-12-05 00:00:00+00:00"
        ],
        [
         "14",
         "1001_7",
         "1001",
         "2018-11-28 00:00:00+00:00"
        ],
        [
         "15",
         "1001_9",
         "1001",
         "2018-10-23 00:00:00+00:00"
        ],
        [
         "16",
         "1001_10",
         "1001",
         "2018-09-01 00:00:00+00:00"
        ],
        [
         "17",
         "1001_11",
         "1001",
         "2018-11-18 00:00:00+00:00"
        ],
        [
         "18",
         "1001_17",
         "1001",
         "2018-12-11 00:00:00+00:00"
        ],
        [
         "19",
         "1001_18",
         "1001",
         "2018-10-01 00:00:00+00:00"
        ],
        [
         "20",
         "1001_19",
         "1001",
         "2018-09-13 00:00:00+00:00"
        ],
        [
         "21",
         "1001_21",
         "1001",
         "2018-12-30 00:00:00+00:00"
        ],
        [
         "22",
         "1001_23",
         "1001",
         "2018-08-23 00:00:00+00:00"
        ],
        [
         "23",
         "1001_25",
         "1001",
         "2018-10-10 00:00:00+00:00"
        ],
        [
         "24",
         "1001_30",
         "1001",
         "2018-12-14 00:00:00+00:00"
        ],
        [
         "25",
         "1001_32",
         "1001",
         "2018-09-11 00:00:00+00:00"
        ],
        [
         "26",
         "1001_34",
         "1001",
         "2018-10-09 00:00:00+00:00"
        ],
        [
         "27",
         "1001_35",
         "1001",
         "2018-09-18 00:00:00+00:00"
        ],
        [
         "28",
         "1001_37",
         "1001",
         "2018-09-06 00:00:00+00:00"
        ],
        [
         "29",
         "1001_39",
         "1001",
         "2018-09-13 00:00:00+00:00"
        ],
        [
         "30",
         "1001_44",
         "1001",
         "2018-08-19 00:00:00+00:00"
        ],
        [
         "31",
         "1001_46",
         "1001",
         "2018-12-17 00:00:00+00:00"
        ],
        [
         "32",
         "1001_47",
         "1001",
         "2018-12-23 00:00:00+00:00"
        ],
        [
         "33",
         "1001_48",
         "1001",
         "2018-11-08 00:00:00+00:00"
        ],
        [
         "34",
         "1001_49",
         "1001",
         "2018-12-25 00:00:00+00:00"
        ],
        [
         "35",
         "1001_50",
         "1001",
         "2018-10-18 00:00:00+00:00"
        ],
        [
         "36",
         "1001_52",
         "1001",
         "2018-09-20 00:00:00+00:00"
        ],
        [
         "37",
         "1001_54",
         "1001",
         "2018-09-01 00:00:00+00:00"
        ],
        [
         "38",
         "1001_58",
         "1001",
         "2018-12-06 00:00:00+00:00"
        ],
        [
         "39",
         "1001_60",
         "1001",
         "2018-08-22 00:00:00+00:00"
        ],
        [
         "40",
         "1001_63",
         "1001",
         "2018-09-19 00:00:00+00:00"
        ],
        [
         "41",
         "1001_65",
         "1001",
         "2018-10-21 00:00:00+00:00"
        ],
        [
         "42",
         "1001_66",
         "1001",
         "2018-12-10 00:00:00+00:00"
        ],
        [
         "43",
         "1001_69",
         "1001",
         "2018-10-19 00:00:00+00:00"
        ],
        [
         "44",
         "1001_70",
         "1001",
         "2018-09-10 00:00:00+00:00"
        ],
        [
         "45",
         "1001_71",
         "1001",
         "2018-09-18 00:00:00+00:00"
        ],
        [
         "46",
         "1001_72",
         "1001",
         "2018-10-19 00:00:00+00:00"
        ],
        [
         "47",
         "1001_73",
         "1001",
         "2018-09-28 00:00:00+00:00"
        ],
        [
         "48",
         "1001_75",
         "1001",
         "2018-11-25 00:00:00+00:00"
        ],
        [
         "49",
         "1001_76",
         "1001",
         "2018-10-30 00:00:00+00:00"
        ]
       ],
       "shape": {
        "columns": 3,
        "rows": 76051
       }
      },
      "text/html": [
       "<div>\n",
       "<style scoped>\n",
       "    .dataframe tbody tr th:only-of-type {\n",
       "        vertical-align: middle;\n",
       "    }\n",
       "\n",
       "    .dataframe tbody tr th {\n",
       "        vertical-align: top;\n",
       "    }\n",
       "\n",
       "    .dataframe thead th {\n",
       "        text-align: right;\n",
       "    }\n",
       "</style>\n",
       "<table border=\"1\" class=\"dataframe\">\n",
       "  <thead>\n",
       "    <tr style=\"text-align: right;\">\n",
       "      <th></th>\n",
       "      <th>message_id</th>\n",
       "      <th>user_id</th>\n",
       "      <th>message_date</th>\n",
       "    </tr>\n",
       "  </thead>\n",
       "  <tbody>\n",
       "    <tr>\n",
       "      <th>0</th>\n",
       "      <td>1000_125</td>\n",
       "      <td>1000</td>\n",
       "      <td>2018-12-27 00:00:00+00:00</td>\n",
       "    </tr>\n",
       "    <tr>\n",
       "      <th>1</th>\n",
       "      <td>1000_160</td>\n",
       "      <td>1000</td>\n",
       "      <td>2018-12-31 00:00:00+00:00</td>\n",
       "    </tr>\n",
       "    <tr>\n",
       "      <th>2</th>\n",
       "      <td>1000_223</td>\n",
       "      <td>1000</td>\n",
       "      <td>2018-12-31 00:00:00+00:00</td>\n",
       "    </tr>\n",
       "    <tr>\n",
       "      <th>3</th>\n",
       "      <td>1000_251</td>\n",
       "      <td>1000</td>\n",
       "      <td>2018-12-27 00:00:00+00:00</td>\n",
       "    </tr>\n",
       "    <tr>\n",
       "      <th>4</th>\n",
       "      <td>1000_255</td>\n",
       "      <td>1000</td>\n",
       "      <td>2018-12-26 00:00:00+00:00</td>\n",
       "    </tr>\n",
       "    <tr>\n",
       "      <th>...</th>\n",
       "      <td>...</td>\n",
       "      <td>...</td>\n",
       "      <td>...</td>\n",
       "    </tr>\n",
       "    <tr>\n",
       "      <th>76046</th>\n",
       "      <td>1497_526</td>\n",
       "      <td>1497</td>\n",
       "      <td>2018-12-24 00:00:00+00:00</td>\n",
       "    </tr>\n",
       "    <tr>\n",
       "      <th>76047</th>\n",
       "      <td>1497_536</td>\n",
       "      <td>1497</td>\n",
       "      <td>2018-12-24 00:00:00+00:00</td>\n",
       "    </tr>\n",
       "    <tr>\n",
       "      <th>76048</th>\n",
       "      <td>1497_547</td>\n",
       "      <td>1497</td>\n",
       "      <td>2018-12-31 00:00:00+00:00</td>\n",
       "    </tr>\n",
       "    <tr>\n",
       "      <th>76049</th>\n",
       "      <td>1497_558</td>\n",
       "      <td>1497</td>\n",
       "      <td>2018-12-24 00:00:00+00:00</td>\n",
       "    </tr>\n",
       "    <tr>\n",
       "      <th>76050</th>\n",
       "      <td>1497_613</td>\n",
       "      <td>1497</td>\n",
       "      <td>2018-12-23 00:00:00+00:00</td>\n",
       "    </tr>\n",
       "  </tbody>\n",
       "</table>\n",
       "<p>76051 rows × 3 columns</p>\n",
       "</div>"
      ],
      "text/plain": [
       "      message_id  user_id              message_date\n",
       "0       1000_125     1000 2018-12-27 00:00:00+00:00\n",
       "1       1000_160     1000 2018-12-31 00:00:00+00:00\n",
       "2       1000_223     1000 2018-12-31 00:00:00+00:00\n",
       "3       1000_251     1000 2018-12-27 00:00:00+00:00\n",
       "4       1000_255     1000 2018-12-26 00:00:00+00:00\n",
       "...          ...      ...                       ...\n",
       "76046   1497_526     1497 2018-12-24 00:00:00+00:00\n",
       "76047   1497_536     1497 2018-12-24 00:00:00+00:00\n",
       "76048   1497_547     1497 2018-12-31 00:00:00+00:00\n",
       "76049   1497_558     1497 2018-12-24 00:00:00+00:00\n",
       "76050   1497_613     1497 2018-12-23 00:00:00+00:00\n",
       "\n",
       "[76051 rows x 3 columns]"
      ]
     },
     "execution_count": 26,
     "metadata": {},
     "output_type": "execute_result"
    }
   ],
   "source": [
    "df_messages"
   ]
  },
  {
   "cell_type": "code",
   "execution_count": 27,
   "id": "f8eda2e2",
   "metadata": {},
   "outputs": [],
   "source": [
    "# Add Month\n",
    "df_messages['month'] = df_messages['message_date'].dt.month"
   ]
  },
  {
   "cell_type": "code",
   "execution_count": 28,
   "id": "b0d66c3f",
   "metadata": {},
   "outputs": [],
   "source": [
    "# Add Day\n",
    "df_messages['day'] = df_messages['message_date'].dt.day"
   ]
  },
  {
   "cell_type": "code",
   "execution_count": 29,
   "id": "f178a4b3",
   "metadata": {},
   "outputs": [],
   "source": [
    "project_root = Path.cwd().parent\n",
    "processed_path = project_root / \"data\" / \"processed\" / \"feature\" / \"messages_feature.csv\"\n",
    "\n",
    "df_messages.to_csv(processed_path, index=False)"
   ]
  },
  {
   "cell_type": "markdown",
   "id": "a5769d48",
   "metadata": {},
   "source": [
    "#### 4.1.4 Users"
   ]
  },
  {
   "cell_type": "code",
   "execution_count": 30,
   "id": "554361c0",
   "metadata": {},
   "outputs": [
    {
     "data": {
      "application/vnd.microsoft.datawrangler.viewer.v0+json": {
       "columns": [
        {
         "name": "index",
         "rawType": "int64",
         "type": "integer"
        },
        {
         "name": "user_id",
         "rawType": "int64",
         "type": "integer"
        },
        {
         "name": "first_name",
         "rawType": "string",
         "type": "string"
        },
        {
         "name": "last_name",
         "rawType": "string",
         "type": "string"
        },
        {
         "name": "age",
         "rawType": "int64",
         "type": "integer"
        },
        {
         "name": "city",
         "rawType": "string",
         "type": "string"
        },
        {
         "name": "reg_date",
         "rawType": "datetime64[ns, UTC]",
         "type": "unknown"
        },
        {
         "name": "plan",
         "rawType": "category",
         "type": "unknown"
        },
        {
         "name": "churn_date",
         "rawType": "datetime64[ns, UTC]",
         "type": "unknown"
        }
       ],
       "ref": "9c837ae1-9d85-488b-ac1f-bf34aab4d0e4",
       "rows": [
        [
         "0",
         "1000",
         "anamaria",
         "bauer",
         "45",
         "atlanta_sandy_springs_roswell,_ga_msa",
         "2018-12-24 00:00:00+00:00",
         "ultimate",
         null
        ],
        [
         "1",
         "1001",
         "mickey",
         "wilkerson",
         "28",
         "seattle_tacoma_bellevue,_wa_msa",
         "2018-08-13 00:00:00+00:00",
         "surf",
         null
        ],
        [
         "2",
         "1002",
         "carlee",
         "hoffman",
         "36",
         "las_vegas_henderson_paradise,_nv_msa",
         "2018-10-21 00:00:00+00:00",
         "surf",
         null
        ],
        [
         "3",
         "1003",
         "reynaldo",
         "jenkins",
         "52",
         "tulsa,_ok_msa",
         "2018-01-28 00:00:00+00:00",
         "surf",
         null
        ],
        [
         "4",
         "1004",
         "leonila",
         "thompson",
         "40",
         "seattle_tacoma_bellevue,_wa_msa",
         "2018-05-23 00:00:00+00:00",
         "surf",
         null
        ],
        [
         "5",
         "1005",
         "livia",
         "shields",
         "31",
         "dallas_fort_worth_arlington,_tx_msa",
         "2018-11-29 00:00:00+00:00",
         "surf",
         null
        ],
        [
         "6",
         "1006",
         "jesusa",
         "bradford",
         "73",
         "san_francisco_oakland_berkeley,_ca_msa",
         "2018-11-27 00:00:00+00:00",
         "ultimate",
         "2018-12-18 00:00:00+00:00"
        ],
        [
         "7",
         "1007",
         "eusebio",
         "welch",
         "42",
         "grand_rapids_kentwood,_mi_msa",
         "2018-07-11 00:00:00+00:00",
         "surf",
         null
        ],
        [
         "8",
         "1008",
         "emely",
         "hoffman",
         "53",
         "orlando_kissimmee_sanford,_fl_msa",
         "2018-08-03 00:00:00+00:00",
         "ultimate",
         null
        ],
        [
         "9",
         "1009",
         "gerry",
         "little",
         "19",
         "san_jose_sunnyvale_santa_clara,_ca_msa",
         "2018-04-22 00:00:00+00:00",
         "surf",
         null
        ],
        [
         "10",
         "1010",
         "wilber",
         "blair",
         "52",
         "dallas_fort_worth_arlington,_tx_msa",
         "2018-03-09 00:00:00+00:00",
         "surf",
         null
        ],
        [
         "11",
         "1011",
         "halina",
         "henry",
         "73",
         "cleveland_elyria,_oh_msa",
         "2018-01-18 00:00:00+00:00",
         "ultimate",
         null
        ],
        [
         "12",
         "1012",
         "jonelle",
         "mcbride",
         "59",
         "chicago_naperville_elgin,_il_in_wi_msa",
         "2018-06-28 00:00:00+00:00",
         "surf",
         "2018-11-16 00:00:00+00:00"
        ],
        [
         "13",
         "1013",
         "nicolas",
         "snider",
         "50",
         "knoxville,_tn_msa",
         "2018-12-01 00:00:00+00:00",
         "ultimate",
         null
        ],
        [
         "14",
         "1014",
         "edmundo",
         "simon",
         "61",
         "new_york_newark_jersey_city,_ny_nj_pa_msa",
         "2018-11-25 00:00:00+00:00",
         "surf",
         null
        ],
        [
         "15",
         "1015",
         "beata",
         "carpenter",
         "26",
         "pittsburgh,_pa_msa",
         "2018-12-05 00:00:00+00:00",
         "surf",
         null
        ],
        [
         "16",
         "1016",
         "jann",
         "salinas",
         "30",
         "fresno,_ca_msa",
         "2018-10-25 00:00:00+00:00",
         "surf",
         null
        ],
        [
         "17",
         "1017",
         "boris",
         "gates",
         "61",
         "washington_arlington_alexandria,_dc_va_md_wv_msa",
         "2018-08-26 00:00:00+00:00",
         "surf",
         null
        ],
        [
         "18",
         "1018",
         "dennis",
         "grimes",
         "70",
         "indianapolis_carmel_anderson,_in_msa",
         "2018-10-17 00:00:00+00:00",
         "surf",
         null
        ],
        [
         "19",
         "1019",
         "shizue",
         "landry",
         "34",
         "jacksonville,_fl_msa",
         "2018-01-16 00:00:00+00:00",
         "surf",
         null
        ],
        [
         "20",
         "1020",
         "rutha",
         "bell",
         "56",
         "dallas_fort_worth_arlington,_tx_msa",
         "2018-11-08 00:00:00+00:00",
         "surf",
         null
        ],
        [
         "21",
         "1021",
         "ricarda",
         "booker",
         "37",
         "los_angeles_long_beach_anaheim,_ca_msa",
         "2018-12-21 00:00:00+00:00",
         "surf",
         null
        ],
        [
         "22",
         "1022",
         "bo",
         "snow",
         "73",
         "new_york_newark_jersey_city,_ny_nj_pa_msa",
         "2018-04-20 00:00:00+00:00",
         "surf",
         "2018-09-07 00:00:00+00:00"
        ],
        [
         "23",
         "1023",
         "jack",
         "delaney",
         "70",
         "omaha_council_bluffs,_ne_ia_msa",
         "2018-07-06 00:00:00+00:00",
         "surf",
         null
        ],
        [
         "24",
         "1024",
         "yuki",
         "tyson",
         "74",
         "new_york_newark_jersey_city,_ny_nj_pa_msa",
         "2018-08-21 00:00:00+00:00",
         "surf",
         null
        ],
        [
         "25",
         "1025",
         "jess",
         "wilkinson",
         "64",
         "atlanta_sandy_springs_roswell,_ga_msa",
         "2018-10-28 00:00:00+00:00",
         "ultimate",
         null
        ],
        [
         "26",
         "1026",
         "meggan",
         "hamilton",
         "49",
         "houston_the_woodlands_sugar_land,_tx_msa",
         "2018-07-20 00:00:00+00:00",
         "ultimate",
         null
        ],
        [
         "27",
         "1027",
         "georgeanna",
         "cardenas",
         "38",
         "new_york_newark_jersey_city,_ny_nj_pa_msa",
         "2018-06-26 00:00:00+00:00",
         "surf",
         null
        ],
        [
         "28",
         "1028",
         "jefferey",
         "rasmussen",
         "57",
         "philadelphia_camden_wilmington,_pa_nj_de_md_msa",
         "2018-02-21 00:00:00+00:00",
         "ultimate",
         null
        ],
        [
         "29",
         "1029",
         "franklyn",
         "henson",
         "59",
         "tampa_st_petersburg_clearwater,_fl_msa",
         "2018-01-05 00:00:00+00:00",
         "surf",
         null
        ],
        [
         "30",
         "1030",
         "chase",
         "kane",
         "30",
         "chicago_naperville_elgin,_il_in_wi_msa",
         "2018-02-14 00:00:00+00:00",
         "ultimate",
         null
        ],
        [
         "31",
         "1031",
         "lane",
         "martin",
         "52",
         "new_york_newark_jersey_city,_ny_nj_pa_msa",
         "2018-07-15 00:00:00+00:00",
         "ultimate",
         null
        ],
        [
         "32",
         "1032",
         "delila",
         "dalton",
         "59",
         "birmingham_hoover,_al_msa",
         "2018-06-07 00:00:00+00:00",
         "ultimate",
         null
        ],
        [
         "33",
         "1033",
         "latoyia",
         "moran",
         "28",
         "oklahoma_city,_ok_msa",
         "2018-05-30 00:00:00+00:00",
         "ultimate",
         null
        ],
        [
         "34",
         "1034",
         "jc",
         "gentry",
         "22",
         "new_york_newark_jersey_city,_ny_nj_pa_msa",
         "2018-08-13 00:00:00+00:00",
         "surf",
         null
        ],
        [
         "35",
         "1035",
         "jeff",
         "cummings",
         "67",
         "charlotte_concord_gastonia,_nc_sc_msa",
         "2018-12-08 00:00:00+00:00",
         "surf",
         null
        ],
        [
         "36",
         "1036",
         "myron",
         "hodge",
         "70",
         "denver_aurora_lakewood,_co_msa",
         "2018-05-09 00:00:00+00:00",
         "ultimate",
         null
        ],
        [
         "37",
         "1037",
         "reena",
         "velazquez",
         "20",
         "seattle_tacoma_bellevue,_wa_msa",
         "2018-08-11 00:00:00+00:00",
         "ultimate",
         null
        ],
        [
         "38",
         "1038",
         "olympia",
         "velazquez",
         "32",
         "nashville_davidson_murfreesboro_franklin,_tn_msa",
         "2018-06-25 00:00:00+00:00",
         "ultimate",
         null
        ],
        [
         "39",
         "1039",
         "flo",
         "hicks",
         "56",
         "columbus,_oh_msa",
         "2018-05-30 00:00:00+00:00",
         "ultimate",
         null
        ],
        [
         "40",
         "1040",
         "paris",
         "santos",
         "72",
         "philadelphia_camden_wilmington,_pa_nj_de_md_msa",
         "2018-12-23 00:00:00+00:00",
         "surf",
         "2018-12-30 00:00:00+00:00"
        ],
        [
         "41",
         "1041",
         "drucilla",
         "lynn",
         "58",
         "las_vegas_henderson_paradise,_nv_msa",
         "2018-03-17 00:00:00+00:00",
         "ultimate",
         null
        ],
        [
         "42",
         "1042",
         "clementina",
         "mclaughlin",
         "40",
         "philadelphia_camden_wilmington,_pa_nj_de_md_msa",
         "2018-01-15 00:00:00+00:00",
         "surf",
         null
        ],
        [
         "43",
         "1043",
         "carlos",
         "hinton",
         "42",
         "new_york_newark_jersey_city,_ny_nj_pa_msa",
         "2018-06-20 00:00:00+00:00",
         "ultimate",
         null
        ],
        [
         "44",
         "1044",
         "devora",
         "galloway",
         "74",
         "albuquerque,_nm_msa",
         "2018-08-30 00:00:00+00:00",
         "surf",
         null
        ],
        [
         "45",
         "1045",
         "barney",
         "ortega",
         "20",
         "new_york_newark_jersey_city,_ny_nj_pa_msa",
         "2018-10-15 00:00:00+00:00",
         "surf",
         null
        ],
        [
         "46",
         "1046",
         "beata",
         "hooper",
         "67",
         "boston_cambridge_newton,_ma_nh_msa",
         "2018-02-19 00:00:00+00:00",
         "surf",
         null
        ],
        [
         "47",
         "1047",
         "yuk",
         "french",
         "22",
         "indianapolis_carmel_anderson,_in_msa",
         "2018-06-16 00:00:00+00:00",
         "ultimate",
         null
        ],
        [
         "48",
         "1048",
         "linwood",
         "terrell",
         "42",
         "miami_fort_lauderdale_west_palm_beach,_fl_msa",
         "2018-08-24 00:00:00+00:00",
         "surf",
         null
        ],
        [
         "49",
         "1049",
         "loise",
         "avery",
         "25",
         "new_york_newark_jersey_city,_ny_nj_pa_msa",
         "2018-02-21 00:00:00+00:00",
         "surf",
         null
        ]
       ],
       "shape": {
        "columns": 8,
        "rows": 500
       }
      },
      "text/html": [
       "<div>\n",
       "<style scoped>\n",
       "    .dataframe tbody tr th:only-of-type {\n",
       "        vertical-align: middle;\n",
       "    }\n",
       "\n",
       "    .dataframe tbody tr th {\n",
       "        vertical-align: top;\n",
       "    }\n",
       "\n",
       "    .dataframe thead th {\n",
       "        text-align: right;\n",
       "    }\n",
       "</style>\n",
       "<table border=\"1\" class=\"dataframe\">\n",
       "  <thead>\n",
       "    <tr style=\"text-align: right;\">\n",
       "      <th></th>\n",
       "      <th>user_id</th>\n",
       "      <th>first_name</th>\n",
       "      <th>last_name</th>\n",
       "      <th>age</th>\n",
       "      <th>city</th>\n",
       "      <th>reg_date</th>\n",
       "      <th>plan</th>\n",
       "      <th>churn_date</th>\n",
       "    </tr>\n",
       "  </thead>\n",
       "  <tbody>\n",
       "    <tr>\n",
       "      <th>0</th>\n",
       "      <td>1000</td>\n",
       "      <td>anamaria</td>\n",
       "      <td>bauer</td>\n",
       "      <td>45</td>\n",
       "      <td>atlanta_sandy_springs_roswell,_ga_msa</td>\n",
       "      <td>2018-12-24 00:00:00+00:00</td>\n",
       "      <td>ultimate</td>\n",
       "      <td>NaT</td>\n",
       "    </tr>\n",
       "    <tr>\n",
       "      <th>1</th>\n",
       "      <td>1001</td>\n",
       "      <td>mickey</td>\n",
       "      <td>wilkerson</td>\n",
       "      <td>28</td>\n",
       "      <td>seattle_tacoma_bellevue,_wa_msa</td>\n",
       "      <td>2018-08-13 00:00:00+00:00</td>\n",
       "      <td>surf</td>\n",
       "      <td>NaT</td>\n",
       "    </tr>\n",
       "    <tr>\n",
       "      <th>2</th>\n",
       "      <td>1002</td>\n",
       "      <td>carlee</td>\n",
       "      <td>hoffman</td>\n",
       "      <td>36</td>\n",
       "      <td>las_vegas_henderson_paradise,_nv_msa</td>\n",
       "      <td>2018-10-21 00:00:00+00:00</td>\n",
       "      <td>surf</td>\n",
       "      <td>NaT</td>\n",
       "    </tr>\n",
       "    <tr>\n",
       "      <th>3</th>\n",
       "      <td>1003</td>\n",
       "      <td>reynaldo</td>\n",
       "      <td>jenkins</td>\n",
       "      <td>52</td>\n",
       "      <td>tulsa,_ok_msa</td>\n",
       "      <td>2018-01-28 00:00:00+00:00</td>\n",
       "      <td>surf</td>\n",
       "      <td>NaT</td>\n",
       "    </tr>\n",
       "    <tr>\n",
       "      <th>4</th>\n",
       "      <td>1004</td>\n",
       "      <td>leonila</td>\n",
       "      <td>thompson</td>\n",
       "      <td>40</td>\n",
       "      <td>seattle_tacoma_bellevue,_wa_msa</td>\n",
       "      <td>2018-05-23 00:00:00+00:00</td>\n",
       "      <td>surf</td>\n",
       "      <td>NaT</td>\n",
       "    </tr>\n",
       "    <tr>\n",
       "      <th>...</th>\n",
       "      <td>...</td>\n",
       "      <td>...</td>\n",
       "      <td>...</td>\n",
       "      <td>...</td>\n",
       "      <td>...</td>\n",
       "      <td>...</td>\n",
       "      <td>...</td>\n",
       "      <td>...</td>\n",
       "    </tr>\n",
       "    <tr>\n",
       "      <th>495</th>\n",
       "      <td>1495</td>\n",
       "      <td>fidel</td>\n",
       "      <td>sharpe</td>\n",
       "      <td>67</td>\n",
       "      <td>new_york_newark_jersey_city,_ny_nj_pa_msa</td>\n",
       "      <td>2018-09-04 00:00:00+00:00</td>\n",
       "      <td>surf</td>\n",
       "      <td>NaT</td>\n",
       "    </tr>\n",
       "    <tr>\n",
       "      <th>496</th>\n",
       "      <td>1496</td>\n",
       "      <td>ariel</td>\n",
       "      <td>shepherd</td>\n",
       "      <td>49</td>\n",
       "      <td>new_orleans_metairie,_la_msa</td>\n",
       "      <td>2018-02-20 00:00:00+00:00</td>\n",
       "      <td>surf</td>\n",
       "      <td>NaT</td>\n",
       "    </tr>\n",
       "    <tr>\n",
       "      <th>497</th>\n",
       "      <td>1497</td>\n",
       "      <td>donte</td>\n",
       "      <td>barrera</td>\n",
       "      <td>49</td>\n",
       "      <td>los_angeles_long_beach_anaheim,_ca_msa</td>\n",
       "      <td>2018-12-10 00:00:00+00:00</td>\n",
       "      <td>ultimate</td>\n",
       "      <td>NaT</td>\n",
       "    </tr>\n",
       "    <tr>\n",
       "      <th>498</th>\n",
       "      <td>1498</td>\n",
       "      <td>scot</td>\n",
       "      <td>williamson</td>\n",
       "      <td>51</td>\n",
       "      <td>new_york_newark_jersey_city,_ny_nj_pa_msa</td>\n",
       "      <td>2018-02-04 00:00:00+00:00</td>\n",
       "      <td>surf</td>\n",
       "      <td>NaT</td>\n",
       "    </tr>\n",
       "    <tr>\n",
       "      <th>499</th>\n",
       "      <td>1499</td>\n",
       "      <td>shena</td>\n",
       "      <td>dickson</td>\n",
       "      <td>37</td>\n",
       "      <td>orlando_kissimmee_sanford,_fl_msa</td>\n",
       "      <td>2018-05-06 00:00:00+00:00</td>\n",
       "      <td>surf</td>\n",
       "      <td>NaT</td>\n",
       "    </tr>\n",
       "  </tbody>\n",
       "</table>\n",
       "<p>500 rows × 8 columns</p>\n",
       "</div>"
      ],
      "text/plain": [
       "     user_id first_name   last_name  age                                       city                  reg_date      plan churn_date\n",
       "0       1000   anamaria       bauer   45      atlanta_sandy_springs_roswell,_ga_msa 2018-12-24 00:00:00+00:00  ultimate        NaT\n",
       "1       1001     mickey   wilkerson   28            seattle_tacoma_bellevue,_wa_msa 2018-08-13 00:00:00+00:00      surf        NaT\n",
       "2       1002     carlee     hoffman   36       las_vegas_henderson_paradise,_nv_msa 2018-10-21 00:00:00+00:00      surf        NaT\n",
       "3       1003   reynaldo     jenkins   52                              tulsa,_ok_msa 2018-01-28 00:00:00+00:00      surf        NaT\n",
       "4       1004    leonila    thompson   40            seattle_tacoma_bellevue,_wa_msa 2018-05-23 00:00:00+00:00      surf        NaT\n",
       "..       ...        ...         ...  ...                                        ...                       ...       ...        ...\n",
       "495     1495      fidel      sharpe   67  new_york_newark_jersey_city,_ny_nj_pa_msa 2018-09-04 00:00:00+00:00      surf        NaT\n",
       "496     1496      ariel    shepherd   49               new_orleans_metairie,_la_msa 2018-02-20 00:00:00+00:00      surf        NaT\n",
       "497     1497      donte     barrera   49     los_angeles_long_beach_anaheim,_ca_msa 2018-12-10 00:00:00+00:00  ultimate        NaT\n",
       "498     1498       scot  williamson   51  new_york_newark_jersey_city,_ny_nj_pa_msa 2018-02-04 00:00:00+00:00      surf        NaT\n",
       "499     1499      shena     dickson   37          orlando_kissimmee_sanford,_fl_msa 2018-05-06 00:00:00+00:00      surf        NaT\n",
       "\n",
       "[500 rows x 8 columns]"
      ]
     },
     "execution_count": 30,
     "metadata": {},
     "output_type": "execute_result"
    }
   ],
   "source": [
    "df_users"
   ]
  },
  {
   "cell_type": "code",
   "execution_count": 31,
   "id": "7db56311",
   "metadata": {},
   "outputs": [],
   "source": [
    "# Full Name\n",
    "df_users['full_name'] = df_users['first_name'] + \"_\" + df_users['last_name']"
   ]
  },
  {
   "cell_type": "code",
   "execution_count": 32,
   "id": "2eab0817",
   "metadata": {},
   "outputs": [],
   "source": [
    "# Add Month 'reg_date'\n",
    "df_users['reg_month'] = df_users['reg_date'].dt.month"
   ]
  },
  {
   "cell_type": "code",
   "execution_count": 33,
   "id": "b7588a63",
   "metadata": {},
   "outputs": [],
   "source": [
    "# Add Day 'reg_date'\n",
    "df_users['reg_day'] = df_users['reg_date'].dt.day"
   ]
  },
  {
   "cell_type": "code",
   "execution_count": 34,
   "id": "ec9e0a7c",
   "metadata": {},
   "outputs": [],
   "source": [
    "# Add Month 'churn_date'\n",
    "df_users['churn_month'] = df_users['churn_date'].dt.month"
   ]
  },
  {
   "cell_type": "code",
   "execution_count": 35,
   "id": "77216106",
   "metadata": {},
   "outputs": [],
   "source": [
    "# Add Day 'churn_date'\n",
    "df_users['churn_day'] = df_users['churn_date'].dt.day"
   ]
  },
  {
   "cell_type": "code",
   "execution_count": 36,
   "id": "78e7dabc",
   "metadata": {},
   "outputs": [
    {
     "data": {
      "application/vnd.microsoft.datawrangler.viewer.v0+json": {
       "columns": [
        {
         "name": "index",
         "rawType": "int64",
         "type": "integer"
        },
        {
         "name": "user_id",
         "rawType": "int64",
         "type": "integer"
        },
        {
         "name": "first_name",
         "rawType": "string",
         "type": "string"
        },
        {
         "name": "last_name",
         "rawType": "string",
         "type": "string"
        },
        {
         "name": "age",
         "rawType": "int64",
         "type": "integer"
        },
        {
         "name": "city",
         "rawType": "string",
         "type": "string"
        },
        {
         "name": "reg_date",
         "rawType": "datetime64[ns, UTC]",
         "type": "unknown"
        },
        {
         "name": "plan",
         "rawType": "category",
         "type": "unknown"
        },
        {
         "name": "churn_date",
         "rawType": "datetime64[ns, UTC]",
         "type": "unknown"
        },
        {
         "name": "full_name",
         "rawType": "string",
         "type": "string"
        },
        {
         "name": "reg_month",
         "rawType": "int32",
         "type": "integer"
        },
        {
         "name": "reg_day",
         "rawType": "int32",
         "type": "integer"
        },
        {
         "name": "churn_month",
         "rawType": "float64",
         "type": "float"
        },
        {
         "name": "churn_day",
         "rawType": "float64",
         "type": "float"
        }
       ],
       "ref": "e40c0ab3-8303-41a3-8658-de3c09d0829f",
       "rows": [
        [
         "0",
         "1000",
         "anamaria",
         "bauer",
         "45",
         "atlanta_sandy_springs_roswell,_ga_msa",
         "2018-12-24 00:00:00+00:00",
         "ultimate",
         null,
         "anamaria_bauer",
         "12",
         "24",
         null,
         null
        ],
        [
         "1",
         "1001",
         "mickey",
         "wilkerson",
         "28",
         "seattle_tacoma_bellevue,_wa_msa",
         "2018-08-13 00:00:00+00:00",
         "surf",
         null,
         "mickey_wilkerson",
         "8",
         "13",
         null,
         null
        ],
        [
         "2",
         "1002",
         "carlee",
         "hoffman",
         "36",
         "las_vegas_henderson_paradise,_nv_msa",
         "2018-10-21 00:00:00+00:00",
         "surf",
         null,
         "carlee_hoffman",
         "10",
         "21",
         null,
         null
        ],
        [
         "3",
         "1003",
         "reynaldo",
         "jenkins",
         "52",
         "tulsa,_ok_msa",
         "2018-01-28 00:00:00+00:00",
         "surf",
         null,
         "reynaldo_jenkins",
         "1",
         "28",
         null,
         null
        ],
        [
         "4",
         "1004",
         "leonila",
         "thompson",
         "40",
         "seattle_tacoma_bellevue,_wa_msa",
         "2018-05-23 00:00:00+00:00",
         "surf",
         null,
         "leonila_thompson",
         "5",
         "23",
         null,
         null
        ],
        [
         "5",
         "1005",
         "livia",
         "shields",
         "31",
         "dallas_fort_worth_arlington,_tx_msa",
         "2018-11-29 00:00:00+00:00",
         "surf",
         null,
         "livia_shields",
         "11",
         "29",
         null,
         null
        ],
        [
         "6",
         "1006",
         "jesusa",
         "bradford",
         "73",
         "san_francisco_oakland_berkeley,_ca_msa",
         "2018-11-27 00:00:00+00:00",
         "ultimate",
         "2018-12-18 00:00:00+00:00",
         "jesusa_bradford",
         "11",
         "27",
         "12.0",
         "18.0"
        ],
        [
         "7",
         "1007",
         "eusebio",
         "welch",
         "42",
         "grand_rapids_kentwood,_mi_msa",
         "2018-07-11 00:00:00+00:00",
         "surf",
         null,
         "eusebio_welch",
         "7",
         "11",
         null,
         null
        ],
        [
         "8",
         "1008",
         "emely",
         "hoffman",
         "53",
         "orlando_kissimmee_sanford,_fl_msa",
         "2018-08-03 00:00:00+00:00",
         "ultimate",
         null,
         "emely_hoffman",
         "8",
         "3",
         null,
         null
        ],
        [
         "9",
         "1009",
         "gerry",
         "little",
         "19",
         "san_jose_sunnyvale_santa_clara,_ca_msa",
         "2018-04-22 00:00:00+00:00",
         "surf",
         null,
         "gerry_little",
         "4",
         "22",
         null,
         null
        ],
        [
         "10",
         "1010",
         "wilber",
         "blair",
         "52",
         "dallas_fort_worth_arlington,_tx_msa",
         "2018-03-09 00:00:00+00:00",
         "surf",
         null,
         "wilber_blair",
         "3",
         "9",
         null,
         null
        ],
        [
         "11",
         "1011",
         "halina",
         "henry",
         "73",
         "cleveland_elyria,_oh_msa",
         "2018-01-18 00:00:00+00:00",
         "ultimate",
         null,
         "halina_henry",
         "1",
         "18",
         null,
         null
        ],
        [
         "12",
         "1012",
         "jonelle",
         "mcbride",
         "59",
         "chicago_naperville_elgin,_il_in_wi_msa",
         "2018-06-28 00:00:00+00:00",
         "surf",
         "2018-11-16 00:00:00+00:00",
         "jonelle_mcbride",
         "6",
         "28",
         "11.0",
         "16.0"
        ],
        [
         "13",
         "1013",
         "nicolas",
         "snider",
         "50",
         "knoxville,_tn_msa",
         "2018-12-01 00:00:00+00:00",
         "ultimate",
         null,
         "nicolas_snider",
         "12",
         "1",
         null,
         null
        ],
        [
         "14",
         "1014",
         "edmundo",
         "simon",
         "61",
         "new_york_newark_jersey_city,_ny_nj_pa_msa",
         "2018-11-25 00:00:00+00:00",
         "surf",
         null,
         "edmundo_simon",
         "11",
         "25",
         null,
         null
        ],
        [
         "15",
         "1015",
         "beata",
         "carpenter",
         "26",
         "pittsburgh,_pa_msa",
         "2018-12-05 00:00:00+00:00",
         "surf",
         null,
         "beata_carpenter",
         "12",
         "5",
         null,
         null
        ],
        [
         "16",
         "1016",
         "jann",
         "salinas",
         "30",
         "fresno,_ca_msa",
         "2018-10-25 00:00:00+00:00",
         "surf",
         null,
         "jann_salinas",
         "10",
         "25",
         null,
         null
        ],
        [
         "17",
         "1017",
         "boris",
         "gates",
         "61",
         "washington_arlington_alexandria,_dc_va_md_wv_msa",
         "2018-08-26 00:00:00+00:00",
         "surf",
         null,
         "boris_gates",
         "8",
         "26",
         null,
         null
        ],
        [
         "18",
         "1018",
         "dennis",
         "grimes",
         "70",
         "indianapolis_carmel_anderson,_in_msa",
         "2018-10-17 00:00:00+00:00",
         "surf",
         null,
         "dennis_grimes",
         "10",
         "17",
         null,
         null
        ],
        [
         "19",
         "1019",
         "shizue",
         "landry",
         "34",
         "jacksonville,_fl_msa",
         "2018-01-16 00:00:00+00:00",
         "surf",
         null,
         "shizue_landry",
         "1",
         "16",
         null,
         null
        ],
        [
         "20",
         "1020",
         "rutha",
         "bell",
         "56",
         "dallas_fort_worth_arlington,_tx_msa",
         "2018-11-08 00:00:00+00:00",
         "surf",
         null,
         "rutha_bell",
         "11",
         "8",
         null,
         null
        ],
        [
         "21",
         "1021",
         "ricarda",
         "booker",
         "37",
         "los_angeles_long_beach_anaheim,_ca_msa",
         "2018-12-21 00:00:00+00:00",
         "surf",
         null,
         "ricarda_booker",
         "12",
         "21",
         null,
         null
        ],
        [
         "22",
         "1022",
         "bo",
         "snow",
         "73",
         "new_york_newark_jersey_city,_ny_nj_pa_msa",
         "2018-04-20 00:00:00+00:00",
         "surf",
         "2018-09-07 00:00:00+00:00",
         "bo_snow",
         "4",
         "20",
         "9.0",
         "7.0"
        ],
        [
         "23",
         "1023",
         "jack",
         "delaney",
         "70",
         "omaha_council_bluffs,_ne_ia_msa",
         "2018-07-06 00:00:00+00:00",
         "surf",
         null,
         "jack_delaney",
         "7",
         "6",
         null,
         null
        ],
        [
         "24",
         "1024",
         "yuki",
         "tyson",
         "74",
         "new_york_newark_jersey_city,_ny_nj_pa_msa",
         "2018-08-21 00:00:00+00:00",
         "surf",
         null,
         "yuki_tyson",
         "8",
         "21",
         null,
         null
        ],
        [
         "25",
         "1025",
         "jess",
         "wilkinson",
         "64",
         "atlanta_sandy_springs_roswell,_ga_msa",
         "2018-10-28 00:00:00+00:00",
         "ultimate",
         null,
         "jess_wilkinson",
         "10",
         "28",
         null,
         null
        ],
        [
         "26",
         "1026",
         "meggan",
         "hamilton",
         "49",
         "houston_the_woodlands_sugar_land,_tx_msa",
         "2018-07-20 00:00:00+00:00",
         "ultimate",
         null,
         "meggan_hamilton",
         "7",
         "20",
         null,
         null
        ],
        [
         "27",
         "1027",
         "georgeanna",
         "cardenas",
         "38",
         "new_york_newark_jersey_city,_ny_nj_pa_msa",
         "2018-06-26 00:00:00+00:00",
         "surf",
         null,
         "georgeanna_cardenas",
         "6",
         "26",
         null,
         null
        ],
        [
         "28",
         "1028",
         "jefferey",
         "rasmussen",
         "57",
         "philadelphia_camden_wilmington,_pa_nj_de_md_msa",
         "2018-02-21 00:00:00+00:00",
         "ultimate",
         null,
         "jefferey_rasmussen",
         "2",
         "21",
         null,
         null
        ],
        [
         "29",
         "1029",
         "franklyn",
         "henson",
         "59",
         "tampa_st_petersburg_clearwater,_fl_msa",
         "2018-01-05 00:00:00+00:00",
         "surf",
         null,
         "franklyn_henson",
         "1",
         "5",
         null,
         null
        ],
        [
         "30",
         "1030",
         "chase",
         "kane",
         "30",
         "chicago_naperville_elgin,_il_in_wi_msa",
         "2018-02-14 00:00:00+00:00",
         "ultimate",
         null,
         "chase_kane",
         "2",
         "14",
         null,
         null
        ],
        [
         "31",
         "1031",
         "lane",
         "martin",
         "52",
         "new_york_newark_jersey_city,_ny_nj_pa_msa",
         "2018-07-15 00:00:00+00:00",
         "ultimate",
         null,
         "lane_martin",
         "7",
         "15",
         null,
         null
        ],
        [
         "32",
         "1032",
         "delila",
         "dalton",
         "59",
         "birmingham_hoover,_al_msa",
         "2018-06-07 00:00:00+00:00",
         "ultimate",
         null,
         "delila_dalton",
         "6",
         "7",
         null,
         null
        ],
        [
         "33",
         "1033",
         "latoyia",
         "moran",
         "28",
         "oklahoma_city,_ok_msa",
         "2018-05-30 00:00:00+00:00",
         "ultimate",
         null,
         "latoyia_moran",
         "5",
         "30",
         null,
         null
        ],
        [
         "34",
         "1034",
         "jc",
         "gentry",
         "22",
         "new_york_newark_jersey_city,_ny_nj_pa_msa",
         "2018-08-13 00:00:00+00:00",
         "surf",
         null,
         "jc_gentry",
         "8",
         "13",
         null,
         null
        ],
        [
         "35",
         "1035",
         "jeff",
         "cummings",
         "67",
         "charlotte_concord_gastonia,_nc_sc_msa",
         "2018-12-08 00:00:00+00:00",
         "surf",
         null,
         "jeff_cummings",
         "12",
         "8",
         null,
         null
        ],
        [
         "36",
         "1036",
         "myron",
         "hodge",
         "70",
         "denver_aurora_lakewood,_co_msa",
         "2018-05-09 00:00:00+00:00",
         "ultimate",
         null,
         "myron_hodge",
         "5",
         "9",
         null,
         null
        ],
        [
         "37",
         "1037",
         "reena",
         "velazquez",
         "20",
         "seattle_tacoma_bellevue,_wa_msa",
         "2018-08-11 00:00:00+00:00",
         "ultimate",
         null,
         "reena_velazquez",
         "8",
         "11",
         null,
         null
        ],
        [
         "38",
         "1038",
         "olympia",
         "velazquez",
         "32",
         "nashville_davidson_murfreesboro_franklin,_tn_msa",
         "2018-06-25 00:00:00+00:00",
         "ultimate",
         null,
         "olympia_velazquez",
         "6",
         "25",
         null,
         null
        ],
        [
         "39",
         "1039",
         "flo",
         "hicks",
         "56",
         "columbus,_oh_msa",
         "2018-05-30 00:00:00+00:00",
         "ultimate",
         null,
         "flo_hicks",
         "5",
         "30",
         null,
         null
        ],
        [
         "40",
         "1040",
         "paris",
         "santos",
         "72",
         "philadelphia_camden_wilmington,_pa_nj_de_md_msa",
         "2018-12-23 00:00:00+00:00",
         "surf",
         "2018-12-30 00:00:00+00:00",
         "paris_santos",
         "12",
         "23",
         "12.0",
         "30.0"
        ],
        [
         "41",
         "1041",
         "drucilla",
         "lynn",
         "58",
         "las_vegas_henderson_paradise,_nv_msa",
         "2018-03-17 00:00:00+00:00",
         "ultimate",
         null,
         "drucilla_lynn",
         "3",
         "17",
         null,
         null
        ],
        [
         "42",
         "1042",
         "clementina",
         "mclaughlin",
         "40",
         "philadelphia_camden_wilmington,_pa_nj_de_md_msa",
         "2018-01-15 00:00:00+00:00",
         "surf",
         null,
         "clementina_mclaughlin",
         "1",
         "15",
         null,
         null
        ],
        [
         "43",
         "1043",
         "carlos",
         "hinton",
         "42",
         "new_york_newark_jersey_city,_ny_nj_pa_msa",
         "2018-06-20 00:00:00+00:00",
         "ultimate",
         null,
         "carlos_hinton",
         "6",
         "20",
         null,
         null
        ],
        [
         "44",
         "1044",
         "devora",
         "galloway",
         "74",
         "albuquerque,_nm_msa",
         "2018-08-30 00:00:00+00:00",
         "surf",
         null,
         "devora_galloway",
         "8",
         "30",
         null,
         null
        ],
        [
         "45",
         "1045",
         "barney",
         "ortega",
         "20",
         "new_york_newark_jersey_city,_ny_nj_pa_msa",
         "2018-10-15 00:00:00+00:00",
         "surf",
         null,
         "barney_ortega",
         "10",
         "15",
         null,
         null
        ],
        [
         "46",
         "1046",
         "beata",
         "hooper",
         "67",
         "boston_cambridge_newton,_ma_nh_msa",
         "2018-02-19 00:00:00+00:00",
         "surf",
         null,
         "beata_hooper",
         "2",
         "19",
         null,
         null
        ],
        [
         "47",
         "1047",
         "yuk",
         "french",
         "22",
         "indianapolis_carmel_anderson,_in_msa",
         "2018-06-16 00:00:00+00:00",
         "ultimate",
         null,
         "yuk_french",
         "6",
         "16",
         null,
         null
        ],
        [
         "48",
         "1048",
         "linwood",
         "terrell",
         "42",
         "miami_fort_lauderdale_west_palm_beach,_fl_msa",
         "2018-08-24 00:00:00+00:00",
         "surf",
         null,
         "linwood_terrell",
         "8",
         "24",
         null,
         null
        ],
        [
         "49",
         "1049",
         "loise",
         "avery",
         "25",
         "new_york_newark_jersey_city,_ny_nj_pa_msa",
         "2018-02-21 00:00:00+00:00",
         "surf",
         null,
         "loise_avery",
         "2",
         "21",
         null,
         null
        ]
       ],
       "shape": {
        "columns": 13,
        "rows": 500
       }
      },
      "text/html": [
       "<div>\n",
       "<style scoped>\n",
       "    .dataframe tbody tr th:only-of-type {\n",
       "        vertical-align: middle;\n",
       "    }\n",
       "\n",
       "    .dataframe tbody tr th {\n",
       "        vertical-align: top;\n",
       "    }\n",
       "\n",
       "    .dataframe thead th {\n",
       "        text-align: right;\n",
       "    }\n",
       "</style>\n",
       "<table border=\"1\" class=\"dataframe\">\n",
       "  <thead>\n",
       "    <tr style=\"text-align: right;\">\n",
       "      <th></th>\n",
       "      <th>user_id</th>\n",
       "      <th>first_name</th>\n",
       "      <th>last_name</th>\n",
       "      <th>age</th>\n",
       "      <th>city</th>\n",
       "      <th>reg_date</th>\n",
       "      <th>plan</th>\n",
       "      <th>churn_date</th>\n",
       "      <th>full_name</th>\n",
       "      <th>reg_month</th>\n",
       "      <th>reg_day</th>\n",
       "      <th>churn_month</th>\n",
       "      <th>churn_day</th>\n",
       "    </tr>\n",
       "  </thead>\n",
       "  <tbody>\n",
       "    <tr>\n",
       "      <th>0</th>\n",
       "      <td>1000</td>\n",
       "      <td>anamaria</td>\n",
       "      <td>bauer</td>\n",
       "      <td>45</td>\n",
       "      <td>atlanta_sandy_springs_roswell,_ga_msa</td>\n",
       "      <td>2018-12-24 00:00:00+00:00</td>\n",
       "      <td>ultimate</td>\n",
       "      <td>NaT</td>\n",
       "      <td>anamaria_bauer</td>\n",
       "      <td>12</td>\n",
       "      <td>24</td>\n",
       "      <td>NaN</td>\n",
       "      <td>NaN</td>\n",
       "    </tr>\n",
       "    <tr>\n",
       "      <th>1</th>\n",
       "      <td>1001</td>\n",
       "      <td>mickey</td>\n",
       "      <td>wilkerson</td>\n",
       "      <td>28</td>\n",
       "      <td>seattle_tacoma_bellevue,_wa_msa</td>\n",
       "      <td>2018-08-13 00:00:00+00:00</td>\n",
       "      <td>surf</td>\n",
       "      <td>NaT</td>\n",
       "      <td>mickey_wilkerson</td>\n",
       "      <td>8</td>\n",
       "      <td>13</td>\n",
       "      <td>NaN</td>\n",
       "      <td>NaN</td>\n",
       "    </tr>\n",
       "    <tr>\n",
       "      <th>2</th>\n",
       "      <td>1002</td>\n",
       "      <td>carlee</td>\n",
       "      <td>hoffman</td>\n",
       "      <td>36</td>\n",
       "      <td>las_vegas_henderson_paradise,_nv_msa</td>\n",
       "      <td>2018-10-21 00:00:00+00:00</td>\n",
       "      <td>surf</td>\n",
       "      <td>NaT</td>\n",
       "      <td>carlee_hoffman</td>\n",
       "      <td>10</td>\n",
       "      <td>21</td>\n",
       "      <td>NaN</td>\n",
       "      <td>NaN</td>\n",
       "    </tr>\n",
       "    <tr>\n",
       "      <th>3</th>\n",
       "      <td>1003</td>\n",
       "      <td>reynaldo</td>\n",
       "      <td>jenkins</td>\n",
       "      <td>52</td>\n",
       "      <td>tulsa,_ok_msa</td>\n",
       "      <td>2018-01-28 00:00:00+00:00</td>\n",
       "      <td>surf</td>\n",
       "      <td>NaT</td>\n",
       "      <td>reynaldo_jenkins</td>\n",
       "      <td>1</td>\n",
       "      <td>28</td>\n",
       "      <td>NaN</td>\n",
       "      <td>NaN</td>\n",
       "    </tr>\n",
       "    <tr>\n",
       "      <th>4</th>\n",
       "      <td>1004</td>\n",
       "      <td>leonila</td>\n",
       "      <td>thompson</td>\n",
       "      <td>40</td>\n",
       "      <td>seattle_tacoma_bellevue,_wa_msa</td>\n",
       "      <td>2018-05-23 00:00:00+00:00</td>\n",
       "      <td>surf</td>\n",
       "      <td>NaT</td>\n",
       "      <td>leonila_thompson</td>\n",
       "      <td>5</td>\n",
       "      <td>23</td>\n",
       "      <td>NaN</td>\n",
       "      <td>NaN</td>\n",
       "    </tr>\n",
       "    <tr>\n",
       "      <th>...</th>\n",
       "      <td>...</td>\n",
       "      <td>...</td>\n",
       "      <td>...</td>\n",
       "      <td>...</td>\n",
       "      <td>...</td>\n",
       "      <td>...</td>\n",
       "      <td>...</td>\n",
       "      <td>...</td>\n",
       "      <td>...</td>\n",
       "      <td>...</td>\n",
       "      <td>...</td>\n",
       "      <td>...</td>\n",
       "      <td>...</td>\n",
       "    </tr>\n",
       "    <tr>\n",
       "      <th>495</th>\n",
       "      <td>1495</td>\n",
       "      <td>fidel</td>\n",
       "      <td>sharpe</td>\n",
       "      <td>67</td>\n",
       "      <td>new_york_newark_jersey_city,_ny_nj_pa_msa</td>\n",
       "      <td>2018-09-04 00:00:00+00:00</td>\n",
       "      <td>surf</td>\n",
       "      <td>NaT</td>\n",
       "      <td>fidel_sharpe</td>\n",
       "      <td>9</td>\n",
       "      <td>4</td>\n",
       "      <td>NaN</td>\n",
       "      <td>NaN</td>\n",
       "    </tr>\n",
       "    <tr>\n",
       "      <th>496</th>\n",
       "      <td>1496</td>\n",
       "      <td>ariel</td>\n",
       "      <td>shepherd</td>\n",
       "      <td>49</td>\n",
       "      <td>new_orleans_metairie,_la_msa</td>\n",
       "      <td>2018-02-20 00:00:00+00:00</td>\n",
       "      <td>surf</td>\n",
       "      <td>NaT</td>\n",
       "      <td>ariel_shepherd</td>\n",
       "      <td>2</td>\n",
       "      <td>20</td>\n",
       "      <td>NaN</td>\n",
       "      <td>NaN</td>\n",
       "    </tr>\n",
       "    <tr>\n",
       "      <th>497</th>\n",
       "      <td>1497</td>\n",
       "      <td>donte</td>\n",
       "      <td>barrera</td>\n",
       "      <td>49</td>\n",
       "      <td>los_angeles_long_beach_anaheim,_ca_msa</td>\n",
       "      <td>2018-12-10 00:00:00+00:00</td>\n",
       "      <td>ultimate</td>\n",
       "      <td>NaT</td>\n",
       "      <td>donte_barrera</td>\n",
       "      <td>12</td>\n",
       "      <td>10</td>\n",
       "      <td>NaN</td>\n",
       "      <td>NaN</td>\n",
       "    </tr>\n",
       "    <tr>\n",
       "      <th>498</th>\n",
       "      <td>1498</td>\n",
       "      <td>scot</td>\n",
       "      <td>williamson</td>\n",
       "      <td>51</td>\n",
       "      <td>new_york_newark_jersey_city,_ny_nj_pa_msa</td>\n",
       "      <td>2018-02-04 00:00:00+00:00</td>\n",
       "      <td>surf</td>\n",
       "      <td>NaT</td>\n",
       "      <td>scot_williamson</td>\n",
       "      <td>2</td>\n",
       "      <td>4</td>\n",
       "      <td>NaN</td>\n",
       "      <td>NaN</td>\n",
       "    </tr>\n",
       "    <tr>\n",
       "      <th>499</th>\n",
       "      <td>1499</td>\n",
       "      <td>shena</td>\n",
       "      <td>dickson</td>\n",
       "      <td>37</td>\n",
       "      <td>orlando_kissimmee_sanford,_fl_msa</td>\n",
       "      <td>2018-05-06 00:00:00+00:00</td>\n",
       "      <td>surf</td>\n",
       "      <td>NaT</td>\n",
       "      <td>shena_dickson</td>\n",
       "      <td>5</td>\n",
       "      <td>6</td>\n",
       "      <td>NaN</td>\n",
       "      <td>NaN</td>\n",
       "    </tr>\n",
       "  </tbody>\n",
       "</table>\n",
       "<p>500 rows × 13 columns</p>\n",
       "</div>"
      ],
      "text/plain": [
       "     user_id first_name   last_name  age                                       city                  reg_date      plan churn_date  \\\n",
       "0       1000   anamaria       bauer   45      atlanta_sandy_springs_roswell,_ga_msa 2018-12-24 00:00:00+00:00  ultimate        NaT   \n",
       "1       1001     mickey   wilkerson   28            seattle_tacoma_bellevue,_wa_msa 2018-08-13 00:00:00+00:00      surf        NaT   \n",
       "2       1002     carlee     hoffman   36       las_vegas_henderson_paradise,_nv_msa 2018-10-21 00:00:00+00:00      surf        NaT   \n",
       "3       1003   reynaldo     jenkins   52                              tulsa,_ok_msa 2018-01-28 00:00:00+00:00      surf        NaT   \n",
       "4       1004    leonila    thompson   40            seattle_tacoma_bellevue,_wa_msa 2018-05-23 00:00:00+00:00      surf        NaT   \n",
       "..       ...        ...         ...  ...                                        ...                       ...       ...        ...   \n",
       "495     1495      fidel      sharpe   67  new_york_newark_jersey_city,_ny_nj_pa_msa 2018-09-04 00:00:00+00:00      surf        NaT   \n",
       "496     1496      ariel    shepherd   49               new_orleans_metairie,_la_msa 2018-02-20 00:00:00+00:00      surf        NaT   \n",
       "497     1497      donte     barrera   49     los_angeles_long_beach_anaheim,_ca_msa 2018-12-10 00:00:00+00:00  ultimate        NaT   \n",
       "498     1498       scot  williamson   51  new_york_newark_jersey_city,_ny_nj_pa_msa 2018-02-04 00:00:00+00:00      surf        NaT   \n",
       "499     1499      shena     dickson   37          orlando_kissimmee_sanford,_fl_msa 2018-05-06 00:00:00+00:00      surf        NaT   \n",
       "\n",
       "            full_name  reg_month  reg_day  churn_month  churn_day  \n",
       "0      anamaria_bauer         12       24          NaN        NaN  \n",
       "1    mickey_wilkerson          8       13          NaN        NaN  \n",
       "2      carlee_hoffman         10       21          NaN        NaN  \n",
       "3    reynaldo_jenkins          1       28          NaN        NaN  \n",
       "4    leonila_thompson          5       23          NaN        NaN  \n",
       "..                ...        ...      ...          ...        ...  \n",
       "495      fidel_sharpe          9        4          NaN        NaN  \n",
       "496    ariel_shepherd          2       20          NaN        NaN  \n",
       "497     donte_barrera         12       10          NaN        NaN  \n",
       "498   scot_williamson          2        4          NaN        NaN  \n",
       "499     shena_dickson          5        6          NaN        NaN  \n",
       "\n",
       "[500 rows x 13 columns]"
      ]
     },
     "execution_count": 36,
     "metadata": {},
     "output_type": "execute_result"
    }
   ],
   "source": [
    "df_users"
   ]
  },
  {
   "cell_type": "code",
   "execution_count": 37,
   "id": "71c610be",
   "metadata": {},
   "outputs": [],
   "source": [
    "project_root = Path.cwd().parent\n",
    "processed_path = project_root / \"data\" / \"processed\" / \"feature\" / \"users_feature.csv\"\n",
    "\n",
    "df_users.to_csv(processed_path, index=False)"
   ]
  },
  {
   "cell_type": "markdown",
   "id": "bc2de2ee",
   "metadata": {},
   "source": [
    "### 4.2 Calls activity"
   ]
  },
  {
   "cell_type": "code",
   "execution_count": 38,
   "id": "bbe10151",
   "metadata": {},
   "outputs": [
    {
     "data": {
      "application/vnd.microsoft.datawrangler.viewer.v0+json": {
       "columns": [
        {
         "name": "index",
         "rawType": "int64",
         "type": "integer"
        },
        {
         "name": "call_id",
         "rawType": "object",
         "type": "string"
        },
        {
         "name": "user_id",
         "rawType": "int64",
         "type": "integer"
        },
        {
         "name": "call_date",
         "rawType": "datetime64[ns, UTC]",
         "type": "unknown"
        },
        {
         "name": "duration",
         "rawType": "float64",
         "type": "float"
        },
        {
         "name": "month",
         "rawType": "int32",
         "type": "integer"
        },
        {
         "name": "day",
         "rawType": "int32",
         "type": "integer"
        }
       ],
       "ref": "a1592cac-0960-4604-a673-b50d5af0b304",
       "rows": [
        [
         "0",
         "1000_93",
         "1000",
         "2018-12-27 00:00:00+00:00",
         "9.0",
         "12",
         "27"
        ],
        [
         "1",
         "1000_145",
         "1000",
         "2018-12-27 00:00:00+00:00",
         "14.0",
         "12",
         "27"
        ],
        [
         "2",
         "1000_247",
         "1000",
         "2018-12-27 00:00:00+00:00",
         "15.0",
         "12",
         "27"
        ],
        [
         "3",
         "1000_309",
         "1000",
         "2018-12-28 00:00:00+00:00",
         "6.0",
         "12",
         "28"
        ],
        [
         "4",
         "1000_380",
         "1000",
         "2018-12-30 00:00:00+00:00",
         "5.0",
         "12",
         "30"
        ],
        [
         "5",
         "1000_388",
         "1000",
         "2018-12-31 00:00:00+00:00",
         "3.0",
         "12",
         "31"
        ],
        [
         "6",
         "1000_510",
         "1000",
         "2018-12-27 00:00:00+00:00",
         "6.0",
         "12",
         "27"
        ],
        [
         "7",
         "1000_521",
         "1000",
         "2018-12-28 00:00:00+00:00",
         "15.0",
         "12",
         "28"
        ],
        [
         "8",
         "1000_530",
         "1000",
         "2018-12-28 00:00:00+00:00",
         "6.0",
         "12",
         "28"
        ],
        [
         "9",
         "1000_544",
         "1000",
         "2018-12-26 00:00:00+00:00",
         "5.0",
         "12",
         "26"
        ],
        [
         "10",
         "1000_693",
         "1000",
         "2018-12-31 00:00:00+00:00",
         "5.0",
         "12",
         "31"
        ],
        [
         "11",
         "1000_705",
         "1000",
         "2018-12-31 00:00:00+00:00",
         "13.0",
         "12",
         "31"
        ],
        [
         "12",
         "1000_735",
         "1000",
         "2018-12-29 00:00:00+00:00",
         "2.0",
         "12",
         "29"
        ],
        [
         "13",
         "1000_778",
         "1000",
         "2018-12-28 00:00:00+00:00",
         "4.0",
         "12",
         "28"
        ],
        [
         "14",
         "1000_826",
         "1000",
         "2018-12-26 00:00:00+00:00",
         "10.0",
         "12",
         "26"
        ],
        [
         "15",
         "1000_842",
         "1000",
         "2018-12-27 00:00:00+00:00",
         "6.0",
         "12",
         "27"
        ],
        [
         "16",
         "1001_0",
         "1001",
         "2018-09-06 00:00:00+00:00",
         "11.0",
         "9",
         "6"
        ],
        [
         "17",
         "1001_1",
         "1001",
         "2018-10-12 00:00:00+00:00",
         "1.0",
         "10",
         "12"
        ],
        [
         "18",
         "1001_2",
         "1001",
         "2018-10-17 00:00:00+00:00",
         "16.0",
         "10",
         "17"
        ],
        [
         "19",
         "1001_4",
         "1001",
         "2018-12-05 00:00:00+00:00",
         "0.0",
         "12",
         "5"
        ],
        [
         "20",
         "1001_5",
         "1001",
         "2018-12-13 00:00:00+00:00",
         "7.0",
         "12",
         "13"
        ],
        [
         "21",
         "1001_6",
         "1001",
         "2018-12-04 00:00:00+00:00",
         "8.0",
         "12",
         "4"
        ],
        [
         "22",
         "1001_8",
         "1001",
         "2018-11-17 00:00:00+00:00",
         "3.0",
         "11",
         "17"
        ],
        [
         "23",
         "1001_9",
         "1001",
         "2018-11-19 00:00:00+00:00",
         "3.0",
         "11",
         "19"
        ],
        [
         "24",
         "1001_11",
         "1001",
         "2018-11-09 00:00:00+00:00",
         "1.0",
         "11",
         "9"
        ],
        [
         "25",
         "1001_13",
         "1001",
         "2018-12-24 00:00:00+00:00",
         "0.0",
         "12",
         "24"
        ],
        [
         "26",
         "1001_19",
         "1001",
         "2018-11-15 00:00:00+00:00",
         "30.0",
         "11",
         "15"
        ],
        [
         "27",
         "1001_20",
         "1001",
         "2018-09-21 00:00:00+00:00",
         "6.0",
         "9",
         "21"
        ],
        [
         "28",
         "1001_23",
         "1001",
         "2018-10-27 00:00:00+00:00",
         "1.0",
         "10",
         "27"
        ],
        [
         "29",
         "1001_26",
         "1001",
         "2018-10-28 00:00:00+00:00",
         "6.0",
         "10",
         "28"
        ],
        [
         "30",
         "1001_29",
         "1001",
         "2018-09-30 00:00:00+00:00",
         "15.0",
         "9",
         "30"
        ],
        [
         "31",
         "1001_30",
         "1001",
         "2018-10-17 00:00:00+00:00",
         "0.0",
         "10",
         "17"
        ],
        [
         "32",
         "1001_31",
         "1001",
         "2018-11-03 00:00:00+00:00",
         "0.0",
         "11",
         "3"
        ],
        [
         "33",
         "1001_32",
         "1001",
         "2018-11-25 00:00:00+00:00",
         "4.0",
         "11",
         "25"
        ],
        [
         "34",
         "1001_35",
         "1001",
         "2018-12-21 00:00:00+00:00",
         "0.0",
         "12",
         "21"
        ],
        [
         "35",
         "1001_37",
         "1001",
         "2018-11-17 00:00:00+00:00",
         "16.0",
         "11",
         "17"
        ],
        [
         "36",
         "1001_39",
         "1001",
         "2018-12-07 00:00:00+00:00",
         "12.0",
         "12",
         "7"
        ],
        [
         "37",
         "1001_40",
         "1001",
         "2018-09-30 00:00:00+00:00",
         "19.0",
         "9",
         "30"
        ],
        [
         "38",
         "1001_42",
         "1001",
         "2018-08-28 00:00:00+00:00",
         "14.0",
         "8",
         "28"
        ],
        [
         "39",
         "1001_43",
         "1001",
         "2018-12-13 00:00:00+00:00",
         "0.0",
         "12",
         "13"
        ],
        [
         "40",
         "1001_44",
         "1001",
         "2018-12-01 00:00:00+00:00",
         "7.0",
         "12",
         "1"
        ],
        [
         "41",
         "1001_46",
         "1001",
         "2018-11-03 00:00:00+00:00",
         "1.0",
         "11",
         "3"
        ],
        [
         "42",
         "1001_47",
         "1001",
         "2018-11-08 00:00:00+00:00",
         "7.0",
         "11",
         "8"
        ],
        [
         "43",
         "1001_51",
         "1001",
         "2018-09-14 00:00:00+00:00",
         "17.0",
         "9",
         "14"
        ],
        [
         "44",
         "1001_52",
         "1001",
         "2018-11-23 00:00:00+00:00",
         "0.0",
         "11",
         "23"
        ],
        [
         "45",
         "1001_53",
         "1001",
         "2018-10-24 00:00:00+00:00",
         "0.0",
         "10",
         "24"
        ],
        [
         "46",
         "1001_54",
         "1001",
         "2018-12-11 00:00:00+00:00",
         "9.0",
         "12",
         "11"
        ],
        [
         "47",
         "1001_57",
         "1001",
         "2018-12-16 00:00:00+00:00",
         "22.0",
         "12",
         "16"
        ],
        [
         "48",
         "1001_59",
         "1001",
         "2018-12-19 00:00:00+00:00",
         "10.0",
         "12",
         "19"
        ],
        [
         "49",
         "1001_60",
         "1001",
         "2018-12-16 00:00:00+00:00",
         "0.0",
         "12",
         "16"
        ]
       ],
       "shape": {
        "columns": 6,
        "rows": 137735
       }
      },
      "text/html": [
       "<div>\n",
       "<style scoped>\n",
       "    .dataframe tbody tr th:only-of-type {\n",
       "        vertical-align: middle;\n",
       "    }\n",
       "\n",
       "    .dataframe tbody tr th {\n",
       "        vertical-align: top;\n",
       "    }\n",
       "\n",
       "    .dataframe thead th {\n",
       "        text-align: right;\n",
       "    }\n",
       "</style>\n",
       "<table border=\"1\" class=\"dataframe\">\n",
       "  <thead>\n",
       "    <tr style=\"text-align: right;\">\n",
       "      <th></th>\n",
       "      <th>call_id</th>\n",
       "      <th>user_id</th>\n",
       "      <th>call_date</th>\n",
       "      <th>duration</th>\n",
       "      <th>month</th>\n",
       "      <th>day</th>\n",
       "    </tr>\n",
       "  </thead>\n",
       "  <tbody>\n",
       "    <tr>\n",
       "      <th>0</th>\n",
       "      <td>1000_93</td>\n",
       "      <td>1000</td>\n",
       "      <td>2018-12-27 00:00:00+00:00</td>\n",
       "      <td>9.0</td>\n",
       "      <td>12</td>\n",
       "      <td>27</td>\n",
       "    </tr>\n",
       "    <tr>\n",
       "      <th>1</th>\n",
       "      <td>1000_145</td>\n",
       "      <td>1000</td>\n",
       "      <td>2018-12-27 00:00:00+00:00</td>\n",
       "      <td>14.0</td>\n",
       "      <td>12</td>\n",
       "      <td>27</td>\n",
       "    </tr>\n",
       "    <tr>\n",
       "      <th>2</th>\n",
       "      <td>1000_247</td>\n",
       "      <td>1000</td>\n",
       "      <td>2018-12-27 00:00:00+00:00</td>\n",
       "      <td>15.0</td>\n",
       "      <td>12</td>\n",
       "      <td>27</td>\n",
       "    </tr>\n",
       "    <tr>\n",
       "      <th>3</th>\n",
       "      <td>1000_309</td>\n",
       "      <td>1000</td>\n",
       "      <td>2018-12-28 00:00:00+00:00</td>\n",
       "      <td>6.0</td>\n",
       "      <td>12</td>\n",
       "      <td>28</td>\n",
       "    </tr>\n",
       "    <tr>\n",
       "      <th>4</th>\n",
       "      <td>1000_380</td>\n",
       "      <td>1000</td>\n",
       "      <td>2018-12-30 00:00:00+00:00</td>\n",
       "      <td>5.0</td>\n",
       "      <td>12</td>\n",
       "      <td>30</td>\n",
       "    </tr>\n",
       "    <tr>\n",
       "      <th>...</th>\n",
       "      <td>...</td>\n",
       "      <td>...</td>\n",
       "      <td>...</td>\n",
       "      <td>...</td>\n",
       "      <td>...</td>\n",
       "      <td>...</td>\n",
       "    </tr>\n",
       "    <tr>\n",
       "      <th>137730</th>\n",
       "      <td>1499_199</td>\n",
       "      <td>1499</td>\n",
       "      <td>2018-11-21 00:00:00+00:00</td>\n",
       "      <td>9.0</td>\n",
       "      <td>11</td>\n",
       "      <td>21</td>\n",
       "    </tr>\n",
       "    <tr>\n",
       "      <th>137731</th>\n",
       "      <td>1499_200</td>\n",
       "      <td>1499</td>\n",
       "      <td>2018-10-20 00:00:00+00:00</td>\n",
       "      <td>11.0</td>\n",
       "      <td>10</td>\n",
       "      <td>20</td>\n",
       "    </tr>\n",
       "    <tr>\n",
       "      <th>137732</th>\n",
       "      <td>1499_201</td>\n",
       "      <td>1499</td>\n",
       "      <td>2018-09-21 00:00:00+00:00</td>\n",
       "      <td>9.0</td>\n",
       "      <td>9</td>\n",
       "      <td>21</td>\n",
       "    </tr>\n",
       "    <tr>\n",
       "      <th>137733</th>\n",
       "      <td>1499_202</td>\n",
       "      <td>1499</td>\n",
       "      <td>2018-10-10 00:00:00+00:00</td>\n",
       "      <td>1.0</td>\n",
       "      <td>10</td>\n",
       "      <td>10</td>\n",
       "    </tr>\n",
       "    <tr>\n",
       "      <th>137734</th>\n",
       "      <td>1499_203</td>\n",
       "      <td>1499</td>\n",
       "      <td>2018-12-29 00:00:00+00:00</td>\n",
       "      <td>14.0</td>\n",
       "      <td>12</td>\n",
       "      <td>29</td>\n",
       "    </tr>\n",
       "  </tbody>\n",
       "</table>\n",
       "<p>137735 rows × 6 columns</p>\n",
       "</div>"
      ],
      "text/plain": [
       "         call_id  user_id                 call_date  duration  month  day\n",
       "0        1000_93     1000 2018-12-27 00:00:00+00:00       9.0     12   27\n",
       "1       1000_145     1000 2018-12-27 00:00:00+00:00      14.0     12   27\n",
       "2       1000_247     1000 2018-12-27 00:00:00+00:00      15.0     12   27\n",
       "3       1000_309     1000 2018-12-28 00:00:00+00:00       6.0     12   28\n",
       "4       1000_380     1000 2018-12-30 00:00:00+00:00       5.0     12   30\n",
       "...          ...      ...                       ...       ...    ...  ...\n",
       "137730  1499_199     1499 2018-11-21 00:00:00+00:00       9.0     11   21\n",
       "137731  1499_200     1499 2018-10-20 00:00:00+00:00      11.0     10   20\n",
       "137732  1499_201     1499 2018-09-21 00:00:00+00:00       9.0      9   21\n",
       "137733  1499_202     1499 2018-10-10 00:00:00+00:00       1.0     10   10\n",
       "137734  1499_203     1499 2018-12-29 00:00:00+00:00      14.0     12   29\n",
       "\n",
       "[137735 rows x 6 columns]"
      ]
     },
     "execution_count": 38,
     "metadata": {},
     "output_type": "execute_result"
    }
   ],
   "source": [
    "df_calls"
   ]
  },
  {
   "cell_type": "markdown",
   "id": "fc0b155f",
   "metadata": {},
   "source": [
    "#### 4.2.1 Calls amount and duration per user and month"
   ]
  },
  {
   "cell_type": "code",
   "execution_count": 39,
   "id": "b6222baa",
   "metadata": {},
   "outputs": [
    {
     "data": {
      "application/vnd.microsoft.datawrangler.viewer.v0+json": {
       "columns": [
        {
         "name": "index",
         "rawType": "int64",
         "type": "integer"
        },
        {
         "name": "user_id",
         "rawType": "int64",
         "type": "integer"
        },
        {
         "name": "month",
         "rawType": "int32",
         "type": "integer"
        },
        {
         "name": "total_month_calls",
         "rawType": "int64",
         "type": "integer"
        }
       ],
       "ref": "028bf236-90f1-481b-9148-3276aba6d580",
       "rows": [
        [
         "0",
         "1000",
         "12",
         "16"
        ],
        [
         "1",
         "1001",
         "8",
         "27"
        ],
        [
         "2",
         "1001",
         "9",
         "49"
        ],
        [
         "3",
         "1001",
         "10",
         "65"
        ],
        [
         "4",
         "1001",
         "11",
         "64"
        ],
        [
         "5",
         "1001",
         "12",
         "56"
        ],
        [
         "6",
         "1002",
         "10",
         "11"
        ],
        [
         "7",
         "1002",
         "11",
         "55"
        ],
        [
         "8",
         "1002",
         "12",
         "47"
        ],
        [
         "9",
         "1003",
         "12",
         "149"
        ],
        [
         "10",
         "1004",
         "5",
         "21"
        ],
        [
         "11",
         "1004",
         "6",
         "44"
        ],
        [
         "12",
         "1004",
         "7",
         "49"
        ],
        [
         "13",
         "1004",
         "8",
         "49"
        ],
        [
         "14",
         "1004",
         "9",
         "42"
        ],
        [
         "15",
         "1004",
         "10",
         "61"
        ],
        [
         "16",
         "1004",
         "11",
         "54"
        ],
        [
         "17",
         "1004",
         "12",
         "50"
        ],
        [
         "18",
         "1005",
         "12",
         "59"
        ],
        [
         "19",
         "1006",
         "11",
         "2"
        ],
        [
         "20",
         "1006",
         "12",
         "9"
        ],
        [
         "21",
         "1007",
         "8",
         "70"
        ],
        [
         "22",
         "1007",
         "9",
         "63"
        ],
        [
         "23",
         "1007",
         "10",
         "80"
        ],
        [
         "24",
         "1007",
         "11",
         "80"
        ],
        [
         "25",
         "1007",
         "12",
         "87"
        ],
        [
         "26",
         "1008",
         "10",
         "71"
        ],
        [
         "27",
         "1008",
         "11",
         "63"
        ],
        [
         "28",
         "1008",
         "12",
         "85"
        ],
        [
         "29",
         "1009",
         "5",
         "71"
        ],
        [
         "30",
         "1009",
         "6",
         "110"
        ],
        [
         "31",
         "1009",
         "7",
         "124"
        ],
        [
         "32",
         "1009",
         "8",
         "109"
        ],
        [
         "33",
         "1009",
         "9",
         "116"
        ],
        [
         "34",
         "1009",
         "10",
         "114"
        ],
        [
         "35",
         "1009",
         "11",
         "105"
        ],
        [
         "36",
         "1009",
         "12",
         "107"
        ],
        [
         "37",
         "1010",
         "3",
         "63"
        ],
        [
         "38",
         "1010",
         "4",
         "90"
        ],
        [
         "39",
         "1010",
         "5",
         "81"
        ],
        [
         "40",
         "1010",
         "6",
         "77"
        ],
        [
         "41",
         "1010",
         "7",
         "101"
        ],
        [
         "42",
         "1010",
         "8",
         "93"
        ],
        [
         "43",
         "1010",
         "9",
         "83"
        ],
        [
         "44",
         "1010",
         "10",
         "95"
        ],
        [
         "45",
         "1010",
         "11",
         "30"
        ],
        [
         "46",
         "1011",
         "6",
         "19"
        ],
        [
         "47",
         "1011",
         "7",
         "63"
        ],
        [
         "48",
         "1011",
         "8",
         "61"
        ],
        [
         "49",
         "1011",
         "9",
         "73"
        ]
       ],
       "shape": {
        "columns": 3,
        "rows": 2258
       }
      },
      "text/html": [
       "<div>\n",
       "<style scoped>\n",
       "    .dataframe tbody tr th:only-of-type {\n",
       "        vertical-align: middle;\n",
       "    }\n",
       "\n",
       "    .dataframe tbody tr th {\n",
       "        vertical-align: top;\n",
       "    }\n",
       "\n",
       "    .dataframe thead th {\n",
       "        text-align: right;\n",
       "    }\n",
       "</style>\n",
       "<table border=\"1\" class=\"dataframe\">\n",
       "  <thead>\n",
       "    <tr style=\"text-align: right;\">\n",
       "      <th></th>\n",
       "      <th>user_id</th>\n",
       "      <th>month</th>\n",
       "      <th>total_month_calls</th>\n",
       "    </tr>\n",
       "  </thead>\n",
       "  <tbody>\n",
       "    <tr>\n",
       "      <th>0</th>\n",
       "      <td>1000</td>\n",
       "      <td>12</td>\n",
       "      <td>16</td>\n",
       "    </tr>\n",
       "    <tr>\n",
       "      <th>1</th>\n",
       "      <td>1001</td>\n",
       "      <td>8</td>\n",
       "      <td>27</td>\n",
       "    </tr>\n",
       "    <tr>\n",
       "      <th>2</th>\n",
       "      <td>1001</td>\n",
       "      <td>9</td>\n",
       "      <td>49</td>\n",
       "    </tr>\n",
       "    <tr>\n",
       "      <th>3</th>\n",
       "      <td>1001</td>\n",
       "      <td>10</td>\n",
       "      <td>65</td>\n",
       "    </tr>\n",
       "    <tr>\n",
       "      <th>4</th>\n",
       "      <td>1001</td>\n",
       "      <td>11</td>\n",
       "      <td>64</td>\n",
       "    </tr>\n",
       "    <tr>\n",
       "      <th>...</th>\n",
       "      <td>...</td>\n",
       "      <td>...</td>\n",
       "      <td>...</td>\n",
       "    </tr>\n",
       "    <tr>\n",
       "      <th>2253</th>\n",
       "      <td>1498</td>\n",
       "      <td>12</td>\n",
       "      <td>39</td>\n",
       "    </tr>\n",
       "    <tr>\n",
       "      <th>2254</th>\n",
       "      <td>1499</td>\n",
       "      <td>9</td>\n",
       "      <td>41</td>\n",
       "    </tr>\n",
       "    <tr>\n",
       "      <th>2255</th>\n",
       "      <td>1499</td>\n",
       "      <td>10</td>\n",
       "      <td>53</td>\n",
       "    </tr>\n",
       "    <tr>\n",
       "      <th>2256</th>\n",
       "      <td>1499</td>\n",
       "      <td>11</td>\n",
       "      <td>45</td>\n",
       "    </tr>\n",
       "    <tr>\n",
       "      <th>2257</th>\n",
       "      <td>1499</td>\n",
       "      <td>12</td>\n",
       "      <td>65</td>\n",
       "    </tr>\n",
       "  </tbody>\n",
       "</table>\n",
       "<p>2258 rows × 3 columns</p>\n",
       "</div>"
      ],
      "text/plain": [
       "      user_id  month  total_month_calls\n",
       "0        1000     12                 16\n",
       "1        1001      8                 27\n",
       "2        1001      9                 49\n",
       "3        1001     10                 65\n",
       "4        1001     11                 64\n",
       "...       ...    ...                ...\n",
       "2253     1498     12                 39\n",
       "2254     1499      9                 41\n",
       "2255     1499     10                 53\n",
       "2256     1499     11                 45\n",
       "2257     1499     12                 65\n",
       "\n",
       "[2258 rows x 3 columns]"
      ]
     },
     "execution_count": 39,
     "metadata": {},
     "output_type": "execute_result"
    }
   ],
   "source": [
    "df_calls_user_month = df_calls.groupby(['user_id', 'month'])['call_id'].count().reset_index()\n",
    "df_calls_user_month = df_calls_user_month.rename(columns={'call_id': 'total_month_calls'})\n",
    "df_calls_user_month"
   ]
  },
  {
   "cell_type": "code",
   "execution_count": 40,
   "id": "9e033ebd",
   "metadata": {},
   "outputs": [
    {
     "data": {
      "application/vnd.microsoft.datawrangler.viewer.v0+json": {
       "columns": [
        {
         "name": "index",
         "rawType": "int64",
         "type": "integer"
        },
        {
         "name": "total_month_duration",
         "rawType": "float64",
         "type": "float"
        }
       ],
       "ref": "1147f4b7-a7c6-4332-b187-b398376340ab",
       "rows": [
        [
         "0",
         "124.0"
        ],
        [
         "1",
         "182.0"
        ],
        [
         "2",
         "315.0"
        ],
        [
         "3",
         "393.0"
        ],
        [
         "4",
         "426.0"
        ],
        [
         "5",
         "412.0"
        ],
        [
         "6",
         "59.0"
        ],
        [
         "7",
         "386.0"
        ],
        [
         "8",
         "384.0"
        ],
        [
         "9",
         "1104.0"
        ],
        [
         "10",
         "193.0"
        ],
        [
         "11",
         "275.0"
        ],
        [
         "12",
         "381.0"
        ],
        [
         "13",
         "354.0"
        ],
        [
         "14",
         "301.0"
        ],
        [
         "15",
         "365.0"
        ],
        [
         "16",
         "476.0"
        ],
        [
         "17",
         "427.0"
        ],
        [
         "18",
         "496.0"
        ],
        [
         "19",
         "10.0"
        ],
        [
         "20",
         "59.0"
        ],
        [
         "21",
         "456.0"
        ],
        [
         "22",
         "399.0"
        ],
        [
         "23",
         "645.0"
        ],
        [
         "24",
         "524.0"
        ],
        [
         "25",
         "617.0"
        ],
        [
         "26",
         "476.0"
        ],
        [
         "27",
         "446.0"
        ],
        [
         "28",
         "634.0"
        ],
        [
         "29",
         "534.0"
        ],
        [
         "30",
         "823.0"
        ],
        [
         "31",
         "880.0"
        ],
        [
         "32",
         "731.0"
        ],
        [
         "33",
         "776.0"
        ],
        [
         "34",
         "740.0"
        ],
        [
         "35",
         "714.0"
        ],
        [
         "36",
         "756.0"
        ],
        [
         "37",
         "429.0"
        ],
        [
         "38",
         "656.0"
        ],
        [
         "39",
         "532.0"
        ],
        [
         "40",
         "553.0"
        ],
        [
         "41",
         "698.0"
        ],
        [
         "42",
         "637.0"
        ],
        [
         "43",
         "601.0"
        ],
        [
         "44",
         "711.0"
        ],
        [
         "45",
         "258.0"
        ],
        [
         "46",
         "118.0"
        ],
        [
         "47",
         "499.0"
        ],
        [
         "48",
         "486.0"
        ],
        [
         "49",
         "484.0"
        ]
       ],
       "shape": {
        "columns": 1,
        "rows": 2258
       }
      },
      "text/plain": [
       "0       124.0\n",
       "1       182.0\n",
       "2       315.0\n",
       "3       393.0\n",
       "4       426.0\n",
       "        ...  \n",
       "2253    339.0\n",
       "2254    346.0\n",
       "2255    385.0\n",
       "2256    308.0\n",
       "2257    496.0\n",
       "Name: total_month_duration, Length: 2258, dtype: float64"
      ]
     },
     "execution_count": 40,
     "metadata": {},
     "output_type": "execute_result"
    }
   ],
   "source": [
    "df_duration_user_month = df_calls.groupby(['user_id', 'month'])['duration'].sum().reset_index(drop=True)\n",
    "df_duration_user_month.name = 'total_month_duration'\n",
    "df_duration_user_month"
   ]
  },
  {
   "cell_type": "code",
   "execution_count": 41,
   "id": "2ec75491",
   "metadata": {},
   "outputs": [
    {
     "data": {
      "application/vnd.microsoft.datawrangler.viewer.v0+json": {
       "columns": [
        {
         "name": "index",
         "rawType": "int64",
         "type": "integer"
        },
        {
         "name": "user_id",
         "rawType": "int64",
         "type": "integer"
        },
        {
         "name": "month",
         "rawType": "int32",
         "type": "integer"
        },
        {
         "name": "total_month_calls",
         "rawType": "int64",
         "type": "integer"
        },
        {
         "name": "total_month_duration",
         "rawType": "float64",
         "type": "float"
        }
       ],
       "ref": "7ec0b6c8-3b54-4909-9987-ed1e50afb558",
       "rows": [
        [
         "0",
         "1000",
         "12",
         "16",
         "124.0"
        ],
        [
         "1",
         "1001",
         "8",
         "27",
         "182.0"
        ],
        [
         "2",
         "1001",
         "9",
         "49",
         "315.0"
        ],
        [
         "3",
         "1001",
         "10",
         "65",
         "393.0"
        ],
        [
         "4",
         "1001",
         "11",
         "64",
         "426.0"
        ],
        [
         "5",
         "1001",
         "12",
         "56",
         "412.0"
        ],
        [
         "6",
         "1002",
         "10",
         "11",
         "59.0"
        ],
        [
         "7",
         "1002",
         "11",
         "55",
         "386.0"
        ],
        [
         "8",
         "1002",
         "12",
         "47",
         "384.0"
        ],
        [
         "9",
         "1003",
         "12",
         "149",
         "1104.0"
        ],
        [
         "10",
         "1004",
         "5",
         "21",
         "193.0"
        ],
        [
         "11",
         "1004",
         "6",
         "44",
         "275.0"
        ],
        [
         "12",
         "1004",
         "7",
         "49",
         "381.0"
        ],
        [
         "13",
         "1004",
         "8",
         "49",
         "354.0"
        ],
        [
         "14",
         "1004",
         "9",
         "42",
         "301.0"
        ],
        [
         "15",
         "1004",
         "10",
         "61",
         "365.0"
        ],
        [
         "16",
         "1004",
         "11",
         "54",
         "476.0"
        ],
        [
         "17",
         "1004",
         "12",
         "50",
         "427.0"
        ],
        [
         "18",
         "1005",
         "12",
         "59",
         "496.0"
        ],
        [
         "19",
         "1006",
         "11",
         "2",
         "10.0"
        ],
        [
         "20",
         "1006",
         "12",
         "9",
         "59.0"
        ],
        [
         "21",
         "1007",
         "8",
         "70",
         "456.0"
        ],
        [
         "22",
         "1007",
         "9",
         "63",
         "399.0"
        ],
        [
         "23",
         "1007",
         "10",
         "80",
         "645.0"
        ],
        [
         "24",
         "1007",
         "11",
         "80",
         "524.0"
        ],
        [
         "25",
         "1007",
         "12",
         "87",
         "617.0"
        ],
        [
         "26",
         "1008",
         "10",
         "71",
         "476.0"
        ],
        [
         "27",
         "1008",
         "11",
         "63",
         "446.0"
        ],
        [
         "28",
         "1008",
         "12",
         "85",
         "634.0"
        ],
        [
         "29",
         "1009",
         "5",
         "71",
         "534.0"
        ],
        [
         "30",
         "1009",
         "6",
         "110",
         "823.0"
        ],
        [
         "31",
         "1009",
         "7",
         "124",
         "880.0"
        ],
        [
         "32",
         "1009",
         "8",
         "109",
         "731.0"
        ],
        [
         "33",
         "1009",
         "9",
         "116",
         "776.0"
        ],
        [
         "34",
         "1009",
         "10",
         "114",
         "740.0"
        ],
        [
         "35",
         "1009",
         "11",
         "105",
         "714.0"
        ],
        [
         "36",
         "1009",
         "12",
         "107",
         "756.0"
        ],
        [
         "37",
         "1010",
         "3",
         "63",
         "429.0"
        ],
        [
         "38",
         "1010",
         "4",
         "90",
         "656.0"
        ],
        [
         "39",
         "1010",
         "5",
         "81",
         "532.0"
        ],
        [
         "40",
         "1010",
         "6",
         "77",
         "553.0"
        ],
        [
         "41",
         "1010",
         "7",
         "101",
         "698.0"
        ],
        [
         "42",
         "1010",
         "8",
         "93",
         "637.0"
        ],
        [
         "43",
         "1010",
         "9",
         "83",
         "601.0"
        ],
        [
         "44",
         "1010",
         "10",
         "95",
         "711.0"
        ],
        [
         "45",
         "1010",
         "11",
         "30",
         "258.0"
        ],
        [
         "46",
         "1011",
         "6",
         "19",
         "118.0"
        ],
        [
         "47",
         "1011",
         "7",
         "63",
         "499.0"
        ],
        [
         "48",
         "1011",
         "8",
         "61",
         "486.0"
        ],
        [
         "49",
         "1011",
         "9",
         "73",
         "484.0"
        ]
       ],
       "shape": {
        "columns": 4,
        "rows": 2258
       }
      },
      "text/html": [
       "<div>\n",
       "<style scoped>\n",
       "    .dataframe tbody tr th:only-of-type {\n",
       "        vertical-align: middle;\n",
       "    }\n",
       "\n",
       "    .dataframe tbody tr th {\n",
       "        vertical-align: top;\n",
       "    }\n",
       "\n",
       "    .dataframe thead th {\n",
       "        text-align: right;\n",
       "    }\n",
       "</style>\n",
       "<table border=\"1\" class=\"dataframe\">\n",
       "  <thead>\n",
       "    <tr style=\"text-align: right;\">\n",
       "      <th></th>\n",
       "      <th>user_id</th>\n",
       "      <th>month</th>\n",
       "      <th>total_month_calls</th>\n",
       "      <th>total_month_duration</th>\n",
       "    </tr>\n",
       "  </thead>\n",
       "  <tbody>\n",
       "    <tr>\n",
       "      <th>0</th>\n",
       "      <td>1000</td>\n",
       "      <td>12</td>\n",
       "      <td>16</td>\n",
       "      <td>124.0</td>\n",
       "    </tr>\n",
       "    <tr>\n",
       "      <th>1</th>\n",
       "      <td>1001</td>\n",
       "      <td>8</td>\n",
       "      <td>27</td>\n",
       "      <td>182.0</td>\n",
       "    </tr>\n",
       "    <tr>\n",
       "      <th>2</th>\n",
       "      <td>1001</td>\n",
       "      <td>9</td>\n",
       "      <td>49</td>\n",
       "      <td>315.0</td>\n",
       "    </tr>\n",
       "    <tr>\n",
       "      <th>3</th>\n",
       "      <td>1001</td>\n",
       "      <td>10</td>\n",
       "      <td>65</td>\n",
       "      <td>393.0</td>\n",
       "    </tr>\n",
       "    <tr>\n",
       "      <th>4</th>\n",
       "      <td>1001</td>\n",
       "      <td>11</td>\n",
       "      <td>64</td>\n",
       "      <td>426.0</td>\n",
       "    </tr>\n",
       "    <tr>\n",
       "      <th>...</th>\n",
       "      <td>...</td>\n",
       "      <td>...</td>\n",
       "      <td>...</td>\n",
       "      <td>...</td>\n",
       "    </tr>\n",
       "    <tr>\n",
       "      <th>2253</th>\n",
       "      <td>1498</td>\n",
       "      <td>12</td>\n",
       "      <td>39</td>\n",
       "      <td>339.0</td>\n",
       "    </tr>\n",
       "    <tr>\n",
       "      <th>2254</th>\n",
       "      <td>1499</td>\n",
       "      <td>9</td>\n",
       "      <td>41</td>\n",
       "      <td>346.0</td>\n",
       "    </tr>\n",
       "    <tr>\n",
       "      <th>2255</th>\n",
       "      <td>1499</td>\n",
       "      <td>10</td>\n",
       "      <td>53</td>\n",
       "      <td>385.0</td>\n",
       "    </tr>\n",
       "    <tr>\n",
       "      <th>2256</th>\n",
       "      <td>1499</td>\n",
       "      <td>11</td>\n",
       "      <td>45</td>\n",
       "      <td>308.0</td>\n",
       "    </tr>\n",
       "    <tr>\n",
       "      <th>2257</th>\n",
       "      <td>1499</td>\n",
       "      <td>12</td>\n",
       "      <td>65</td>\n",
       "      <td>496.0</td>\n",
       "    </tr>\n",
       "  </tbody>\n",
       "</table>\n",
       "<p>2258 rows × 4 columns</p>\n",
       "</div>"
      ],
      "text/plain": [
       "      user_id  month  total_month_calls  total_month_duration\n",
       "0        1000     12                 16                 124.0\n",
       "1        1001      8                 27                 182.0\n",
       "2        1001      9                 49                 315.0\n",
       "3        1001     10                 65                 393.0\n",
       "4        1001     11                 64                 426.0\n",
       "...       ...    ...                ...                   ...\n",
       "2253     1498     12                 39                 339.0\n",
       "2254     1499      9                 41                 346.0\n",
       "2255     1499     10                 53                 385.0\n",
       "2256     1499     11                 45                 308.0\n",
       "2257     1499     12                 65                 496.0\n",
       "\n",
       "[2258 rows x 4 columns]"
      ]
     },
     "execution_count": 41,
     "metadata": {},
     "output_type": "execute_result"
    }
   ],
   "source": [
    "df_calls_duration_month = pd.concat([df_calls_user_month, df_duration_user_month], axis=1)\n",
    "df_calls_duration_month                                    \n",
    "                                    "
   ]
  },
  {
   "cell_type": "markdown",
   "id": "6bfd079e",
   "metadata": {},
   "source": [
    "### 4.3 Messages activity"
   ]
  },
  {
   "cell_type": "code",
   "execution_count": 42,
   "id": "f5a28d48",
   "metadata": {},
   "outputs": [
    {
     "data": {
      "application/vnd.microsoft.datawrangler.viewer.v0+json": {
       "columns": [
        {
         "name": "index",
         "rawType": "int64",
         "type": "integer"
        },
        {
         "name": "message_id",
         "rawType": "object",
         "type": "string"
        },
        {
         "name": "user_id",
         "rawType": "int64",
         "type": "integer"
        },
        {
         "name": "message_date",
         "rawType": "datetime64[ns, UTC]",
         "type": "unknown"
        },
        {
         "name": "month",
         "rawType": "int32",
         "type": "integer"
        },
        {
         "name": "day",
         "rawType": "int32",
         "type": "integer"
        }
       ],
       "ref": "fd7fd4ee-3f68-4214-ae6d-3207a26206cc",
       "rows": [
        [
         "0",
         "1000_125",
         "1000",
         "2018-12-27 00:00:00+00:00",
         "12",
         "27"
        ],
        [
         "1",
         "1000_160",
         "1000",
         "2018-12-31 00:00:00+00:00",
         "12",
         "31"
        ],
        [
         "2",
         "1000_223",
         "1000",
         "2018-12-31 00:00:00+00:00",
         "12",
         "31"
        ],
        [
         "3",
         "1000_251",
         "1000",
         "2018-12-27 00:00:00+00:00",
         "12",
         "27"
        ],
        [
         "4",
         "1000_255",
         "1000",
         "2018-12-26 00:00:00+00:00",
         "12",
         "26"
        ],
        [
         "5",
         "1000_346",
         "1000",
         "2018-12-29 00:00:00+00:00",
         "12",
         "29"
        ],
        [
         "6",
         "1000_386",
         "1000",
         "2018-12-30 00:00:00+00:00",
         "12",
         "30"
        ],
        [
         "7",
         "1000_413",
         "1000",
         "2018-12-31 00:00:00+00:00",
         "12",
         "31"
        ],
        [
         "8",
         "1000_502",
         "1000",
         "2018-12-27 00:00:00+00:00",
         "12",
         "27"
        ],
        [
         "9",
         "1000_525",
         "1000",
         "2018-12-28 00:00:00+00:00",
         "12",
         "28"
        ],
        [
         "10",
         "1000_567",
         "1000",
         "2018-12-25 00:00:00+00:00",
         "12",
         "25"
        ],
        [
         "11",
         "1001_1",
         "1001",
         "2018-11-14 00:00:00+00:00",
         "11",
         "14"
        ],
        [
         "12",
         "1001_2",
         "1001",
         "2018-08-17 00:00:00+00:00",
         "8",
         "17"
        ],
        [
         "13",
         "1001_5",
         "1001",
         "2018-12-05 00:00:00+00:00",
         "12",
         "5"
        ],
        [
         "14",
         "1001_7",
         "1001",
         "2018-11-28 00:00:00+00:00",
         "11",
         "28"
        ],
        [
         "15",
         "1001_9",
         "1001",
         "2018-10-23 00:00:00+00:00",
         "10",
         "23"
        ],
        [
         "16",
         "1001_10",
         "1001",
         "2018-09-01 00:00:00+00:00",
         "9",
         "1"
        ],
        [
         "17",
         "1001_11",
         "1001",
         "2018-11-18 00:00:00+00:00",
         "11",
         "18"
        ],
        [
         "18",
         "1001_17",
         "1001",
         "2018-12-11 00:00:00+00:00",
         "12",
         "11"
        ],
        [
         "19",
         "1001_18",
         "1001",
         "2018-10-01 00:00:00+00:00",
         "10",
         "1"
        ],
        [
         "20",
         "1001_19",
         "1001",
         "2018-09-13 00:00:00+00:00",
         "9",
         "13"
        ],
        [
         "21",
         "1001_21",
         "1001",
         "2018-12-30 00:00:00+00:00",
         "12",
         "30"
        ],
        [
         "22",
         "1001_23",
         "1001",
         "2018-08-23 00:00:00+00:00",
         "8",
         "23"
        ],
        [
         "23",
         "1001_25",
         "1001",
         "2018-10-10 00:00:00+00:00",
         "10",
         "10"
        ],
        [
         "24",
         "1001_30",
         "1001",
         "2018-12-14 00:00:00+00:00",
         "12",
         "14"
        ],
        [
         "25",
         "1001_32",
         "1001",
         "2018-09-11 00:00:00+00:00",
         "9",
         "11"
        ],
        [
         "26",
         "1001_34",
         "1001",
         "2018-10-09 00:00:00+00:00",
         "10",
         "9"
        ],
        [
         "27",
         "1001_35",
         "1001",
         "2018-09-18 00:00:00+00:00",
         "9",
         "18"
        ],
        [
         "28",
         "1001_37",
         "1001",
         "2018-09-06 00:00:00+00:00",
         "9",
         "6"
        ],
        [
         "29",
         "1001_39",
         "1001",
         "2018-09-13 00:00:00+00:00",
         "9",
         "13"
        ],
        [
         "30",
         "1001_44",
         "1001",
         "2018-08-19 00:00:00+00:00",
         "8",
         "19"
        ],
        [
         "31",
         "1001_46",
         "1001",
         "2018-12-17 00:00:00+00:00",
         "12",
         "17"
        ],
        [
         "32",
         "1001_47",
         "1001",
         "2018-12-23 00:00:00+00:00",
         "12",
         "23"
        ],
        [
         "33",
         "1001_48",
         "1001",
         "2018-11-08 00:00:00+00:00",
         "11",
         "8"
        ],
        [
         "34",
         "1001_49",
         "1001",
         "2018-12-25 00:00:00+00:00",
         "12",
         "25"
        ],
        [
         "35",
         "1001_50",
         "1001",
         "2018-10-18 00:00:00+00:00",
         "10",
         "18"
        ],
        [
         "36",
         "1001_52",
         "1001",
         "2018-09-20 00:00:00+00:00",
         "9",
         "20"
        ],
        [
         "37",
         "1001_54",
         "1001",
         "2018-09-01 00:00:00+00:00",
         "9",
         "1"
        ],
        [
         "38",
         "1001_58",
         "1001",
         "2018-12-06 00:00:00+00:00",
         "12",
         "6"
        ],
        [
         "39",
         "1001_60",
         "1001",
         "2018-08-22 00:00:00+00:00",
         "8",
         "22"
        ],
        [
         "40",
         "1001_63",
         "1001",
         "2018-09-19 00:00:00+00:00",
         "9",
         "19"
        ],
        [
         "41",
         "1001_65",
         "1001",
         "2018-10-21 00:00:00+00:00",
         "10",
         "21"
        ],
        [
         "42",
         "1001_66",
         "1001",
         "2018-12-10 00:00:00+00:00",
         "12",
         "10"
        ],
        [
         "43",
         "1001_69",
         "1001",
         "2018-10-19 00:00:00+00:00",
         "10",
         "19"
        ],
        [
         "44",
         "1001_70",
         "1001",
         "2018-09-10 00:00:00+00:00",
         "9",
         "10"
        ],
        [
         "45",
         "1001_71",
         "1001",
         "2018-09-18 00:00:00+00:00",
         "9",
         "18"
        ],
        [
         "46",
         "1001_72",
         "1001",
         "2018-10-19 00:00:00+00:00",
         "10",
         "19"
        ],
        [
         "47",
         "1001_73",
         "1001",
         "2018-09-28 00:00:00+00:00",
         "9",
         "28"
        ],
        [
         "48",
         "1001_75",
         "1001",
         "2018-11-25 00:00:00+00:00",
         "11",
         "25"
        ],
        [
         "49",
         "1001_76",
         "1001",
         "2018-10-30 00:00:00+00:00",
         "10",
         "30"
        ]
       ],
       "shape": {
        "columns": 5,
        "rows": 76051
       }
      },
      "text/html": [
       "<div>\n",
       "<style scoped>\n",
       "    .dataframe tbody tr th:only-of-type {\n",
       "        vertical-align: middle;\n",
       "    }\n",
       "\n",
       "    .dataframe tbody tr th {\n",
       "        vertical-align: top;\n",
       "    }\n",
       "\n",
       "    .dataframe thead th {\n",
       "        text-align: right;\n",
       "    }\n",
       "</style>\n",
       "<table border=\"1\" class=\"dataframe\">\n",
       "  <thead>\n",
       "    <tr style=\"text-align: right;\">\n",
       "      <th></th>\n",
       "      <th>message_id</th>\n",
       "      <th>user_id</th>\n",
       "      <th>message_date</th>\n",
       "      <th>month</th>\n",
       "      <th>day</th>\n",
       "    </tr>\n",
       "  </thead>\n",
       "  <tbody>\n",
       "    <tr>\n",
       "      <th>0</th>\n",
       "      <td>1000_125</td>\n",
       "      <td>1000</td>\n",
       "      <td>2018-12-27 00:00:00+00:00</td>\n",
       "      <td>12</td>\n",
       "      <td>27</td>\n",
       "    </tr>\n",
       "    <tr>\n",
       "      <th>1</th>\n",
       "      <td>1000_160</td>\n",
       "      <td>1000</td>\n",
       "      <td>2018-12-31 00:00:00+00:00</td>\n",
       "      <td>12</td>\n",
       "      <td>31</td>\n",
       "    </tr>\n",
       "    <tr>\n",
       "      <th>2</th>\n",
       "      <td>1000_223</td>\n",
       "      <td>1000</td>\n",
       "      <td>2018-12-31 00:00:00+00:00</td>\n",
       "      <td>12</td>\n",
       "      <td>31</td>\n",
       "    </tr>\n",
       "    <tr>\n",
       "      <th>3</th>\n",
       "      <td>1000_251</td>\n",
       "      <td>1000</td>\n",
       "      <td>2018-12-27 00:00:00+00:00</td>\n",
       "      <td>12</td>\n",
       "      <td>27</td>\n",
       "    </tr>\n",
       "    <tr>\n",
       "      <th>4</th>\n",
       "      <td>1000_255</td>\n",
       "      <td>1000</td>\n",
       "      <td>2018-12-26 00:00:00+00:00</td>\n",
       "      <td>12</td>\n",
       "      <td>26</td>\n",
       "    </tr>\n",
       "    <tr>\n",
       "      <th>...</th>\n",
       "      <td>...</td>\n",
       "      <td>...</td>\n",
       "      <td>...</td>\n",
       "      <td>...</td>\n",
       "      <td>...</td>\n",
       "    </tr>\n",
       "    <tr>\n",
       "      <th>76046</th>\n",
       "      <td>1497_526</td>\n",
       "      <td>1497</td>\n",
       "      <td>2018-12-24 00:00:00+00:00</td>\n",
       "      <td>12</td>\n",
       "      <td>24</td>\n",
       "    </tr>\n",
       "    <tr>\n",
       "      <th>76047</th>\n",
       "      <td>1497_536</td>\n",
       "      <td>1497</td>\n",
       "      <td>2018-12-24 00:00:00+00:00</td>\n",
       "      <td>12</td>\n",
       "      <td>24</td>\n",
       "    </tr>\n",
       "    <tr>\n",
       "      <th>76048</th>\n",
       "      <td>1497_547</td>\n",
       "      <td>1497</td>\n",
       "      <td>2018-12-31 00:00:00+00:00</td>\n",
       "      <td>12</td>\n",
       "      <td>31</td>\n",
       "    </tr>\n",
       "    <tr>\n",
       "      <th>76049</th>\n",
       "      <td>1497_558</td>\n",
       "      <td>1497</td>\n",
       "      <td>2018-12-24 00:00:00+00:00</td>\n",
       "      <td>12</td>\n",
       "      <td>24</td>\n",
       "    </tr>\n",
       "    <tr>\n",
       "      <th>76050</th>\n",
       "      <td>1497_613</td>\n",
       "      <td>1497</td>\n",
       "      <td>2018-12-23 00:00:00+00:00</td>\n",
       "      <td>12</td>\n",
       "      <td>23</td>\n",
       "    </tr>\n",
       "  </tbody>\n",
       "</table>\n",
       "<p>76051 rows × 5 columns</p>\n",
       "</div>"
      ],
      "text/plain": [
       "      message_id  user_id              message_date  month  day\n",
       "0       1000_125     1000 2018-12-27 00:00:00+00:00     12   27\n",
       "1       1000_160     1000 2018-12-31 00:00:00+00:00     12   31\n",
       "2       1000_223     1000 2018-12-31 00:00:00+00:00     12   31\n",
       "3       1000_251     1000 2018-12-27 00:00:00+00:00     12   27\n",
       "4       1000_255     1000 2018-12-26 00:00:00+00:00     12   26\n",
       "...          ...      ...                       ...    ...  ...\n",
       "76046   1497_526     1497 2018-12-24 00:00:00+00:00     12   24\n",
       "76047   1497_536     1497 2018-12-24 00:00:00+00:00     12   24\n",
       "76048   1497_547     1497 2018-12-31 00:00:00+00:00     12   31\n",
       "76049   1497_558     1497 2018-12-24 00:00:00+00:00     12   24\n",
       "76050   1497_613     1497 2018-12-23 00:00:00+00:00     12   23\n",
       "\n",
       "[76051 rows x 5 columns]"
      ]
     },
     "execution_count": 42,
     "metadata": {},
     "output_type": "execute_result"
    }
   ],
   "source": [
    "df_messages"
   ]
  },
  {
   "cell_type": "markdown",
   "id": "fca4a01f",
   "metadata": {},
   "source": [
    "#### 4.3.1 Messages amount per user and month"
   ]
  },
  {
   "cell_type": "code",
   "execution_count": 43,
   "id": "3f556aaf",
   "metadata": {},
   "outputs": [
    {
     "data": {
      "application/vnd.microsoft.datawrangler.viewer.v0+json": {
       "columns": [
        {
         "name": "index",
         "rawType": "int64",
         "type": "integer"
        },
        {
         "name": "user_id",
         "rawType": "int64",
         "type": "integer"
        },
        {
         "name": "month",
         "rawType": "int32",
         "type": "integer"
        },
        {
         "name": "total_month_messages",
         "rawType": "int64",
         "type": "integer"
        }
       ],
       "ref": "32862f81-82fb-4139-8040-31919a68e64b",
       "rows": [
        [
         "0",
         "1000",
         "12",
         "11"
        ],
        [
         "1",
         "1001",
         "8",
         "30"
        ],
        [
         "2",
         "1001",
         "9",
         "44"
        ],
        [
         "3",
         "1001",
         "10",
         "53"
        ],
        [
         "4",
         "1001",
         "11",
         "36"
        ],
        [
         "5",
         "1001",
         "12",
         "44"
        ],
        [
         "6",
         "1002",
         "10",
         "15"
        ],
        [
         "7",
         "1002",
         "11",
         "32"
        ],
        [
         "8",
         "1002",
         "12",
         "41"
        ],
        [
         "9",
         "1003",
         "12",
         "50"
        ],
        [
         "10",
         "1004",
         "5",
         "7"
        ],
        [
         "11",
         "1004",
         "6",
         "18"
        ],
        [
         "12",
         "1004",
         "7",
         "26"
        ],
        [
         "13",
         "1004",
         "8",
         "25"
        ],
        [
         "14",
         "1004",
         "9",
         "21"
        ],
        [
         "15",
         "1004",
         "10",
         "24"
        ],
        [
         "16",
         "1004",
         "11",
         "25"
        ],
        [
         "17",
         "1004",
         "12",
         "31"
        ],
        [
         "18",
         "1005",
         "12",
         "11"
        ],
        [
         "19",
         "1006",
         "11",
         "15"
        ],
        [
         "20",
         "1006",
         "12",
         "139"
        ],
        [
         "21",
         "1007",
         "8",
         "51"
        ],
        [
         "22",
         "1007",
         "9",
         "47"
        ],
        [
         "23",
         "1007",
         "10",
         "59"
        ],
        [
         "24",
         "1007",
         "11",
         "48"
        ],
        [
         "25",
         "1007",
         "12",
         "50"
        ],
        [
         "26",
         "1008",
         "10",
         "21"
        ],
        [
         "27",
         "1008",
         "11",
         "37"
        ],
        [
         "28",
         "1008",
         "12",
         "26"
        ],
        [
         "29",
         "1011",
         "6",
         "21"
        ],
        [
         "30",
         "1011",
         "7",
         "53"
        ],
        [
         "31",
         "1011",
         "8",
         "54"
        ],
        [
         "32",
         "1011",
         "9",
         "60"
        ],
        [
         "33",
         "1011",
         "10",
         "64"
        ],
        [
         "34",
         "1011",
         "11",
         "58"
        ],
        [
         "35",
         "1011",
         "12",
         "61"
        ],
        [
         "36",
         "1013",
         "12",
         "16"
        ],
        [
         "37",
         "1014",
         "11",
         "9"
        ],
        [
         "38",
         "1014",
         "12",
         "64"
        ],
        [
         "39",
         "1015",
         "12",
         "68"
        ],
        [
         "40",
         "1016",
         "10",
         "11"
        ],
        [
         "41",
         "1016",
         "11",
         "46"
        ],
        [
         "42",
         "1016",
         "12",
         "38"
        ],
        [
         "43",
         "1017",
         "8",
         "5"
        ],
        [
         "44",
         "1017",
         "9",
         "41"
        ],
        [
         "45",
         "1017",
         "10",
         "35"
        ],
        [
         "46",
         "1017",
         "11",
         "29"
        ],
        [
         "47",
         "1017",
         "12",
         "42"
        ],
        [
         "48",
         "1018",
         "10",
         "3"
        ],
        [
         "49",
         "1018",
         "11",
         "5"
        ]
       ],
       "shape": {
        "columns": 3,
        "rows": 1806
       }
      },
      "text/html": [
       "<div>\n",
       "<style scoped>\n",
       "    .dataframe tbody tr th:only-of-type {\n",
       "        vertical-align: middle;\n",
       "    }\n",
       "\n",
       "    .dataframe tbody tr th {\n",
       "        vertical-align: top;\n",
       "    }\n",
       "\n",
       "    .dataframe thead th {\n",
       "        text-align: right;\n",
       "    }\n",
       "</style>\n",
       "<table border=\"1\" class=\"dataframe\">\n",
       "  <thead>\n",
       "    <tr style=\"text-align: right;\">\n",
       "      <th></th>\n",
       "      <th>user_id</th>\n",
       "      <th>month</th>\n",
       "      <th>total_month_messages</th>\n",
       "    </tr>\n",
       "  </thead>\n",
       "  <tbody>\n",
       "    <tr>\n",
       "      <th>0</th>\n",
       "      <td>1000</td>\n",
       "      <td>12</td>\n",
       "      <td>11</td>\n",
       "    </tr>\n",
       "    <tr>\n",
       "      <th>1</th>\n",
       "      <td>1001</td>\n",
       "      <td>8</td>\n",
       "      <td>30</td>\n",
       "    </tr>\n",
       "    <tr>\n",
       "      <th>2</th>\n",
       "      <td>1001</td>\n",
       "      <td>9</td>\n",
       "      <td>44</td>\n",
       "    </tr>\n",
       "    <tr>\n",
       "      <th>3</th>\n",
       "      <td>1001</td>\n",
       "      <td>10</td>\n",
       "      <td>53</td>\n",
       "    </tr>\n",
       "    <tr>\n",
       "      <th>4</th>\n",
       "      <td>1001</td>\n",
       "      <td>11</td>\n",
       "      <td>36</td>\n",
       "    </tr>\n",
       "    <tr>\n",
       "      <th>...</th>\n",
       "      <td>...</td>\n",
       "      <td>...</td>\n",
       "      <td>...</td>\n",
       "    </tr>\n",
       "    <tr>\n",
       "      <th>1801</th>\n",
       "      <td>1496</td>\n",
       "      <td>9</td>\n",
       "      <td>21</td>\n",
       "    </tr>\n",
       "    <tr>\n",
       "      <th>1802</th>\n",
       "      <td>1496</td>\n",
       "      <td>10</td>\n",
       "      <td>18</td>\n",
       "    </tr>\n",
       "    <tr>\n",
       "      <th>1803</th>\n",
       "      <td>1496</td>\n",
       "      <td>11</td>\n",
       "      <td>13</td>\n",
       "    </tr>\n",
       "    <tr>\n",
       "      <th>1804</th>\n",
       "      <td>1496</td>\n",
       "      <td>12</td>\n",
       "      <td>11</td>\n",
       "    </tr>\n",
       "    <tr>\n",
       "      <th>1805</th>\n",
       "      <td>1497</td>\n",
       "      <td>12</td>\n",
       "      <td>50</td>\n",
       "    </tr>\n",
       "  </tbody>\n",
       "</table>\n",
       "<p>1806 rows × 3 columns</p>\n",
       "</div>"
      ],
      "text/plain": [
       "      user_id  month  total_month_messages\n",
       "0        1000     12                    11\n",
       "1        1001      8                    30\n",
       "2        1001      9                    44\n",
       "3        1001     10                    53\n",
       "4        1001     11                    36\n",
       "...       ...    ...                   ...\n",
       "1801     1496      9                    21\n",
       "1802     1496     10                    18\n",
       "1803     1496     11                    13\n",
       "1804     1496     12                    11\n",
       "1805     1497     12                    50\n",
       "\n",
       "[1806 rows x 3 columns]"
      ]
     },
     "execution_count": 43,
     "metadata": {},
     "output_type": "execute_result"
    }
   ],
   "source": [
    "df_messages_user_month = df_messages.groupby(['user_id', 'month'])['message_id'].count().reset_index()\n",
    "df_messages_user_month = df_messages_user_month.rename(columns={'message_id': 'total_month_messages'})\n",
    "df_messages_user_month"
   ]
  },
  {
   "cell_type": "markdown",
   "id": "f622154f",
   "metadata": {},
   "source": [
    "### 4.4 Internet activity"
   ]
  },
  {
   "cell_type": "code",
   "execution_count": 44,
   "id": "9cd5d522",
   "metadata": {},
   "outputs": [
    {
     "data": {
      "application/vnd.microsoft.datawrangler.viewer.v0+json": {
       "columns": [
        {
         "name": "index",
         "rawType": "int64",
         "type": "integer"
        },
        {
         "name": "session_id",
         "rawType": "object",
         "type": "string"
        },
        {
         "name": "user_id",
         "rawType": "int64",
         "type": "integer"
        },
        {
         "name": "session_date",
         "rawType": "datetime64[ns, UTC]",
         "type": "unknown"
        },
        {
         "name": "mb_used",
         "rawType": "float64",
         "type": "float"
        },
        {
         "name": "month",
         "rawType": "int32",
         "type": "integer"
        },
        {
         "name": "day",
         "rawType": "int32",
         "type": "integer"
        }
       ],
       "ref": "7141a6e4-19b1-4edf-b7fd-449942b0203c",
       "rows": [
        [
         "0",
         "1000_13",
         "1000",
         "2018-12-29 00:00:00+00:00",
         "89.86",
         "12",
         "29"
        ],
        [
         "1",
         "1000_204",
         "1000",
         "2018-12-31 00:00:00+00:00",
         "0.0",
         "12",
         "31"
        ],
        [
         "2",
         "1000_379",
         "1000",
         "2018-12-28 00:00:00+00:00",
         "660.4",
         "12",
         "28"
        ],
        [
         "3",
         "1000_413",
         "1000",
         "2018-12-26 00:00:00+00:00",
         "270.99",
         "12",
         "26"
        ],
        [
         "4",
         "1000_442",
         "1000",
         "2018-12-27 00:00:00+00:00",
         "880.22",
         "12",
         "27"
        ],
        [
         "5",
         "1001_0",
         "1001",
         "2018-08-24 00:00:00+00:00",
         "284.68",
         "8",
         "24"
        ],
        [
         "6",
         "1001_3",
         "1001",
         "2018-12-09 00:00:00+00:00",
         "656.04",
         "12",
         "9"
        ],
        [
         "7",
         "1001_4",
         "1001",
         "2018-11-04 00:00:00+00:00",
         "16.97",
         "11",
         "4"
        ],
        [
         "8",
         "1001_10",
         "1001",
         "2018-11-27 00:00:00+00:00",
         "135.18",
         "11",
         "27"
        ],
        [
         "9",
         "1001_15",
         "1001",
         "2018-12-13 00:00:00+00:00",
         "761.92",
         "12",
         "13"
        ],
        [
         "10",
         "1001_16",
         "1001",
         "2018-10-28 00:00:00+00:00",
         "501.53",
         "10",
         "28"
        ],
        [
         "11",
         "1001_17",
         "1001",
         "2018-09-05 00:00:00+00:00",
         "727.29",
         "9",
         "5"
        ],
        [
         "12",
         "1001_24",
         "1001",
         "2018-09-05 00:00:00+00:00",
         "622.03",
         "9",
         "5"
        ],
        [
         "13",
         "1001_25",
         "1001",
         "2018-10-14 00:00:00+00:00",
         "310.43",
         "10",
         "14"
        ],
        [
         "14",
         "1001_26",
         "1001",
         "2018-09-17 00:00:00+00:00",
         "0.0",
         "9",
         "17"
        ],
        [
         "15",
         "1001_27",
         "1001",
         "2018-12-13 00:00:00+00:00",
         "149.17",
         "12",
         "13"
        ],
        [
         "16",
         "1001_28",
         "1001",
         "2018-10-17 00:00:00+00:00",
         "0.0",
         "10",
         "17"
        ],
        [
         "17",
         "1001_29",
         "1001",
         "2018-10-09 00:00:00+00:00",
         "1067.99",
         "10",
         "9"
        ],
        [
         "18",
         "1001_30",
         "1001",
         "2018-12-27 00:00:00+00:00",
         "157.2",
         "12",
         "27"
        ],
        [
         "19",
         "1001_33",
         "1001",
         "2018-09-27 00:00:00+00:00",
         "236.4",
         "9",
         "27"
        ],
        [
         "20",
         "1001_34",
         "1001",
         "2018-09-18 00:00:00+00:00",
         "299.66",
         "9",
         "18"
        ],
        [
         "21",
         "1001_37",
         "1001",
         "2018-12-26 00:00:00+00:00",
         "694.5",
         "12",
         "26"
        ],
        [
         "22",
         "1001_38",
         "1001",
         "2018-11-25 00:00:00+00:00",
         "288.27",
         "11",
         "25"
        ],
        [
         "23",
         "1001_40",
         "1001",
         "2018-12-27 00:00:00+00:00",
         "632.84",
         "12",
         "27"
        ],
        [
         "24",
         "1001_42",
         "1001",
         "2018-12-03 00:00:00+00:00",
         "474.35",
         "12",
         "3"
        ],
        [
         "25",
         "1001_43",
         "1001",
         "2018-11-16 00:00:00+00:00",
         "196.94",
         "11",
         "16"
        ],
        [
         "26",
         "1001_44",
         "1001",
         "2018-09-27 00:00:00+00:00",
         "44.91",
         "9",
         "27"
        ],
        [
         "27",
         "1001_45",
         "1001",
         "2018-10-23 00:00:00+00:00",
         "483.49",
         "10",
         "23"
        ],
        [
         "28",
         "1001_47",
         "1001",
         "2018-12-07 00:00:00+00:00",
         "317.01",
         "12",
         "7"
        ],
        [
         "29",
         "1001_48",
         "1001",
         "2018-09-08 00:00:00+00:00",
         "284.97",
         "9",
         "8"
        ],
        [
         "30",
         "1001_49",
         "1001",
         "2018-10-18 00:00:00+00:00",
         "534.65",
         "10",
         "18"
        ],
        [
         "31",
         "1001_50",
         "1001",
         "2018-11-27 00:00:00+00:00",
         "618.84",
         "11",
         "27"
        ],
        [
         "32",
         "1001_52",
         "1001",
         "2018-11-17 00:00:00+00:00",
         "409.19",
         "11",
         "17"
        ],
        [
         "33",
         "1001_53",
         "1001",
         "2018-11-10 00:00:00+00:00",
         "418.75",
         "11",
         "10"
        ],
        [
         "34",
         "1001_54",
         "1001",
         "2018-09-02 00:00:00+00:00",
         "0.0",
         "9",
         "2"
        ],
        [
         "35",
         "1001_61",
         "1001",
         "2018-11-28 00:00:00+00:00",
         "121.3",
         "11",
         "28"
        ],
        [
         "36",
         "1001_63",
         "1001",
         "2018-12-03 00:00:00+00:00",
         "144.94",
         "12",
         "3"
        ],
        [
         "37",
         "1001_64",
         "1001",
         "2018-12-10 00:00:00+00:00",
         "14.03",
         "12",
         "10"
        ],
        [
         "38",
         "1001_65",
         "1001",
         "2018-09-17 00:00:00+00:00",
         "969.54",
         "9",
         "17"
        ],
        [
         "39",
         "1001_66",
         "1001",
         "2018-10-17 00:00:00+00:00",
         "976.69",
         "10",
         "17"
        ],
        [
         "40",
         "1001_71",
         "1001",
         "2018-09-06 00:00:00+00:00",
         "310.16",
         "9",
         "6"
        ],
        [
         "41",
         "1001_73",
         "1001",
         "2018-10-04 00:00:00+00:00",
         "501.87",
         "10",
         "4"
        ],
        [
         "42",
         "1001_75",
         "1001",
         "2018-11-11 00:00:00+00:00",
         "438.76",
         "11",
         "11"
        ],
        [
         "43",
         "1001_77",
         "1001",
         "2018-10-31 00:00:00+00:00",
         "0.0",
         "10",
         "31"
        ],
        [
         "44",
         "1001_80",
         "1001",
         "2018-12-24 00:00:00+00:00",
         "0.0",
         "12",
         "24"
        ],
        [
         "45",
         "1001_82",
         "1001",
         "2018-11-28 00:00:00+00:00",
         "255.14",
         "11",
         "28"
        ],
        [
         "46",
         "1001_84",
         "1001",
         "2018-10-13 00:00:00+00:00",
         "0.0",
         "10",
         "13"
        ],
        [
         "47",
         "1001_85",
         "1001",
         "2018-12-16 00:00:00+00:00",
         "624.34",
         "12",
         "16"
        ],
        [
         "48",
         "1001_86",
         "1001",
         "2018-09-17 00:00:00+00:00",
         "71.78",
         "9",
         "17"
        ],
        [
         "49",
         "1001_87",
         "1001",
         "2018-09-30 00:00:00+00:00",
         "179.68",
         "9",
         "30"
        ]
       ],
       "shape": {
        "columns": 6,
        "rows": 104825
       }
      },
      "text/html": [
       "<div>\n",
       "<style scoped>\n",
       "    .dataframe tbody tr th:only-of-type {\n",
       "        vertical-align: middle;\n",
       "    }\n",
       "\n",
       "    .dataframe tbody tr th {\n",
       "        vertical-align: top;\n",
       "    }\n",
       "\n",
       "    .dataframe thead th {\n",
       "        text-align: right;\n",
       "    }\n",
       "</style>\n",
       "<table border=\"1\" class=\"dataframe\">\n",
       "  <thead>\n",
       "    <tr style=\"text-align: right;\">\n",
       "      <th></th>\n",
       "      <th>session_id</th>\n",
       "      <th>user_id</th>\n",
       "      <th>session_date</th>\n",
       "      <th>mb_used</th>\n",
       "      <th>month</th>\n",
       "      <th>day</th>\n",
       "    </tr>\n",
       "  </thead>\n",
       "  <tbody>\n",
       "    <tr>\n",
       "      <th>0</th>\n",
       "      <td>1000_13</td>\n",
       "      <td>1000</td>\n",
       "      <td>2018-12-29 00:00:00+00:00</td>\n",
       "      <td>89.86</td>\n",
       "      <td>12</td>\n",
       "      <td>29</td>\n",
       "    </tr>\n",
       "    <tr>\n",
       "      <th>1</th>\n",
       "      <td>1000_204</td>\n",
       "      <td>1000</td>\n",
       "      <td>2018-12-31 00:00:00+00:00</td>\n",
       "      <td>0.00</td>\n",
       "      <td>12</td>\n",
       "      <td>31</td>\n",
       "    </tr>\n",
       "    <tr>\n",
       "      <th>2</th>\n",
       "      <td>1000_379</td>\n",
       "      <td>1000</td>\n",
       "      <td>2018-12-28 00:00:00+00:00</td>\n",
       "      <td>660.40</td>\n",
       "      <td>12</td>\n",
       "      <td>28</td>\n",
       "    </tr>\n",
       "    <tr>\n",
       "      <th>3</th>\n",
       "      <td>1000_413</td>\n",
       "      <td>1000</td>\n",
       "      <td>2018-12-26 00:00:00+00:00</td>\n",
       "      <td>270.99</td>\n",
       "      <td>12</td>\n",
       "      <td>26</td>\n",
       "    </tr>\n",
       "    <tr>\n",
       "      <th>4</th>\n",
       "      <td>1000_442</td>\n",
       "      <td>1000</td>\n",
       "      <td>2018-12-27 00:00:00+00:00</td>\n",
       "      <td>880.22</td>\n",
       "      <td>12</td>\n",
       "      <td>27</td>\n",
       "    </tr>\n",
       "    <tr>\n",
       "      <th>...</th>\n",
       "      <td>...</td>\n",
       "      <td>...</td>\n",
       "      <td>...</td>\n",
       "      <td>...</td>\n",
       "      <td>...</td>\n",
       "      <td>...</td>\n",
       "    </tr>\n",
       "    <tr>\n",
       "      <th>104820</th>\n",
       "      <td>1499_215</td>\n",
       "      <td>1499</td>\n",
       "      <td>2018-10-20 00:00:00+00:00</td>\n",
       "      <td>218.06</td>\n",
       "      <td>10</td>\n",
       "      <td>20</td>\n",
       "    </tr>\n",
       "    <tr>\n",
       "      <th>104821</th>\n",
       "      <td>1499_216</td>\n",
       "      <td>1499</td>\n",
       "      <td>2018-12-30 00:00:00+00:00</td>\n",
       "      <td>304.72</td>\n",
       "      <td>12</td>\n",
       "      <td>30</td>\n",
       "    </tr>\n",
       "    <tr>\n",
       "      <th>104822</th>\n",
       "      <td>1499_217</td>\n",
       "      <td>1499</td>\n",
       "      <td>2018-09-22 00:00:00+00:00</td>\n",
       "      <td>292.75</td>\n",
       "      <td>9</td>\n",
       "      <td>22</td>\n",
       "    </tr>\n",
       "    <tr>\n",
       "      <th>104823</th>\n",
       "      <td>1499_218</td>\n",
       "      <td>1499</td>\n",
       "      <td>2018-12-07 00:00:00+00:00</td>\n",
       "      <td>0.00</td>\n",
       "      <td>12</td>\n",
       "      <td>7</td>\n",
       "    </tr>\n",
       "    <tr>\n",
       "      <th>104824</th>\n",
       "      <td>1499_219</td>\n",
       "      <td>1499</td>\n",
       "      <td>2018-12-24 00:00:00+00:00</td>\n",
       "      <td>758.31</td>\n",
       "      <td>12</td>\n",
       "      <td>24</td>\n",
       "    </tr>\n",
       "  </tbody>\n",
       "</table>\n",
       "<p>104825 rows × 6 columns</p>\n",
       "</div>"
      ],
      "text/plain": [
       "       session_id  user_id              session_date  mb_used  month  day\n",
       "0         1000_13     1000 2018-12-29 00:00:00+00:00    89.86     12   29\n",
       "1        1000_204     1000 2018-12-31 00:00:00+00:00     0.00     12   31\n",
       "2        1000_379     1000 2018-12-28 00:00:00+00:00   660.40     12   28\n",
       "3        1000_413     1000 2018-12-26 00:00:00+00:00   270.99     12   26\n",
       "4        1000_442     1000 2018-12-27 00:00:00+00:00   880.22     12   27\n",
       "...           ...      ...                       ...      ...    ...  ...\n",
       "104820   1499_215     1499 2018-10-20 00:00:00+00:00   218.06     10   20\n",
       "104821   1499_216     1499 2018-12-30 00:00:00+00:00   304.72     12   30\n",
       "104822   1499_217     1499 2018-09-22 00:00:00+00:00   292.75      9   22\n",
       "104823   1499_218     1499 2018-12-07 00:00:00+00:00     0.00     12    7\n",
       "104824   1499_219     1499 2018-12-24 00:00:00+00:00   758.31     12   24\n",
       "\n",
       "[104825 rows x 6 columns]"
      ]
     },
     "execution_count": 44,
     "metadata": {},
     "output_type": "execute_result"
    }
   ],
   "source": [
    "df_internet"
   ]
  },
  {
   "cell_type": "markdown",
   "id": "b86ad1d9",
   "metadata": {},
   "source": [
    "#### 4.4.1 Internet sessions and traffic per user and month"
   ]
  },
  {
   "cell_type": "code",
   "execution_count": 45,
   "id": "f994a3f5",
   "metadata": {},
   "outputs": [
    {
     "data": {
      "application/vnd.microsoft.datawrangler.viewer.v0+json": {
       "columns": [
        {
         "name": "index",
         "rawType": "int64",
         "type": "integer"
        },
        {
         "name": "user_id",
         "rawType": "int64",
         "type": "integer"
        },
        {
         "name": "month",
         "rawType": "int32",
         "type": "integer"
        },
        {
         "name": "total_month_sessions",
         "rawType": "int64",
         "type": "integer"
        }
       ],
       "ref": "e21dec05-4e4b-4e95-8137-e5949bb21df4",
       "rows": [
        [
         "0",
         "1000",
         "12",
         "5"
        ],
        [
         "1",
         "1001",
         "8",
         "25"
        ],
        [
         "2",
         "1001",
         "9",
         "53"
        ],
        [
         "3",
         "1001",
         "10",
         "56"
        ],
        [
         "4",
         "1001",
         "11",
         "51"
        ],
        [
         "5",
         "1001",
         "12",
         "60"
        ],
        [
         "6",
         "1002",
         "10",
         "21"
        ],
        [
         "7",
         "1002",
         "11",
         "52"
        ],
        [
         "8",
         "1002",
         "12",
         "51"
        ],
        [
         "9",
         "1003",
         "12",
         "52"
        ],
        [
         "10",
         "1004",
         "5",
         "17"
        ],
        [
         "11",
         "1004",
         "6",
         "73"
        ],
        [
         "12",
         "1004",
         "7",
         "69"
        ],
        [
         "13",
         "1004",
         "8",
         "72"
        ],
        [
         "14",
         "1004",
         "9",
         "56"
        ],
        [
         "15",
         "1004",
         "10",
         "51"
        ],
        [
         "16",
         "1004",
         "11",
         "69"
        ],
        [
         "17",
         "1004",
         "12",
         "53"
        ],
        [
         "18",
         "1005",
         "12",
         "60"
        ],
        [
         "19",
         "1006",
         "11",
         "7"
        ],
        [
         "20",
         "1006",
         "12",
         "63"
        ],
        [
         "21",
         "1007",
         "8",
         "45"
        ],
        [
         "22",
         "1007",
         "9",
         "52"
        ],
        [
         "23",
         "1007",
         "10",
         "65"
        ],
        [
         "24",
         "1007",
         "11",
         "50"
        ],
        [
         "25",
         "1007",
         "12",
         "61"
        ],
        [
         "26",
         "1008",
         "10",
         "57"
        ],
        [
         "27",
         "1008",
         "11",
         "72"
        ],
        [
         "28",
         "1008",
         "12",
         "47"
        ],
        [
         "29",
         "1009",
         "5",
         "43"
        ],
        [
         "30",
         "1009",
         "6",
         "38"
        ],
        [
         "31",
         "1009",
         "7",
         "60"
        ],
        [
         "32",
         "1009",
         "8",
         "51"
        ],
        [
         "33",
         "1009",
         "9",
         "50"
        ],
        [
         "34",
         "1009",
         "10",
         "47"
        ],
        [
         "35",
         "1009",
         "11",
         "47"
        ],
        [
         "36",
         "1009",
         "12",
         "50"
        ],
        [
         "37",
         "1010",
         "3",
         "37"
        ],
        [
         "38",
         "1010",
         "4",
         "58"
        ],
        [
         "39",
         "1010",
         "5",
         "56"
        ],
        [
         "40",
         "1010",
         "6",
         "49"
        ],
        [
         "41",
         "1010",
         "7",
         "37"
        ],
        [
         "42",
         "1010",
         "8",
         "51"
        ],
        [
         "43",
         "1010",
         "9",
         "50"
        ],
        [
         "44",
         "1010",
         "10",
         "50"
        ],
        [
         "45",
         "1010",
         "11",
         "21"
        ],
        [
         "46",
         "1011",
         "6",
         "25"
        ],
        [
         "47",
         "1011",
         "7",
         "70"
        ],
        [
         "48",
         "1011",
         "8",
         "64"
        ],
        [
         "49",
         "1011",
         "9",
         "58"
        ]
       ],
       "shape": {
        "columns": 3,
        "rows": 2277
       }
      },
      "text/html": [
       "<div>\n",
       "<style scoped>\n",
       "    .dataframe tbody tr th:only-of-type {\n",
       "        vertical-align: middle;\n",
       "    }\n",
       "\n",
       "    .dataframe tbody tr th {\n",
       "        vertical-align: top;\n",
       "    }\n",
       "\n",
       "    .dataframe thead th {\n",
       "        text-align: right;\n",
       "    }\n",
       "</style>\n",
       "<table border=\"1\" class=\"dataframe\">\n",
       "  <thead>\n",
       "    <tr style=\"text-align: right;\">\n",
       "      <th></th>\n",
       "      <th>user_id</th>\n",
       "      <th>month</th>\n",
       "      <th>total_month_sessions</th>\n",
       "    </tr>\n",
       "  </thead>\n",
       "  <tbody>\n",
       "    <tr>\n",
       "      <th>0</th>\n",
       "      <td>1000</td>\n",
       "      <td>12</td>\n",
       "      <td>5</td>\n",
       "    </tr>\n",
       "    <tr>\n",
       "      <th>1</th>\n",
       "      <td>1001</td>\n",
       "      <td>8</td>\n",
       "      <td>25</td>\n",
       "    </tr>\n",
       "    <tr>\n",
       "      <th>2</th>\n",
       "      <td>1001</td>\n",
       "      <td>9</td>\n",
       "      <td>53</td>\n",
       "    </tr>\n",
       "    <tr>\n",
       "      <th>3</th>\n",
       "      <td>1001</td>\n",
       "      <td>10</td>\n",
       "      <td>56</td>\n",
       "    </tr>\n",
       "    <tr>\n",
       "      <th>4</th>\n",
       "      <td>1001</td>\n",
       "      <td>11</td>\n",
       "      <td>51</td>\n",
       "    </tr>\n",
       "    <tr>\n",
       "      <th>...</th>\n",
       "      <td>...</td>\n",
       "      <td>...</td>\n",
       "      <td>...</td>\n",
       "    </tr>\n",
       "    <tr>\n",
       "      <th>2272</th>\n",
       "      <td>1498</td>\n",
       "      <td>12</td>\n",
       "      <td>65</td>\n",
       "    </tr>\n",
       "    <tr>\n",
       "      <th>2273</th>\n",
       "      <td>1499</td>\n",
       "      <td>9</td>\n",
       "      <td>45</td>\n",
       "    </tr>\n",
       "    <tr>\n",
       "      <th>2274</th>\n",
       "      <td>1499</td>\n",
       "      <td>10</td>\n",
       "      <td>61</td>\n",
       "    </tr>\n",
       "    <tr>\n",
       "      <th>2275</th>\n",
       "      <td>1499</td>\n",
       "      <td>11</td>\n",
       "      <td>49</td>\n",
       "    </tr>\n",
       "    <tr>\n",
       "      <th>2276</th>\n",
       "      <td>1499</td>\n",
       "      <td>12</td>\n",
       "      <td>65</td>\n",
       "    </tr>\n",
       "  </tbody>\n",
       "</table>\n",
       "<p>2277 rows × 3 columns</p>\n",
       "</div>"
      ],
      "text/plain": [
       "      user_id  month  total_month_sessions\n",
       "0        1000     12                     5\n",
       "1        1001      8                    25\n",
       "2        1001      9                    53\n",
       "3        1001     10                    56\n",
       "4        1001     11                    51\n",
       "...       ...    ...                   ...\n",
       "2272     1498     12                    65\n",
       "2273     1499      9                    45\n",
       "2274     1499     10                    61\n",
       "2275     1499     11                    49\n",
       "2276     1499     12                    65\n",
       "\n",
       "[2277 rows x 3 columns]"
      ]
     },
     "execution_count": 45,
     "metadata": {},
     "output_type": "execute_result"
    }
   ],
   "source": [
    "df_sessions_user_month = df_internet.groupby(['user_id', 'month'])['session_id'].count().reset_index()\n",
    "df_sessions_user_month = df_sessions_user_month.rename(columns={'session_id': 'total_month_sessions'})\n",
    "df_sessions_user_month"
   ]
  },
  {
   "cell_type": "code",
   "execution_count": 46,
   "id": "a1f09e55",
   "metadata": {},
   "outputs": [
    {
     "data": {
      "application/vnd.microsoft.datawrangler.viewer.v0+json": {
       "columns": [
        {
         "name": "index",
         "rawType": "int64",
         "type": "integer"
        },
        {
         "name": "total_month_traffic",
         "rawType": "float64",
         "type": "float"
        }
       ],
       "ref": "f630584f-6f51-4de0-8718-31cf1df1f708",
       "rows": [
        [
         "0",
         "2000.0"
        ],
        [
         "1",
         "7000.0"
        ],
        [
         "2",
         "14000.0"
        ],
        [
         "3",
         "23000.0"
        ],
        [
         "4",
         "19000.0"
        ],
        [
         "5",
         "20000.0"
        ],
        [
         "6",
         "7000.0"
        ],
        [
         "7",
         "20000.0"
        ],
        [
         "8",
         "15000.0"
        ],
        [
         "9",
         "28000.0"
        ],
        [
         "10",
         "7000.0"
        ],
        [
         "11",
         "21000.0"
        ],
        [
         "12",
         "25000.0"
        ],
        [
         "13",
         "28000.0"
        ],
        [
         "14",
         "19000.0"
        ],
        [
         "15",
         "15000.0"
        ],
        [
         "16",
         "22000.0"
        ],
        [
         "17",
         "22000.0"
        ],
        [
         "18",
         "18000.0"
        ],
        [
         "19",
         "3000.0"
        ],
        [
         "20",
         "33000.0"
        ],
        [
         "21",
         "25000.0"
        ],
        [
         "22",
         "29000.0"
        ],
        [
         "23",
         "38000.0"
        ],
        [
         "24",
         "25000.0"
        ],
        [
         "25",
         "30000.0"
        ],
        [
         "26",
         "18000.0"
        ],
        [
         "27",
         "24000.0"
        ],
        [
         "28",
         "15000.0"
        ],
        [
         "29",
         "21000.0"
        ],
        [
         "30",
         "19000.0"
        ],
        [
         "31",
         "31000.0"
        ],
        [
         "32",
         "25000.0"
        ],
        [
         "33",
         "21000.0"
        ],
        [
         "34",
         "23000.0"
        ],
        [
         "35",
         "26000.0"
        ],
        [
         "36",
         "24000.0"
        ],
        [
         "37",
         "11000.0"
        ],
        [
         "38",
         "20000.0"
        ],
        [
         "39",
         "16000.0"
        ],
        [
         "40",
         "17000.0"
        ],
        [
         "41",
         "13000.0"
        ],
        [
         "42",
         "20000.0"
        ],
        [
         "43",
         "17000.0"
        ],
        [
         "44",
         "17000.0"
        ],
        [
         "45",
         "8000.0"
        ],
        [
         "46",
         "7000.0"
        ],
        [
         "47",
         "22000.0"
        ],
        [
         "48",
         "22000.0"
        ],
        [
         "49",
         "17000.0"
        ]
       ],
       "shape": {
        "columns": 1,
        "rows": 2277
       }
      },
      "text/html": [
       "<div>\n",
       "<style scoped>\n",
       "    .dataframe tbody tr th:only-of-type {\n",
       "        vertical-align: middle;\n",
       "    }\n",
       "\n",
       "    .dataframe tbody tr th {\n",
       "        vertical-align: top;\n",
       "    }\n",
       "\n",
       "    .dataframe thead th {\n",
       "        text-align: right;\n",
       "    }\n",
       "</style>\n",
       "<table border=\"1\" class=\"dataframe\">\n",
       "  <thead>\n",
       "    <tr style=\"text-align: right;\">\n",
       "      <th></th>\n",
       "      <th>total_month_traffic</th>\n",
       "    </tr>\n",
       "  </thead>\n",
       "  <tbody>\n",
       "    <tr>\n",
       "      <th>0</th>\n",
       "      <td>2000.0</td>\n",
       "    </tr>\n",
       "    <tr>\n",
       "      <th>1</th>\n",
       "      <td>7000.0</td>\n",
       "    </tr>\n",
       "    <tr>\n",
       "      <th>2</th>\n",
       "      <td>14000.0</td>\n",
       "    </tr>\n",
       "    <tr>\n",
       "      <th>3</th>\n",
       "      <td>23000.0</td>\n",
       "    </tr>\n",
       "    <tr>\n",
       "      <th>4</th>\n",
       "      <td>19000.0</td>\n",
       "    </tr>\n",
       "    <tr>\n",
       "      <th>...</th>\n",
       "      <td>...</td>\n",
       "    </tr>\n",
       "    <tr>\n",
       "      <th>2272</th>\n",
       "      <td>24000.0</td>\n",
       "    </tr>\n",
       "    <tr>\n",
       "      <th>2273</th>\n",
       "      <td>13000.0</td>\n",
       "    </tr>\n",
       "    <tr>\n",
       "      <th>2274</th>\n",
       "      <td>20000.0</td>\n",
       "    </tr>\n",
       "    <tr>\n",
       "      <th>2275</th>\n",
       "      <td>17000.0</td>\n",
       "    </tr>\n",
       "    <tr>\n",
       "      <th>2276</th>\n",
       "      <td>23000.0</td>\n",
       "    </tr>\n",
       "  </tbody>\n",
       "</table>\n",
       "<p>2277 rows × 1 columns</p>\n",
       "</div>"
      ],
      "text/plain": [
       "      total_month_traffic\n",
       "0                  2000.0\n",
       "1                  7000.0\n",
       "2                 14000.0\n",
       "3                 23000.0\n",
       "4                 19000.0\n",
       "...                   ...\n",
       "2272              24000.0\n",
       "2273              13000.0\n",
       "2274              20000.0\n",
       "2275              17000.0\n",
       "2276              23000.0\n",
       "\n",
       "[2277 rows x 1 columns]"
      ]
     },
     "execution_count": 46,
     "metadata": {},
     "output_type": "execute_result"
    }
   ],
   "source": [
    "# Individual web sessions are not rounded up. Instead, the monthly total is rounded up\n",
    "df_traffic_user_month = df_internet.groupby(['user_id', 'month'])['mb_used'].sum().reset_index()\n",
    "df_traffic_user_month = df_traffic_user_month.rename(columns={'mb_used': 'total_month_traffic'})\n",
    "df_traffic_user_month['total_month_traffic'] = np.ceil(df_traffic_user_month['total_month_traffic'] / 1000) * 1000\n",
    "df_traffic_user_month = df_traffic_user_month.drop(['user_id', 'month'], axis=1)\n",
    "df_traffic_user_month"
   ]
  },
  {
   "cell_type": "code",
   "execution_count": 47,
   "id": "7b2a0f50",
   "metadata": {},
   "outputs": [
    {
     "data": {
      "application/vnd.microsoft.datawrangler.viewer.v0+json": {
       "columns": [
        {
         "name": "index",
         "rawType": "int64",
         "type": "integer"
        },
        {
         "name": "user_id",
         "rawType": "int64",
         "type": "integer"
        },
        {
         "name": "month",
         "rawType": "int32",
         "type": "integer"
        },
        {
         "name": "total_month_sessions",
         "rawType": "int64",
         "type": "integer"
        },
        {
         "name": "total_month_traffic",
         "rawType": "float64",
         "type": "float"
        }
       ],
       "ref": "97ee48aa-e68c-44fb-b7f7-423f862673f7",
       "rows": [
        [
         "0",
         "1000",
         "12",
         "5",
         "2000.0"
        ],
        [
         "1",
         "1001",
         "8",
         "25",
         "7000.0"
        ],
        [
         "2",
         "1001",
         "9",
         "53",
         "14000.0"
        ],
        [
         "3",
         "1001",
         "10",
         "56",
         "23000.0"
        ],
        [
         "4",
         "1001",
         "11",
         "51",
         "19000.0"
        ],
        [
         "5",
         "1001",
         "12",
         "60",
         "20000.0"
        ],
        [
         "6",
         "1002",
         "10",
         "21",
         "7000.0"
        ],
        [
         "7",
         "1002",
         "11",
         "52",
         "20000.0"
        ],
        [
         "8",
         "1002",
         "12",
         "51",
         "15000.0"
        ],
        [
         "9",
         "1003",
         "12",
         "52",
         "28000.0"
        ],
        [
         "10",
         "1004",
         "5",
         "17",
         "7000.0"
        ],
        [
         "11",
         "1004",
         "6",
         "73",
         "21000.0"
        ],
        [
         "12",
         "1004",
         "7",
         "69",
         "25000.0"
        ],
        [
         "13",
         "1004",
         "8",
         "72",
         "28000.0"
        ],
        [
         "14",
         "1004",
         "9",
         "56",
         "19000.0"
        ],
        [
         "15",
         "1004",
         "10",
         "51",
         "15000.0"
        ],
        [
         "16",
         "1004",
         "11",
         "69",
         "22000.0"
        ],
        [
         "17",
         "1004",
         "12",
         "53",
         "22000.0"
        ],
        [
         "18",
         "1005",
         "12",
         "60",
         "18000.0"
        ],
        [
         "19",
         "1006",
         "11",
         "7",
         "3000.0"
        ],
        [
         "20",
         "1006",
         "12",
         "63",
         "33000.0"
        ],
        [
         "21",
         "1007",
         "8",
         "45",
         "25000.0"
        ],
        [
         "22",
         "1007",
         "9",
         "52",
         "29000.0"
        ],
        [
         "23",
         "1007",
         "10",
         "65",
         "38000.0"
        ],
        [
         "24",
         "1007",
         "11",
         "50",
         "25000.0"
        ],
        [
         "25",
         "1007",
         "12",
         "61",
         "30000.0"
        ],
        [
         "26",
         "1008",
         "10",
         "57",
         "18000.0"
        ],
        [
         "27",
         "1008",
         "11",
         "72",
         "24000.0"
        ],
        [
         "28",
         "1008",
         "12",
         "47",
         "15000.0"
        ],
        [
         "29",
         "1009",
         "5",
         "43",
         "21000.0"
        ],
        [
         "30",
         "1009",
         "6",
         "38",
         "19000.0"
        ],
        [
         "31",
         "1009",
         "7",
         "60",
         "31000.0"
        ],
        [
         "32",
         "1009",
         "8",
         "51",
         "25000.0"
        ],
        [
         "33",
         "1009",
         "9",
         "50",
         "21000.0"
        ],
        [
         "34",
         "1009",
         "10",
         "47",
         "23000.0"
        ],
        [
         "35",
         "1009",
         "11",
         "47",
         "26000.0"
        ],
        [
         "36",
         "1009",
         "12",
         "50",
         "24000.0"
        ],
        [
         "37",
         "1010",
         "3",
         "37",
         "11000.0"
        ],
        [
         "38",
         "1010",
         "4",
         "58",
         "20000.0"
        ],
        [
         "39",
         "1010",
         "5",
         "56",
         "16000.0"
        ],
        [
         "40",
         "1010",
         "6",
         "49",
         "17000.0"
        ],
        [
         "41",
         "1010",
         "7",
         "37",
         "13000.0"
        ],
        [
         "42",
         "1010",
         "8",
         "51",
         "20000.0"
        ],
        [
         "43",
         "1010",
         "9",
         "50",
         "17000.0"
        ],
        [
         "44",
         "1010",
         "10",
         "50",
         "17000.0"
        ],
        [
         "45",
         "1010",
         "11",
         "21",
         "8000.0"
        ],
        [
         "46",
         "1011",
         "6",
         "25",
         "7000.0"
        ],
        [
         "47",
         "1011",
         "7",
         "70",
         "22000.0"
        ],
        [
         "48",
         "1011",
         "8",
         "64",
         "22000.0"
        ],
        [
         "49",
         "1011",
         "9",
         "58",
         "17000.0"
        ]
       ],
       "shape": {
        "columns": 4,
        "rows": 2277
       }
      },
      "text/html": [
       "<div>\n",
       "<style scoped>\n",
       "    .dataframe tbody tr th:only-of-type {\n",
       "        vertical-align: middle;\n",
       "    }\n",
       "\n",
       "    .dataframe tbody tr th {\n",
       "        vertical-align: top;\n",
       "    }\n",
       "\n",
       "    .dataframe thead th {\n",
       "        text-align: right;\n",
       "    }\n",
       "</style>\n",
       "<table border=\"1\" class=\"dataframe\">\n",
       "  <thead>\n",
       "    <tr style=\"text-align: right;\">\n",
       "      <th></th>\n",
       "      <th>user_id</th>\n",
       "      <th>month</th>\n",
       "      <th>total_month_sessions</th>\n",
       "      <th>total_month_traffic</th>\n",
       "    </tr>\n",
       "  </thead>\n",
       "  <tbody>\n",
       "    <tr>\n",
       "      <th>0</th>\n",
       "      <td>1000</td>\n",
       "      <td>12</td>\n",
       "      <td>5</td>\n",
       "      <td>2000.0</td>\n",
       "    </tr>\n",
       "    <tr>\n",
       "      <th>1</th>\n",
       "      <td>1001</td>\n",
       "      <td>8</td>\n",
       "      <td>25</td>\n",
       "      <td>7000.0</td>\n",
       "    </tr>\n",
       "    <tr>\n",
       "      <th>2</th>\n",
       "      <td>1001</td>\n",
       "      <td>9</td>\n",
       "      <td>53</td>\n",
       "      <td>14000.0</td>\n",
       "    </tr>\n",
       "    <tr>\n",
       "      <th>3</th>\n",
       "      <td>1001</td>\n",
       "      <td>10</td>\n",
       "      <td>56</td>\n",
       "      <td>23000.0</td>\n",
       "    </tr>\n",
       "    <tr>\n",
       "      <th>4</th>\n",
       "      <td>1001</td>\n",
       "      <td>11</td>\n",
       "      <td>51</td>\n",
       "      <td>19000.0</td>\n",
       "    </tr>\n",
       "    <tr>\n",
       "      <th>...</th>\n",
       "      <td>...</td>\n",
       "      <td>...</td>\n",
       "      <td>...</td>\n",
       "      <td>...</td>\n",
       "    </tr>\n",
       "    <tr>\n",
       "      <th>2272</th>\n",
       "      <td>1498</td>\n",
       "      <td>12</td>\n",
       "      <td>65</td>\n",
       "      <td>24000.0</td>\n",
       "    </tr>\n",
       "    <tr>\n",
       "      <th>2273</th>\n",
       "      <td>1499</td>\n",
       "      <td>9</td>\n",
       "      <td>45</td>\n",
       "      <td>13000.0</td>\n",
       "    </tr>\n",
       "    <tr>\n",
       "      <th>2274</th>\n",
       "      <td>1499</td>\n",
       "      <td>10</td>\n",
       "      <td>61</td>\n",
       "      <td>20000.0</td>\n",
       "    </tr>\n",
       "    <tr>\n",
       "      <th>2275</th>\n",
       "      <td>1499</td>\n",
       "      <td>11</td>\n",
       "      <td>49</td>\n",
       "      <td>17000.0</td>\n",
       "    </tr>\n",
       "    <tr>\n",
       "      <th>2276</th>\n",
       "      <td>1499</td>\n",
       "      <td>12</td>\n",
       "      <td>65</td>\n",
       "      <td>23000.0</td>\n",
       "    </tr>\n",
       "  </tbody>\n",
       "</table>\n",
       "<p>2277 rows × 4 columns</p>\n",
       "</div>"
      ],
      "text/plain": [
       "      user_id  month  total_month_sessions  total_month_traffic\n",
       "0        1000     12                     5               2000.0\n",
       "1        1001      8                    25               7000.0\n",
       "2        1001      9                    53              14000.0\n",
       "3        1001     10                    56              23000.0\n",
       "4        1001     11                    51              19000.0\n",
       "...       ...    ...                   ...                  ...\n",
       "2272     1498     12                    65              24000.0\n",
       "2273     1499      9                    45              13000.0\n",
       "2274     1499     10                    61              20000.0\n",
       "2275     1499     11                    49              17000.0\n",
       "2276     1499     12                    65              23000.0\n",
       "\n",
       "[2277 rows x 4 columns]"
      ]
     },
     "execution_count": 47,
     "metadata": {},
     "output_type": "execute_result"
    }
   ],
   "source": [
    "df_sessions_traffic_month = pd.concat([df_sessions_user_month, df_traffic_user_month], axis=1)\n",
    "df_sessions_traffic_month"
   ]
  },
  {
   "cell_type": "markdown",
   "id": "5df6cd7f",
   "metadata": {},
   "source": [
    "### 4.5 Services activity per month and day"
   ]
  },
  {
   "cell_type": "markdown",
   "id": "9cbb5706",
   "metadata": {},
   "source": [
    "#### 4.5.1 Calls per month and day"
   ]
  },
  {
   "cell_type": "code",
   "execution_count": 48,
   "id": "e5b04988",
   "metadata": {},
   "outputs": [
    {
     "data": {
      "application/vnd.microsoft.datawrangler.viewer.v0+json": {
       "columns": [
        {
         "name": "index",
         "rawType": "int64",
         "type": "integer"
        },
        {
         "name": "month",
         "rawType": "int32",
         "type": "integer"
        },
        {
         "name": "day",
         "rawType": "int32",
         "type": "integer"
        },
        {
         "name": "calls_duration",
         "rawType": "float64",
         "type": "float"
        }
       ],
       "ref": "c9b236f5-7bb6-45e7-b1b6-d85f695628c5",
       "rows": [
        [
         "0",
         "1",
         "15",
         "32.0"
        ],
        [
         "1",
         "1",
         "16",
         "73.0"
        ],
        [
         "2",
         "1",
         "17",
         "29.0"
        ],
        [
         "3",
         "1",
         "18",
         "53.0"
        ],
        [
         "4",
         "1",
         "19",
         "76.0"
        ],
        [
         "5",
         "1",
         "20",
         "95.0"
        ],
        [
         "6",
         "1",
         "21",
         "56.0"
        ],
        [
         "7",
         "1",
         "22",
         "137.0"
        ],
        [
         "8",
         "1",
         "23",
         "122.0"
        ],
        [
         "9",
         "1",
         "24",
         "19.0"
        ],
        [
         "10",
         "1",
         "25",
         "74.0"
        ],
        [
         "11",
         "1",
         "26",
         "58.0"
        ],
        [
         "12",
         "1",
         "27",
         "69.0"
        ],
        [
         "13",
         "1",
         "28",
         "101.0"
        ],
        [
         "14",
         "1",
         "29",
         "80.0"
        ],
        [
         "15",
         "1",
         "30",
         "68.0"
        ],
        [
         "16",
         "1",
         "31",
         "38.0"
        ],
        [
         "17",
         "2",
         "1",
         "181.0"
        ],
        [
         "18",
         "2",
         "2",
         "131.0"
        ],
        [
         "19",
         "2",
         "3",
         "147.0"
        ],
        [
         "20",
         "2",
         "4",
         "95.0"
        ],
        [
         "21",
         "2",
         "5",
         "146.0"
        ],
        [
         "22",
         "2",
         "6",
         "103.0"
        ],
        [
         "23",
         "2",
         "7",
         "228.0"
        ],
        [
         "24",
         "2",
         "8",
         "218.0"
        ],
        [
         "25",
         "2",
         "9",
         "183.0"
        ],
        [
         "26",
         "2",
         "10",
         "129.0"
        ],
        [
         "27",
         "2",
         "11",
         "185.0"
        ],
        [
         "28",
         "2",
         "12",
         "196.0"
        ],
        [
         "29",
         "2",
         "13",
         "276.0"
        ],
        [
         "30",
         "2",
         "14",
         "163.0"
        ],
        [
         "31",
         "2",
         "15",
         "238.0"
        ],
        [
         "32",
         "2",
         "16",
         "264.0"
        ],
        [
         "33",
         "2",
         "17",
         "239.0"
        ],
        [
         "34",
         "2",
         "18",
         "190.0"
        ],
        [
         "35",
         "2",
         "19",
         "181.0"
        ],
        [
         "36",
         "2",
         "20",
         "189.0"
        ],
        [
         "37",
         "2",
         "21",
         "175.0"
        ],
        [
         "38",
         "2",
         "22",
         "240.0"
        ],
        [
         "39",
         "2",
         "23",
         "309.0"
        ],
        [
         "40",
         "2",
         "24",
         "192.0"
        ],
        [
         "41",
         "2",
         "25",
         "195.0"
        ],
        [
         "42",
         "2",
         "26",
         "286.0"
        ],
        [
         "43",
         "2",
         "27",
         "293.0"
        ],
        [
         "44",
         "2",
         "28",
         "123.0"
        ],
        [
         "45",
         "3",
         "1",
         "215.0"
        ],
        [
         "46",
         "3",
         "2",
         "198.0"
        ],
        [
         "47",
         "3",
         "3",
         "224.0"
        ],
        [
         "48",
         "3",
         "4",
         "252.0"
        ],
        [
         "49",
         "3",
         "5",
         "165.0"
        ]
       ],
       "shape": {
        "columns": 3,
        "rows": 351
       }
      },
      "text/html": [
       "<div>\n",
       "<style scoped>\n",
       "    .dataframe tbody tr th:only-of-type {\n",
       "        vertical-align: middle;\n",
       "    }\n",
       "\n",
       "    .dataframe tbody tr th {\n",
       "        vertical-align: top;\n",
       "    }\n",
       "\n",
       "    .dataframe thead th {\n",
       "        text-align: right;\n",
       "    }\n",
       "</style>\n",
       "<table border=\"1\" class=\"dataframe\">\n",
       "  <thead>\n",
       "    <tr style=\"text-align: right;\">\n",
       "      <th></th>\n",
       "      <th>month</th>\n",
       "      <th>day</th>\n",
       "      <th>calls_duration</th>\n",
       "    </tr>\n",
       "  </thead>\n",
       "  <tbody>\n",
       "    <tr>\n",
       "      <th>0</th>\n",
       "      <td>1</td>\n",
       "      <td>15</td>\n",
       "      <td>32.0</td>\n",
       "    </tr>\n",
       "    <tr>\n",
       "      <th>1</th>\n",
       "      <td>1</td>\n",
       "      <td>16</td>\n",
       "      <td>73.0</td>\n",
       "    </tr>\n",
       "    <tr>\n",
       "      <th>2</th>\n",
       "      <td>1</td>\n",
       "      <td>17</td>\n",
       "      <td>29.0</td>\n",
       "    </tr>\n",
       "    <tr>\n",
       "      <th>3</th>\n",
       "      <td>1</td>\n",
       "      <td>18</td>\n",
       "      <td>53.0</td>\n",
       "    </tr>\n",
       "    <tr>\n",
       "      <th>4</th>\n",
       "      <td>1</td>\n",
       "      <td>19</td>\n",
       "      <td>76.0</td>\n",
       "    </tr>\n",
       "    <tr>\n",
       "      <th>...</th>\n",
       "      <td>...</td>\n",
       "      <td>...</td>\n",
       "      <td>...</td>\n",
       "    </tr>\n",
       "    <tr>\n",
       "      <th>346</th>\n",
       "      <td>12</td>\n",
       "      <td>27</td>\n",
       "      <td>7906.0</td>\n",
       "    </tr>\n",
       "    <tr>\n",
       "      <th>347</th>\n",
       "      <td>12</td>\n",
       "      <td>28</td>\n",
       "      <td>7970.0</td>\n",
       "    </tr>\n",
       "    <tr>\n",
       "      <th>348</th>\n",
       "      <td>12</td>\n",
       "      <td>29</td>\n",
       "      <td>7770.0</td>\n",
       "    </tr>\n",
       "    <tr>\n",
       "      <th>349</th>\n",
       "      <td>12</td>\n",
       "      <td>30</td>\n",
       "      <td>7641.0</td>\n",
       "    </tr>\n",
       "    <tr>\n",
       "      <th>350</th>\n",
       "      <td>12</td>\n",
       "      <td>31</td>\n",
       "      <td>7734.0</td>\n",
       "    </tr>\n",
       "  </tbody>\n",
       "</table>\n",
       "<p>351 rows × 3 columns</p>\n",
       "</div>"
      ],
      "text/plain": [
       "     month  day  calls_duration\n",
       "0        1   15            32.0\n",
       "1        1   16            73.0\n",
       "2        1   17            29.0\n",
       "3        1   18            53.0\n",
       "4        1   19            76.0\n",
       "..     ...  ...             ...\n",
       "346     12   27          7906.0\n",
       "347     12   28          7970.0\n",
       "348     12   29          7770.0\n",
       "349     12   30          7641.0\n",
       "350     12   31          7734.0\n",
       "\n",
       "[351 rows x 3 columns]"
      ]
     },
     "execution_count": 48,
     "metadata": {},
     "output_type": "execute_result"
    }
   ],
   "source": [
    "df_calls_duration_periodic_day = df_calls.groupby(['month', 'day'])['duration'].sum().reset_index()\n",
    "df_calls_duration_periodic_day = df_calls_duration_periodic_day.rename(columns={'duration': 'calls_duration'})\n",
    "df_calls_duration_periodic_day"
   ]
  },
  {
   "cell_type": "code",
   "execution_count": 63,
   "id": "c7b6bdbd",
   "metadata": {},
   "outputs": [],
   "source": [
    "project_root = Path.cwd().parent\n",
    "processed_path = project_root / \"data\" / \"processed\" / \"activity\" / \"calls_duration_periodic_day.csv\"\n",
    "\n",
    "df_calls_duration_periodic_day.to_csv(processed_path, index=False)"
   ]
  },
  {
   "cell_type": "markdown",
   "id": "6f96a8fe",
   "metadata": {},
   "source": [
    "#### 4.5.2 Messages per month and day"
   ]
  },
  {
   "cell_type": "code",
   "execution_count": 50,
   "id": "2a85e964",
   "metadata": {},
   "outputs": [
    {
     "data": {
      "application/vnd.microsoft.datawrangler.viewer.v0+json": {
       "columns": [
        {
         "name": "index",
         "rawType": "int64",
         "type": "integer"
        },
        {
         "name": "month",
         "rawType": "int32",
         "type": "integer"
        },
        {
         "name": "day",
         "rawType": "int32",
         "type": "integer"
        },
        {
         "name": "message_count",
         "rawType": "int64",
         "type": "integer"
        }
       ],
       "ref": "0f00bd6e-b102-474f-a6a1-c47c7cbb5b44",
       "rows": [
        [
         "0",
         "1",
         "15",
         "2"
        ],
        [
         "1",
         "1",
         "16",
         "4"
        ],
        [
         "2",
         "1",
         "17",
         "6"
        ],
        [
         "3",
         "1",
         "18",
         "5"
        ],
        [
         "4",
         "1",
         "19",
         "1"
        ],
        [
         "5",
         "1",
         "20",
         "7"
        ],
        [
         "6",
         "1",
         "21",
         "3"
        ],
        [
         "7",
         "1",
         "22",
         "8"
        ],
        [
         "8",
         "1",
         "23",
         "8"
        ],
        [
         "9",
         "1",
         "24",
         "2"
        ],
        [
         "10",
         "1",
         "25",
         "6"
        ],
        [
         "11",
         "1",
         "26",
         "8"
        ],
        [
         "12",
         "1",
         "27",
         "4"
        ],
        [
         "13",
         "1",
         "28",
         "3"
        ],
        [
         "14",
         "1",
         "29",
         "4"
        ],
        [
         "15",
         "1",
         "30",
         "6"
        ],
        [
         "16",
         "1",
         "31",
         "6"
        ],
        [
         "17",
         "2",
         "1",
         "5"
        ],
        [
         "18",
         "2",
         "2",
         "4"
        ],
        [
         "19",
         "2",
         "3",
         "6"
        ],
        [
         "20",
         "2",
         "4",
         "6"
        ],
        [
         "21",
         "2",
         "5",
         "13"
        ],
        [
         "22",
         "2",
         "6",
         "13"
        ],
        [
         "23",
         "2",
         "7",
         "11"
        ],
        [
         "24",
         "2",
         "8",
         "7"
        ],
        [
         "25",
         "2",
         "9",
         "9"
        ],
        [
         "26",
         "2",
         "10",
         "8"
        ],
        [
         "27",
         "2",
         "11",
         "4"
        ],
        [
         "28",
         "2",
         "12",
         "8"
        ],
        [
         "29",
         "2",
         "13",
         "7"
        ],
        [
         "30",
         "2",
         "14",
         "9"
        ],
        [
         "31",
         "2",
         "15",
         "12"
        ],
        [
         "32",
         "2",
         "16",
         "6"
        ],
        [
         "33",
         "2",
         "17",
         "11"
        ],
        [
         "34",
         "2",
         "18",
         "2"
        ],
        [
         "35",
         "2",
         "19",
         "8"
        ],
        [
         "36",
         "2",
         "20",
         "7"
        ],
        [
         "37",
         "2",
         "21",
         "12"
        ],
        [
         "38",
         "2",
         "22",
         "13"
        ],
        [
         "39",
         "2",
         "23",
         "14"
        ],
        [
         "40",
         "2",
         "24",
         "14"
        ],
        [
         "41",
         "2",
         "25",
         "16"
        ],
        [
         "42",
         "2",
         "26",
         "12"
        ],
        [
         "43",
         "2",
         "27",
         "11"
        ],
        [
         "44",
         "2",
         "28",
         "11"
        ],
        [
         "45",
         "3",
         "1",
         "7"
        ],
        [
         "46",
         "3",
         "2",
         "11"
        ],
        [
         "47",
         "3",
         "3",
         "16"
        ],
        [
         "48",
         "3",
         "4",
         "13"
        ],
        [
         "49",
         "3",
         "5",
         "15"
        ]
       ],
       "shape": {
        "columns": 3,
        "rows": 351
       }
      },
      "text/html": [
       "<div>\n",
       "<style scoped>\n",
       "    .dataframe tbody tr th:only-of-type {\n",
       "        vertical-align: middle;\n",
       "    }\n",
       "\n",
       "    .dataframe tbody tr th {\n",
       "        vertical-align: top;\n",
       "    }\n",
       "\n",
       "    .dataframe thead th {\n",
       "        text-align: right;\n",
       "    }\n",
       "</style>\n",
       "<table border=\"1\" class=\"dataframe\">\n",
       "  <thead>\n",
       "    <tr style=\"text-align: right;\">\n",
       "      <th></th>\n",
       "      <th>month</th>\n",
       "      <th>day</th>\n",
       "      <th>message_count</th>\n",
       "    </tr>\n",
       "  </thead>\n",
       "  <tbody>\n",
       "    <tr>\n",
       "      <th>0</th>\n",
       "      <td>1</td>\n",
       "      <td>15</td>\n",
       "      <td>2</td>\n",
       "    </tr>\n",
       "    <tr>\n",
       "      <th>1</th>\n",
       "      <td>1</td>\n",
       "      <td>16</td>\n",
       "      <td>4</td>\n",
       "    </tr>\n",
       "    <tr>\n",
       "      <th>2</th>\n",
       "      <td>1</td>\n",
       "      <td>17</td>\n",
       "      <td>6</td>\n",
       "    </tr>\n",
       "    <tr>\n",
       "      <th>3</th>\n",
       "      <td>1</td>\n",
       "      <td>18</td>\n",
       "      <td>5</td>\n",
       "    </tr>\n",
       "    <tr>\n",
       "      <th>4</th>\n",
       "      <td>1</td>\n",
       "      <td>19</td>\n",
       "      <td>1</td>\n",
       "    </tr>\n",
       "    <tr>\n",
       "      <th>...</th>\n",
       "      <td>...</td>\n",
       "      <td>...</td>\n",
       "      <td>...</td>\n",
       "    </tr>\n",
       "    <tr>\n",
       "      <th>346</th>\n",
       "      <td>12</td>\n",
       "      <td>27</td>\n",
       "      <td>701</td>\n",
       "    </tr>\n",
       "    <tr>\n",
       "      <th>347</th>\n",
       "      <td>12</td>\n",
       "      <td>28</td>\n",
       "      <td>702</td>\n",
       "    </tr>\n",
       "    <tr>\n",
       "      <th>348</th>\n",
       "      <td>12</td>\n",
       "      <td>29</td>\n",
       "      <td>680</td>\n",
       "    </tr>\n",
       "    <tr>\n",
       "      <th>349</th>\n",
       "      <td>12</td>\n",
       "      <td>30</td>\n",
       "      <td>683</td>\n",
       "    </tr>\n",
       "    <tr>\n",
       "      <th>350</th>\n",
       "      <td>12</td>\n",
       "      <td>31</td>\n",
       "      <td>699</td>\n",
       "    </tr>\n",
       "  </tbody>\n",
       "</table>\n",
       "<p>351 rows × 3 columns</p>\n",
       "</div>"
      ],
      "text/plain": [
       "     month  day  message_count\n",
       "0        1   15              2\n",
       "1        1   16              4\n",
       "2        1   17              6\n",
       "3        1   18              5\n",
       "4        1   19              1\n",
       "..     ...  ...            ...\n",
       "346     12   27            701\n",
       "347     12   28            702\n",
       "348     12   29            680\n",
       "349     12   30            683\n",
       "350     12   31            699\n",
       "\n",
       "[351 rows x 3 columns]"
      ]
     },
     "execution_count": 50,
     "metadata": {},
     "output_type": "execute_result"
    }
   ],
   "source": [
    "df_messages_periodic_day = df_messages.groupby(['month', 'day'])['message_id'].count().reset_index()\n",
    "df_messages_periodic_day = df_messages_periodic_day.rename(columns={'message_id': 'message_count'})\n",
    "df_messages_periodic_day"
   ]
  },
  {
   "cell_type": "code",
   "execution_count": 51,
   "id": "4911f23a",
   "metadata": {},
   "outputs": [],
   "source": [
    "project_root = Path.cwd().parent\n",
    "processed_path = project_root / \"data\" / \"processed\" / \"activity\" / \"messages_periodic_day.csv\"\n",
    "\n",
    "df_messages_periodic_day.to_csv(processed_path, index=False)"
   ]
  },
  {
   "cell_type": "markdown",
   "id": "475dfbe0",
   "metadata": {},
   "source": [
    "#### 4.5.3 Internet per month and day"
   ]
  },
  {
   "cell_type": "code",
   "execution_count": 52,
   "id": "01d9b767",
   "metadata": {},
   "outputs": [
    {
     "data": {
      "application/vnd.microsoft.datawrangler.viewer.v0+json": {
       "columns": [
        {
         "name": "index",
         "rawType": "int64",
         "type": "integer"
        },
        {
         "name": "month",
         "rawType": "int32",
         "type": "integer"
        },
        {
         "name": "day",
         "rawType": "int32",
         "type": "integer"
        },
        {
         "name": "traffic_usage",
         "rawType": "float64",
         "type": "float"
        }
       ],
       "ref": "20808abb-d17e-4f5c-b770-70e486a4e9a0",
       "rows": [
        [
         "0",
         "1",
         "15",
         "1193.9"
        ],
        [
         "1",
         "1",
         "16",
         "1776.0900000000001"
        ],
        [
         "2",
         "1",
         "17",
         "1202.33"
        ],
        [
         "3",
         "1",
         "18",
         "931.02"
        ],
        [
         "4",
         "1",
         "19",
         "2684.85"
        ],
        [
         "5",
         "1",
         "20",
         "474.39"
        ],
        [
         "6",
         "1",
         "21",
         "1550.84"
        ],
        [
         "7",
         "1",
         "22",
         "1513.04"
        ],
        [
         "8",
         "1",
         "23",
         "2002.3999999999999"
        ],
        [
         "9",
         "1",
         "24",
         "4100.12"
        ],
        [
         "10",
         "1",
         "25",
         "3586.52"
        ],
        [
         "11",
         "1",
         "26",
         "2818.98"
        ],
        [
         "12",
         "1",
         "27",
         "3225.77"
        ],
        [
         "13",
         "1",
         "28",
         "541.67"
        ],
        [
         "14",
         "1",
         "29",
         "2425.94"
        ],
        [
         "15",
         "1",
         "30",
         "2858.3199999999997"
        ],
        [
         "16",
         "1",
         "31",
         "4535.91"
        ],
        [
         "17",
         "2",
         "1",
         "5160.66"
        ],
        [
         "18",
         "2",
         "2",
         "2995.71"
        ],
        [
         "19",
         "2",
         "3",
         "5780.009999999999"
        ],
        [
         "20",
         "2",
         "4",
         "6515.93"
        ],
        [
         "21",
         "2",
         "5",
         "9823.81"
        ],
        [
         "22",
         "2",
         "6",
         "5882.47"
        ],
        [
         "23",
         "2",
         "7",
         "11297.9"
        ],
        [
         "24",
         "2",
         "8",
         "5277.91"
        ],
        [
         "25",
         "2",
         "9",
         "6113.4"
        ],
        [
         "26",
         "2",
         "10",
         "7220.82"
        ],
        [
         "27",
         "2",
         "11",
         "10111.23"
        ],
        [
         "28",
         "2",
         "12",
         "4146.72"
        ],
        [
         "29",
         "2",
         "13",
         "7349.78"
        ],
        [
         "30",
         "2",
         "14",
         "7889.47"
        ],
        [
         "31",
         "2",
         "15",
         "7998.13"
        ],
        [
         "32",
         "2",
         "16",
         "5925.85"
        ],
        [
         "33",
         "2",
         "17",
         "8150.54"
        ],
        [
         "34",
         "2",
         "18",
         "6423.0599999999995"
        ],
        [
         "35",
         "2",
         "19",
         "6686.65"
        ],
        [
         "36",
         "2",
         "20",
         "7391.29"
        ],
        [
         "37",
         "2",
         "21",
         "4934.78"
        ],
        [
         "38",
         "2",
         "22",
         "10178.17"
        ],
        [
         "39",
         "2",
         "23",
         "12459.01"
        ],
        [
         "40",
         "2",
         "24",
         "14341.61"
        ],
        [
         "41",
         "2",
         "25",
         "9388.12"
        ],
        [
         "42",
         "2",
         "26",
         "12799.3"
        ],
        [
         "43",
         "2",
         "27",
         "12056.77"
        ],
        [
         "44",
         "2",
         "28",
         "15212.15"
        ],
        [
         "45",
         "3",
         "1",
         "6995.51"
        ],
        [
         "46",
         "3",
         "2",
         "11239.02"
        ],
        [
         "47",
         "3",
         "3",
         "11912.97"
        ],
        [
         "48",
         "3",
         "4",
         "13192.81"
        ],
        [
         "49",
         "3",
         "5",
         "10346.81"
        ]
       ],
       "shape": {
        "columns": 3,
        "rows": 351
       }
      },
      "text/html": [
       "<div>\n",
       "<style scoped>\n",
       "    .dataframe tbody tr th:only-of-type {\n",
       "        vertical-align: middle;\n",
       "    }\n",
       "\n",
       "    .dataframe tbody tr th {\n",
       "        vertical-align: top;\n",
       "    }\n",
       "\n",
       "    .dataframe thead th {\n",
       "        text-align: right;\n",
       "    }\n",
       "</style>\n",
       "<table border=\"1\" class=\"dataframe\">\n",
       "  <thead>\n",
       "    <tr style=\"text-align: right;\">\n",
       "      <th></th>\n",
       "      <th>month</th>\n",
       "      <th>day</th>\n",
       "      <th>traffic_usage</th>\n",
       "    </tr>\n",
       "  </thead>\n",
       "  <tbody>\n",
       "    <tr>\n",
       "      <th>0</th>\n",
       "      <td>1</td>\n",
       "      <td>15</td>\n",
       "      <td>1193.90</td>\n",
       "    </tr>\n",
       "    <tr>\n",
       "      <th>1</th>\n",
       "      <td>1</td>\n",
       "      <td>16</td>\n",
       "      <td>1776.09</td>\n",
       "    </tr>\n",
       "    <tr>\n",
       "      <th>2</th>\n",
       "      <td>1</td>\n",
       "      <td>17</td>\n",
       "      <td>1202.33</td>\n",
       "    </tr>\n",
       "    <tr>\n",
       "      <th>3</th>\n",
       "      <td>1</td>\n",
       "      <td>18</td>\n",
       "      <td>931.02</td>\n",
       "    </tr>\n",
       "    <tr>\n",
       "      <th>4</th>\n",
       "      <td>1</td>\n",
       "      <td>19</td>\n",
       "      <td>2684.85</td>\n",
       "    </tr>\n",
       "    <tr>\n",
       "      <th>...</th>\n",
       "      <td>...</td>\n",
       "      <td>...</td>\n",
       "      <td>...</td>\n",
       "    </tr>\n",
       "    <tr>\n",
       "      <th>346</th>\n",
       "      <td>12</td>\n",
       "      <td>27</td>\n",
       "      <td>291749.27</td>\n",
       "    </tr>\n",
       "    <tr>\n",
       "      <th>347</th>\n",
       "      <td>12</td>\n",
       "      <td>28</td>\n",
       "      <td>291703.03</td>\n",
       "    </tr>\n",
       "    <tr>\n",
       "      <th>348</th>\n",
       "      <td>12</td>\n",
       "      <td>29</td>\n",
       "      <td>288687.21</td>\n",
       "    </tr>\n",
       "    <tr>\n",
       "      <th>349</th>\n",
       "      <td>12</td>\n",
       "      <td>30</td>\n",
       "      <td>324013.99</td>\n",
       "    </tr>\n",
       "    <tr>\n",
       "      <th>350</th>\n",
       "      <td>12</td>\n",
       "      <td>31</td>\n",
       "      <td>304138.13</td>\n",
       "    </tr>\n",
       "  </tbody>\n",
       "</table>\n",
       "<p>351 rows × 3 columns</p>\n",
       "</div>"
      ],
      "text/plain": [
       "     month  day  traffic_usage\n",
       "0        1   15        1193.90\n",
       "1        1   16        1776.09\n",
       "2        1   17        1202.33\n",
       "3        1   18         931.02\n",
       "4        1   19        2684.85\n",
       "..     ...  ...            ...\n",
       "346     12   27      291749.27\n",
       "347     12   28      291703.03\n",
       "348     12   29      288687.21\n",
       "349     12   30      324013.99\n",
       "350     12   31      304138.13\n",
       "\n",
       "[351 rows x 3 columns]"
      ]
     },
     "execution_count": 52,
     "metadata": {},
     "output_type": "execute_result"
    }
   ],
   "source": [
    "df_internet_periodic_day = df_internet.groupby(['month', 'day'])['mb_used'].sum().reset_index()\n",
    "df_internet_periodic_day = df_internet_periodic_day.rename(columns={'mb_used': 'traffic_usage'})\n",
    "df_internet_periodic_day"
   ]
  },
  {
   "cell_type": "code",
   "execution_count": 53,
   "id": "985f125f",
   "metadata": {},
   "outputs": [],
   "source": [
    "project_root = Path.cwd().parent\n",
    "processed_path = project_root / \"data\" / \"processed\" / \"activity\" / \"internet_periodic_day.csv\"\n",
    "\n",
    "df_internet_periodic_day.to_csv(processed_path, index=False)"
   ]
  },
  {
   "cell_type": "markdown",
   "id": "15b8b7d3",
   "metadata": {},
   "source": [
    "### 4.6 Revenue"
   ]
  },
  {
   "cell_type": "markdown",
   "id": "88053a9e",
   "metadata": {},
   "source": [
    "#### 4.6.1 Monthly evenue per user"
   ]
  },
  {
   "cell_type": "code",
   "execution_count": 54,
   "id": "39ef7adf",
   "metadata": {},
   "outputs": [
    {
     "data": {
      "application/vnd.microsoft.datawrangler.viewer.v0+json": {
       "columns": [
        {
         "name": "index",
         "rawType": "int64",
         "type": "integer"
        },
        {
         "name": "user_id",
         "rawType": "int64",
         "type": "integer"
        },
        {
         "name": "month",
         "rawType": "int32",
         "type": "integer"
        },
        {
         "name": "total_month_calls",
         "rawType": "int64",
         "type": "integer"
        },
        {
         "name": "total_month_duration",
         "rawType": "float64",
         "type": "float"
        }
       ],
       "ref": "79586d78-c72e-40c6-b75d-211d082e1863",
       "rows": [
        [
         "0",
         "1000",
         "12",
         "16",
         "124.0"
        ],
        [
         "1",
         "1001",
         "8",
         "27",
         "182.0"
        ],
        [
         "2",
         "1001",
         "9",
         "49",
         "315.0"
        ],
        [
         "3",
         "1001",
         "10",
         "65",
         "393.0"
        ],
        [
         "4",
         "1001",
         "11",
         "64",
         "426.0"
        ],
        [
         "5",
         "1001",
         "12",
         "56",
         "412.0"
        ],
        [
         "6",
         "1002",
         "10",
         "11",
         "59.0"
        ],
        [
         "7",
         "1002",
         "11",
         "55",
         "386.0"
        ],
        [
         "8",
         "1002",
         "12",
         "47",
         "384.0"
        ],
        [
         "9",
         "1003",
         "12",
         "149",
         "1104.0"
        ],
        [
         "10",
         "1004",
         "5",
         "21",
         "193.0"
        ],
        [
         "11",
         "1004",
         "6",
         "44",
         "275.0"
        ],
        [
         "12",
         "1004",
         "7",
         "49",
         "381.0"
        ],
        [
         "13",
         "1004",
         "8",
         "49",
         "354.0"
        ],
        [
         "14",
         "1004",
         "9",
         "42",
         "301.0"
        ],
        [
         "15",
         "1004",
         "10",
         "61",
         "365.0"
        ],
        [
         "16",
         "1004",
         "11",
         "54",
         "476.0"
        ],
        [
         "17",
         "1004",
         "12",
         "50",
         "427.0"
        ],
        [
         "18",
         "1005",
         "12",
         "59",
         "496.0"
        ],
        [
         "19",
         "1006",
         "11",
         "2",
         "10.0"
        ],
        [
         "20",
         "1006",
         "12",
         "9",
         "59.0"
        ],
        [
         "21",
         "1007",
         "8",
         "70",
         "456.0"
        ],
        [
         "22",
         "1007",
         "9",
         "63",
         "399.0"
        ],
        [
         "23",
         "1007",
         "10",
         "80",
         "645.0"
        ],
        [
         "24",
         "1007",
         "11",
         "80",
         "524.0"
        ],
        [
         "25",
         "1007",
         "12",
         "87",
         "617.0"
        ],
        [
         "26",
         "1008",
         "10",
         "71",
         "476.0"
        ],
        [
         "27",
         "1008",
         "11",
         "63",
         "446.0"
        ],
        [
         "28",
         "1008",
         "12",
         "85",
         "634.0"
        ],
        [
         "29",
         "1009",
         "5",
         "71",
         "534.0"
        ],
        [
         "30",
         "1009",
         "6",
         "110",
         "823.0"
        ],
        [
         "31",
         "1009",
         "7",
         "124",
         "880.0"
        ],
        [
         "32",
         "1009",
         "8",
         "109",
         "731.0"
        ],
        [
         "33",
         "1009",
         "9",
         "116",
         "776.0"
        ],
        [
         "34",
         "1009",
         "10",
         "114",
         "740.0"
        ],
        [
         "35",
         "1009",
         "11",
         "105",
         "714.0"
        ],
        [
         "36",
         "1009",
         "12",
         "107",
         "756.0"
        ],
        [
         "37",
         "1010",
         "3",
         "63",
         "429.0"
        ],
        [
         "38",
         "1010",
         "4",
         "90",
         "656.0"
        ],
        [
         "39",
         "1010",
         "5",
         "81",
         "532.0"
        ],
        [
         "40",
         "1010",
         "6",
         "77",
         "553.0"
        ],
        [
         "41",
         "1010",
         "7",
         "101",
         "698.0"
        ],
        [
         "42",
         "1010",
         "8",
         "93",
         "637.0"
        ],
        [
         "43",
         "1010",
         "9",
         "83",
         "601.0"
        ],
        [
         "44",
         "1010",
         "10",
         "95",
         "711.0"
        ],
        [
         "45",
         "1010",
         "11",
         "30",
         "258.0"
        ],
        [
         "46",
         "1011",
         "6",
         "19",
         "118.0"
        ],
        [
         "47",
         "1011",
         "7",
         "63",
         "499.0"
        ],
        [
         "48",
         "1011",
         "8",
         "61",
         "486.0"
        ],
        [
         "49",
         "1011",
         "9",
         "73",
         "484.0"
        ]
       ],
       "shape": {
        "columns": 4,
        "rows": 2258
       }
      },
      "text/html": [
       "<div>\n",
       "<style scoped>\n",
       "    .dataframe tbody tr th:only-of-type {\n",
       "        vertical-align: middle;\n",
       "    }\n",
       "\n",
       "    .dataframe tbody tr th {\n",
       "        vertical-align: top;\n",
       "    }\n",
       "\n",
       "    .dataframe thead th {\n",
       "        text-align: right;\n",
       "    }\n",
       "</style>\n",
       "<table border=\"1\" class=\"dataframe\">\n",
       "  <thead>\n",
       "    <tr style=\"text-align: right;\">\n",
       "      <th></th>\n",
       "      <th>user_id</th>\n",
       "      <th>month</th>\n",
       "      <th>total_month_calls</th>\n",
       "      <th>total_month_duration</th>\n",
       "    </tr>\n",
       "  </thead>\n",
       "  <tbody>\n",
       "    <tr>\n",
       "      <th>0</th>\n",
       "      <td>1000</td>\n",
       "      <td>12</td>\n",
       "      <td>16</td>\n",
       "      <td>124.0</td>\n",
       "    </tr>\n",
       "    <tr>\n",
       "      <th>1</th>\n",
       "      <td>1001</td>\n",
       "      <td>8</td>\n",
       "      <td>27</td>\n",
       "      <td>182.0</td>\n",
       "    </tr>\n",
       "    <tr>\n",
       "      <th>2</th>\n",
       "      <td>1001</td>\n",
       "      <td>9</td>\n",
       "      <td>49</td>\n",
       "      <td>315.0</td>\n",
       "    </tr>\n",
       "    <tr>\n",
       "      <th>3</th>\n",
       "      <td>1001</td>\n",
       "      <td>10</td>\n",
       "      <td>65</td>\n",
       "      <td>393.0</td>\n",
       "    </tr>\n",
       "    <tr>\n",
       "      <th>4</th>\n",
       "      <td>1001</td>\n",
       "      <td>11</td>\n",
       "      <td>64</td>\n",
       "      <td>426.0</td>\n",
       "    </tr>\n",
       "    <tr>\n",
       "      <th>...</th>\n",
       "      <td>...</td>\n",
       "      <td>...</td>\n",
       "      <td>...</td>\n",
       "      <td>...</td>\n",
       "    </tr>\n",
       "    <tr>\n",
       "      <th>2253</th>\n",
       "      <td>1498</td>\n",
       "      <td>12</td>\n",
       "      <td>39</td>\n",
       "      <td>339.0</td>\n",
       "    </tr>\n",
       "    <tr>\n",
       "      <th>2254</th>\n",
       "      <td>1499</td>\n",
       "      <td>9</td>\n",
       "      <td>41</td>\n",
       "      <td>346.0</td>\n",
       "    </tr>\n",
       "    <tr>\n",
       "      <th>2255</th>\n",
       "      <td>1499</td>\n",
       "      <td>10</td>\n",
       "      <td>53</td>\n",
       "      <td>385.0</td>\n",
       "    </tr>\n",
       "    <tr>\n",
       "      <th>2256</th>\n",
       "      <td>1499</td>\n",
       "      <td>11</td>\n",
       "      <td>45</td>\n",
       "      <td>308.0</td>\n",
       "    </tr>\n",
       "    <tr>\n",
       "      <th>2257</th>\n",
       "      <td>1499</td>\n",
       "      <td>12</td>\n",
       "      <td>65</td>\n",
       "      <td>496.0</td>\n",
       "    </tr>\n",
       "  </tbody>\n",
       "</table>\n",
       "<p>2258 rows × 4 columns</p>\n",
       "</div>"
      ],
      "text/plain": [
       "      user_id  month  total_month_calls  total_month_duration\n",
       "0        1000     12                 16                 124.0\n",
       "1        1001      8                 27                 182.0\n",
       "2        1001      9                 49                 315.0\n",
       "3        1001     10                 65                 393.0\n",
       "4        1001     11                 64                 426.0\n",
       "...       ...    ...                ...                   ...\n",
       "2253     1498     12                 39                 339.0\n",
       "2254     1499      9                 41                 346.0\n",
       "2255     1499     10                 53                 385.0\n",
       "2256     1499     11                 45                 308.0\n",
       "2257     1499     12                 65                 496.0\n",
       "\n",
       "[2258 rows x 4 columns]"
      ]
     },
     "execution_count": 54,
     "metadata": {},
     "output_type": "execute_result"
    }
   ],
   "source": [
    "df_revenue_month = df_calls_duration_month.copy()\n",
    "df_revenue_month"
   ]
  },
  {
   "cell_type": "code",
   "execution_count": 55,
   "id": "5c7cb31f",
   "metadata": {},
   "outputs": [
    {
     "data": {
      "application/vnd.microsoft.datawrangler.viewer.v0+json": {
       "columns": [
        {
         "name": "index",
         "rawType": "int64",
         "type": "integer"
        },
        {
         "name": "user_id",
         "rawType": "int64",
         "type": "integer"
        },
        {
         "name": "month",
         "rawType": "int32",
         "type": "integer"
        },
        {
         "name": "total_month_calls",
         "rawType": "float64",
         "type": "float"
        },
        {
         "name": "total_month_duration",
         "rawType": "float64",
         "type": "float"
        },
        {
         "name": "total_month_messages",
         "rawType": "float64",
         "type": "float"
        }
       ],
       "ref": "fe8430f2-8e48-47d8-ab0c-cbd103611c5d",
       "rows": [
        [
         "0",
         "1000",
         "12",
         "16.0",
         "124.0",
         "11.0"
        ],
        [
         "1",
         "1001",
         "8",
         "27.0",
         "182.0",
         "30.0"
        ],
        [
         "2",
         "1001",
         "9",
         "49.0",
         "315.0",
         "44.0"
        ],
        [
         "3",
         "1001",
         "10",
         "65.0",
         "393.0",
         "53.0"
        ],
        [
         "4",
         "1001",
         "11",
         "64.0",
         "426.0",
         "36.0"
        ],
        [
         "5",
         "1001",
         "12",
         "56.0",
         "412.0",
         "44.0"
        ],
        [
         "6",
         "1002",
         "10",
         "11.0",
         "59.0",
         "15.0"
        ],
        [
         "7",
         "1002",
         "11",
         "55.0",
         "386.0",
         "32.0"
        ],
        [
         "8",
         "1002",
         "12",
         "47.0",
         "384.0",
         "41.0"
        ],
        [
         "9",
         "1003",
         "12",
         "149.0",
         "1104.0",
         "50.0"
        ],
        [
         "10",
         "1004",
         "5",
         "21.0",
         "193.0",
         "7.0"
        ],
        [
         "11",
         "1004",
         "6",
         "44.0",
         "275.0",
         "18.0"
        ],
        [
         "12",
         "1004",
         "7",
         "49.0",
         "381.0",
         "26.0"
        ],
        [
         "13",
         "1004",
         "8",
         "49.0",
         "354.0",
         "25.0"
        ],
        [
         "14",
         "1004",
         "9",
         "42.0",
         "301.0",
         "21.0"
        ],
        [
         "15",
         "1004",
         "10",
         "61.0",
         "365.0",
         "24.0"
        ],
        [
         "16",
         "1004",
         "11",
         "54.0",
         "476.0",
         "25.0"
        ],
        [
         "17",
         "1004",
         "12",
         "50.0",
         "427.0",
         "31.0"
        ],
        [
         "18",
         "1005",
         "12",
         "59.0",
         "496.0",
         "11.0"
        ],
        [
         "19",
         "1006",
         "11",
         "2.0",
         "10.0",
         "15.0"
        ],
        [
         "20",
         "1006",
         "12",
         "9.0",
         "59.0",
         "139.0"
        ],
        [
         "21",
         "1007",
         "8",
         "70.0",
         "456.0",
         "51.0"
        ],
        [
         "22",
         "1007",
         "9",
         "63.0",
         "399.0",
         "47.0"
        ],
        [
         "23",
         "1007",
         "10",
         "80.0",
         "645.0",
         "59.0"
        ],
        [
         "24",
         "1007",
         "11",
         "80.0",
         "524.0",
         "48.0"
        ],
        [
         "25",
         "1007",
         "12",
         "87.0",
         "617.0",
         "50.0"
        ],
        [
         "26",
         "1008",
         "10",
         "71.0",
         "476.0",
         "21.0"
        ],
        [
         "27",
         "1008",
         "11",
         "63.0",
         "446.0",
         "37.0"
        ],
        [
         "28",
         "1008",
         "12",
         "85.0",
         "634.0",
         "26.0"
        ],
        [
         "29",
         "1009",
         "5",
         "71.0",
         "534.0",
         null
        ],
        [
         "30",
         "1009",
         "6",
         "110.0",
         "823.0",
         null
        ],
        [
         "31",
         "1009",
         "7",
         "124.0",
         "880.0",
         null
        ],
        [
         "32",
         "1009",
         "8",
         "109.0",
         "731.0",
         null
        ],
        [
         "33",
         "1009",
         "9",
         "116.0",
         "776.0",
         null
        ],
        [
         "34",
         "1009",
         "10",
         "114.0",
         "740.0",
         null
        ],
        [
         "35",
         "1009",
         "11",
         "105.0",
         "714.0",
         null
        ],
        [
         "36",
         "1009",
         "12",
         "107.0",
         "756.0",
         null
        ],
        [
         "37",
         "1010",
         "3",
         "63.0",
         "429.0",
         null
        ],
        [
         "38",
         "1010",
         "4",
         "90.0",
         "656.0",
         null
        ],
        [
         "39",
         "1010",
         "5",
         "81.0",
         "532.0",
         null
        ],
        [
         "40",
         "1010",
         "6",
         "77.0",
         "553.0",
         null
        ],
        [
         "41",
         "1010",
         "7",
         "101.0",
         "698.0",
         null
        ],
        [
         "42",
         "1010",
         "8",
         "93.0",
         "637.0",
         null
        ],
        [
         "43",
         "1010",
         "9",
         "83.0",
         "601.0",
         null
        ],
        [
         "44",
         "1010",
         "10",
         "95.0",
         "711.0",
         null
        ],
        [
         "45",
         "1010",
         "11",
         "30.0",
         "258.0",
         null
        ],
        [
         "46",
         "1011",
         "6",
         "19.0",
         "118.0",
         "21.0"
        ],
        [
         "47",
         "1011",
         "7",
         "63.0",
         "499.0",
         "53.0"
        ],
        [
         "48",
         "1011",
         "8",
         "61.0",
         "486.0",
         "54.0"
        ],
        [
         "49",
         "1011",
         "9",
         "73.0",
         "484.0",
         "60.0"
        ]
       ],
       "shape": {
        "columns": 5,
        "rows": 2291
       }
      },
      "text/html": [
       "<div>\n",
       "<style scoped>\n",
       "    .dataframe tbody tr th:only-of-type {\n",
       "        vertical-align: middle;\n",
       "    }\n",
       "\n",
       "    .dataframe tbody tr th {\n",
       "        vertical-align: top;\n",
       "    }\n",
       "\n",
       "    .dataframe thead th {\n",
       "        text-align: right;\n",
       "    }\n",
       "</style>\n",
       "<table border=\"1\" class=\"dataframe\">\n",
       "  <thead>\n",
       "    <tr style=\"text-align: right;\">\n",
       "      <th></th>\n",
       "      <th>user_id</th>\n",
       "      <th>month</th>\n",
       "      <th>total_month_calls</th>\n",
       "      <th>total_month_duration</th>\n",
       "      <th>total_month_messages</th>\n",
       "    </tr>\n",
       "  </thead>\n",
       "  <tbody>\n",
       "    <tr>\n",
       "      <th>0</th>\n",
       "      <td>1000</td>\n",
       "      <td>12</td>\n",
       "      <td>16.0</td>\n",
       "      <td>124.0</td>\n",
       "      <td>11.0</td>\n",
       "    </tr>\n",
       "    <tr>\n",
       "      <th>1</th>\n",
       "      <td>1001</td>\n",
       "      <td>8</td>\n",
       "      <td>27.0</td>\n",
       "      <td>182.0</td>\n",
       "      <td>30.0</td>\n",
       "    </tr>\n",
       "    <tr>\n",
       "      <th>2</th>\n",
       "      <td>1001</td>\n",
       "      <td>9</td>\n",
       "      <td>49.0</td>\n",
       "      <td>315.0</td>\n",
       "      <td>44.0</td>\n",
       "    </tr>\n",
       "    <tr>\n",
       "      <th>3</th>\n",
       "      <td>1001</td>\n",
       "      <td>10</td>\n",
       "      <td>65.0</td>\n",
       "      <td>393.0</td>\n",
       "      <td>53.0</td>\n",
       "    </tr>\n",
       "    <tr>\n",
       "      <th>4</th>\n",
       "      <td>1001</td>\n",
       "      <td>11</td>\n",
       "      <td>64.0</td>\n",
       "      <td>426.0</td>\n",
       "      <td>36.0</td>\n",
       "    </tr>\n",
       "    <tr>\n",
       "      <th>...</th>\n",
       "      <td>...</td>\n",
       "      <td>...</td>\n",
       "      <td>...</td>\n",
       "      <td>...</td>\n",
       "      <td>...</td>\n",
       "    </tr>\n",
       "    <tr>\n",
       "      <th>2286</th>\n",
       "      <td>1498</td>\n",
       "      <td>12</td>\n",
       "      <td>39.0</td>\n",
       "      <td>339.0</td>\n",
       "      <td>NaN</td>\n",
       "    </tr>\n",
       "    <tr>\n",
       "      <th>2287</th>\n",
       "      <td>1499</td>\n",
       "      <td>9</td>\n",
       "      <td>41.0</td>\n",
       "      <td>346.0</td>\n",
       "      <td>NaN</td>\n",
       "    </tr>\n",
       "    <tr>\n",
       "      <th>2288</th>\n",
       "      <td>1499</td>\n",
       "      <td>10</td>\n",
       "      <td>53.0</td>\n",
       "      <td>385.0</td>\n",
       "      <td>NaN</td>\n",
       "    </tr>\n",
       "    <tr>\n",
       "      <th>2289</th>\n",
       "      <td>1499</td>\n",
       "      <td>11</td>\n",
       "      <td>45.0</td>\n",
       "      <td>308.0</td>\n",
       "      <td>NaN</td>\n",
       "    </tr>\n",
       "    <tr>\n",
       "      <th>2290</th>\n",
       "      <td>1499</td>\n",
       "      <td>12</td>\n",
       "      <td>65.0</td>\n",
       "      <td>496.0</td>\n",
       "      <td>NaN</td>\n",
       "    </tr>\n",
       "  </tbody>\n",
       "</table>\n",
       "<p>2291 rows × 5 columns</p>\n",
       "</div>"
      ],
      "text/plain": [
       "      user_id  month  total_month_calls  total_month_duration  total_month_messages\n",
       "0        1000     12               16.0                 124.0                  11.0\n",
       "1        1001      8               27.0                 182.0                  30.0\n",
       "2        1001      9               49.0                 315.0                  44.0\n",
       "3        1001     10               65.0                 393.0                  53.0\n",
       "4        1001     11               64.0                 426.0                  36.0\n",
       "...       ...    ...                ...                   ...                   ...\n",
       "2286     1498     12               39.0                 339.0                   NaN\n",
       "2287     1499      9               41.0                 346.0                   NaN\n",
       "2288     1499     10               53.0                 385.0                   NaN\n",
       "2289     1499     11               45.0                 308.0                   NaN\n",
       "2290     1499     12               65.0                 496.0                   NaN\n",
       "\n",
       "[2291 rows x 5 columns]"
      ]
     },
     "execution_count": 55,
     "metadata": {},
     "output_type": "execute_result"
    }
   ],
   "source": [
    "df_revenue_month = df_revenue_month.merge(df_messages_user_month, on=['user_id', 'month'], how='outer')\n",
    "df_revenue_month"
   ]
  },
  {
   "cell_type": "code",
   "execution_count": 56,
   "id": "3867e7bd",
   "metadata": {},
   "outputs": [
    {
     "data": {
      "application/vnd.microsoft.datawrangler.viewer.v0+json": {
       "columns": [
        {
         "name": "index",
         "rawType": "int64",
         "type": "integer"
        },
        {
         "name": "user_id",
         "rawType": "int64",
         "type": "integer"
        },
        {
         "name": "month",
         "rawType": "int32",
         "type": "integer"
        },
        {
         "name": "total_month_calls",
         "rawType": "float64",
         "type": "float"
        },
        {
         "name": "total_month_duration",
         "rawType": "float64",
         "type": "float"
        },
        {
         "name": "total_month_messages",
         "rawType": "float64",
         "type": "float"
        },
        {
         "name": "total_month_sessions",
         "rawType": "float64",
         "type": "float"
        },
        {
         "name": "total_month_traffic",
         "rawType": "float64",
         "type": "float"
        }
       ],
       "ref": "5a7d3b1e-df36-40a9-80d1-6ac0d18c1c5c",
       "rows": [
        [
         "0",
         "1000",
         "12",
         "16.0",
         "124.0",
         "11.0",
         "5.0",
         "2000.0"
        ],
        [
         "1",
         "1001",
         "8",
         "27.0",
         "182.0",
         "30.0",
         "25.0",
         "7000.0"
        ],
        [
         "2",
         "1001",
         "9",
         "49.0",
         "315.0",
         "44.0",
         "53.0",
         "14000.0"
        ],
        [
         "3",
         "1001",
         "10",
         "65.0",
         "393.0",
         "53.0",
         "56.0",
         "23000.0"
        ],
        [
         "4",
         "1001",
         "11",
         "64.0",
         "426.0",
         "36.0",
         "51.0",
         "19000.0"
        ],
        [
         "5",
         "1001",
         "12",
         "56.0",
         "412.0",
         "44.0",
         "60.0",
         "20000.0"
        ],
        [
         "6",
         "1002",
         "10",
         "11.0",
         "59.0",
         "15.0",
         "21.0",
         "7000.0"
        ],
        [
         "7",
         "1002",
         "11",
         "55.0",
         "386.0",
         "32.0",
         "52.0",
         "20000.0"
        ],
        [
         "8",
         "1002",
         "12",
         "47.0",
         "384.0",
         "41.0",
         "51.0",
         "15000.0"
        ],
        [
         "9",
         "1003",
         "12",
         "149.0",
         "1104.0",
         "50.0",
         "52.0",
         "28000.0"
        ],
        [
         "10",
         "1004",
         "5",
         "21.0",
         "193.0",
         "7.0",
         "17.0",
         "7000.0"
        ],
        [
         "11",
         "1004",
         "6",
         "44.0",
         "275.0",
         "18.0",
         "73.0",
         "21000.0"
        ],
        [
         "12",
         "1004",
         "7",
         "49.0",
         "381.0",
         "26.0",
         "69.0",
         "25000.0"
        ],
        [
         "13",
         "1004",
         "8",
         "49.0",
         "354.0",
         "25.0",
         "72.0",
         "28000.0"
        ],
        [
         "14",
         "1004",
         "9",
         "42.0",
         "301.0",
         "21.0",
         "56.0",
         "19000.0"
        ],
        [
         "15",
         "1004",
         "10",
         "61.0",
         "365.0",
         "24.0",
         "51.0",
         "15000.0"
        ],
        [
         "16",
         "1004",
         "11",
         "54.0",
         "476.0",
         "25.0",
         "69.0",
         "22000.0"
        ],
        [
         "17",
         "1004",
         "12",
         "50.0",
         "427.0",
         "31.0",
         "53.0",
         "22000.0"
        ],
        [
         "18",
         "1005",
         "12",
         "59.0",
         "496.0",
         "11.0",
         "60.0",
         "18000.0"
        ],
        [
         "19",
         "1006",
         "11",
         "2.0",
         "10.0",
         "15.0",
         "7.0",
         "3000.0"
        ],
        [
         "20",
         "1006",
         "12",
         "9.0",
         "59.0",
         "139.0",
         "63.0",
         "33000.0"
        ],
        [
         "21",
         "1007",
         "8",
         "70.0",
         "456.0",
         "51.0",
         "45.0",
         "25000.0"
        ],
        [
         "22",
         "1007",
         "9",
         "63.0",
         "399.0",
         "47.0",
         "52.0",
         "29000.0"
        ],
        [
         "23",
         "1007",
         "10",
         "80.0",
         "645.0",
         "59.0",
         "65.0",
         "38000.0"
        ],
        [
         "24",
         "1007",
         "11",
         "80.0",
         "524.0",
         "48.0",
         "50.0",
         "25000.0"
        ],
        [
         "25",
         "1007",
         "12",
         "87.0",
         "617.0",
         "50.0",
         "61.0",
         "30000.0"
        ],
        [
         "26",
         "1008",
         "10",
         "71.0",
         "476.0",
         "21.0",
         "57.0",
         "18000.0"
        ],
        [
         "27",
         "1008",
         "11",
         "63.0",
         "446.0",
         "37.0",
         "72.0",
         "24000.0"
        ],
        [
         "28",
         "1008",
         "12",
         "85.0",
         "634.0",
         "26.0",
         "47.0",
         "15000.0"
        ],
        [
         "29",
         "1009",
         "5",
         "71.0",
         "534.0",
         null,
         "43.0",
         "21000.0"
        ],
        [
         "30",
         "1009",
         "6",
         "110.0",
         "823.0",
         null,
         "38.0",
         "19000.0"
        ],
        [
         "31",
         "1009",
         "7",
         "124.0",
         "880.0",
         null,
         "60.0",
         "31000.0"
        ],
        [
         "32",
         "1009",
         "8",
         "109.0",
         "731.0",
         null,
         "51.0",
         "25000.0"
        ],
        [
         "33",
         "1009",
         "9",
         "116.0",
         "776.0",
         null,
         "50.0",
         "21000.0"
        ],
        [
         "34",
         "1009",
         "10",
         "114.0",
         "740.0",
         null,
         "47.0",
         "23000.0"
        ],
        [
         "35",
         "1009",
         "11",
         "105.0",
         "714.0",
         null,
         "47.0",
         "26000.0"
        ],
        [
         "36",
         "1009",
         "12",
         "107.0",
         "756.0",
         null,
         "50.0",
         "24000.0"
        ],
        [
         "37",
         "1010",
         "3",
         "63.0",
         "429.0",
         null,
         "37.0",
         "11000.0"
        ],
        [
         "38",
         "1010",
         "4",
         "90.0",
         "656.0",
         null,
         "58.0",
         "20000.0"
        ],
        [
         "39",
         "1010",
         "5",
         "81.0",
         "532.0",
         null,
         "56.0",
         "16000.0"
        ],
        [
         "40",
         "1010",
         "6",
         "77.0",
         "553.0",
         null,
         "49.0",
         "17000.0"
        ],
        [
         "41",
         "1010",
         "7",
         "101.0",
         "698.0",
         null,
         "37.0",
         "13000.0"
        ],
        [
         "42",
         "1010",
         "8",
         "93.0",
         "637.0",
         null,
         "51.0",
         "20000.0"
        ],
        [
         "43",
         "1010",
         "9",
         "83.0",
         "601.0",
         null,
         "50.0",
         "17000.0"
        ],
        [
         "44",
         "1010",
         "10",
         "95.0",
         "711.0",
         null,
         "50.0",
         "17000.0"
        ],
        [
         "45",
         "1010",
         "11",
         "30.0",
         "258.0",
         null,
         "21.0",
         "8000.0"
        ],
        [
         "46",
         "1011",
         "6",
         "19.0",
         "118.0",
         "21.0",
         "25.0",
         "7000.0"
        ],
        [
         "47",
         "1011",
         "7",
         "63.0",
         "499.0",
         "53.0",
         "70.0",
         "22000.0"
        ],
        [
         "48",
         "1011",
         "8",
         "61.0",
         "486.0",
         "54.0",
         "64.0",
         "22000.0"
        ],
        [
         "49",
         "1011",
         "9",
         "73.0",
         "484.0",
         "60.0",
         "58.0",
         "17000.0"
        ]
       ],
       "shape": {
        "columns": 7,
        "rows": 2293
       }
      },
      "text/html": [
       "<div>\n",
       "<style scoped>\n",
       "    .dataframe tbody tr th:only-of-type {\n",
       "        vertical-align: middle;\n",
       "    }\n",
       "\n",
       "    .dataframe tbody tr th {\n",
       "        vertical-align: top;\n",
       "    }\n",
       "\n",
       "    .dataframe thead th {\n",
       "        text-align: right;\n",
       "    }\n",
       "</style>\n",
       "<table border=\"1\" class=\"dataframe\">\n",
       "  <thead>\n",
       "    <tr style=\"text-align: right;\">\n",
       "      <th></th>\n",
       "      <th>user_id</th>\n",
       "      <th>month</th>\n",
       "      <th>total_month_calls</th>\n",
       "      <th>total_month_duration</th>\n",
       "      <th>total_month_messages</th>\n",
       "      <th>total_month_sessions</th>\n",
       "      <th>total_month_traffic</th>\n",
       "    </tr>\n",
       "  </thead>\n",
       "  <tbody>\n",
       "    <tr>\n",
       "      <th>0</th>\n",
       "      <td>1000</td>\n",
       "      <td>12</td>\n",
       "      <td>16.0</td>\n",
       "      <td>124.0</td>\n",
       "      <td>11.0</td>\n",
       "      <td>5.0</td>\n",
       "      <td>2000.0</td>\n",
       "    </tr>\n",
       "    <tr>\n",
       "      <th>1</th>\n",
       "      <td>1001</td>\n",
       "      <td>8</td>\n",
       "      <td>27.0</td>\n",
       "      <td>182.0</td>\n",
       "      <td>30.0</td>\n",
       "      <td>25.0</td>\n",
       "      <td>7000.0</td>\n",
       "    </tr>\n",
       "    <tr>\n",
       "      <th>2</th>\n",
       "      <td>1001</td>\n",
       "      <td>9</td>\n",
       "      <td>49.0</td>\n",
       "      <td>315.0</td>\n",
       "      <td>44.0</td>\n",
       "      <td>53.0</td>\n",
       "      <td>14000.0</td>\n",
       "    </tr>\n",
       "    <tr>\n",
       "      <th>3</th>\n",
       "      <td>1001</td>\n",
       "      <td>10</td>\n",
       "      <td>65.0</td>\n",
       "      <td>393.0</td>\n",
       "      <td>53.0</td>\n",
       "      <td>56.0</td>\n",
       "      <td>23000.0</td>\n",
       "    </tr>\n",
       "    <tr>\n",
       "      <th>4</th>\n",
       "      <td>1001</td>\n",
       "      <td>11</td>\n",
       "      <td>64.0</td>\n",
       "      <td>426.0</td>\n",
       "      <td>36.0</td>\n",
       "      <td>51.0</td>\n",
       "      <td>19000.0</td>\n",
       "    </tr>\n",
       "    <tr>\n",
       "      <th>...</th>\n",
       "      <td>...</td>\n",
       "      <td>...</td>\n",
       "      <td>...</td>\n",
       "      <td>...</td>\n",
       "      <td>...</td>\n",
       "      <td>...</td>\n",
       "      <td>...</td>\n",
       "    </tr>\n",
       "    <tr>\n",
       "      <th>2288</th>\n",
       "      <td>1498</td>\n",
       "      <td>12</td>\n",
       "      <td>39.0</td>\n",
       "      <td>339.0</td>\n",
       "      <td>NaN</td>\n",
       "      <td>65.0</td>\n",
       "      <td>24000.0</td>\n",
       "    </tr>\n",
       "    <tr>\n",
       "      <th>2289</th>\n",
       "      <td>1499</td>\n",
       "      <td>9</td>\n",
       "      <td>41.0</td>\n",
       "      <td>346.0</td>\n",
       "      <td>NaN</td>\n",
       "      <td>45.0</td>\n",
       "      <td>13000.0</td>\n",
       "    </tr>\n",
       "    <tr>\n",
       "      <th>2290</th>\n",
       "      <td>1499</td>\n",
       "      <td>10</td>\n",
       "      <td>53.0</td>\n",
       "      <td>385.0</td>\n",
       "      <td>NaN</td>\n",
       "      <td>61.0</td>\n",
       "      <td>20000.0</td>\n",
       "    </tr>\n",
       "    <tr>\n",
       "      <th>2291</th>\n",
       "      <td>1499</td>\n",
       "      <td>11</td>\n",
       "      <td>45.0</td>\n",
       "      <td>308.0</td>\n",
       "      <td>NaN</td>\n",
       "      <td>49.0</td>\n",
       "      <td>17000.0</td>\n",
       "    </tr>\n",
       "    <tr>\n",
       "      <th>2292</th>\n",
       "      <td>1499</td>\n",
       "      <td>12</td>\n",
       "      <td>65.0</td>\n",
       "      <td>496.0</td>\n",
       "      <td>NaN</td>\n",
       "      <td>65.0</td>\n",
       "      <td>23000.0</td>\n",
       "    </tr>\n",
       "  </tbody>\n",
       "</table>\n",
       "<p>2293 rows × 7 columns</p>\n",
       "</div>"
      ],
      "text/plain": [
       "      user_id  month  total_month_calls  total_month_duration  total_month_messages  total_month_sessions  total_month_traffic\n",
       "0        1000     12               16.0                 124.0                  11.0                   5.0               2000.0\n",
       "1        1001      8               27.0                 182.0                  30.0                  25.0               7000.0\n",
       "2        1001      9               49.0                 315.0                  44.0                  53.0              14000.0\n",
       "3        1001     10               65.0                 393.0                  53.0                  56.0              23000.0\n",
       "4        1001     11               64.0                 426.0                  36.0                  51.0              19000.0\n",
       "...       ...    ...                ...                   ...                   ...                   ...                  ...\n",
       "2288     1498     12               39.0                 339.0                   NaN                  65.0              24000.0\n",
       "2289     1499      9               41.0                 346.0                   NaN                  45.0              13000.0\n",
       "2290     1499     10               53.0                 385.0                   NaN                  61.0              20000.0\n",
       "2291     1499     11               45.0                 308.0                   NaN                  49.0              17000.0\n",
       "2292     1499     12               65.0                 496.0                   NaN                  65.0              23000.0\n",
       "\n",
       "[2293 rows x 7 columns]"
      ]
     },
     "execution_count": 56,
     "metadata": {},
     "output_type": "execute_result"
    }
   ],
   "source": [
    "df_revenue_month = df_revenue_month.merge(df_sessions_traffic_month, on=['user_id', 'month'], how='outer')\n",
    "df_revenue_month"
   ]
  },
  {
   "cell_type": "code",
   "execution_count": 57,
   "id": "780123f3",
   "metadata": {},
   "outputs": [
    {
     "data": {
      "application/vnd.microsoft.datawrangler.viewer.v0+json": {
       "columns": [
        {
         "name": "index",
         "rawType": "int64",
         "type": "integer"
        },
        {
         "name": "user_id",
         "rawType": "int64",
         "type": "integer"
        },
        {
         "name": "month",
         "rawType": "int32",
         "type": "integer"
        },
        {
         "name": "total_month_calls",
         "rawType": "float64",
         "type": "float"
        },
        {
         "name": "total_month_duration",
         "rawType": "float64",
         "type": "float"
        },
        {
         "name": "total_month_messages",
         "rawType": "float64",
         "type": "float"
        },
        {
         "name": "total_month_sessions",
         "rawType": "float64",
         "type": "float"
        },
        {
         "name": "total_month_traffic",
         "rawType": "float64",
         "type": "float"
        },
        {
         "name": "age",
         "rawType": "int64",
         "type": "integer"
        },
        {
         "name": "city",
         "rawType": "string",
         "type": "string"
        },
        {
         "name": "plan",
         "rawType": "category",
         "type": "unknown"
        },
        {
         "name": "full_name",
         "rawType": "string",
         "type": "string"
        },
        {
         "name": "churn_month",
         "rawType": "float64",
         "type": "float"
        }
       ],
       "ref": "0286963b-4303-40a8-a143-8fd5fb3c6b44",
       "rows": [
        [
         "0",
         "1000",
         "12",
         "16.0",
         "124.0",
         "11.0",
         "5.0",
         "2000.0",
         "45",
         "atlanta_sandy_springs_roswell,_ga_msa",
         "ultimate",
         "anamaria_bauer",
         null
        ],
        [
         "1",
         "1001",
         "8",
         "27.0",
         "182.0",
         "30.0",
         "25.0",
         "7000.0",
         "28",
         "seattle_tacoma_bellevue,_wa_msa",
         "surf",
         "mickey_wilkerson",
         null
        ],
        [
         "2",
         "1001",
         "9",
         "49.0",
         "315.0",
         "44.0",
         "53.0",
         "14000.0",
         "28",
         "seattle_tacoma_bellevue,_wa_msa",
         "surf",
         "mickey_wilkerson",
         null
        ],
        [
         "3",
         "1001",
         "10",
         "65.0",
         "393.0",
         "53.0",
         "56.0",
         "23000.0",
         "28",
         "seattle_tacoma_bellevue,_wa_msa",
         "surf",
         "mickey_wilkerson",
         null
        ],
        [
         "4",
         "1001",
         "11",
         "64.0",
         "426.0",
         "36.0",
         "51.0",
         "19000.0",
         "28",
         "seattle_tacoma_bellevue,_wa_msa",
         "surf",
         "mickey_wilkerson",
         null
        ],
        [
         "5",
         "1001",
         "12",
         "56.0",
         "412.0",
         "44.0",
         "60.0",
         "20000.0",
         "28",
         "seattle_tacoma_bellevue,_wa_msa",
         "surf",
         "mickey_wilkerson",
         null
        ],
        [
         "6",
         "1002",
         "10",
         "11.0",
         "59.0",
         "15.0",
         "21.0",
         "7000.0",
         "36",
         "las_vegas_henderson_paradise,_nv_msa",
         "surf",
         "carlee_hoffman",
         null
        ],
        [
         "7",
         "1002",
         "11",
         "55.0",
         "386.0",
         "32.0",
         "52.0",
         "20000.0",
         "36",
         "las_vegas_henderson_paradise,_nv_msa",
         "surf",
         "carlee_hoffman",
         null
        ],
        [
         "8",
         "1002",
         "12",
         "47.0",
         "384.0",
         "41.0",
         "51.0",
         "15000.0",
         "36",
         "las_vegas_henderson_paradise,_nv_msa",
         "surf",
         "carlee_hoffman",
         null
        ],
        [
         "9",
         "1003",
         "12",
         "149.0",
         "1104.0",
         "50.0",
         "52.0",
         "28000.0",
         "52",
         "tulsa,_ok_msa",
         "surf",
         "reynaldo_jenkins",
         null
        ],
        [
         "10",
         "1004",
         "5",
         "21.0",
         "193.0",
         "7.0",
         "17.0",
         "7000.0",
         "40",
         "seattle_tacoma_bellevue,_wa_msa",
         "surf",
         "leonila_thompson",
         null
        ],
        [
         "11",
         "1004",
         "6",
         "44.0",
         "275.0",
         "18.0",
         "73.0",
         "21000.0",
         "40",
         "seattle_tacoma_bellevue,_wa_msa",
         "surf",
         "leonila_thompson",
         null
        ],
        [
         "12",
         "1004",
         "7",
         "49.0",
         "381.0",
         "26.0",
         "69.0",
         "25000.0",
         "40",
         "seattle_tacoma_bellevue,_wa_msa",
         "surf",
         "leonila_thompson",
         null
        ],
        [
         "13",
         "1004",
         "8",
         "49.0",
         "354.0",
         "25.0",
         "72.0",
         "28000.0",
         "40",
         "seattle_tacoma_bellevue,_wa_msa",
         "surf",
         "leonila_thompson",
         null
        ],
        [
         "14",
         "1004",
         "9",
         "42.0",
         "301.0",
         "21.0",
         "56.0",
         "19000.0",
         "40",
         "seattle_tacoma_bellevue,_wa_msa",
         "surf",
         "leonila_thompson",
         null
        ],
        [
         "15",
         "1004",
         "10",
         "61.0",
         "365.0",
         "24.0",
         "51.0",
         "15000.0",
         "40",
         "seattle_tacoma_bellevue,_wa_msa",
         "surf",
         "leonila_thompson",
         null
        ],
        [
         "16",
         "1004",
         "11",
         "54.0",
         "476.0",
         "25.0",
         "69.0",
         "22000.0",
         "40",
         "seattle_tacoma_bellevue,_wa_msa",
         "surf",
         "leonila_thompson",
         null
        ],
        [
         "17",
         "1004",
         "12",
         "50.0",
         "427.0",
         "31.0",
         "53.0",
         "22000.0",
         "40",
         "seattle_tacoma_bellevue,_wa_msa",
         "surf",
         "leonila_thompson",
         null
        ],
        [
         "18",
         "1005",
         "12",
         "59.0",
         "496.0",
         "11.0",
         "60.0",
         "18000.0",
         "31",
         "dallas_fort_worth_arlington,_tx_msa",
         "surf",
         "livia_shields",
         null
        ],
        [
         "19",
         "1006",
         "11",
         "2.0",
         "10.0",
         "15.0",
         "7.0",
         "3000.0",
         "73",
         "san_francisco_oakland_berkeley,_ca_msa",
         "ultimate",
         "jesusa_bradford",
         "12.0"
        ],
        [
         "20",
         "1006",
         "12",
         "9.0",
         "59.0",
         "139.0",
         "63.0",
         "33000.0",
         "73",
         "san_francisco_oakland_berkeley,_ca_msa",
         "ultimate",
         "jesusa_bradford",
         "12.0"
        ],
        [
         "21",
         "1007",
         "8",
         "70.0",
         "456.0",
         "51.0",
         "45.0",
         "25000.0",
         "42",
         "grand_rapids_kentwood,_mi_msa",
         "surf",
         "eusebio_welch",
         null
        ],
        [
         "22",
         "1007",
         "9",
         "63.0",
         "399.0",
         "47.0",
         "52.0",
         "29000.0",
         "42",
         "grand_rapids_kentwood,_mi_msa",
         "surf",
         "eusebio_welch",
         null
        ],
        [
         "23",
         "1007",
         "10",
         "80.0",
         "645.0",
         "59.0",
         "65.0",
         "38000.0",
         "42",
         "grand_rapids_kentwood,_mi_msa",
         "surf",
         "eusebio_welch",
         null
        ],
        [
         "24",
         "1007",
         "11",
         "80.0",
         "524.0",
         "48.0",
         "50.0",
         "25000.0",
         "42",
         "grand_rapids_kentwood,_mi_msa",
         "surf",
         "eusebio_welch",
         null
        ],
        [
         "25",
         "1007",
         "12",
         "87.0",
         "617.0",
         "50.0",
         "61.0",
         "30000.0",
         "42",
         "grand_rapids_kentwood,_mi_msa",
         "surf",
         "eusebio_welch",
         null
        ],
        [
         "26",
         "1008",
         "10",
         "71.0",
         "476.0",
         "21.0",
         "57.0",
         "18000.0",
         "53",
         "orlando_kissimmee_sanford,_fl_msa",
         "ultimate",
         "emely_hoffman",
         null
        ],
        [
         "27",
         "1008",
         "11",
         "63.0",
         "446.0",
         "37.0",
         "72.0",
         "24000.0",
         "53",
         "orlando_kissimmee_sanford,_fl_msa",
         "ultimate",
         "emely_hoffman",
         null
        ],
        [
         "28",
         "1008",
         "12",
         "85.0",
         "634.0",
         "26.0",
         "47.0",
         "15000.0",
         "53",
         "orlando_kissimmee_sanford,_fl_msa",
         "ultimate",
         "emely_hoffman",
         null
        ],
        [
         "29",
         "1009",
         "5",
         "71.0",
         "534.0",
         null,
         "43.0",
         "21000.0",
         "19",
         "san_jose_sunnyvale_santa_clara,_ca_msa",
         "surf",
         "gerry_little",
         null
        ],
        [
         "30",
         "1009",
         "6",
         "110.0",
         "823.0",
         null,
         "38.0",
         "19000.0",
         "19",
         "san_jose_sunnyvale_santa_clara,_ca_msa",
         "surf",
         "gerry_little",
         null
        ],
        [
         "31",
         "1009",
         "7",
         "124.0",
         "880.0",
         null,
         "60.0",
         "31000.0",
         "19",
         "san_jose_sunnyvale_santa_clara,_ca_msa",
         "surf",
         "gerry_little",
         null
        ],
        [
         "32",
         "1009",
         "8",
         "109.0",
         "731.0",
         null,
         "51.0",
         "25000.0",
         "19",
         "san_jose_sunnyvale_santa_clara,_ca_msa",
         "surf",
         "gerry_little",
         null
        ],
        [
         "33",
         "1009",
         "9",
         "116.0",
         "776.0",
         null,
         "50.0",
         "21000.0",
         "19",
         "san_jose_sunnyvale_santa_clara,_ca_msa",
         "surf",
         "gerry_little",
         null
        ],
        [
         "34",
         "1009",
         "10",
         "114.0",
         "740.0",
         null,
         "47.0",
         "23000.0",
         "19",
         "san_jose_sunnyvale_santa_clara,_ca_msa",
         "surf",
         "gerry_little",
         null
        ],
        [
         "35",
         "1009",
         "11",
         "105.0",
         "714.0",
         null,
         "47.0",
         "26000.0",
         "19",
         "san_jose_sunnyvale_santa_clara,_ca_msa",
         "surf",
         "gerry_little",
         null
        ],
        [
         "36",
         "1009",
         "12",
         "107.0",
         "756.0",
         null,
         "50.0",
         "24000.0",
         "19",
         "san_jose_sunnyvale_santa_clara,_ca_msa",
         "surf",
         "gerry_little",
         null
        ],
        [
         "37",
         "1010",
         "3",
         "63.0",
         "429.0",
         null,
         "37.0",
         "11000.0",
         "52",
         "dallas_fort_worth_arlington,_tx_msa",
         "surf",
         "wilber_blair",
         null
        ],
        [
         "38",
         "1010",
         "4",
         "90.0",
         "656.0",
         null,
         "58.0",
         "20000.0",
         "52",
         "dallas_fort_worth_arlington,_tx_msa",
         "surf",
         "wilber_blair",
         null
        ],
        [
         "39",
         "1010",
         "5",
         "81.0",
         "532.0",
         null,
         "56.0",
         "16000.0",
         "52",
         "dallas_fort_worth_arlington,_tx_msa",
         "surf",
         "wilber_blair",
         null
        ],
        [
         "40",
         "1010",
         "6",
         "77.0",
         "553.0",
         null,
         "49.0",
         "17000.0",
         "52",
         "dallas_fort_worth_arlington,_tx_msa",
         "surf",
         "wilber_blair",
         null
        ],
        [
         "41",
         "1010",
         "7",
         "101.0",
         "698.0",
         null,
         "37.0",
         "13000.0",
         "52",
         "dallas_fort_worth_arlington,_tx_msa",
         "surf",
         "wilber_blair",
         null
        ],
        [
         "42",
         "1010",
         "8",
         "93.0",
         "637.0",
         null,
         "51.0",
         "20000.0",
         "52",
         "dallas_fort_worth_arlington,_tx_msa",
         "surf",
         "wilber_blair",
         null
        ],
        [
         "43",
         "1010",
         "9",
         "83.0",
         "601.0",
         null,
         "50.0",
         "17000.0",
         "52",
         "dallas_fort_worth_arlington,_tx_msa",
         "surf",
         "wilber_blair",
         null
        ],
        [
         "44",
         "1010",
         "10",
         "95.0",
         "711.0",
         null,
         "50.0",
         "17000.0",
         "52",
         "dallas_fort_worth_arlington,_tx_msa",
         "surf",
         "wilber_blair",
         null
        ],
        [
         "45",
         "1010",
         "11",
         "30.0",
         "258.0",
         null,
         "21.0",
         "8000.0",
         "52",
         "dallas_fort_worth_arlington,_tx_msa",
         "surf",
         "wilber_blair",
         null
        ],
        [
         "46",
         "1011",
         "6",
         "19.0",
         "118.0",
         "21.0",
         "25.0",
         "7000.0",
         "73",
         "cleveland_elyria,_oh_msa",
         "ultimate",
         "halina_henry",
         null
        ],
        [
         "47",
         "1011",
         "7",
         "63.0",
         "499.0",
         "53.0",
         "70.0",
         "22000.0",
         "73",
         "cleveland_elyria,_oh_msa",
         "ultimate",
         "halina_henry",
         null
        ],
        [
         "48",
         "1011",
         "8",
         "61.0",
         "486.0",
         "54.0",
         "64.0",
         "22000.0",
         "73",
         "cleveland_elyria,_oh_msa",
         "ultimate",
         "halina_henry",
         null
        ],
        [
         "49",
         "1011",
         "9",
         "73.0",
         "484.0",
         "60.0",
         "58.0",
         "17000.0",
         "73",
         "cleveland_elyria,_oh_msa",
         "ultimate",
         "halina_henry",
         null
        ]
       ],
       "shape": {
        "columns": 12,
        "rows": 2293
       }
      },
      "text/html": [
       "<div>\n",
       "<style scoped>\n",
       "    .dataframe tbody tr th:only-of-type {\n",
       "        vertical-align: middle;\n",
       "    }\n",
       "\n",
       "    .dataframe tbody tr th {\n",
       "        vertical-align: top;\n",
       "    }\n",
       "\n",
       "    .dataframe thead th {\n",
       "        text-align: right;\n",
       "    }\n",
       "</style>\n",
       "<table border=\"1\" class=\"dataframe\">\n",
       "  <thead>\n",
       "    <tr style=\"text-align: right;\">\n",
       "      <th></th>\n",
       "      <th>user_id</th>\n",
       "      <th>month</th>\n",
       "      <th>total_month_calls</th>\n",
       "      <th>total_month_duration</th>\n",
       "      <th>total_month_messages</th>\n",
       "      <th>total_month_sessions</th>\n",
       "      <th>total_month_traffic</th>\n",
       "      <th>age</th>\n",
       "      <th>city</th>\n",
       "      <th>plan</th>\n",
       "      <th>full_name</th>\n",
       "      <th>churn_month</th>\n",
       "    </tr>\n",
       "  </thead>\n",
       "  <tbody>\n",
       "    <tr>\n",
       "      <th>0</th>\n",
       "      <td>1000</td>\n",
       "      <td>12</td>\n",
       "      <td>16.0</td>\n",
       "      <td>124.0</td>\n",
       "      <td>11.0</td>\n",
       "      <td>5.0</td>\n",
       "      <td>2000.0</td>\n",
       "      <td>45</td>\n",
       "      <td>atlanta_sandy_springs_roswell,_ga_msa</td>\n",
       "      <td>ultimate</td>\n",
       "      <td>anamaria_bauer</td>\n",
       "      <td>NaN</td>\n",
       "    </tr>\n",
       "    <tr>\n",
       "      <th>1</th>\n",
       "      <td>1001</td>\n",
       "      <td>8</td>\n",
       "      <td>27.0</td>\n",
       "      <td>182.0</td>\n",
       "      <td>30.0</td>\n",
       "      <td>25.0</td>\n",
       "      <td>7000.0</td>\n",
       "      <td>28</td>\n",
       "      <td>seattle_tacoma_bellevue,_wa_msa</td>\n",
       "      <td>surf</td>\n",
       "      <td>mickey_wilkerson</td>\n",
       "      <td>NaN</td>\n",
       "    </tr>\n",
       "    <tr>\n",
       "      <th>2</th>\n",
       "      <td>1001</td>\n",
       "      <td>9</td>\n",
       "      <td>49.0</td>\n",
       "      <td>315.0</td>\n",
       "      <td>44.0</td>\n",
       "      <td>53.0</td>\n",
       "      <td>14000.0</td>\n",
       "      <td>28</td>\n",
       "      <td>seattle_tacoma_bellevue,_wa_msa</td>\n",
       "      <td>surf</td>\n",
       "      <td>mickey_wilkerson</td>\n",
       "      <td>NaN</td>\n",
       "    </tr>\n",
       "    <tr>\n",
       "      <th>3</th>\n",
       "      <td>1001</td>\n",
       "      <td>10</td>\n",
       "      <td>65.0</td>\n",
       "      <td>393.0</td>\n",
       "      <td>53.0</td>\n",
       "      <td>56.0</td>\n",
       "      <td>23000.0</td>\n",
       "      <td>28</td>\n",
       "      <td>seattle_tacoma_bellevue,_wa_msa</td>\n",
       "      <td>surf</td>\n",
       "      <td>mickey_wilkerson</td>\n",
       "      <td>NaN</td>\n",
       "    </tr>\n",
       "    <tr>\n",
       "      <th>4</th>\n",
       "      <td>1001</td>\n",
       "      <td>11</td>\n",
       "      <td>64.0</td>\n",
       "      <td>426.0</td>\n",
       "      <td>36.0</td>\n",
       "      <td>51.0</td>\n",
       "      <td>19000.0</td>\n",
       "      <td>28</td>\n",
       "      <td>seattle_tacoma_bellevue,_wa_msa</td>\n",
       "      <td>surf</td>\n",
       "      <td>mickey_wilkerson</td>\n",
       "      <td>NaN</td>\n",
       "    </tr>\n",
       "    <tr>\n",
       "      <th>...</th>\n",
       "      <td>...</td>\n",
       "      <td>...</td>\n",
       "      <td>...</td>\n",
       "      <td>...</td>\n",
       "      <td>...</td>\n",
       "      <td>...</td>\n",
       "      <td>...</td>\n",
       "      <td>...</td>\n",
       "      <td>...</td>\n",
       "      <td>...</td>\n",
       "      <td>...</td>\n",
       "      <td>...</td>\n",
       "    </tr>\n",
       "    <tr>\n",
       "      <th>2288</th>\n",
       "      <td>1498</td>\n",
       "      <td>12</td>\n",
       "      <td>39.0</td>\n",
       "      <td>339.0</td>\n",
       "      <td>NaN</td>\n",
       "      <td>65.0</td>\n",
       "      <td>24000.0</td>\n",
       "      <td>51</td>\n",
       "      <td>new_york_newark_jersey_city,_ny_nj_pa_msa</td>\n",
       "      <td>surf</td>\n",
       "      <td>scot_williamson</td>\n",
       "      <td>NaN</td>\n",
       "    </tr>\n",
       "    <tr>\n",
       "      <th>2289</th>\n",
       "      <td>1499</td>\n",
       "      <td>9</td>\n",
       "      <td>41.0</td>\n",
       "      <td>346.0</td>\n",
       "      <td>NaN</td>\n",
       "      <td>45.0</td>\n",
       "      <td>13000.0</td>\n",
       "      <td>37</td>\n",
       "      <td>orlando_kissimmee_sanford,_fl_msa</td>\n",
       "      <td>surf</td>\n",
       "      <td>shena_dickson</td>\n",
       "      <td>NaN</td>\n",
       "    </tr>\n",
       "    <tr>\n",
       "      <th>2290</th>\n",
       "      <td>1499</td>\n",
       "      <td>10</td>\n",
       "      <td>53.0</td>\n",
       "      <td>385.0</td>\n",
       "      <td>NaN</td>\n",
       "      <td>61.0</td>\n",
       "      <td>20000.0</td>\n",
       "      <td>37</td>\n",
       "      <td>orlando_kissimmee_sanford,_fl_msa</td>\n",
       "      <td>surf</td>\n",
       "      <td>shena_dickson</td>\n",
       "      <td>NaN</td>\n",
       "    </tr>\n",
       "    <tr>\n",
       "      <th>2291</th>\n",
       "      <td>1499</td>\n",
       "      <td>11</td>\n",
       "      <td>45.0</td>\n",
       "      <td>308.0</td>\n",
       "      <td>NaN</td>\n",
       "      <td>49.0</td>\n",
       "      <td>17000.0</td>\n",
       "      <td>37</td>\n",
       "      <td>orlando_kissimmee_sanford,_fl_msa</td>\n",
       "      <td>surf</td>\n",
       "      <td>shena_dickson</td>\n",
       "      <td>NaN</td>\n",
       "    </tr>\n",
       "    <tr>\n",
       "      <th>2292</th>\n",
       "      <td>1499</td>\n",
       "      <td>12</td>\n",
       "      <td>65.0</td>\n",
       "      <td>496.0</td>\n",
       "      <td>NaN</td>\n",
       "      <td>65.0</td>\n",
       "      <td>23000.0</td>\n",
       "      <td>37</td>\n",
       "      <td>orlando_kissimmee_sanford,_fl_msa</td>\n",
       "      <td>surf</td>\n",
       "      <td>shena_dickson</td>\n",
       "      <td>NaN</td>\n",
       "    </tr>\n",
       "  </tbody>\n",
       "</table>\n",
       "<p>2293 rows × 12 columns</p>\n",
       "</div>"
      ],
      "text/plain": [
       "      user_id  month  total_month_calls  total_month_duration  total_month_messages  total_month_sessions  total_month_traffic  age  \\\n",
       "0        1000     12               16.0                 124.0                  11.0                   5.0               2000.0   45   \n",
       "1        1001      8               27.0                 182.0                  30.0                  25.0               7000.0   28   \n",
       "2        1001      9               49.0                 315.0                  44.0                  53.0              14000.0   28   \n",
       "3        1001     10               65.0                 393.0                  53.0                  56.0              23000.0   28   \n",
       "4        1001     11               64.0                 426.0                  36.0                  51.0              19000.0   28   \n",
       "...       ...    ...                ...                   ...                   ...                   ...                  ...  ...   \n",
       "2288     1498     12               39.0                 339.0                   NaN                  65.0              24000.0   51   \n",
       "2289     1499      9               41.0                 346.0                   NaN                  45.0              13000.0   37   \n",
       "2290     1499     10               53.0                 385.0                   NaN                  61.0              20000.0   37   \n",
       "2291     1499     11               45.0                 308.0                   NaN                  49.0              17000.0   37   \n",
       "2292     1499     12               65.0                 496.0                   NaN                  65.0              23000.0   37   \n",
       "\n",
       "                                           city      plan         full_name  churn_month  \n",
       "0         atlanta_sandy_springs_roswell,_ga_msa  ultimate    anamaria_bauer          NaN  \n",
       "1               seattle_tacoma_bellevue,_wa_msa      surf  mickey_wilkerson          NaN  \n",
       "2               seattle_tacoma_bellevue,_wa_msa      surf  mickey_wilkerson          NaN  \n",
       "3               seattle_tacoma_bellevue,_wa_msa      surf  mickey_wilkerson          NaN  \n",
       "4               seattle_tacoma_bellevue,_wa_msa      surf  mickey_wilkerson          NaN  \n",
       "...                                         ...       ...               ...          ...  \n",
       "2288  new_york_newark_jersey_city,_ny_nj_pa_msa      surf   scot_williamson          NaN  \n",
       "2289          orlando_kissimmee_sanford,_fl_msa      surf     shena_dickson          NaN  \n",
       "2290          orlando_kissimmee_sanford,_fl_msa      surf     shena_dickson          NaN  \n",
       "2291          orlando_kissimmee_sanford,_fl_msa      surf     shena_dickson          NaN  \n",
       "2292          orlando_kissimmee_sanford,_fl_msa      surf     shena_dickson          NaN  \n",
       "\n",
       "[2293 rows x 12 columns]"
      ]
     },
     "execution_count": 57,
     "metadata": {},
     "output_type": "execute_result"
    }
   ],
   "source": [
    "df_revenue_month = df_revenue_month.merge(df_users[['user_id', 'age', 'city', 'plan', 'full_name', 'churn_month']], on='user_id', how='inner')\n",
    "df_revenue_month"
   ]
  },
  {
   "cell_type": "code",
   "execution_count": 58,
   "id": "c485b760",
   "metadata": {},
   "outputs": [
    {
     "data": {
      "application/vnd.microsoft.datawrangler.viewer.v0+json": {
       "columns": [
        {
         "name": "index",
         "rawType": "int64",
         "type": "integer"
        },
        {
         "name": "user_id",
         "rawType": "int64",
         "type": "integer"
        },
        {
         "name": "month",
         "rawType": "int32",
         "type": "integer"
        },
        {
         "name": "total_month_calls",
         "rawType": "float64",
         "type": "float"
        },
        {
         "name": "total_month_duration",
         "rawType": "float64",
         "type": "float"
        },
        {
         "name": "total_month_messages",
         "rawType": "float64",
         "type": "float"
        },
        {
         "name": "total_month_sessions",
         "rawType": "float64",
         "type": "float"
        },
        {
         "name": "total_month_traffic",
         "rawType": "float64",
         "type": "float"
        },
        {
         "name": "age",
         "rawType": "int64",
         "type": "integer"
        },
        {
         "name": "city",
         "rawType": "string",
         "type": "string"
        },
        {
         "name": "plan",
         "rawType": "category",
         "type": "unknown"
        },
        {
         "name": "full_name",
         "rawType": "string",
         "type": "string"
        },
        {
         "name": "churn_month",
         "rawType": "float64",
         "type": "float"
        },
        {
         "name": "month_revenue_calls",
         "rawType": "float64",
         "type": "float"
        }
       ],
       "ref": "716d3659-44c8-4f80-bf39-57987edbf282",
       "rows": [
        [
         "0",
         "1000",
         "12",
         "16.0",
         "124.0",
         "11.0",
         "5.0",
         "2000.0",
         "45",
         "atlanta_sandy_springs_roswell,_ga_msa",
         "ultimate",
         "anamaria_bauer",
         null,
         "0.0"
        ],
        [
         "1",
         "1001",
         "8",
         "27.0",
         "182.0",
         "30.0",
         "25.0",
         "7000.0",
         "28",
         "seattle_tacoma_bellevue,_wa_msa",
         "surf",
         "mickey_wilkerson",
         null,
         "0.0"
        ],
        [
         "2",
         "1001",
         "9",
         "49.0",
         "315.0",
         "44.0",
         "53.0",
         "14000.0",
         "28",
         "seattle_tacoma_bellevue,_wa_msa",
         "surf",
         "mickey_wilkerson",
         null,
         "0.0"
        ],
        [
         "3",
         "1001",
         "10",
         "65.0",
         "393.0",
         "53.0",
         "56.0",
         "23000.0",
         "28",
         "seattle_tacoma_bellevue,_wa_msa",
         "surf",
         "mickey_wilkerson",
         null,
         "0.0"
        ],
        [
         "4",
         "1001",
         "11",
         "64.0",
         "426.0",
         "36.0",
         "51.0",
         "19000.0",
         "28",
         "seattle_tacoma_bellevue,_wa_msa",
         "surf",
         "mickey_wilkerson",
         null,
         "0.0"
        ],
        [
         "5",
         "1001",
         "12",
         "56.0",
         "412.0",
         "44.0",
         "60.0",
         "20000.0",
         "28",
         "seattle_tacoma_bellevue,_wa_msa",
         "surf",
         "mickey_wilkerson",
         null,
         "0.0"
        ],
        [
         "6",
         "1002",
         "10",
         "11.0",
         "59.0",
         "15.0",
         "21.0",
         "7000.0",
         "36",
         "las_vegas_henderson_paradise,_nv_msa",
         "surf",
         "carlee_hoffman",
         null,
         "0.0"
        ],
        [
         "7",
         "1002",
         "11",
         "55.0",
         "386.0",
         "32.0",
         "52.0",
         "20000.0",
         "36",
         "las_vegas_henderson_paradise,_nv_msa",
         "surf",
         "carlee_hoffman",
         null,
         "0.0"
        ],
        [
         "8",
         "1002",
         "12",
         "47.0",
         "384.0",
         "41.0",
         "51.0",
         "15000.0",
         "36",
         "las_vegas_henderson_paradise,_nv_msa",
         "surf",
         "carlee_hoffman",
         null,
         "0.0"
        ],
        [
         "9",
         "1003",
         "12",
         "149.0",
         "1104.0",
         "50.0",
         "52.0",
         "28000.0",
         "52",
         "tulsa,_ok_msa",
         "surf",
         "reynaldo_jenkins",
         null,
         "18.12"
        ],
        [
         "10",
         "1004",
         "5",
         "21.0",
         "193.0",
         "7.0",
         "17.0",
         "7000.0",
         "40",
         "seattle_tacoma_bellevue,_wa_msa",
         "surf",
         "leonila_thompson",
         null,
         "0.0"
        ],
        [
         "11",
         "1004",
         "6",
         "44.0",
         "275.0",
         "18.0",
         "73.0",
         "21000.0",
         "40",
         "seattle_tacoma_bellevue,_wa_msa",
         "surf",
         "leonila_thompson",
         null,
         "0.0"
        ],
        [
         "12",
         "1004",
         "7",
         "49.0",
         "381.0",
         "26.0",
         "69.0",
         "25000.0",
         "40",
         "seattle_tacoma_bellevue,_wa_msa",
         "surf",
         "leonila_thompson",
         null,
         "0.0"
        ],
        [
         "13",
         "1004",
         "8",
         "49.0",
         "354.0",
         "25.0",
         "72.0",
         "28000.0",
         "40",
         "seattle_tacoma_bellevue,_wa_msa",
         "surf",
         "leonila_thompson",
         null,
         "0.0"
        ],
        [
         "14",
         "1004",
         "9",
         "42.0",
         "301.0",
         "21.0",
         "56.0",
         "19000.0",
         "40",
         "seattle_tacoma_bellevue,_wa_msa",
         "surf",
         "leonila_thompson",
         null,
         "0.0"
        ],
        [
         "15",
         "1004",
         "10",
         "61.0",
         "365.0",
         "24.0",
         "51.0",
         "15000.0",
         "40",
         "seattle_tacoma_bellevue,_wa_msa",
         "surf",
         "leonila_thompson",
         null,
         "0.0"
        ],
        [
         "16",
         "1004",
         "11",
         "54.0",
         "476.0",
         "25.0",
         "69.0",
         "22000.0",
         "40",
         "seattle_tacoma_bellevue,_wa_msa",
         "surf",
         "leonila_thompson",
         null,
         "0.0"
        ],
        [
         "17",
         "1004",
         "12",
         "50.0",
         "427.0",
         "31.0",
         "53.0",
         "22000.0",
         "40",
         "seattle_tacoma_bellevue,_wa_msa",
         "surf",
         "leonila_thompson",
         null,
         "0.0"
        ],
        [
         "18",
         "1005",
         "12",
         "59.0",
         "496.0",
         "11.0",
         "60.0",
         "18000.0",
         "31",
         "dallas_fort_worth_arlington,_tx_msa",
         "surf",
         "livia_shields",
         null,
         "0.0"
        ],
        [
         "19",
         "1006",
         "11",
         "2.0",
         "10.0",
         "15.0",
         "7.0",
         "3000.0",
         "73",
         "san_francisco_oakland_berkeley,_ca_msa",
         "ultimate",
         "jesusa_bradford",
         "12.0",
         "0.0"
        ],
        [
         "20",
         "1006",
         "12",
         "9.0",
         "59.0",
         "139.0",
         "63.0",
         "33000.0",
         "73",
         "san_francisco_oakland_berkeley,_ca_msa",
         "ultimate",
         "jesusa_bradford",
         "12.0",
         "0.0"
        ],
        [
         "21",
         "1007",
         "8",
         "70.0",
         "456.0",
         "51.0",
         "45.0",
         "25000.0",
         "42",
         "grand_rapids_kentwood,_mi_msa",
         "surf",
         "eusebio_welch",
         null,
         "0.0"
        ],
        [
         "22",
         "1007",
         "9",
         "63.0",
         "399.0",
         "47.0",
         "52.0",
         "29000.0",
         "42",
         "grand_rapids_kentwood,_mi_msa",
         "surf",
         "eusebio_welch",
         null,
         "0.0"
        ],
        [
         "23",
         "1007",
         "10",
         "80.0",
         "645.0",
         "59.0",
         "65.0",
         "38000.0",
         "42",
         "grand_rapids_kentwood,_mi_msa",
         "surf",
         "eusebio_welch",
         null,
         "4.35"
        ],
        [
         "24",
         "1007",
         "11",
         "80.0",
         "524.0",
         "48.0",
         "50.0",
         "25000.0",
         "42",
         "grand_rapids_kentwood,_mi_msa",
         "surf",
         "eusebio_welch",
         null,
         "0.72"
        ],
        [
         "25",
         "1007",
         "12",
         "87.0",
         "617.0",
         "50.0",
         "61.0",
         "30000.0",
         "42",
         "grand_rapids_kentwood,_mi_msa",
         "surf",
         "eusebio_welch",
         null,
         "3.51"
        ],
        [
         "26",
         "1008",
         "10",
         "71.0",
         "476.0",
         "21.0",
         "57.0",
         "18000.0",
         "53",
         "orlando_kissimmee_sanford,_fl_msa",
         "ultimate",
         "emely_hoffman",
         null,
         "0.0"
        ],
        [
         "27",
         "1008",
         "11",
         "63.0",
         "446.0",
         "37.0",
         "72.0",
         "24000.0",
         "53",
         "orlando_kissimmee_sanford,_fl_msa",
         "ultimate",
         "emely_hoffman",
         null,
         "0.0"
        ],
        [
         "28",
         "1008",
         "12",
         "85.0",
         "634.0",
         "26.0",
         "47.0",
         "15000.0",
         "53",
         "orlando_kissimmee_sanford,_fl_msa",
         "ultimate",
         "emely_hoffman",
         null,
         "0.0"
        ],
        [
         "29",
         "1009",
         "5",
         "71.0",
         "534.0",
         null,
         "43.0",
         "21000.0",
         "19",
         "san_jose_sunnyvale_santa_clara,_ca_msa",
         "surf",
         "gerry_little",
         null,
         "1.02"
        ],
        [
         "30",
         "1009",
         "6",
         "110.0",
         "823.0",
         null,
         "38.0",
         "19000.0",
         "19",
         "san_jose_sunnyvale_santa_clara,_ca_msa",
         "surf",
         "gerry_little",
         null,
         "9.69"
        ],
        [
         "31",
         "1009",
         "7",
         "124.0",
         "880.0",
         null,
         "60.0",
         "31000.0",
         "19",
         "san_jose_sunnyvale_santa_clara,_ca_msa",
         "surf",
         "gerry_little",
         null,
         "11.4"
        ],
        [
         "32",
         "1009",
         "8",
         "109.0",
         "731.0",
         null,
         "51.0",
         "25000.0",
         "19",
         "san_jose_sunnyvale_santa_clara,_ca_msa",
         "surf",
         "gerry_little",
         null,
         "6.93"
        ],
        [
         "33",
         "1009",
         "9",
         "116.0",
         "776.0",
         null,
         "50.0",
         "21000.0",
         "19",
         "san_jose_sunnyvale_santa_clara,_ca_msa",
         "surf",
         "gerry_little",
         null,
         "8.28"
        ],
        [
         "34",
         "1009",
         "10",
         "114.0",
         "740.0",
         null,
         "47.0",
         "23000.0",
         "19",
         "san_jose_sunnyvale_santa_clara,_ca_msa",
         "surf",
         "gerry_little",
         null,
         "7.2"
        ],
        [
         "35",
         "1009",
         "11",
         "105.0",
         "714.0",
         null,
         "47.0",
         "26000.0",
         "19",
         "san_jose_sunnyvale_santa_clara,_ca_msa",
         "surf",
         "gerry_little",
         null,
         "6.42"
        ],
        [
         "36",
         "1009",
         "12",
         "107.0",
         "756.0",
         null,
         "50.0",
         "24000.0",
         "19",
         "san_jose_sunnyvale_santa_clara,_ca_msa",
         "surf",
         "gerry_little",
         null,
         "7.68"
        ],
        [
         "37",
         "1010",
         "3",
         "63.0",
         "429.0",
         null,
         "37.0",
         "11000.0",
         "52",
         "dallas_fort_worth_arlington,_tx_msa",
         "surf",
         "wilber_blair",
         null,
         "0.0"
        ],
        [
         "38",
         "1010",
         "4",
         "90.0",
         "656.0",
         null,
         "58.0",
         "20000.0",
         "52",
         "dallas_fort_worth_arlington,_tx_msa",
         "surf",
         "wilber_blair",
         null,
         "4.68"
        ],
        [
         "39",
         "1010",
         "5",
         "81.0",
         "532.0",
         null,
         "56.0",
         "16000.0",
         "52",
         "dallas_fort_worth_arlington,_tx_msa",
         "surf",
         "wilber_blair",
         null,
         "0.96"
        ],
        [
         "40",
         "1010",
         "6",
         "77.0",
         "553.0",
         null,
         "49.0",
         "17000.0",
         "52",
         "dallas_fort_worth_arlington,_tx_msa",
         "surf",
         "wilber_blair",
         null,
         "1.59"
        ],
        [
         "41",
         "1010",
         "7",
         "101.0",
         "698.0",
         null,
         "37.0",
         "13000.0",
         "52",
         "dallas_fort_worth_arlington,_tx_msa",
         "surf",
         "wilber_blair",
         null,
         "5.94"
        ],
        [
         "42",
         "1010",
         "8",
         "93.0",
         "637.0",
         null,
         "51.0",
         "20000.0",
         "52",
         "dallas_fort_worth_arlington,_tx_msa",
         "surf",
         "wilber_blair",
         null,
         "4.11"
        ],
        [
         "43",
         "1010",
         "9",
         "83.0",
         "601.0",
         null,
         "50.0",
         "17000.0",
         "52",
         "dallas_fort_worth_arlington,_tx_msa",
         "surf",
         "wilber_blair",
         null,
         "3.03"
        ],
        [
         "44",
         "1010",
         "10",
         "95.0",
         "711.0",
         null,
         "50.0",
         "17000.0",
         "52",
         "dallas_fort_worth_arlington,_tx_msa",
         "surf",
         "wilber_blair",
         null,
         "6.33"
        ],
        [
         "45",
         "1010",
         "11",
         "30.0",
         "258.0",
         null,
         "21.0",
         "8000.0",
         "52",
         "dallas_fort_worth_arlington,_tx_msa",
         "surf",
         "wilber_blair",
         null,
         "0.0"
        ],
        [
         "46",
         "1011",
         "6",
         "19.0",
         "118.0",
         "21.0",
         "25.0",
         "7000.0",
         "73",
         "cleveland_elyria,_oh_msa",
         "ultimate",
         "halina_henry",
         null,
         "0.0"
        ],
        [
         "47",
         "1011",
         "7",
         "63.0",
         "499.0",
         "53.0",
         "70.0",
         "22000.0",
         "73",
         "cleveland_elyria,_oh_msa",
         "ultimate",
         "halina_henry",
         null,
         "0.0"
        ],
        [
         "48",
         "1011",
         "8",
         "61.0",
         "486.0",
         "54.0",
         "64.0",
         "22000.0",
         "73",
         "cleveland_elyria,_oh_msa",
         "ultimate",
         "halina_henry",
         null,
         "0.0"
        ],
        [
         "49",
         "1011",
         "9",
         "73.0",
         "484.0",
         "60.0",
         "58.0",
         "17000.0",
         "73",
         "cleveland_elyria,_oh_msa",
         "ultimate",
         "halina_henry",
         null,
         "0.0"
        ]
       ],
       "shape": {
        "columns": 13,
        "rows": 2293
       }
      },
      "text/html": [
       "<div>\n",
       "<style scoped>\n",
       "    .dataframe tbody tr th:only-of-type {\n",
       "        vertical-align: middle;\n",
       "    }\n",
       "\n",
       "    .dataframe tbody tr th {\n",
       "        vertical-align: top;\n",
       "    }\n",
       "\n",
       "    .dataframe thead th {\n",
       "        text-align: right;\n",
       "    }\n",
       "</style>\n",
       "<table border=\"1\" class=\"dataframe\">\n",
       "  <thead>\n",
       "    <tr style=\"text-align: right;\">\n",
       "      <th></th>\n",
       "      <th>user_id</th>\n",
       "      <th>month</th>\n",
       "      <th>total_month_calls</th>\n",
       "      <th>total_month_duration</th>\n",
       "      <th>total_month_messages</th>\n",
       "      <th>total_month_sessions</th>\n",
       "      <th>total_month_traffic</th>\n",
       "      <th>age</th>\n",
       "      <th>city</th>\n",
       "      <th>plan</th>\n",
       "      <th>full_name</th>\n",
       "      <th>churn_month</th>\n",
       "      <th>month_revenue_calls</th>\n",
       "    </tr>\n",
       "  </thead>\n",
       "  <tbody>\n",
       "    <tr>\n",
       "      <th>0</th>\n",
       "      <td>1000</td>\n",
       "      <td>12</td>\n",
       "      <td>16.0</td>\n",
       "      <td>124.0</td>\n",
       "      <td>11.0</td>\n",
       "      <td>5.0</td>\n",
       "      <td>2000.0</td>\n",
       "      <td>45</td>\n",
       "      <td>atlanta_sandy_springs_roswell,_ga_msa</td>\n",
       "      <td>ultimate</td>\n",
       "      <td>anamaria_bauer</td>\n",
       "      <td>NaN</td>\n",
       "      <td>0.0</td>\n",
       "    </tr>\n",
       "    <tr>\n",
       "      <th>1</th>\n",
       "      <td>1001</td>\n",
       "      <td>8</td>\n",
       "      <td>27.0</td>\n",
       "      <td>182.0</td>\n",
       "      <td>30.0</td>\n",
       "      <td>25.0</td>\n",
       "      <td>7000.0</td>\n",
       "      <td>28</td>\n",
       "      <td>seattle_tacoma_bellevue,_wa_msa</td>\n",
       "      <td>surf</td>\n",
       "      <td>mickey_wilkerson</td>\n",
       "      <td>NaN</td>\n",
       "      <td>0.0</td>\n",
       "    </tr>\n",
       "    <tr>\n",
       "      <th>2</th>\n",
       "      <td>1001</td>\n",
       "      <td>9</td>\n",
       "      <td>49.0</td>\n",
       "      <td>315.0</td>\n",
       "      <td>44.0</td>\n",
       "      <td>53.0</td>\n",
       "      <td>14000.0</td>\n",
       "      <td>28</td>\n",
       "      <td>seattle_tacoma_bellevue,_wa_msa</td>\n",
       "      <td>surf</td>\n",
       "      <td>mickey_wilkerson</td>\n",
       "      <td>NaN</td>\n",
       "      <td>0.0</td>\n",
       "    </tr>\n",
       "    <tr>\n",
       "      <th>3</th>\n",
       "      <td>1001</td>\n",
       "      <td>10</td>\n",
       "      <td>65.0</td>\n",
       "      <td>393.0</td>\n",
       "      <td>53.0</td>\n",
       "      <td>56.0</td>\n",
       "      <td>23000.0</td>\n",
       "      <td>28</td>\n",
       "      <td>seattle_tacoma_bellevue,_wa_msa</td>\n",
       "      <td>surf</td>\n",
       "      <td>mickey_wilkerson</td>\n",
       "      <td>NaN</td>\n",
       "      <td>0.0</td>\n",
       "    </tr>\n",
       "    <tr>\n",
       "      <th>4</th>\n",
       "      <td>1001</td>\n",
       "      <td>11</td>\n",
       "      <td>64.0</td>\n",
       "      <td>426.0</td>\n",
       "      <td>36.0</td>\n",
       "      <td>51.0</td>\n",
       "      <td>19000.0</td>\n",
       "      <td>28</td>\n",
       "      <td>seattle_tacoma_bellevue,_wa_msa</td>\n",
       "      <td>surf</td>\n",
       "      <td>mickey_wilkerson</td>\n",
       "      <td>NaN</td>\n",
       "      <td>0.0</td>\n",
       "    </tr>\n",
       "    <tr>\n",
       "      <th>...</th>\n",
       "      <td>...</td>\n",
       "      <td>...</td>\n",
       "      <td>...</td>\n",
       "      <td>...</td>\n",
       "      <td>...</td>\n",
       "      <td>...</td>\n",
       "      <td>...</td>\n",
       "      <td>...</td>\n",
       "      <td>...</td>\n",
       "      <td>...</td>\n",
       "      <td>...</td>\n",
       "      <td>...</td>\n",
       "      <td>...</td>\n",
       "    </tr>\n",
       "    <tr>\n",
       "      <th>2288</th>\n",
       "      <td>1498</td>\n",
       "      <td>12</td>\n",
       "      <td>39.0</td>\n",
       "      <td>339.0</td>\n",
       "      <td>NaN</td>\n",
       "      <td>65.0</td>\n",
       "      <td>24000.0</td>\n",
       "      <td>51</td>\n",
       "      <td>new_york_newark_jersey_city,_ny_nj_pa_msa</td>\n",
       "      <td>surf</td>\n",
       "      <td>scot_williamson</td>\n",
       "      <td>NaN</td>\n",
       "      <td>0.0</td>\n",
       "    </tr>\n",
       "    <tr>\n",
       "      <th>2289</th>\n",
       "      <td>1499</td>\n",
       "      <td>9</td>\n",
       "      <td>41.0</td>\n",
       "      <td>346.0</td>\n",
       "      <td>NaN</td>\n",
       "      <td>45.0</td>\n",
       "      <td>13000.0</td>\n",
       "      <td>37</td>\n",
       "      <td>orlando_kissimmee_sanford,_fl_msa</td>\n",
       "      <td>surf</td>\n",
       "      <td>shena_dickson</td>\n",
       "      <td>NaN</td>\n",
       "      <td>0.0</td>\n",
       "    </tr>\n",
       "    <tr>\n",
       "      <th>2290</th>\n",
       "      <td>1499</td>\n",
       "      <td>10</td>\n",
       "      <td>53.0</td>\n",
       "      <td>385.0</td>\n",
       "      <td>NaN</td>\n",
       "      <td>61.0</td>\n",
       "      <td>20000.0</td>\n",
       "      <td>37</td>\n",
       "      <td>orlando_kissimmee_sanford,_fl_msa</td>\n",
       "      <td>surf</td>\n",
       "      <td>shena_dickson</td>\n",
       "      <td>NaN</td>\n",
       "      <td>0.0</td>\n",
       "    </tr>\n",
       "    <tr>\n",
       "      <th>2291</th>\n",
       "      <td>1499</td>\n",
       "      <td>11</td>\n",
       "      <td>45.0</td>\n",
       "      <td>308.0</td>\n",
       "      <td>NaN</td>\n",
       "      <td>49.0</td>\n",
       "      <td>17000.0</td>\n",
       "      <td>37</td>\n",
       "      <td>orlando_kissimmee_sanford,_fl_msa</td>\n",
       "      <td>surf</td>\n",
       "      <td>shena_dickson</td>\n",
       "      <td>NaN</td>\n",
       "      <td>0.0</td>\n",
       "    </tr>\n",
       "    <tr>\n",
       "      <th>2292</th>\n",
       "      <td>1499</td>\n",
       "      <td>12</td>\n",
       "      <td>65.0</td>\n",
       "      <td>496.0</td>\n",
       "      <td>NaN</td>\n",
       "      <td>65.0</td>\n",
       "      <td>23000.0</td>\n",
       "      <td>37</td>\n",
       "      <td>orlando_kissimmee_sanford,_fl_msa</td>\n",
       "      <td>surf</td>\n",
       "      <td>shena_dickson</td>\n",
       "      <td>NaN</td>\n",
       "      <td>0.0</td>\n",
       "    </tr>\n",
       "  </tbody>\n",
       "</table>\n",
       "<p>2293 rows × 13 columns</p>\n",
       "</div>"
      ],
      "text/plain": [
       "      user_id  month  total_month_calls  total_month_duration  total_month_messages  total_month_sessions  total_month_traffic  age  \\\n",
       "0        1000     12               16.0                 124.0                  11.0                   5.0               2000.0   45   \n",
       "1        1001      8               27.0                 182.0                  30.0                  25.0               7000.0   28   \n",
       "2        1001      9               49.0                 315.0                  44.0                  53.0              14000.0   28   \n",
       "3        1001     10               65.0                 393.0                  53.0                  56.0              23000.0   28   \n",
       "4        1001     11               64.0                 426.0                  36.0                  51.0              19000.0   28   \n",
       "...       ...    ...                ...                   ...                   ...                   ...                  ...  ...   \n",
       "2288     1498     12               39.0                 339.0                   NaN                  65.0              24000.0   51   \n",
       "2289     1499      9               41.0                 346.0                   NaN                  45.0              13000.0   37   \n",
       "2290     1499     10               53.0                 385.0                   NaN                  61.0              20000.0   37   \n",
       "2291     1499     11               45.0                 308.0                   NaN                  49.0              17000.0   37   \n",
       "2292     1499     12               65.0                 496.0                   NaN                  65.0              23000.0   37   \n",
       "\n",
       "                                           city      plan         full_name  churn_month  month_revenue_calls  \n",
       "0         atlanta_sandy_springs_roswell,_ga_msa  ultimate    anamaria_bauer          NaN                  0.0  \n",
       "1               seattle_tacoma_bellevue,_wa_msa      surf  mickey_wilkerson          NaN                  0.0  \n",
       "2               seattle_tacoma_bellevue,_wa_msa      surf  mickey_wilkerson          NaN                  0.0  \n",
       "3               seattle_tacoma_bellevue,_wa_msa      surf  mickey_wilkerson          NaN                  0.0  \n",
       "4               seattle_tacoma_bellevue,_wa_msa      surf  mickey_wilkerson          NaN                  0.0  \n",
       "...                                         ...       ...               ...          ...                  ...  \n",
       "2288  new_york_newark_jersey_city,_ny_nj_pa_msa      surf   scot_williamson          NaN                  0.0  \n",
       "2289          orlando_kissimmee_sanford,_fl_msa      surf     shena_dickson          NaN                  0.0  \n",
       "2290          orlando_kissimmee_sanford,_fl_msa      surf     shena_dickson          NaN                  0.0  \n",
       "2291          orlando_kissimmee_sanford,_fl_msa      surf     shena_dickson          NaN                  0.0  \n",
       "2292          orlando_kissimmee_sanford,_fl_msa      surf     shena_dickson          NaN                  0.0  \n",
       "\n",
       "[2293 rows x 13 columns]"
      ]
     },
     "execution_count": 58,
     "metadata": {},
     "output_type": "execute_result"
    }
   ],
   "source": [
    "df_revenue_month['month_revenue_calls'] = np.round(df_revenue_month.apply(lambda row: revenue(row, 'duration', 'total_month_duration'), axis=1), 3)\n",
    "df_revenue_month"
   ]
  },
  {
   "cell_type": "code",
   "execution_count": 59,
   "id": "ebb9a447",
   "metadata": {},
   "outputs": [
    {
     "data": {
      "application/vnd.microsoft.datawrangler.viewer.v0+json": {
       "columns": [
        {
         "name": "index",
         "rawType": "int64",
         "type": "integer"
        },
        {
         "name": "user_id",
         "rawType": "int64",
         "type": "integer"
        },
        {
         "name": "month",
         "rawType": "int32",
         "type": "integer"
        },
        {
         "name": "total_month_calls",
         "rawType": "float64",
         "type": "float"
        },
        {
         "name": "total_month_duration",
         "rawType": "float64",
         "type": "float"
        },
        {
         "name": "total_month_messages",
         "rawType": "float64",
         "type": "float"
        },
        {
         "name": "total_month_sessions",
         "rawType": "float64",
         "type": "float"
        },
        {
         "name": "total_month_traffic",
         "rawType": "float64",
         "type": "float"
        },
        {
         "name": "age",
         "rawType": "int64",
         "type": "integer"
        },
        {
         "name": "city",
         "rawType": "string",
         "type": "string"
        },
        {
         "name": "plan",
         "rawType": "category",
         "type": "unknown"
        },
        {
         "name": "full_name",
         "rawType": "string",
         "type": "string"
        },
        {
         "name": "churn_month",
         "rawType": "float64",
         "type": "float"
        },
        {
         "name": "month_revenue_calls",
         "rawType": "float64",
         "type": "float"
        },
        {
         "name": "month_revenue_messages",
         "rawType": "float64",
         "type": "float"
        }
       ],
       "ref": "ad7f51a8-7b93-45a8-a592-2e020a5f4dc6",
       "rows": [
        [
         "0",
         "1000",
         "12",
         "16.0",
         "124.0",
         "11.0",
         "5.0",
         "2000.0",
         "45",
         "atlanta_sandy_springs_roswell,_ga_msa",
         "ultimate",
         "anamaria_bauer",
         null,
         "0.0",
         "0.0"
        ],
        [
         "1",
         "1001",
         "8",
         "27.0",
         "182.0",
         "30.0",
         "25.0",
         "7000.0",
         "28",
         "seattle_tacoma_bellevue,_wa_msa",
         "surf",
         "mickey_wilkerson",
         null,
         "0.0",
         "0.0"
        ],
        [
         "2",
         "1001",
         "9",
         "49.0",
         "315.0",
         "44.0",
         "53.0",
         "14000.0",
         "28",
         "seattle_tacoma_bellevue,_wa_msa",
         "surf",
         "mickey_wilkerson",
         null,
         "0.0",
         "0.0"
        ],
        [
         "3",
         "1001",
         "10",
         "65.0",
         "393.0",
         "53.0",
         "56.0",
         "23000.0",
         "28",
         "seattle_tacoma_bellevue,_wa_msa",
         "surf",
         "mickey_wilkerson",
         null,
         "0.0",
         "0.09"
        ],
        [
         "4",
         "1001",
         "11",
         "64.0",
         "426.0",
         "36.0",
         "51.0",
         "19000.0",
         "28",
         "seattle_tacoma_bellevue,_wa_msa",
         "surf",
         "mickey_wilkerson",
         null,
         "0.0",
         "0.0"
        ],
        [
         "5",
         "1001",
         "12",
         "56.0",
         "412.0",
         "44.0",
         "60.0",
         "20000.0",
         "28",
         "seattle_tacoma_bellevue,_wa_msa",
         "surf",
         "mickey_wilkerson",
         null,
         "0.0",
         "0.0"
        ],
        [
         "6",
         "1002",
         "10",
         "11.0",
         "59.0",
         "15.0",
         "21.0",
         "7000.0",
         "36",
         "las_vegas_henderson_paradise,_nv_msa",
         "surf",
         "carlee_hoffman",
         null,
         "0.0",
         "0.0"
        ],
        [
         "7",
         "1002",
         "11",
         "55.0",
         "386.0",
         "32.0",
         "52.0",
         "20000.0",
         "36",
         "las_vegas_henderson_paradise,_nv_msa",
         "surf",
         "carlee_hoffman",
         null,
         "0.0",
         "0.0"
        ],
        [
         "8",
         "1002",
         "12",
         "47.0",
         "384.0",
         "41.0",
         "51.0",
         "15000.0",
         "36",
         "las_vegas_henderson_paradise,_nv_msa",
         "surf",
         "carlee_hoffman",
         null,
         "0.0",
         "0.0"
        ],
        [
         "9",
         "1003",
         "12",
         "149.0",
         "1104.0",
         "50.0",
         "52.0",
         "28000.0",
         "52",
         "tulsa,_ok_msa",
         "surf",
         "reynaldo_jenkins",
         null,
         "18.12",
         "0.0"
        ],
        [
         "10",
         "1004",
         "5",
         "21.0",
         "193.0",
         "7.0",
         "17.0",
         "7000.0",
         "40",
         "seattle_tacoma_bellevue,_wa_msa",
         "surf",
         "leonila_thompson",
         null,
         "0.0",
         "0.0"
        ],
        [
         "11",
         "1004",
         "6",
         "44.0",
         "275.0",
         "18.0",
         "73.0",
         "21000.0",
         "40",
         "seattle_tacoma_bellevue,_wa_msa",
         "surf",
         "leonila_thompson",
         null,
         "0.0",
         "0.0"
        ],
        [
         "12",
         "1004",
         "7",
         "49.0",
         "381.0",
         "26.0",
         "69.0",
         "25000.0",
         "40",
         "seattle_tacoma_bellevue,_wa_msa",
         "surf",
         "leonila_thompson",
         null,
         "0.0",
         "0.0"
        ],
        [
         "13",
         "1004",
         "8",
         "49.0",
         "354.0",
         "25.0",
         "72.0",
         "28000.0",
         "40",
         "seattle_tacoma_bellevue,_wa_msa",
         "surf",
         "leonila_thompson",
         null,
         "0.0",
         "0.0"
        ],
        [
         "14",
         "1004",
         "9",
         "42.0",
         "301.0",
         "21.0",
         "56.0",
         "19000.0",
         "40",
         "seattle_tacoma_bellevue,_wa_msa",
         "surf",
         "leonila_thompson",
         null,
         "0.0",
         "0.0"
        ],
        [
         "15",
         "1004",
         "10",
         "61.0",
         "365.0",
         "24.0",
         "51.0",
         "15000.0",
         "40",
         "seattle_tacoma_bellevue,_wa_msa",
         "surf",
         "leonila_thompson",
         null,
         "0.0",
         "0.0"
        ],
        [
         "16",
         "1004",
         "11",
         "54.0",
         "476.0",
         "25.0",
         "69.0",
         "22000.0",
         "40",
         "seattle_tacoma_bellevue,_wa_msa",
         "surf",
         "leonila_thompson",
         null,
         "0.0",
         "0.0"
        ],
        [
         "17",
         "1004",
         "12",
         "50.0",
         "427.0",
         "31.0",
         "53.0",
         "22000.0",
         "40",
         "seattle_tacoma_bellevue,_wa_msa",
         "surf",
         "leonila_thompson",
         null,
         "0.0",
         "0.0"
        ],
        [
         "18",
         "1005",
         "12",
         "59.0",
         "496.0",
         "11.0",
         "60.0",
         "18000.0",
         "31",
         "dallas_fort_worth_arlington,_tx_msa",
         "surf",
         "livia_shields",
         null,
         "0.0",
         "0.0"
        ],
        [
         "19",
         "1006",
         "11",
         "2.0",
         "10.0",
         "15.0",
         "7.0",
         "3000.0",
         "73",
         "san_francisco_oakland_berkeley,_ca_msa",
         "ultimate",
         "jesusa_bradford",
         "12.0",
         "0.0",
         "0.0"
        ],
        [
         "20",
         "1006",
         "12",
         "9.0",
         "59.0",
         "139.0",
         "63.0",
         "33000.0",
         "73",
         "san_francisco_oakland_berkeley,_ca_msa",
         "ultimate",
         "jesusa_bradford",
         "12.0",
         "0.0",
         "0.0"
        ],
        [
         "21",
         "1007",
         "8",
         "70.0",
         "456.0",
         "51.0",
         "45.0",
         "25000.0",
         "42",
         "grand_rapids_kentwood,_mi_msa",
         "surf",
         "eusebio_welch",
         null,
         "0.0",
         "0.03"
        ],
        [
         "22",
         "1007",
         "9",
         "63.0",
         "399.0",
         "47.0",
         "52.0",
         "29000.0",
         "42",
         "grand_rapids_kentwood,_mi_msa",
         "surf",
         "eusebio_welch",
         null,
         "0.0",
         "0.0"
        ],
        [
         "23",
         "1007",
         "10",
         "80.0",
         "645.0",
         "59.0",
         "65.0",
         "38000.0",
         "42",
         "grand_rapids_kentwood,_mi_msa",
         "surf",
         "eusebio_welch",
         null,
         "4.35",
         "0.27"
        ],
        [
         "24",
         "1007",
         "11",
         "80.0",
         "524.0",
         "48.0",
         "50.0",
         "25000.0",
         "42",
         "grand_rapids_kentwood,_mi_msa",
         "surf",
         "eusebio_welch",
         null,
         "0.72",
         "0.0"
        ],
        [
         "25",
         "1007",
         "12",
         "87.0",
         "617.0",
         "50.0",
         "61.0",
         "30000.0",
         "42",
         "grand_rapids_kentwood,_mi_msa",
         "surf",
         "eusebio_welch",
         null,
         "3.51",
         "0.0"
        ],
        [
         "26",
         "1008",
         "10",
         "71.0",
         "476.0",
         "21.0",
         "57.0",
         "18000.0",
         "53",
         "orlando_kissimmee_sanford,_fl_msa",
         "ultimate",
         "emely_hoffman",
         null,
         "0.0",
         "0.0"
        ],
        [
         "27",
         "1008",
         "11",
         "63.0",
         "446.0",
         "37.0",
         "72.0",
         "24000.0",
         "53",
         "orlando_kissimmee_sanford,_fl_msa",
         "ultimate",
         "emely_hoffman",
         null,
         "0.0",
         "0.0"
        ],
        [
         "28",
         "1008",
         "12",
         "85.0",
         "634.0",
         "26.0",
         "47.0",
         "15000.0",
         "53",
         "orlando_kissimmee_sanford,_fl_msa",
         "ultimate",
         "emely_hoffman",
         null,
         "0.0",
         "0.0"
        ],
        [
         "29",
         "1009",
         "5",
         "71.0",
         "534.0",
         null,
         "43.0",
         "21000.0",
         "19",
         "san_jose_sunnyvale_santa_clara,_ca_msa",
         "surf",
         "gerry_little",
         null,
         "1.02",
         "0.0"
        ],
        [
         "30",
         "1009",
         "6",
         "110.0",
         "823.0",
         null,
         "38.0",
         "19000.0",
         "19",
         "san_jose_sunnyvale_santa_clara,_ca_msa",
         "surf",
         "gerry_little",
         null,
         "9.69",
         "0.0"
        ],
        [
         "31",
         "1009",
         "7",
         "124.0",
         "880.0",
         null,
         "60.0",
         "31000.0",
         "19",
         "san_jose_sunnyvale_santa_clara,_ca_msa",
         "surf",
         "gerry_little",
         null,
         "11.4",
         "0.0"
        ],
        [
         "32",
         "1009",
         "8",
         "109.0",
         "731.0",
         null,
         "51.0",
         "25000.0",
         "19",
         "san_jose_sunnyvale_santa_clara,_ca_msa",
         "surf",
         "gerry_little",
         null,
         "6.93",
         "0.0"
        ],
        [
         "33",
         "1009",
         "9",
         "116.0",
         "776.0",
         null,
         "50.0",
         "21000.0",
         "19",
         "san_jose_sunnyvale_santa_clara,_ca_msa",
         "surf",
         "gerry_little",
         null,
         "8.28",
         "0.0"
        ],
        [
         "34",
         "1009",
         "10",
         "114.0",
         "740.0",
         null,
         "47.0",
         "23000.0",
         "19",
         "san_jose_sunnyvale_santa_clara,_ca_msa",
         "surf",
         "gerry_little",
         null,
         "7.2",
         "0.0"
        ],
        [
         "35",
         "1009",
         "11",
         "105.0",
         "714.0",
         null,
         "47.0",
         "26000.0",
         "19",
         "san_jose_sunnyvale_santa_clara,_ca_msa",
         "surf",
         "gerry_little",
         null,
         "6.42",
         "0.0"
        ],
        [
         "36",
         "1009",
         "12",
         "107.0",
         "756.0",
         null,
         "50.0",
         "24000.0",
         "19",
         "san_jose_sunnyvale_santa_clara,_ca_msa",
         "surf",
         "gerry_little",
         null,
         "7.68",
         "0.0"
        ],
        [
         "37",
         "1010",
         "3",
         "63.0",
         "429.0",
         null,
         "37.0",
         "11000.0",
         "52",
         "dallas_fort_worth_arlington,_tx_msa",
         "surf",
         "wilber_blair",
         null,
         "0.0",
         "0.0"
        ],
        [
         "38",
         "1010",
         "4",
         "90.0",
         "656.0",
         null,
         "58.0",
         "20000.0",
         "52",
         "dallas_fort_worth_arlington,_tx_msa",
         "surf",
         "wilber_blair",
         null,
         "4.68",
         "0.0"
        ],
        [
         "39",
         "1010",
         "5",
         "81.0",
         "532.0",
         null,
         "56.0",
         "16000.0",
         "52",
         "dallas_fort_worth_arlington,_tx_msa",
         "surf",
         "wilber_blair",
         null,
         "0.96",
         "0.0"
        ],
        [
         "40",
         "1010",
         "6",
         "77.0",
         "553.0",
         null,
         "49.0",
         "17000.0",
         "52",
         "dallas_fort_worth_arlington,_tx_msa",
         "surf",
         "wilber_blair",
         null,
         "1.59",
         "0.0"
        ],
        [
         "41",
         "1010",
         "7",
         "101.0",
         "698.0",
         null,
         "37.0",
         "13000.0",
         "52",
         "dallas_fort_worth_arlington,_tx_msa",
         "surf",
         "wilber_blair",
         null,
         "5.94",
         "0.0"
        ],
        [
         "42",
         "1010",
         "8",
         "93.0",
         "637.0",
         null,
         "51.0",
         "20000.0",
         "52",
         "dallas_fort_worth_arlington,_tx_msa",
         "surf",
         "wilber_blair",
         null,
         "4.11",
         "0.0"
        ],
        [
         "43",
         "1010",
         "9",
         "83.0",
         "601.0",
         null,
         "50.0",
         "17000.0",
         "52",
         "dallas_fort_worth_arlington,_tx_msa",
         "surf",
         "wilber_blair",
         null,
         "3.03",
         "0.0"
        ],
        [
         "44",
         "1010",
         "10",
         "95.0",
         "711.0",
         null,
         "50.0",
         "17000.0",
         "52",
         "dallas_fort_worth_arlington,_tx_msa",
         "surf",
         "wilber_blair",
         null,
         "6.33",
         "0.0"
        ],
        [
         "45",
         "1010",
         "11",
         "30.0",
         "258.0",
         null,
         "21.0",
         "8000.0",
         "52",
         "dallas_fort_worth_arlington,_tx_msa",
         "surf",
         "wilber_blair",
         null,
         "0.0",
         "0.0"
        ],
        [
         "46",
         "1011",
         "6",
         "19.0",
         "118.0",
         "21.0",
         "25.0",
         "7000.0",
         "73",
         "cleveland_elyria,_oh_msa",
         "ultimate",
         "halina_henry",
         null,
         "0.0",
         "0.0"
        ],
        [
         "47",
         "1011",
         "7",
         "63.0",
         "499.0",
         "53.0",
         "70.0",
         "22000.0",
         "73",
         "cleveland_elyria,_oh_msa",
         "ultimate",
         "halina_henry",
         null,
         "0.0",
         "0.0"
        ],
        [
         "48",
         "1011",
         "8",
         "61.0",
         "486.0",
         "54.0",
         "64.0",
         "22000.0",
         "73",
         "cleveland_elyria,_oh_msa",
         "ultimate",
         "halina_henry",
         null,
         "0.0",
         "0.0"
        ],
        [
         "49",
         "1011",
         "9",
         "73.0",
         "484.0",
         "60.0",
         "58.0",
         "17000.0",
         "73",
         "cleveland_elyria,_oh_msa",
         "ultimate",
         "halina_henry",
         null,
         "0.0",
         "0.0"
        ]
       ],
       "shape": {
        "columns": 14,
        "rows": 2293
       }
      },
      "text/html": [
       "<div>\n",
       "<style scoped>\n",
       "    .dataframe tbody tr th:only-of-type {\n",
       "        vertical-align: middle;\n",
       "    }\n",
       "\n",
       "    .dataframe tbody tr th {\n",
       "        vertical-align: top;\n",
       "    }\n",
       "\n",
       "    .dataframe thead th {\n",
       "        text-align: right;\n",
       "    }\n",
       "</style>\n",
       "<table border=\"1\" class=\"dataframe\">\n",
       "  <thead>\n",
       "    <tr style=\"text-align: right;\">\n",
       "      <th></th>\n",
       "      <th>user_id</th>\n",
       "      <th>month</th>\n",
       "      <th>total_month_calls</th>\n",
       "      <th>total_month_duration</th>\n",
       "      <th>total_month_messages</th>\n",
       "      <th>total_month_sessions</th>\n",
       "      <th>total_month_traffic</th>\n",
       "      <th>age</th>\n",
       "      <th>city</th>\n",
       "      <th>plan</th>\n",
       "      <th>full_name</th>\n",
       "      <th>churn_month</th>\n",
       "      <th>month_revenue_calls</th>\n",
       "      <th>month_revenue_messages</th>\n",
       "    </tr>\n",
       "  </thead>\n",
       "  <tbody>\n",
       "    <tr>\n",
       "      <th>0</th>\n",
       "      <td>1000</td>\n",
       "      <td>12</td>\n",
       "      <td>16.0</td>\n",
       "      <td>124.0</td>\n",
       "      <td>11.0</td>\n",
       "      <td>5.0</td>\n",
       "      <td>2000.0</td>\n",
       "      <td>45</td>\n",
       "      <td>atlanta_sandy_springs_roswell,_ga_msa</td>\n",
       "      <td>ultimate</td>\n",
       "      <td>anamaria_bauer</td>\n",
       "      <td>NaN</td>\n",
       "      <td>0.0</td>\n",
       "      <td>0.00</td>\n",
       "    </tr>\n",
       "    <tr>\n",
       "      <th>1</th>\n",
       "      <td>1001</td>\n",
       "      <td>8</td>\n",
       "      <td>27.0</td>\n",
       "      <td>182.0</td>\n",
       "      <td>30.0</td>\n",
       "      <td>25.0</td>\n",
       "      <td>7000.0</td>\n",
       "      <td>28</td>\n",
       "      <td>seattle_tacoma_bellevue,_wa_msa</td>\n",
       "      <td>surf</td>\n",
       "      <td>mickey_wilkerson</td>\n",
       "      <td>NaN</td>\n",
       "      <td>0.0</td>\n",
       "      <td>0.00</td>\n",
       "    </tr>\n",
       "    <tr>\n",
       "      <th>2</th>\n",
       "      <td>1001</td>\n",
       "      <td>9</td>\n",
       "      <td>49.0</td>\n",
       "      <td>315.0</td>\n",
       "      <td>44.0</td>\n",
       "      <td>53.0</td>\n",
       "      <td>14000.0</td>\n",
       "      <td>28</td>\n",
       "      <td>seattle_tacoma_bellevue,_wa_msa</td>\n",
       "      <td>surf</td>\n",
       "      <td>mickey_wilkerson</td>\n",
       "      <td>NaN</td>\n",
       "      <td>0.0</td>\n",
       "      <td>0.00</td>\n",
       "    </tr>\n",
       "    <tr>\n",
       "      <th>3</th>\n",
       "      <td>1001</td>\n",
       "      <td>10</td>\n",
       "      <td>65.0</td>\n",
       "      <td>393.0</td>\n",
       "      <td>53.0</td>\n",
       "      <td>56.0</td>\n",
       "      <td>23000.0</td>\n",
       "      <td>28</td>\n",
       "      <td>seattle_tacoma_bellevue,_wa_msa</td>\n",
       "      <td>surf</td>\n",
       "      <td>mickey_wilkerson</td>\n",
       "      <td>NaN</td>\n",
       "      <td>0.0</td>\n",
       "      <td>0.09</td>\n",
       "    </tr>\n",
       "    <tr>\n",
       "      <th>4</th>\n",
       "      <td>1001</td>\n",
       "      <td>11</td>\n",
       "      <td>64.0</td>\n",
       "      <td>426.0</td>\n",
       "      <td>36.0</td>\n",
       "      <td>51.0</td>\n",
       "      <td>19000.0</td>\n",
       "      <td>28</td>\n",
       "      <td>seattle_tacoma_bellevue,_wa_msa</td>\n",
       "      <td>surf</td>\n",
       "      <td>mickey_wilkerson</td>\n",
       "      <td>NaN</td>\n",
       "      <td>0.0</td>\n",
       "      <td>0.00</td>\n",
       "    </tr>\n",
       "    <tr>\n",
       "      <th>...</th>\n",
       "      <td>...</td>\n",
       "      <td>...</td>\n",
       "      <td>...</td>\n",
       "      <td>...</td>\n",
       "      <td>...</td>\n",
       "      <td>...</td>\n",
       "      <td>...</td>\n",
       "      <td>...</td>\n",
       "      <td>...</td>\n",
       "      <td>...</td>\n",
       "      <td>...</td>\n",
       "      <td>...</td>\n",
       "      <td>...</td>\n",
       "      <td>...</td>\n",
       "    </tr>\n",
       "    <tr>\n",
       "      <th>2288</th>\n",
       "      <td>1498</td>\n",
       "      <td>12</td>\n",
       "      <td>39.0</td>\n",
       "      <td>339.0</td>\n",
       "      <td>NaN</td>\n",
       "      <td>65.0</td>\n",
       "      <td>24000.0</td>\n",
       "      <td>51</td>\n",
       "      <td>new_york_newark_jersey_city,_ny_nj_pa_msa</td>\n",
       "      <td>surf</td>\n",
       "      <td>scot_williamson</td>\n",
       "      <td>NaN</td>\n",
       "      <td>0.0</td>\n",
       "      <td>0.00</td>\n",
       "    </tr>\n",
       "    <tr>\n",
       "      <th>2289</th>\n",
       "      <td>1499</td>\n",
       "      <td>9</td>\n",
       "      <td>41.0</td>\n",
       "      <td>346.0</td>\n",
       "      <td>NaN</td>\n",
       "      <td>45.0</td>\n",
       "      <td>13000.0</td>\n",
       "      <td>37</td>\n",
       "      <td>orlando_kissimmee_sanford,_fl_msa</td>\n",
       "      <td>surf</td>\n",
       "      <td>shena_dickson</td>\n",
       "      <td>NaN</td>\n",
       "      <td>0.0</td>\n",
       "      <td>0.00</td>\n",
       "    </tr>\n",
       "    <tr>\n",
       "      <th>2290</th>\n",
       "      <td>1499</td>\n",
       "      <td>10</td>\n",
       "      <td>53.0</td>\n",
       "      <td>385.0</td>\n",
       "      <td>NaN</td>\n",
       "      <td>61.0</td>\n",
       "      <td>20000.0</td>\n",
       "      <td>37</td>\n",
       "      <td>orlando_kissimmee_sanford,_fl_msa</td>\n",
       "      <td>surf</td>\n",
       "      <td>shena_dickson</td>\n",
       "      <td>NaN</td>\n",
       "      <td>0.0</td>\n",
       "      <td>0.00</td>\n",
       "    </tr>\n",
       "    <tr>\n",
       "      <th>2291</th>\n",
       "      <td>1499</td>\n",
       "      <td>11</td>\n",
       "      <td>45.0</td>\n",
       "      <td>308.0</td>\n",
       "      <td>NaN</td>\n",
       "      <td>49.0</td>\n",
       "      <td>17000.0</td>\n",
       "      <td>37</td>\n",
       "      <td>orlando_kissimmee_sanford,_fl_msa</td>\n",
       "      <td>surf</td>\n",
       "      <td>shena_dickson</td>\n",
       "      <td>NaN</td>\n",
       "      <td>0.0</td>\n",
       "      <td>0.00</td>\n",
       "    </tr>\n",
       "    <tr>\n",
       "      <th>2292</th>\n",
       "      <td>1499</td>\n",
       "      <td>12</td>\n",
       "      <td>65.0</td>\n",
       "      <td>496.0</td>\n",
       "      <td>NaN</td>\n",
       "      <td>65.0</td>\n",
       "      <td>23000.0</td>\n",
       "      <td>37</td>\n",
       "      <td>orlando_kissimmee_sanford,_fl_msa</td>\n",
       "      <td>surf</td>\n",
       "      <td>shena_dickson</td>\n",
       "      <td>NaN</td>\n",
       "      <td>0.0</td>\n",
       "      <td>0.00</td>\n",
       "    </tr>\n",
       "  </tbody>\n",
       "</table>\n",
       "<p>2293 rows × 14 columns</p>\n",
       "</div>"
      ],
      "text/plain": [
       "      user_id  month  total_month_calls  total_month_duration  total_month_messages  total_month_sessions  total_month_traffic  age  \\\n",
       "0        1000     12               16.0                 124.0                  11.0                   5.0               2000.0   45   \n",
       "1        1001      8               27.0                 182.0                  30.0                  25.0               7000.0   28   \n",
       "2        1001      9               49.0                 315.0                  44.0                  53.0              14000.0   28   \n",
       "3        1001     10               65.0                 393.0                  53.0                  56.0              23000.0   28   \n",
       "4        1001     11               64.0                 426.0                  36.0                  51.0              19000.0   28   \n",
       "...       ...    ...                ...                   ...                   ...                   ...                  ...  ...   \n",
       "2288     1498     12               39.0                 339.0                   NaN                  65.0              24000.0   51   \n",
       "2289     1499      9               41.0                 346.0                   NaN                  45.0              13000.0   37   \n",
       "2290     1499     10               53.0                 385.0                   NaN                  61.0              20000.0   37   \n",
       "2291     1499     11               45.0                 308.0                   NaN                  49.0              17000.0   37   \n",
       "2292     1499     12               65.0                 496.0                   NaN                  65.0              23000.0   37   \n",
       "\n",
       "                                           city      plan         full_name  churn_month  month_revenue_calls  month_revenue_messages  \n",
       "0         atlanta_sandy_springs_roswell,_ga_msa  ultimate    anamaria_bauer          NaN                  0.0                    0.00  \n",
       "1               seattle_tacoma_bellevue,_wa_msa      surf  mickey_wilkerson          NaN                  0.0                    0.00  \n",
       "2               seattle_tacoma_bellevue,_wa_msa      surf  mickey_wilkerson          NaN                  0.0                    0.00  \n",
       "3               seattle_tacoma_bellevue,_wa_msa      surf  mickey_wilkerson          NaN                  0.0                    0.09  \n",
       "4               seattle_tacoma_bellevue,_wa_msa      surf  mickey_wilkerson          NaN                  0.0                    0.00  \n",
       "...                                         ...       ...               ...          ...                  ...                     ...  \n",
       "2288  new_york_newark_jersey_city,_ny_nj_pa_msa      surf   scot_williamson          NaN                  0.0                    0.00  \n",
       "2289          orlando_kissimmee_sanford,_fl_msa      surf     shena_dickson          NaN                  0.0                    0.00  \n",
       "2290          orlando_kissimmee_sanford,_fl_msa      surf     shena_dickson          NaN                  0.0                    0.00  \n",
       "2291          orlando_kissimmee_sanford,_fl_msa      surf     shena_dickson          NaN                  0.0                    0.00  \n",
       "2292          orlando_kissimmee_sanford,_fl_msa      surf     shena_dickson          NaN                  0.0                    0.00  \n",
       "\n",
       "[2293 rows x 14 columns]"
      ]
     },
     "execution_count": 59,
     "metadata": {},
     "output_type": "execute_result"
    }
   ],
   "source": [
    "df_revenue_month['month_revenue_messages'] = np.round(df_revenue_month.apply(lambda row: revenue(row, 'messages', 'total_month_messages'), axis=1), 3)\n",
    "df_revenue_month"
   ]
  },
  {
   "cell_type": "code",
   "execution_count": 60,
   "id": "fb933471",
   "metadata": {},
   "outputs": [
    {
     "data": {
      "application/vnd.microsoft.datawrangler.viewer.v0+json": {
       "columns": [
        {
         "name": "index",
         "rawType": "int64",
         "type": "integer"
        },
        {
         "name": "user_id",
         "rawType": "int64",
         "type": "integer"
        },
        {
         "name": "month",
         "rawType": "int32",
         "type": "integer"
        },
        {
         "name": "total_month_calls",
         "rawType": "float64",
         "type": "float"
        },
        {
         "name": "total_month_duration",
         "rawType": "float64",
         "type": "float"
        },
        {
         "name": "total_month_messages",
         "rawType": "float64",
         "type": "float"
        },
        {
         "name": "total_month_sessions",
         "rawType": "float64",
         "type": "float"
        },
        {
         "name": "total_month_traffic",
         "rawType": "float64",
         "type": "float"
        },
        {
         "name": "age",
         "rawType": "int64",
         "type": "integer"
        },
        {
         "name": "city",
         "rawType": "string",
         "type": "string"
        },
        {
         "name": "plan",
         "rawType": "category",
         "type": "unknown"
        },
        {
         "name": "full_name",
         "rawType": "string",
         "type": "string"
        },
        {
         "name": "churn_month",
         "rawType": "float64",
         "type": "float"
        },
        {
         "name": "month_revenue_calls",
         "rawType": "float64",
         "type": "float"
        },
        {
         "name": "month_revenue_messages",
         "rawType": "float64",
         "type": "float"
        },
        {
         "name": "month_revenue_internet",
         "rawType": "float64",
         "type": "float"
        }
       ],
       "ref": "5f7115bd-9fec-4f41-9e42-e284003dec94",
       "rows": [
        [
         "0",
         "1000",
         "12",
         "16.0",
         "124.0",
         "11.0",
         "5.0",
         "2000.0",
         "45",
         "atlanta_sandy_springs_roswell,_ga_msa",
         "ultimate",
         "anamaria_bauer",
         null,
         "0.0",
         "0.0",
         "0.0"
        ],
        [
         "1",
         "1001",
         "8",
         "27.0",
         "182.0",
         "30.0",
         "25.0",
         "7000.0",
         "28",
         "seattle_tacoma_bellevue,_wa_msa",
         "surf",
         "mickey_wilkerson",
         null,
         "0.0",
         "0.0",
         "0.0"
        ],
        [
         "2",
         "1001",
         "9",
         "49.0",
         "315.0",
         "44.0",
         "53.0",
         "14000.0",
         "28",
         "seattle_tacoma_bellevue,_wa_msa",
         "surf",
         "mickey_wilkerson",
         null,
         "0.0",
         "0.0",
         "0.0"
        ],
        [
         "3",
         "1001",
         "10",
         "65.0",
         "393.0",
         "53.0",
         "56.0",
         "23000.0",
         "28",
         "seattle_tacoma_bellevue,_wa_msa",
         "surf",
         "mickey_wilkerson",
         null,
         "0.0",
         "0.09",
         "76.4"
        ],
        [
         "4",
         "1001",
         "11",
         "64.0",
         "426.0",
         "36.0",
         "51.0",
         "19000.0",
         "28",
         "seattle_tacoma_bellevue,_wa_msa",
         "surf",
         "mickey_wilkerson",
         null,
         "0.0",
         "0.0",
         "36.4"
        ],
        [
         "5",
         "1001",
         "12",
         "56.0",
         "412.0",
         "44.0",
         "60.0",
         "20000.0",
         "28",
         "seattle_tacoma_bellevue,_wa_msa",
         "surf",
         "mickey_wilkerson",
         null,
         "0.0",
         "0.0",
         "46.4"
        ],
        [
         "6",
         "1002",
         "10",
         "11.0",
         "59.0",
         "15.0",
         "21.0",
         "7000.0",
         "36",
         "las_vegas_henderson_paradise,_nv_msa",
         "surf",
         "carlee_hoffman",
         null,
         "0.0",
         "0.0",
         "0.0"
        ],
        [
         "7",
         "1002",
         "11",
         "55.0",
         "386.0",
         "32.0",
         "52.0",
         "20000.0",
         "36",
         "las_vegas_henderson_paradise,_nv_msa",
         "surf",
         "carlee_hoffman",
         null,
         "0.0",
         "0.0",
         "46.4"
        ],
        [
         "8",
         "1002",
         "12",
         "47.0",
         "384.0",
         "41.0",
         "51.0",
         "15000.0",
         "36",
         "las_vegas_henderson_paradise,_nv_msa",
         "surf",
         "carlee_hoffman",
         null,
         "0.0",
         "0.0",
         "0.0"
        ],
        [
         "9",
         "1003",
         "12",
         "149.0",
         "1104.0",
         "50.0",
         "52.0",
         "28000.0",
         "52",
         "tulsa,_ok_msa",
         "surf",
         "reynaldo_jenkins",
         null,
         "18.12",
         "0.0",
         "126.4"
        ],
        [
         "10",
         "1004",
         "5",
         "21.0",
         "193.0",
         "7.0",
         "17.0",
         "7000.0",
         "40",
         "seattle_tacoma_bellevue,_wa_msa",
         "surf",
         "leonila_thompson",
         null,
         "0.0",
         "0.0",
         "0.0"
        ],
        [
         "11",
         "1004",
         "6",
         "44.0",
         "275.0",
         "18.0",
         "73.0",
         "21000.0",
         "40",
         "seattle_tacoma_bellevue,_wa_msa",
         "surf",
         "leonila_thompson",
         null,
         "0.0",
         "0.0",
         "56.4"
        ],
        [
         "12",
         "1004",
         "7",
         "49.0",
         "381.0",
         "26.0",
         "69.0",
         "25000.0",
         "40",
         "seattle_tacoma_bellevue,_wa_msa",
         "surf",
         "leonila_thompson",
         null,
         "0.0",
         "0.0",
         "96.4"
        ],
        [
         "13",
         "1004",
         "8",
         "49.0",
         "354.0",
         "25.0",
         "72.0",
         "28000.0",
         "40",
         "seattle_tacoma_bellevue,_wa_msa",
         "surf",
         "leonila_thompson",
         null,
         "0.0",
         "0.0",
         "126.4"
        ],
        [
         "14",
         "1004",
         "9",
         "42.0",
         "301.0",
         "21.0",
         "56.0",
         "19000.0",
         "40",
         "seattle_tacoma_bellevue,_wa_msa",
         "surf",
         "leonila_thompson",
         null,
         "0.0",
         "0.0",
         "36.4"
        ],
        [
         "15",
         "1004",
         "10",
         "61.0",
         "365.0",
         "24.0",
         "51.0",
         "15000.0",
         "40",
         "seattle_tacoma_bellevue,_wa_msa",
         "surf",
         "leonila_thompson",
         null,
         "0.0",
         "0.0",
         "0.0"
        ],
        [
         "16",
         "1004",
         "11",
         "54.0",
         "476.0",
         "25.0",
         "69.0",
         "22000.0",
         "40",
         "seattle_tacoma_bellevue,_wa_msa",
         "surf",
         "leonila_thompson",
         null,
         "0.0",
         "0.0",
         "66.4"
        ],
        [
         "17",
         "1004",
         "12",
         "50.0",
         "427.0",
         "31.0",
         "53.0",
         "22000.0",
         "40",
         "seattle_tacoma_bellevue,_wa_msa",
         "surf",
         "leonila_thompson",
         null,
         "0.0",
         "0.0",
         "66.4"
        ],
        [
         "18",
         "1005",
         "12",
         "59.0",
         "496.0",
         "11.0",
         "60.0",
         "18000.0",
         "31",
         "dallas_fort_worth_arlington,_tx_msa",
         "surf",
         "livia_shields",
         null,
         "0.0",
         "0.0",
         "26.4"
        ],
        [
         "19",
         "1006",
         "11",
         "2.0",
         "10.0",
         "15.0",
         "7.0",
         "3000.0",
         "73",
         "san_francisco_oakland_berkeley,_ca_msa",
         "ultimate",
         "jesusa_bradford",
         "12.0",
         "0.0",
         "0.0",
         "0.0"
        ],
        [
         "20",
         "1006",
         "12",
         "9.0",
         "59.0",
         "139.0",
         "63.0",
         "33000.0",
         "73",
         "san_francisco_oakland_berkeley,_ca_msa",
         "ultimate",
         "jesusa_bradford",
         "12.0",
         "0.0",
         "0.0",
         "15.96"
        ],
        [
         "21",
         "1007",
         "8",
         "70.0",
         "456.0",
         "51.0",
         "45.0",
         "25000.0",
         "42",
         "grand_rapids_kentwood,_mi_msa",
         "surf",
         "eusebio_welch",
         null,
         "0.0",
         "0.03",
         "96.4"
        ],
        [
         "22",
         "1007",
         "9",
         "63.0",
         "399.0",
         "47.0",
         "52.0",
         "29000.0",
         "42",
         "grand_rapids_kentwood,_mi_msa",
         "surf",
         "eusebio_welch",
         null,
         "0.0",
         "0.0",
         "136.4"
        ],
        [
         "23",
         "1007",
         "10",
         "80.0",
         "645.0",
         "59.0",
         "65.0",
         "38000.0",
         "42",
         "grand_rapids_kentwood,_mi_msa",
         "surf",
         "eusebio_welch",
         null,
         "4.35",
         "0.27",
         "226.4"
        ],
        [
         "24",
         "1007",
         "11",
         "80.0",
         "524.0",
         "48.0",
         "50.0",
         "25000.0",
         "42",
         "grand_rapids_kentwood,_mi_msa",
         "surf",
         "eusebio_welch",
         null,
         "0.72",
         "0.0",
         "96.4"
        ],
        [
         "25",
         "1007",
         "12",
         "87.0",
         "617.0",
         "50.0",
         "61.0",
         "30000.0",
         "42",
         "grand_rapids_kentwood,_mi_msa",
         "surf",
         "eusebio_welch",
         null,
         "3.51",
         "0.0",
         "146.4"
        ],
        [
         "26",
         "1008",
         "10",
         "71.0",
         "476.0",
         "21.0",
         "57.0",
         "18000.0",
         "53",
         "orlando_kissimmee_sanford,_fl_msa",
         "ultimate",
         "emely_hoffman",
         null,
         "0.0",
         "0.0",
         "0.0"
        ],
        [
         "27",
         "1008",
         "11",
         "63.0",
         "446.0",
         "37.0",
         "72.0",
         "24000.0",
         "53",
         "orlando_kissimmee_sanford,_fl_msa",
         "ultimate",
         "emely_hoffman",
         null,
         "0.0",
         "0.0",
         "0.0"
        ],
        [
         "28",
         "1008",
         "12",
         "85.0",
         "634.0",
         "26.0",
         "47.0",
         "15000.0",
         "53",
         "orlando_kissimmee_sanford,_fl_msa",
         "ultimate",
         "emely_hoffman",
         null,
         "0.0",
         "0.0",
         "0.0"
        ],
        [
         "29",
         "1009",
         "5",
         "71.0",
         "534.0",
         null,
         "43.0",
         "21000.0",
         "19",
         "san_jose_sunnyvale_santa_clara,_ca_msa",
         "surf",
         "gerry_little",
         null,
         "1.02",
         "0.0",
         "56.4"
        ],
        [
         "30",
         "1009",
         "6",
         "110.0",
         "823.0",
         null,
         "38.0",
         "19000.0",
         "19",
         "san_jose_sunnyvale_santa_clara,_ca_msa",
         "surf",
         "gerry_little",
         null,
         "9.69",
         "0.0",
         "36.4"
        ],
        [
         "31",
         "1009",
         "7",
         "124.0",
         "880.0",
         null,
         "60.0",
         "31000.0",
         "19",
         "san_jose_sunnyvale_santa_clara,_ca_msa",
         "surf",
         "gerry_little",
         null,
         "11.4",
         "0.0",
         "156.4"
        ],
        [
         "32",
         "1009",
         "8",
         "109.0",
         "731.0",
         null,
         "51.0",
         "25000.0",
         "19",
         "san_jose_sunnyvale_santa_clara,_ca_msa",
         "surf",
         "gerry_little",
         null,
         "6.93",
         "0.0",
         "96.4"
        ],
        [
         "33",
         "1009",
         "9",
         "116.0",
         "776.0",
         null,
         "50.0",
         "21000.0",
         "19",
         "san_jose_sunnyvale_santa_clara,_ca_msa",
         "surf",
         "gerry_little",
         null,
         "8.28",
         "0.0",
         "56.4"
        ],
        [
         "34",
         "1009",
         "10",
         "114.0",
         "740.0",
         null,
         "47.0",
         "23000.0",
         "19",
         "san_jose_sunnyvale_santa_clara,_ca_msa",
         "surf",
         "gerry_little",
         null,
         "7.2",
         "0.0",
         "76.4"
        ],
        [
         "35",
         "1009",
         "11",
         "105.0",
         "714.0",
         null,
         "47.0",
         "26000.0",
         "19",
         "san_jose_sunnyvale_santa_clara,_ca_msa",
         "surf",
         "gerry_little",
         null,
         "6.42",
         "0.0",
         "106.4"
        ],
        [
         "36",
         "1009",
         "12",
         "107.0",
         "756.0",
         null,
         "50.0",
         "24000.0",
         "19",
         "san_jose_sunnyvale_santa_clara,_ca_msa",
         "surf",
         "gerry_little",
         null,
         "7.68",
         "0.0",
         "86.4"
        ],
        [
         "37",
         "1010",
         "3",
         "63.0",
         "429.0",
         null,
         "37.0",
         "11000.0",
         "52",
         "dallas_fort_worth_arlington,_tx_msa",
         "surf",
         "wilber_blair",
         null,
         "0.0",
         "0.0",
         "0.0"
        ],
        [
         "38",
         "1010",
         "4",
         "90.0",
         "656.0",
         null,
         "58.0",
         "20000.0",
         "52",
         "dallas_fort_worth_arlington,_tx_msa",
         "surf",
         "wilber_blair",
         null,
         "4.68",
         "0.0",
         "46.4"
        ],
        [
         "39",
         "1010",
         "5",
         "81.0",
         "532.0",
         null,
         "56.0",
         "16000.0",
         "52",
         "dallas_fort_worth_arlington,_tx_msa",
         "surf",
         "wilber_blair",
         null,
         "0.96",
         "0.0",
         "6.4"
        ],
        [
         "40",
         "1010",
         "6",
         "77.0",
         "553.0",
         null,
         "49.0",
         "17000.0",
         "52",
         "dallas_fort_worth_arlington,_tx_msa",
         "surf",
         "wilber_blair",
         null,
         "1.59",
         "0.0",
         "16.4"
        ],
        [
         "41",
         "1010",
         "7",
         "101.0",
         "698.0",
         null,
         "37.0",
         "13000.0",
         "52",
         "dallas_fort_worth_arlington,_tx_msa",
         "surf",
         "wilber_blair",
         null,
         "5.94",
         "0.0",
         "0.0"
        ],
        [
         "42",
         "1010",
         "8",
         "93.0",
         "637.0",
         null,
         "51.0",
         "20000.0",
         "52",
         "dallas_fort_worth_arlington,_tx_msa",
         "surf",
         "wilber_blair",
         null,
         "4.11",
         "0.0",
         "46.4"
        ],
        [
         "43",
         "1010",
         "9",
         "83.0",
         "601.0",
         null,
         "50.0",
         "17000.0",
         "52",
         "dallas_fort_worth_arlington,_tx_msa",
         "surf",
         "wilber_blair",
         null,
         "3.03",
         "0.0",
         "16.4"
        ],
        [
         "44",
         "1010",
         "10",
         "95.0",
         "711.0",
         null,
         "50.0",
         "17000.0",
         "52",
         "dallas_fort_worth_arlington,_tx_msa",
         "surf",
         "wilber_blair",
         null,
         "6.33",
         "0.0",
         "16.4"
        ],
        [
         "45",
         "1010",
         "11",
         "30.0",
         "258.0",
         null,
         "21.0",
         "8000.0",
         "52",
         "dallas_fort_worth_arlington,_tx_msa",
         "surf",
         "wilber_blair",
         null,
         "0.0",
         "0.0",
         "0.0"
        ],
        [
         "46",
         "1011",
         "6",
         "19.0",
         "118.0",
         "21.0",
         "25.0",
         "7000.0",
         "73",
         "cleveland_elyria,_oh_msa",
         "ultimate",
         "halina_henry",
         null,
         "0.0",
         "0.0",
         "0.0"
        ],
        [
         "47",
         "1011",
         "7",
         "63.0",
         "499.0",
         "53.0",
         "70.0",
         "22000.0",
         "73",
         "cleveland_elyria,_oh_msa",
         "ultimate",
         "halina_henry",
         null,
         "0.0",
         "0.0",
         "0.0"
        ],
        [
         "48",
         "1011",
         "8",
         "61.0",
         "486.0",
         "54.0",
         "64.0",
         "22000.0",
         "73",
         "cleveland_elyria,_oh_msa",
         "ultimate",
         "halina_henry",
         null,
         "0.0",
         "0.0",
         "0.0"
        ],
        [
         "49",
         "1011",
         "9",
         "73.0",
         "484.0",
         "60.0",
         "58.0",
         "17000.0",
         "73",
         "cleveland_elyria,_oh_msa",
         "ultimate",
         "halina_henry",
         null,
         "0.0",
         "0.0",
         "0.0"
        ]
       ],
       "shape": {
        "columns": 15,
        "rows": 2293
       }
      },
      "text/html": [
       "<div>\n",
       "<style scoped>\n",
       "    .dataframe tbody tr th:only-of-type {\n",
       "        vertical-align: middle;\n",
       "    }\n",
       "\n",
       "    .dataframe tbody tr th {\n",
       "        vertical-align: top;\n",
       "    }\n",
       "\n",
       "    .dataframe thead th {\n",
       "        text-align: right;\n",
       "    }\n",
       "</style>\n",
       "<table border=\"1\" class=\"dataframe\">\n",
       "  <thead>\n",
       "    <tr style=\"text-align: right;\">\n",
       "      <th></th>\n",
       "      <th>user_id</th>\n",
       "      <th>month</th>\n",
       "      <th>total_month_calls</th>\n",
       "      <th>total_month_duration</th>\n",
       "      <th>total_month_messages</th>\n",
       "      <th>total_month_sessions</th>\n",
       "      <th>total_month_traffic</th>\n",
       "      <th>age</th>\n",
       "      <th>city</th>\n",
       "      <th>plan</th>\n",
       "      <th>full_name</th>\n",
       "      <th>churn_month</th>\n",
       "      <th>month_revenue_calls</th>\n",
       "      <th>month_revenue_messages</th>\n",
       "      <th>month_revenue_internet</th>\n",
       "    </tr>\n",
       "  </thead>\n",
       "  <tbody>\n",
       "    <tr>\n",
       "      <th>0</th>\n",
       "      <td>1000</td>\n",
       "      <td>12</td>\n",
       "      <td>16.0</td>\n",
       "      <td>124.0</td>\n",
       "      <td>11.0</td>\n",
       "      <td>5.0</td>\n",
       "      <td>2000.0</td>\n",
       "      <td>45</td>\n",
       "      <td>atlanta_sandy_springs_roswell,_ga_msa</td>\n",
       "      <td>ultimate</td>\n",
       "      <td>anamaria_bauer</td>\n",
       "      <td>NaN</td>\n",
       "      <td>0.0</td>\n",
       "      <td>0.00</td>\n",
       "      <td>0.0</td>\n",
       "    </tr>\n",
       "    <tr>\n",
       "      <th>1</th>\n",
       "      <td>1001</td>\n",
       "      <td>8</td>\n",
       "      <td>27.0</td>\n",
       "      <td>182.0</td>\n",
       "      <td>30.0</td>\n",
       "      <td>25.0</td>\n",
       "      <td>7000.0</td>\n",
       "      <td>28</td>\n",
       "      <td>seattle_tacoma_bellevue,_wa_msa</td>\n",
       "      <td>surf</td>\n",
       "      <td>mickey_wilkerson</td>\n",
       "      <td>NaN</td>\n",
       "      <td>0.0</td>\n",
       "      <td>0.00</td>\n",
       "      <td>0.0</td>\n",
       "    </tr>\n",
       "    <tr>\n",
       "      <th>2</th>\n",
       "      <td>1001</td>\n",
       "      <td>9</td>\n",
       "      <td>49.0</td>\n",
       "      <td>315.0</td>\n",
       "      <td>44.0</td>\n",
       "      <td>53.0</td>\n",
       "      <td>14000.0</td>\n",
       "      <td>28</td>\n",
       "      <td>seattle_tacoma_bellevue,_wa_msa</td>\n",
       "      <td>surf</td>\n",
       "      <td>mickey_wilkerson</td>\n",
       "      <td>NaN</td>\n",
       "      <td>0.0</td>\n",
       "      <td>0.00</td>\n",
       "      <td>0.0</td>\n",
       "    </tr>\n",
       "    <tr>\n",
       "      <th>3</th>\n",
       "      <td>1001</td>\n",
       "      <td>10</td>\n",
       "      <td>65.0</td>\n",
       "      <td>393.0</td>\n",
       "      <td>53.0</td>\n",
       "      <td>56.0</td>\n",
       "      <td>23000.0</td>\n",
       "      <td>28</td>\n",
       "      <td>seattle_tacoma_bellevue,_wa_msa</td>\n",
       "      <td>surf</td>\n",
       "      <td>mickey_wilkerson</td>\n",
       "      <td>NaN</td>\n",
       "      <td>0.0</td>\n",
       "      <td>0.09</td>\n",
       "      <td>76.4</td>\n",
       "    </tr>\n",
       "    <tr>\n",
       "      <th>4</th>\n",
       "      <td>1001</td>\n",
       "      <td>11</td>\n",
       "      <td>64.0</td>\n",
       "      <td>426.0</td>\n",
       "      <td>36.0</td>\n",
       "      <td>51.0</td>\n",
       "      <td>19000.0</td>\n",
       "      <td>28</td>\n",
       "      <td>seattle_tacoma_bellevue,_wa_msa</td>\n",
       "      <td>surf</td>\n",
       "      <td>mickey_wilkerson</td>\n",
       "      <td>NaN</td>\n",
       "      <td>0.0</td>\n",
       "      <td>0.00</td>\n",
       "      <td>36.4</td>\n",
       "    </tr>\n",
       "    <tr>\n",
       "      <th>...</th>\n",
       "      <td>...</td>\n",
       "      <td>...</td>\n",
       "      <td>...</td>\n",
       "      <td>...</td>\n",
       "      <td>...</td>\n",
       "      <td>...</td>\n",
       "      <td>...</td>\n",
       "      <td>...</td>\n",
       "      <td>...</td>\n",
       "      <td>...</td>\n",
       "      <td>...</td>\n",
       "      <td>...</td>\n",
       "      <td>...</td>\n",
       "      <td>...</td>\n",
       "      <td>...</td>\n",
       "    </tr>\n",
       "    <tr>\n",
       "      <th>2288</th>\n",
       "      <td>1498</td>\n",
       "      <td>12</td>\n",
       "      <td>39.0</td>\n",
       "      <td>339.0</td>\n",
       "      <td>NaN</td>\n",
       "      <td>65.0</td>\n",
       "      <td>24000.0</td>\n",
       "      <td>51</td>\n",
       "      <td>new_york_newark_jersey_city,_ny_nj_pa_msa</td>\n",
       "      <td>surf</td>\n",
       "      <td>scot_williamson</td>\n",
       "      <td>NaN</td>\n",
       "      <td>0.0</td>\n",
       "      <td>0.00</td>\n",
       "      <td>86.4</td>\n",
       "    </tr>\n",
       "    <tr>\n",
       "      <th>2289</th>\n",
       "      <td>1499</td>\n",
       "      <td>9</td>\n",
       "      <td>41.0</td>\n",
       "      <td>346.0</td>\n",
       "      <td>NaN</td>\n",
       "      <td>45.0</td>\n",
       "      <td>13000.0</td>\n",
       "      <td>37</td>\n",
       "      <td>orlando_kissimmee_sanford,_fl_msa</td>\n",
       "      <td>surf</td>\n",
       "      <td>shena_dickson</td>\n",
       "      <td>NaN</td>\n",
       "      <td>0.0</td>\n",
       "      <td>0.00</td>\n",
       "      <td>0.0</td>\n",
       "    </tr>\n",
       "    <tr>\n",
       "      <th>2290</th>\n",
       "      <td>1499</td>\n",
       "      <td>10</td>\n",
       "      <td>53.0</td>\n",
       "      <td>385.0</td>\n",
       "      <td>NaN</td>\n",
       "      <td>61.0</td>\n",
       "      <td>20000.0</td>\n",
       "      <td>37</td>\n",
       "      <td>orlando_kissimmee_sanford,_fl_msa</td>\n",
       "      <td>surf</td>\n",
       "      <td>shena_dickson</td>\n",
       "      <td>NaN</td>\n",
       "      <td>0.0</td>\n",
       "      <td>0.00</td>\n",
       "      <td>46.4</td>\n",
       "    </tr>\n",
       "    <tr>\n",
       "      <th>2291</th>\n",
       "      <td>1499</td>\n",
       "      <td>11</td>\n",
       "      <td>45.0</td>\n",
       "      <td>308.0</td>\n",
       "      <td>NaN</td>\n",
       "      <td>49.0</td>\n",
       "      <td>17000.0</td>\n",
       "      <td>37</td>\n",
       "      <td>orlando_kissimmee_sanford,_fl_msa</td>\n",
       "      <td>surf</td>\n",
       "      <td>shena_dickson</td>\n",
       "      <td>NaN</td>\n",
       "      <td>0.0</td>\n",
       "      <td>0.00</td>\n",
       "      <td>16.4</td>\n",
       "    </tr>\n",
       "    <tr>\n",
       "      <th>2292</th>\n",
       "      <td>1499</td>\n",
       "      <td>12</td>\n",
       "      <td>65.0</td>\n",
       "      <td>496.0</td>\n",
       "      <td>NaN</td>\n",
       "      <td>65.0</td>\n",
       "      <td>23000.0</td>\n",
       "      <td>37</td>\n",
       "      <td>orlando_kissimmee_sanford,_fl_msa</td>\n",
       "      <td>surf</td>\n",
       "      <td>shena_dickson</td>\n",
       "      <td>NaN</td>\n",
       "      <td>0.0</td>\n",
       "      <td>0.00</td>\n",
       "      <td>76.4</td>\n",
       "    </tr>\n",
       "  </tbody>\n",
       "</table>\n",
       "<p>2293 rows × 15 columns</p>\n",
       "</div>"
      ],
      "text/plain": [
       "      user_id  month  total_month_calls  total_month_duration  total_month_messages  total_month_sessions  total_month_traffic  age  \\\n",
       "0        1000     12               16.0                 124.0                  11.0                   5.0               2000.0   45   \n",
       "1        1001      8               27.0                 182.0                  30.0                  25.0               7000.0   28   \n",
       "2        1001      9               49.0                 315.0                  44.0                  53.0              14000.0   28   \n",
       "3        1001     10               65.0                 393.0                  53.0                  56.0              23000.0   28   \n",
       "4        1001     11               64.0                 426.0                  36.0                  51.0              19000.0   28   \n",
       "...       ...    ...                ...                   ...                   ...                   ...                  ...  ...   \n",
       "2288     1498     12               39.0                 339.0                   NaN                  65.0              24000.0   51   \n",
       "2289     1499      9               41.0                 346.0                   NaN                  45.0              13000.0   37   \n",
       "2290     1499     10               53.0                 385.0                   NaN                  61.0              20000.0   37   \n",
       "2291     1499     11               45.0                 308.0                   NaN                  49.0              17000.0   37   \n",
       "2292     1499     12               65.0                 496.0                   NaN                  65.0              23000.0   37   \n",
       "\n",
       "                                           city      plan         full_name  churn_month  month_revenue_calls  month_revenue_messages  \\\n",
       "0         atlanta_sandy_springs_roswell,_ga_msa  ultimate    anamaria_bauer          NaN                  0.0                    0.00   \n",
       "1               seattle_tacoma_bellevue,_wa_msa      surf  mickey_wilkerson          NaN                  0.0                    0.00   \n",
       "2               seattle_tacoma_bellevue,_wa_msa      surf  mickey_wilkerson          NaN                  0.0                    0.00   \n",
       "3               seattle_tacoma_bellevue,_wa_msa      surf  mickey_wilkerson          NaN                  0.0                    0.09   \n",
       "4               seattle_tacoma_bellevue,_wa_msa      surf  mickey_wilkerson          NaN                  0.0                    0.00   \n",
       "...                                         ...       ...               ...          ...                  ...                     ...   \n",
       "2288  new_york_newark_jersey_city,_ny_nj_pa_msa      surf   scot_williamson          NaN                  0.0                    0.00   \n",
       "2289          orlando_kissimmee_sanford,_fl_msa      surf     shena_dickson          NaN                  0.0                    0.00   \n",
       "2290          orlando_kissimmee_sanford,_fl_msa      surf     shena_dickson          NaN                  0.0                    0.00   \n",
       "2291          orlando_kissimmee_sanford,_fl_msa      surf     shena_dickson          NaN                  0.0                    0.00   \n",
       "2292          orlando_kissimmee_sanford,_fl_msa      surf     shena_dickson          NaN                  0.0                    0.00   \n",
       "\n",
       "      month_revenue_internet  \n",
       "0                        0.0  \n",
       "1                        0.0  \n",
       "2                        0.0  \n",
       "3                       76.4  \n",
       "4                       36.4  \n",
       "...                      ...  \n",
       "2288                    86.4  \n",
       "2289                     0.0  \n",
       "2290                    46.4  \n",
       "2291                    16.4  \n",
       "2292                    76.4  \n",
       "\n",
       "[2293 rows x 15 columns]"
      ]
     },
     "execution_count": 60,
     "metadata": {},
     "output_type": "execute_result"
    }
   ],
   "source": [
    "df_revenue_month['month_revenue_internet'] = np.round(df_revenue_month.apply(lambda row: revenue(row, 'traffic', 'total_month_traffic'), axis=1), 3)\n",
    "df_revenue_month"
   ]
  },
  {
   "cell_type": "code",
   "execution_count": 61,
   "id": "c3bdf25a",
   "metadata": {},
   "outputs": [
    {
     "data": {
      "application/vnd.microsoft.datawrangler.viewer.v0+json": {
       "columns": [
        {
         "name": "index",
         "rawType": "int64",
         "type": "integer"
        },
        {
         "name": "user_id",
         "rawType": "int64",
         "type": "integer"
        },
        {
         "name": "month",
         "rawType": "int32",
         "type": "integer"
        },
        {
         "name": "total_month_calls",
         "rawType": "float64",
         "type": "float"
        },
        {
         "name": "total_month_duration",
         "rawType": "float64",
         "type": "float"
        },
        {
         "name": "total_month_messages",
         "rawType": "float64",
         "type": "float"
        },
        {
         "name": "total_month_sessions",
         "rawType": "float64",
         "type": "float"
        },
        {
         "name": "total_month_traffic",
         "rawType": "float64",
         "type": "float"
        },
        {
         "name": "age",
         "rawType": "int64",
         "type": "integer"
        },
        {
         "name": "city",
         "rawType": "string",
         "type": "string"
        },
        {
         "name": "plan",
         "rawType": "category",
         "type": "unknown"
        },
        {
         "name": "full_name",
         "rawType": "string",
         "type": "string"
        },
        {
         "name": "churn_month",
         "rawType": "float64",
         "type": "float"
        },
        {
         "name": "month_revenue_calls",
         "rawType": "float64",
         "type": "float"
        },
        {
         "name": "month_revenue_messages",
         "rawType": "float64",
         "type": "float"
        },
        {
         "name": "month_revenue_internet",
         "rawType": "float64",
         "type": "float"
        },
        {
         "name": "month_revenue_total",
         "rawType": "float64",
         "type": "float"
        }
       ],
       "ref": "b7581de8-c1e7-4a33-a435-f836b6a391a6",
       "rows": [
        [
         "0",
         "1000",
         "12",
         "16.0",
         "124.0",
         "11.0",
         "5.0",
         "2000.0",
         "45",
         "atlanta_sandy_springs_roswell,_ga_msa",
         "ultimate",
         "anamaria_bauer",
         null,
         "0.0",
         "0.0",
         "0.0",
         "70.0"
        ],
        [
         "1",
         "1001",
         "8",
         "27.0",
         "182.0",
         "30.0",
         "25.0",
         "7000.0",
         "28",
         "seattle_tacoma_bellevue,_wa_msa",
         "surf",
         "mickey_wilkerson",
         null,
         "0.0",
         "0.0",
         "0.0",
         "20.0"
        ],
        [
         "2",
         "1001",
         "9",
         "49.0",
         "315.0",
         "44.0",
         "53.0",
         "14000.0",
         "28",
         "seattle_tacoma_bellevue,_wa_msa",
         "surf",
         "mickey_wilkerson",
         null,
         "0.0",
         "0.0",
         "0.0",
         "20.0"
        ],
        [
         "3",
         "1001",
         "10",
         "65.0",
         "393.0",
         "53.0",
         "56.0",
         "23000.0",
         "28",
         "seattle_tacoma_bellevue,_wa_msa",
         "surf",
         "mickey_wilkerson",
         null,
         "0.0",
         "0.09",
         "76.4",
         "96.49"
        ],
        [
         "4",
         "1001",
         "11",
         "64.0",
         "426.0",
         "36.0",
         "51.0",
         "19000.0",
         "28",
         "seattle_tacoma_bellevue,_wa_msa",
         "surf",
         "mickey_wilkerson",
         null,
         "0.0",
         "0.0",
         "36.4",
         "56.4"
        ],
        [
         "5",
         "1001",
         "12",
         "56.0",
         "412.0",
         "44.0",
         "60.0",
         "20000.0",
         "28",
         "seattle_tacoma_bellevue,_wa_msa",
         "surf",
         "mickey_wilkerson",
         null,
         "0.0",
         "0.0",
         "46.4",
         "66.4"
        ],
        [
         "6",
         "1002",
         "10",
         "11.0",
         "59.0",
         "15.0",
         "21.0",
         "7000.0",
         "36",
         "las_vegas_henderson_paradise,_nv_msa",
         "surf",
         "carlee_hoffman",
         null,
         "0.0",
         "0.0",
         "0.0",
         "20.0"
        ],
        [
         "7",
         "1002",
         "11",
         "55.0",
         "386.0",
         "32.0",
         "52.0",
         "20000.0",
         "36",
         "las_vegas_henderson_paradise,_nv_msa",
         "surf",
         "carlee_hoffman",
         null,
         "0.0",
         "0.0",
         "46.4",
         "66.4"
        ],
        [
         "8",
         "1002",
         "12",
         "47.0",
         "384.0",
         "41.0",
         "51.0",
         "15000.0",
         "36",
         "las_vegas_henderson_paradise,_nv_msa",
         "surf",
         "carlee_hoffman",
         null,
         "0.0",
         "0.0",
         "0.0",
         "20.0"
        ],
        [
         "9",
         "1003",
         "12",
         "149.0",
         "1104.0",
         "50.0",
         "52.0",
         "28000.0",
         "52",
         "tulsa,_ok_msa",
         "surf",
         "reynaldo_jenkins",
         null,
         "18.12",
         "0.0",
         "126.4",
         "164.52"
        ],
        [
         "10",
         "1004",
         "5",
         "21.0",
         "193.0",
         "7.0",
         "17.0",
         "7000.0",
         "40",
         "seattle_tacoma_bellevue,_wa_msa",
         "surf",
         "leonila_thompson",
         null,
         "0.0",
         "0.0",
         "0.0",
         "20.0"
        ],
        [
         "11",
         "1004",
         "6",
         "44.0",
         "275.0",
         "18.0",
         "73.0",
         "21000.0",
         "40",
         "seattle_tacoma_bellevue,_wa_msa",
         "surf",
         "leonila_thompson",
         null,
         "0.0",
         "0.0",
         "56.4",
         "76.4"
        ],
        [
         "12",
         "1004",
         "7",
         "49.0",
         "381.0",
         "26.0",
         "69.0",
         "25000.0",
         "40",
         "seattle_tacoma_bellevue,_wa_msa",
         "surf",
         "leonila_thompson",
         null,
         "0.0",
         "0.0",
         "96.4",
         "116.4"
        ],
        [
         "13",
         "1004",
         "8",
         "49.0",
         "354.0",
         "25.0",
         "72.0",
         "28000.0",
         "40",
         "seattle_tacoma_bellevue,_wa_msa",
         "surf",
         "leonila_thompson",
         null,
         "0.0",
         "0.0",
         "126.4",
         "146.4"
        ],
        [
         "14",
         "1004",
         "9",
         "42.0",
         "301.0",
         "21.0",
         "56.0",
         "19000.0",
         "40",
         "seattle_tacoma_bellevue,_wa_msa",
         "surf",
         "leonila_thompson",
         null,
         "0.0",
         "0.0",
         "36.4",
         "56.4"
        ],
        [
         "15",
         "1004",
         "10",
         "61.0",
         "365.0",
         "24.0",
         "51.0",
         "15000.0",
         "40",
         "seattle_tacoma_bellevue,_wa_msa",
         "surf",
         "leonila_thompson",
         null,
         "0.0",
         "0.0",
         "0.0",
         "20.0"
        ],
        [
         "16",
         "1004",
         "11",
         "54.0",
         "476.0",
         "25.0",
         "69.0",
         "22000.0",
         "40",
         "seattle_tacoma_bellevue,_wa_msa",
         "surf",
         "leonila_thompson",
         null,
         "0.0",
         "0.0",
         "66.4",
         "86.4"
        ],
        [
         "17",
         "1004",
         "12",
         "50.0",
         "427.0",
         "31.0",
         "53.0",
         "22000.0",
         "40",
         "seattle_tacoma_bellevue,_wa_msa",
         "surf",
         "leonila_thompson",
         null,
         "0.0",
         "0.0",
         "66.4",
         "86.4"
        ],
        [
         "18",
         "1005",
         "12",
         "59.0",
         "496.0",
         "11.0",
         "60.0",
         "18000.0",
         "31",
         "dallas_fort_worth_arlington,_tx_msa",
         "surf",
         "livia_shields",
         null,
         "0.0",
         "0.0",
         "26.4",
         "46.4"
        ],
        [
         "19",
         "1006",
         "11",
         "2.0",
         "10.0",
         "15.0",
         "7.0",
         "3000.0",
         "73",
         "san_francisco_oakland_berkeley,_ca_msa",
         "ultimate",
         "jesusa_bradford",
         "12.0",
         "0.0",
         "0.0",
         "0.0",
         "70.0"
        ],
        [
         "20",
         "1006",
         "12",
         "9.0",
         "59.0",
         "139.0",
         "63.0",
         "33000.0",
         "73",
         "san_francisco_oakland_berkeley,_ca_msa",
         "ultimate",
         "jesusa_bradford",
         "12.0",
         "0.0",
         "0.0",
         "15.96",
         "85.96"
        ],
        [
         "21",
         "1007",
         "8",
         "70.0",
         "456.0",
         "51.0",
         "45.0",
         "25000.0",
         "42",
         "grand_rapids_kentwood,_mi_msa",
         "surf",
         "eusebio_welch",
         null,
         "0.0",
         "0.03",
         "96.4",
         "116.43"
        ],
        [
         "22",
         "1007",
         "9",
         "63.0",
         "399.0",
         "47.0",
         "52.0",
         "29000.0",
         "42",
         "grand_rapids_kentwood,_mi_msa",
         "surf",
         "eusebio_welch",
         null,
         "0.0",
         "0.0",
         "136.4",
         "156.4"
        ],
        [
         "23",
         "1007",
         "10",
         "80.0",
         "645.0",
         "59.0",
         "65.0",
         "38000.0",
         "42",
         "grand_rapids_kentwood,_mi_msa",
         "surf",
         "eusebio_welch",
         null,
         "4.35",
         "0.27",
         "226.4",
         "251.02"
        ],
        [
         "24",
         "1007",
         "11",
         "80.0",
         "524.0",
         "48.0",
         "50.0",
         "25000.0",
         "42",
         "grand_rapids_kentwood,_mi_msa",
         "surf",
         "eusebio_welch",
         null,
         "0.72",
         "0.0",
         "96.4",
         "117.12"
        ],
        [
         "25",
         "1007",
         "12",
         "87.0",
         "617.0",
         "50.0",
         "61.0",
         "30000.0",
         "42",
         "grand_rapids_kentwood,_mi_msa",
         "surf",
         "eusebio_welch",
         null,
         "3.51",
         "0.0",
         "146.4",
         "169.91"
        ],
        [
         "26",
         "1008",
         "10",
         "71.0",
         "476.0",
         "21.0",
         "57.0",
         "18000.0",
         "53",
         "orlando_kissimmee_sanford,_fl_msa",
         "ultimate",
         "emely_hoffman",
         null,
         "0.0",
         "0.0",
         "0.0",
         "70.0"
        ],
        [
         "27",
         "1008",
         "11",
         "63.0",
         "446.0",
         "37.0",
         "72.0",
         "24000.0",
         "53",
         "orlando_kissimmee_sanford,_fl_msa",
         "ultimate",
         "emely_hoffman",
         null,
         "0.0",
         "0.0",
         "0.0",
         "70.0"
        ],
        [
         "28",
         "1008",
         "12",
         "85.0",
         "634.0",
         "26.0",
         "47.0",
         "15000.0",
         "53",
         "orlando_kissimmee_sanford,_fl_msa",
         "ultimate",
         "emely_hoffman",
         null,
         "0.0",
         "0.0",
         "0.0",
         "70.0"
        ],
        [
         "29",
         "1009",
         "5",
         "71.0",
         "534.0",
         null,
         "43.0",
         "21000.0",
         "19",
         "san_jose_sunnyvale_santa_clara,_ca_msa",
         "surf",
         "gerry_little",
         null,
         "1.02",
         "0.0",
         "56.4",
         "77.42"
        ],
        [
         "30",
         "1009",
         "6",
         "110.0",
         "823.0",
         null,
         "38.0",
         "19000.0",
         "19",
         "san_jose_sunnyvale_santa_clara,_ca_msa",
         "surf",
         "gerry_little",
         null,
         "9.69",
         "0.0",
         "36.4",
         "66.09"
        ],
        [
         "31",
         "1009",
         "7",
         "124.0",
         "880.0",
         null,
         "60.0",
         "31000.0",
         "19",
         "san_jose_sunnyvale_santa_clara,_ca_msa",
         "surf",
         "gerry_little",
         null,
         "11.4",
         "0.0",
         "156.4",
         "187.8"
        ],
        [
         "32",
         "1009",
         "8",
         "109.0",
         "731.0",
         null,
         "51.0",
         "25000.0",
         "19",
         "san_jose_sunnyvale_santa_clara,_ca_msa",
         "surf",
         "gerry_little",
         null,
         "6.93",
         "0.0",
         "96.4",
         "123.33"
        ],
        [
         "33",
         "1009",
         "9",
         "116.0",
         "776.0",
         null,
         "50.0",
         "21000.0",
         "19",
         "san_jose_sunnyvale_santa_clara,_ca_msa",
         "surf",
         "gerry_little",
         null,
         "8.28",
         "0.0",
         "56.4",
         "84.68"
        ],
        [
         "34",
         "1009",
         "10",
         "114.0",
         "740.0",
         null,
         "47.0",
         "23000.0",
         "19",
         "san_jose_sunnyvale_santa_clara,_ca_msa",
         "surf",
         "gerry_little",
         null,
         "7.2",
         "0.0",
         "76.4",
         "103.6"
        ],
        [
         "35",
         "1009",
         "11",
         "105.0",
         "714.0",
         null,
         "47.0",
         "26000.0",
         "19",
         "san_jose_sunnyvale_santa_clara,_ca_msa",
         "surf",
         "gerry_little",
         null,
         "6.42",
         "0.0",
         "106.4",
         "132.82"
        ],
        [
         "36",
         "1009",
         "12",
         "107.0",
         "756.0",
         null,
         "50.0",
         "24000.0",
         "19",
         "san_jose_sunnyvale_santa_clara,_ca_msa",
         "surf",
         "gerry_little",
         null,
         "7.68",
         "0.0",
         "86.4",
         "114.08"
        ],
        [
         "37",
         "1010",
         "3",
         "63.0",
         "429.0",
         null,
         "37.0",
         "11000.0",
         "52",
         "dallas_fort_worth_arlington,_tx_msa",
         "surf",
         "wilber_blair",
         null,
         "0.0",
         "0.0",
         "0.0",
         "20.0"
        ],
        [
         "38",
         "1010",
         "4",
         "90.0",
         "656.0",
         null,
         "58.0",
         "20000.0",
         "52",
         "dallas_fort_worth_arlington,_tx_msa",
         "surf",
         "wilber_blair",
         null,
         "4.68",
         "0.0",
         "46.4",
         "71.08"
        ],
        [
         "39",
         "1010",
         "5",
         "81.0",
         "532.0",
         null,
         "56.0",
         "16000.0",
         "52",
         "dallas_fort_worth_arlington,_tx_msa",
         "surf",
         "wilber_blair",
         null,
         "0.96",
         "0.0",
         "6.4",
         "27.36"
        ],
        [
         "40",
         "1010",
         "6",
         "77.0",
         "553.0",
         null,
         "49.0",
         "17000.0",
         "52",
         "dallas_fort_worth_arlington,_tx_msa",
         "surf",
         "wilber_blair",
         null,
         "1.59",
         "0.0",
         "16.4",
         "37.99"
        ],
        [
         "41",
         "1010",
         "7",
         "101.0",
         "698.0",
         null,
         "37.0",
         "13000.0",
         "52",
         "dallas_fort_worth_arlington,_tx_msa",
         "surf",
         "wilber_blair",
         null,
         "5.94",
         "0.0",
         "0.0",
         "25.94"
        ],
        [
         "42",
         "1010",
         "8",
         "93.0",
         "637.0",
         null,
         "51.0",
         "20000.0",
         "52",
         "dallas_fort_worth_arlington,_tx_msa",
         "surf",
         "wilber_blair",
         null,
         "4.11",
         "0.0",
         "46.4",
         "70.51"
        ],
        [
         "43",
         "1010",
         "9",
         "83.0",
         "601.0",
         null,
         "50.0",
         "17000.0",
         "52",
         "dallas_fort_worth_arlington,_tx_msa",
         "surf",
         "wilber_blair",
         null,
         "3.03",
         "0.0",
         "16.4",
         "39.43"
        ],
        [
         "44",
         "1010",
         "10",
         "95.0",
         "711.0",
         null,
         "50.0",
         "17000.0",
         "52",
         "dallas_fort_worth_arlington,_tx_msa",
         "surf",
         "wilber_blair",
         null,
         "6.33",
         "0.0",
         "16.4",
         "42.73"
        ],
        [
         "45",
         "1010",
         "11",
         "30.0",
         "258.0",
         null,
         "21.0",
         "8000.0",
         "52",
         "dallas_fort_worth_arlington,_tx_msa",
         "surf",
         "wilber_blair",
         null,
         "0.0",
         "0.0",
         "0.0",
         "20.0"
        ],
        [
         "46",
         "1011",
         "6",
         "19.0",
         "118.0",
         "21.0",
         "25.0",
         "7000.0",
         "73",
         "cleveland_elyria,_oh_msa",
         "ultimate",
         "halina_henry",
         null,
         "0.0",
         "0.0",
         "0.0",
         "70.0"
        ],
        [
         "47",
         "1011",
         "7",
         "63.0",
         "499.0",
         "53.0",
         "70.0",
         "22000.0",
         "73",
         "cleveland_elyria,_oh_msa",
         "ultimate",
         "halina_henry",
         null,
         "0.0",
         "0.0",
         "0.0",
         "70.0"
        ],
        [
         "48",
         "1011",
         "8",
         "61.0",
         "486.0",
         "54.0",
         "64.0",
         "22000.0",
         "73",
         "cleveland_elyria,_oh_msa",
         "ultimate",
         "halina_henry",
         null,
         "0.0",
         "0.0",
         "0.0",
         "70.0"
        ],
        [
         "49",
         "1011",
         "9",
         "73.0",
         "484.0",
         "60.0",
         "58.0",
         "17000.0",
         "73",
         "cleveland_elyria,_oh_msa",
         "ultimate",
         "halina_henry",
         null,
         "0.0",
         "0.0",
         "0.0",
         "70.0"
        ]
       ],
       "shape": {
        "columns": 16,
        "rows": 2293
       }
      },
      "text/html": [
       "<div>\n",
       "<style scoped>\n",
       "    .dataframe tbody tr th:only-of-type {\n",
       "        vertical-align: middle;\n",
       "    }\n",
       "\n",
       "    .dataframe tbody tr th {\n",
       "        vertical-align: top;\n",
       "    }\n",
       "\n",
       "    .dataframe thead th {\n",
       "        text-align: right;\n",
       "    }\n",
       "</style>\n",
       "<table border=\"1\" class=\"dataframe\">\n",
       "  <thead>\n",
       "    <tr style=\"text-align: right;\">\n",
       "      <th></th>\n",
       "      <th>user_id</th>\n",
       "      <th>month</th>\n",
       "      <th>total_month_calls</th>\n",
       "      <th>total_month_duration</th>\n",
       "      <th>total_month_messages</th>\n",
       "      <th>total_month_sessions</th>\n",
       "      <th>total_month_traffic</th>\n",
       "      <th>age</th>\n",
       "      <th>city</th>\n",
       "      <th>plan</th>\n",
       "      <th>full_name</th>\n",
       "      <th>churn_month</th>\n",
       "      <th>month_revenue_calls</th>\n",
       "      <th>month_revenue_messages</th>\n",
       "      <th>month_revenue_internet</th>\n",
       "      <th>month_revenue_total</th>\n",
       "    </tr>\n",
       "  </thead>\n",
       "  <tbody>\n",
       "    <tr>\n",
       "      <th>0</th>\n",
       "      <td>1000</td>\n",
       "      <td>12</td>\n",
       "      <td>16.0</td>\n",
       "      <td>124.0</td>\n",
       "      <td>11.0</td>\n",
       "      <td>5.0</td>\n",
       "      <td>2000.0</td>\n",
       "      <td>45</td>\n",
       "      <td>atlanta_sandy_springs_roswell,_ga_msa</td>\n",
       "      <td>ultimate</td>\n",
       "      <td>anamaria_bauer</td>\n",
       "      <td>NaN</td>\n",
       "      <td>0.0</td>\n",
       "      <td>0.00</td>\n",
       "      <td>0.0</td>\n",
       "      <td>70.00</td>\n",
       "    </tr>\n",
       "    <tr>\n",
       "      <th>1</th>\n",
       "      <td>1001</td>\n",
       "      <td>8</td>\n",
       "      <td>27.0</td>\n",
       "      <td>182.0</td>\n",
       "      <td>30.0</td>\n",
       "      <td>25.0</td>\n",
       "      <td>7000.0</td>\n",
       "      <td>28</td>\n",
       "      <td>seattle_tacoma_bellevue,_wa_msa</td>\n",
       "      <td>surf</td>\n",
       "      <td>mickey_wilkerson</td>\n",
       "      <td>NaN</td>\n",
       "      <td>0.0</td>\n",
       "      <td>0.00</td>\n",
       "      <td>0.0</td>\n",
       "      <td>20.00</td>\n",
       "    </tr>\n",
       "    <tr>\n",
       "      <th>2</th>\n",
       "      <td>1001</td>\n",
       "      <td>9</td>\n",
       "      <td>49.0</td>\n",
       "      <td>315.0</td>\n",
       "      <td>44.0</td>\n",
       "      <td>53.0</td>\n",
       "      <td>14000.0</td>\n",
       "      <td>28</td>\n",
       "      <td>seattle_tacoma_bellevue,_wa_msa</td>\n",
       "      <td>surf</td>\n",
       "      <td>mickey_wilkerson</td>\n",
       "      <td>NaN</td>\n",
       "      <td>0.0</td>\n",
       "      <td>0.00</td>\n",
       "      <td>0.0</td>\n",
       "      <td>20.00</td>\n",
       "    </tr>\n",
       "    <tr>\n",
       "      <th>3</th>\n",
       "      <td>1001</td>\n",
       "      <td>10</td>\n",
       "      <td>65.0</td>\n",
       "      <td>393.0</td>\n",
       "      <td>53.0</td>\n",
       "      <td>56.0</td>\n",
       "      <td>23000.0</td>\n",
       "      <td>28</td>\n",
       "      <td>seattle_tacoma_bellevue,_wa_msa</td>\n",
       "      <td>surf</td>\n",
       "      <td>mickey_wilkerson</td>\n",
       "      <td>NaN</td>\n",
       "      <td>0.0</td>\n",
       "      <td>0.09</td>\n",
       "      <td>76.4</td>\n",
       "      <td>96.49</td>\n",
       "    </tr>\n",
       "    <tr>\n",
       "      <th>4</th>\n",
       "      <td>1001</td>\n",
       "      <td>11</td>\n",
       "      <td>64.0</td>\n",
       "      <td>426.0</td>\n",
       "      <td>36.0</td>\n",
       "      <td>51.0</td>\n",
       "      <td>19000.0</td>\n",
       "      <td>28</td>\n",
       "      <td>seattle_tacoma_bellevue,_wa_msa</td>\n",
       "      <td>surf</td>\n",
       "      <td>mickey_wilkerson</td>\n",
       "      <td>NaN</td>\n",
       "      <td>0.0</td>\n",
       "      <td>0.00</td>\n",
       "      <td>36.4</td>\n",
       "      <td>56.40</td>\n",
       "    </tr>\n",
       "    <tr>\n",
       "      <th>...</th>\n",
       "      <td>...</td>\n",
       "      <td>...</td>\n",
       "      <td>...</td>\n",
       "      <td>...</td>\n",
       "      <td>...</td>\n",
       "      <td>...</td>\n",
       "      <td>...</td>\n",
       "      <td>...</td>\n",
       "      <td>...</td>\n",
       "      <td>...</td>\n",
       "      <td>...</td>\n",
       "      <td>...</td>\n",
       "      <td>...</td>\n",
       "      <td>...</td>\n",
       "      <td>...</td>\n",
       "      <td>...</td>\n",
       "    </tr>\n",
       "    <tr>\n",
       "      <th>2288</th>\n",
       "      <td>1498</td>\n",
       "      <td>12</td>\n",
       "      <td>39.0</td>\n",
       "      <td>339.0</td>\n",
       "      <td>NaN</td>\n",
       "      <td>65.0</td>\n",
       "      <td>24000.0</td>\n",
       "      <td>51</td>\n",
       "      <td>new_york_newark_jersey_city,_ny_nj_pa_msa</td>\n",
       "      <td>surf</td>\n",
       "      <td>scot_williamson</td>\n",
       "      <td>NaN</td>\n",
       "      <td>0.0</td>\n",
       "      <td>0.00</td>\n",
       "      <td>86.4</td>\n",
       "      <td>106.40</td>\n",
       "    </tr>\n",
       "    <tr>\n",
       "      <th>2289</th>\n",
       "      <td>1499</td>\n",
       "      <td>9</td>\n",
       "      <td>41.0</td>\n",
       "      <td>346.0</td>\n",
       "      <td>NaN</td>\n",
       "      <td>45.0</td>\n",
       "      <td>13000.0</td>\n",
       "      <td>37</td>\n",
       "      <td>orlando_kissimmee_sanford,_fl_msa</td>\n",
       "      <td>surf</td>\n",
       "      <td>shena_dickson</td>\n",
       "      <td>NaN</td>\n",
       "      <td>0.0</td>\n",
       "      <td>0.00</td>\n",
       "      <td>0.0</td>\n",
       "      <td>20.00</td>\n",
       "    </tr>\n",
       "    <tr>\n",
       "      <th>2290</th>\n",
       "      <td>1499</td>\n",
       "      <td>10</td>\n",
       "      <td>53.0</td>\n",
       "      <td>385.0</td>\n",
       "      <td>NaN</td>\n",
       "      <td>61.0</td>\n",
       "      <td>20000.0</td>\n",
       "      <td>37</td>\n",
       "      <td>orlando_kissimmee_sanford,_fl_msa</td>\n",
       "      <td>surf</td>\n",
       "      <td>shena_dickson</td>\n",
       "      <td>NaN</td>\n",
       "      <td>0.0</td>\n",
       "      <td>0.00</td>\n",
       "      <td>46.4</td>\n",
       "      <td>66.40</td>\n",
       "    </tr>\n",
       "    <tr>\n",
       "      <th>2291</th>\n",
       "      <td>1499</td>\n",
       "      <td>11</td>\n",
       "      <td>45.0</td>\n",
       "      <td>308.0</td>\n",
       "      <td>NaN</td>\n",
       "      <td>49.0</td>\n",
       "      <td>17000.0</td>\n",
       "      <td>37</td>\n",
       "      <td>orlando_kissimmee_sanford,_fl_msa</td>\n",
       "      <td>surf</td>\n",
       "      <td>shena_dickson</td>\n",
       "      <td>NaN</td>\n",
       "      <td>0.0</td>\n",
       "      <td>0.00</td>\n",
       "      <td>16.4</td>\n",
       "      <td>36.40</td>\n",
       "    </tr>\n",
       "    <tr>\n",
       "      <th>2292</th>\n",
       "      <td>1499</td>\n",
       "      <td>12</td>\n",
       "      <td>65.0</td>\n",
       "      <td>496.0</td>\n",
       "      <td>NaN</td>\n",
       "      <td>65.0</td>\n",
       "      <td>23000.0</td>\n",
       "      <td>37</td>\n",
       "      <td>orlando_kissimmee_sanford,_fl_msa</td>\n",
       "      <td>surf</td>\n",
       "      <td>shena_dickson</td>\n",
       "      <td>NaN</td>\n",
       "      <td>0.0</td>\n",
       "      <td>0.00</td>\n",
       "      <td>76.4</td>\n",
       "      <td>96.40</td>\n",
       "    </tr>\n",
       "  </tbody>\n",
       "</table>\n",
       "<p>2293 rows × 16 columns</p>\n",
       "</div>"
      ],
      "text/plain": [
       "      user_id  month  total_month_calls  total_month_duration  total_month_messages  total_month_sessions  total_month_traffic  age  \\\n",
       "0        1000     12               16.0                 124.0                  11.0                   5.0               2000.0   45   \n",
       "1        1001      8               27.0                 182.0                  30.0                  25.0               7000.0   28   \n",
       "2        1001      9               49.0                 315.0                  44.0                  53.0              14000.0   28   \n",
       "3        1001     10               65.0                 393.0                  53.0                  56.0              23000.0   28   \n",
       "4        1001     11               64.0                 426.0                  36.0                  51.0              19000.0   28   \n",
       "...       ...    ...                ...                   ...                   ...                   ...                  ...  ...   \n",
       "2288     1498     12               39.0                 339.0                   NaN                  65.0              24000.0   51   \n",
       "2289     1499      9               41.0                 346.0                   NaN                  45.0              13000.0   37   \n",
       "2290     1499     10               53.0                 385.0                   NaN                  61.0              20000.0   37   \n",
       "2291     1499     11               45.0                 308.0                   NaN                  49.0              17000.0   37   \n",
       "2292     1499     12               65.0                 496.0                   NaN                  65.0              23000.0   37   \n",
       "\n",
       "                                           city      plan         full_name  churn_month  month_revenue_calls  month_revenue_messages  \\\n",
       "0         atlanta_sandy_springs_roswell,_ga_msa  ultimate    anamaria_bauer          NaN                  0.0                    0.00   \n",
       "1               seattle_tacoma_bellevue,_wa_msa      surf  mickey_wilkerson          NaN                  0.0                    0.00   \n",
       "2               seattle_tacoma_bellevue,_wa_msa      surf  mickey_wilkerson          NaN                  0.0                    0.00   \n",
       "3               seattle_tacoma_bellevue,_wa_msa      surf  mickey_wilkerson          NaN                  0.0                    0.09   \n",
       "4               seattle_tacoma_bellevue,_wa_msa      surf  mickey_wilkerson          NaN                  0.0                    0.00   \n",
       "...                                         ...       ...               ...          ...                  ...                     ...   \n",
       "2288  new_york_newark_jersey_city,_ny_nj_pa_msa      surf   scot_williamson          NaN                  0.0                    0.00   \n",
       "2289          orlando_kissimmee_sanford,_fl_msa      surf     shena_dickson          NaN                  0.0                    0.00   \n",
       "2290          orlando_kissimmee_sanford,_fl_msa      surf     shena_dickson          NaN                  0.0                    0.00   \n",
       "2291          orlando_kissimmee_sanford,_fl_msa      surf     shena_dickson          NaN                  0.0                    0.00   \n",
       "2292          orlando_kissimmee_sanford,_fl_msa      surf     shena_dickson          NaN                  0.0                    0.00   \n",
       "\n",
       "      month_revenue_internet  month_revenue_total  \n",
       "0                        0.0                70.00  \n",
       "1                        0.0                20.00  \n",
       "2                        0.0                20.00  \n",
       "3                       76.4                96.49  \n",
       "4                       36.4                56.40  \n",
       "...                      ...                  ...  \n",
       "2288                    86.4               106.40  \n",
       "2289                     0.0                20.00  \n",
       "2290                    46.4                66.40  \n",
       "2291                    16.4                36.40  \n",
       "2292                    76.4                96.40  \n",
       "\n",
       "[2293 rows x 16 columns]"
      ]
     },
     "execution_count": 61,
     "metadata": {},
     "output_type": "execute_result"
    }
   ],
   "source": [
    "df_revenue_month['month_revenue_total'] = np.round(df_revenue_month.apply(lambda row: revenue(row, 'total', ['total_month_duration', 'total_month_messages', 'total_month_traffic']), axis=1), 3)\n",
    "df_revenue_month"
   ]
  },
  {
   "cell_type": "code",
   "execution_count": 62,
   "id": "70c9d751",
   "metadata": {},
   "outputs": [],
   "source": [
    "project_root = Path.cwd().parent\n",
    "processed_path = project_root / \"data\" / \"processed\" / \"activity\" / \"revenue_total.csv\"\n",
    "\n",
    "df_revenue_month.to_csv(processed_path, index=False)"
   ]
  }
 ],
 "metadata": {
  "kernelspec": {
   "display_name": "Win11_Python-PipVenv-Github-Hmb7GD39",
   "language": "python",
   "name": "python3"
  },
  "language_info": {
   "codemirror_mode": {
    "name": "ipython",
    "version": 3
   },
   "file_extension": ".py",
   "mimetype": "text/x-python",
   "name": "python",
   "nbconvert_exporter": "python",
   "pygments_lexer": "ipython3",
   "version": "3.13.2"
  }
 },
 "nbformat": 4,
 "nbformat_minor": 5
}
