{
 "cells": [
  {
   "cell_type": "markdown",
   "id": "7b58c6ef",
   "metadata": {},
   "source": [
    "#### Data set cleaning\n",
    "\n",
    "Dataset: \n",
    "\n",
    "- _Megaline.zip_\n",
    "    - _megaline_calls.csv_\n",
    "    - _megaline_internet.csv_\n",
    "    - _megaline messages.csv_\n",
    "    - _megaline_plans.csv_\n",
    "    - _megaline_users.csv_\n",
    "\n",
    "Author: Luis Sergio Pastrana Lemus  \n",
    "Date: 2025-05-14"
   ]
  },
  {
   "cell_type": "markdown",
   "id": "ca32144c",
   "metadata": {},
   "source": [
    "# Data Cleaning – Mobile Service Dataset"
   ]
  },
  {
   "cell_type": "markdown",
   "id": "1b9932f3",
   "metadata": {},
   "source": [
    "## __1. Libraries__"
   ]
  },
  {
   "cell_type": "code",
   "execution_count": 1,
   "id": "25981453",
   "metadata": {},
   "outputs": [],
   "source": [
    "from IPython.display import display, HTML\n",
    "import os\n",
    "import pandas as pd\n",
    "from pathlib import Path\n",
    "import sys\n",
    "\n",
    "# Define project root dynamically, gets the current directory from which the notebook belongs and moves one level upper\n",
    "project_root = Path.cwd().parent\n",
    "\n",
    "# Add src to sys.path if it is not already\n",
    "if str(project_root) not in sys.path:\n",
    "    sys.path.append(str(project_root))\n",
    "\n",
    "# Import function directly (more controlled than import *)\n",
    "from src import *"
   ]
  },
  {
   "cell_type": "markdown",
   "id": "80a9b14e",
   "metadata": {},
   "source": [
    "## __2. Path to Data file__"
   ]
  },
  {
   "cell_type": "code",
   "execution_count": 2,
   "id": "198282e9",
   "metadata": {},
   "outputs": [],
   "source": [
    "# Build route to data file and upload\n",
    "data_file_path = project_root / \"data\" / \"raw\" / \"Megaline.zip\"\n",
    "df_calls = load_dataset_from_zip(data_file_path, \"megaline_calls.csv\", sep='|', header='infer', decimal=',', keep_default_na=False)\n",
    "df_internet = load_dataset_from_zip(data_file_path, \"megaline_internet.csv\", sep=';', header='infer', decimal=',', keep_default_na=False)\n",
    "df_messages = load_dataset_from_zip(data_file_path, \"megaline_messages.csv\", sep='/', header='infer', keep_default_na=False)\n",
    "df_plans = load_dataset_from_zip(data_file_path, \"megaline_plans.csv\", sep=';', header='infer', keep_default_na=False)\n",
    "df_users = load_dataset_from_zip(data_file_path, \"megaline_users.csv\", sep='|', header='infer', keep_default_na=False)"
   ]
  },
  {
   "cell_type": "markdown",
   "id": "c8293e31",
   "metadata": {},
   "source": [
    "##### `LSPL`\n",
    "\n",
    "**Note:** `keep_default_na=False` is used to later convert missing values to `pd.NA`.  \n",
    "This is beneficial because `pd.NA` provides:\n",
    "\n",
    "- Consistency across data types  \n",
    "- Type integrity preservation  \n",
    "- Cleaner logical operations  \n",
    "- Improved control over missing data\n",
    "\n",
    "Since high performance or heavy computation is not required here, using `pd.NA` is appropriate."
   ]
  },
  {
   "cell_type": "code",
   "execution_count": 3,
   "id": "3edd5dd5",
   "metadata": {},
   "outputs": [],
   "source": [
    "# Format notebook output\n",
    "format_notebook()"
   ]
  },
  {
   "cell_type": "markdown",
   "id": "76255815",
   "metadata": {},
   "source": [
    "## __3. Data set cleaning__"
   ]
  },
  {
   "cell_type": "code",
   "execution_count": 4,
   "id": "dd602d96",
   "metadata": {},
   "outputs": [
    {
     "name": "stdout",
     "output_type": "stream",
     "text": [
      "<class 'pandas.core.frame.DataFrame'>\n",
      "RangeIndex: 137735 entries, 0 to 137734\n",
      "Data columns (total 4 columns):\n",
      " #   Column      Non-Null Count   Dtype  \n",
      "---  ------      --------------   -----  \n",
      " 0   ID          137735 non-null  object \n",
      " 1      USER Id  137735 non-null  int64  \n",
      " 2   Call DATE   137735 non-null  object \n",
      " 3    Duration   137735 non-null  float64\n",
      "dtypes: float64(1), int64(1), object(2)\n",
      "memory usage: 4.2+ MB\n"
     ]
    }
   ],
   "source": [
    "df_calls.info()"
   ]
  },
  {
   "cell_type": "code",
   "execution_count": 5,
   "id": "8fc761ca",
   "metadata": {},
   "outputs": [
    {
     "name": "stdout",
     "output_type": "stream",
     "text": [
      "<class 'pandas.core.frame.DataFrame'>\n",
      "RangeIndex: 104825 entries, 0 to 104824\n",
      "Data columns (total 4 columns):\n",
      " #   Column          Non-Null Count   Dtype  \n",
      "---  ------          --------------   -----  \n",
      " 0      Id           104825 non-null  object \n",
      " 1      User ID      104825 non-null  int64  \n",
      " 2    session Date   104825 non-null  object \n",
      " 3    MB USED        104825 non-null  float64\n",
      "dtypes: float64(1), int64(1), object(2)\n",
      "memory usage: 3.2+ MB\n"
     ]
    }
   ],
   "source": [
    "df_internet.info()"
   ]
  },
  {
   "cell_type": "code",
   "execution_count": 6,
   "id": "81be8408",
   "metadata": {},
   "outputs": [
    {
     "name": "stdout",
     "output_type": "stream",
     "text": [
      "<class 'pandas.core.frame.DataFrame'>\n",
      "RangeIndex: 76051 entries, 0 to 76050\n",
      "Data columns (total 3 columns):\n",
      " #   Column           Non-Null Count  Dtype \n",
      "---  ------           --------------  ----- \n",
      " 0   iD               76051 non-null  object\n",
      " 1      useR ID       76051 non-null  int64 \n",
      " 2    Message DATE    76051 non-null  object\n",
      "dtypes: int64(1), object(2)\n",
      "memory usage: 1.7+ MB\n"
     ]
    }
   ],
   "source": [
    "df_messages.info()"
   ]
  },
  {
   "cell_type": "code",
   "execution_count": 7,
   "id": "11f5fa87",
   "metadata": {},
   "outputs": [
    {
     "name": "stdout",
     "output_type": "stream",
     "text": [
      "<class 'pandas.core.frame.DataFrame'>\n",
      "RangeIndex: 2 entries, 0 to 1\n",
      "Data columns (total 8 columns):\n",
      " #   Column                    Non-Null Count  Dtype  \n",
      "---  ------                    --------------  -----  \n",
      " 0   Messages Included         2 non-null      int64  \n",
      " 1   MB Per month Included     2 non-null      int64  \n",
      " 2    Minutes Included         2 non-null      int64  \n",
      " 3      UsD monthly PAY        2 non-null      int64  \n",
      " 4    usd per GB               2 non-null      int64  \n",
      " 5       usd PER  message      2 non-null      float64\n",
      " 6    usd per Minute           2 non-null      float64\n",
      " 7     Plan Name               2 non-null      object \n",
      "dtypes: float64(2), int64(5), object(1)\n",
      "memory usage: 260.0+ bytes\n"
     ]
    }
   ],
   "source": [
    "df_plans.info()"
   ]
  },
  {
   "cell_type": "code",
   "execution_count": 8,
   "id": "6346fda6",
   "metadata": {},
   "outputs": [
    {
     "name": "stdout",
     "output_type": "stream",
     "text": [
      "<class 'pandas.core.frame.DataFrame'>\n",
      "RangeIndex: 500 entries, 0 to 499\n",
      "Data columns (total 8 columns):\n",
      " #   Column         Non-Null Count  Dtype \n",
      "---  ------         --------------  ----- \n",
      " 0    User Id       500 non-null    int64 \n",
      " 1   First name     500 non-null    object\n",
      " 2    Last name     500 non-null    object\n",
      " 3   Age            500 non-null    int64 \n",
      " 4   City           500 non-null    object\n",
      " 5      reg date    500 non-null    object\n",
      " 6      plan        500 non-null    object\n",
      " 7    Churn Date    500 non-null    object\n",
      "dtypes: int64(2), object(6)\n",
      "memory usage: 31.4+ KB\n"
     ]
    }
   ],
   "source": [
    "df_users.info()"
   ]
  },
  {
   "cell_type": "markdown",
   "id": "9ecc42c7",
   "metadata": {},
   "source": [
    "### 3.1. Standardizing String values using \"snake case\""
   ]
  },
  {
   "cell_type": "markdown",
   "id": "e009a930",
   "metadata": {},
   "source": [
    "#### 3.1.1 Standardizing Column Labels"
   ]
  },
  {
   "cell_type": "code",
   "execution_count": 9,
   "id": "05669bd8",
   "metadata": {},
   "outputs": [
    {
     "data": {
      "text/plain": [
       "Index(['call_id', 'user_id', 'call_date', 'duration'], dtype='object')"
      ]
     },
     "execution_count": 9,
     "metadata": {},
     "output_type": "execute_result"
    }
   ],
   "source": [
    "# Standardize column labels with snake_case format\n",
    "df_calls = normalize_columns_headers_format(df_calls)\n",
    "df_calls.columns = ['call_id'] + list(df_calls.columns[1:])\n",
    "df_calls.columns"
   ]
  },
  {
   "cell_type": "code",
   "execution_count": 10,
   "id": "1f98196f",
   "metadata": {},
   "outputs": [
    {
     "data": {
      "text/plain": [
       "Index(['session_id', 'user_id', 'session_date', 'mb_used'], dtype='object')"
      ]
     },
     "execution_count": 10,
     "metadata": {},
     "output_type": "execute_result"
    }
   ],
   "source": [
    "df_internet = normalize_columns_headers_format(df_internet)\n",
    "df_internet.columns = ['session_id'] + list(df_internet.columns[1:])\n",
    "df_internet.columns"
   ]
  },
  {
   "cell_type": "code",
   "execution_count": 11,
   "id": "a90fb2c0",
   "metadata": {},
   "outputs": [
    {
     "data": {
      "text/plain": [
       "Index(['message_id', 'user_id', 'message_date'], dtype='object')"
      ]
     },
     "execution_count": 11,
     "metadata": {},
     "output_type": "execute_result"
    }
   ],
   "source": [
    "df_messages = normalize_columns_headers_format(df_messages)\n",
    "df_messages.columns = ['message_id'] + list(df_messages.columns[1:])\n",
    "df_messages.columns"
   ]
  },
  {
   "cell_type": "code",
   "execution_count": 12,
   "id": "0f069267",
   "metadata": {},
   "outputs": [
    {
     "data": {
      "text/plain": [
       "Index(['messages_included', 'mb_per_month_included', 'minutes_included', 'usd_monthly_pay', 'usd_per_gb', 'usd_per_message', 'usd_per_minute',\n",
       "       'plan_name'],\n",
       "      dtype='object')"
      ]
     },
     "execution_count": 12,
     "metadata": {},
     "output_type": "execute_result"
    }
   ],
   "source": [
    "df_plans = normalize_columns_headers_format(df_plans)\n",
    "df_plans.columns"
   ]
  },
  {
   "cell_type": "code",
   "execution_count": 13,
   "id": "802df341",
   "metadata": {},
   "outputs": [
    {
     "data": {
      "text/plain": [
       "Index(['user_id', 'first_name', 'last_name', 'age', 'city', 'reg_date', 'plan', 'churn_date'], dtype='object')"
      ]
     },
     "execution_count": 13,
     "metadata": {},
     "output_type": "execute_result"
    }
   ],
   "source": [
    "df_users = normalize_columns_headers_format(df_users)\n",
    "df_users.columns"
   ]
  },
  {
   "cell_type": "markdown",
   "id": "0cc7d74b",
   "metadata": {},
   "source": [
    "#### 3.1.2 Standardizing Dataframe String values"
   ]
  },
  {
   "cell_type": "code",
   "execution_count": 14,
   "id": "3482a2aa",
   "metadata": {},
   "outputs": [
    {
     "data": {
      "application/vnd.microsoft.datawrangler.viewer.v0+json": {
       "columns": [
        {
         "name": "index",
         "rawType": "int64",
         "type": "integer"
        },
        {
         "name": "messages_included",
         "rawType": "int64",
         "type": "integer"
        },
        {
         "name": "mb_per_month_included",
         "rawType": "int64",
         "type": "integer"
        },
        {
         "name": "minutes_included",
         "rawType": "int64",
         "type": "integer"
        },
        {
         "name": "usd_monthly_pay",
         "rawType": "int64",
         "type": "integer"
        },
        {
         "name": "usd_per_gb",
         "rawType": "int64",
         "type": "integer"
        },
        {
         "name": "usd_per_message",
         "rawType": "float64",
         "type": "float"
        },
        {
         "name": "usd_per_minute",
         "rawType": "float64",
         "type": "float"
        },
        {
         "name": "plan_name",
         "rawType": "object",
         "type": "string"
        }
       ],
       "ref": "f40b72c5-5ace-4d34-9856-6f0612c557d4",
       "rows": [
        [
         "0",
         "50",
         "15360",
         "500",
         "20",
         "10",
         "0.03",
         "0.03",
         "surf"
        ],
        [
         "1",
         "1000",
         "30720",
         "3000",
         "70",
         "7",
         "0.01",
         "0.01",
         "ultimate"
        ]
       ],
       "shape": {
        "columns": 8,
        "rows": 2
       }
      },
      "text/html": [
       "<div>\n",
       "<style scoped>\n",
       "    .dataframe tbody tr th:only-of-type {\n",
       "        vertical-align: middle;\n",
       "    }\n",
       "\n",
       "    .dataframe tbody tr th {\n",
       "        vertical-align: top;\n",
       "    }\n",
       "\n",
       "    .dataframe thead th {\n",
       "        text-align: right;\n",
       "    }\n",
       "</style>\n",
       "<table border=\"1\" class=\"dataframe\">\n",
       "  <thead>\n",
       "    <tr style=\"text-align: right;\">\n",
       "      <th></th>\n",
       "      <th>messages_included</th>\n",
       "      <th>mb_per_month_included</th>\n",
       "      <th>minutes_included</th>\n",
       "      <th>usd_monthly_pay</th>\n",
       "      <th>usd_per_gb</th>\n",
       "      <th>usd_per_message</th>\n",
       "      <th>usd_per_minute</th>\n",
       "      <th>plan_name</th>\n",
       "    </tr>\n",
       "  </thead>\n",
       "  <tbody>\n",
       "    <tr>\n",
       "      <th>0</th>\n",
       "      <td>50</td>\n",
       "      <td>15360</td>\n",
       "      <td>500</td>\n",
       "      <td>20</td>\n",
       "      <td>10</td>\n",
       "      <td>0.03</td>\n",
       "      <td>0.03</td>\n",
       "      <td>surf</td>\n",
       "    </tr>\n",
       "    <tr>\n",
       "      <th>1</th>\n",
       "      <td>1000</td>\n",
       "      <td>30720</td>\n",
       "      <td>3000</td>\n",
       "      <td>70</td>\n",
       "      <td>7</td>\n",
       "      <td>0.01</td>\n",
       "      <td>0.01</td>\n",
       "      <td>ultimate</td>\n",
       "    </tr>\n",
       "  </tbody>\n",
       "</table>\n",
       "</div>"
      ],
      "text/plain": [
       "   messages_included  mb_per_month_included  minutes_included  usd_monthly_pay  usd_per_gb  usd_per_message  usd_per_minute plan_name\n",
       "0                 50                  15360               500               20          10             0.03            0.03      surf\n",
       "1               1000                  30720              3000               70           7             0.01            0.01  ultimate"
      ]
     },
     "execution_count": 14,
     "metadata": {},
     "output_type": "execute_result"
    }
   ],
   "source": [
    "# Standardize data frame string values with snake_case format\n",
    "df_plans = normalize_string_format(df_plans, include=['plan_name'])\n",
    "df_plans"
   ]
  },
  {
   "cell_type": "code",
   "execution_count": 15,
   "id": "a6de27e3",
   "metadata": {},
   "outputs": [
    {
     "data": {
      "application/vnd.microsoft.datawrangler.viewer.v0+json": {
       "columns": [
        {
         "name": "index",
         "rawType": "int64",
         "type": "integer"
        },
        {
         "name": "user_id",
         "rawType": "int64",
         "type": "integer"
        },
        {
         "name": "first_name",
         "rawType": "object",
         "type": "string"
        },
        {
         "name": "last_name",
         "rawType": "object",
         "type": "string"
        },
        {
         "name": "age",
         "rawType": "int64",
         "type": "integer"
        },
        {
         "name": "city",
         "rawType": "object",
         "type": "string"
        },
        {
         "name": "reg_date",
         "rawType": "object",
         "type": "string"
        },
        {
         "name": "plan",
         "rawType": "object",
         "type": "string"
        },
        {
         "name": "churn_date",
         "rawType": "object",
         "type": "string"
        }
       ],
       "ref": "67c505d0-42e4-4b79-97d7-28059688cf4f",
       "rows": [
        [
         "0",
         "1000",
         "anamaria",
         "bauer",
         "45",
         "atlanta_sandy_springs_roswell,_ga_msa",
         "2018-12-24",
         "ultimate",
         ""
        ],
        [
         "1",
         "1001",
         "mickey",
         "wilkerson",
         "28",
         "seattle_tacoma_bellevue,_wa_msa",
         "2018-08-13",
         "surf",
         ""
        ],
        [
         "2",
         "1002",
         "carlee",
         "hoffman",
         "36",
         "las_vegas_henderson_paradise,_nv_msa",
         "2018-10-21",
         "surf",
         ""
        ],
        [
         "3",
         "1003",
         "reynaldo",
         "jenkins",
         "52",
         "tulsa,_ok_msa",
         "2018-01-28",
         "surf",
         ""
        ],
        [
         "4",
         "1004",
         "leonila",
         "thompson",
         "40",
         "seattle_tacoma_bellevue,_wa_msa",
         "2018-05-23",
         "surf",
         ""
        ],
        [
         "5",
         "1005",
         "livia",
         "shields",
         "31",
         "dallas_fort_worth_arlington,_tx_msa",
         "2018-11-29",
         "surf",
         ""
        ],
        [
         "6",
         "1006",
         "jesusa",
         "bradford",
         "73",
         "san_francisco_oakland_berkeley,_ca_msa",
         "2018-11-27",
         "ultimate",
         "2018-12-18"
        ],
        [
         "7",
         "1007",
         "eusebio",
         "welch",
         "42",
         "grand_rapids_kentwood,_mi_msa",
         "2018-07-11",
         "surf",
         ""
        ],
        [
         "8",
         "1008",
         "emely",
         "hoffman",
         "53",
         "orlando_kissimmee_sanford,_fl_msa",
         "2018-08-03",
         "ultimate",
         ""
        ],
        [
         "9",
         "1009",
         "gerry",
         "little",
         "19",
         "san_jose_sunnyvale_santa_clara,_ca_msa",
         "2018-04-22",
         "surf",
         ""
        ],
        [
         "10",
         "1010",
         "wilber",
         "blair",
         "52",
         "dallas_fort_worth_arlington,_tx_msa",
         "2018-03-09",
         "surf",
         ""
        ],
        [
         "11",
         "1011",
         "halina",
         "henry",
         "73",
         "cleveland_elyria,_oh_msa",
         "2018-01-18",
         "ultimate",
         ""
        ],
        [
         "12",
         "1012",
         "jonelle",
         "mcbride",
         "59",
         "chicago_naperville_elgin,_il_in_wi_msa",
         "2018-06-28",
         "surf",
         "2018-11-16"
        ],
        [
         "13",
         "1013",
         "nicolas",
         "snider",
         "50",
         "knoxville,_tn_msa",
         "2018-12-01",
         "ultimate",
         ""
        ],
        [
         "14",
         "1014",
         "edmundo",
         "simon",
         "61",
         "new_york_newark_jersey_city,_ny_nj_pa_msa",
         "2018-11-25",
         "surf",
         ""
        ],
        [
         "15",
         "1015",
         "beata",
         "carpenter",
         "26",
         "pittsburgh,_pa_msa",
         "2018-12-05",
         "surf",
         ""
        ],
        [
         "16",
         "1016",
         "jann",
         "salinas",
         "30",
         "fresno,_ca_msa",
         "2018-10-25",
         "surf",
         ""
        ],
        [
         "17",
         "1017",
         "boris",
         "gates",
         "61",
         "washington_arlington_alexandria,_dc_va_md_wv_msa",
         "2018-08-26",
         "surf",
         ""
        ],
        [
         "18",
         "1018",
         "dennis",
         "grimes",
         "70",
         "indianapolis_carmel_anderson,_in_msa",
         "2018-10-17",
         "surf",
         ""
        ],
        [
         "19",
         "1019",
         "shizue",
         "landry",
         "34",
         "jacksonville,_fl_msa",
         "2018-01-16",
         "surf",
         ""
        ],
        [
         "20",
         "1020",
         "rutha",
         "bell",
         "56",
         "dallas_fort_worth_arlington,_tx_msa",
         "2018-11-08",
         "surf",
         ""
        ],
        [
         "21",
         "1021",
         "ricarda",
         "booker",
         "37",
         "los_angeles_long_beach_anaheim,_ca_msa",
         "2018-12-21",
         "surf",
         ""
        ],
        [
         "22",
         "1022",
         "bo",
         "snow",
         "73",
         "new_york_newark_jersey_city,_ny_nj_pa_msa",
         "2018-04-20",
         "surf",
         "2018-09-07"
        ],
        [
         "23",
         "1023",
         "jack",
         "delaney",
         "70",
         "omaha_council_bluffs,_ne_ia_msa",
         "2018-07-06",
         "surf",
         ""
        ],
        [
         "24",
         "1024",
         "yuki",
         "tyson",
         "74",
         "new_york_newark_jersey_city,_ny_nj_pa_msa",
         "2018-08-21",
         "surf",
         ""
        ],
        [
         "25",
         "1025",
         "jess",
         "wilkinson",
         "64",
         "atlanta_sandy_springs_roswell,_ga_msa",
         "2018-10-28",
         "ultimate",
         ""
        ],
        [
         "26",
         "1026",
         "meggan",
         "hamilton",
         "49",
         "houston_the_woodlands_sugar_land,_tx_msa",
         "2018-07-20",
         "ultimate",
         ""
        ],
        [
         "27",
         "1027",
         "georgeanna",
         "cardenas",
         "38",
         "new_york_newark_jersey_city,_ny_nj_pa_msa",
         "2018-06-26",
         "surf",
         ""
        ],
        [
         "28",
         "1028",
         "jefferey",
         "rasmussen",
         "57",
         "philadelphia_camden_wilmington,_pa_nj_de_md_msa",
         "2018-02-21",
         "ultimate",
         ""
        ],
        [
         "29",
         "1029",
         "franklyn",
         "henson",
         "59",
         "tampa_st_petersburg_clearwater,_fl_msa",
         "2018-01-05",
         "surf",
         ""
        ],
        [
         "30",
         "1030",
         "chase",
         "kane",
         "30",
         "chicago_naperville_elgin,_il_in_wi_msa",
         "2018-02-14",
         "ultimate",
         ""
        ],
        [
         "31",
         "1031",
         "lane",
         "martin",
         "52",
         "new_york_newark_jersey_city,_ny_nj_pa_msa",
         "2018-07-15",
         "ultimate",
         ""
        ],
        [
         "32",
         "1032",
         "delila",
         "dalton",
         "59",
         "birmingham_hoover,_al_msa",
         "2018-06-07",
         "ultimate",
         ""
        ],
        [
         "33",
         "1033",
         "latoyia",
         "moran",
         "28",
         "oklahoma_city,_ok_msa",
         "2018-05-30",
         "ultimate",
         ""
        ],
        [
         "34",
         "1034",
         "jc",
         "gentry",
         "22",
         "new_york_newark_jersey_city,_ny_nj_pa_msa",
         "2018-08-13",
         "surf",
         ""
        ],
        [
         "35",
         "1035",
         "jeff",
         "cummings",
         "67",
         "charlotte_concord_gastonia,_nc_sc_msa",
         "2018-12-08",
         "surf",
         ""
        ],
        [
         "36",
         "1036",
         "myron",
         "hodge",
         "70",
         "denver_aurora_lakewood,_co_msa",
         "2018-05-09",
         "ultimate",
         ""
        ],
        [
         "37",
         "1037",
         "reena",
         "velazquez",
         "20",
         "seattle_tacoma_bellevue,_wa_msa",
         "2018-08-11",
         "ultimate",
         ""
        ],
        [
         "38",
         "1038",
         "olympia",
         "velazquez",
         "32",
         "nashville_davidson_murfreesboro_franklin,_tn_msa",
         "2018-06-25",
         "ultimate",
         ""
        ],
        [
         "39",
         "1039",
         "flo",
         "hicks",
         "56",
         "columbus,_oh_msa",
         "2018-05-30",
         "ultimate",
         ""
        ],
        [
         "40",
         "1040",
         "paris",
         "santos",
         "72",
         "philadelphia_camden_wilmington,_pa_nj_de_md_msa",
         "2018-12-23",
         "surf",
         "2018-12-30"
        ],
        [
         "41",
         "1041",
         "drucilla",
         "lynn",
         "58",
         "las_vegas_henderson_paradise,_nv_msa",
         "2018-03-17",
         "ultimate",
         ""
        ],
        [
         "42",
         "1042",
         "clementina",
         "mclaughlin",
         "40",
         "philadelphia_camden_wilmington,_pa_nj_de_md_msa",
         "2018-01-15",
         "surf",
         ""
        ],
        [
         "43",
         "1043",
         "carlos",
         "hinton",
         "42",
         "new_york_newark_jersey_city,_ny_nj_pa_msa",
         "2018-06-20",
         "ultimate",
         ""
        ],
        [
         "44",
         "1044",
         "devora",
         "galloway",
         "74",
         "albuquerque,_nm_msa",
         "2018-08-30",
         "surf",
         ""
        ],
        [
         "45",
         "1045",
         "barney",
         "ortega",
         "20",
         "new_york_newark_jersey_city,_ny_nj_pa_msa",
         "2018-10-15",
         "surf",
         ""
        ],
        [
         "46",
         "1046",
         "beata",
         "hooper",
         "67",
         "boston_cambridge_newton,_ma_nh_msa",
         "2018-02-19",
         "surf",
         ""
        ],
        [
         "47",
         "1047",
         "yuk",
         "french",
         "22",
         "indianapolis_carmel_anderson,_in_msa",
         "2018-06-16",
         "ultimate",
         ""
        ],
        [
         "48",
         "1048",
         "linwood",
         "terrell",
         "42",
         "miami_fort_lauderdale_west_palm_beach,_fl_msa",
         "2018-08-24",
         "surf",
         ""
        ],
        [
         "49",
         "1049",
         "loise",
         "avery",
         "25",
         "new_york_newark_jersey_city,_ny_nj_pa_msa",
         "2018-02-21",
         "surf",
         ""
        ]
       ],
       "shape": {
        "columns": 8,
        "rows": 500
       }
      },
      "text/html": [
       "<div>\n",
       "<style scoped>\n",
       "    .dataframe tbody tr th:only-of-type {\n",
       "        vertical-align: middle;\n",
       "    }\n",
       "\n",
       "    .dataframe tbody tr th {\n",
       "        vertical-align: top;\n",
       "    }\n",
       "\n",
       "    .dataframe thead th {\n",
       "        text-align: right;\n",
       "    }\n",
       "</style>\n",
       "<table border=\"1\" class=\"dataframe\">\n",
       "  <thead>\n",
       "    <tr style=\"text-align: right;\">\n",
       "      <th></th>\n",
       "      <th>user_id</th>\n",
       "      <th>first_name</th>\n",
       "      <th>last_name</th>\n",
       "      <th>age</th>\n",
       "      <th>city</th>\n",
       "      <th>reg_date</th>\n",
       "      <th>plan</th>\n",
       "      <th>churn_date</th>\n",
       "    </tr>\n",
       "  </thead>\n",
       "  <tbody>\n",
       "    <tr>\n",
       "      <th>0</th>\n",
       "      <td>1000</td>\n",
       "      <td>anamaria</td>\n",
       "      <td>bauer</td>\n",
       "      <td>45</td>\n",
       "      <td>atlanta_sandy_springs_roswell,_ga_msa</td>\n",
       "      <td>2018-12-24</td>\n",
       "      <td>ultimate</td>\n",
       "      <td></td>\n",
       "    </tr>\n",
       "    <tr>\n",
       "      <th>1</th>\n",
       "      <td>1001</td>\n",
       "      <td>mickey</td>\n",
       "      <td>wilkerson</td>\n",
       "      <td>28</td>\n",
       "      <td>seattle_tacoma_bellevue,_wa_msa</td>\n",
       "      <td>2018-08-13</td>\n",
       "      <td>surf</td>\n",
       "      <td></td>\n",
       "    </tr>\n",
       "    <tr>\n",
       "      <th>2</th>\n",
       "      <td>1002</td>\n",
       "      <td>carlee</td>\n",
       "      <td>hoffman</td>\n",
       "      <td>36</td>\n",
       "      <td>las_vegas_henderson_paradise,_nv_msa</td>\n",
       "      <td>2018-10-21</td>\n",
       "      <td>surf</td>\n",
       "      <td></td>\n",
       "    </tr>\n",
       "    <tr>\n",
       "      <th>3</th>\n",
       "      <td>1003</td>\n",
       "      <td>reynaldo</td>\n",
       "      <td>jenkins</td>\n",
       "      <td>52</td>\n",
       "      <td>tulsa,_ok_msa</td>\n",
       "      <td>2018-01-28</td>\n",
       "      <td>surf</td>\n",
       "      <td></td>\n",
       "    </tr>\n",
       "    <tr>\n",
       "      <th>4</th>\n",
       "      <td>1004</td>\n",
       "      <td>leonila</td>\n",
       "      <td>thompson</td>\n",
       "      <td>40</td>\n",
       "      <td>seattle_tacoma_bellevue,_wa_msa</td>\n",
       "      <td>2018-05-23</td>\n",
       "      <td>surf</td>\n",
       "      <td></td>\n",
       "    </tr>\n",
       "    <tr>\n",
       "      <th>...</th>\n",
       "      <td>...</td>\n",
       "      <td>...</td>\n",
       "      <td>...</td>\n",
       "      <td>...</td>\n",
       "      <td>...</td>\n",
       "      <td>...</td>\n",
       "      <td>...</td>\n",
       "      <td>...</td>\n",
       "    </tr>\n",
       "    <tr>\n",
       "      <th>495</th>\n",
       "      <td>1495</td>\n",
       "      <td>fidel</td>\n",
       "      <td>sharpe</td>\n",
       "      <td>67</td>\n",
       "      <td>new_york_newark_jersey_city,_ny_nj_pa_msa</td>\n",
       "      <td>2018-09-04</td>\n",
       "      <td>surf</td>\n",
       "      <td></td>\n",
       "    </tr>\n",
       "    <tr>\n",
       "      <th>496</th>\n",
       "      <td>1496</td>\n",
       "      <td>ariel</td>\n",
       "      <td>shepherd</td>\n",
       "      <td>49</td>\n",
       "      <td>new_orleans_metairie,_la_msa</td>\n",
       "      <td>2018-02-20</td>\n",
       "      <td>surf</td>\n",
       "      <td></td>\n",
       "    </tr>\n",
       "    <tr>\n",
       "      <th>497</th>\n",
       "      <td>1497</td>\n",
       "      <td>donte</td>\n",
       "      <td>barrera</td>\n",
       "      <td>49</td>\n",
       "      <td>los_angeles_long_beach_anaheim,_ca_msa</td>\n",
       "      <td>2018-12-10</td>\n",
       "      <td>ultimate</td>\n",
       "      <td></td>\n",
       "    </tr>\n",
       "    <tr>\n",
       "      <th>498</th>\n",
       "      <td>1498</td>\n",
       "      <td>scot</td>\n",
       "      <td>williamson</td>\n",
       "      <td>51</td>\n",
       "      <td>new_york_newark_jersey_city,_ny_nj_pa_msa</td>\n",
       "      <td>2018-02-04</td>\n",
       "      <td>surf</td>\n",
       "      <td></td>\n",
       "    </tr>\n",
       "    <tr>\n",
       "      <th>499</th>\n",
       "      <td>1499</td>\n",
       "      <td>shena</td>\n",
       "      <td>dickson</td>\n",
       "      <td>37</td>\n",
       "      <td>orlando_kissimmee_sanford,_fl_msa</td>\n",
       "      <td>2018-05-06</td>\n",
       "      <td>surf</td>\n",
       "      <td></td>\n",
       "    </tr>\n",
       "  </tbody>\n",
       "</table>\n",
       "<p>500 rows × 8 columns</p>\n",
       "</div>"
      ],
      "text/plain": [
       "     user_id first_name   last_name  age                                       city    reg_date      plan churn_date\n",
       "0       1000   anamaria       bauer   45      atlanta_sandy_springs_roswell,_ga_msa  2018-12-24  ultimate           \n",
       "1       1001     mickey   wilkerson   28            seattle_tacoma_bellevue,_wa_msa  2018-08-13      surf           \n",
       "2       1002     carlee     hoffman   36       las_vegas_henderson_paradise,_nv_msa  2018-10-21      surf           \n",
       "3       1003   reynaldo     jenkins   52                              tulsa,_ok_msa  2018-01-28      surf           \n",
       "4       1004    leonila    thompson   40            seattle_tacoma_bellevue,_wa_msa  2018-05-23      surf           \n",
       "..       ...        ...         ...  ...                                        ...         ...       ...        ...\n",
       "495     1495      fidel      sharpe   67  new_york_newark_jersey_city,_ny_nj_pa_msa  2018-09-04      surf           \n",
       "496     1496      ariel    shepherd   49               new_orleans_metairie,_la_msa  2018-02-20      surf           \n",
       "497     1497      donte     barrera   49     los_angeles_long_beach_anaheim,_ca_msa  2018-12-10  ultimate           \n",
       "498     1498       scot  williamson   51  new_york_newark_jersey_city,_ny_nj_pa_msa  2018-02-04      surf           \n",
       "499     1499      shena     dickson   37          orlando_kissimmee_sanford,_fl_msa  2018-05-06      surf           \n",
       "\n",
       "[500 rows x 8 columns]"
      ]
     },
     "execution_count": 15,
     "metadata": {},
     "output_type": "execute_result"
    }
   ],
   "source": [
    "df_users = normalize_string_format(df_users, include=['first_name', 'last_name', 'city', 'plan'])\n",
    "df_users"
   ]
  },
  {
   "cell_type": "markdown",
   "id": "0f4c8b22",
   "metadata": {},
   "source": [
    "##### `LSPL`\n",
    "\n",
    "**Note:** \n",
    "\n",
    "The column names and string values did not follow a consistent format; they contained spaces and capital letters, making them difficult to manipulate.\n",
    "\n",
    "__Solution__: Column names and string values were standardized using lowercase letters, removing spaces, and applying the snake_case format.   \n",
    "__Impact__: This facilitated data access and manipulation, improving readability and reducing errors in analysis."
   ]
  },
  {
   "cell_type": "markdown",
   "id": "61835131",
   "metadata": {},
   "source": [
    "### 3.2 Explicit duplicates"
   ]
  },
  {
   "cell_type": "code",
   "execution_count": 16,
   "id": "b0c9d50f",
   "metadata": {},
   "outputs": [
    {
     "data": {
      "text/html": [
       "> Explicit duplicates amount Dataframe <i>'df_calls'</i>: <b>0</b>"
      ],
      "text/plain": [
       "<IPython.core.display.HTML object>"
      ]
     },
     "metadata": {},
     "output_type": "display_data"
    }
   ],
   "source": [
    "# Show explicit duplicates amount\n",
    "display(HTML(f\"> Explicit duplicates amount Dataframe <i>'df_calls'</i>: <b>{df_calls.duplicated().sum()}</b>\"))"
   ]
  },
  {
   "cell_type": "code",
   "execution_count": 17,
   "id": "7dca6bf0",
   "metadata": {},
   "outputs": [
    {
     "data": {
      "text/html": [
       "> Explicit duplicates amount Dataframe <i>'df_internet'</i>: <b>0</b>"
      ],
      "text/plain": [
       "<IPython.core.display.HTML object>"
      ]
     },
     "metadata": {},
     "output_type": "display_data"
    }
   ],
   "source": [
    "display(HTML(f\"> Explicit duplicates amount Dataframe <i>'df_internet'</i>: <b>{df_internet.duplicated().sum()}</b>\"))"
   ]
  },
  {
   "cell_type": "code",
   "execution_count": 18,
   "id": "29bf2f49",
   "metadata": {},
   "outputs": [
    {
     "data": {
      "text/html": [
       "> Explicit duplicates amount Dataframe <i>'df_messages'</i>: <b>0</b>"
      ],
      "text/plain": [
       "<IPython.core.display.HTML object>"
      ]
     },
     "metadata": {},
     "output_type": "display_data"
    }
   ],
   "source": [
    "display(HTML(f\"> Explicit duplicates amount Dataframe <i>'df_messages'</i>: <b>{df_messages.duplicated().sum()}</b>\"))"
   ]
  },
  {
   "cell_type": "code",
   "execution_count": 19,
   "id": "a95a37e8",
   "metadata": {},
   "outputs": [
    {
     "data": {
      "text/html": [
       "> Explicit duplicates amount Dataframe <i>'df_plans'</i>: <b>0</b>"
      ],
      "text/plain": [
       "<IPython.core.display.HTML object>"
      ]
     },
     "metadata": {},
     "output_type": "display_data"
    }
   ],
   "source": [
    "display(HTML(f\"> Explicit duplicates amount Dataframe <i>'df_plans'</i>: <b>{df_plans.duplicated().sum()}</b>\"))"
   ]
  },
  {
   "cell_type": "code",
   "execution_count": 20,
   "id": "315cf4ac",
   "metadata": {},
   "outputs": [],
   "source": [
    "# Delete explicit duplicated rows\n",
    "# Not required"
   ]
  },
  {
   "cell_type": "markdown",
   "id": "6ad10fbf",
   "metadata": {},
   "source": [
    "##### `LSPL`\n",
    "\n",
    "**Note:** \n",
    "\n",
    "No explicit duplicate rows were detected."
   ]
  },
  {
   "cell_type": "markdown",
   "id": "9ac34c63",
   "metadata": {},
   "source": [
    "### 3.3 Missing values"
   ]
  },
  {
   "cell_type": "markdown",
   "id": "c4c13b8e",
   "metadata": {},
   "source": [
    "#### 3.3.1 Missing values check"
   ]
  },
  {
   "cell_type": "code",
   "execution_count": 21,
   "id": "702c85b7",
   "metadata": {},
   "outputs": [
    {
     "data": {
      "text/html": [
       "<h4>Scanning for Non-Standard Missing Values</h4>"
      ],
      "text/plain": [
       "<IPython.core.display.HTML object>"
      ]
     },
     "metadata": {},
     "output_type": "display_data"
    },
    {
     "data": {
      "text/html": [
       "> Missing values in column <i>'call_id'</i>: <b>None</b>"
      ],
      "text/plain": [
       "<IPython.core.display.HTML object>"
      ]
     },
     "metadata": {},
     "output_type": "display_data"
    },
    {
     "data": {
      "text/html": [
       "> Missing values in column <i>'user_id'</i>: <b>None</b>"
      ],
      "text/plain": [
       "<IPython.core.display.HTML object>"
      ]
     },
     "metadata": {},
     "output_type": "display_data"
    },
    {
     "data": {
      "text/html": [
       "> Missing values in column <i>'call_date'</i>: <b>None</b>"
      ],
      "text/plain": [
       "<IPython.core.display.HTML object>"
      ]
     },
     "metadata": {},
     "output_type": "display_data"
    },
    {
     "data": {
      "text/html": [
       "> Missing values in column <i>'duration'</i>: <b>None</b>"
      ],
      "text/plain": [
       "<IPython.core.display.HTML object>"
      ]
     },
     "metadata": {},
     "output_type": "display_data"
    },
    {
     "name": "stdout",
     "output_type": "stream",
     "text": [
      "\n"
     ]
    }
   ],
   "source": [
    "# Show missing values\n",
    "check_existing_missing_values(df_calls)"
   ]
  },
  {
   "cell_type": "code",
   "execution_count": 22,
   "id": "24658b2c",
   "metadata": {},
   "outputs": [
    {
     "data": {
      "text/html": [
       "<h4>Scanning for Non-Standard Missing Values</h4>"
      ],
      "text/plain": [
       "<IPython.core.display.HTML object>"
      ]
     },
     "metadata": {},
     "output_type": "display_data"
    },
    {
     "data": {
      "text/html": [
       "> Missing values in column <i>'session_id'</i>: <b>None</b>"
      ],
      "text/plain": [
       "<IPython.core.display.HTML object>"
      ]
     },
     "metadata": {},
     "output_type": "display_data"
    },
    {
     "data": {
      "text/html": [
       "> Missing values in column <i>'user_id'</i>: <b>None</b>"
      ],
      "text/plain": [
       "<IPython.core.display.HTML object>"
      ]
     },
     "metadata": {},
     "output_type": "display_data"
    },
    {
     "data": {
      "text/html": [
       "> Missing values in column <i>'session_date'</i>: <b>None</b>"
      ],
      "text/plain": [
       "<IPython.core.display.HTML object>"
      ]
     },
     "metadata": {},
     "output_type": "display_data"
    },
    {
     "data": {
      "text/html": [
       "> Missing values in column <i>'mb_used'</i>: <b>None</b>"
      ],
      "text/plain": [
       "<IPython.core.display.HTML object>"
      ]
     },
     "metadata": {},
     "output_type": "display_data"
    },
    {
     "name": "stdout",
     "output_type": "stream",
     "text": [
      "\n"
     ]
    }
   ],
   "source": [
    "check_existing_missing_values(df_internet)"
   ]
  },
  {
   "cell_type": "code",
   "execution_count": 23,
   "id": "5f28a8c8",
   "metadata": {},
   "outputs": [
    {
     "data": {
      "text/html": [
       "<h4>Scanning for Non-Standard Missing Values</h4>"
      ],
      "text/plain": [
       "<IPython.core.display.HTML object>"
      ]
     },
     "metadata": {},
     "output_type": "display_data"
    },
    {
     "data": {
      "text/html": [
       "> Missing values in column <i>'message_id'</i>: <b>None</b>"
      ],
      "text/plain": [
       "<IPython.core.display.HTML object>"
      ]
     },
     "metadata": {},
     "output_type": "display_data"
    },
    {
     "data": {
      "text/html": [
       "> Missing values in column <i>'user_id'</i>: <b>None</b>"
      ],
      "text/plain": [
       "<IPython.core.display.HTML object>"
      ]
     },
     "metadata": {},
     "output_type": "display_data"
    },
    {
     "data": {
      "text/html": [
       "> Missing values in column <i>'message_date'</i>: <b>None</b>"
      ],
      "text/plain": [
       "<IPython.core.display.HTML object>"
      ]
     },
     "metadata": {},
     "output_type": "display_data"
    },
    {
     "name": "stdout",
     "output_type": "stream",
     "text": [
      "\n"
     ]
    }
   ],
   "source": [
    "check_existing_missing_values(df_messages)"
   ]
  },
  {
   "cell_type": "code",
   "execution_count": 24,
   "id": "2a36a723",
   "metadata": {},
   "outputs": [
    {
     "data": {
      "text/html": [
       "<h4>Scanning for Non-Standard Missing Values</h4>"
      ],
      "text/plain": [
       "<IPython.core.display.HTML object>"
      ]
     },
     "metadata": {},
     "output_type": "display_data"
    },
    {
     "data": {
      "text/html": [
       "> Missing values in column <i>'messages_included'</i>: <b>None</b>"
      ],
      "text/plain": [
       "<IPython.core.display.HTML object>"
      ]
     },
     "metadata": {},
     "output_type": "display_data"
    },
    {
     "data": {
      "text/html": [
       "> Missing values in column <i>'mb_per_month_included'</i>: <b>None</b>"
      ],
      "text/plain": [
       "<IPython.core.display.HTML object>"
      ]
     },
     "metadata": {},
     "output_type": "display_data"
    },
    {
     "data": {
      "text/html": [
       "> Missing values in column <i>'minutes_included'</i>: <b>None</b>"
      ],
      "text/plain": [
       "<IPython.core.display.HTML object>"
      ]
     },
     "metadata": {},
     "output_type": "display_data"
    },
    {
     "data": {
      "text/html": [
       "> Missing values in column <i>'usd_monthly_pay'</i>: <b>None</b>"
      ],
      "text/plain": [
       "<IPython.core.display.HTML object>"
      ]
     },
     "metadata": {},
     "output_type": "display_data"
    },
    {
     "data": {
      "text/html": [
       "> Missing values in column <i>'usd_per_gb'</i>: <b>None</b>"
      ],
      "text/plain": [
       "<IPython.core.display.HTML object>"
      ]
     },
     "metadata": {},
     "output_type": "display_data"
    },
    {
     "data": {
      "text/html": [
       "> Missing values in column <i>'usd_per_message'</i>: <b>None</b>"
      ],
      "text/plain": [
       "<IPython.core.display.HTML object>"
      ]
     },
     "metadata": {},
     "output_type": "display_data"
    },
    {
     "data": {
      "text/html": [
       "> Missing values in column <i>'usd_per_minute'</i>: <b>None</b>"
      ],
      "text/plain": [
       "<IPython.core.display.HTML object>"
      ]
     },
     "metadata": {},
     "output_type": "display_data"
    },
    {
     "data": {
      "text/html": [
       "> Missing values in column <i>'plan_name'</i>: <b>None</b>"
      ],
      "text/plain": [
       "<IPython.core.display.HTML object>"
      ]
     },
     "metadata": {},
     "output_type": "display_data"
    },
    {
     "name": "stdout",
     "output_type": "stream",
     "text": [
      "\n"
     ]
    }
   ],
   "source": [
    "check_existing_missing_values(df_plans)"
   ]
  },
  {
   "cell_type": "code",
   "execution_count": 25,
   "id": "2deed4ff",
   "metadata": {},
   "outputs": [
    {
     "data": {
      "text/html": [
       "<h4>Scanning for Non-Standard Missing Values</h4>"
      ],
      "text/plain": [
       "<IPython.core.display.HTML object>"
      ]
     },
     "metadata": {},
     "output_type": "display_data"
    },
    {
     "data": {
      "text/html": [
       "> Missing values in column <i>'user_id'</i>: <b>None</b>"
      ],
      "text/plain": [
       "<IPython.core.display.HTML object>"
      ]
     },
     "metadata": {},
     "output_type": "display_data"
    },
    {
     "data": {
      "text/html": [
       "> Missing values in column <i>'first_name'</i>: <b>None</b>"
      ],
      "text/plain": [
       "<IPython.core.display.HTML object>"
      ]
     },
     "metadata": {},
     "output_type": "display_data"
    },
    {
     "data": {
      "text/html": [
       "> Missing values in column <i>'last_name'</i>: <b>None</b>"
      ],
      "text/plain": [
       "<IPython.core.display.HTML object>"
      ]
     },
     "metadata": {},
     "output_type": "display_data"
    },
    {
     "data": {
      "text/html": [
       "> Missing values in column <i>'age'</i>: <b>None</b>"
      ],
      "text/plain": [
       "<IPython.core.display.HTML object>"
      ]
     },
     "metadata": {},
     "output_type": "display_data"
    },
    {
     "data": {
      "text/html": [
       "> Missing values in column <i>'city'</i>: <b>None</b>"
      ],
      "text/plain": [
       "<IPython.core.display.HTML object>"
      ]
     },
     "metadata": {},
     "output_type": "display_data"
    },
    {
     "data": {
      "text/html": [
       "> Missing values in column <i>'reg_date'</i>: <b>None</b>"
      ],
      "text/plain": [
       "<IPython.core.display.HTML object>"
      ]
     },
     "metadata": {},
     "output_type": "display_data"
    },
    {
     "data": {
      "text/html": [
       "> Missing values in column <i>'plan'</i>: <b>None</b>"
      ],
      "text/plain": [
       "<IPython.core.display.HTML object>"
      ]
     },
     "metadata": {},
     "output_type": "display_data"
    },
    {
     "data": {
      "text/html": [
       "> Missing values in column <i>'churn_date'</i>: <b>466</b>"
      ],
      "text/plain": [
       "<IPython.core.display.HTML object>"
      ]
     },
     "metadata": {},
     "output_type": "display_data"
    },
    {
     "data": {
      "text/html": [
       "&emsp;Matched non-standard values: ['']"
      ],
      "text/plain": [
       "<IPython.core.display.HTML object>"
      ]
     },
     "metadata": {},
     "output_type": "display_data"
    },
    {
     "name": "stdout",
     "output_type": "stream",
     "text": [
      "\n"
     ]
    }
   ],
   "source": [
    "check_existing_missing_values(df_users)"
   ]
  },
  {
   "cell_type": "markdown",
   "id": "b06e035d",
   "metadata": {},
   "source": [
    "#### 3.3.2 Replacing missing values (pd.NA)"
   ]
  },
  {
   "cell_type": "code",
   "execution_count": 26,
   "id": "ac29c2bc",
   "metadata": {},
   "outputs": [
    {
     "data": {
      "application/vnd.microsoft.datawrangler.viewer.v0+json": {
       "columns": [
        {
         "name": "index",
         "rawType": "int64",
         "type": "integer"
        },
        {
         "name": "user_id",
         "rawType": "int64",
         "type": "integer"
        },
        {
         "name": "first_name",
         "rawType": "object",
         "type": "string"
        },
        {
         "name": "last_name",
         "rawType": "object",
         "type": "string"
        },
        {
         "name": "age",
         "rawType": "int64",
         "type": "integer"
        },
        {
         "name": "city",
         "rawType": "object",
         "type": "string"
        },
        {
         "name": "reg_date",
         "rawType": "object",
         "type": "string"
        },
        {
         "name": "plan",
         "rawType": "object",
         "type": "string"
        },
        {
         "name": "churn_date",
         "rawType": "object",
         "type": "unknown"
        }
       ],
       "ref": "6f6e8390-f986-4494-b8aa-e9993f00cd99",
       "rows": [
        [
         "0",
         "1000",
         "anamaria",
         "bauer",
         "45",
         "atlanta_sandy_springs_roswell,_ga_msa",
         "2018-12-24",
         "ultimate",
         null
        ],
        [
         "1",
         "1001",
         "mickey",
         "wilkerson",
         "28",
         "seattle_tacoma_bellevue,_wa_msa",
         "2018-08-13",
         "surf",
         null
        ],
        [
         "2",
         "1002",
         "carlee",
         "hoffman",
         "36",
         "las_vegas_henderson_paradise,_nv_msa",
         "2018-10-21",
         "surf",
         null
        ],
        [
         "3",
         "1003",
         "reynaldo",
         "jenkins",
         "52",
         "tulsa,_ok_msa",
         "2018-01-28",
         "surf",
         null
        ],
        [
         "4",
         "1004",
         "leonila",
         "thompson",
         "40",
         "seattle_tacoma_bellevue,_wa_msa",
         "2018-05-23",
         "surf",
         null
        ],
        [
         "5",
         "1005",
         "livia",
         "shields",
         "31",
         "dallas_fort_worth_arlington,_tx_msa",
         "2018-11-29",
         "surf",
         null
        ],
        [
         "6",
         "1006",
         "jesusa",
         "bradford",
         "73",
         "san_francisco_oakland_berkeley,_ca_msa",
         "2018-11-27",
         "ultimate",
         "2018-12-18"
        ],
        [
         "7",
         "1007",
         "eusebio",
         "welch",
         "42",
         "grand_rapids_kentwood,_mi_msa",
         "2018-07-11",
         "surf",
         null
        ],
        [
         "8",
         "1008",
         "emely",
         "hoffman",
         "53",
         "orlando_kissimmee_sanford,_fl_msa",
         "2018-08-03",
         "ultimate",
         null
        ],
        [
         "9",
         "1009",
         "gerry",
         "little",
         "19",
         "san_jose_sunnyvale_santa_clara,_ca_msa",
         "2018-04-22",
         "surf",
         null
        ],
        [
         "10",
         "1010",
         "wilber",
         "blair",
         "52",
         "dallas_fort_worth_arlington,_tx_msa",
         "2018-03-09",
         "surf",
         null
        ],
        [
         "11",
         "1011",
         "halina",
         "henry",
         "73",
         "cleveland_elyria,_oh_msa",
         "2018-01-18",
         "ultimate",
         null
        ],
        [
         "12",
         "1012",
         "jonelle",
         "mcbride",
         "59",
         "chicago_naperville_elgin,_il_in_wi_msa",
         "2018-06-28",
         "surf",
         "2018-11-16"
        ],
        [
         "13",
         "1013",
         "nicolas",
         "snider",
         "50",
         "knoxville,_tn_msa",
         "2018-12-01",
         "ultimate",
         null
        ],
        [
         "14",
         "1014",
         "edmundo",
         "simon",
         "61",
         "new_york_newark_jersey_city,_ny_nj_pa_msa",
         "2018-11-25",
         "surf",
         null
        ],
        [
         "15",
         "1015",
         "beata",
         "carpenter",
         "26",
         "pittsburgh,_pa_msa",
         "2018-12-05",
         "surf",
         null
        ],
        [
         "16",
         "1016",
         "jann",
         "salinas",
         "30",
         "fresno,_ca_msa",
         "2018-10-25",
         "surf",
         null
        ],
        [
         "17",
         "1017",
         "boris",
         "gates",
         "61",
         "washington_arlington_alexandria,_dc_va_md_wv_msa",
         "2018-08-26",
         "surf",
         null
        ],
        [
         "18",
         "1018",
         "dennis",
         "grimes",
         "70",
         "indianapolis_carmel_anderson,_in_msa",
         "2018-10-17",
         "surf",
         null
        ],
        [
         "19",
         "1019",
         "shizue",
         "landry",
         "34",
         "jacksonville,_fl_msa",
         "2018-01-16",
         "surf",
         null
        ],
        [
         "20",
         "1020",
         "rutha",
         "bell",
         "56",
         "dallas_fort_worth_arlington,_tx_msa",
         "2018-11-08",
         "surf",
         null
        ],
        [
         "21",
         "1021",
         "ricarda",
         "booker",
         "37",
         "los_angeles_long_beach_anaheim,_ca_msa",
         "2018-12-21",
         "surf",
         null
        ],
        [
         "22",
         "1022",
         "bo",
         "snow",
         "73",
         "new_york_newark_jersey_city,_ny_nj_pa_msa",
         "2018-04-20",
         "surf",
         "2018-09-07"
        ],
        [
         "23",
         "1023",
         "jack",
         "delaney",
         "70",
         "omaha_council_bluffs,_ne_ia_msa",
         "2018-07-06",
         "surf",
         null
        ],
        [
         "24",
         "1024",
         "yuki",
         "tyson",
         "74",
         "new_york_newark_jersey_city,_ny_nj_pa_msa",
         "2018-08-21",
         "surf",
         null
        ],
        [
         "25",
         "1025",
         "jess",
         "wilkinson",
         "64",
         "atlanta_sandy_springs_roswell,_ga_msa",
         "2018-10-28",
         "ultimate",
         null
        ],
        [
         "26",
         "1026",
         "meggan",
         "hamilton",
         "49",
         "houston_the_woodlands_sugar_land,_tx_msa",
         "2018-07-20",
         "ultimate",
         null
        ],
        [
         "27",
         "1027",
         "georgeanna",
         "cardenas",
         "38",
         "new_york_newark_jersey_city,_ny_nj_pa_msa",
         "2018-06-26",
         "surf",
         null
        ],
        [
         "28",
         "1028",
         "jefferey",
         "rasmussen",
         "57",
         "philadelphia_camden_wilmington,_pa_nj_de_md_msa",
         "2018-02-21",
         "ultimate",
         null
        ],
        [
         "29",
         "1029",
         "franklyn",
         "henson",
         "59",
         "tampa_st_petersburg_clearwater,_fl_msa",
         "2018-01-05",
         "surf",
         null
        ],
        [
         "30",
         "1030",
         "chase",
         "kane",
         "30",
         "chicago_naperville_elgin,_il_in_wi_msa",
         "2018-02-14",
         "ultimate",
         null
        ],
        [
         "31",
         "1031",
         "lane",
         "martin",
         "52",
         "new_york_newark_jersey_city,_ny_nj_pa_msa",
         "2018-07-15",
         "ultimate",
         null
        ],
        [
         "32",
         "1032",
         "delila",
         "dalton",
         "59",
         "birmingham_hoover,_al_msa",
         "2018-06-07",
         "ultimate",
         null
        ],
        [
         "33",
         "1033",
         "latoyia",
         "moran",
         "28",
         "oklahoma_city,_ok_msa",
         "2018-05-30",
         "ultimate",
         null
        ],
        [
         "34",
         "1034",
         "jc",
         "gentry",
         "22",
         "new_york_newark_jersey_city,_ny_nj_pa_msa",
         "2018-08-13",
         "surf",
         null
        ],
        [
         "35",
         "1035",
         "jeff",
         "cummings",
         "67",
         "charlotte_concord_gastonia,_nc_sc_msa",
         "2018-12-08",
         "surf",
         null
        ],
        [
         "36",
         "1036",
         "myron",
         "hodge",
         "70",
         "denver_aurora_lakewood,_co_msa",
         "2018-05-09",
         "ultimate",
         null
        ],
        [
         "37",
         "1037",
         "reena",
         "velazquez",
         "20",
         "seattle_tacoma_bellevue,_wa_msa",
         "2018-08-11",
         "ultimate",
         null
        ],
        [
         "38",
         "1038",
         "olympia",
         "velazquez",
         "32",
         "nashville_davidson_murfreesboro_franklin,_tn_msa",
         "2018-06-25",
         "ultimate",
         null
        ],
        [
         "39",
         "1039",
         "flo",
         "hicks",
         "56",
         "columbus,_oh_msa",
         "2018-05-30",
         "ultimate",
         null
        ],
        [
         "40",
         "1040",
         "paris",
         "santos",
         "72",
         "philadelphia_camden_wilmington,_pa_nj_de_md_msa",
         "2018-12-23",
         "surf",
         "2018-12-30"
        ],
        [
         "41",
         "1041",
         "drucilla",
         "lynn",
         "58",
         "las_vegas_henderson_paradise,_nv_msa",
         "2018-03-17",
         "ultimate",
         null
        ],
        [
         "42",
         "1042",
         "clementina",
         "mclaughlin",
         "40",
         "philadelphia_camden_wilmington,_pa_nj_de_md_msa",
         "2018-01-15",
         "surf",
         null
        ],
        [
         "43",
         "1043",
         "carlos",
         "hinton",
         "42",
         "new_york_newark_jersey_city,_ny_nj_pa_msa",
         "2018-06-20",
         "ultimate",
         null
        ],
        [
         "44",
         "1044",
         "devora",
         "galloway",
         "74",
         "albuquerque,_nm_msa",
         "2018-08-30",
         "surf",
         null
        ],
        [
         "45",
         "1045",
         "barney",
         "ortega",
         "20",
         "new_york_newark_jersey_city,_ny_nj_pa_msa",
         "2018-10-15",
         "surf",
         null
        ],
        [
         "46",
         "1046",
         "beata",
         "hooper",
         "67",
         "boston_cambridge_newton,_ma_nh_msa",
         "2018-02-19",
         "surf",
         null
        ],
        [
         "47",
         "1047",
         "yuk",
         "french",
         "22",
         "indianapolis_carmel_anderson,_in_msa",
         "2018-06-16",
         "ultimate",
         null
        ],
        [
         "48",
         "1048",
         "linwood",
         "terrell",
         "42",
         "miami_fort_lauderdale_west_palm_beach,_fl_msa",
         "2018-08-24",
         "surf",
         null
        ],
        [
         "49",
         "1049",
         "loise",
         "avery",
         "25",
         "new_york_newark_jersey_city,_ny_nj_pa_msa",
         "2018-02-21",
         "surf",
         null
        ]
       ],
       "shape": {
        "columns": 8,
        "rows": 500
       }
      },
      "text/html": [
       "<div>\n",
       "<style scoped>\n",
       "    .dataframe tbody tr th:only-of-type {\n",
       "        vertical-align: middle;\n",
       "    }\n",
       "\n",
       "    .dataframe tbody tr th {\n",
       "        vertical-align: top;\n",
       "    }\n",
       "\n",
       "    .dataframe thead th {\n",
       "        text-align: right;\n",
       "    }\n",
       "</style>\n",
       "<table border=\"1\" class=\"dataframe\">\n",
       "  <thead>\n",
       "    <tr style=\"text-align: right;\">\n",
       "      <th></th>\n",
       "      <th>user_id</th>\n",
       "      <th>first_name</th>\n",
       "      <th>last_name</th>\n",
       "      <th>age</th>\n",
       "      <th>city</th>\n",
       "      <th>reg_date</th>\n",
       "      <th>plan</th>\n",
       "      <th>churn_date</th>\n",
       "    </tr>\n",
       "  </thead>\n",
       "  <tbody>\n",
       "    <tr>\n",
       "      <th>0</th>\n",
       "      <td>1000</td>\n",
       "      <td>anamaria</td>\n",
       "      <td>bauer</td>\n",
       "      <td>45</td>\n",
       "      <td>atlanta_sandy_springs_roswell,_ga_msa</td>\n",
       "      <td>2018-12-24</td>\n",
       "      <td>ultimate</td>\n",
       "      <td>&lt;NA&gt;</td>\n",
       "    </tr>\n",
       "    <tr>\n",
       "      <th>1</th>\n",
       "      <td>1001</td>\n",
       "      <td>mickey</td>\n",
       "      <td>wilkerson</td>\n",
       "      <td>28</td>\n",
       "      <td>seattle_tacoma_bellevue,_wa_msa</td>\n",
       "      <td>2018-08-13</td>\n",
       "      <td>surf</td>\n",
       "      <td>&lt;NA&gt;</td>\n",
       "    </tr>\n",
       "    <tr>\n",
       "      <th>2</th>\n",
       "      <td>1002</td>\n",
       "      <td>carlee</td>\n",
       "      <td>hoffman</td>\n",
       "      <td>36</td>\n",
       "      <td>las_vegas_henderson_paradise,_nv_msa</td>\n",
       "      <td>2018-10-21</td>\n",
       "      <td>surf</td>\n",
       "      <td>&lt;NA&gt;</td>\n",
       "    </tr>\n",
       "    <tr>\n",
       "      <th>3</th>\n",
       "      <td>1003</td>\n",
       "      <td>reynaldo</td>\n",
       "      <td>jenkins</td>\n",
       "      <td>52</td>\n",
       "      <td>tulsa,_ok_msa</td>\n",
       "      <td>2018-01-28</td>\n",
       "      <td>surf</td>\n",
       "      <td>&lt;NA&gt;</td>\n",
       "    </tr>\n",
       "    <tr>\n",
       "      <th>4</th>\n",
       "      <td>1004</td>\n",
       "      <td>leonila</td>\n",
       "      <td>thompson</td>\n",
       "      <td>40</td>\n",
       "      <td>seattle_tacoma_bellevue,_wa_msa</td>\n",
       "      <td>2018-05-23</td>\n",
       "      <td>surf</td>\n",
       "      <td>&lt;NA&gt;</td>\n",
       "    </tr>\n",
       "    <tr>\n",
       "      <th>...</th>\n",
       "      <td>...</td>\n",
       "      <td>...</td>\n",
       "      <td>...</td>\n",
       "      <td>...</td>\n",
       "      <td>...</td>\n",
       "      <td>...</td>\n",
       "      <td>...</td>\n",
       "      <td>...</td>\n",
       "    </tr>\n",
       "    <tr>\n",
       "      <th>495</th>\n",
       "      <td>1495</td>\n",
       "      <td>fidel</td>\n",
       "      <td>sharpe</td>\n",
       "      <td>67</td>\n",
       "      <td>new_york_newark_jersey_city,_ny_nj_pa_msa</td>\n",
       "      <td>2018-09-04</td>\n",
       "      <td>surf</td>\n",
       "      <td>&lt;NA&gt;</td>\n",
       "    </tr>\n",
       "    <tr>\n",
       "      <th>496</th>\n",
       "      <td>1496</td>\n",
       "      <td>ariel</td>\n",
       "      <td>shepherd</td>\n",
       "      <td>49</td>\n",
       "      <td>new_orleans_metairie,_la_msa</td>\n",
       "      <td>2018-02-20</td>\n",
       "      <td>surf</td>\n",
       "      <td>&lt;NA&gt;</td>\n",
       "    </tr>\n",
       "    <tr>\n",
       "      <th>497</th>\n",
       "      <td>1497</td>\n",
       "      <td>donte</td>\n",
       "      <td>barrera</td>\n",
       "      <td>49</td>\n",
       "      <td>los_angeles_long_beach_anaheim,_ca_msa</td>\n",
       "      <td>2018-12-10</td>\n",
       "      <td>ultimate</td>\n",
       "      <td>&lt;NA&gt;</td>\n",
       "    </tr>\n",
       "    <tr>\n",
       "      <th>498</th>\n",
       "      <td>1498</td>\n",
       "      <td>scot</td>\n",
       "      <td>williamson</td>\n",
       "      <td>51</td>\n",
       "      <td>new_york_newark_jersey_city,_ny_nj_pa_msa</td>\n",
       "      <td>2018-02-04</td>\n",
       "      <td>surf</td>\n",
       "      <td>&lt;NA&gt;</td>\n",
       "    </tr>\n",
       "    <tr>\n",
       "      <th>499</th>\n",
       "      <td>1499</td>\n",
       "      <td>shena</td>\n",
       "      <td>dickson</td>\n",
       "      <td>37</td>\n",
       "      <td>orlando_kissimmee_sanford,_fl_msa</td>\n",
       "      <td>2018-05-06</td>\n",
       "      <td>surf</td>\n",
       "      <td>&lt;NA&gt;</td>\n",
       "    </tr>\n",
       "  </tbody>\n",
       "</table>\n",
       "<p>500 rows × 8 columns</p>\n",
       "</div>"
      ],
      "text/plain": [
       "     user_id first_name   last_name  age                                       city    reg_date      plan churn_date\n",
       "0       1000   anamaria       bauer   45      atlanta_sandy_springs_roswell,_ga_msa  2018-12-24  ultimate       <NA>\n",
       "1       1001     mickey   wilkerson   28            seattle_tacoma_bellevue,_wa_msa  2018-08-13      surf       <NA>\n",
       "2       1002     carlee     hoffman   36       las_vegas_henderson_paradise,_nv_msa  2018-10-21      surf       <NA>\n",
       "3       1003   reynaldo     jenkins   52                              tulsa,_ok_msa  2018-01-28      surf       <NA>\n",
       "4       1004    leonila    thompson   40            seattle_tacoma_bellevue,_wa_msa  2018-05-23      surf       <NA>\n",
       "..       ...        ...         ...  ...                                        ...         ...       ...        ...\n",
       "495     1495      fidel      sharpe   67  new_york_newark_jersey_city,_ny_nj_pa_msa  2018-09-04      surf       <NA>\n",
       "496     1496      ariel    shepherd   49               new_orleans_metairie,_la_msa  2018-02-20      surf       <NA>\n",
       "497     1497      donte     barrera   49     los_angeles_long_beach_anaheim,_ca_msa  2018-12-10  ultimate       <NA>\n",
       "498     1498       scot  williamson   51  new_york_newark_jersey_city,_ny_nj_pa_msa  2018-02-04      surf       <NA>\n",
       "499     1499      shena     dickson   37          orlando_kissimmee_sanford,_fl_msa  2018-05-06      surf       <NA>\n",
       "\n",
       "[500 rows x 8 columns]"
      ]
     },
     "execution_count": 26,
     "metadata": {},
     "output_type": "execute_result"
    }
   ],
   "source": [
    "# Replace missing values with pd.NA\n",
    "df_users = replace_missing_values(df_users, include=['churn_date'])\n",
    "df_users"
   ]
  },
  {
   "cell_type": "markdown",
   "id": "c916cd64",
   "metadata": {},
   "source": [
    "#### 3.3.3 Preview missing values"
   ]
  },
  {
   "cell_type": "code",
   "execution_count": 27,
   "id": "d06fa1d4",
   "metadata": {},
   "outputs": [
    {
     "data": {
      "image/png": "[encoded data removed]",
      "text/plain": [
       "<Figure size 1500x700 with 1 Axes>"
      ]
     },
     "metadata": {},
     "output_type": "display_data"
    }
   ],
   "source": [
    "# Show missing values heatmap\n",
    "missing_values_heatmap(df_users)"
   ]
  },
  {
   "cell_type": "code",
   "execution_count": 28,
   "id": "4a3cc7ad",
   "metadata": {},
   "outputs": [
    {
     "data": {
      "application/vnd.microsoft.datawrangler.viewer.v0+json": {
       "columns": [
        {
         "name": "index",
         "rawType": "int64",
         "type": "integer"
        },
        {
         "name": "user_id",
         "rawType": "int64",
         "type": "integer"
        },
        {
         "name": "first_name",
         "rawType": "object",
         "type": "string"
        },
        {
         "name": "last_name",
         "rawType": "object",
         "type": "string"
        },
        {
         "name": "age",
         "rawType": "int64",
         "type": "integer"
        },
        {
         "name": "city",
         "rawType": "object",
         "type": "string"
        },
        {
         "name": "reg_date",
         "rawType": "object",
         "type": "string"
        },
        {
         "name": "plan",
         "rawType": "object",
         "type": "string"
        },
        {
         "name": "churn_date",
         "rawType": "object",
         "type": "unknown"
        }
       ],
       "ref": "51416b6a-e1fe-44b3-a4db-b020521e1c6e",
       "rows": [
        [
         "0",
         "1000",
         "anamaria",
         "bauer",
         "45",
         "atlanta_sandy_springs_roswell,_ga_msa",
         "2018-12-24",
         "ultimate",
         null
        ],
        [
         "1",
         "1001",
         "mickey",
         "wilkerson",
         "28",
         "seattle_tacoma_bellevue,_wa_msa",
         "2018-08-13",
         "surf",
         null
        ],
        [
         "2",
         "1002",
         "carlee",
         "hoffman",
         "36",
         "las_vegas_henderson_paradise,_nv_msa",
         "2018-10-21",
         "surf",
         null
        ],
        [
         "3",
         "1003",
         "reynaldo",
         "jenkins",
         "52",
         "tulsa,_ok_msa",
         "2018-01-28",
         "surf",
         null
        ],
        [
         "4",
         "1004",
         "leonila",
         "thompson",
         "40",
         "seattle_tacoma_bellevue,_wa_msa",
         "2018-05-23",
         "surf",
         null
        ],
        [
         "5",
         "1005",
         "livia",
         "shields",
         "31",
         "dallas_fort_worth_arlington,_tx_msa",
         "2018-11-29",
         "surf",
         null
        ],
        [
         "7",
         "1007",
         "eusebio",
         "welch",
         "42",
         "grand_rapids_kentwood,_mi_msa",
         "2018-07-11",
         "surf",
         null
        ],
        [
         "8",
         "1008",
         "emely",
         "hoffman",
         "53",
         "orlando_kissimmee_sanford,_fl_msa",
         "2018-08-03",
         "ultimate",
         null
        ],
        [
         "9",
         "1009",
         "gerry",
         "little",
         "19",
         "san_jose_sunnyvale_santa_clara,_ca_msa",
         "2018-04-22",
         "surf",
         null
        ],
        [
         "10",
         "1010",
         "wilber",
         "blair",
         "52",
         "dallas_fort_worth_arlington,_tx_msa",
         "2018-03-09",
         "surf",
         null
        ],
        [
         "11",
         "1011",
         "halina",
         "henry",
         "73",
         "cleveland_elyria,_oh_msa",
         "2018-01-18",
         "ultimate",
         null
        ],
        [
         "13",
         "1013",
         "nicolas",
         "snider",
         "50",
         "knoxville,_tn_msa",
         "2018-12-01",
         "ultimate",
         null
        ],
        [
         "14",
         "1014",
         "edmundo",
         "simon",
         "61",
         "new_york_newark_jersey_city,_ny_nj_pa_msa",
         "2018-11-25",
         "surf",
         null
        ],
        [
         "15",
         "1015",
         "beata",
         "carpenter",
         "26",
         "pittsburgh,_pa_msa",
         "2018-12-05",
         "surf",
         null
        ],
        [
         "16",
         "1016",
         "jann",
         "salinas",
         "30",
         "fresno,_ca_msa",
         "2018-10-25",
         "surf",
         null
        ],
        [
         "17",
         "1017",
         "boris",
         "gates",
         "61",
         "washington_arlington_alexandria,_dc_va_md_wv_msa",
         "2018-08-26",
         "surf",
         null
        ],
        [
         "18",
         "1018",
         "dennis",
         "grimes",
         "70",
         "indianapolis_carmel_anderson,_in_msa",
         "2018-10-17",
         "surf",
         null
        ],
        [
         "19",
         "1019",
         "shizue",
         "landry",
         "34",
         "jacksonville,_fl_msa",
         "2018-01-16",
         "surf",
         null
        ],
        [
         "20",
         "1020",
         "rutha",
         "bell",
         "56",
         "dallas_fort_worth_arlington,_tx_msa",
         "2018-11-08",
         "surf",
         null
        ],
        [
         "21",
         "1021",
         "ricarda",
         "booker",
         "37",
         "los_angeles_long_beach_anaheim,_ca_msa",
         "2018-12-21",
         "surf",
         null
        ],
        [
         "23",
         "1023",
         "jack",
         "delaney",
         "70",
         "omaha_council_bluffs,_ne_ia_msa",
         "2018-07-06",
         "surf",
         null
        ],
        [
         "24",
         "1024",
         "yuki",
         "tyson",
         "74",
         "new_york_newark_jersey_city,_ny_nj_pa_msa",
         "2018-08-21",
         "surf",
         null
        ],
        [
         "25",
         "1025",
         "jess",
         "wilkinson",
         "64",
         "atlanta_sandy_springs_roswell,_ga_msa",
         "2018-10-28",
         "ultimate",
         null
        ],
        [
         "26",
         "1026",
         "meggan",
         "hamilton",
         "49",
         "houston_the_woodlands_sugar_land,_tx_msa",
         "2018-07-20",
         "ultimate",
         null
        ],
        [
         "27",
         "1027",
         "georgeanna",
         "cardenas",
         "38",
         "new_york_newark_jersey_city,_ny_nj_pa_msa",
         "2018-06-26",
         "surf",
         null
        ],
        [
         "28",
         "1028",
         "jefferey",
         "rasmussen",
         "57",
         "philadelphia_camden_wilmington,_pa_nj_de_md_msa",
         "2018-02-21",
         "ultimate",
         null
        ],
        [
         "29",
         "1029",
         "franklyn",
         "henson",
         "59",
         "tampa_st_petersburg_clearwater,_fl_msa",
         "2018-01-05",
         "surf",
         null
        ],
        [
         "30",
         "1030",
         "chase",
         "kane",
         "30",
         "chicago_naperville_elgin,_il_in_wi_msa",
         "2018-02-14",
         "ultimate",
         null
        ],
        [
         "31",
         "1031",
         "lane",
         "martin",
         "52",
         "new_york_newark_jersey_city,_ny_nj_pa_msa",
         "2018-07-15",
         "ultimate",
         null
        ],
        [
         "32",
         "1032",
         "delila",
         "dalton",
         "59",
         "birmingham_hoover,_al_msa",
         "2018-06-07",
         "ultimate",
         null
        ],
        [
         "33",
         "1033",
         "latoyia",
         "moran",
         "28",
         "oklahoma_city,_ok_msa",
         "2018-05-30",
         "ultimate",
         null
        ],
        [
         "34",
         "1034",
         "jc",
         "gentry",
         "22",
         "new_york_newark_jersey_city,_ny_nj_pa_msa",
         "2018-08-13",
         "surf",
         null
        ],
        [
         "35",
         "1035",
         "jeff",
         "cummings",
         "67",
         "charlotte_concord_gastonia,_nc_sc_msa",
         "2018-12-08",
         "surf",
         null
        ],
        [
         "36",
         "1036",
         "myron",
         "hodge",
         "70",
         "denver_aurora_lakewood,_co_msa",
         "2018-05-09",
         "ultimate",
         null
        ],
        [
         "37",
         "1037",
         "reena",
         "velazquez",
         "20",
         "seattle_tacoma_bellevue,_wa_msa",
         "2018-08-11",
         "ultimate",
         null
        ],
        [
         "38",
         "1038",
         "olympia",
         "velazquez",
         "32",
         "nashville_davidson_murfreesboro_franklin,_tn_msa",
         "2018-06-25",
         "ultimate",
         null
        ],
        [
         "39",
         "1039",
         "flo",
         "hicks",
         "56",
         "columbus,_oh_msa",
         "2018-05-30",
         "ultimate",
         null
        ],
        [
         "41",
         "1041",
         "drucilla",
         "lynn",
         "58",
         "las_vegas_henderson_paradise,_nv_msa",
         "2018-03-17",
         "ultimate",
         null
        ],
        [
         "42",
         "1042",
         "clementina",
         "mclaughlin",
         "40",
         "philadelphia_camden_wilmington,_pa_nj_de_md_msa",
         "2018-01-15",
         "surf",
         null
        ],
        [
         "43",
         "1043",
         "carlos",
         "hinton",
         "42",
         "new_york_newark_jersey_city,_ny_nj_pa_msa",
         "2018-06-20",
         "ultimate",
         null
        ],
        [
         "44",
         "1044",
         "devora",
         "galloway",
         "74",
         "albuquerque,_nm_msa",
         "2018-08-30",
         "surf",
         null
        ],
        [
         "45",
         "1045",
         "barney",
         "ortega",
         "20",
         "new_york_newark_jersey_city,_ny_nj_pa_msa",
         "2018-10-15",
         "surf",
         null
        ],
        [
         "46",
         "1046",
         "beata",
         "hooper",
         "67",
         "boston_cambridge_newton,_ma_nh_msa",
         "2018-02-19",
         "surf",
         null
        ],
        [
         "47",
         "1047",
         "yuk",
         "french",
         "22",
         "indianapolis_carmel_anderson,_in_msa",
         "2018-06-16",
         "ultimate",
         null
        ],
        [
         "48",
         "1048",
         "linwood",
         "terrell",
         "42",
         "miami_fort_lauderdale_west_palm_beach,_fl_msa",
         "2018-08-24",
         "surf",
         null
        ],
        [
         "49",
         "1049",
         "loise",
         "avery",
         "25",
         "new_york_newark_jersey_city,_ny_nj_pa_msa",
         "2018-02-21",
         "surf",
         null
        ],
        [
         "51",
         "1051",
         "rosario",
         "gibbs",
         "55",
         "san_diego_chula_vista_carlsbad,_ca_msa",
         "2018-12-11",
         "surf",
         null
        ],
        [
         "52",
         "1052",
         "edmond",
         "hopkins",
         "47",
         "houston_the_woodlands_sugar_land,_tx_msa",
         "2018-03-05",
         "surf",
         null
        ],
        [
         "53",
         "1053",
         "piper",
         "espinoza",
         "27",
         "new_york_newark_jersey_city,_ny_nj_pa_msa",
         "2018-07-30",
         "surf",
         null
        ],
        [
         "55",
         "1055",
         "patrick",
         "mclean",
         "52",
         "portland_vancouver_hillsboro,_or_wa_msa",
         "2018-01-13",
         "surf",
         null
        ]
       ],
       "shape": {
        "columns": 8,
        "rows": 466
       }
      },
      "text/html": [
       "<div>\n",
       "<style scoped>\n",
       "    .dataframe tbody tr th:only-of-type {\n",
       "        vertical-align: middle;\n",
       "    }\n",
       "\n",
       "    .dataframe tbody tr th {\n",
       "        vertical-align: top;\n",
       "    }\n",
       "\n",
       "    .dataframe thead th {\n",
       "        text-align: right;\n",
       "    }\n",
       "</style>\n",
       "<table border=\"1\" class=\"dataframe\">\n",
       "  <thead>\n",
       "    <tr style=\"text-align: right;\">\n",
       "      <th></th>\n",
       "      <th>user_id</th>\n",
       "      <th>first_name</th>\n",
       "      <th>last_name</th>\n",
       "      <th>age</th>\n",
       "      <th>city</th>\n",
       "      <th>reg_date</th>\n",
       "      <th>plan</th>\n",
       "      <th>churn_date</th>\n",
       "    </tr>\n",
       "  </thead>\n",
       "  <tbody>\n",
       "    <tr>\n",
       "      <th>0</th>\n",
       "      <td>1000</td>\n",
       "      <td>anamaria</td>\n",
       "      <td>bauer</td>\n",
       "      <td>45</td>\n",
       "      <td>atlanta_sandy_springs_roswell,_ga_msa</td>\n",
       "      <td>2018-12-24</td>\n",
       "      <td>ultimate</td>\n",
       "      <td>&lt;NA&gt;</td>\n",
       "    </tr>\n",
       "    <tr>\n",
       "      <th>1</th>\n",
       "      <td>1001</td>\n",
       "      <td>mickey</td>\n",
       "      <td>wilkerson</td>\n",
       "      <td>28</td>\n",
       "      <td>seattle_tacoma_bellevue,_wa_msa</td>\n",
       "      <td>2018-08-13</td>\n",
       "      <td>surf</td>\n",
       "      <td>&lt;NA&gt;</td>\n",
       "    </tr>\n",
       "    <tr>\n",
       "      <th>2</th>\n",
       "      <td>1002</td>\n",
       "      <td>carlee</td>\n",
       "      <td>hoffman</td>\n",
       "      <td>36</td>\n",
       "      <td>las_vegas_henderson_paradise,_nv_msa</td>\n",
       "      <td>2018-10-21</td>\n",
       "      <td>surf</td>\n",
       "      <td>&lt;NA&gt;</td>\n",
       "    </tr>\n",
       "    <tr>\n",
       "      <th>3</th>\n",
       "      <td>1003</td>\n",
       "      <td>reynaldo</td>\n",
       "      <td>jenkins</td>\n",
       "      <td>52</td>\n",
       "      <td>tulsa,_ok_msa</td>\n",
       "      <td>2018-01-28</td>\n",
       "      <td>surf</td>\n",
       "      <td>&lt;NA&gt;</td>\n",
       "    </tr>\n",
       "    <tr>\n",
       "      <th>4</th>\n",
       "      <td>1004</td>\n",
       "      <td>leonila</td>\n",
       "      <td>thompson</td>\n",
       "      <td>40</td>\n",
       "      <td>seattle_tacoma_bellevue,_wa_msa</td>\n",
       "      <td>2018-05-23</td>\n",
       "      <td>surf</td>\n",
       "      <td>&lt;NA&gt;</td>\n",
       "    </tr>\n",
       "    <tr>\n",
       "      <th>...</th>\n",
       "      <td>...</td>\n",
       "      <td>...</td>\n",
       "      <td>...</td>\n",
       "      <td>...</td>\n",
       "      <td>...</td>\n",
       "      <td>...</td>\n",
       "      <td>...</td>\n",
       "      <td>...</td>\n",
       "    </tr>\n",
       "    <tr>\n",
       "      <th>495</th>\n",
       "      <td>1495</td>\n",
       "      <td>fidel</td>\n",
       "      <td>sharpe</td>\n",
       "      <td>67</td>\n",
       "      <td>new_york_newark_jersey_city,_ny_nj_pa_msa</td>\n",
       "      <td>2018-09-04</td>\n",
       "      <td>surf</td>\n",
       "      <td>&lt;NA&gt;</td>\n",
       "    </tr>\n",
       "    <tr>\n",
       "      <th>496</th>\n",
       "      <td>1496</td>\n",
       "      <td>ariel</td>\n",
       "      <td>shepherd</td>\n",
       "      <td>49</td>\n",
       "      <td>new_orleans_metairie,_la_msa</td>\n",
       "      <td>2018-02-20</td>\n",
       "      <td>surf</td>\n",
       "      <td>&lt;NA&gt;</td>\n",
       "    </tr>\n",
       "    <tr>\n",
       "      <th>497</th>\n",
       "      <td>1497</td>\n",
       "      <td>donte</td>\n",
       "      <td>barrera</td>\n",
       "      <td>49</td>\n",
       "      <td>los_angeles_long_beach_anaheim,_ca_msa</td>\n",
       "      <td>2018-12-10</td>\n",
       "      <td>ultimate</td>\n",
       "      <td>&lt;NA&gt;</td>\n",
       "    </tr>\n",
       "    <tr>\n",
       "      <th>498</th>\n",
       "      <td>1498</td>\n",
       "      <td>scot</td>\n",
       "      <td>williamson</td>\n",
       "      <td>51</td>\n",
       "      <td>new_york_newark_jersey_city,_ny_nj_pa_msa</td>\n",
       "      <td>2018-02-04</td>\n",
       "      <td>surf</td>\n",
       "      <td>&lt;NA&gt;</td>\n",
       "    </tr>\n",
       "    <tr>\n",
       "      <th>499</th>\n",
       "      <td>1499</td>\n",
       "      <td>shena</td>\n",
       "      <td>dickson</td>\n",
       "      <td>37</td>\n",
       "      <td>orlando_kissimmee_sanford,_fl_msa</td>\n",
       "      <td>2018-05-06</td>\n",
       "      <td>surf</td>\n",
       "      <td>&lt;NA&gt;</td>\n",
       "    </tr>\n",
       "  </tbody>\n",
       "</table>\n",
       "<p>466 rows × 8 columns</p>\n",
       "</div>"
      ],
      "text/plain": [
       "     user_id first_name   last_name  age                                       city    reg_date      plan churn_date\n",
       "0       1000   anamaria       bauer   45      atlanta_sandy_springs_roswell,_ga_msa  2018-12-24  ultimate       <NA>\n",
       "1       1001     mickey   wilkerson   28            seattle_tacoma_bellevue,_wa_msa  2018-08-13      surf       <NA>\n",
       "2       1002     carlee     hoffman   36       las_vegas_henderson_paradise,_nv_msa  2018-10-21      surf       <NA>\n",
       "3       1003   reynaldo     jenkins   52                              tulsa,_ok_msa  2018-01-28      surf       <NA>\n",
       "4       1004    leonila    thompson   40            seattle_tacoma_bellevue,_wa_msa  2018-05-23      surf       <NA>\n",
       "..       ...        ...         ...  ...                                        ...         ...       ...        ...\n",
       "495     1495      fidel      sharpe   67  new_york_newark_jersey_city,_ny_nj_pa_msa  2018-09-04      surf       <NA>\n",
       "496     1496      ariel    shepherd   49               new_orleans_metairie,_la_msa  2018-02-20      surf       <NA>\n",
       "497     1497      donte     barrera   49     los_angeles_long_beach_anaheim,_ca_msa  2018-12-10  ultimate       <NA>\n",
       "498     1498       scot  williamson   51  new_york_newark_jersey_city,_ny_nj_pa_msa  2018-02-04      surf       <NA>\n",
       "499     1499      shena     dickson   37          orlando_kissimmee_sanford,_fl_msa  2018-05-06      surf       <NA>\n",
       "\n",
       "[466 rows x 8 columns]"
      ]
     },
     "execution_count": 28,
     "metadata": {},
     "output_type": "execute_result"
    }
   ],
   "source": [
    "# Show pd.NA missing values for 'shurn_date' column\n",
    "mask = df_users['churn_date'].isna()\n",
    "df_users.loc[mask, :]"
   ]
  },
  {
   "cell_type": "markdown",
   "id": "e959c190",
   "metadata": {},
   "source": [
    "#### 3.3.4  Missing values data imputation"
   ]
  },
  {
   "cell_type": "code",
   "execution_count": 29,
   "id": "eb3a8620",
   "metadata": {},
   "outputs": [],
   "source": [
    "# Handle df_orders pd.NA missing values within 'churn_date' column\n",
    "# According to the dictionary, churn_date = the date the user stopped using the service (if the value is missing, \n",
    "# the plan was in use when this database was retrieved)"
   ]
  },
  {
   "cell_type": "markdown",
   "id": "20e36a3f",
   "metadata": {},
   "source": [
    "##### `LSPL`\n",
    "\n",
    "**Note:** \n",
    "\n",
    "1. Missing values in __df_users__, _churn_dater_ column\n",
    "\n",
    "Missing values in the `churn_date` column occur exclusively on rows where the plan was in use, indicating that the plan is still active and being used by the user.\n",
    "\n",
    "__Solution__: All missing values in `churn_date` will be left as pd.NA. This preserves the column identifying correctly the active users against the non-active users represented by a date (the date the user stopped using the service). No imputation will be done.\n",
    "\n",
    "__Impact__: Identifying users with pd.NA, will help differentitate correctly the inactive users.\n",
    "\n"
   ]
  },
  {
   "cell_type": "markdown",
   "id": "33af8b36",
   "metadata": {},
   "source": [
    "### 3.4 Implicit duplicates"
   ]
  },
  {
   "cell_type": "markdown",
   "id": "9db00f22",
   "metadata": {},
   "source": [
    "#### 3.4.1 Implicit duplicates check"
   ]
  },
  {
   "cell_type": "code",
   "execution_count": 30,
   "id": "a4aa4ca1",
   "metadata": {},
   "outputs": [],
   "source": [
    "# Show implicit duplicates df_aisles\n",
    "# Not required"
   ]
  },
  {
   "cell_type": "markdown",
   "id": "a82bd0b0",
   "metadata": {},
   "source": [
    "#### 3.4.2 Implicit duplicates data imputation"
   ]
  },
  {
   "cell_type": "code",
   "execution_count": 31,
   "id": "1797a4f8",
   "metadata": {},
   "outputs": [],
   "source": [
    "# Not required"
   ]
  },
  {
   "cell_type": "markdown",
   "id": "404b7e2b",
   "metadata": {},
   "source": [
    "### 3.5 Casting data types"
   ]
  },
  {
   "cell_type": "markdown",
   "id": "680c7814",
   "metadata": {},
   "source": [
    "#### 3.5.1 Casting to string data type"
   ]
  },
  {
   "cell_type": "code",
   "execution_count": 32,
   "id": "4227bb25",
   "metadata": {},
   "outputs": [
    {
     "data": {
      "text/plain": [
       "string[python]"
      ]
     },
     "execution_count": 32,
     "metadata": {},
     "output_type": "execute_result"
    }
   ],
   "source": [
    "# df_users 'first_name' to string\n",
    "df_users['first_name'] = df_users['first_name'].astype('string')\n",
    "df_users['first_name'].dtypes"
   ]
  },
  {
   "cell_type": "code",
   "execution_count": 33,
   "id": "93a50f82",
   "metadata": {},
   "outputs": [
    {
     "data": {
      "text/plain": [
       "string[python]"
      ]
     },
     "execution_count": 33,
     "metadata": {},
     "output_type": "execute_result"
    }
   ],
   "source": [
    "# df_users 'last_name' to string\n",
    "df_users['last_name'] = df_users['last_name'].astype('string')\n",
    "df_users['last_name'].dtypes"
   ]
  },
  {
   "cell_type": "code",
   "execution_count": 34,
   "id": "3a4e9e3f",
   "metadata": {},
   "outputs": [
    {
     "data": {
      "text/plain": [
       "string[python]"
      ]
     },
     "execution_count": 34,
     "metadata": {},
     "output_type": "execute_result"
    }
   ],
   "source": [
    "# df_users 'city to string\n",
    "df_users['city'] = df_users['city'].astype('string')\n",
    "df_users['city'].dtypes"
   ]
  },
  {
   "cell_type": "markdown",
   "id": "57bf9f3d",
   "metadata": {},
   "source": [
    "#### 3.5.2 Casting to numeric data type"
   ]
  },
  {
   "cell_type": "code",
   "execution_count": null,
   "id": "7589bc17",
   "metadata": {},
   "outputs": [],
   "source": [
    "# No Need"
   ]
  },
  {
   "cell_type": "markdown",
   "id": "9cbe18a0",
   "metadata": {},
   "source": [
    "#### 3.5.3 Casting to category data type"
   ]
  },
  {
   "cell_type": "code",
   "execution_count": 37,
   "id": "c7a37aa3",
   "metadata": {},
   "outputs": [
    {
     "data": {
      "text/plain": [
       "CategoricalDtype(categories=['surf', 'ultimate'], ordered=False, categories_dtype=object)"
      ]
     },
     "execution_count": 37,
     "metadata": {},
     "output_type": "execute_result"
    }
   ],
   "source": [
    "# df_plans 'plan_name' to category\n",
    "df_plans['plan_name'] = df_plans['plan_name'].astype('category')\n",
    "df_plans['plan_name'].dtypes\n"
   ]
  },
  {
   "cell_type": "code",
   "execution_count": 39,
   "id": "528046c7",
   "metadata": {},
   "outputs": [
    {
     "data": {
      "text/plain": [
       "CategoricalDtype(categories=['surf', 'ultimate'], ordered=False, categories_dtype=object)"
      ]
     },
     "execution_count": 39,
     "metadata": {},
     "output_type": "execute_result"
    }
   ],
   "source": [
    "# df_users 'plan' to category\n",
    "df_users['plan'] = df_users['plan'].astype('category')\n",
    "df_users['plan'].dtypes"
   ]
  },
  {
   "cell_type": "markdown",
   "id": "3d18070f",
   "metadata": {},
   "source": [
    "#### 3.5.4 Casting to boolean data type"
   ]
  },
  {
   "cell_type": "code",
   "execution_count": null,
   "id": "63a80f05",
   "metadata": {},
   "outputs": [],
   "source": [
    "# No need\n"
   ]
  },
  {
   "cell_type": "markdown",
   "id": "2e05402a",
   "metadata": {},
   "source": [
    "## __4. Final cleaning dataframe review__"
   ]
  },
  {
   "cell_type": "code",
   "execution_count": 40,
   "id": "f65c3ff3",
   "metadata": {},
   "outputs": [
    {
     "name": "stdout",
     "output_type": "stream",
     "text": [
      "<class 'pandas.core.frame.DataFrame'>\n",
      "RangeIndex: 137735 entries, 0 to 137734\n",
      "Data columns (total 4 columns):\n",
      " #   Column     Non-Null Count   Dtype  \n",
      "---  ------     --------------   -----  \n",
      " 0   call_id    137735 non-null  object \n",
      " 1   user_id    137735 non-null  int64  \n",
      " 2   call_date  137735 non-null  object \n",
      " 3   duration   137735 non-null  float64\n",
      "dtypes: float64(1), int64(1), object(2)\n",
      "memory usage: 4.2+ MB\n"
     ]
    }
   ],
   "source": [
    "df_calls.info()"
   ]
  },
  {
   "cell_type": "code",
   "execution_count": 41,
   "id": "d95c8af7",
   "metadata": {},
   "outputs": [
    {
     "name": "stdout",
     "output_type": "stream",
     "text": [
      "<class 'pandas.core.frame.DataFrame'>\n",
      "RangeIndex: 104825 entries, 0 to 104824\n",
      "Data columns (total 4 columns):\n",
      " #   Column        Non-Null Count   Dtype  \n",
      "---  ------        --------------   -----  \n",
      " 0   session_id    104825 non-null  object \n",
      " 1   user_id       104825 non-null  int64  \n",
      " 2   session_date  104825 non-null  object \n",
      " 3   mb_used       104825 non-null  float64\n",
      "dtypes: float64(1), int64(1), object(2)\n",
      "memory usage: 3.2+ MB\n"
     ]
    }
   ],
   "source": [
    "df_internet.info()"
   ]
  },
  {
   "cell_type": "code",
   "execution_count": 42,
   "id": "1fc1cf91",
   "metadata": {},
   "outputs": [
    {
     "name": "stdout",
     "output_type": "stream",
     "text": [
      "<class 'pandas.core.frame.DataFrame'>\n",
      "RangeIndex: 76051 entries, 0 to 76050\n",
      "Data columns (total 3 columns):\n",
      " #   Column        Non-Null Count  Dtype \n",
      "---  ------        --------------  ----- \n",
      " 0   message_id    76051 non-null  object\n",
      " 1   user_id       76051 non-null  int64 \n",
      " 2   message_date  76051 non-null  object\n",
      "dtypes: int64(1), object(2)\n",
      "memory usage: 1.7+ MB\n"
     ]
    }
   ],
   "source": [
    "df_messages.info()"
   ]
  },
  {
   "cell_type": "code",
   "execution_count": 43,
   "id": "aa3e504f",
   "metadata": {},
   "outputs": [
    {
     "name": "stdout",
     "output_type": "stream",
     "text": [
      "<class 'pandas.core.frame.DataFrame'>\n",
      "RangeIndex: 2 entries, 0 to 1\n",
      "Data columns (total 8 columns):\n",
      " #   Column                 Non-Null Count  Dtype   \n",
      "---  ------                 --------------  -----   \n",
      " 0   messages_included      2 non-null      int64   \n",
      " 1   mb_per_month_included  2 non-null      int64   \n",
      " 2   minutes_included       2 non-null      int64   \n",
      " 3   usd_monthly_pay        2 non-null      int64   \n",
      " 4   usd_per_gb             2 non-null      int64   \n",
      " 5   usd_per_message        2 non-null      float64 \n",
      " 6   usd_per_minute         2 non-null      float64 \n",
      " 7   plan_name              2 non-null      category\n",
      "dtypes: category(1), float64(2), int64(5)\n",
      "memory usage: 370.0 bytes\n"
     ]
    }
   ],
   "source": [
    "df_plans.info()"
   ]
  },
  {
   "cell_type": "code",
   "execution_count": 44,
   "id": "9609e36c",
   "metadata": {},
   "outputs": [
    {
     "name": "stdout",
     "output_type": "stream",
     "text": [
      "<class 'pandas.core.frame.DataFrame'>\n",
      "RangeIndex: 500 entries, 0 to 499\n",
      "Data columns (total 8 columns):\n",
      " #   Column      Non-Null Count  Dtype   \n",
      "---  ------      --------------  -----   \n",
      " 0   user_id     500 non-null    int64   \n",
      " 1   first_name  500 non-null    string  \n",
      " 2   last_name   500 non-null    string  \n",
      " 3   age         500 non-null    int64   \n",
      " 4   city        500 non-null    string  \n",
      " 5   reg_date    500 non-null    object  \n",
      " 6   plan        500 non-null    category\n",
      " 7   churn_date  34 non-null     object  \n",
      "dtypes: category(1), int64(2), object(2), string(3)\n",
      "memory usage: 28.1+ KB\n"
     ]
    }
   ],
   "source": [
    "df_users.info()"
   ]
  },
  {
   "cell_type": "markdown",
   "id": "d1c7b3ee",
   "metadata": {},
   "source": [
    "## __5. Generate a new clean Data set .csv file__"
   ]
  },
  {
   "cell_type": "code",
   "execution_count": 45,
   "id": "594c9231",
   "metadata": {},
   "outputs": [],
   "source": [
    "project_root = Path.cwd().parent\n",
    "processed_path = project_root / \"data\" / \"processed\" / \"calls_clean.csv\"\n",
    "df_calls.to_csv(processed_path, index=False)"
   ]
  },
  {
   "cell_type": "code",
   "execution_count": 46,
   "id": "3ad5fce3",
   "metadata": {},
   "outputs": [],
   "source": [
    "processed_path = project_root / \"data\" / \"processed\" / \"internet_clean.csv\"\n",
    "df_internet.to_csv(processed_path, index=False)"
   ]
  },
  {
   "cell_type": "code",
   "execution_count": 47,
   "id": "46e822f6",
   "metadata": {},
   "outputs": [],
   "source": [
    "processed_path = project_root / \"data\" / \"processed\" / \"messages_clean.csv\"\n",
    "df_messages.to_csv(processed_path, index=False)"
   ]
  },
  {
   "cell_type": "code",
   "execution_count": 48,
   "id": "30ac08ca",
   "metadata": {},
   "outputs": [],
   "source": [
    "processed_path = project_root / \"data\" / \"processed\" / \"plans_clean.csv\"\n",
    "df_plans.to_csv(processed_path, index=False)"
   ]
  },
  {
   "cell_type": "code",
   "execution_count": 49,
   "id": "ba536bcf",
   "metadata": {},
   "outputs": [],
   "source": [
    "processed_path = project_root / \"data\" / \"processed\" / \"users_clean.csv\"\n",
    "df_users.to_csv(processed_path, index=False)"
   ]
  }
 ],
 "metadata": {
  "kernelspec": {
   "display_name": "Win11_Python-PipVenv-Github-Hmb7GD39",
   "language": "python",
   "name": "python3"
  },
  "language_info": {
   "codemirror_mode": {
    "name": "ipython",
    "version": 3
   },
   "file_extension": ".py",
   "mimetype": "text/x-python",
   "name": "python",
   "nbconvert_exporter": "python",
   "pygments_lexer": "ipython3",
   "version": "3.13.2"
  }
 },
 "nbformat": 4,
 "nbformat_minor": 5
}
